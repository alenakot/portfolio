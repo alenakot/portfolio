{
 "cells": [
  {
   "cell_type": "markdown",
   "metadata": {},
   "source": [
    "# Стратегия взаимодействия с клиентами сети фитнес-центров"
   ]
  },
  {
   "cell_type": "markdown",
   "metadata": {},
   "source": [
    "## Описание проекта\n",
    "\n",
    "Задача провести анализ и подготовить план действий по удержанию клиентов.\n",
    "- прогноз вероятности оттока (на уровне следующего месяца) для каждого клиента;\n",
    "- формулировка типичных портретов клиентов: выделить несколько наиболее ярких групп и охарактеризовать их основные свойства;\n",
    "- анализ основные признаки, наиболее сильно влияющие на отток;\n",
    "- разработка рекомендации по повышению качества работы с клиентами."
   ]
  },
  {
   "cell_type": "markdown",
   "metadata": {},
   "source": [
    "## Описание данных\n",
    "- 'Churn' — факт оттока в текущем месяце;\n",
    "- Текущие поля в датасете:\n",
    "\n",
    "    1)Данные клиента за предыдущий до проверки факта оттока месяц:\n",
    "        - 'gender' — пол;\n",
    "        - 'Near_Location' — проживание или работа в районе, где находится фитнес-центр;\n",
    "        - 'Partner' — сотрудник компании-партнёра клуба;\n",
    "        - Promo_friends — факт первоначальной записи в рамках акции «приведи друга»;\n",
    "        - 'Phone' — наличие контактного телефона;\n",
    "        - 'Age' — возраст;\n",
    "        - 'Lifetime' — время с момента первого обращения в фитнес-центр (в месяцах).\n",
    "    \n",
    "    2)Информация на основе журнала посещений, покупок и информация о текущем статусе абонемента клиента:\n",
    "        - 'Contract_period' — длительность текущего действующего абонемента (месяц, 3 месяца, 6 месяцев, год);\n",
    "        - 'Month_to_end_contract' — срок до окончания текущего действующего абонемента (в месяцах);\n",
    "        - 'Group_visits' — факт посещения групповых занятий;\n",
    "        - 'Avg_class_frequency_total' — средняя частота посещений в неделю за все время с начала действия абонемента;\n",
    "        - 'Avg_class_frequency_current_month' — средняя частота посещений в неделю за предыдущий месяц;\n",
    "        - 'Avg_additional_charges_total' — суммарная выручка от других услуг фитнес-центра: кафе, спорт-товары, косметический и массажный салон."
   ]
  },
  {
   "cell_type": "markdown",
   "metadata": {},
   "source": [
    "## План выполнения\n",
    "- [Выгрузка данных](#step_1) \n",
    "- Исследовательский анализ данных (EDA): \n",
    "    - [Cредние значения и стандартные отклонения](#step_2) \n",
    "    - [Cредние значения признаков в двух группах — тех, кто ушел в отток и тех, кто остался](#step_3) \n",
    "    - [Гистограммы и распределения признаков для тех, кто ушёл (отток) и тех, кто остался (не попали в отток)](#step_4) \n",
    "    - [Матрица корреляции](#step_5) \n",
    "- Построение модели прогнозирования оттока клиентов:    \n",
    "    - [Разбиение данных на обучающую и валидационную выборку](#step_6) \n",
    "    - [Обучение модели на train-выборке способом: логистическая регрессия](#step_7) \n",
    "    - [Обучение модели на train-выборке способом: случайный лес](#step_8) \n",
    "    - [Расчёт метрик accuracy, precision и recall для обеих моделей на валидационной выборке](#step_9) \n",
    "- Кластеризация клиентов:    \n",
    "    - [Визуальная оценка количества кластеров](#step_10) \n",
    "    - [Обучение модели кластеризации на основании алгоритма K-Means](#step_11) \n",
    "    - [Доля оттока по кластерам](#step_12) \n",
    "- [Выводы и рекомендации по работе с клиентами](#step_13) "
   ]
  },
  {
   "cell_type": "markdown",
   "metadata": {},
   "source": [
    "### Выгрузка данных"
   ]
  },
  {
   "cell_type": "markdown",
   "metadata": {},
   "source": [
    "<a id='step_1'></a>"
   ]
  },
  {
   "cell_type": "code",
   "execution_count": 1,
   "metadata": {},
   "outputs": [],
   "source": [
    "# Импортирование необходимых библиотек\n",
    "import pandas as pd\n",
    "import numpy as np\n",
    "from scipy import stats as st\n",
    "import matplotlib.pyplot as plt\n",
    "import seaborn as sns\n",
    "import plotly.express as px\n",
    "from sklearn.preprocessing import StandardScaler\n",
    "from sklearn.model_selection import train_test_split\n",
    "from sklearn.linear_model import LogisticRegression\n",
    "from sklearn.ensemble import RandomForestClassifier\n",
    "from sklearn.metrics import accuracy_score, precision_score, recall_score\n",
    "import warnings\n",
    "warnings.filterwarnings('ignore')\n",
    "from scipy.cluster.hierarchy import dendrogram, linkage \n",
    "from sklearn.cluster import KMeans"
   ]
  },
  {
   "cell_type": "code",
   "execution_count": 2,
   "metadata": {},
   "outputs": [
    {
     "data": {
      "text/html": [
       "<div>\n",
       "<style scoped>\n",
       "    .dataframe tbody tr th:only-of-type {\n",
       "        vertical-align: middle;\n",
       "    }\n",
       "\n",
       "    .dataframe tbody tr th {\n",
       "        vertical-align: top;\n",
       "    }\n",
       "\n",
       "    .dataframe thead th {\n",
       "        text-align: right;\n",
       "    }\n",
       "</style>\n",
       "<table border=\"1\" class=\"dataframe\">\n",
       "  <thead>\n",
       "    <tr style=\"text-align: right;\">\n",
       "      <th></th>\n",
       "      <th>gender</th>\n",
       "      <th>Near_Location</th>\n",
       "      <th>Partner</th>\n",
       "      <th>Promo_friends</th>\n",
       "      <th>Phone</th>\n",
       "      <th>Contract_period</th>\n",
       "      <th>Group_visits</th>\n",
       "      <th>Age</th>\n",
       "      <th>Avg_additional_charges_total</th>\n",
       "      <th>Month_to_end_contract</th>\n",
       "      <th>Lifetime</th>\n",
       "      <th>Avg_class_frequency_total</th>\n",
       "      <th>Avg_class_frequency_current_month</th>\n",
       "      <th>Churn</th>\n",
       "    </tr>\n",
       "  </thead>\n",
       "  <tbody>\n",
       "    <tr>\n",
       "      <td>0</td>\n",
       "      <td>1</td>\n",
       "      <td>1</td>\n",
       "      <td>1</td>\n",
       "      <td>1</td>\n",
       "      <td>0</td>\n",
       "      <td>6</td>\n",
       "      <td>1</td>\n",
       "      <td>29</td>\n",
       "      <td>14.227470</td>\n",
       "      <td>5.0</td>\n",
       "      <td>3</td>\n",
       "      <td>0.020398</td>\n",
       "      <td>0.000000</td>\n",
       "      <td>0</td>\n",
       "    </tr>\n",
       "    <tr>\n",
       "      <td>1</td>\n",
       "      <td>0</td>\n",
       "      <td>1</td>\n",
       "      <td>0</td>\n",
       "      <td>0</td>\n",
       "      <td>1</td>\n",
       "      <td>12</td>\n",
       "      <td>1</td>\n",
       "      <td>31</td>\n",
       "      <td>113.202938</td>\n",
       "      <td>12.0</td>\n",
       "      <td>7</td>\n",
       "      <td>1.922936</td>\n",
       "      <td>1.910244</td>\n",
       "      <td>0</td>\n",
       "    </tr>\n",
       "    <tr>\n",
       "      <td>2</td>\n",
       "      <td>0</td>\n",
       "      <td>1</td>\n",
       "      <td>1</td>\n",
       "      <td>0</td>\n",
       "      <td>1</td>\n",
       "      <td>1</td>\n",
       "      <td>0</td>\n",
       "      <td>28</td>\n",
       "      <td>129.448479</td>\n",
       "      <td>1.0</td>\n",
       "      <td>2</td>\n",
       "      <td>1.859098</td>\n",
       "      <td>1.736502</td>\n",
       "      <td>0</td>\n",
       "    </tr>\n",
       "    <tr>\n",
       "      <td>3</td>\n",
       "      <td>0</td>\n",
       "      <td>1</td>\n",
       "      <td>1</td>\n",
       "      <td>1</td>\n",
       "      <td>1</td>\n",
       "      <td>12</td>\n",
       "      <td>1</td>\n",
       "      <td>33</td>\n",
       "      <td>62.669863</td>\n",
       "      <td>12.0</td>\n",
       "      <td>2</td>\n",
       "      <td>3.205633</td>\n",
       "      <td>3.357215</td>\n",
       "      <td>0</td>\n",
       "    </tr>\n",
       "    <tr>\n",
       "      <td>4</td>\n",
       "      <td>1</td>\n",
       "      <td>1</td>\n",
       "      <td>1</td>\n",
       "      <td>1</td>\n",
       "      <td>1</td>\n",
       "      <td>1</td>\n",
       "      <td>0</td>\n",
       "      <td>26</td>\n",
       "      <td>198.362265</td>\n",
       "      <td>1.0</td>\n",
       "      <td>3</td>\n",
       "      <td>1.113884</td>\n",
       "      <td>1.120078</td>\n",
       "      <td>0</td>\n",
       "    </tr>\n",
       "  </tbody>\n",
       "</table>\n",
       "</div>"
      ],
      "text/plain": [
       "   gender  Near_Location  Partner  Promo_friends  Phone  Contract_period  \\\n",
       "0       1              1        1              1      0                6   \n",
       "1       0              1        0              0      1               12   \n",
       "2       0              1        1              0      1                1   \n",
       "3       0              1        1              1      1               12   \n",
       "4       1              1        1              1      1                1   \n",
       "\n",
       "   Group_visits  Age  Avg_additional_charges_total  Month_to_end_contract  \\\n",
       "0             1   29                     14.227470                    5.0   \n",
       "1             1   31                    113.202938                   12.0   \n",
       "2             0   28                    129.448479                    1.0   \n",
       "3             1   33                     62.669863                   12.0   \n",
       "4             0   26                    198.362265                    1.0   \n",
       "\n",
       "   Lifetime  Avg_class_frequency_total  Avg_class_frequency_current_month  \\\n",
       "0         3                   0.020398                           0.000000   \n",
       "1         7                   1.922936                           1.910244   \n",
       "2         2                   1.859098                           1.736502   \n",
       "3         2                   3.205633                           3.357215   \n",
       "4         3                   1.113884                           1.120078   \n",
       "\n",
       "   Churn  \n",
       "0      0  \n",
       "1      0  \n",
       "2      0  \n",
       "3      0  \n",
       "4      0  "
      ]
     },
     "execution_count": 2,
     "metadata": {},
     "output_type": "execute_result"
    }
   ],
   "source": [
    "data = pd.read_csv('')\n",
    "data.head()"
   ]
  },
  {
   "cell_type": "code",
   "execution_count": 3,
   "metadata": {},
   "outputs": [
    {
     "name": "stdout",
     "output_type": "stream",
     "text": [
      "<class 'pandas.core.frame.DataFrame'>\n",
      "RangeIndex: 4000 entries, 0 to 3999\n",
      "Data columns (total 14 columns):\n",
      "gender                               4000 non-null int64\n",
      "Near_Location                        4000 non-null int64\n",
      "Partner                              4000 non-null int64\n",
      "Promo_friends                        4000 non-null int64\n",
      "Phone                                4000 non-null int64\n",
      "Contract_period                      4000 non-null int64\n",
      "Group_visits                         4000 non-null int64\n",
      "Age                                  4000 non-null int64\n",
      "Avg_additional_charges_total         4000 non-null float64\n",
      "Month_to_end_contract                4000 non-null float64\n",
      "Lifetime                             4000 non-null int64\n",
      "Avg_class_frequency_total            4000 non-null float64\n",
      "Avg_class_frequency_current_month    4000 non-null float64\n",
      "Churn                                4000 non-null int64\n",
      "dtypes: float64(4), int64(10)\n",
      "memory usage: 437.6 KB\n"
     ]
    }
   ],
   "source": [
    "data.info()"
   ]
  },
  {
   "cell_type": "code",
   "execution_count": 4,
   "metadata": {},
   "outputs": [
    {
     "data": {
      "text/plain": [
       "0"
      ]
     },
     "execution_count": 4,
     "metadata": {},
     "output_type": "execute_result"
    }
   ],
   "source": [
    "data.duplicated().sum()"
   ]
  },
  {
   "cell_type": "code",
   "execution_count": 5,
   "metadata": {},
   "outputs": [
    {
     "data": {
      "text/plain": [
       "gender                               0\n",
       "Near_Location                        0\n",
       "Partner                              0\n",
       "Promo_friends                        0\n",
       "Phone                                0\n",
       "Contract_period                      0\n",
       "Group_visits                         0\n",
       "Age                                  0\n",
       "Avg_additional_charges_total         0\n",
       "Month_to_end_contract                0\n",
       "Lifetime                             0\n",
       "Avg_class_frequency_total            0\n",
       "Avg_class_frequency_current_month    0\n",
       "Churn                                0\n",
       "dtype: int64"
      ]
     },
     "execution_count": 5,
     "metadata": {},
     "output_type": "execute_result"
    }
   ],
   "source": [
    "data.isna().sum()"
   ]
  },
  {
   "cell_type": "code",
   "execution_count": 6,
   "metadata": {},
   "outputs": [
    {
     "data": {
      "text/plain": [
       "Index(['gender', 'near_location', 'partner', 'promo_friends', 'phone',\n",
       "       'contract_period', 'group_visits', 'age',\n",
       "       'avg_additional_charges_total', 'month_to_end_contract', 'lifetime',\n",
       "       'avg_class_frequency_total', 'avg_class_frequency_current_month',\n",
       "       'churn'],\n",
       "      dtype='object')"
      ]
     },
     "execution_count": 6,
     "metadata": {},
     "output_type": "execute_result"
    }
   ],
   "source": [
    "# Привели названия столбцов к нижнему регистру \n",
    "columns_list = data.columns.str.lower()\n",
    "data.columns = columns_list\n",
    "data.columns"
   ]
  },
  {
   "cell_type": "markdown",
   "metadata": {},
   "source": [
    "В данных 14 столбцов-признаков и 4000 строк. Пропусков нет. Нет полных дубликатов. Нет нулевых значений."
   ]
  },
  {
   "cell_type": "markdown",
   "metadata": {},
   "source": [
    "### Исследовательский анализ данных (EDA)"
   ]
  },
  {
   "cell_type": "markdown",
   "metadata": {},
   "source": [
    "**Cредние значения и стандартные отклонения**<a id='step_2'></a>"
   ]
  },
  {
   "cell_type": "code",
   "execution_count": 7,
   "metadata": {},
   "outputs": [
    {
     "data": {
      "text/html": [
       "<div>\n",
       "<style scoped>\n",
       "    .dataframe tbody tr th:only-of-type {\n",
       "        vertical-align: middle;\n",
       "    }\n",
       "\n",
       "    .dataframe tbody tr th {\n",
       "        vertical-align: top;\n",
       "    }\n",
       "\n",
       "    .dataframe thead th {\n",
       "        text-align: right;\n",
       "    }\n",
       "</style>\n",
       "<table border=\"1\" class=\"dataframe\">\n",
       "  <thead>\n",
       "    <tr style=\"text-align: right;\">\n",
       "      <th></th>\n",
       "      <th>gender</th>\n",
       "      <th>near_location</th>\n",
       "      <th>partner</th>\n",
       "      <th>promo_friends</th>\n",
       "      <th>phone</th>\n",
       "      <th>contract_period</th>\n",
       "      <th>group_visits</th>\n",
       "      <th>age</th>\n",
       "      <th>avg_additional_charges_total</th>\n",
       "      <th>month_to_end_contract</th>\n",
       "      <th>lifetime</th>\n",
       "      <th>avg_class_frequency_total</th>\n",
       "      <th>avg_class_frequency_current_month</th>\n",
       "      <th>churn</th>\n",
       "    </tr>\n",
       "  </thead>\n",
       "  <tbody>\n",
       "    <tr>\n",
       "      <td>count</td>\n",
       "      <td>4000.000000</td>\n",
       "      <td>4000.000000</td>\n",
       "      <td>4000.000000</td>\n",
       "      <td>4000.000000</td>\n",
       "      <td>4000.000000</td>\n",
       "      <td>4000.000000</td>\n",
       "      <td>4000.000000</td>\n",
       "      <td>4000.000000</td>\n",
       "      <td>4000.000000</td>\n",
       "      <td>4000.000000</td>\n",
       "      <td>4000.000000</td>\n",
       "      <td>4000.000000</td>\n",
       "      <td>4000.000000</td>\n",
       "      <td>4000.000000</td>\n",
       "    </tr>\n",
       "    <tr>\n",
       "      <td>mean</td>\n",
       "      <td>0.510250</td>\n",
       "      <td>0.845250</td>\n",
       "      <td>0.486750</td>\n",
       "      <td>0.308500</td>\n",
       "      <td>0.903500</td>\n",
       "      <td>4.681250</td>\n",
       "      <td>0.412250</td>\n",
       "      <td>29.184250</td>\n",
       "      <td>146.943728</td>\n",
       "      <td>4.322750</td>\n",
       "      <td>3.724750</td>\n",
       "      <td>1.879020</td>\n",
       "      <td>1.767052</td>\n",
       "      <td>0.265250</td>\n",
       "    </tr>\n",
       "    <tr>\n",
       "      <td>std</td>\n",
       "      <td>0.499957</td>\n",
       "      <td>0.361711</td>\n",
       "      <td>0.499887</td>\n",
       "      <td>0.461932</td>\n",
       "      <td>0.295313</td>\n",
       "      <td>4.549706</td>\n",
       "      <td>0.492301</td>\n",
       "      <td>3.258367</td>\n",
       "      <td>96.355602</td>\n",
       "      <td>4.191297</td>\n",
       "      <td>3.749267</td>\n",
       "      <td>0.972245</td>\n",
       "      <td>1.052906</td>\n",
       "      <td>0.441521</td>\n",
       "    </tr>\n",
       "    <tr>\n",
       "      <td>min</td>\n",
       "      <td>0.000000</td>\n",
       "      <td>0.000000</td>\n",
       "      <td>0.000000</td>\n",
       "      <td>0.000000</td>\n",
       "      <td>0.000000</td>\n",
       "      <td>1.000000</td>\n",
       "      <td>0.000000</td>\n",
       "      <td>18.000000</td>\n",
       "      <td>0.148205</td>\n",
       "      <td>1.000000</td>\n",
       "      <td>0.000000</td>\n",
       "      <td>0.000000</td>\n",
       "      <td>0.000000</td>\n",
       "      <td>0.000000</td>\n",
       "    </tr>\n",
       "    <tr>\n",
       "      <td>25%</td>\n",
       "      <td>0.000000</td>\n",
       "      <td>1.000000</td>\n",
       "      <td>0.000000</td>\n",
       "      <td>0.000000</td>\n",
       "      <td>1.000000</td>\n",
       "      <td>1.000000</td>\n",
       "      <td>0.000000</td>\n",
       "      <td>27.000000</td>\n",
       "      <td>68.868830</td>\n",
       "      <td>1.000000</td>\n",
       "      <td>1.000000</td>\n",
       "      <td>1.180875</td>\n",
       "      <td>0.963003</td>\n",
       "      <td>0.000000</td>\n",
       "    </tr>\n",
       "    <tr>\n",
       "      <td>50%</td>\n",
       "      <td>1.000000</td>\n",
       "      <td>1.000000</td>\n",
       "      <td>0.000000</td>\n",
       "      <td>0.000000</td>\n",
       "      <td>1.000000</td>\n",
       "      <td>1.000000</td>\n",
       "      <td>0.000000</td>\n",
       "      <td>29.000000</td>\n",
       "      <td>136.220159</td>\n",
       "      <td>1.000000</td>\n",
       "      <td>3.000000</td>\n",
       "      <td>1.832768</td>\n",
       "      <td>1.719574</td>\n",
       "      <td>0.000000</td>\n",
       "    </tr>\n",
       "    <tr>\n",
       "      <td>75%</td>\n",
       "      <td>1.000000</td>\n",
       "      <td>1.000000</td>\n",
       "      <td>1.000000</td>\n",
       "      <td>1.000000</td>\n",
       "      <td>1.000000</td>\n",
       "      <td>6.000000</td>\n",
       "      <td>1.000000</td>\n",
       "      <td>31.000000</td>\n",
       "      <td>210.949625</td>\n",
       "      <td>6.000000</td>\n",
       "      <td>5.000000</td>\n",
       "      <td>2.536078</td>\n",
       "      <td>2.510336</td>\n",
       "      <td>1.000000</td>\n",
       "    </tr>\n",
       "    <tr>\n",
       "      <td>max</td>\n",
       "      <td>1.000000</td>\n",
       "      <td>1.000000</td>\n",
       "      <td>1.000000</td>\n",
       "      <td>1.000000</td>\n",
       "      <td>1.000000</td>\n",
       "      <td>12.000000</td>\n",
       "      <td>1.000000</td>\n",
       "      <td>41.000000</td>\n",
       "      <td>552.590740</td>\n",
       "      <td>12.000000</td>\n",
       "      <td>31.000000</td>\n",
       "      <td>6.023668</td>\n",
       "      <td>6.146783</td>\n",
       "      <td>1.000000</td>\n",
       "    </tr>\n",
       "  </tbody>\n",
       "</table>\n",
       "</div>"
      ],
      "text/plain": [
       "            gender  near_location      partner  promo_friends        phone  \\\n",
       "count  4000.000000    4000.000000  4000.000000    4000.000000  4000.000000   \n",
       "mean      0.510250       0.845250     0.486750       0.308500     0.903500   \n",
       "std       0.499957       0.361711     0.499887       0.461932     0.295313   \n",
       "min       0.000000       0.000000     0.000000       0.000000     0.000000   \n",
       "25%       0.000000       1.000000     0.000000       0.000000     1.000000   \n",
       "50%       1.000000       1.000000     0.000000       0.000000     1.000000   \n",
       "75%       1.000000       1.000000     1.000000       1.000000     1.000000   \n",
       "max       1.000000       1.000000     1.000000       1.000000     1.000000   \n",
       "\n",
       "       contract_period  group_visits          age  \\\n",
       "count      4000.000000   4000.000000  4000.000000   \n",
       "mean          4.681250      0.412250    29.184250   \n",
       "std           4.549706      0.492301     3.258367   \n",
       "min           1.000000      0.000000    18.000000   \n",
       "25%           1.000000      0.000000    27.000000   \n",
       "50%           1.000000      0.000000    29.000000   \n",
       "75%           6.000000      1.000000    31.000000   \n",
       "max          12.000000      1.000000    41.000000   \n",
       "\n",
       "       avg_additional_charges_total  month_to_end_contract     lifetime  \\\n",
       "count                   4000.000000            4000.000000  4000.000000   \n",
       "mean                     146.943728               4.322750     3.724750   \n",
       "std                       96.355602               4.191297     3.749267   \n",
       "min                        0.148205               1.000000     0.000000   \n",
       "25%                       68.868830               1.000000     1.000000   \n",
       "50%                      136.220159               1.000000     3.000000   \n",
       "75%                      210.949625               6.000000     5.000000   \n",
       "max                      552.590740              12.000000    31.000000   \n",
       "\n",
       "       avg_class_frequency_total  avg_class_frequency_current_month  \\\n",
       "count                4000.000000                        4000.000000   \n",
       "mean                    1.879020                           1.767052   \n",
       "std                     0.972245                           1.052906   \n",
       "min                     0.000000                           0.000000   \n",
       "25%                     1.180875                           0.963003   \n",
       "50%                     1.832768                           1.719574   \n",
       "75%                     2.536078                           2.510336   \n",
       "max                     6.023668                           6.146783   \n",
       "\n",
       "             churn  \n",
       "count  4000.000000  \n",
       "mean      0.265250  \n",
       "std       0.441521  \n",
       "min       0.000000  \n",
       "25%       0.000000  \n",
       "50%       0.000000  \n",
       "75%       1.000000  \n",
       "max       1.000000  "
      ]
     },
     "execution_count": 7,
     "metadata": {},
     "output_type": "execute_result"
    }
   ],
   "source": [
    "data.describe()"
   ]
  },
  {
   "cell_type": "markdown",
   "metadata": {},
   "source": [
    "Средние значения признаков разные: есть значения от 0 до 1, а есть чисоа больше 4.Из-за различных стандартных отклонений для более корректной работы моделей далее необходимо стандартизировать данные."
   ]
  },
  {
   "cell_type": "markdown",
   "metadata": {},
   "source": [
    "\n",
    "    \n",
    "Портрет клиента:\n",
    "\n",
    "- равновероятно мужчина или женщина;\n",
    "- живущий(ая) в районе фитнес-центра;\n",
    "- возможно пришедший(ая) по одной из акций;\n",
    "- есть телефонный номер для оповещения;\n",
    "- с абонементом на 3 или 6 месяцев;\n",
    "- иногда посещает групповые занятия;\n",
    "- возраст 29 лет;\n",
    "- третит на другие услуги в фитнес-центре около 146 у.е.;\n",
    "- ходит в зал около 2 раз в неделю;\n",
    "- вероятность того, что забросит зал около 25%.\n"
   ]
  },
  {
   "cell_type": "markdown",
   "metadata": {},
   "source": [
    "**Cредние значения признаков в двух группах — тех, кто ушел в отток и тех, кто остался**<a id='step_3'></a>"
   ]
  },
  {
   "cell_type": "code",
   "execution_count": 8,
   "metadata": {},
   "outputs": [
    {
     "data": {
      "text/html": [
       "<div>\n",
       "<style scoped>\n",
       "    .dataframe tbody tr th:only-of-type {\n",
       "        vertical-align: middle;\n",
       "    }\n",
       "\n",
       "    .dataframe tbody tr th {\n",
       "        vertical-align: top;\n",
       "    }\n",
       "\n",
       "    .dataframe thead th {\n",
       "        text-align: right;\n",
       "    }\n",
       "</style>\n",
       "<table border=\"1\" class=\"dataframe\">\n",
       "  <thead>\n",
       "    <tr style=\"text-align: right;\">\n",
       "      <th></th>\n",
       "      <th>gender</th>\n",
       "      <th>near_location</th>\n",
       "      <th>partner</th>\n",
       "      <th>promo_friends</th>\n",
       "      <th>phone</th>\n",
       "      <th>contract_period</th>\n",
       "      <th>group_visits</th>\n",
       "      <th>age</th>\n",
       "      <th>avg_additional_charges_total</th>\n",
       "      <th>month_to_end_contract</th>\n",
       "      <th>lifetime</th>\n",
       "      <th>avg_class_frequency_total</th>\n",
       "      <th>avg_class_frequency_current_month</th>\n",
       "    </tr>\n",
       "    <tr>\n",
       "      <th>churn</th>\n",
       "      <th></th>\n",
       "      <th></th>\n",
       "      <th></th>\n",
       "      <th></th>\n",
       "      <th></th>\n",
       "      <th></th>\n",
       "      <th></th>\n",
       "      <th></th>\n",
       "      <th></th>\n",
       "      <th></th>\n",
       "      <th></th>\n",
       "      <th></th>\n",
       "      <th></th>\n",
       "    </tr>\n",
       "  </thead>\n",
       "  <tbody>\n",
       "    <tr>\n",
       "      <td>0</td>\n",
       "      <td>0.510037</td>\n",
       "      <td>0.873086</td>\n",
       "      <td>0.534195</td>\n",
       "      <td>0.353522</td>\n",
       "      <td>0.903709</td>\n",
       "      <td>5.747193</td>\n",
       "      <td>0.464103</td>\n",
       "      <td>29.976523</td>\n",
       "      <td>158.445715</td>\n",
       "      <td>5.283089</td>\n",
       "      <td>4.711807</td>\n",
       "      <td>2.024876</td>\n",
       "      <td>2.027882</td>\n",
       "    </tr>\n",
       "    <tr>\n",
       "      <td>1</td>\n",
       "      <td>0.510839</td>\n",
       "      <td>0.768143</td>\n",
       "      <td>0.355325</td>\n",
       "      <td>0.183789</td>\n",
       "      <td>0.902922</td>\n",
       "      <td>1.728558</td>\n",
       "      <td>0.268615</td>\n",
       "      <td>26.989632</td>\n",
       "      <td>115.082899</td>\n",
       "      <td>1.662582</td>\n",
       "      <td>0.990575</td>\n",
       "      <td>1.474995</td>\n",
       "      <td>1.044546</td>\n",
       "    </tr>\n",
       "  </tbody>\n",
       "</table>\n",
       "</div>"
      ],
      "text/plain": [
       "         gender  near_location   partner  promo_friends     phone  \\\n",
       "churn                                                               \n",
       "0      0.510037       0.873086  0.534195       0.353522  0.903709   \n",
       "1      0.510839       0.768143  0.355325       0.183789  0.902922   \n",
       "\n",
       "       contract_period  group_visits        age  avg_additional_charges_total  \\\n",
       "churn                                                                           \n",
       "0             5.747193      0.464103  29.976523                    158.445715   \n",
       "1             1.728558      0.268615  26.989632                    115.082899   \n",
       "\n",
       "       month_to_end_contract  lifetime  avg_class_frequency_total  \\\n",
       "churn                                                               \n",
       "0                   5.283089  4.711807                   2.024876   \n",
       "1                   1.662582  0.990575                   1.474995   \n",
       "\n",
       "       avg_class_frequency_current_month  \n",
       "churn                                     \n",
       "0                               2.027882  \n",
       "1                               1.044546  "
      ]
     },
     "execution_count": 8,
     "metadata": {},
     "output_type": "execute_result"
    }
   ],
   "source": [
    "data.groupby('churn').mean()"
   ]
  },
  {
   "cell_type": "markdown",
   "metadata": {},
   "source": [
    "churn = 1 - те, кто уже не ходит в зал\n",
    "churn = 0 - те, кто отсались"
   ]
  },
  {
   "cell_type": "markdown",
   "metadata": {},
   "source": [
    "**Гистограммы и распределения признаков для тех, кто ушёл (отток) и тех, кто остался (не попали в отток)**<a id='step_4'></a>"
   ]
  },
  {
   "cell_type": "code",
   "execution_count": 9,
   "metadata": {},
   "outputs": [
    {
     "name": "stdout",
     "output_type": "stream",
     "text": [
      "Распределение признаков\n"
     ]
    },
    {
     "data": {
      "image/png": "[encoded data removed]",
      "text/plain": [
       "<Figure size 720x2016 with 14 Axes>"
      ]
     },
     "metadata": {
      "needs_background": "light"
     },
     "output_type": "display_data"
    }
   ],
   "source": [
    "print('Распределение признаков')\n",
    "fig,axis = plt.subplots(7, 2, figsize=(10, 28))\n",
    "for idx,col in enumerate(columns_list):\n",
    "    data[(data['churn'] == 0)][col].hist(alpha = 0.6, ax = axis[idx//2, idx%2], label='0')\n",
    "    data[(data['churn'] == 1)][col].hist(alpha = 0.6, ax = axis[idx//2, idx%2], label='1')\n",
    "    axis[idx//2, idx%2].legend()\n",
    "    axis[idx//2, idx%2].set_xlabel(col)\n",
    "plt.show()"
   ]
  },
  {
   "cell_type": "markdown",
   "metadata": {},
   "source": [
    "Сходства и различия:\n",
    "    \n",
    "- Мужчины и женщины одинаково отказываются от походов в фитнес-центр;\n",
    "- клиенты, живущие рядом, лучше ходят     \n",
    "- 20% людей, пришедших по акциям, бросают ходить;\n",
    "- клиенты, с короткими абонементами, реже возвращаются;\n",
    "- групповые занятия позволяют удержать клиентов;\n",
    "- чаще в отток попадают клиенты младше 30 лет;\n",
    "- Avg_class_frequency_current_month и Avg_class_frequency_total имеют подобные распределения;\n",
    "- Month_to_end_contract и Contract_period коррелируют;\n",
    "- чем дольше клиент ходит в зал, тем меньше вероятность, что он попадёт в отток.    \n"
   ]
  },
  {
   "cell_type": "markdown",
   "metadata": {},
   "source": [
    "**Матрица корреляции**<a id='step_5'></a>"
   ]
  },
  {
   "cell_type": "code",
   "execution_count": 10,
   "metadata": {},
   "outputs": [
    {
     "data": {
      "image/png": "[encoded data removed]",
      "text/plain": [
       "<Figure size 1080x720 with 2 Axes>"
      ]
     },
     "metadata": {
      "needs_background": "light"
     },
     "output_type": "display_data"
    }
   ],
   "source": [
    "cm = data.corr()  \n",
    "plt.figure(figsize=(15, 10))\n",
    "plt.title('Матрица корреляции признаков')\n",
    "sns.set(style='white')\n",
    "sns.heatmap(cm, annot = True, fmt='.2', linecolor='gray')\n",
    "plt.show()"
   ]
  },
  {
   "cell_type": "markdown",
   "metadata": {},
   "source": [
    "На данных не замечено выбросов.\n",
    "\n",
    "Явных корреляций признаков с оттоком(>0.6), не наблюдается.\n",
    "\n",
    "Но есть мультиколлинеарные признаки:\n",
    "- 'Avg_class_frequency_current_month' и 'Avg_class_frequency_total'\n",
    "- 'Month_to_end_contract' и 'Contract_period'\n",
    "\n",
    "От них можно избавиться, оставив один из пары."
   ]
  },
  {
   "cell_type": "code",
   "execution_count": 11,
   "metadata": {},
   "outputs": [],
   "source": [
    "data_new = data.drop(['avg_class_frequency_current_month'], axis=1)\n",
    "data_new = data.drop(['month_to_end_contract'], axis=1)"
   ]
  },
  {
   "cell_type": "markdown",
   "metadata": {},
   "source": [
    "### Построение модели прогнозирования оттока клиентов"
   ]
  },
  {
   "cell_type": "markdown",
   "metadata": {},
   "source": [
    "Целевой признак — факт оттока клиента в следующем месяце."
   ]
  },
  {
   "cell_type": "markdown",
   "metadata": {},
   "source": [
    "**Разбиение данных на обучающую и валидационную выборку**<a id='step_6'></a>"
   ]
  },
  {
   "cell_type": "code",
   "execution_count": 12,
   "metadata": {},
   "outputs": [],
   "source": [
    "#разделили наши данные на признаки (матрица X) и целевую переменную (y)\n",
    "X = data_new.drop(['churn'], axis=1)\n",
    "y = data_new['churn']"
   ]
  },
  {
   "cell_type": "code",
   "execution_count": 13,
   "metadata": {},
   "outputs": [],
   "source": [
    "#разделили модель на обучающую и валидационную выборки\n",
    "X_train, X_test, y_train, y_test = train_test_split(X, y, test_size=0.2,random_state = 0,stratify=y)"
   ]
  },
  {
   "cell_type": "code",
   "execution_count": 14,
   "metadata": {},
   "outputs": [],
   "source": [
    "# Стандартизируем выбору \n",
    "scaler = StandardScaler() \n",
    "\n",
    "scaler.fit(X_train)\n",
    "\n",
    "X_train_st = scaler.transform(X_train) \n",
    "\n",
    "#применяем стандартизацию к матрице признаков для тестовой выборки\n",
    "X_test_st = scaler.transform(X_test)"
   ]
  },
  {
   "cell_type": "markdown",
   "metadata": {},
   "source": [
    "**Обучение модели на train-выборке способом: логистическая регрессия**<a id='step_7'></a>"
   ]
  },
  {
   "cell_type": "code",
   "execution_count": 15,
   "metadata": {},
   "outputs": [],
   "source": [
    "model_lr = LogisticRegression(random_state = 0) "
   ]
  },
  {
   "cell_type": "code",
   "execution_count": 16,
   "metadata": {},
   "outputs": [],
   "source": [
    "model_lr.fit(X_train_st, y_train)\n",
    "y_pred_lr = model_lr.predict(X_test_st)"
   ]
  },
  {
   "cell_type": "markdown",
   "metadata": {},
   "source": [
    "**Обучение модели на train-выборке способом: случайный лес**<a id='step_8'></a>"
   ]
  },
  {
   "cell_type": "code",
   "execution_count": 17,
   "metadata": {},
   "outputs": [],
   "source": [
    "model_rt = RandomForestClassifier(n_estimators = 100,random_state = 0)"
   ]
  },
  {
   "cell_type": "code",
   "execution_count": 18,
   "metadata": {},
   "outputs": [],
   "source": [
    "model_rt.fit(X_train_st, y_train)\n",
    "y_pred_rt = model_rt.predict(X_test_st)"
   ]
  },
  {
   "cell_type": "markdown",
   "metadata": {},
   "source": [
    "**Расчёт метрик accuracy, precision и recall для обеих моделей на валидационной выборке**<a id='step_9'></a>"
   ]
  },
  {
   "cell_type": "code",
   "execution_count": 19,
   "metadata": {},
   "outputs": [],
   "source": [
    "# функция для выведения метрик\n",
    "def print_prediction(m, y_test, y_pred):\n",
    "    print(m)\n",
    "    print('accuracy:{:.2f} precision:{:.2f} recall:{:.2f} '.format(accuracy_score(y_test, y_pred),\n",
    "                                                                   precision_score(y_test, y_pred),\n",
    "                                                                   recall_score(y_test, y_pred)\n",
    "                                                                  ))"
   ]
  },
  {
   "cell_type": "code",
   "execution_count": 20,
   "metadata": {},
   "outputs": [
    {
     "name": "stdout",
     "output_type": "stream",
     "text": [
      "LogisticRegression(C=1.0, class_weight=None, dual=False, fit_intercept=True,\n",
      "                   intercept_scaling=1, l1_ratio=None, max_iter=100,\n",
      "                   multi_class='warn', n_jobs=None, penalty='l2',\n",
      "                   random_state=0, solver='warn', tol=0.0001, verbose=0,\n",
      "                   warm_start=False)\n",
      "accuracy:0.94 precision:0.90 recall:0.85 \n"
     ]
    }
   ],
   "source": [
    "print_prediction(model_lr, y_test, y_pred_lr)"
   ]
  },
  {
   "cell_type": "code",
   "execution_count": 21,
   "metadata": {},
   "outputs": [
    {
     "name": "stdout",
     "output_type": "stream",
     "text": [
      "RandomForestClassifier(bootstrap=True, class_weight=None, criterion='gini',\n",
      "                       max_depth=None, max_features='auto', max_leaf_nodes=None,\n",
      "                       min_impurity_decrease=0.0, min_impurity_split=None,\n",
      "                       min_samples_leaf=1, min_samples_split=2,\n",
      "                       min_weight_fraction_leaf=0.0, n_estimators=100,\n",
      "                       n_jobs=None, oob_score=False, random_state=0, verbose=0,\n",
      "                       warm_start=False)\n",
      "accuracy:0.92 precision:0.87 recall:0.80 \n"
     ]
    }
   ],
   "source": [
    "print_prediction(model_rt, y_test, y_pred_rt)"
   ]
  },
  {
   "cell_type": "markdown",
   "metadata": {},
   "source": [
    "Доля правильных ответов выше у модели логистической регрессии.\n",
    "\n",
    "Точность выше у модели логистической регрессии, чем у случайных лесов\n",
    "\n",
    "Полнота также выше у модели логистической регрессии.\n",
    "\n",
    "Из этих метрик следует, что используя модель логистической регрессии мы с большей вероятностью определим уходящего клиента."
   ]
  },
  {
   "cell_type": "markdown",
   "metadata": {},
   "source": [
    "### Кластеризация клиентов"
   ]
  },
  {
   "cell_type": "markdown",
   "metadata": {},
   "source": [
    "**Визуальная оценка количества кластеров**<a id='step_10'></a>"
   ]
  },
  {
   "cell_type": "code",
   "execution_count": 22,
   "metadata": {},
   "outputs": [],
   "source": [
    "# Стандартизируем выборку целиком\n",
    "sc = StandardScaler()\n",
    "X_sc = sc.fit_transform(X)"
   ]
  },
  {
   "cell_type": "code",
   "execution_count": 23,
   "metadata": {},
   "outputs": [
    {
     "data": {
      "image/png": "[encoded data removed]",
      "text/plain": [
       "<Figure size 1080x720 with 1 Axes>"
      ]
     },
     "metadata": {},
     "output_type": "display_data"
    }
   ],
   "source": [
    "linked = linkage(X_sc, method = 'ward') \n",
    "plt.figure(figsize=(15, 10))  \n",
    "dendrogram(linked, orientation='top')\n",
    "plt.title('Дендрограмма')\n",
    "plt.show() "
   ]
  },
  {
   "cell_type": "markdown",
   "metadata": {},
   "source": [
    "Оптимальное число кластеров 5."
   ]
  },
  {
   "cell_type": "markdown",
   "metadata": {},
   "source": [
    "**Обучение модели кластеризации на основании алгоритма K-Means**<a id='step_11'></a>"
   ]
  },
  {
   "cell_type": "code",
   "execution_count": 24,
   "metadata": {},
   "outputs": [],
   "source": [
    "km = KMeans(n_clusters = 5, random_state = 0)\n",
    "\n",
    "labels = km.fit_predict(X_sc) \n",
    "data_new['cluster_km'] = labels"
   ]
  },
  {
   "cell_type": "code",
   "execution_count": 25,
   "metadata": {},
   "outputs": [
    {
     "data": {
      "text/html": [
       "<div>\n",
       "<style scoped>\n",
       "    .dataframe tbody tr th:only-of-type {\n",
       "        vertical-align: middle;\n",
       "    }\n",
       "\n",
       "    .dataframe tbody tr th {\n",
       "        vertical-align: top;\n",
       "    }\n",
       "\n",
       "    .dataframe thead th {\n",
       "        text-align: right;\n",
       "    }\n",
       "</style>\n",
       "<table border=\"1\" class=\"dataframe\">\n",
       "  <thead>\n",
       "    <tr style=\"text-align: right;\">\n",
       "      <th></th>\n",
       "      <th>gender</th>\n",
       "      <th>near_location</th>\n",
       "      <th>partner</th>\n",
       "      <th>promo_friends</th>\n",
       "      <th>phone</th>\n",
       "      <th>contract_period</th>\n",
       "      <th>group_visits</th>\n",
       "      <th>age</th>\n",
       "      <th>avg_additional_charges_total</th>\n",
       "      <th>lifetime</th>\n",
       "      <th>avg_class_frequency_total</th>\n",
       "      <th>avg_class_frequency_current_month</th>\n",
       "      <th>churn</th>\n",
       "    </tr>\n",
       "    <tr>\n",
       "      <th>cluster_km</th>\n",
       "      <th></th>\n",
       "      <th></th>\n",
       "      <th></th>\n",
       "      <th></th>\n",
       "      <th></th>\n",
       "      <th></th>\n",
       "      <th></th>\n",
       "      <th></th>\n",
       "      <th></th>\n",
       "      <th></th>\n",
       "      <th></th>\n",
       "      <th></th>\n",
       "      <th></th>\n",
       "    </tr>\n",
       "  </thead>\n",
       "  <tbody>\n",
       "    <tr>\n",
       "      <td>0</td>\n",
       "      <td>0.478392</td>\n",
       "      <td>0.993970</td>\n",
       "      <td>0.947739</td>\n",
       "      <td>0.879397</td>\n",
       "      <td>1.000000</td>\n",
       "      <td>7.831156</td>\n",
       "      <td>0.536683</td>\n",
       "      <td>29.629146</td>\n",
       "      <td>154.788356</td>\n",
       "      <td>4.447236</td>\n",
       "      <td>1.836547</td>\n",
       "      <td>1.795608</td>\n",
       "      <td>0.102513</td>\n",
       "    </tr>\n",
       "    <tr>\n",
       "      <td>1</td>\n",
       "      <td>0.524675</td>\n",
       "      <td>0.862338</td>\n",
       "      <td>0.472727</td>\n",
       "      <td>0.306494</td>\n",
       "      <td>0.000000</td>\n",
       "      <td>4.758442</td>\n",
       "      <td>0.425974</td>\n",
       "      <td>29.283117</td>\n",
       "      <td>144.240418</td>\n",
       "      <td>3.922078</td>\n",
       "      <td>1.846575</td>\n",
       "      <td>1.716160</td>\n",
       "      <td>0.267532</td>\n",
       "    </tr>\n",
       "    <tr>\n",
       "      <td>2</td>\n",
       "      <td>0.494515</td>\n",
       "      <td>1.000000</td>\n",
       "      <td>0.240506</td>\n",
       "      <td>0.095359</td>\n",
       "      <td>1.000000</td>\n",
       "      <td>2.483544</td>\n",
       "      <td>0.331646</td>\n",
       "      <td>28.216034</td>\n",
       "      <td>131.341969</td>\n",
       "      <td>2.440506</td>\n",
       "      <td>1.255953</td>\n",
       "      <td>1.030234</td>\n",
       "      <td>0.502110</td>\n",
       "    </tr>\n",
       "    <tr>\n",
       "      <td>3</td>\n",
       "      <td>0.568736</td>\n",
       "      <td>0.970067</td>\n",
       "      <td>0.307095</td>\n",
       "      <td>0.097561</td>\n",
       "      <td>0.998891</td>\n",
       "      <td>5.137472</td>\n",
       "      <td>0.483370</td>\n",
       "      <td>30.288248</td>\n",
       "      <td>166.180576</td>\n",
       "      <td>5.011086</td>\n",
       "      <td>2.879208</td>\n",
       "      <td>2.882946</td>\n",
       "      <td>0.041020</td>\n",
       "    </tr>\n",
       "    <tr>\n",
       "      <td>4</td>\n",
       "      <td>0.495310</td>\n",
       "      <td>0.000000</td>\n",
       "      <td>0.487805</td>\n",
       "      <td>0.075047</td>\n",
       "      <td>1.000000</td>\n",
       "      <td>2.859287</td>\n",
       "      <td>0.228893</td>\n",
       "      <td>28.566604</td>\n",
       "      <td>136.384285</td>\n",
       "      <td>2.911820</td>\n",
       "      <td>1.674358</td>\n",
       "      <td>1.500208</td>\n",
       "      <td>0.420263</td>\n",
       "    </tr>\n",
       "  </tbody>\n",
       "</table>\n",
       "</div>"
      ],
      "text/plain": [
       "              gender  near_location   partner  promo_friends     phone  \\\n",
       "cluster_km                                                               \n",
       "0           0.478392       0.993970  0.947739       0.879397  1.000000   \n",
       "1           0.524675       0.862338  0.472727       0.306494  0.000000   \n",
       "2           0.494515       1.000000  0.240506       0.095359  1.000000   \n",
       "3           0.568736       0.970067  0.307095       0.097561  0.998891   \n",
       "4           0.495310       0.000000  0.487805       0.075047  1.000000   \n",
       "\n",
       "            contract_period  group_visits        age  \\\n",
       "cluster_km                                             \n",
       "0                  7.831156      0.536683  29.629146   \n",
       "1                  4.758442      0.425974  29.283117   \n",
       "2                  2.483544      0.331646  28.216034   \n",
       "3                  5.137472      0.483370  30.288248   \n",
       "4                  2.859287      0.228893  28.566604   \n",
       "\n",
       "            avg_additional_charges_total  lifetime  avg_class_frequency_total  \\\n",
       "cluster_km                                                                      \n",
       "0                             154.788356  4.447236                   1.836547   \n",
       "1                             144.240418  3.922078                   1.846575   \n",
       "2                             131.341969  2.440506                   1.255953   \n",
       "3                             166.180576  5.011086                   2.879208   \n",
       "4                             136.384285  2.911820                   1.674358   \n",
       "\n",
       "            avg_class_frequency_current_month     churn  \n",
       "cluster_km                                               \n",
       "0                                    1.795608  0.102513  \n",
       "1                                    1.716160  0.267532  \n",
       "2                                    1.030234  0.502110  \n",
       "3                                    2.882946  0.041020  \n",
       "4                                    1.500208  0.420263  "
      ]
     },
     "execution_count": 25,
     "metadata": {},
     "output_type": "execute_result"
    }
   ],
   "source": [
    "data_new.groupby('cluster_km').mean()"
   ]
  },
  {
   "cell_type": "markdown",
   "metadata": {},
   "source": [
    "Результат кластеризации: \n",
    "\n",
    "- гендер в кластерах распределён равномерно;\n",
    "- есть кластер где люди все из этого района, и где они не из этого района;\n",
    "- по акциям люди разделены, видимо, рандомно;\n",
    "- периоды контракта различны;\n",
    "- возрастные группы близки друг к другу;\n",
    "- траты на доп услуги различны, но не сильно;\n",
    "- различное время с момента обращения в центр, но не близко к максимальным значениям;\n",
    "- посещяемость в неделю примерно одинакова 1-2 раза, 3-й кластер с 3-мя посещениями.    \n"
   ]
  },
  {
   "cell_type": "code",
   "execution_count": 26,
   "metadata": {
    "scrolled": false
   },
   "outputs": [
    {
     "name": "stdout",
     "output_type": "stream",
     "text": [
      "Распределение дискретных признаков для кластеров \n"
     ]
    },
    {
     "data": {
      "image/png": "[encoded data removed]",
      "text/plain": [
       "<Figure size 432x288 with 1 Axes>"
      ]
     },
     "metadata": {},
     "output_type": "display_data"
    },
    {
     "data": {
      "image/png": "[encoded data removed]",
      "text/plain": [
       "<Figure size 432x288 with 1 Axes>"
      ]
     },
     "metadata": {},
     "output_type": "display_data"
    },
    {
     "data": {
      "image/png": "[encoded data removed]",
      "text/plain": [
       "<Figure size 432x288 with 1 Axes>"
      ]
     },
     "metadata": {},
     "output_type": "display_data"
    },
    {
     "data": {
      "image/png": "[encoded data removed]",
      "text/plain": [
       "<Figure size 432x288 with 1 Axes>"
      ]
     },
     "metadata": {},
     "output_type": "display_data"
    }
   ],
   "source": [
    "print('Распределение дискретных признаков для кластеров ')\n",
    "columns_list_short_bars = ['gender', 'near_location', 'contract_period',  'group_visits']\n",
    "for col in (columns_list_short_bars):\n",
    "    sns.countplot(data=data_new, x='cluster_km', hue=col)\n",
    "    plt.show()\n"
   ]
  },
  {
   "cell_type": "code",
   "execution_count": 27,
   "metadata": {
    "scrolled": false
   },
   "outputs": [
    {
     "name": "stdout",
     "output_type": "stream",
     "text": [
      "Распределение непрерывных признаков для кластеров\n"
     ]
    },
    {
     "data": {
      "image/png": "[encoded data removed]",
      "text/plain": [
       "<Figure size 432x288 with 1 Axes>"
      ]
     },
     "metadata": {},
     "output_type": "display_data"
    },
    {
     "data": {
      "image/png": "[encoded data removed]",
      "text/plain": [
       "<Figure size 432x288 with 1 Axes>"
      ]
     },
     "metadata": {},
     "output_type": "display_data"
    },
    {
     "data": {
      "image/png": "[encoded data removed]",
      "text/plain": [
       "<Figure size 432x288 with 1 Axes>"
      ]
     },
     "metadata": {},
     "output_type": "display_data"
    },
    {
     "data": {
      "image/png": "[encoded data removed]",
      "text/plain": [
       "<Figure size 432x288 with 1 Axes>"
      ]
     },
     "metadata": {},
     "output_type": "display_data"
    }
   ],
   "source": [
    "print('Распределение непрерывных признаков для кластеров')\n",
    "columns_list_short_box = ['age', 'avg_additional_charges_total',  'lifetime','avg_class_frequency_total']\n",
    "data_new_grouped = data_new.groupby('cluster_km')\n",
    "for col in (columns_list_short_box):\n",
    "    sns.boxplot(data=data_new, x='cluster_km', y=col)\n",
    "    plt.show()\n"
   ]
  },
  {
   "cell_type": "markdown",
   "metadata": {},
   "source": [
    "Средние значений некоторых признаков сильно отличаются в кластерах, например, group_visits, lifetime, contract_period, near_location, promo_friends.\n",
    "\n",
    "Форма распределений признаков в основном похожа по кластерам.\n",
    "\n",
    "Период абонимента - есть значительное отличие в распределениях, один из факторов разделения по кластерам, полярный параметр для кластеров.\n",
    "\n",
    "Средняя частота посещений в месяц тоже различна.\n",
    "\n",
    "Возраст - тоже есть отличие в распределениях по кластерам."
   ]
  },
  {
   "cell_type": "markdown",
   "metadata": {},
   "source": [
    "**Профили различных кластеров**\n",
    "\n",
    "0 кластер: равномерно распределён гендер, клиенты живут рядом, различная длительность абонементов, около 30 лет, доп.услуги на 154 у.е., в основном, обратились около 4 месяцев назад за услугами, посещают 2 раза в неделю зал, 10 процентов оттока; \n",
    "    \n",
    "1 кластер: равномерно распределён гендер, клиенты живут в основном рядом, различная длительность абонементов, около 29 лет, доп.услуги на 144 у.е., в основном, обратились около 4 месяцев назад за услугами, посещают 2 раза в неделю зал, маленький по численности, 26 процентов оттока;  \n",
    "    \n",
    "2 кластер: равномерно распределён гендер, клиенты живут рядом, в основном короткие абонименты, около 28 лет, доп.услуги на 131 у.е., в основном, обратились около 2 месяцев назад за услугами, посещают 1 раза в неделю зал, 50 процентов оттока; \n",
    "    \n",
    "3 кластер: почти равномерно распределён гендер, клиенты живут рядом, различная длительность абонементов, около 30 лет, доп.услуги на 166 у.е., в основном, обратились около 5 месяцев назад за услугами, посещают 3 раза в неделю зал, 4 процента оттока;  \n",
    "    \n",
    "4 кластер: равномерно распределён гендер, клиенты живут не рядом, больше коротких абонементов, около 28 лет, доп.услуги на 136 у.е., в основном, обратились около 3 месяцев назад за услугами, посещают 1-2 раза в неделю зал, 42 процента оттока;      \n"
   ]
  },
  {
   "cell_type": "markdown",
   "metadata": {},
   "source": [
    "**Доля оттока по кластерам**<a id='step_12'></a>"
   ]
  },
  {
   "cell_type": "code",
   "execution_count": 28,
   "metadata": {},
   "outputs": [
    {
     "data": {
      "text/plain": [
       "cluster_km\n",
       "0    0.102513\n",
       "1    0.267532\n",
       "2    0.502110\n",
       "3    0.041020\n",
       "4    0.420263\n",
       "Name: churn, dtype: float64"
      ]
     },
     "execution_count": 28,
     "metadata": {},
     "output_type": "execute_result"
    }
   ],
   "source": [
    "data_new.groupby(['cluster_km'])['churn'].mean()"
   ]
  },
  {
   "cell_type": "markdown",
   "metadata": {},
   "source": [
    "Доля оттока по кластерам различна. В третьем кластере она выше всего: половина посетителей уходит. А вот в первом и четвёртом кластере уходит 3 и 4 процента посетителей."
   ]
  },
  {
   "cell_type": "markdown",
   "metadata": {},
   "source": [
    "### Выводы и рекомендации по работе с клиентами"
   ]
  },
  {
   "cell_type": "markdown",
   "metadata": {},
   "source": [
    "**Вывод**<a id='step_13'></a>\n",
    "- проведён анализ полученных данных;\n",
    "- проведена стандартизация данных;\n",
    "- проанализированы распределения признаков;\n",
    "- данные очищены от мультиколинеарных признаков;\n",
    "- выбрана модель прогназирования оттока клиентов - логистическая регрессия;\n",
    "- определены метрики accuracy, precision и recall с высокими показателями;\n",
    "- произведена кластеризация данных;\n",
    "- отмечены следующие зависимости:\n",
    "    - люди реже бросают фитнес-клуб если он находится в их районе;\n",
    "    - чем дольше ходит клиент, тем выше вероятность, что он останется;\n",
    "    - акция \"приведи друга\" стимулирует клиентов ходить в центр;\n",
    "    - клиенты до 30 лет чаще перестают ходить в зал;\n",
    "    - чем стабильнее клиент ходит в центр в течение недели, тем вероятнее он не забросит;\n",
    "    - чем короче длительность абонемента, тем выше вероятность потерять клиента. "
   ]
  },
  {
   "cell_type": "markdown",
   "metadata": {},
   "source": [
    "**Рекомендации**\n",
    "- чаще привлекать клиентов из своего района города(листовки в ближайщих дома, раздача у остановок и тп);\n",
    "- можно попробовать привлечь студентов акциями \"по студенческому билету скидка, если вы вдвоём\";\n",
    "- организация марафонов по подготовке к спортивным мероприятиям или к праздникам(клиенты любят быстрый результат);\n",
    "- мотивация на стабильное посещение \"5 занятий проходил, на 6-е скидку на кофе получил\";\n",
    "- мотивировать людей покупать более длительные абонементы(годовой абонемент и полотенца в подарок);\n",
    "- смс-рассылка с напоминанием о \"любимых\" групповых занятиях. "
   ]
  },
  {
   "cell_type": "code",
   "execution_count": null,
   "metadata": {},
   "outputs": [],
   "source": []
  }
 ],
 "metadata": {
  "ExecuteTimeLog": [
   {
    "duration": 1948,
    "start_time": "2021-06-18T08:23:43.712Z"
   },
   {
    "duration": 49,
    "start_time": "2021-06-18T08:24:16.142Z"
   },
   {
    "duration": 36,
    "start_time": "2021-06-18T08:24:29.189Z"
   },
   {
    "duration": 10,
    "start_time": "2021-06-18T08:24:40.705Z"
   },
   {
    "duration": 514,
    "start_time": "2021-06-18T08:25:57.947Z"
   },
   {
    "duration": 16,
    "start_time": "2021-06-18T08:26:10.650Z"
   },
   {
    "duration": 14,
    "start_time": "2021-06-18T08:26:15.917Z"
   },
   {
    "duration": 8,
    "start_time": "2021-06-18T08:26:53.597Z"
   },
   {
    "duration": 9,
    "start_time": "2021-06-18T08:27:12.181Z"
   },
   {
    "duration": 8,
    "start_time": "2021-06-18T08:27:19.233Z"
   },
   {
    "duration": 74,
    "start_time": "2021-06-18T08:54:44.398Z"
   },
   {
    "duration": 7,
    "start_time": "2021-06-18T08:58:05.691Z"
   },
   {
    "duration": 7,
    "start_time": "2021-06-18T08:58:38.153Z"
   },
   {
    "duration": 73,
    "start_time": "2021-06-18T08:58:43.160Z"
   },
   {
    "duration": 6,
    "start_time": "2021-06-18T08:59:16.108Z"
   },
   {
    "duration": 25,
    "start_time": "2021-06-18T09:21:22.880Z"
   },
   {
    "duration": 8228,
    "start_time": "2021-06-18T09:26:54.339Z"
   },
   {
    "duration": 29,
    "start_time": "2021-06-18T09:27:57.599Z"
   },
   {
    "duration": 362,
    "start_time": "2021-06-18T09:29:24.660Z"
   },
   {
    "duration": 704,
    "start_time": "2021-06-18T09:29:36.890Z"
   },
   {
    "duration": 4780,
    "start_time": "2021-06-18T09:30:07.774Z"
   },
   {
    "duration": 2410,
    "start_time": "2021-06-18T09:31:30.855Z"
   },
   {
    "duration": 1015,
    "start_time": "2021-06-18T09:31:42.977Z"
   },
   {
    "duration": 657,
    "start_time": "2021-06-18T09:32:30.281Z"
   },
   {
    "duration": 4762,
    "start_time": "2021-06-18T09:32:36.078Z"
   },
   {
    "duration": 669,
    "start_time": "2021-06-18T09:33:14.556Z"
   },
   {
    "duration": 16320,
    "start_time": "2021-06-18T09:36:15.581Z"
   },
   {
    "duration": 12409,
    "start_time": "2021-06-18T09:36:42.042Z"
   },
   {
    "duration": 5245,
    "start_time": "2021-06-18T09:36:59.343Z"
   },
   {
    "duration": 4842,
    "start_time": "2021-06-18T09:45:04.583Z"
   },
   {
    "duration": 340,
    "start_time": "2021-06-18T09:47:44.905Z"
   },
   {
    "duration": 116,
    "start_time": "2021-06-18T09:49:12.949Z"
   },
   {
    "duration": 4352,
    "start_time": "2021-06-18T09:49:17.866Z"
   },
   {
    "duration": 4419,
    "start_time": "2021-06-18T09:52:06.655Z"
   },
   {
    "duration": 4807,
    "start_time": "2021-06-18T09:52:26.092Z"
   },
   {
    "duration": 4497,
    "start_time": "2021-06-18T09:52:42.639Z"
   },
   {
    "duration": 4608,
    "start_time": "2021-06-18T09:52:59.972Z"
   },
   {
    "duration": 8576,
    "start_time": "2021-06-18T09:56:40.344Z"
   },
   {
    "duration": 4785,
    "start_time": "2021-06-18T10:01:17.929Z"
   },
   {
    "duration": 1115,
    "start_time": "2021-06-18T10:04:47.159Z"
   },
   {
    "duration": 1393,
    "start_time": "2021-06-18T10:05:14.663Z"
   },
   {
    "duration": 1211,
    "start_time": "2021-06-18T10:06:46.976Z"
   },
   {
    "duration": 1173,
    "start_time": "2021-06-18T10:07:21.434Z"
   },
   {
    "duration": 1539,
    "start_time": "2021-06-18T10:07:43.935Z"
   },
   {
    "duration": 1432,
    "start_time": "2021-06-18T10:09:02.358Z"
   },
   {
    "duration": 2048,
    "start_time": "2021-06-18T10:09:51.282Z"
   },
   {
    "duration": 3796,
    "start_time": "2021-06-18T10:10:05.935Z"
   },
   {
    "duration": 4245,
    "start_time": "2021-06-18T10:10:34.288Z"
   },
   {
    "duration": 4633,
    "start_time": "2021-06-18T10:12:57.445Z"
   },
   {
    "duration": 255,
    "start_time": "2021-06-18T10:16:55.480Z"
   },
   {
    "duration": 4847,
    "start_time": "2021-06-18T10:17:09.196Z"
   },
   {
    "duration": 4827,
    "start_time": "2021-06-18T10:17:25.587Z"
   },
   {
    "duration": 4233,
    "start_time": "2021-06-18T10:17:37.192Z"
   },
   {
    "duration": 5151,
    "start_time": "2021-06-18T10:17:51.536Z"
   },
   {
    "duration": 4374,
    "start_time": "2021-06-18T10:19:30.811Z"
   },
   {
    "duration": 1589,
    "start_time": "2021-06-18T10:21:11.896Z"
   },
   {
    "duration": 1697,
    "start_time": "2021-06-18T10:21:29.213Z"
   },
   {
    "duration": 1761,
    "start_time": "2021-06-18T10:23:22.949Z"
   },
   {
    "duration": 1894,
    "start_time": "2021-06-18T10:23:38.990Z"
   },
   {
    "duration": 1766,
    "start_time": "2021-06-18T10:23:59.623Z"
   },
   {
    "duration": 1858,
    "start_time": "2021-06-18T10:24:09.760Z"
   },
   {
    "duration": 2064,
    "start_time": "2021-06-18T10:24:26.472Z"
   },
   {
    "duration": 2058,
    "start_time": "2021-06-18T10:24:35.638Z"
   },
   {
    "duration": 1950,
    "start_time": "2021-06-18T10:25:43.274Z"
   },
   {
    "duration": 117,
    "start_time": "2021-06-18T10:26:15.347Z"
   },
   {
    "duration": 1926,
    "start_time": "2021-06-18T10:26:20.677Z"
   },
   {
    "duration": 1273,
    "start_time": "2021-06-18T10:26:39.518Z"
   },
   {
    "duration": 1947,
    "start_time": "2021-06-18T10:26:50.555Z"
   },
   {
    "duration": 2009,
    "start_time": "2021-06-18T10:27:29.699Z"
   },
   {
    "duration": 401,
    "start_time": "2021-06-18T13:25:04.998Z"
   },
   {
    "duration": 1966,
    "start_time": "2021-06-18T13:25:14.873Z"
   },
   {
    "duration": 42,
    "start_time": "2021-06-18T13:25:16.843Z"
   },
   {
    "duration": 10,
    "start_time": "2021-06-18T13:25:16.888Z"
   },
   {
    "duration": 35,
    "start_time": "2021-06-18T13:25:16.901Z"
   },
   {
    "duration": 8,
    "start_time": "2021-06-18T13:25:16.941Z"
   },
   {
    "duration": 7,
    "start_time": "2021-06-18T13:25:16.952Z"
   },
   {
    "duration": 100,
    "start_time": "2021-06-18T13:25:16.961Z"
   },
   {
    "duration": 22,
    "start_time": "2021-06-18T13:25:17.064Z"
   },
   {
    "duration": 4494,
    "start_time": "2021-06-18T13:25:17.089Z"
   },
   {
    "duration": 1926,
    "start_time": "2021-06-18T13:25:21.585Z"
   },
   {
    "duration": 15,
    "start_time": "2021-06-18T13:25:23.513Z"
   },
   {
    "duration": 49,
    "start_time": "2021-06-18T13:36:51.772Z"
   },
   {
    "duration": 8,
    "start_time": "2021-06-18T13:37:04.198Z"
   },
   {
    "duration": 9,
    "start_time": "2021-06-18T13:41:45.231Z"
   },
   {
    "duration": 466,
    "start_time": "2021-06-18T13:46:08.483Z"
   },
   {
    "duration": 27,
    "start_time": "2021-06-18T13:47:08.430Z"
   },
   {
    "duration": 3,
    "start_time": "2021-06-18T13:47:14.035Z"
   },
   {
    "duration": 46,
    "start_time": "2021-06-18T13:48:16.397Z"
   },
   {
    "duration": 296,
    "start_time": "2021-06-18T13:48:52.525Z"
   },
   {
    "duration": 15,
    "start_time": "2021-06-18T13:49:23.256Z"
   },
   {
    "duration": 4,
    "start_time": "2021-06-18T13:49:31.686Z"
   },
   {
    "duration": 96,
    "start_time": "2021-06-18T13:49:45.246Z"
   },
   {
    "duration": 8,
    "start_time": "2021-06-18T13:50:42.150Z"
   },
   {
    "duration": 10,
    "start_time": "2021-06-18T13:50:44.880Z"
   },
   {
    "duration": 5,
    "start_time": "2021-06-18T13:50:47.152Z"
   },
   {
    "duration": 90,
    "start_time": "2021-06-18T13:50:49.137Z"
   },
   {
    "duration": 4,
    "start_time": "2021-06-18T13:50:52.810Z"
   },
   {
    "duration": 104,
    "start_time": "2021-06-18T13:50:55.025Z"
   },
   {
    "duration": 6,
    "start_time": "2021-06-18T14:18:02.554Z"
   },
   {
    "duration": 95,
    "start_time": "2021-06-18T14:18:12.613Z"
   },
   {
    "duration": 99,
    "start_time": "2021-06-18T14:18:20.545Z"
   },
   {
    "duration": 5,
    "start_time": "2021-06-18T14:19:09.945Z"
   },
   {
    "duration": 11,
    "start_time": "2021-06-18T14:19:45.599Z"
   },
   {
    "duration": 616,
    "start_time": "2021-06-18T14:21:25.154Z"
   },
   {
    "duration": 6,
    "start_time": "2021-06-18T14:22:11.929Z"
   },
   {
    "duration": 10,
    "start_time": "2021-06-18T14:22:15.138Z"
   },
   {
    "duration": 542,
    "start_time": "2021-06-18T14:22:21.167Z"
   },
   {
    "duration": 39,
    "start_time": "2021-06-18T14:25:22.804Z"
   },
   {
    "duration": 98,
    "start_time": "2021-06-18T14:25:35.167Z"
   },
   {
    "duration": 10,
    "start_time": "2021-06-18T14:25:38.703Z"
   },
   {
    "duration": 536,
    "start_time": "2021-06-18T14:25:42.438Z"
   },
   {
    "duration": 570,
    "start_time": "2021-06-18T14:31:26.110Z"
   },
   {
    "duration": 4,
    "start_time": "2021-06-18T14:31:34.998Z"
   },
   {
    "duration": 596,
    "start_time": "2021-06-18T14:31:38.508Z"
   },
   {
    "duration": 102,
    "start_time": "2021-06-18T14:31:46.617Z"
   },
   {
    "duration": 4,
    "start_time": "2021-06-18T14:31:54.842Z"
   },
   {
    "duration": 533,
    "start_time": "2021-06-18T14:31:57.559Z"
   },
   {
    "duration": 4,
    "start_time": "2021-06-18T14:32:10.146Z"
   },
   {
    "duration": 821,
    "start_time": "2021-06-18T14:32:13.345Z"
   },
   {
    "duration": 702,
    "start_time": "2021-06-18T14:39:20.350Z"
   },
   {
    "duration": 3,
    "start_time": "2021-06-18T14:40:15.363Z"
   },
   {
    "duration": 1073,
    "start_time": "2021-06-18T14:40:17.346Z"
   },
   {
    "duration": 5,
    "start_time": "2021-06-18T14:40:25.068Z"
   },
   {
    "duration": 526,
    "start_time": "2021-06-18T14:40:27.487Z"
   },
   {
    "duration": 5,
    "start_time": "2021-06-18T14:42:49.112Z"
   },
   {
    "duration": 27,
    "start_time": "2021-06-18T14:43:02.066Z"
   },
   {
    "duration": 13,
    "start_time": "2021-06-18T14:44:38.884Z"
   },
   {
    "duration": 4,
    "start_time": "2021-06-18T14:44:45.636Z"
   },
   {
    "duration": 919,
    "start_time": "2021-06-18T14:44:47.472Z"
   },
   {
    "duration": 548,
    "start_time": "2021-06-18T14:44:51.605Z"
   },
   {
    "duration": 10,
    "start_time": "2021-06-18T15:02:56.928Z"
   },
   {
    "duration": 731,
    "start_time": "2021-06-18T15:03:15.031Z"
   },
   {
    "duration": 946,
    "start_time": "2021-06-18T15:05:31.235Z"
   },
   {
    "duration": 760,
    "start_time": "2021-06-18T15:05:35.839Z"
   },
   {
    "duration": 10,
    "start_time": "2021-06-18T15:07:55.139Z"
   },
   {
    "duration": 923,
    "start_time": "2021-06-18T15:08:01.758Z"
   },
   {
    "duration": 565,
    "start_time": "2021-06-18T15:08:05.845Z"
   },
   {
    "duration": 2240,
    "start_time": "2021-06-18T15:09:51.288Z"
   },
   {
    "duration": 45,
    "start_time": "2021-06-18T15:09:53.531Z"
   },
   {
    "duration": 12,
    "start_time": "2021-06-18T15:09:53.580Z"
   },
   {
    "duration": 32,
    "start_time": "2021-06-18T15:09:53.594Z"
   },
   {
    "duration": 7,
    "start_time": "2021-06-18T15:09:53.629Z"
   },
   {
    "duration": 6,
    "start_time": "2021-06-18T15:09:53.640Z"
   },
   {
    "duration": 101,
    "start_time": "2021-06-18T15:09:53.648Z"
   },
   {
    "duration": 23,
    "start_time": "2021-06-18T15:09:53.752Z"
   },
   {
    "duration": 4975,
    "start_time": "2021-06-18T15:09:53.778Z"
   },
   {
    "duration": 2208,
    "start_time": "2021-06-18T15:09:58.755Z"
   },
   {
    "duration": 7,
    "start_time": "2021-06-18T15:10:00.967Z"
   },
   {
    "duration": 12,
    "start_time": "2021-06-18T15:10:00.977Z"
   },
   {
    "duration": 37,
    "start_time": "2021-06-18T15:10:00.992Z"
   },
   {
    "duration": 5,
    "start_time": "2021-06-18T15:10:01.032Z"
   },
   {
    "duration": 88,
    "start_time": "2021-06-18T15:10:01.040Z"
   },
   {
    "duration": 92,
    "start_time": "2021-06-18T15:10:01.131Z"
   },
   {
    "duration": 1098,
    "start_time": "2021-06-18T15:10:01.226Z"
   },
   {
    "duration": 6,
    "start_time": "2021-06-18T15:10:02.326Z"
   },
   {
    "duration": 21,
    "start_time": "2021-06-18T15:10:02.334Z"
   },
   {
    "duration": 759,
    "start_time": "2021-06-18T15:10:02.358Z"
   },
   {
    "duration": 6,
    "start_time": "2021-06-18T15:13:31.119Z"
   },
   {
    "duration": 10,
    "start_time": "2021-06-18T15:14:48.271Z"
   },
   {
    "duration": 135619,
    "start_time": "2021-06-18T15:14:52.462Z"
   },
   {
    "duration": 292,
    "start_time": "2021-06-18T15:17:08.084Z"
   },
   {
    "duration": 12,
    "start_time": "2021-06-18T15:18:12.518Z"
   },
   {
    "duration": 10,
    "start_time": "2021-06-18T15:18:16.529Z"
   },
   {
    "duration": 1044,
    "start_time": "2021-06-18T15:18:24.096Z"
   },
   {
    "duration": 534,
    "start_time": "2021-06-18T15:18:29.419Z"
   },
   {
    "duration": 287,
    "start_time": "2021-06-18T15:29:17.347Z"
   },
   {
    "duration": 25,
    "start_time": "2021-06-18T15:29:34.160Z"
   },
   {
    "duration": 1181,
    "start_time": "2021-06-18T15:29:40.452Z"
   },
   {
    "duration": 1420,
    "start_time": "2021-06-18T15:30:10.018Z"
   },
   {
    "duration": 1551,
    "start_time": "2021-06-18T15:30:16.876Z"
   },
   {
    "duration": 1881,
    "start_time": "2021-06-18T15:33:35.662Z"
   },
   {
    "duration": 1941,
    "start_time": "2021-06-18T15:33:56.546Z"
   },
   {
    "duration": 29,
    "start_time": "2021-06-18T15:38:47.064Z"
   },
   {
    "duration": 13409,
    "start_time": "2021-06-18T15:41:37.497Z"
   },
   {
    "duration": 13840,
    "start_time": "2021-06-18T15:45:28.841Z"
   },
   {
    "duration": 6487,
    "start_time": "2021-06-18T15:45:58.125Z"
   },
   {
    "duration": 5018,
    "start_time": "2021-06-18T15:46:46.237Z"
   },
   {
    "duration": 5727,
    "start_time": "2021-06-18T15:47:30.421Z"
   },
   {
    "duration": 5692,
    "start_time": "2021-06-18T15:47:56.862Z"
   },
   {
    "duration": 5341,
    "start_time": "2021-06-18T15:49:31.697Z"
   },
   {
    "duration": 6,
    "start_time": "2021-06-18T15:50:11.441Z"
   },
   {
    "duration": 4,
    "start_time": "2021-06-18T15:50:23.621Z"
   },
   {
    "duration": 466,
    "start_time": "2021-06-18T15:50:25.614Z"
   },
   {
    "duration": 11,
    "start_time": "2021-06-18T15:50:33.206Z"
   },
   {
    "duration": 4606,
    "start_time": "2021-06-18T15:51:34.917Z"
   },
   {
    "duration": 10,
    "start_time": "2021-06-18T15:57:27.566Z"
   },
   {
    "duration": 4,
    "start_time": "2021-06-18T15:57:38.435Z"
   },
   {
    "duration": 37,
    "start_time": "2021-06-18T15:57:41.498Z"
   },
   {
    "duration": 9,
    "start_time": "2021-06-18T15:57:46.182Z"
   },
   {
    "duration": 11,
    "start_time": "2021-06-18T15:57:54.670Z"
   },
   {
    "duration": 2011,
    "start_time": "2021-06-18T15:58:14.127Z"
   },
   {
    "duration": 46,
    "start_time": "2021-06-18T15:58:16.141Z"
   },
   {
    "duration": 12,
    "start_time": "2021-06-18T15:58:16.191Z"
   },
   {
    "duration": 15,
    "start_time": "2021-06-18T15:58:16.225Z"
   },
   {
    "duration": 10,
    "start_time": "2021-06-18T15:58:16.243Z"
   },
   {
    "duration": 10,
    "start_time": "2021-06-18T15:58:16.256Z"
   },
   {
    "duration": 112,
    "start_time": "2021-06-18T15:58:16.268Z"
   },
   {
    "duration": 23,
    "start_time": "2021-06-18T15:58:16.384Z"
   },
   {
    "duration": 4395,
    "start_time": "2021-06-18T15:58:16.424Z"
   },
   {
    "duration": 1900,
    "start_time": "2021-06-18T15:58:20.824Z"
   },
   {
    "duration": 6,
    "start_time": "2021-06-18T15:58:22.726Z"
   },
   {
    "duration": 13,
    "start_time": "2021-06-18T15:58:22.734Z"
   },
   {
    "duration": 10,
    "start_time": "2021-06-18T15:58:22.750Z"
   },
   {
    "duration": 4,
    "start_time": "2021-06-18T15:58:22.762Z"
   },
   {
    "duration": 75,
    "start_time": "2021-06-18T15:58:22.768Z"
   },
   {
    "duration": 81,
    "start_time": "2021-06-18T15:58:22.845Z"
   },
   {
    "duration": 499,
    "start_time": "2021-06-18T15:58:23.025Z"
   },
   {
    "duration": 4,
    "start_time": "2021-06-18T15:58:23.527Z"
   },
   {
    "duration": 26,
    "start_time": "2021-06-18T15:58:23.534Z"
   },
   {
    "duration": 11,
    "start_time": "2021-06-18T15:58:23.563Z"
   },
   {
    "duration": 8,
    "start_time": "2021-06-18T15:58:23.577Z"
   },
   {
    "duration": 137334,
    "start_time": "2021-06-18T15:58:23.588Z"
   },
   {
    "duration": 1598,
    "start_time": "2021-06-18T16:00:40.926Z"
   },
   {
    "duration": 27,
    "start_time": "2021-06-18T16:00:42.527Z"
   },
   {
    "duration": 4633,
    "start_time": "2021-06-18T16:00:42.557Z"
   },
   {
    "duration": 10002,
    "start_time": "2021-06-18T16:10:53.076Z"
   },
   {
    "duration": 1644,
    "start_time": "2021-06-18T16:11:08.492Z"
   },
   {
    "duration": 27,
    "start_time": "2021-06-18T16:11:11.620Z"
   },
   {
    "duration": 4882,
    "start_time": "2021-06-18T16:11:15.306Z"
   },
   {
    "duration": 3167,
    "start_time": "2021-06-18T16:18:23.914Z"
   },
   {
    "duration": 4868,
    "start_time": "2021-06-18T16:19:34.905Z"
   },
   {
    "duration": 4794,
    "start_time": "2021-06-18T16:20:21.953Z"
   },
   {
    "duration": 4596,
    "start_time": "2021-06-18T16:21:18.108Z"
   },
   {
    "duration": 5138,
    "start_time": "2021-06-18T16:21:29.464Z"
   },
   {
    "duration": 5124,
    "start_time": "2021-06-18T16:22:02.644Z"
   },
   {
    "duration": 7,
    "start_time": "2021-06-18T16:32:41.516Z"
   },
   {
    "duration": 9,
    "start_time": "2021-06-18T16:32:51.228Z"
   },
   {
    "duration": 278,
    "start_time": "2021-06-18T18:31:58.806Z"
   },
   {
    "duration": 297,
    "start_time": "2021-06-18T18:32:06.136Z"
   },
   {
    "duration": 274,
    "start_time": "2021-06-18T18:32:55.742Z"
   },
   {
    "duration": 6,
    "start_time": "2021-06-18T18:33:04.988Z"
   },
   {
    "duration": 7,
    "start_time": "2021-06-18T18:33:24.654Z"
   },
   {
    "duration": 6,
    "start_time": "2021-06-18T18:33:34.781Z"
   },
   {
    "duration": 1942,
    "start_time": "2021-06-18T18:36:12.705Z"
   },
   {
    "duration": 41,
    "start_time": "2021-06-18T18:36:14.649Z"
   },
   {
    "duration": 11,
    "start_time": "2021-06-18T18:36:14.693Z"
   },
   {
    "duration": 23,
    "start_time": "2021-06-18T18:36:14.707Z"
   },
   {
    "duration": 8,
    "start_time": "2021-06-18T18:36:14.732Z"
   },
   {
    "duration": 12,
    "start_time": "2021-06-18T18:36:14.742Z"
   },
   {
    "duration": 101,
    "start_time": "2021-06-18T18:36:14.757Z"
   },
   {
    "duration": 24,
    "start_time": "2021-06-18T18:36:14.861Z"
   },
   {
    "duration": 4419,
    "start_time": "2021-06-18T18:36:14.889Z"
   },
   {
    "duration": 1764,
    "start_time": "2021-06-18T18:36:19.311Z"
   },
   {
    "duration": 472,
    "start_time": "2021-06-18T18:36:21.078Z"
   },
   {
    "duration": -105,
    "start_time": "2021-06-18T18:36:21.659Z"
   },
   {
    "duration": -107,
    "start_time": "2021-06-18T18:36:21.663Z"
   },
   {
    "duration": -108,
    "start_time": "2021-06-18T18:36:21.666Z"
   },
   {
    "duration": -108,
    "start_time": "2021-06-18T18:36:21.668Z"
   },
   {
    "duration": -114,
    "start_time": "2021-06-18T18:36:21.676Z"
   },
   {
    "duration": -115,
    "start_time": "2021-06-18T18:36:21.679Z"
   },
   {
    "duration": -114,
    "start_time": "2021-06-18T18:36:21.681Z"
   },
   {
    "duration": -114,
    "start_time": "2021-06-18T18:36:21.683Z"
   },
   {
    "duration": -113,
    "start_time": "2021-06-18T18:36:21.684Z"
   },
   {
    "duration": -112,
    "start_time": "2021-06-18T18:36:21.685Z"
   },
   {
    "duration": -111,
    "start_time": "2021-06-18T18:36:21.686Z"
   },
   {
    "duration": -138,
    "start_time": "2021-06-18T18:36:21.716Z"
   },
   {
    "duration": -137,
    "start_time": "2021-06-18T18:36:21.717Z"
   },
   {
    "duration": -138,
    "start_time": "2021-06-18T18:36:21.720Z"
   },
   {
    "duration": -142,
    "start_time": "2021-06-18T18:36:21.726Z"
   },
   {
    "duration": -142,
    "start_time": "2021-06-18T18:36:21.728Z"
   },
   {
    "duration": 1967,
    "start_time": "2021-06-18T18:38:09.451Z"
   },
   {
    "duration": 41,
    "start_time": "2021-06-18T18:38:11.421Z"
   },
   {
    "duration": 11,
    "start_time": "2021-06-18T18:38:11.465Z"
   },
   {
    "duration": 19,
    "start_time": "2021-06-18T18:38:11.479Z"
   },
   {
    "duration": 28,
    "start_time": "2021-06-18T18:38:11.501Z"
   },
   {
    "duration": 10,
    "start_time": "2021-06-18T18:38:11.532Z"
   },
   {
    "duration": 94,
    "start_time": "2021-06-18T18:38:11.545Z"
   },
   {
    "duration": 27,
    "start_time": "2021-06-18T18:38:11.642Z"
   },
   {
    "duration": 4416,
    "start_time": "2021-06-18T18:38:11.675Z"
   },
   {
    "duration": 1766,
    "start_time": "2021-06-18T18:38:16.094Z"
   },
   {
    "duration": 480,
    "start_time": "2021-06-18T18:38:17.863Z"
   },
   {
    "duration": -110,
    "start_time": "2021-06-18T18:38:18.456Z"
   },
   {
    "duration": -110,
    "start_time": "2021-06-18T18:38:18.457Z"
   },
   {
    "duration": -109,
    "start_time": "2021-06-18T18:38:18.458Z"
   },
   {
    "duration": -110,
    "start_time": "2021-06-18T18:38:18.460Z"
   },
   {
    "duration": -109,
    "start_time": "2021-06-18T18:38:18.461Z"
   },
   {
    "duration": -112,
    "start_time": "2021-06-18T18:38:18.465Z"
   },
   {
    "duration": -114,
    "start_time": "2021-06-18T18:38:18.468Z"
   },
   {
    "duration": -119,
    "start_time": "2021-06-18T18:38:18.475Z"
   },
   {
    "duration": -120,
    "start_time": "2021-06-18T18:38:18.477Z"
   },
   {
    "duration": -121,
    "start_time": "2021-06-18T18:38:18.479Z"
   },
   {
    "duration": -121,
    "start_time": "2021-06-18T18:38:18.481Z"
   },
   {
    "duration": -122,
    "start_time": "2021-06-18T18:38:18.483Z"
   },
   {
    "duration": -121,
    "start_time": "2021-06-18T18:38:18.484Z"
   },
   {
    "duration": -122,
    "start_time": "2021-06-18T18:38:18.486Z"
   },
   {
    "duration": -123,
    "start_time": "2021-06-18T18:38:18.488Z"
   },
   {
    "duration": -123,
    "start_time": "2021-06-18T18:38:18.490Z"
   },
   {
    "duration": 1984,
    "start_time": "2021-06-18T18:40:12.149Z"
   },
   {
    "duration": 44,
    "start_time": "2021-06-18T18:40:14.135Z"
   },
   {
    "duration": 10,
    "start_time": "2021-06-18T18:40:14.182Z"
   },
   {
    "duration": 12,
    "start_time": "2021-06-18T18:40:14.195Z"
   },
   {
    "duration": 8,
    "start_time": "2021-06-18T18:40:14.224Z"
   },
   {
    "duration": 8,
    "start_time": "2021-06-18T18:40:14.234Z"
   },
   {
    "duration": 100,
    "start_time": "2021-06-18T18:40:14.244Z"
   },
   {
    "duration": 23,
    "start_time": "2021-06-18T18:40:14.348Z"
   },
   {
    "duration": 4806,
    "start_time": "2021-06-18T18:40:14.374Z"
   },
   {
    "duration": 1799,
    "start_time": "2021-06-18T18:40:19.183Z"
   },
   {
    "duration": 7,
    "start_time": "2021-06-18T18:40:20.984Z"
   },
   {
    "duration": 31,
    "start_time": "2021-06-18T18:40:20.993Z"
   },
   {
    "duration": 21,
    "start_time": "2021-06-18T18:40:21.027Z"
   },
   {
    "duration": 9,
    "start_time": "2021-06-18T18:40:21.051Z"
   },
   {
    "duration": 4,
    "start_time": "2021-06-18T18:40:21.062Z"
   },
   {
    "duration": 60,
    "start_time": "2021-06-18T18:40:21.068Z"
   },
   {
    "duration": 95,
    "start_time": "2021-06-18T18:40:21.132Z"
   },
   {
    "duration": 579,
    "start_time": "2021-06-18T18:40:21.230Z"
   },
   {
    "duration": 4,
    "start_time": "2021-06-18T18:40:21.812Z"
   },
   {
    "duration": 16,
    "start_time": "2021-06-18T18:40:21.818Z"
   },
   {
    "duration": 10,
    "start_time": "2021-06-18T18:40:21.836Z"
   },
   {
    "duration": 14,
    "start_time": "2021-06-18T18:40:21.849Z"
   },
   {
    "duration": 134225,
    "start_time": "2021-06-18T18:40:21.867Z"
   },
   {
    "duration": 1647,
    "start_time": "2021-06-18T18:42:36.096Z"
   },
   {
    "duration": 24,
    "start_time": "2021-06-18T18:42:37.825Z"
   },
   {
    "duration": 10760,
    "start_time": "2021-06-18T18:42:37.851Z"
   },
   {
    "duration": -155,
    "start_time": "2021-06-18T18:42:48.769Z"
   },
   {
    "duration": 5209,
    "start_time": "2021-06-18T18:43:37.281Z"
   },
   {
    "duration": 6607,
    "start_time": "2021-06-18T18:43:46.342Z"
   },
   {
    "duration": 9,
    "start_time": "2021-06-18T18:49:30.010Z"
   },
   {
    "duration": 1939,
    "start_time": "2021-06-18T19:31:08.073Z"
   },
   {
    "duration": 41,
    "start_time": "2021-06-18T19:31:10.015Z"
   },
   {
    "duration": 10,
    "start_time": "2021-06-18T19:31:10.060Z"
   },
   {
    "duration": 19,
    "start_time": "2021-06-18T19:31:10.073Z"
   },
   {
    "duration": 29,
    "start_time": "2021-06-18T19:31:10.095Z"
   },
   {
    "duration": 14,
    "start_time": "2021-06-18T19:31:10.127Z"
   },
   {
    "duration": 76,
    "start_time": "2021-06-18T19:31:10.144Z"
   },
   {
    "duration": 22,
    "start_time": "2021-06-18T19:31:10.225Z"
   },
   {
    "duration": 4826,
    "start_time": "2021-06-18T19:31:10.251Z"
   },
   {
    "duration": 1808,
    "start_time": "2021-06-18T19:31:15.081Z"
   },
   {
    "duration": 9,
    "start_time": "2021-06-18T19:31:16.892Z"
   },
   {
    "duration": 24,
    "start_time": "2021-06-18T19:31:16.903Z"
   },
   {
    "duration": 13,
    "start_time": "2021-06-18T19:31:16.930Z"
   },
   {
    "duration": 9,
    "start_time": "2021-06-18T19:31:16.945Z"
   },
   {
    "duration": 3,
    "start_time": "2021-06-18T19:31:16.957Z"
   },
   {
    "duration": 69,
    "start_time": "2021-06-18T19:31:16.963Z"
   },
   {
    "duration": 4,
    "start_time": "2021-06-18T19:31:17.125Z"
   },
   {
    "duration": 488,
    "start_time": "2021-06-18T19:31:17.131Z"
   },
   {
    "duration": 4,
    "start_time": "2021-06-18T19:31:17.623Z"
   },
   {
    "duration": 23,
    "start_time": "2021-06-18T19:31:17.629Z"
   },
   {
    "duration": 16,
    "start_time": "2021-06-18T19:31:17.654Z"
   },
   {
    "duration": 23,
    "start_time": "2021-06-18T19:31:17.672Z"
   },
   {
    "duration": 135214,
    "start_time": "2021-06-18T19:31:17.697Z"
   },
   {
    "duration": 1714,
    "start_time": "2021-06-18T19:33:32.914Z"
   },
   {
    "duration": 24,
    "start_time": "2021-06-18T19:33:34.630Z"
   },
   {
    "duration": 4818,
    "start_time": "2021-06-18T19:33:34.656Z"
   },
   {
    "duration": 8,
    "start_time": "2021-06-18T19:33:39.478Z"
   },
   {
    "duration": 4803,
    "start_time": "2021-06-19T05:35:37.394Z"
   },
   {
    "duration": 89,
    "start_time": "2021-06-19T05:35:42.200Z"
   },
   {
    "duration": 75,
    "start_time": "2021-06-19T05:35:42.292Z"
   },
   {
    "duration": 17,
    "start_time": "2021-06-19T05:35:42.370Z"
   },
   {
    "duration": 73,
    "start_time": "2021-06-19T05:35:42.390Z"
   },
   {
    "duration": 27,
    "start_time": "2021-06-19T05:35:42.466Z"
   },
   {
    "duration": 183,
    "start_time": "2021-06-19T05:35:42.497Z"
   },
   {
    "duration": 88,
    "start_time": "2021-06-19T05:35:42.684Z"
   },
   {
    "duration": 10183,
    "start_time": "2021-06-19T05:35:42.776Z"
   },
   {
    "duration": 3806,
    "start_time": "2021-06-19T05:35:52.962Z"
   },
   {
    "duration": 9,
    "start_time": "2021-06-19T05:35:56.774Z"
   },
   {
    "duration": 5,
    "start_time": "2021-06-19T05:35:56.786Z"
   },
   {
    "duration": 13,
    "start_time": "2021-06-19T05:35:56.859Z"
   },
   {
    "duration": 16,
    "start_time": "2021-06-19T05:35:56.877Z"
   },
   {
    "duration": 9,
    "start_time": "2021-06-19T05:35:56.956Z"
   },
   {
    "duration": 685,
    "start_time": "2021-06-19T05:35:56.970Z"
   },
   {
    "duration": 10,
    "start_time": "2021-06-19T05:35:57.658Z"
   },
   {
    "duration": 1148,
    "start_time": "2021-06-19T05:35:57.757Z"
   },
   {
    "duration": 5,
    "start_time": "2021-06-19T05:35:58.957Z"
   },
   {
    "duration": 14,
    "start_time": "2021-06-19T05:35:58.968Z"
   },
   {
    "duration": 77,
    "start_time": "2021-06-19T05:35:58.985Z"
   },
   {
    "duration": 15,
    "start_time": "2021-06-19T05:35:59.069Z"
   },
   {
    "duration": 2023,
    "start_time": "2021-06-19T10:53:20.074Z"
   },
   {
    "duration": 41,
    "start_time": "2021-06-19T10:53:22.099Z"
   },
   {
    "duration": 11,
    "start_time": "2021-06-19T10:53:22.143Z"
   },
   {
    "duration": 27,
    "start_time": "2021-06-19T10:53:22.157Z"
   },
   {
    "duration": 8,
    "start_time": "2021-06-19T10:53:22.187Z"
   },
   {
    "duration": 7,
    "start_time": "2021-06-19T10:53:22.197Z"
   },
   {
    "duration": 98,
    "start_time": "2021-06-19T10:53:22.207Z"
   },
   {
    "duration": 22,
    "start_time": "2021-06-19T10:53:22.309Z"
   },
   {
    "duration": 4835,
    "start_time": "2021-06-19T10:53:22.334Z"
   },
   {
    "duration": 1757,
    "start_time": "2021-06-19T10:53:27.171Z"
   },
   {
    "duration": 6,
    "start_time": "2021-06-19T10:53:28.930Z"
   },
   {
    "duration": 9,
    "start_time": "2021-06-19T10:53:28.939Z"
   },
   {
    "duration": 34,
    "start_time": "2021-06-19T10:53:28.950Z"
   },
   {
    "duration": 9,
    "start_time": "2021-06-19T10:53:28.987Z"
   },
   {
    "duration": 4,
    "start_time": "2021-06-19T10:53:28.998Z"
   },
   {
    "duration": 83,
    "start_time": "2021-06-19T10:53:29.004Z"
   },
   {
    "duration": 5,
    "start_time": "2021-06-19T10:53:29.090Z"
   },
   {
    "duration": 597,
    "start_time": "2021-06-19T10:53:29.098Z"
   },
   {
    "duration": 5,
    "start_time": "2021-06-19T10:53:29.697Z"
   },
   {
    "duration": 13,
    "start_time": "2021-06-19T10:53:29.705Z"
   },
   {
    "duration": 11,
    "start_time": "2021-06-19T10:53:29.721Z"
   },
   {
    "duration": 50,
    "start_time": "2021-06-19T10:53:29.736Z"
   },
   {
    "duration": 135811,
    "start_time": "2021-06-19T10:53:29.790Z"
   },
   {
    "duration": 1881,
    "start_time": "2021-06-19T10:55:45.604Z"
   },
   {
    "duration": 24,
    "start_time": "2021-06-19T10:55:47.487Z"
   },
   {
    "duration": 4783,
    "start_time": "2021-06-19T10:55:47.514Z"
   },
   {
    "duration": 10,
    "start_time": "2021-06-19T10:55:52.300Z"
   },
   {
    "duration": 2123,
    "start_time": "2021-06-20T10:21:35.802Z"
   },
   {
    "duration": 43,
    "start_time": "2021-06-20T10:21:37.928Z"
   },
   {
    "duration": 12,
    "start_time": "2021-06-20T10:21:37.975Z"
   },
   {
    "duration": 12,
    "start_time": "2021-06-20T10:21:38.008Z"
   },
   {
    "duration": 10,
    "start_time": "2021-06-20T10:21:38.024Z"
   },
   {
    "duration": 7,
    "start_time": "2021-06-20T10:21:38.037Z"
   },
   {
    "duration": 118,
    "start_time": "2021-06-20T10:21:38.048Z"
   },
   {
    "duration": 39,
    "start_time": "2021-06-20T10:21:38.171Z"
   },
   {
    "duration": 5054,
    "start_time": "2021-06-20T10:21:38.213Z"
   },
   {
    "duration": 1890,
    "start_time": "2021-06-20T10:21:43.269Z"
   },
   {
    "duration": 7,
    "start_time": "2021-06-20T10:21:45.162Z"
   },
   {
    "duration": 8,
    "start_time": "2021-06-20T10:21:45.172Z"
   },
   {
    "duration": 33,
    "start_time": "2021-06-20T10:21:45.183Z"
   },
   {
    "duration": 15,
    "start_time": "2021-06-20T10:21:45.220Z"
   },
   {
    "duration": 4,
    "start_time": "2021-06-20T10:21:45.237Z"
   },
   {
    "duration": 73,
    "start_time": "2021-06-20T10:21:45.243Z"
   },
   {
    "duration": 91,
    "start_time": "2021-06-20T10:21:45.319Z"
   },
   {
    "duration": 711,
    "start_time": "2021-06-20T10:21:45.412Z"
   },
   {
    "duration": 4,
    "start_time": "2021-06-20T10:21:46.125Z"
   },
   {
    "duration": 25,
    "start_time": "2021-06-20T10:21:46.132Z"
   },
   {
    "duration": 10,
    "start_time": "2021-06-20T10:21:46.159Z"
   },
   {
    "duration": 8,
    "start_time": "2021-06-20T10:21:46.172Z"
   },
   {
    "duration": 147333,
    "start_time": "2021-06-20T10:21:46.209Z"
   },
   {
    "duration": 1767,
    "start_time": "2021-06-20T10:24:13.544Z"
   },
   {
    "duration": 26,
    "start_time": "2021-06-20T10:24:15.313Z"
   },
   {
    "duration": 5068,
    "start_time": "2021-06-20T10:24:15.342Z"
   },
   {
    "duration": 9,
    "start_time": "2021-06-20T10:24:20.412Z"
   },
   {
    "duration": 1864,
    "start_time": "2021-06-20T11:08:43.651Z"
   },
   {
    "duration": 41,
    "start_time": "2021-06-20T11:08:50.982Z"
   },
   {
    "duration": -554,
    "start_time": "2021-06-20T11:14:10.922Z"
   },
   {
    "duration": 2262,
    "start_time": "2021-06-20T11:16:30.085Z"
   },
   {
    "duration": 41,
    "start_time": "2021-06-20T11:16:32.349Z"
   },
   {
    "duration": 23,
    "start_time": "2021-06-20T11:16:32.393Z"
   },
   {
    "duration": 12,
    "start_time": "2021-06-20T11:16:32.419Z"
   },
   {
    "duration": 8,
    "start_time": "2021-06-20T11:16:32.434Z"
   },
   {
    "duration": 7,
    "start_time": "2021-06-20T11:16:32.445Z"
   },
   {
    "duration": 127,
    "start_time": "2021-06-20T11:16:32.455Z"
   },
   {
    "duration": 37,
    "start_time": "2021-06-20T11:16:32.586Z"
   },
   {
    "duration": 4957,
    "start_time": "2021-06-20T11:16:32.626Z"
   },
   {
    "duration": 1910,
    "start_time": "2021-06-20T11:16:37.585Z"
   },
   {
    "duration": 17,
    "start_time": "2021-06-20T11:16:39.497Z"
   },
   {
    "duration": 10,
    "start_time": "2021-06-20T11:16:39.516Z"
   },
   {
    "duration": 15,
    "start_time": "2021-06-20T11:16:39.529Z"
   },
   {
    "duration": 9,
    "start_time": "2021-06-20T11:16:39.546Z"
   },
   {
    "duration": 4,
    "start_time": "2021-06-20T11:16:39.558Z"
   },
   {
    "duration": 67,
    "start_time": "2021-06-20T11:16:39.564Z"
   },
   {
    "duration": 6,
    "start_time": "2021-06-20T11:16:39.712Z"
   },
   {
    "duration": 512,
    "start_time": "2021-06-20T11:16:39.810Z"
   },
   {
    "duration": 4,
    "start_time": "2021-06-20T11:16:40.325Z"
   },
   {
    "duration": 15,
    "start_time": "2021-06-20T11:16:40.332Z"
   },
   {
    "duration": 16,
    "start_time": "2021-06-20T11:16:40.350Z"
   },
   {
    "duration": 11,
    "start_time": "2021-06-20T11:16:40.369Z"
   },
   {
    "duration": 143380,
    "start_time": "2021-06-20T11:16:40.410Z"
   },
   {
    "duration": 1925,
    "start_time": "2021-06-20T11:19:03.792Z"
   },
   {
    "duration": 25,
    "start_time": "2021-06-20T11:19:05.810Z"
   },
   {
    "duration": 151959,
    "start_time": "2021-06-20T11:19:05.837Z"
   },
   {
    "duration": 3360,
    "start_time": "2021-06-20T11:21:37.799Z"
   },
   {
    "duration": -519,
    "start_time": "2021-06-20T11:21:41.681Z"
   },
   {
    "duration": 153236,
    "start_time": "2021-06-20T11:22:19.813Z"
   },
   {
    "duration": 154858,
    "start_time": "2021-06-20T11:25:12.975Z"
   },
   {
    "duration": 21378,
    "start_time": "2021-06-20T11:42:29.583Z"
   },
   {
    "duration": 415,
    "start_time": "2021-06-20T11:44:01.269Z"
   },
   {
    "duration": 316,
    "start_time": "2021-06-20T11:44:43.321Z"
   },
   {
    "duration": 305,
    "start_time": "2021-06-20T11:44:59.994Z"
   },
   {
    "duration": 75156,
    "start_time": "2021-06-20T11:45:11.715Z"
   },
   {
    "duration": 78723,
    "start_time": "2021-06-20T11:50:51.413Z"
   },
   {
    "duration": 138188,
    "start_time": "2021-06-20T11:54:29.407Z"
   },
   {
    "duration": 1748,
    "start_time": "2021-06-20T11:57:37.192Z"
   },
   {
    "duration": 367,
    "start_time": "2021-06-20T12:01:03.610Z"
   },
   {
    "duration": 75887,
    "start_time": "2021-06-20T12:01:31.982Z"
   },
   {
    "duration": 289,
    "start_time": "2021-06-20T12:02:47.872Z"
   },
   {
    "duration": 88664,
    "start_time": "2021-06-20T12:04:01.316Z"
   },
   {
    "duration": 274,
    "start_time": "2021-06-20T12:07:17.451Z"
   },
   {
    "duration": 271,
    "start_time": "2021-06-20T12:07:30.727Z"
   },
   {
    "duration": 260,
    "start_time": "2021-06-20T12:08:02.625Z"
   },
   {
    "duration": 241,
    "start_time": "2021-06-20T12:08:25.137Z"
   },
   {
    "duration": 87284,
    "start_time": "2021-06-20T12:08:31.161Z"
   },
   {
    "duration": 364,
    "start_time": "2021-06-20T12:10:18.217Z"
   },
   {
    "duration": 382,
    "start_time": "2021-06-20T12:10:27.038Z"
   },
   {
    "duration": 364,
    "start_time": "2021-06-20T12:10:30.726Z"
   },
   {
    "duration": 11,
    "start_time": "2021-06-20T12:11:02.473Z"
   },
   {
    "duration": 877,
    "start_time": "2021-06-20T12:11:15.008Z"
   },
   {
    "duration": 536,
    "start_time": "2021-06-20T12:12:25.927Z"
   },
   {
    "duration": 1491,
    "start_time": "2021-06-20T12:12:45.097Z"
   },
   {
    "duration": 322,
    "start_time": "2021-06-20T12:24:30.854Z"
   },
   {
    "duration": -463,
    "start_time": "2021-06-20T12:33:04.862Z"
   },
   {
    "duration": 945,
    "start_time": "2021-06-20T12:33:26.310Z"
   },
   {
    "duration": 957,
    "start_time": "2021-06-20T12:34:34.316Z"
   },
   {
    "duration": -526,
    "start_time": "2021-06-20T12:39:28.147Z"
   },
   {
    "duration": -528,
    "start_time": "2021-06-20T12:39:28.150Z"
   },
   {
    "duration": 348,
    "start_time": "2021-06-20T12:39:29.736Z"
   },
   {
    "duration": 311,
    "start_time": "2021-06-20T12:39:40.745Z"
   },
   {
    "duration": 10,
    "start_time": "2021-06-20T12:39:49.770Z"
   },
   {
    "duration": 19,
    "start_time": "2021-06-20T12:39:54.740Z"
   },
   {
    "duration": 6,
    "start_time": "2021-06-20T12:40:04.372Z"
   },
   {
    "duration": 27,
    "start_time": "2021-06-20T12:40:26.960Z"
   },
   {
    "duration": 4,
    "start_time": "2021-06-20T12:41:09.039Z"
   },
   {
    "duration": 5,
    "start_time": "2021-06-20T12:41:14.215Z"
   },
   {
    "duration": 21,
    "start_time": "2021-06-20T12:41:19.859Z"
   },
   {
    "duration": 371,
    "start_time": "2021-06-20T12:41:57.637Z"
   },
   {
    "duration": 334,
    "start_time": "2021-06-20T12:42:26.913Z"
   },
   {
    "duration": 329,
    "start_time": "2021-06-20T12:42:45.360Z"
   },
   {
    "duration": 1408,
    "start_time": "2021-06-20T12:43:21.427Z"
   },
   {
    "duration": 309,
    "start_time": "2021-06-20T12:47:58.395Z"
   },
   {
    "duration": 34,
    "start_time": "2021-06-20T12:48:16.766Z"
   },
   {
    "duration": 21,
    "start_time": "2021-06-20T12:48:30.116Z"
   },
   {
    "duration": 20,
    "start_time": "2021-06-20T12:48:51.957Z"
   },
   {
    "duration": 324,
    "start_time": "2021-06-20T12:49:11.892Z"
   },
   {
    "duration": 316,
    "start_time": "2021-06-20T12:49:59.863Z"
   },
   {
    "duration": 312,
    "start_time": "2021-06-20T12:52:39.036Z"
   },
   {
    "duration": 362,
    "start_time": "2021-06-20T12:52:45.238Z"
   },
   {
    "duration": 654,
    "start_time": "2021-06-20T12:54:14.296Z"
   },
   {
    "duration": 686,
    "start_time": "2021-06-20T12:55:11.602Z"
   },
   {
    "duration": 1768,
    "start_time": "2021-06-20T12:56:56.341Z"
   },
   {
    "duration": 1560,
    "start_time": "2021-06-20T12:58:15.360Z"
   },
   {
    "duration": 350,
    "start_time": "2021-06-20T13:14:25.513Z"
   },
   {
    "duration": 344,
    "start_time": "2021-06-20T13:14:41.362Z"
   },
   {
    "duration": 363,
    "start_time": "2021-06-20T13:14:46.561Z"
   },
   {
    "duration": 347,
    "start_time": "2021-06-20T13:15:09.263Z"
   },
   {
    "duration": 350,
    "start_time": "2021-06-20T13:15:50.103Z"
   },
   {
    "duration": 371,
    "start_time": "2021-06-20T13:16:01.529Z"
   },
   {
    "duration": 335,
    "start_time": "2021-06-20T13:16:46.622Z"
   },
   {
    "duration": 234,
    "start_time": "2021-06-20T13:21:44.098Z"
   },
   {
    "duration": 417,
    "start_time": "2021-06-20T13:21:51.859Z"
   },
   {
    "duration": 358,
    "start_time": "2021-06-20T13:22:17.621Z"
   },
   {
    "duration": 328,
    "start_time": "2021-06-20T13:22:34.816Z"
   },
   {
    "duration": 320,
    "start_time": "2021-06-20T13:23:46.811Z"
   },
   {
    "duration": 316,
    "start_time": "2021-06-20T13:24:17.280Z"
   },
   {
    "duration": 314,
    "start_time": "2021-06-20T13:24:32.197Z"
   },
   {
    "duration": 315,
    "start_time": "2021-06-20T13:24:36.836Z"
   },
   {
    "duration": 311,
    "start_time": "2021-06-20T13:24:45.832Z"
   },
   {
    "duration": 352,
    "start_time": "2021-06-20T13:24:55.820Z"
   },
   {
    "duration": 334,
    "start_time": "2021-06-20T13:25:04.238Z"
   },
   {
    "duration": 839,
    "start_time": "2021-06-20T13:25:40.575Z"
   },
   {
    "duration": 340,
    "start_time": "2021-06-20T13:26:42.293Z"
   },
   {
    "duration": 327,
    "start_time": "2021-06-20T13:27:26.867Z"
   },
   {
    "duration": 253,
    "start_time": "2021-06-20T13:49:37.585Z"
   },
   {
    "duration": 345,
    "start_time": "2021-06-20T13:51:08.405Z"
   },
   {
    "duration": 29,
    "start_time": "2021-06-20T13:53:24.643Z"
   },
   {
    "duration": 260,
    "start_time": "2021-06-20T13:55:04.027Z"
   },
   {
    "duration": 333,
    "start_time": "2021-06-20T13:55:10.912Z"
   },
   {
    "duration": 240,
    "start_time": "2021-06-20T13:55:21.192Z"
   },
   {
    "duration": 265,
    "start_time": "2021-06-20T13:55:39.397Z"
   },
   {
    "duration": 336,
    "start_time": "2021-06-20T13:56:23.361Z"
   },
   {
    "duration": 455,
    "start_time": "2021-06-20T13:57:04.177Z"
   },
   {
    "duration": 256,
    "start_time": "2021-06-20T14:19:57.255Z"
   },
   {
    "duration": 356,
    "start_time": "2021-06-20T14:21:25.299Z"
   },
   {
    "duration": 458,
    "start_time": "2021-06-20T14:21:42.265Z"
   },
   {
    "duration": 239,
    "start_time": "2021-06-20T14:26:12.287Z"
   },
   {
    "duration": 8138,
    "start_time": "2021-06-20T14:26:33.079Z"
   },
   {
    "duration": 390,
    "start_time": "2021-06-20T14:29:13.551Z"
   },
   {
    "duration": 345,
    "start_time": "2021-06-20T14:29:29.872Z"
   },
   {
    "duration": 463,
    "start_time": "2021-06-20T14:29:56.188Z"
   },
   {
    "duration": 1959,
    "start_time": "2021-06-20T14:31:58.386Z"
   },
   {
    "duration": 1985,
    "start_time": "2021-06-20T14:32:21.564Z"
   },
   {
    "duration": 2091,
    "start_time": "2021-06-20T14:32:46.087Z"
   },
   {
    "duration": 348,
    "start_time": "2021-06-20T14:33:27.954Z"
   },
   {
    "duration": 377,
    "start_time": "2021-06-20T14:36:36.173Z"
   },
   {
    "duration": 244,
    "start_time": "2021-06-20T14:37:29.814Z"
   },
   {
    "duration": 408,
    "start_time": "2021-06-20T14:37:59.784Z"
   },
   {
    "duration": 322,
    "start_time": "2021-06-20T14:38:22.419Z"
   },
   {
    "duration": 1365,
    "start_time": "2021-06-20T14:41:01.994Z"
   },
   {
    "duration": 333,
    "start_time": "2021-06-20T14:43:07.430Z"
   },
   {
    "duration": 375,
    "start_time": "2021-06-20T14:43:20.930Z"
   },
   {
    "duration": 465,
    "start_time": "2021-06-20T14:44:44.002Z"
   },
   {
    "duration": 362,
    "start_time": "2021-06-20T14:45:09.561Z"
   },
   {
    "duration": 353,
    "start_time": "2021-06-20T14:45:21.913Z"
   },
   {
    "duration": 430,
    "start_time": "2021-06-20T14:45:30.734Z"
   },
   {
    "duration": 292,
    "start_time": "2021-06-20T14:46:18.389Z"
   },
   {
    "duration": 336,
    "start_time": "2021-06-20T14:46:27.119Z"
   },
   {
    "duration": 345,
    "start_time": "2021-06-20T14:47:36.308Z"
   },
   {
    "duration": 739,
    "start_time": "2021-06-20T14:47:44.969Z"
   },
   {
    "duration": 1416,
    "start_time": "2021-06-20T14:47:59.392Z"
   },
   {
    "duration": 9,
    "start_time": "2021-06-20T15:14:55.182Z"
   },
   {
    "duration": 2094,
    "start_time": "2021-06-20T15:15:18.380Z"
   },
   {
    "duration": 41,
    "start_time": "2021-06-20T15:15:20.477Z"
   },
   {
    "duration": 11,
    "start_time": "2021-06-20T15:15:20.521Z"
   },
   {
    "duration": 12,
    "start_time": "2021-06-20T15:15:20.534Z"
   },
   {
    "duration": 8,
    "start_time": "2021-06-20T15:15:20.548Z"
   },
   {
    "duration": 10,
    "start_time": "2021-06-20T15:15:20.558Z"
   },
   {
    "duration": 110,
    "start_time": "2021-06-20T15:15:20.570Z"
   },
   {
    "duration": 41,
    "start_time": "2021-06-20T15:15:20.682Z"
   },
   {
    "duration": 5007,
    "start_time": "2021-06-20T15:15:20.727Z"
   },
   {
    "duration": 1976,
    "start_time": "2021-06-20T15:15:25.737Z"
   },
   {
    "duration": 6,
    "start_time": "2021-06-20T15:15:27.715Z"
   },
   {
    "duration": 19,
    "start_time": "2021-06-20T15:15:27.724Z"
   },
   {
    "duration": 15,
    "start_time": "2021-06-20T15:15:27.746Z"
   },
   {
    "duration": 10,
    "start_time": "2021-06-20T15:15:27.763Z"
   },
   {
    "duration": 4,
    "start_time": "2021-06-20T15:15:27.776Z"
   },
   {
    "duration": 127,
    "start_time": "2021-06-20T15:15:27.782Z"
   },
   {
    "duration": 6,
    "start_time": "2021-06-20T15:15:27.912Z"
   },
   {
    "duration": 514,
    "start_time": "2021-06-20T15:15:28.010Z"
   },
   {
    "duration": 4,
    "start_time": "2021-06-20T15:15:28.527Z"
   },
   {
    "duration": 16,
    "start_time": "2021-06-20T15:15:28.533Z"
   },
   {
    "duration": 10,
    "start_time": "2021-06-20T15:15:28.551Z"
   },
   {
    "duration": 8,
    "start_time": "2021-06-20T15:15:28.563Z"
   },
   {
    "duration": 144100,
    "start_time": "2021-06-20T15:15:28.573Z"
   },
   {
    "duration": 1842,
    "start_time": "2021-06-20T15:17:52.676Z"
   },
   {
    "duration": 25,
    "start_time": "2021-06-20T15:17:54.610Z"
   },
   {
    "duration": 1296,
    "start_time": "2021-06-20T15:17:54.637Z"
   },
   {
    "duration": 1491,
    "start_time": "2021-06-20T15:17:55.938Z"
   },
   {
    "duration": 8,
    "start_time": "2021-06-20T15:17:57.432Z"
   },
   {
    "duration": 2045,
    "start_time": "2021-08-18T10:19:31.744Z"
   },
   {
    "duration": 45,
    "start_time": "2021-08-18T10:19:33.792Z"
   },
   {
    "duration": 20,
    "start_time": "2021-08-18T10:19:33.840Z"
   },
   {
    "duration": 12,
    "start_time": "2021-08-18T10:19:33.864Z"
   },
   {
    "duration": 9,
    "start_time": "2021-08-18T10:19:33.878Z"
   },
   {
    "duration": 14,
    "start_time": "2021-08-18T10:19:33.890Z"
   },
   {
    "duration": 103,
    "start_time": "2021-08-18T10:19:33.906Z"
   },
   {
    "duration": 25,
    "start_time": "2021-08-18T10:19:34.013Z"
   },
   {
    "duration": 5017,
    "start_time": "2021-08-18T10:19:34.040Z"
   },
   {
    "duration": 1860,
    "start_time": "2021-08-18T10:19:39.060Z"
   },
   {
    "duration": 7,
    "start_time": "2021-08-18T10:19:40.922Z"
   },
   {
    "duration": 35,
    "start_time": "2021-08-18T10:19:40.932Z"
   },
   {
    "duration": 31,
    "start_time": "2021-08-18T10:19:40.969Z"
   },
   {
    "duration": 24,
    "start_time": "2021-08-18T10:19:41.003Z"
   },
   {
    "duration": 19,
    "start_time": "2021-08-18T10:19:41.030Z"
   },
   {
    "duration": 45,
    "start_time": "2021-08-18T10:19:41.052Z"
   },
   {
    "duration": 8,
    "start_time": "2021-08-18T10:19:41.156Z"
   },
   {
    "duration": 501,
    "start_time": "2021-08-18T10:19:41.258Z"
   },
   {
    "duration": 4,
    "start_time": "2021-08-18T10:19:41.762Z"
   },
   {
    "duration": 23,
    "start_time": "2021-08-18T10:19:41.768Z"
   },
   {
    "duration": 13,
    "start_time": "2021-08-18T10:19:41.794Z"
   },
   {
    "duration": 10,
    "start_time": "2021-08-18T10:19:41.810Z"
   },
   {
    "duration": 169506,
    "start_time": "2021-08-18T10:19:41.827Z"
   },
   {
    "duration": 2023,
    "start_time": "2021-08-18T10:22:31.335Z"
   },
   {
    "duration": 26,
    "start_time": "2021-08-18T10:22:33.360Z"
   },
   {
    "duration": 1292,
    "start_time": "2021-08-18T10:22:33.389Z"
   },
   {
    "duration": 1434,
    "start_time": "2021-08-18T10:22:34.683Z"
   },
   {
    "duration": 9,
    "start_time": "2021-08-18T10:22:36.120Z"
   }
  ],
  "kernelspec": {
   "display_name": "Python 3",
   "language": "python",
   "name": "python3"
  },
  "language_info": {
   "codemirror_mode": {
    "name": "ipython",
    "version": 3
   },
   "file_extension": ".py",
   "mimetype": "text/x-python",
   "name": "python",
   "nbconvert_exporter": "python",
   "pygments_lexer": "ipython3",
   "version": "3.7.8"
  },
  "toc": {
   "base_numbering": 1,
   "nav_menu": {},
   "number_sections": true,
   "sideBar": true,
   "skip_h1_title": true,
   "title_cell": "Table of Contents",
   "title_sidebar": "Contents",
   "toc_cell": false,
   "toc_position": {},
   "toc_section_display": true,
   "toc_window_display": false
  }
 },
 "nbformat": 4,
 "nbformat_minor": 2
}
