{
 "cells": [
  {
   "cell_type": "markdown",
   "metadata": {},
   "source": [
    "# Телеком — Определение неэффективных операторов"
   ]
  },
  {
   "cell_type": "markdown",
   "metadata": {},
   "source": [
    "* [Презентация](https://disk.yandex.com/d/sBeBcRbHzcHdEg)\n",
    "* [Дашборд](https://public.tableau.com/app/profile/alena.kotovich/viz/telecom_16256037181850/Dashboard1)"
   ]
  },
  {
   "cell_type": "markdown",
   "metadata": {},
   "source": [
    "## Описание проекта\n",
    "\n",
    "Помогите «Нупозвони» найти самых неэффективных операторов. Признаки низкой эффективности:\n",
    "\n",
    "- много пропущенных входящих вызовов,\n",
    "- долгое ожидания ответа при входящих внешних вызовах,\n",
    "- мало исходящих вывозов — в случае тех колл-центров, что специализируются на обзвонах, а не обработке входящих звонков.\n"
   ]
  },
  {
   "cell_type": "markdown",
   "metadata": {},
   "source": [
    "## Описание данных\n",
    "\n",
    "Датасеты описывают использование услуг «Нупозвони» — провайдера виртуальный телефонии. Его клиенты — колл-центры, которые: \n",
    "\n",
    "- распределяют входящие вызовы на операторов,\n",
    "- совершают исходящие вызовы силами операторов.\n",
    "\n",
    "Также операторы могут делать внутренние вызовы —  вызовы друг между другом внутри сети виртуальной телефонии.\n",
    "\n",
    "Колонки в `telecom_dataset.csv.zip`:\n",
    "\n",
    "- `user_id` — Идентификатор клиентского аккаунта в сервисе\n",
    "- `date` — Дата статистики\n",
    "- `direction` — Направление вызовов (out - исходящий вызов, in — входящий вызов)\n",
    "- `internal` — Является ли звонок внутренним звонком между операторами клиента(true - внутренний, false - внешний)\n",
    "- `operator_id` — Идентификатор оператора\n",
    "- `is_missed_call` — Является ли звонок пропущенным\n",
    "- `calls_count` — Количество звонков\n",
    "- `call_duration` — Длительность звонка (без учета времени ожидания)\n",
    "- `total_call_duration` — Длительность звонка (с учетом времени ожидания)\n",
    "\n",
    "Колонки в `telecom_clients.csv`:\n",
    "\n",
    "- `user_id` — Идентификатор клиентского аккаунта в сервисе\n",
    "- `tariff_plan` — Текущий тарифный план клиента\n",
    "- `date_start` — Дата регистрации клиентв в сервисе"
   ]
  },
  {
   "cell_type": "markdown",
   "metadata": {},
   "source": [
    "##  План выполнения\n",
    "\n",
    "1. [Выгрузка данных и их анализ](#step_1);\n",
    "2. Предобработка данных:\n",
    "    - [преобразовать к нужным типам данные](#step_2);\n",
    "    - [найти дубликаты и проанализировать их](#step_3);\n",
    "    - [обработать пропуски](#step_4);\n",
    "    - [проведение дополнительных расчётов](#step_5);\n",
    "3. Исследовательский анализ данных:\n",
    "    - [анализ направленности вызовов колл-центров](#step_6);\n",
    "    - [анализ количества звонков](#step_7);\n",
    "    - [анализ длительности звонков](#step_8);\n",
    "    - [анализ длительности ожидания](#step_9);\n",
    "    - [анализ пропущенных звонков](#step_10);\n",
    "    - [анализ звонков по дням недели](#step_11);\n",
    "    - [анализ внутренних и внешних вызовов](#step_12);\n",
    "    - [сводная таблица](#step_13);   \n",
    "4. Создание портрета неэффективного оператора:\n",
    "    - [для обзванивающих колл-центров](#step_14);\n",
    "    - [для колл-центров поддержки](#step_15);\n",
    "    - [анализ вызовов без operator_id](#step_16); \n",
    "5. Проверка гипотез:\n",
    "    - [время ожидания ответа зависит тарифного плана](#step_17);\n",
    "    - [длительность звонков зависит от того внутренний он или внешний](#step_18);\n",
    "6. [Выводы и рекомендации](#step_19);\n",
    "7. Презентация;\n",
    "8. Дашборд с информацией:\n",
    "    - диаграмма количества вызовов по дням;\n",
    "    - круговая диаграмма, отображающая соотношение кол-ва входящих и исходящих вызовов;\n",
    "    - сожержит фильтр дашборда по типу вызова (внешний или внутренний)"
   ]
  },
  {
   "cell_type": "markdown",
   "metadata": {},
   "source": [
    "### Выгрузка данных"
   ]
  },
  {
   "cell_type": "markdown",
   "metadata": {},
   "source": [
    "<a id='step_1'></a>"
   ]
  },
  {
   "cell_type": "code",
   "execution_count": 1,
   "metadata": {},
   "outputs": [],
   "source": [
    "# Импорт библиотек\n",
    "import pandas as pd\n",
    "import numpy as np\n",
    "from scipy import stats as st\n",
    "import matplotlib.pyplot as plt\n",
    "import seaborn as sns\n",
    "import plotly.express as px\n",
    "from IPython.display import display\n",
    "import warnings\n",
    "warnings.filterwarnings('ignore')\n",
    "from scipy.stats import normaltest\n",
    "import scipy.stats as stats\n",
    "from scipy.stats import f_oneway\n",
    "import datetime"
   ]
  },
  {
   "cell_type": "code",
   "execution_count": 3,
   "metadata": {},
   "outputs": [],
   "source": [
    "# выгрузка данных\n",
    "try:\n",
    "    data_calls = pd.read_csv('')\n",
    "    data_clients = pd.read_csv('')\n",
    "except:   \n",
    "    data_calls = pd.read_csv('')\n",
    "    data_clients = pd.read_csv('')"
   ]
  },
  {
   "cell_type": "code",
   "execution_count": 4,
   "metadata": {},
   "outputs": [
    {
     "data": {
      "text/html": [
       "<div>\n",
       "<style scoped>\n",
       "    .dataframe tbody tr th:only-of-type {\n",
       "        vertical-align: middle;\n",
       "    }\n",
       "\n",
       "    .dataframe tbody tr th {\n",
       "        vertical-align: top;\n",
       "    }\n",
       "\n",
       "    .dataframe thead th {\n",
       "        text-align: right;\n",
       "    }\n",
       "</style>\n",
       "<table border=\"1\" class=\"dataframe\">\n",
       "  <thead>\n",
       "    <tr style=\"text-align: right;\">\n",
       "      <th></th>\n",
       "      <th>user_id</th>\n",
       "      <th>date</th>\n",
       "      <th>direction</th>\n",
       "      <th>internal</th>\n",
       "      <th>operator_id</th>\n",
       "      <th>is_missed_call</th>\n",
       "      <th>calls_count</th>\n",
       "      <th>call_duration</th>\n",
       "      <th>total_call_duration</th>\n",
       "    </tr>\n",
       "  </thead>\n",
       "  <tbody>\n",
       "    <tr>\n",
       "      <td>0</td>\n",
       "      <td>166377</td>\n",
       "      <td>2019-08-04 00:00:00+03:00</td>\n",
       "      <td>in</td>\n",
       "      <td>False</td>\n",
       "      <td>NaN</td>\n",
       "      <td>True</td>\n",
       "      <td>2</td>\n",
       "      <td>0</td>\n",
       "      <td>4</td>\n",
       "    </tr>\n",
       "    <tr>\n",
       "      <td>1</td>\n",
       "      <td>166377</td>\n",
       "      <td>2019-08-05 00:00:00+03:00</td>\n",
       "      <td>out</td>\n",
       "      <td>True</td>\n",
       "      <td>880022.0</td>\n",
       "      <td>True</td>\n",
       "      <td>3</td>\n",
       "      <td>0</td>\n",
       "      <td>5</td>\n",
       "    </tr>\n",
       "    <tr>\n",
       "      <td>2</td>\n",
       "      <td>166377</td>\n",
       "      <td>2019-08-05 00:00:00+03:00</td>\n",
       "      <td>out</td>\n",
       "      <td>True</td>\n",
       "      <td>880020.0</td>\n",
       "      <td>True</td>\n",
       "      <td>1</td>\n",
       "      <td>0</td>\n",
       "      <td>1</td>\n",
       "    </tr>\n",
       "    <tr>\n",
       "      <td>3</td>\n",
       "      <td>166377</td>\n",
       "      <td>2019-08-05 00:00:00+03:00</td>\n",
       "      <td>out</td>\n",
       "      <td>True</td>\n",
       "      <td>880020.0</td>\n",
       "      <td>False</td>\n",
       "      <td>1</td>\n",
       "      <td>10</td>\n",
       "      <td>18</td>\n",
       "    </tr>\n",
       "    <tr>\n",
       "      <td>4</td>\n",
       "      <td>166377</td>\n",
       "      <td>2019-08-05 00:00:00+03:00</td>\n",
       "      <td>out</td>\n",
       "      <td>False</td>\n",
       "      <td>880022.0</td>\n",
       "      <td>True</td>\n",
       "      <td>3</td>\n",
       "      <td>0</td>\n",
       "      <td>25</td>\n",
       "    </tr>\n",
       "    <tr>\n",
       "      <td>5</td>\n",
       "      <td>166377</td>\n",
       "      <td>2019-08-05 00:00:00+03:00</td>\n",
       "      <td>out</td>\n",
       "      <td>False</td>\n",
       "      <td>880020.0</td>\n",
       "      <td>False</td>\n",
       "      <td>2</td>\n",
       "      <td>3</td>\n",
       "      <td>29</td>\n",
       "    </tr>\n",
       "    <tr>\n",
       "      <td>6</td>\n",
       "      <td>166377</td>\n",
       "      <td>2019-08-05 00:00:00+03:00</td>\n",
       "      <td>out</td>\n",
       "      <td>False</td>\n",
       "      <td>880020.0</td>\n",
       "      <td>True</td>\n",
       "      <td>8</td>\n",
       "      <td>0</td>\n",
       "      <td>50</td>\n",
       "    </tr>\n",
       "    <tr>\n",
       "      <td>7</td>\n",
       "      <td>166377</td>\n",
       "      <td>2019-08-05 00:00:00+03:00</td>\n",
       "      <td>in</td>\n",
       "      <td>False</td>\n",
       "      <td>NaN</td>\n",
       "      <td>True</td>\n",
       "      <td>6</td>\n",
       "      <td>0</td>\n",
       "      <td>35</td>\n",
       "    </tr>\n",
       "    <tr>\n",
       "      <td>8</td>\n",
       "      <td>166377</td>\n",
       "      <td>2019-08-05 00:00:00+03:00</td>\n",
       "      <td>out</td>\n",
       "      <td>False</td>\n",
       "      <td>880020.0</td>\n",
       "      <td>True</td>\n",
       "      <td>8</td>\n",
       "      <td>0</td>\n",
       "      <td>50</td>\n",
       "    </tr>\n",
       "    <tr>\n",
       "      <td>9</td>\n",
       "      <td>166377</td>\n",
       "      <td>2019-08-06 00:00:00+03:00</td>\n",
       "      <td>in</td>\n",
       "      <td>False</td>\n",
       "      <td>NaN</td>\n",
       "      <td>True</td>\n",
       "      <td>4</td>\n",
       "      <td>0</td>\n",
       "      <td>62</td>\n",
       "    </tr>\n",
       "    <tr>\n",
       "      <td>10</td>\n",
       "      <td>166377</td>\n",
       "      <td>2019-08-06 00:00:00+03:00</td>\n",
       "      <td>out</td>\n",
       "      <td>False</td>\n",
       "      <td>881278.0</td>\n",
       "      <td>True</td>\n",
       "      <td>3</td>\n",
       "      <td>0</td>\n",
       "      <td>29</td>\n",
       "    </tr>\n",
       "    <tr>\n",
       "      <td>11</td>\n",
       "      <td>166377</td>\n",
       "      <td>2019-08-06 00:00:00+03:00</td>\n",
       "      <td>out</td>\n",
       "      <td>False</td>\n",
       "      <td>880020.0</td>\n",
       "      <td>True</td>\n",
       "      <td>5</td>\n",
       "      <td>0</td>\n",
       "      <td>70</td>\n",
       "    </tr>\n",
       "    <tr>\n",
       "      <td>12</td>\n",
       "      <td>166377</td>\n",
       "      <td>2019-08-06 00:00:00+03:00</td>\n",
       "      <td>out</td>\n",
       "      <td>True</td>\n",
       "      <td>881278.0</td>\n",
       "      <td>True</td>\n",
       "      <td>2</td>\n",
       "      <td>0</td>\n",
       "      <td>5</td>\n",
       "    </tr>\n",
       "    <tr>\n",
       "      <td>13</td>\n",
       "      <td>166377</td>\n",
       "      <td>2019-08-06 00:00:00+03:00</td>\n",
       "      <td>out</td>\n",
       "      <td>False</td>\n",
       "      <td>880020.0</td>\n",
       "      <td>False</td>\n",
       "      <td>5</td>\n",
       "      <td>800</td>\n",
       "      <td>819</td>\n",
       "    </tr>\n",
       "    <tr>\n",
       "      <td>14</td>\n",
       "      <td>166377</td>\n",
       "      <td>2019-08-07 00:00:00+03:00</td>\n",
       "      <td>out</td>\n",
       "      <td>False</td>\n",
       "      <td>880028.0</td>\n",
       "      <td>True</td>\n",
       "      <td>1</td>\n",
       "      <td>0</td>\n",
       "      <td>15</td>\n",
       "    </tr>\n",
       "  </tbody>\n",
       "</table>\n",
       "</div>"
      ],
      "text/plain": [
       "    user_id                       date direction internal  operator_id  \\\n",
       "0    166377  2019-08-04 00:00:00+03:00        in    False          NaN   \n",
       "1    166377  2019-08-05 00:00:00+03:00       out     True     880022.0   \n",
       "2    166377  2019-08-05 00:00:00+03:00       out     True     880020.0   \n",
       "3    166377  2019-08-05 00:00:00+03:00       out     True     880020.0   \n",
       "4    166377  2019-08-05 00:00:00+03:00       out    False     880022.0   \n",
       "5    166377  2019-08-05 00:00:00+03:00       out    False     880020.0   \n",
       "6    166377  2019-08-05 00:00:00+03:00       out    False     880020.0   \n",
       "7    166377  2019-08-05 00:00:00+03:00        in    False          NaN   \n",
       "8    166377  2019-08-05 00:00:00+03:00       out    False     880020.0   \n",
       "9    166377  2019-08-06 00:00:00+03:00        in    False          NaN   \n",
       "10   166377  2019-08-06 00:00:00+03:00       out    False     881278.0   \n",
       "11   166377  2019-08-06 00:00:00+03:00       out    False     880020.0   \n",
       "12   166377  2019-08-06 00:00:00+03:00       out     True     881278.0   \n",
       "13   166377  2019-08-06 00:00:00+03:00       out    False     880020.0   \n",
       "14   166377  2019-08-07 00:00:00+03:00       out    False     880028.0   \n",
       "\n",
       "    is_missed_call  calls_count  call_duration  total_call_duration  \n",
       "0             True            2              0                    4  \n",
       "1             True            3              0                    5  \n",
       "2             True            1              0                    1  \n",
       "3            False            1             10                   18  \n",
       "4             True            3              0                   25  \n",
       "5            False            2              3                   29  \n",
       "6             True            8              0                   50  \n",
       "7             True            6              0                   35  \n",
       "8             True            8              0                   50  \n",
       "9             True            4              0                   62  \n",
       "10            True            3              0                   29  \n",
       "11            True            5              0                   70  \n",
       "12            True            2              0                    5  \n",
       "13           False            5            800                  819  \n",
       "14            True            1              0                   15  "
      ]
     },
     "execution_count": 4,
     "metadata": {},
     "output_type": "execute_result"
    }
   ],
   "source": [
    "data_calls.head(15)"
   ]
  },
  {
   "cell_type": "code",
   "execution_count": 5,
   "metadata": {},
   "outputs": [
    {
     "name": "stdout",
     "output_type": "stream",
     "text": [
      "Пропуски в данных\n"
     ]
    },
    {
     "data": {
      "text/plain": [
       "user_id                   0\n",
       "date                      0\n",
       "direction                 0\n",
       "internal                117\n",
       "operator_id            8172\n",
       "is_missed_call            0\n",
       "calls_count               0\n",
       "call_duration             0\n",
       "total_call_duration       0\n",
       "dtype: int64"
      ]
     },
     "execution_count": 5,
     "metadata": {},
     "output_type": "execute_result"
    }
   ],
   "source": [
    "print('Пропуски в данных')\n",
    "data_calls.isna().sum()"
   ]
  },
  {
   "cell_type": "code",
   "execution_count": 6,
   "metadata": {},
   "outputs": [
    {
     "name": "stdout",
     "output_type": "stream",
     "text": [
      "Количество клиентов на начальном этапе 307\n"
     ]
    }
   ],
   "source": [
    "print('Количество клиентов на начальном этапе',data_calls['user_id'].nunique())"
   ]
  },
  {
   "cell_type": "code",
   "execution_count": 7,
   "metadata": {},
   "outputs": [
    {
     "name": "stdout",
     "output_type": "stream",
     "text": [
      "<class 'pandas.core.frame.DataFrame'>\n",
      "RangeIndex: 732 entries, 0 to 731\n",
      "Data columns (total 3 columns):\n",
      "user_id        732 non-null int64\n",
      "tariff_plan    732 non-null object\n",
      "date_start     732 non-null object\n",
      "dtypes: int64(1), object(2)\n",
      "memory usage: 17.3+ KB\n"
     ]
    }
   ],
   "source": [
    "data_clients.info()"
   ]
  },
  {
   "cell_type": "code",
   "execution_count": 8,
   "metadata": {},
   "outputs": [
    {
     "data": {
      "text/html": [
       "<div>\n",
       "<style scoped>\n",
       "    .dataframe tbody tr th:only-of-type {\n",
       "        vertical-align: middle;\n",
       "    }\n",
       "\n",
       "    .dataframe tbody tr th {\n",
       "        vertical-align: top;\n",
       "    }\n",
       "\n",
       "    .dataframe thead th {\n",
       "        text-align: right;\n",
       "    }\n",
       "</style>\n",
       "<table border=\"1\" class=\"dataframe\">\n",
       "  <thead>\n",
       "    <tr style=\"text-align: right;\">\n",
       "      <th></th>\n",
       "      <th>user_id</th>\n",
       "      <th>tariff_plan</th>\n",
       "      <th>date_start</th>\n",
       "    </tr>\n",
       "  </thead>\n",
       "  <tbody>\n",
       "    <tr>\n",
       "      <td>0</td>\n",
       "      <td>166713</td>\n",
       "      <td>A</td>\n",
       "      <td>2019-08-15</td>\n",
       "    </tr>\n",
       "    <tr>\n",
       "      <td>1</td>\n",
       "      <td>166901</td>\n",
       "      <td>A</td>\n",
       "      <td>2019-08-23</td>\n",
       "    </tr>\n",
       "    <tr>\n",
       "      <td>2</td>\n",
       "      <td>168527</td>\n",
       "      <td>A</td>\n",
       "      <td>2019-10-29</td>\n",
       "    </tr>\n",
       "    <tr>\n",
       "      <td>3</td>\n",
       "      <td>167097</td>\n",
       "      <td>A</td>\n",
       "      <td>2019-09-01</td>\n",
       "    </tr>\n",
       "    <tr>\n",
       "      <td>4</td>\n",
       "      <td>168193</td>\n",
       "      <td>A</td>\n",
       "      <td>2019-10-16</td>\n",
       "    </tr>\n",
       "    <tr>\n",
       "      <td>5</td>\n",
       "      <td>167764</td>\n",
       "      <td>A</td>\n",
       "      <td>2019-09-30</td>\n",
       "    </tr>\n",
       "    <tr>\n",
       "      <td>6</td>\n",
       "      <td>167050</td>\n",
       "      <td>A</td>\n",
       "      <td>2019-08-29</td>\n",
       "    </tr>\n",
       "    <tr>\n",
       "      <td>7</td>\n",
       "      <td>168252</td>\n",
       "      <td>A</td>\n",
       "      <td>2019-10-17</td>\n",
       "    </tr>\n",
       "    <tr>\n",
       "      <td>8</td>\n",
       "      <td>168495</td>\n",
       "      <td>A</td>\n",
       "      <td>2019-10-28</td>\n",
       "    </tr>\n",
       "    <tr>\n",
       "      <td>9</td>\n",
       "      <td>167879</td>\n",
       "      <td>A</td>\n",
       "      <td>2019-10-03</td>\n",
       "    </tr>\n",
       "    <tr>\n",
       "      <td>10</td>\n",
       "      <td>168573</td>\n",
       "      <td>A</td>\n",
       "      <td>2019-10-31</td>\n",
       "    </tr>\n",
       "    <tr>\n",
       "      <td>11</td>\n",
       "      <td>166610</td>\n",
       "      <td>A</td>\n",
       "      <td>2019-08-12</td>\n",
       "    </tr>\n",
       "    <tr>\n",
       "      <td>12</td>\n",
       "      <td>167536</td>\n",
       "      <td>A</td>\n",
       "      <td>2019-09-19</td>\n",
       "    </tr>\n",
       "    <tr>\n",
       "      <td>13</td>\n",
       "      <td>168354</td>\n",
       "      <td>A</td>\n",
       "      <td>2019-10-23</td>\n",
       "    </tr>\n",
       "    <tr>\n",
       "      <td>14</td>\n",
       "      <td>168284</td>\n",
       "      <td>A</td>\n",
       "      <td>2019-10-20</td>\n",
       "    </tr>\n",
       "  </tbody>\n",
       "</table>\n",
       "</div>"
      ],
      "text/plain": [
       "    user_id tariff_plan  date_start\n",
       "0    166713           A  2019-08-15\n",
       "1    166901           A  2019-08-23\n",
       "2    168527           A  2019-10-29\n",
       "3    167097           A  2019-09-01\n",
       "4    168193           A  2019-10-16\n",
       "5    167764           A  2019-09-30\n",
       "6    167050           A  2019-08-29\n",
       "7    168252           A  2019-10-17\n",
       "8    168495           A  2019-10-28\n",
       "9    167879           A  2019-10-03\n",
       "10   168573           A  2019-10-31\n",
       "11   166610           A  2019-08-12\n",
       "12   167536           A  2019-09-19\n",
       "13   168354           A  2019-10-23\n",
       "14   168284           A  2019-10-20"
      ]
     },
     "execution_count": 8,
     "metadata": {},
     "output_type": "execute_result"
    }
   ],
   "source": [
    "data_clients.head(15)"
   ]
  },
  {
   "cell_type": "markdown",
   "metadata": {},
   "source": [
    "**Выводы по анализу входных данных**\n",
    "\n",
    "В датасете data_calls есть пропуски в столбцах internal и operator_id. Далее они будут изучены и обработаны. Дату можно привести к более удобному виду, оставив только число. operator_id можно привести к типу int. internal привести к типу bool. \n",
    "\n",
    "В датасете data_clients нет пропусков. Дату приведём к нужному типу данных."
   ]
  },
  {
   "cell_type": "markdown",
   "metadata": {},
   "source": [
    "### Предобработка данных"
   ]
  },
  {
   "cell_type": "markdown",
   "metadata": {},
   "source": [
    "**Преобразование к нужным типам данные**<a id='step_2'></a>"
   ]
  },
  {
   "cell_type": "code",
   "execution_count": 9,
   "metadata": {},
   "outputs": [],
   "source": [
    "data_calls['operator_id'] = pd.to_numeric(data_calls['operator_id'],errors='coerce')"
   ]
  },
  {
   "cell_type": "code",
   "execution_count": 10,
   "metadata": {},
   "outputs": [],
   "source": [
    "data_calls['date']  = data_calls['date'].astype('datetime64[D]')\n",
    "data_clients['date_start']  = data_clients['date_start'].astype('datetime64[D]')"
   ]
  },
  {
   "cell_type": "code",
   "execution_count": 11,
   "metadata": {},
   "outputs": [],
   "source": [
    "data_calls['internal']  = data_calls['internal'].astype('bool')"
   ]
  },
  {
   "cell_type": "code",
   "execution_count": 12,
   "metadata": {},
   "outputs": [
    {
     "name": "stdout",
     "output_type": "stream",
     "text": [
      "<class 'pandas.core.frame.DataFrame'>\n",
      "RangeIndex: 53902 entries, 0 to 53901\n",
      "Data columns (total 9 columns):\n",
      "user_id                53902 non-null int64\n",
      "date                   53902 non-null datetime64[ns]\n",
      "direction              53902 non-null object\n",
      "internal               53902 non-null bool\n",
      "operator_id            45730 non-null float64\n",
      "is_missed_call         53902 non-null bool\n",
      "calls_count            53902 non-null int64\n",
      "call_duration          53902 non-null int64\n",
      "total_call_duration    53902 non-null int64\n",
      "dtypes: bool(2), datetime64[ns](1), float64(1), int64(4), object(1)\n",
      "memory usage: 3.0+ MB\n"
     ]
    }
   ],
   "source": [
    "data_calls.info()"
   ]
  },
  {
   "cell_type": "code",
   "execution_count": 13,
   "metadata": {},
   "outputs": [
    {
     "name": "stdout",
     "output_type": "stream",
     "text": [
      "<class 'pandas.core.frame.DataFrame'>\n",
      "RangeIndex: 732 entries, 0 to 731\n",
      "Data columns (total 3 columns):\n",
      "user_id        732 non-null int64\n",
      "tariff_plan    732 non-null object\n",
      "date_start     732 non-null datetime64[ns]\n",
      "dtypes: datetime64[ns](1), int64(1), object(1)\n",
      "memory usage: 17.3+ KB\n"
     ]
    }
   ],
   "source": [
    "data_clients.info()"
   ]
  },
  {
   "cell_type": "markdown",
   "metadata": {},
   "source": [
    "**Поиск дубликатов**<a id='step_3'></a>"
   ]
  },
  {
   "cell_type": "code",
   "execution_count": 14,
   "metadata": {},
   "outputs": [
    {
     "name": "stdout",
     "output_type": "stream",
     "text": [
      "Дубликатов в данных о звонках 4900\n",
      "Дубликатов в данных о клиентах 0\n"
     ]
    }
   ],
   "source": [
    "print('Дубликатов в данных о звонках',data_calls.duplicated().sum())\n",
    "print('Дубликатов в данных о клиентах',data_clients.duplicated().sum())"
   ]
  },
  {
   "cell_type": "code",
   "execution_count": 15,
   "metadata": {},
   "outputs": [
    {
     "name": "stdout",
     "output_type": "stream",
     "text": [
      "Процент дубликатов в данных 9.090571778412675\n"
     ]
    }
   ],
   "source": [
    "print('Процент дубликатов в данных',data_calls.duplicated().sum()/data_calls.shape[0] * 100)"
   ]
  },
  {
   "cell_type": "code",
   "execution_count": 16,
   "metadata": {},
   "outputs": [
    {
     "data": {
      "text/plain": [
       "user_id\n",
       "168187    238\n",
       "166658    223\n",
       "167626    131\n",
       "167497    124\n",
       "168361    113\n",
       "166916    104\n",
       "168062    101\n",
       "167150     93\n",
       "166983     89\n",
       "166511     88\n",
       "Name: calls_count, dtype: int64"
      ]
     },
     "execution_count": 16,
     "metadata": {},
     "output_type": "execute_result"
    }
   ],
   "source": [
    "data_dubl = data_calls.copy()\n",
    "data_dubl['dupl'] = data_dubl.duplicated()\n",
    "data_dubl_grouped = data_dubl.query('dupl == True').groupby('user_id')['calls_count'].count()\n",
    "data_dubl_grouped.sort_values(ascending=False).head(10)"
   ]
  },
  {
   "cell_type": "markdown",
   "metadata": {},
   "source": [
    "Дубликатов в данных о звонках 4900. Это 9% от всего количества данных. Болше всего о клиентах с user_id 168187 и 166658. Эти дубликаты можно удалить. Но сообщить об этом тем, от кого поступили данные.  "
   ]
  },
  {
   "cell_type": "code",
   "execution_count": 17,
   "metadata": {},
   "outputs": [],
   "source": [
    "data_calls = data_calls.drop_duplicates().reset_index(drop = True)"
   ]
  },
  {
   "cell_type": "code",
   "execution_count": 18,
   "metadata": {},
   "outputs": [
    {
     "name": "stdout",
     "output_type": "stream",
     "text": [
      "Дубликатов в данных о звонках 0\n"
     ]
    }
   ],
   "source": [
    "print('Дубликатов в данных о звонках',data_calls.duplicated().sum())"
   ]
  },
  {
   "cell_type": "markdown",
   "metadata": {},
   "source": [
    "**Обработка пропусков**<a id='step_4'></a>"
   ]
  },
  {
   "cell_type": "code",
   "execution_count": 19,
   "metadata": {},
   "outputs": [
    {
     "data": {
      "text/plain": [
       "user_id                   0\n",
       "date                      0\n",
       "direction                 0\n",
       "internal                  0\n",
       "operator_id            7456\n",
       "is_missed_call            0\n",
       "calls_count               0\n",
       "call_duration             0\n",
       "total_call_duration       0\n",
       "dtype: int64"
      ]
     },
     "execution_count": 19,
     "metadata": {},
     "output_type": "execute_result"
    }
   ],
   "source": [
    "data_calls.isna().sum()"
   ]
  },
  {
   "cell_type": "code",
   "execution_count": 20,
   "metadata": {},
   "outputs": [
    {
     "data": {
      "text/html": [
       "<div>\n",
       "<style scoped>\n",
       "    .dataframe tbody tr th:only-of-type {\n",
       "        vertical-align: middle;\n",
       "    }\n",
       "\n",
       "    .dataframe tbody tr th {\n",
       "        vertical-align: top;\n",
       "    }\n",
       "\n",
       "    .dataframe thead th {\n",
       "        text-align: right;\n",
       "    }\n",
       "</style>\n",
       "<table border=\"1\" class=\"dataframe\">\n",
       "  <thead>\n",
       "    <tr style=\"text-align: right;\">\n",
       "      <th></th>\n",
       "      <th>date</th>\n",
       "      <th>direction</th>\n",
       "      <th>internal</th>\n",
       "      <th>operator_id</th>\n",
       "      <th>is_missed_call</th>\n",
       "      <th>calls_count</th>\n",
       "      <th>call_duration</th>\n",
       "      <th>total_call_duration</th>\n",
       "    </tr>\n",
       "    <tr>\n",
       "      <th>user_id</th>\n",
       "      <th></th>\n",
       "      <th></th>\n",
       "      <th></th>\n",
       "      <th></th>\n",
       "      <th></th>\n",
       "      <th></th>\n",
       "      <th></th>\n",
       "      <th></th>\n",
       "    </tr>\n",
       "  </thead>\n",
       "  <tbody>\n",
       "    <tr>\n",
       "      <td>168252</td>\n",
       "      <td>135</td>\n",
       "      <td>135</td>\n",
       "      <td>135</td>\n",
       "      <td>0</td>\n",
       "      <td>135</td>\n",
       "      <td>135</td>\n",
       "      <td>135</td>\n",
       "      <td>135</td>\n",
       "    </tr>\n",
       "    <tr>\n",
       "      <td>166582</td>\n",
       "      <td>111</td>\n",
       "      <td>111</td>\n",
       "      <td>111</td>\n",
       "      <td>0</td>\n",
       "      <td>111</td>\n",
       "      <td>111</td>\n",
       "      <td>111</td>\n",
       "      <td>111</td>\n",
       "    </tr>\n",
       "    <tr>\n",
       "      <td>166405</td>\n",
       "      <td>111</td>\n",
       "      <td>111</td>\n",
       "      <td>111</td>\n",
       "      <td>0</td>\n",
       "      <td>111</td>\n",
       "      <td>111</td>\n",
       "      <td>111</td>\n",
       "      <td>111</td>\n",
       "    </tr>\n",
       "    <tr>\n",
       "      <td>166782</td>\n",
       "      <td>106</td>\n",
       "      <td>106</td>\n",
       "      <td>106</td>\n",
       "      <td>0</td>\n",
       "      <td>106</td>\n",
       "      <td>106</td>\n",
       "      <td>106</td>\n",
       "      <td>106</td>\n",
       "    </tr>\n",
       "    <tr>\n",
       "      <td>166658</td>\n",
       "      <td>103</td>\n",
       "      <td>103</td>\n",
       "      <td>103</td>\n",
       "      <td>0</td>\n",
       "      <td>103</td>\n",
       "      <td>103</td>\n",
       "      <td>103</td>\n",
       "      <td>103</td>\n",
       "    </tr>\n",
       "  </tbody>\n",
       "</table>\n",
       "</div>"
      ],
      "text/plain": [
       "         date  direction  internal  operator_id  is_missed_call  calls_count  \\\n",
       "user_id                                                                        \n",
       "168252    135        135       135            0             135          135   \n",
       "166582    111        111       111            0             111          111   \n",
       "166405    111        111       111            0             111          111   \n",
       "166782    106        106       106            0             106          106   \n",
       "166658    103        103       103            0             103          103   \n",
       "\n",
       "         call_duration  total_call_duration  \n",
       "user_id                                      \n",
       "168252             135                  135  \n",
       "166582             111                  111  \n",
       "166405             111                  111  \n",
       "166782             106                  106  \n",
       "166658             103                  103  "
      ]
     },
     "execution_count": 20,
     "metadata": {},
     "output_type": "execute_result"
    }
   ],
   "source": [
    "data_calls.loc[data_calls['operator_id'].isna()].\\\n",
    "groupby('user_id').count().\\\n",
    "sort_values(by='direction',ascending=False).head()"
   ]
  },
  {
   "cell_type": "code",
   "execution_count": 21,
   "metadata": {},
   "outputs": [
    {
     "data": {
      "text/html": [
       "<div>\n",
       "<style scoped>\n",
       "    .dataframe tbody tr th:only-of-type {\n",
       "        vertical-align: middle;\n",
       "    }\n",
       "\n",
       "    .dataframe tbody tr th {\n",
       "        vertical-align: top;\n",
       "    }\n",
       "\n",
       "    .dataframe thead th {\n",
       "        text-align: right;\n",
       "    }\n",
       "</style>\n",
       "<table border=\"1\" class=\"dataframe\">\n",
       "  <thead>\n",
       "    <tr style=\"text-align: right;\">\n",
       "      <th></th>\n",
       "      <th>date</th>\n",
       "      <th>direction</th>\n",
       "      <th>internal</th>\n",
       "      <th>operator_id</th>\n",
       "      <th>is_missed_call</th>\n",
       "      <th>calls_count</th>\n",
       "      <th>call_duration</th>\n",
       "      <th>total_call_duration</th>\n",
       "    </tr>\n",
       "    <tr>\n",
       "      <th>user_id</th>\n",
       "      <th></th>\n",
       "      <th></th>\n",
       "      <th></th>\n",
       "      <th></th>\n",
       "      <th></th>\n",
       "      <th></th>\n",
       "      <th></th>\n",
       "      <th></th>\n",
       "    </tr>\n",
       "  </thead>\n",
       "  <tbody>\n",
       "    <tr>\n",
       "      <td>166582</td>\n",
       "      <td>111</td>\n",
       "      <td>111</td>\n",
       "      <td>111</td>\n",
       "      <td>0</td>\n",
       "      <td>111</td>\n",
       "      <td>111</td>\n",
       "      <td>111</td>\n",
       "      <td>111</td>\n",
       "    </tr>\n",
       "    <tr>\n",
       "      <td>166405</td>\n",
       "      <td>111</td>\n",
       "      <td>111</td>\n",
       "      <td>111</td>\n",
       "      <td>0</td>\n",
       "      <td>111</td>\n",
       "      <td>111</td>\n",
       "      <td>111</td>\n",
       "      <td>111</td>\n",
       "    </tr>\n",
       "    <tr>\n",
       "      <td>166658</td>\n",
       "      <td>103</td>\n",
       "      <td>103</td>\n",
       "      <td>103</td>\n",
       "      <td>0</td>\n",
       "      <td>103</td>\n",
       "      <td>103</td>\n",
       "      <td>103</td>\n",
       "      <td>103</td>\n",
       "    </tr>\n",
       "    <tr>\n",
       "      <td>166782</td>\n",
       "      <td>90</td>\n",
       "      <td>90</td>\n",
       "      <td>90</td>\n",
       "      <td>0</td>\n",
       "      <td>90</td>\n",
       "      <td>90</td>\n",
       "      <td>90</td>\n",
       "      <td>90</td>\n",
       "    </tr>\n",
       "    <tr>\n",
       "      <td>166983</td>\n",
       "      <td>90</td>\n",
       "      <td>90</td>\n",
       "      <td>90</td>\n",
       "      <td>0</td>\n",
       "      <td>90</td>\n",
       "      <td>90</td>\n",
       "      <td>90</td>\n",
       "      <td>90</td>\n",
       "    </tr>\n",
       "  </tbody>\n",
       "</table>\n",
       "</div>"
      ],
      "text/plain": [
       "         date  direction  internal  operator_id  is_missed_call  calls_count  \\\n",
       "user_id                                                                        \n",
       "166582    111        111       111            0             111          111   \n",
       "166405    111        111       111            0             111          111   \n",
       "166658    103        103       103            0             103          103   \n",
       "166782     90         90        90            0              90           90   \n",
       "166983     90         90        90            0              90           90   \n",
       "\n",
       "         call_duration  total_call_duration  \n",
       "user_id                                      \n",
       "166582             111                  111  \n",
       "166405             111                  111  \n",
       "166658             103                  103  \n",
       "166782              90                   90  \n",
       "166983              90                   90  "
      ]
     },
     "execution_count": 21,
     "metadata": {},
     "output_type": "execute_result"
    }
   ],
   "source": [
    "data_calls.loc[(data_calls['operator_id'].isna()&(data_calls['is_missed_call']==True))].\\\n",
    "groupby('user_id').count().\\\n",
    "sort_values(by='direction',ascending=False).head()"
   ]
  },
  {
   "cell_type": "code",
   "execution_count": 22,
   "metadata": {},
   "outputs": [],
   "source": [
    "data_calls_without_op_id = data_calls.loc[data_calls['operator_id'].isna()]"
   ]
  },
  {
   "cell_type": "markdown",
   "metadata": {},
   "source": [
    "Так как главная цель - определение неэффективных операторов, то строки с пропусками в столбце operator_id можно удалить. И если присмотреться, то можно заметить, что зачастую это пропущенные входящие вызовы. И как видно из таблиц выше, большая часть звонков без идентификатора оператора это пропущенные звонки. Виновника-оператора не найти. \n",
    "\n",
    "Данные без operator_id будут сохранены в таблице data_calls_without_op_id."
   ]
  },
  {
   "cell_type": "code",
   "execution_count": 23,
   "metadata": {},
   "outputs": [
    {
     "data": {
      "text/plain": [
       "user_id                0\n",
       "date                   0\n",
       "direction              0\n",
       "internal               0\n",
       "operator_id            0\n",
       "is_missed_call         0\n",
       "calls_count            0\n",
       "call_duration          0\n",
       "total_call_duration    0\n",
       "dtype: int64"
      ]
     },
     "execution_count": 23,
     "metadata": {},
     "output_type": "execute_result"
    }
   ],
   "source": [
    "data_calls.dropna(subset=['operator_id'], inplace = True)\n",
    "data_calls.isna().sum()"
   ]
  },
  {
   "cell_type": "code",
   "execution_count": 24,
   "metadata": {},
   "outputs": [
    {
     "name": "stdout",
     "output_type": "stream",
     "text": [
      "Количество клиентов  290\n",
      "Количество клиентов  732\n"
     ]
    }
   ],
   "source": [
    "print('Количество клиентов ',data_calls['user_id'].nunique())\n",
    "print('Количество клиентов ',data_clients['user_id'].nunique())"
   ]
  },
  {
   "cell_type": "markdown",
   "metadata": {},
   "source": [
    "Было 307 клиентов. Стало 290. "
   ]
  },
  {
   "cell_type": "code",
   "execution_count": 25,
   "metadata": {},
   "outputs": [
    {
     "name": "stdout",
     "output_type": "stream",
     "text": [
      "Клиенты, у которых нет идентификаторов операторов чаще всего\n"
     ]
    },
    {
     "data": {
      "text/plain": [
       "user_id\n",
       "168252    135\n",
       "166405    111\n",
       "166582    111\n",
       "166782    106\n",
       "166658    103\n",
       "166983     90\n",
       "166916     85\n",
       "166541     78\n",
       "167497     77\n",
       "166708     77\n",
       "166485     77\n",
       "168187     75\n",
       "166503     75\n",
       "166520     75\n",
       "167650     74\n",
       "Name: calls_count, dtype: int64"
      ]
     },
     "execution_count": 25,
     "metadata": {},
     "output_type": "execute_result"
    }
   ],
   "source": [
    "print('Клиенты, у которых нет идентификаторов операторов чаще всего')\n",
    "data_calls_without_op_id.groupby('user_id')['calls_count'].count().sort_values(ascending=False).head(15)"
   ]
  },
  {
   "cell_type": "markdown",
   "metadata": {},
   "source": [
    "**Проведение дополнительных расчётов**<a id='step_5'></a>"
   ]
  },
  {
   "cell_type": "code",
   "execution_count": 26,
   "metadata": {},
   "outputs": [],
   "source": [
    "# день недели\n",
    "data_calls['weekday'] = data_calls['date'].dt.weekday\n",
    "# месяц\n",
    "data_calls['month'] = data_calls['date'].dt.month\n",
    "# номер недели\n",
    "data_calls['week_num']  = data_calls['date'].dt.week"
   ]
  },
  {
   "cell_type": "code",
   "execution_count": 27,
   "metadata": {},
   "outputs": [],
   "source": [
    "# время ожидания \n",
    "data_calls['expectation'] = data_calls['total_call_duration'] - data_calls['call_duration']"
   ]
  },
  {
   "cell_type": "markdown",
   "metadata": {},
   "source": [
    "Дубликатов в данных о звонках 4900. Это 9% от всего количества данных. \n",
    "Топ-10 клиентов с дубликатами:\n",
    "\n",
    "    - 168187    \n",
    "    - 166658    \n",
    "    - 167626    \n",
    "    - 167497    \n",
    "    - 168361    \n",
    "    - 166916    \n",
    "    - 168062    \n",
    "    - 167150     \n",
    "    - 166983     \n",
    "    - 166511     \n",
    "Дубликаты были удалены."
   ]
  },
  {
   "cell_type": "markdown",
   "metadata": {},
   "source": [
    "**Выводы после предобработки данных**\n",
    "\n",
    "Были исправлены типы данных. там где это требовалось. \n",
    "\n",
    "Было обнаружено 9% полных дубликатов среди данных о звонках операторов. Следует сообщить об этом дата инженеру, который предоставил данные. Мы удалили эти дубликаты за ненадобностью. \n",
    "\n",
    "В operator_id была найдено 7456 пропусков. Чаще всего это пропущенные звонки - операторы даже не были назначены, либо ещё какие-то сбои в системе. Такие строки были сохранены в одельный датасет и будут проанализированы ниже, чтобы сообщить клиентам о таком недочёте.\n",
    "\n",
    "Были проведены дополнительные расчёты по определению дня недели, месяца, номера недели и длительности ожидания ответа."
   ]
  },
  {
   "cell_type": "markdown",
   "metadata": {},
   "source": [
    "### Исследовательский анализ данных"
   ]
  },
  {
   "cell_type": "code",
   "execution_count": 28,
   "metadata": {},
   "outputs": [
    {
     "data": {
      "text/html": [
       "<div>\n",
       "<style scoped>\n",
       "    .dataframe tbody tr th:only-of-type {\n",
       "        vertical-align: middle;\n",
       "    }\n",
       "\n",
       "    .dataframe tbody tr th {\n",
       "        vertical-align: top;\n",
       "    }\n",
       "\n",
       "    .dataframe thead th {\n",
       "        text-align: right;\n",
       "    }\n",
       "</style>\n",
       "<table border=\"1\" class=\"dataframe\">\n",
       "  <thead>\n",
       "    <tr style=\"text-align: right;\">\n",
       "      <th></th>\n",
       "      <th>user_id</th>\n",
       "      <th>date</th>\n",
       "      <th>direction</th>\n",
       "      <th>internal</th>\n",
       "      <th>operator_id</th>\n",
       "      <th>is_missed_call</th>\n",
       "      <th>calls_count</th>\n",
       "      <th>call_duration</th>\n",
       "      <th>total_call_duration</th>\n",
       "      <th>weekday</th>\n",
       "      <th>month</th>\n",
       "      <th>week_num</th>\n",
       "      <th>expectation</th>\n",
       "      <th>tariff_plan</th>\n",
       "      <th>date_start</th>\n",
       "    </tr>\n",
       "  </thead>\n",
       "  <tbody>\n",
       "    <tr>\n",
       "      <td>0</td>\n",
       "      <td>166377</td>\n",
       "      <td>2019-08-04</td>\n",
       "      <td>out</td>\n",
       "      <td>True</td>\n",
       "      <td>880022.0</td>\n",
       "      <td>True</td>\n",
       "      <td>3</td>\n",
       "      <td>0</td>\n",
       "      <td>5</td>\n",
       "      <td>6</td>\n",
       "      <td>8</td>\n",
       "      <td>31</td>\n",
       "      <td>5</td>\n",
       "      <td>B</td>\n",
       "      <td>2019-08-01</td>\n",
       "    </tr>\n",
       "    <tr>\n",
       "      <td>1</td>\n",
       "      <td>166377</td>\n",
       "      <td>2019-08-04</td>\n",
       "      <td>out</td>\n",
       "      <td>True</td>\n",
       "      <td>880020.0</td>\n",
       "      <td>True</td>\n",
       "      <td>1</td>\n",
       "      <td>0</td>\n",
       "      <td>1</td>\n",
       "      <td>6</td>\n",
       "      <td>8</td>\n",
       "      <td>31</td>\n",
       "      <td>1</td>\n",
       "      <td>B</td>\n",
       "      <td>2019-08-01</td>\n",
       "    </tr>\n",
       "    <tr>\n",
       "      <td>2</td>\n",
       "      <td>166377</td>\n",
       "      <td>2019-08-04</td>\n",
       "      <td>out</td>\n",
       "      <td>True</td>\n",
       "      <td>880020.0</td>\n",
       "      <td>False</td>\n",
       "      <td>1</td>\n",
       "      <td>10</td>\n",
       "      <td>18</td>\n",
       "      <td>6</td>\n",
       "      <td>8</td>\n",
       "      <td>31</td>\n",
       "      <td>8</td>\n",
       "      <td>B</td>\n",
       "      <td>2019-08-01</td>\n",
       "    </tr>\n",
       "    <tr>\n",
       "      <td>3</td>\n",
       "      <td>166377</td>\n",
       "      <td>2019-08-04</td>\n",
       "      <td>out</td>\n",
       "      <td>False</td>\n",
       "      <td>880022.0</td>\n",
       "      <td>True</td>\n",
       "      <td>3</td>\n",
       "      <td>0</td>\n",
       "      <td>25</td>\n",
       "      <td>6</td>\n",
       "      <td>8</td>\n",
       "      <td>31</td>\n",
       "      <td>25</td>\n",
       "      <td>B</td>\n",
       "      <td>2019-08-01</td>\n",
       "    </tr>\n",
       "    <tr>\n",
       "      <td>4</td>\n",
       "      <td>166377</td>\n",
       "      <td>2019-08-04</td>\n",
       "      <td>out</td>\n",
       "      <td>False</td>\n",
       "      <td>880020.0</td>\n",
       "      <td>False</td>\n",
       "      <td>2</td>\n",
       "      <td>3</td>\n",
       "      <td>29</td>\n",
       "      <td>6</td>\n",
       "      <td>8</td>\n",
       "      <td>31</td>\n",
       "      <td>26</td>\n",
       "      <td>B</td>\n",
       "      <td>2019-08-01</td>\n",
       "    </tr>\n",
       "  </tbody>\n",
       "</table>\n",
       "</div>"
      ],
      "text/plain": [
       "   user_id       date direction  internal  operator_id  is_missed_call  \\\n",
       "0   166377 2019-08-04       out      True     880022.0            True   \n",
       "1   166377 2019-08-04       out      True     880020.0            True   \n",
       "2   166377 2019-08-04       out      True     880020.0           False   \n",
       "3   166377 2019-08-04       out     False     880022.0            True   \n",
       "4   166377 2019-08-04       out     False     880020.0           False   \n",
       "\n",
       "   calls_count  call_duration  total_call_duration  weekday  month  week_num  \\\n",
       "0            3              0                    5        6      8        31   \n",
       "1            1              0                    1        6      8        31   \n",
       "2            1             10                   18        6      8        31   \n",
       "3            3              0                   25        6      8        31   \n",
       "4            2              3                   29        6      8        31   \n",
       "\n",
       "   expectation tariff_plan date_start  \n",
       "0            5           B 2019-08-01  \n",
       "1            1           B 2019-08-01  \n",
       "2            8           B 2019-08-01  \n",
       "3           25           B 2019-08-01  \n",
       "4           26           B 2019-08-01  "
      ]
     },
     "execution_count": 28,
     "metadata": {},
     "output_type": "execute_result"
    }
   ],
   "source": [
    "# Объединим таблицы\n",
    "data = data_calls.merge(data_clients, left_on=['user_id'], right_on=['user_id'])\n",
    "data.head()"
   ]
  },
  {
   "cell_type": "code",
   "execution_count": 29,
   "metadata": {},
   "outputs": [
    {
     "name": "stdout",
     "output_type": "stream",
     "text": [
      "Начальная дата исследования  2019-08-01 00:00:00\n",
      "Конечная дата исследования  2019-11-27 00:00:00\n"
     ]
    }
   ],
   "source": [
    "print('Начальная дата исследования ',data['date'].min())\n",
    "print('Конечная дата исследования ',data['date'].max())"
   ]
  },
  {
   "cell_type": "markdown",
   "metadata": {},
   "source": [
    "Далее я буду использовать следующую терминологию:\n",
    "\n",
    "Медиана – это уровень показателя, который делит набор данных на две равные половины.\n",
    "\n",
    "Квартиль - это то, что делит данные на три точки и четыре интервала.\n",
    "\n",
    "Процентиль -  это определенная часть выборки данных. Например, пятый процентиль охватывает 5% объема выборки.\n",
    "\n",
    "Среднеквадратичное отклонение - это распространенный показатель рассеяния в статистике."
   ]
  },
  {
   "cell_type": "markdown",
   "metadata": {},
   "source": [
    "**Проверим данные на наличие выбросов и отчистим их**"
   ]
  },
  {
   "cell_type": "markdown",
   "metadata": {},
   "source": [
    "Выбросы являются точками данных, которые лежат вдали от обычного распределения данных.\n",
    "\n",
    "Для очистки данных воспользуемся границамиравными 5 и 95 процентилям."
   ]
  },
  {
   "cell_type": "markdown",
   "metadata": {},
   "source": [
    " \n",
    "    \n",
    "Для отчистки данных от них, мы используем межквартильный диапозон(IQR). Это разница между третьим квартилем и первым квартилем (IQR = Q3 -Q1). Выбросы в этом случае определяются как наблюдения, которые ниже (Q1 - 1,5x IQR) или нижний ус или выше (Q3 + 1,5x IQR) или верхний ус.\n",
    "    \n",
    "Этот метод оказлся слишком строгим и данных стало в 8 раз меньше. В функции ниже закоментированы попытки данного метода.    \n"
   ]
  },
  {
   "cell_type": "markdown",
   "metadata": {},
   "source": [
    "Так как количество звонков отвеченных и неотвеченных различно, то справделивее будет отчищать от выбросов их отдельно. Анализировать и чистить будем следующие столбцы: calls_count, call_duration, expectation."
   ]
  },
  {
   "cell_type": "code",
   "execution_count": 30,
   "metadata": {},
   "outputs": [],
   "source": [
    "def clean_emissions(df, col, query_conditions):\n",
    "    \"\"\"Функция для чистки данных от выбросов\"\"\"\n",
    "    # 1 и второй квартиль\n",
    "    #q_25 = df.query(query_conditions)[col].describe()[4]\n",
    "    #q_75 = df.query(query_conditions)[col].describe()[6]\n",
    "    # межвартильный размах\n",
    "    #q_75_q_25 = q_75 - q_25\n",
    "    # границы очистки\n",
    "    #max_range = q_75 + (1.5 * q_75_q_25)\n",
    "    #min_range = q_25 - (1.5 * q_75_q_25)\n",
    "    #if max_range > df.query(query_conditions)[col].describe()[7]:\n",
    "    #    max_range = df.query(query_conditions)[col].describe()[7]\n",
    "    #else:\n",
    "    #    max_range = max_range\n",
    "    #if min_range < df.query(query_conditions)[col].describe()[3]:\n",
    "    #    min_range = df.query(query_conditions)[col].describe()[3]\n",
    "    #else:\n",
    "    #   min_range = min_range  \n",
    "    \n",
    "    max_range = df.query(query_conditions)[col].quantile(0.95)\n",
    "    min_range = df.query(query_conditions)[col].quantile(0.05)    \n",
    "    df = df.loc[((df[col] <= max_range) & (df[col] >= min_range))]  \n",
    "    print('Верхняя и нижняя границы чистки данных от выбросов для', col, \":\",max_range, min_range)\n",
    "    return df"
   ]
  },
  {
   "cell_type": "code",
   "execution_count": 31,
   "metadata": {},
   "outputs": [
    {
     "name": "stdout",
     "output_type": "stream",
     "text": [
      "Количество строк до чистки выбросов (41546, 15)\n"
     ]
    }
   ],
   "source": [
    "print('Количество строк до чистки выбросов',data.shape)"
   ]
  },
  {
   "cell_type": "code",
   "execution_count": 32,
   "metadata": {},
   "outputs": [
    {
     "name": "stdout",
     "output_type": "stream",
     "text": [
      "Верхняя и нижняя границы чистки данных от выбросов для calls_count : 61.0 1.0\n",
      "Верхняя и нижняя границы чистки данных от выбросов для calls_count : 40.0 1.0\n",
      "Верхняя и нижняя границы чистки данных от выбросов для call_duration : 3148.0 14.0\n",
      "Верхняя и нижняя границы чистки данных от выбросов для call_duration : 520.0999999999999 20.0\n",
      "Верхняя и нижняя границы чистки данных от выбросов для expectation : 127.0 4.0\n",
      "Верхняя и нижняя границы чистки данных от выбросов для expectation : 80.14999999999995 4.0\n"
     ]
    }
   ],
   "source": [
    "parameter_list = ['calls_count', 'call_duration', 'expectation']\n",
    "for col in parameter_list:\n",
    "    data = clean_emissions(data, col, 'is_missed_call == False')\n",
    "    data = clean_emissions(data, col, 'is_missed_call == True')"
   ]
  },
  {
   "cell_type": "code",
   "execution_count": 33,
   "metadata": {},
   "outputs": [
    {
     "name": "stdout",
     "output_type": "stream",
     "text": [
      "Количество строк после чистки выбросов (10877, 15)\n"
     ]
    }
   ],
   "source": [
    "print('Количество строк после чистки выбросов',data.shape)"
   ]
  },
  {
   "cell_type": "markdown",
   "metadata": {},
   "source": [
    "Уберём данные, которые соответствуют неполным неделям. Так как далее анализ будет проходить по неделям."
   ]
  },
  {
   "cell_type": "code",
   "execution_count": 34,
   "metadata": {},
   "outputs": [],
   "source": [
    "data = data.query('(week_num > 33)&(week_num < 48)')"
   ]
  },
  {
   "cell_type": "markdown",
   "metadata": {},
   "source": [
    "**Анализ направленности работы клиентов**<a id='step_6'></a>"
   ]
  },
  {
   "cell_type": "markdown",
   "metadata": {},
   "source": [
    "\n",
    "Направленность колл-центров проанализируем по сумме звонков в неделю по всему колл-центру. Если в среднем входящих вызовов больше, то колл-центр относится к поддержке, если наоборот - то к обзванивающему типу.  \n",
    "    \n"
   ]
  },
  {
   "cell_type": "code",
   "execution_count": 35,
   "metadata": {},
   "outputs": [],
   "source": [
    "# Список всех клиентов\n",
    "user_list = data['user_id'].unique().tolist()\n",
    "data_grouped_by_user = data.groupby('user_id')"
   ]
  },
  {
   "cell_type": "code",
   "execution_count": 36,
   "metadata": {},
   "outputs": [
    {
     "name": "stdout",
     "output_type": "stream",
     "text": [
      "Количество колл-центров, работающих на исходящие звонки 86\n",
      "Количество колл-центров, работающие на входящие звонки 182\n"
     ]
    }
   ],
   "source": [
    "# Разделим клиентов по направленности работы: входящие и исходящие\n",
    "user_list_in = []\n",
    "user_list_out = []\n",
    "data_grouped_by_week = data.groupby('week_num')\n",
    "for user in user_list:\n",
    "    count_out = data.query('(direction == \"out\") & (user_id == @user)').groupby('week_num')['calls_count'].sum().median()\n",
    "    count_in = data.query('(direction == \"in\") & (user_id == @user)').groupby('week_num')['calls_count'].sum().median()\n",
    "    if count_out > count_in:\n",
    "        user_list_out.append(user)\n",
    "    else:\n",
    "        user_list_in.append(user)\n",
    "print('Количество колл-центров, работающих на исходящие звонки',len(user_list_out))   \n",
    "print('Количество колл-центров, работающие на входящие звонки',len(user_list_in)) "
   ]
  },
  {
   "cell_type": "markdown",
   "metadata": {},
   "source": [
    "Разделим датасет на две части: колл-центры с входящими и исходящими звонками. Далее будем анализировать их отдельно друг от друга."
   ]
  },
  {
   "cell_type": "code",
   "execution_count": 37,
   "metadata": {},
   "outputs": [],
   "source": [
    "data_calls_out = data.query('user_id in @user_list_out')\n",
    "data_calls_in = data.query('user_id in @user_list_in')"
   ]
  },
  {
   "cell_type": "code",
   "execution_count": 38,
   "metadata": {},
   "outputs": [],
   "source": [
    "# списки для результирующей таблице по медианным значениям\n",
    "list_out_calls = []\n",
    "list_in_calls = []\n",
    "list_out_dur_calls = []\n",
    "list_in_dur_calls = []\n",
    "list_out_exp_calls = []\n",
    "list_missed_calls = []"
   ]
  },
  {
   "cell_type": "code",
   "execution_count": 39,
   "metadata": {},
   "outputs": [],
   "source": [
    "def show_describe(df, col,title,list_in):\n",
    "    \"\"\"Функция, которая выводит распределение и основные характеристики\"\"\"\n",
    "    display(df.groupby(['user_id','week_num'])[col].sum().describe())\n",
    "    list_in.append(df.groupby(['user_id','week_num'])[col].sum().describe()[5])\n",
    "    #df.groupby(['user_id','week_num'])[col].sum().plot(kind = 'bar', grid = True, legend = True)\n",
    "    new_df = df.groupby(['user_id','week_num'])[col].sum().reset_index()\n",
    "    new_df.pivot_table(index = 'week_num', values = col, aggfunc = 'mean').plot(kind = 'bar', grid = True)\n",
    "    plt.title(title)"
   ]
  },
  {
   "cell_type": "markdown",
   "metadata": {},
   "source": [
    "**Анализ количества звонков**<a id='step_7'></a>"
   ]
  },
  {
   "cell_type": "code",
   "execution_count": 40,
   "metadata": {},
   "outputs": [
    {
     "data": {
      "text/plain": [
       "count    584.000000\n",
       "mean      16.748288\n",
       "std       26.197102\n",
       "min        1.000000\n",
       "25%        3.000000\n",
       "50%        8.000000\n",
       "75%       16.000000\n",
       "max      191.000000\n",
       "Name: calls_count, dtype: float64"
      ]
     },
     "metadata": {},
     "output_type": "display_data"
    },
    {
     "data": {
      "image/png": "[encoded data removed]",
      "text/plain": [
       "<Figure size 432x288 with 1 Axes>"
      ]
     },
     "metadata": {
      "needs_background": "light"
     },
     "output_type": "display_data"
    }
   ],
   "source": [
    "show_describe(data_calls_out.query('(direction in \"out\")'),'calls_count', \n",
    "              'Среднее количество исходящих звонков за неделю для колл-центров обзванивающих',list_out_calls)"
   ]
  },
  {
   "cell_type": "code",
   "execution_count": 41,
   "metadata": {},
   "outputs": [
    {
     "data": {
      "text/plain": [
       "count    558.000000\n",
       "mean       6.568100\n",
       "std        7.199505\n",
       "min        1.000000\n",
       "25%        2.000000\n",
       "50%        4.000000\n",
       "75%        8.000000\n",
       "max       59.000000\n",
       "Name: calls_count, dtype: float64"
      ]
     },
     "metadata": {},
     "output_type": "display_data"
    },
    {
     "data": {
      "image/png": "[encoded data removed]",
      "text/plain": [
       "<Figure size 432x288 with 1 Axes>"
      ]
     },
     "metadata": {
      "needs_background": "light"
     },
     "output_type": "display_data"
    }
   ],
   "source": [
    "show_describe(data_calls_out.query('(direction in \"in\")'),'calls_count', \n",
    "              'Среднее количество входящик звонков за неделю для колл-центров обзванивающих',list_in_calls)"
   ]
  },
  {
   "cell_type": "markdown",
   "metadata": {},
   "source": [
    "В колл-центры обзванивающие меньше поступает входящих звонков, чем исходящих, в 2 раза."
   ]
  },
  {
   "cell_type": "code",
   "execution_count": 42,
   "metadata": {},
   "outputs": [
    {
     "data": {
      "text/plain": [
       "count    456.000000\n",
       "mean       6.050439\n",
       "std        8.406674\n",
       "min        1.000000\n",
       "25%        2.000000\n",
       "50%        4.000000\n",
       "75%        7.000000\n",
       "max       77.000000\n",
       "Name: calls_count, dtype: float64"
      ]
     },
     "metadata": {},
     "output_type": "display_data"
    },
    {
     "data": {
      "image/png": "[encoded data removed]",
      "text/plain": [
       "<Figure size 432x288 with 1 Axes>"
      ]
     },
     "metadata": {
      "needs_background": "light"
     },
     "output_type": "display_data"
    }
   ],
   "source": [
    "show_describe(data_calls_in.query('(direction in \"out\")'),'calls_count', \n",
    "              'Среднее количество исходящих звонков за неделю для колл-центров поддержки',list_out_calls)"
   ]
  },
  {
   "cell_type": "code",
   "execution_count": 43,
   "metadata": {},
   "outputs": [
    {
     "data": {
      "text/plain": [
       "count    928.000000\n",
       "mean       8.910560\n",
       "std       18.230147\n",
       "min        1.000000\n",
       "25%        2.000000\n",
       "50%        5.000000\n",
       "75%        9.000000\n",
       "max      224.000000\n",
       "Name: calls_count, dtype: float64"
      ]
     },
     "metadata": {},
     "output_type": "display_data"
    },
    {
     "data": {
      "image/png": "[encoded data removed]",
      "text/plain": [
       "<Figure size 432x288 with 1 Axes>"
      ]
     },
     "metadata": {
      "needs_background": "light"
     },
     "output_type": "display_data"
    }
   ],
   "source": [
    "show_describe(data_calls_in.query('(direction in \"in\")'),'calls_count', \n",
    "              'Среднее оличество звонков входящих за неделю для колл-центров поддержки', list_in_calls)\n"
   ]
  },
  {
   "cell_type": "markdown",
   "metadata": {},
   "source": [
    "В колл-центрах поддержки меньше исходящих звонков, чем входящих."
   ]
  },
  {
   "cell_type": "markdown",
   "metadata": {},
   "source": [
    "**Анализ длительности звонков**<a id='step_8'></a>"
   ]
  },
  {
   "cell_type": "code",
   "execution_count": 44,
   "metadata": {},
   "outputs": [
    {
     "data": {
      "text/plain": [
       "count      584.000000\n",
       "mean      1097.352740\n",
       "std       1592.216018\n",
       "min         20.000000\n",
       "25%        251.500000\n",
       "50%        587.500000\n",
       "75%       1211.250000\n",
       "max      13532.000000\n",
       "Name: call_duration, dtype: float64"
      ]
     },
     "metadata": {},
     "output_type": "display_data"
    },
    {
     "data": {
      "image/png": "[encoded data removed]",
      "text/plain": [
       "<Figure size 432x288 with 1 Axes>"
      ]
     },
     "metadata": {
      "needs_background": "light"
     },
     "output_type": "display_data"
    }
   ],
   "source": [
    "# данные для колл-центров обзванивающих о исходящих вызовах не пропущенных\n",
    "show_describe(data_calls_out.query('(direction in \"out\") & (is_missed_call == False)'),'call_duration', \n",
    "              'Средняя длительность звонков исходящих за неделю для колл-центров обзванивающих', list_out_dur_calls)\n"
   ]
  },
  {
   "cell_type": "markdown",
   "metadata": {},
   "source": [
    "Для колл-центров обзванивающих медианная длительность исходящих разговоров около 10 минут в неделю. Случаются более длинные звонки."
   ]
  },
  {
   "cell_type": "code",
   "execution_count": 45,
   "metadata": {},
   "outputs": [
    {
     "data": {
      "text/plain": [
       "count      926.000000\n",
       "mean       635.658747\n",
       "std       1199.653992\n",
       "min         20.000000\n",
       "25%        136.000000\n",
       "50%        394.000000\n",
       "75%        743.750000\n",
       "max      17452.000000\n",
       "Name: call_duration, dtype: float64"
      ]
     },
     "metadata": {},
     "output_type": "display_data"
    },
    {
     "data": {
      "image/png": "[encoded data removed]",
      "text/plain": [
       "<Figure size 432x288 with 1 Axes>"
      ]
     },
     "metadata": {
      "needs_background": "light"
     },
     "output_type": "display_data"
    }
   ],
   "source": [
    "show_describe(data_calls_in.query('(direction in \"in\") & (is_missed_call == False)'),'call_duration', \n",
    "              'Средняя длительность звонков входящих за неделю  для колл-центров поддержки', list_in_dur_calls)\n"
   ]
  },
  {
   "cell_type": "markdown",
   "metadata": {},
   "source": [
    "В колл-центры поддержки медианная длительность входящих звонков около 6 минут."
   ]
  },
  {
   "cell_type": "markdown",
   "metadata": {},
   "source": [
    "**Анализ длительности ожидания**<a id='step_9'></a>"
   ]
  },
  {
   "cell_type": "code",
   "execution_count": 46,
   "metadata": {},
   "outputs": [
    {
     "data": {
      "text/plain": [
       "count     584.000000\n",
       "mean      158.563356\n",
       "std       231.400182\n",
       "min         4.000000\n",
       "25%        36.000000\n",
       "50%        85.000000\n",
       "75%       171.000000\n",
       "max      2084.000000\n",
       "Name: expectation, dtype: float64"
      ]
     },
     "metadata": {},
     "output_type": "display_data"
    },
    {
     "data": {
      "image/png": "[encoded data removed]",
      "text/plain": [
       "<Figure size 432x288 with 1 Axes>"
      ]
     },
     "metadata": {
      "needs_background": "light"
     },
     "output_type": "display_data"
    }
   ],
   "source": [
    "show_describe(data_calls_out.query('direction in \"out\" & (is_missed_call == False)'),'expectation', \n",
    "              'Длительность ожидания ответа оператором обзванивающим не пропущенных вызовов за неделю',list_out_exp_calls)"
   ]
  },
  {
   "cell_type": "code",
   "execution_count": 47,
   "metadata": {},
   "outputs": [],
   "source": [
    "list_empty = []"
   ]
  },
  {
   "cell_type": "code",
   "execution_count": 48,
   "metadata": {},
   "outputs": [
    {
     "data": {
      "text/plain": [
       "count      6.00000\n",
       "mean      46.50000\n",
       "std       38.78015\n",
       "min       11.00000\n",
       "25%       18.25000\n",
       "50%       33.00000\n",
       "75%       68.00000\n",
       "max      109.00000\n",
       "Name: expectation, dtype: float64"
      ]
     },
     "metadata": {},
     "output_type": "display_data"
    },
    {
     "data": {
      "image/png": "[encoded data removed]",
      "text/plain": [
       "<Figure size 432x288 with 1 Axes>"
      ]
     },
     "metadata": {
      "needs_background": "light"
     },
     "output_type": "display_data"
    }
   ],
   "source": [
    "show_describe(data_calls_out.query('direction in \"out\" & (is_missed_call == True)'),'expectation', \n",
    "              'Длительность ожидания ответа оператором обзванивающим, звонки без ответа за неделю', list_empty)\n"
   ]
  },
  {
   "cell_type": "markdown",
   "metadata": {},
   "source": [
    "Ожидание ответа абонента в обзванивающих колл-центрах 1,5 минуты. Не дожидаясь ответа, операторы кладут трубку примерно через пол минуты."
   ]
  },
  {
   "cell_type": "code",
   "execution_count": 49,
   "metadata": {},
   "outputs": [
    {
     "data": {
      "text/plain": [
       "count     926.000000\n",
       "mean      103.078834\n",
       "std       172.418495\n",
       "min         4.000000\n",
       "25%        30.250000\n",
       "50%        65.000000\n",
       "75%       118.750000\n",
       "max      2324.000000\n",
       "Name: expectation, dtype: float64"
      ]
     },
     "metadata": {},
     "output_type": "display_data"
    },
    {
     "data": {
      "image/png": "[encoded data removed]",
      "text/plain": [
       "<Figure size 432x288 with 1 Axes>"
      ]
     },
     "metadata": {
      "needs_background": "light"
     },
     "output_type": "display_data"
    }
   ],
   "source": [
    "show_describe(data_calls_in.query('direction in \"in\" & (is_missed_call == False)'),'expectation', \n",
    "              'Длительность ожидания ответа оператора поддержки за неделю', list_out_exp_calls)"
   ]
  },
  {
   "cell_type": "code",
   "execution_count": 50,
   "metadata": {},
   "outputs": [
    {
     "data": {
      "text/plain": [
       "count     21.000000\n",
       "mean      26.476190\n",
       "std       27.619955\n",
       "min        4.000000\n",
       "25%       10.000000\n",
       "50%       14.000000\n",
       "75%       35.000000\n",
       "max      105.000000\n",
       "Name: expectation, dtype: float64"
      ]
     },
     "metadata": {},
     "output_type": "display_data"
    },
    {
     "data": {
      "image/png": "[encoded data removed]",
      "text/plain": [
       "<Figure size 432x288 with 1 Axes>"
      ]
     },
     "metadata": {
      "needs_background": "light"
     },
     "output_type": "display_data"
    }
   ],
   "source": [
    "show_describe(data_calls_in.query('direction in \"in\" & (is_missed_call == True)'),'expectation', \n",
    "              'Длительность ожидания ответа оператора поддержки, звонки пропущенные за неделю', list_empty)"
   ]
  },
  {
   "cell_type": "markdown",
   "metadata": {},
   "source": [
    "Операторы в среднем отвечают через 13 секунды. Не дождавшиеся ответа абоненты кладут трубку через 14 секунд. "
   ]
  },
  {
   "cell_type": "markdown",
   "metadata": {},
   "source": [
    "**Анализ пропущенных звонков**<a id='step_10'></a>"
   ]
  },
  {
   "cell_type": "code",
   "execution_count": 51,
   "metadata": {},
   "outputs": [
    {
     "data": {
      "text/plain": [
       "count    6.000000\n",
       "mean     5.166667\n",
       "std      3.060501\n",
       "min      1.000000\n",
       "25%      3.250000\n",
       "50%      5.000000\n",
       "75%      7.500000\n",
       "max      9.000000\n",
       "Name: calls_count, dtype: float64"
      ]
     },
     "metadata": {},
     "output_type": "display_data"
    },
    {
     "data": {
      "image/png": "[encoded data removed]",
      "text/plain": [
       "<Figure size 432x288 with 1 Axes>"
      ]
     },
     "metadata": {
      "needs_background": "light"
     },
     "output_type": "display_data"
    }
   ],
   "source": [
    "show_describe(data_calls_out.query('direction in \"out\" & (is_missed_call == True)'),'calls_count', \n",
    "              'Количество пропущенных звонков в неделю обзванивающим оператором', list_missed_calls)"
   ]
  },
  {
   "cell_type": "markdown",
   "metadata": {},
   "source": [
    "Как минимум 5 звонков обзванивающего оператора остаются без ответа."
   ]
  },
  {
   "cell_type": "code",
   "execution_count": 52,
   "metadata": {},
   "outputs": [
    {
     "data": {
      "text/plain": [
       "count    21.000000\n",
       "mean      2.857143\n",
       "std       3.978514\n",
       "min       1.000000\n",
       "25%       1.000000\n",
       "50%       1.000000\n",
       "75%       3.000000\n",
       "max      18.000000\n",
       "Name: calls_count, dtype: float64"
      ]
     },
     "metadata": {},
     "output_type": "display_data"
    },
    {
     "data": {
      "image/png": "[encoded data removed]",
      "text/plain": [
       "<Figure size 432x288 with 1 Axes>"
      ]
     },
     "metadata": {
      "needs_background": "light"
     },
     "output_type": "display_data"
    }
   ],
   "source": [
    "show_describe(data_calls_in.query('direction in \"in\" & (is_missed_call == True)'),'calls_count', \n",
    "              'Количество пропущенных звонков в неделю оператором поддержки', list_missed_calls)"
   ]
  },
  {
   "cell_type": "markdown",
   "metadata": {},
   "source": [
    "Операторы поддержки, находясь на рабочем месте, редко пропускают больше одного звонка."
   ]
  },
  {
   "cell_type": "markdown",
   "metadata": {},
   "source": [
    "**Анализ звонков по дням недели**<a id='step_11'></a>"
   ]
  },
  {
   "cell_type": "code",
   "execution_count": 53,
   "metadata": {},
   "outputs": [
    {
     "data": {
      "image/png": "[encoded data removed]",
      "text/plain": [
       "<Figure size 432x288 with 1 Axes>"
      ]
     },
     "metadata": {
      "needs_background": "light"
     },
     "output_type": "display_data"
    }
   ],
   "source": [
    "data_calls_out.query('direction in \"out\"').groupby(['weekday'])['calls_count'].sum().plot(kind = 'bar',grid = True)\n",
    "plt.title('Среднее количество звонков от оператора обзванивающих колл-центров')\n",
    "plt.ylabel('Количество звонков')\n",
    "plt.show()"
   ]
  },
  {
   "cell_type": "code",
   "execution_count": 54,
   "metadata": {},
   "outputs": [
    {
     "data": {
      "image/png": "[encoded data removed]",
      "text/plain": [
       "<Figure size 432x288 with 1 Axes>"
      ]
     },
     "metadata": {
      "needs_background": "light"
     },
     "output_type": "display_data"
    }
   ],
   "source": [
    "data_calls_in.query('direction in \"in\"').groupby('weekday')['calls_count'].sum().plot(kind = 'bar',grid = True)\n",
    "plt.title('Среднее количество звонков оператору в поддержку по дням недели')\n",
    "plt.ylabel('Количество звонков')\n",
    "plt.show()"
   ]
  },
  {
   "cell_type": "markdown",
   "metadata": {},
   "source": [
    "**Анализ внутренних и внешних вызовов**<a id='step_12'></a>"
   ]
  },
  {
   "cell_type": "code",
   "execution_count": 55,
   "metadata": {},
   "outputs": [
    {
     "name": "stdout",
     "output_type": "stream",
     "text": [
      "Количество внешних звонков обзванивающих колл центров в неделю 9.0\n",
      "Количество внутренних звонков обзванивающих колл центров в неделю 14.0\n"
     ]
    }
   ],
   "source": [
    "print('Количество внешних звонков обзванивающих колл центров в неделю', data_calls_out.query('internal == False').groupby(['week_num','user_id'])['calls_count'].sum().median())\n",
    "print('Количество внутренних звонков обзванивающих колл центров в неделю', data_calls_out.query('internal == True').groupby(['week_num','user_id'])['calls_count'].sum().median())"
   ]
  },
  {
   "cell_type": "code",
   "execution_count": 56,
   "metadata": {},
   "outputs": [
    {
     "name": "stdout",
     "output_type": "stream",
     "text": [
      "Количество внешних звонков обзванивающих колл центров в поддержки 5.0\n",
      "Количество внутренних звонков обзванивающих колл центров в поддержки 3.0\n"
     ]
    }
   ],
   "source": [
    "print('Количество внешних звонков обзванивающих колл центров в поддержки', data_calls_in.query('internal == False').groupby(['week_num','user_id'])['calls_count'].sum().median())\n",
    "print('Количество внутренних звонков обзванивающих колл центров в поддержки', data_calls_in.query('internal == True').groupby(['week_num','user_id'])['calls_count'].sum().median())"
   ]
  },
  {
   "cell_type": "markdown",
   "metadata": {},
   "source": [
    "**Сводная таблица с медианными значениями значениями**<a id='step_13'></a>"
   ]
  },
  {
   "cell_type": "code",
   "execution_count": 57,
   "metadata": {},
   "outputs": [],
   "source": [
    "list_out_dur_calls.append('-')\n",
    "list_in_dur_calls.insert(0, '-')"
   ]
  },
  {
   "cell_type": "code",
   "execution_count": 58,
   "metadata": {},
   "outputs": [
    {
     "name": "stdout",
     "output_type": "stream",
     "text": [
      "Таблица медианных значений для колл-центров разной направленности в неделю\n"
     ]
    },
    {
     "data": {
      "text/html": [
       "<div>\n",
       "<style scoped>\n",
       "    .dataframe tbody tr th:only-of-type {\n",
       "        vertical-align: middle;\n",
       "    }\n",
       "\n",
       "    .dataframe tbody tr th {\n",
       "        vertical-align: top;\n",
       "    }\n",
       "\n",
       "    .dataframe thead th {\n",
       "        text-align: right;\n",
       "    }\n",
       "</style>\n",
       "<table border=\"1\" class=\"dataframe\">\n",
       "  <thead>\n",
       "    <tr style=\"text-align: right;\">\n",
       "      <th></th>\n",
       "      <th>type</th>\n",
       "      <th>calls_out</th>\n",
       "      <th>calls_in</th>\n",
       "      <th>duration_out</th>\n",
       "      <th>duration_in</th>\n",
       "      <th>expectation</th>\n",
       "      <th>missed</th>\n",
       "    </tr>\n",
       "  </thead>\n",
       "  <tbody>\n",
       "    <tr>\n",
       "      <td>0</td>\n",
       "      <td>output</td>\n",
       "      <td>8.0</td>\n",
       "      <td>4.0</td>\n",
       "      <td>587.5</td>\n",
       "      <td>-</td>\n",
       "      <td>85.0</td>\n",
       "      <td>5.0</td>\n",
       "    </tr>\n",
       "    <tr>\n",
       "      <td>1</td>\n",
       "      <td>input</td>\n",
       "      <td>4.0</td>\n",
       "      <td>5.0</td>\n",
       "      <td>-</td>\n",
       "      <td>394</td>\n",
       "      <td>65.0</td>\n",
       "      <td>1.0</td>\n",
       "    </tr>\n",
       "  </tbody>\n",
       "</table>\n",
       "</div>"
      ],
      "text/plain": [
       "     type  calls_out  calls_in duration_out duration_in  expectation  missed\n",
       "0  output        8.0       4.0        587.5           -         85.0     5.0\n",
       "1   input        4.0       5.0            -         394         65.0     1.0"
      ]
     },
     "execution_count": 58,
     "metadata": {},
     "output_type": "execute_result"
    }
   ],
   "source": [
    "table_median = pd.DataFrame({'type': ['output','input']})\n",
    "table_median['calls_out'] = list_out_calls\n",
    "table_median['calls_in']= list_in_calls \n",
    "table_median['duration_out'] = list_out_dur_calls\n",
    "table_median['duration_in'] = list_in_dur_calls\n",
    "table_median['expectation'] = list_out_exp_calls\n",
    "table_median['missed'] = list_missed_calls\n",
    "print('Таблица медианных значений для колл-центров разной направленности в неделю')\n",
    "table_median"
   ]
  },
  {
   "cell_type": "markdown",
   "metadata": {},
   "source": [
    "**Выводы по исследовательскому анализу данных:**\n",
    "    \n",
    "    обзванивающие коллцентры:\n",
    "        - исходящих вызовов в 2 раза больше, чем входящих;\n",
    "        - для колл-центров обзванивающих медианная длительность исходящего звонка 1.2 минуты;\n",
    "        - ожидание ответа абонента оператором около 10 секунд;\n",
    "        - около 5 вызовов в неделю остаются без ответа;\n",
    "        - не дожидаются ответа абонентом через почти 1,5 минуты;\n",
    "        - в субботу и пятницу нагрузка на колл-центры в ниже;\n",
    "    колл-центры поддержки:    \n",
    "        - исходящих звонков немного меньше, чем входящих;\n",
    "        - медианная длительность входящего звонка 1.5 минуты;\n",
    "        - отвечают через 13 секунды;\n",
    "        - абоненты кладут трубку через 14 секунд;\n",
    "        - в субботу и пятницу меньше всего звонков в колл-центры.\n",
    "\n"
   ]
  },
  {
   "cell_type": "markdown",
   "metadata": {},
   "source": [
    "\n",
    "Проанализировала данные по неделям и вычислила средние значения по ним, так как по дням значения достаточно маленькие и выше погрешность вычислений. Тем более в какие то дни операторы могут выходить не все или ещё какие то обстоятельства. Группировала данные по клиентам.\n",
    "    \n"
   ]
  },
  {
   "cell_type": "markdown",
   "metadata": {},
   "source": [
    "### Создание портрета неэффективного оператора"
   ]
  },
  {
   "cell_type": "markdown",
   "metadata": {},
   "source": [
    "\n",
    "Определим критерии эффективности операторов по неделям.    \n",
    "\n"
   ]
  },
  {
   "cell_type": "markdown",
   "metadata": {},
   "source": [
    "**Для колл-центров обзванивающих**<a id='step_14'></a>"
   ]
  },
  {
   "cell_type": "code",
   "execution_count": 59,
   "metadata": {},
   "outputs": [
    {
     "data": {
      "text/html": [
       "<div>\n",
       "<style scoped>\n",
       "    .dataframe tbody tr th:only-of-type {\n",
       "        vertical-align: middle;\n",
       "    }\n",
       "\n",
       "    .dataframe tbody tr th {\n",
       "        vertical-align: top;\n",
       "    }\n",
       "\n",
       "    .dataframe thead th {\n",
       "        text-align: right;\n",
       "    }\n",
       "</style>\n",
       "<table border=\"1\" class=\"dataframe\">\n",
       "  <thead>\n",
       "    <tr style=\"text-align: right;\">\n",
       "      <th></th>\n",
       "      <th>operator_id</th>\n",
       "      <th>week_num</th>\n",
       "      <th>is_missed_call</th>\n",
       "      <th>calls_count</th>\n",
       "      <th>call_duration</th>\n",
       "    </tr>\n",
       "  </thead>\n",
       "  <tbody>\n",
       "    <tr>\n",
       "      <td>0</td>\n",
       "      <td>880022.0</td>\n",
       "      <td>35</td>\n",
       "      <td>False</td>\n",
       "      <td>1</td>\n",
       "      <td>239</td>\n",
       "    </tr>\n",
       "    <tr>\n",
       "      <td>1</td>\n",
       "      <td>880022.0</td>\n",
       "      <td>36</td>\n",
       "      <td>False</td>\n",
       "      <td>7</td>\n",
       "      <td>594</td>\n",
       "    </tr>\n",
       "    <tr>\n",
       "      <td>2</td>\n",
       "      <td>880022.0</td>\n",
       "      <td>37</td>\n",
       "      <td>False</td>\n",
       "      <td>5</td>\n",
       "      <td>479</td>\n",
       "    </tr>\n",
       "    <tr>\n",
       "      <td>3</td>\n",
       "      <td>880022.0</td>\n",
       "      <td>38</td>\n",
       "      <td>False</td>\n",
       "      <td>5</td>\n",
       "      <td>710</td>\n",
       "    </tr>\n",
       "    <tr>\n",
       "      <td>4</td>\n",
       "      <td>880022.0</td>\n",
       "      <td>39</td>\n",
       "      <td>False</td>\n",
       "      <td>3</td>\n",
       "      <td>353</td>\n",
       "    </tr>\n",
       "    <tr>\n",
       "      <td>...</td>\n",
       "      <td>...</td>\n",
       "      <td>...</td>\n",
       "      <td>...</td>\n",
       "      <td>...</td>\n",
       "      <td>...</td>\n",
       "    </tr>\n",
       "    <tr>\n",
       "      <td>1471</td>\n",
       "      <td>963716.0</td>\n",
       "      <td>46</td>\n",
       "      <td>False</td>\n",
       "      <td>1</td>\n",
       "      <td>25</td>\n",
       "    </tr>\n",
       "    <tr>\n",
       "      <td>1472</td>\n",
       "      <td>964510.0</td>\n",
       "      <td>47</td>\n",
       "      <td>False</td>\n",
       "      <td>7</td>\n",
       "      <td>551</td>\n",
       "    </tr>\n",
       "    <tr>\n",
       "      <td>1473</td>\n",
       "      <td>964716.0</td>\n",
       "      <td>47</td>\n",
       "      <td>False</td>\n",
       "      <td>3</td>\n",
       "      <td>511</td>\n",
       "    </tr>\n",
       "    <tr>\n",
       "      <td>1474</td>\n",
       "      <td>965328.0</td>\n",
       "      <td>47</td>\n",
       "      <td>False</td>\n",
       "      <td>8</td>\n",
       "      <td>442</td>\n",
       "    </tr>\n",
       "    <tr>\n",
       "      <td>1475</td>\n",
       "      <td>967310.0</td>\n",
       "      <td>47</td>\n",
       "      <td>False</td>\n",
       "      <td>3</td>\n",
       "      <td>134</td>\n",
       "    </tr>\n",
       "  </tbody>\n",
       "</table>\n",
       "<p>1476 rows × 5 columns</p>\n",
       "</div>"
      ],
      "text/plain": [
       "      operator_id  week_num  is_missed_call  calls_count  call_duration\n",
       "0        880022.0        35           False            1            239\n",
       "1        880022.0        36           False            7            594\n",
       "2        880022.0        37           False            5            479\n",
       "3        880022.0        38           False            5            710\n",
       "4        880022.0        39           False            3            353\n",
       "...           ...       ...             ...          ...            ...\n",
       "1471     963716.0        46           False            1             25\n",
       "1472     964510.0        47           False            7            551\n",
       "1473     964716.0        47           False            3            511\n",
       "1474     965328.0        47           False            8            442\n",
       "1475     967310.0        47           False            3            134\n",
       "\n",
       "[1476 rows x 5 columns]"
      ]
     },
     "execution_count": 59,
     "metadata": {},
     "output_type": "execute_result"
    }
   ],
   "source": [
    "# выделение необходимых данных\n",
    "operators_out_df = data_calls_out.query('direction in \"out\"').\\\n",
    "                                    groupby(['operator_id', 'week_num','is_missed_call'])[['calls_count', 'call_duration']].sum().reset_index()\n",
    "operators_out_df"
   ]
  },
  {
   "cell_type": "code",
   "execution_count": 60,
   "metadata": {},
   "outputs": [],
   "source": [
    "# Подсчёт средней длительности разговора оператора\n",
    "operators_out_df['mean_duration'] = operators_out_df['call_duration']/operators_out_df['calls_count']"
   ]
  },
  {
   "cell_type": "code",
   "execution_count": 61,
   "metadata": {},
   "outputs": [
    {
     "data": {
      "text/plain": [
       "count    1469.000000\n",
       "mean       80.286699\n",
       "std        64.157445\n",
       "min         6.500000\n",
       "25%        40.666667\n",
       "50%        64.500000\n",
       "75%        97.750000\n",
       "max       517.000000\n",
       "Name: mean_duration, dtype: float64"
      ]
     },
     "execution_count": 61,
     "metadata": {},
     "output_type": "execute_result"
    }
   ],
   "source": [
    "operators_out_df.query('is_missed_call == False')['mean_duration'].describe()"
   ]
  },
  {
   "cell_type": "code",
   "execution_count": 62,
   "metadata": {},
   "outputs": [
    {
     "data": {
      "text/plain": [
       "count    1469.000000\n",
       "mean        6.658271\n",
       "std         6.482236\n",
       "min         1.000000\n",
       "25%         2.000000\n",
       "50%         5.000000\n",
       "75%         9.000000\n",
       "max        50.000000\n",
       "Name: calls_count, dtype: float64"
      ]
     },
     "execution_count": 62,
     "metadata": {},
     "output_type": "execute_result"
    }
   ],
   "source": [
    "# анализ Количество звонков в неделю\n",
    "operators_out_df.groupby(['operator_id','week_num'])['calls_count'].sum().describe()"
   ]
  },
  {
   "cell_type": "markdown",
   "metadata": {},
   "source": [
    "Для операторов, работающих в обзванивающих колл-центрах, важно количество совершённых звонков и длительность - насколько они смогли заинтересовать абонента своим предложением.\n",
    "\n",
    "У половины операторов получается совершать звонки длительностью больше минуты. Будем считать, что плохой оператор совершает звонки со средней длительностью меньше 98 секунд (3 квартиль). Для качественной работы оператора и звонков исходящих должно быть достаточно, больше 9 в неделю(3 квартиль)."
   ]
  },
  {
   "cell_type": "code",
   "execution_count": 63,
   "metadata": {},
   "outputs": [],
   "source": [
    "# критерии плохого оператора на исходящие вызовыб выбрана медиана, можно выбрать из функции describe любую другую перцентиль\n",
    "calls_count_median_out = operators_out_df.groupby(['operator_id','week_num'])['calls_count'].sum().describe()[6]\n",
    "calls_duration_median_out = operators_out_df.query('is_missed_call == False')['mean_duration'].describe()[6]"
   ]
  },
  {
   "cell_type": "code",
   "execution_count": 64,
   "metadata": {},
   "outputs": [],
   "source": [
    "# таблица соотвествия оператора клиенту\n",
    "data_calls_out_user_oper = data_calls_out.groupby('operator_id',as_index=False).agg({'user_id': pd.Series.unique})"
   ]
  },
  {
   "cell_type": "code",
   "execution_count": 65,
   "metadata": {},
   "outputs": [],
   "source": [
    "def bad_operator_output(df):\n",
    "    '''функция определения плохих операторов для исходящих звонков'''\n",
    "    bad_operator_list = []\n",
    "    count_cut = df.groupby(['operator_id','week_num'])['calls_count'].sum().reset_index()\n",
    "    count_cut = count_cut.query('calls_count < @calls_count_median_out')\n",
    "    count_cut_merged = count_cut.merge(df.query('is_missed_call == False')[['operator_id','week_num','mean_duration']],\\\n",
    "                                       left_on=['operator_id','week_num'], right_on=['operator_id','week_num'],how='left')\n",
    "    for oper in count_cut['operator_id'].unique():\n",
    "        if count_cut_merged.loc[((count_cut_merged['operator_id'] == oper)),\\\n",
    "                                'mean_duration'].min() < calls_duration_median_out:\n",
    "            bad_operator_list.append(oper)\n",
    "    bad_operators_out_df = pd.DataFrame({'operator_id':bad_operator_list})         \n",
    "    bad_operators_out_df = bad_operators_out_df.merge(data_calls_out_user_oper, on = 'operator_id', how = 'left')     \n",
    "    return bad_operators_out_df\n",
    "    "
   ]
  },
  {
   "cell_type": "code",
   "execution_count": 66,
   "metadata": {},
   "outputs": [
    {
     "name": "stdout",
     "output_type": "stream",
     "text": [
      "Список операторов, не проходящих требования по количеству звонков и их средней длительности\n"
     ]
    },
    {
     "data": {
      "text/html": [
       "<div>\n",
       "<style scoped>\n",
       "    .dataframe tbody tr th:only-of-type {\n",
       "        vertical-align: middle;\n",
       "    }\n",
       "\n",
       "    .dataframe tbody tr th {\n",
       "        vertical-align: top;\n",
       "    }\n",
       "\n",
       "    .dataframe thead th {\n",
       "        text-align: right;\n",
       "    }\n",
       "</style>\n",
       "<table border=\"1\" class=\"dataframe\">\n",
       "  <thead>\n",
       "    <tr style=\"text-align: right;\">\n",
       "      <th></th>\n",
       "      <th>operator_id</th>\n",
       "      <th>user_id</th>\n",
       "    </tr>\n",
       "  </thead>\n",
       "  <tbody>\n",
       "    <tr>\n",
       "      <td>0</td>\n",
       "      <td>880022.0</td>\n",
       "      <td>166377</td>\n",
       "    </tr>\n",
       "    <tr>\n",
       "      <td>1</td>\n",
       "      <td>880026.0</td>\n",
       "      <td>166377</td>\n",
       "    </tr>\n",
       "    <tr>\n",
       "      <td>2</td>\n",
       "      <td>880028.0</td>\n",
       "      <td>166377</td>\n",
       "    </tr>\n",
       "    <tr>\n",
       "      <td>3</td>\n",
       "      <td>882684.0</td>\n",
       "      <td>166405</td>\n",
       "    </tr>\n",
       "    <tr>\n",
       "      <td>4</td>\n",
       "      <td>882686.0</td>\n",
       "      <td>166405</td>\n",
       "    </tr>\n",
       "    <tr>\n",
       "      <td>...</td>\n",
       "      <td>...</td>\n",
       "      <td>...</td>\n",
       "    </tr>\n",
       "    <tr>\n",
       "      <td>301</td>\n",
       "      <td>960950.0</td>\n",
       "      <td>166407</td>\n",
       "    </tr>\n",
       "    <tr>\n",
       "      <td>302</td>\n",
       "      <td>963716.0</td>\n",
       "      <td>167078</td>\n",
       "    </tr>\n",
       "    <tr>\n",
       "      <td>303</td>\n",
       "      <td>964510.0</td>\n",
       "      <td>167545</td>\n",
       "    </tr>\n",
       "    <tr>\n",
       "      <td>304</td>\n",
       "      <td>965328.0</td>\n",
       "      <td>166688</td>\n",
       "    </tr>\n",
       "    <tr>\n",
       "      <td>305</td>\n",
       "      <td>967310.0</td>\n",
       "      <td>167275</td>\n",
       "    </tr>\n",
       "  </tbody>\n",
       "</table>\n",
       "<p>306 rows × 2 columns</p>\n",
       "</div>"
      ],
      "text/plain": [
       "     operator_id  user_id\n",
       "0       880022.0   166377\n",
       "1       880026.0   166377\n",
       "2       880028.0   166377\n",
       "3       882684.0   166405\n",
       "4       882686.0   166405\n",
       "..           ...      ...\n",
       "301     960950.0   166407\n",
       "302     963716.0   167078\n",
       "303     964510.0   167545\n",
       "304     965328.0   166688\n",
       "305     967310.0   167275\n",
       "\n",
       "[306 rows x 2 columns]"
      ]
     },
     "execution_count": 66,
     "metadata": {},
     "output_type": "execute_result"
    }
   ],
   "source": [
    "print('Список операторов, не проходящих требования по количеству звонков и их средней длительности')\n",
    "bad_operator_output(operators_out_df)"
   ]
  },
  {
   "cell_type": "code",
   "execution_count": 67,
   "metadata": {},
   "outputs": [
    {
     "data": {
      "image/png": "[encoded data removed]",
      "text/plain": [
       "<Figure size 432x288 with 1 Axes>"
      ]
     },
     "metadata": {
      "needs_background": "light"
     },
     "output_type": "display_data"
    }
   ],
   "source": [
    "labels = bad_operator_output(operators_out_df)['user_id'].value_counts().head(15).to_frame().index.to_list()\n",
    "fig = (bad_operator_output(operators_out_df)['user_id'].value_counts().head(15)).plot(kind = 'bar', grid = True, legend = True)\n",
    "plt.title('Клиенты с неэффективными операторами')\n",
    "plt.ylabel('Количество неэффективных операторов')\n",
    "plt.show()"
   ]
  },
  {
   "cell_type": "code",
   "execution_count": 68,
   "metadata": {},
   "outputs": [],
   "source": [
    "users_with_bad_operators = bad_operator_output(operators_out_df)['user_id'].unique()\n",
    "bad_operators = bad_operator_output(operators_out_df)['operator_id'].unique()"
   ]
  },
  {
   "cell_type": "code",
   "execution_count": 69,
   "metadata": {},
   "outputs": [
    {
     "data": {
      "image/png": "[encoded data removed]",
      "text/plain": [
       "<Figure size 432x288 with 1 Axes>"
      ]
     },
     "metadata": {
      "needs_background": "light"
     },
     "output_type": "display_data"
    }
   ],
   "source": [
    "count_bad_operators = 0\n",
    "count_good_operators = 0\n",
    "bad_list = []\n",
    "good_list = []\n",
    "for user in users_with_bad_operators:\n",
    "    all_opers = len(data_calls_out_user_oper.query('(user_id == @user)')['operator_id'].tolist())\n",
    "    bad_list.append(len(data_calls_out_user_oper.query('(user_id == @user) & (operator_id in @bad_operators)')['operator_id'].tolist()))\n",
    "    good_list.append(len(data_calls_out_user_oper.query('(user_id == @user) & (operator_id not in @bad_operators)')['operator_id'].tolist()))\n",
    "df_bad = pd.DataFrame({'user_id':users_with_bad_operators, 'bad':bad_list, 'good':good_list})\n",
    "df_bad['good_to_bad']= df_bad['good']/df_bad['bad']\n",
    "\n",
    "df_bad['good_to_bad'].hist(bins = 50)\n",
    "plt.title('Гистрограмма распределения отношения хороших операторов к плохим')\n",
    "plt.show()"
   ]
  },
  {
   "cell_type": "markdown",
   "metadata": {},
   "source": [
    "В колл-центрах с неэффективными операторами проанализировали соотношение \"плохих\" и \"хороших\" операторов. Выявили, что во многих колл-центрах неэффективных операторов больше, чем эффективных. На это следует обратить внимание."
   ]
  },
  {
   "cell_type": "markdown",
   "metadata": {},
   "source": [
    "**Для колл-центров поддержки**<a id='step_15'></a>"
   ]
  },
  {
   "cell_type": "code",
   "execution_count": 70,
   "metadata": {},
   "outputs": [],
   "source": [
    "operators_in_df = data_calls_in.query('direction in \"in\"').\\\n",
    "                                groupby(['operator_id', 'week_num','is_missed_call'])[['calls_count', 'expectation']].sum().reset_index()\n",
    "# Средняя длительность ожидания ответа оператора\n",
    "operators_in_df['mean_expectation'] = operators_in_df['expectation']/operators_in_df['calls_count']\n"
   ]
  },
  {
   "cell_type": "code",
   "execution_count": 71,
   "metadata": {},
   "outputs": [
    {
     "data": {
      "text/plain": [
       "count    1584.000000\n",
       "mean       15.235485\n",
       "std        10.170579\n",
       "min         0.571429\n",
       "25%         8.375000\n",
       "50%        13.000000\n",
       "75%        19.000000\n",
       "max        80.000000\n",
       "Name: mean_expectation, dtype: float64"
      ]
     },
     "execution_count": 71,
     "metadata": {},
     "output_type": "execute_result"
    }
   ],
   "source": [
    "operators_in_df.query('is_missed_call == False')['mean_expectation'].describe()"
   ]
  },
  {
   "cell_type": "code",
   "execution_count": 72,
   "metadata": {},
   "outputs": [
    {
     "data": {
      "text/plain": [
       "count    32.000000\n",
       "mean      1.875000\n",
       "std       1.338029\n",
       "min       1.000000\n",
       "25%       1.000000\n",
       "50%       1.000000\n",
       "75%       2.000000\n",
       "max       6.000000\n",
       "Name: calls_count, dtype: float64"
      ]
     },
     "execution_count": 72,
     "metadata": {},
     "output_type": "execute_result"
    }
   ],
   "source": [
    "operators_in_df.query('is_missed_call == True').groupby(['operator_id','week_num'])['calls_count'].sum().describe()"
   ]
  },
  {
   "cell_type": "markdown",
   "metadata": {},
   "source": [
    "Для операторов, работающих в колл-центрах поддержки, важно количество пропущенных звонков и длительность ожидания ответа - насколько они быстро смогли ответить абоненту.\n",
    "\n",
    "У половины операторов получается пропускать всего один звонок в день. Будем считать, что плохой оператор пропускает больше 1 звонка в неделю (1 квартиль). Для качественной работы оператора время ожидания должно быть как можно меньше, меньше 8 секунд(1 квартиль)."
   ]
  },
  {
   "cell_type": "code",
   "execution_count": 73,
   "metadata": {},
   "outputs": [],
   "source": [
    "# критерии плохого оператора на входящие вызовы, выбрана медиана, можно выбрать из функции describe любую другую квантиль\n",
    "calls_expectation_median_in = operators_in_df.query('is_missed_call == False')['mean_expectation'].describe()[3]\n",
    "calls_missed_median_in = operators_in_df.query('is_missed_call == True').groupby(['operator_id','week_num'])['calls_count'].sum().describe()[3]"
   ]
  },
  {
   "cell_type": "code",
   "execution_count": 74,
   "metadata": {},
   "outputs": [],
   "source": [
    "# таблица соотвествия оператора клиенту\n",
    "data_calls_in_user_oper = data_calls_in.groupby('operator_id',as_index=False).agg({'user_id': pd.Series.unique})"
   ]
  },
  {
   "cell_type": "code",
   "execution_count": 75,
   "metadata": {},
   "outputs": [],
   "source": [
    "\n",
    "def bad_operator_input(df):\n",
    "    '''функция определения плохих операторов для входящих звонков'''\n",
    "    bad_operator_list = []\n",
    "    count_cut = df.query(' (is_missed_call == True)').groupby(['operator_id','week_num'])['calls_count'].sum().reset_index()\n",
    "    count_cut = count_cut.query('calls_count > @calls_missed_median_in')\n",
    "    count_cut_merged = count_cut.merge(df.query('is_missed_call == False')\\\n",
    "                                       [['operator_id','week_num','mean_expectation']], left_on=['operator_id','week_num'], right_on=['operator_id','week_num'],how='left')\n",
    "    for oper in count_cut['operator_id'].unique():\n",
    "        if count_cut_merged.loc[((count_cut_merged['operator_id'] == oper)),\\\n",
    "                                'mean_expectation'].max() > calls_expectation_median_in:\n",
    "            bad_operator_list.append(oper)\n",
    "    bad_operators_in_df = pd.DataFrame({'operator_id':bad_operator_list})         \n",
    "    bad_operators_in_df = bad_operators_in_df.merge(data_calls_in_user_oper, on = 'operator_id', how = 'left')  \n",
    "    return bad_operators_in_df"
   ]
  },
  {
   "cell_type": "code",
   "execution_count": 76,
   "metadata": {},
   "outputs": [
    {
     "name": "stdout",
     "output_type": "stream",
     "text": [
      "Список операторов, не проходящих требования по количеству пропущенных звонков и их среднего ожидания ответа\n"
     ]
    },
    {
     "data": {
      "text/html": [
       "<div>\n",
       "<style scoped>\n",
       "    .dataframe tbody tr th:only-of-type {\n",
       "        vertical-align: middle;\n",
       "    }\n",
       "\n",
       "    .dataframe tbody tr th {\n",
       "        vertical-align: top;\n",
       "    }\n",
       "\n",
       "    .dataframe thead th {\n",
       "        text-align: right;\n",
       "    }\n",
       "</style>\n",
       "<table border=\"1\" class=\"dataframe\">\n",
       "  <thead>\n",
       "    <tr style=\"text-align: right;\">\n",
       "      <th></th>\n",
       "      <th>operator_id</th>\n",
       "      <th>user_id</th>\n",
       "    </tr>\n",
       "  </thead>\n",
       "  <tbody>\n",
       "    <tr>\n",
       "      <td>0</td>\n",
       "      <td>908960.0</td>\n",
       "      <td>166541</td>\n",
       "    </tr>\n",
       "    <tr>\n",
       "      <td>1</td>\n",
       "      <td>920706.0</td>\n",
       "      <td>167445</td>\n",
       "    </tr>\n",
       "    <tr>\n",
       "      <td>2</td>\n",
       "      <td>940588.0</td>\n",
       "      <td>168252</td>\n",
       "    </tr>\n",
       "    <tr>\n",
       "      <td>3</td>\n",
       "      <td>940614.0</td>\n",
       "      <td>168252</td>\n",
       "    </tr>\n",
       "    <tr>\n",
       "      <td>4</td>\n",
       "      <td>940622.0</td>\n",
       "      <td>168252</td>\n",
       "    </tr>\n",
       "    <tr>\n",
       "      <td>5</td>\n",
       "      <td>940624.0</td>\n",
       "      <td>168252</td>\n",
       "    </tr>\n",
       "    <tr>\n",
       "      <td>6</td>\n",
       "      <td>940630.0</td>\n",
       "      <td>168252</td>\n",
       "    </tr>\n",
       "    <tr>\n",
       "      <td>7</td>\n",
       "      <td>940652.0</td>\n",
       "      <td>168252</td>\n",
       "    </tr>\n",
       "    <tr>\n",
       "      <td>8</td>\n",
       "      <td>964666.0</td>\n",
       "      <td>168252</td>\n",
       "    </tr>\n",
       "  </tbody>\n",
       "</table>\n",
       "</div>"
      ],
      "text/plain": [
       "   operator_id  user_id\n",
       "0     908960.0   166541\n",
       "1     920706.0   167445\n",
       "2     940588.0   168252\n",
       "3     940614.0   168252\n",
       "4     940622.0   168252\n",
       "5     940624.0   168252\n",
       "6     940630.0   168252\n",
       "7     940652.0   168252\n",
       "8     964666.0   168252"
      ]
     },
     "execution_count": 76,
     "metadata": {},
     "output_type": "execute_result"
    }
   ],
   "source": [
    " print('Список операторов, не проходящих требования по количеству пропущенных звонков и их среднего ожидания ответа')      \n",
    "bad_operator_input(operators_in_df)\n"
   ]
  },
  {
   "cell_type": "code",
   "execution_count": 77,
   "metadata": {},
   "outputs": [
    {
     "data": {
      "image/png": "[encoded data removed]",
      "text/plain": [
       "<Figure size 432x288 with 1 Axes>"
      ]
     },
     "metadata": {
      "needs_background": "light"
     },
     "output_type": "display_data"
    }
   ],
   "source": [
    "labels = bad_operator_input(operators_in_df)['user_id'].value_counts().to_frame().index.to_list()\n",
    "fig = bad_operator_input(operators_in_df)['user_id'].value_counts().plot(kind = 'bar',grid = True)\n",
    "plt.title('Клиенты с неэффективными операторами')\n",
    "plt.ylabel('Количество неэффективных операторов')\n",
    "plt.show()"
   ]
  },
  {
   "cell_type": "code",
   "execution_count": 78,
   "metadata": {},
   "outputs": [],
   "source": [
    "users_with_bad_operators_in = bad_operator_input(operators_in_df)['user_id'].unique()\n",
    "bad_operators_in = bad_operator_input(operators_in_df)['operator_id'].unique()"
   ]
  },
  {
   "cell_type": "code",
   "execution_count": 79,
   "metadata": {},
   "outputs": [
    {
     "data": {
      "image/png": "[encoded data removed]",
      "text/plain": [
       "<Figure size 432x288 with 1 Axes>"
      ]
     },
     "metadata": {
      "needs_background": "light"
     },
     "output_type": "display_data"
    }
   ],
   "source": [
    "count_bad_operators = 0\n",
    "count_good_operators = 0\n",
    "bad_list = []\n",
    "good_list = []\n",
    "for user in users_with_bad_operators_in:\n",
    "    all_opers = len(data_calls_in_user_oper.query('(user_id == @user)')['operator_id'].tolist())\n",
    "    bad_list.append(len(data_calls_in_user_oper.query('(user_id == @user) & (operator_id in @bad_operators_in)')['operator_id'].tolist()))\n",
    "    good_list.append(len(data_calls_in_user_oper.query('(user_id == @user) & (operator_id not in @bad_operators_in)')['operator_id'].tolist()))\n",
    "df_bad_in = pd.DataFrame({'user_id':users_with_bad_operators_in, 'bad':bad_list, 'good':good_list})\n",
    "df_bad_in['good_to_bad']= df_bad['good']/df_bad['bad']\n",
    "\n",
    "df_bad_in['good_to_bad'].hist(bins = 50)\n",
    "plt.title('Гистрограмма распределения отношения хороших операторов к плохим')\n",
    "plt.show()"
   ]
  },
  {
   "cell_type": "markdown",
   "metadata": {},
   "source": [
    "В колл-центрах поддержки соотношение \"плохих\" и \"хороших\" операторов не очень хорошее. Неэффективных операторов больше. "
   ]
  },
  {
   "cell_type": "markdown",
   "metadata": {},
   "source": [
    "**Клиенты с пропущенными вызовами**<a id='step_16'></a>"
   ]
  },
  {
   "cell_type": "code",
   "execution_count": 80,
   "metadata": {},
   "outputs": [
    {
     "data": {
      "image/png": "[encoded data removed]",
      "text/plain": [
       "<Figure size 432x288 with 1 Axes>"
      ]
     },
     "metadata": {
      "needs_background": "light"
     },
     "output_type": "display_data"
    }
   ],
   "source": [
    "labels = data_calls_without_op_id.groupby('user_id')['calls_count'].sum().reset_index().sort_values(by = 'calls_count', ascending=False).head(15)['user_id'].to_list()\n",
    "data_calls_without_op_id.groupby('user_id')['calls_count'].sum().reset_index().sort_values(by = 'calls_count', ascending=False).head(15).plot(kind='bar',x = 'user_id', y = 'calls_count',legend=True, grid = True)\n",
    "plt.title('Клиенты с наибольших количеством пропущенных вызовов')\n",
    "plt.show()"
   ]
  },
  {
   "cell_type": "code",
   "execution_count": 81,
   "metadata": {},
   "outputs": [
    {
     "name": "stdout",
     "output_type": "stream",
     "text": [
      "Процент колл-центров с неэффективными операторами =  31.716417910447763\n"
     ]
    }
   ],
   "source": [
    "print('Процент колл-центров с неэффективными операторами = ', ((len(users_with_bad_operators_in) + len(users_with_bad_operators))/ data['user_id'].unique().shape[0])* 100)"
   ]
  },
  {
   "cell_type": "code",
   "execution_count": 82,
   "metadata": {
    "scrolled": false
   },
   "outputs": [
    {
     "name": "stdout",
     "output_type": "stream",
     "text": [
      "Топ-15 колл-центров с пропущенными вызовами\n"
     ]
    },
    {
     "data": {
      "text/html": [
       "<div>\n",
       "<style scoped>\n",
       "    .dataframe tbody tr th:only-of-type {\n",
       "        vertical-align: middle;\n",
       "    }\n",
       "\n",
       "    .dataframe tbody tr th {\n",
       "        vertical-align: top;\n",
       "    }\n",
       "\n",
       "    .dataframe thead th {\n",
       "        text-align: right;\n",
       "    }\n",
       "</style>\n",
       "<table border=\"1\" class=\"dataframe\">\n",
       "  <thead>\n",
       "    <tr style=\"text-align: right;\">\n",
       "      <th></th>\n",
       "      <th>user_id</th>\n",
       "      <th>calls_count</th>\n",
       "    </tr>\n",
       "  </thead>\n",
       "  <tbody>\n",
       "    <tr>\n",
       "      <td>175</td>\n",
       "      <td>167626</td>\n",
       "      <td>23382</td>\n",
       "    </tr>\n",
       "    <tr>\n",
       "      <td>283</td>\n",
       "      <td>168361</td>\n",
       "      <td>17997</td>\n",
       "    </tr>\n",
       "    <tr>\n",
       "      <td>270</td>\n",
       "      <td>168252</td>\n",
       "      <td>6498</td>\n",
       "    </tr>\n",
       "    <tr>\n",
       "      <td>4</td>\n",
       "      <td>166405</td>\n",
       "      <td>5520</td>\n",
       "    </tr>\n",
       "    <tr>\n",
       "      <td>22</td>\n",
       "      <td>166582</td>\n",
       "      <td>4829</td>\n",
       "    </tr>\n",
       "    <tr>\n",
       "      <td>263</td>\n",
       "      <td>168187</td>\n",
       "      <td>2407</td>\n",
       "    </tr>\n",
       "    <tr>\n",
       "      <td>98</td>\n",
       "      <td>167071</td>\n",
       "      <td>2256</td>\n",
       "    </tr>\n",
       "    <tr>\n",
       "      <td>182</td>\n",
       "      <td>167650</td>\n",
       "      <td>2033</td>\n",
       "    </tr>\n",
       "    <tr>\n",
       "      <td>163</td>\n",
       "      <td>167521</td>\n",
       "      <td>1863</td>\n",
       "    </tr>\n",
       "    <tr>\n",
       "      <td>126</td>\n",
       "      <td>167189</td>\n",
       "      <td>1549</td>\n",
       "    </tr>\n",
       "    <tr>\n",
       "      <td>184</td>\n",
       "      <td>167654</td>\n",
       "      <td>1508</td>\n",
       "    </tr>\n",
       "    <tr>\n",
       "      <td>259</td>\n",
       "      <td>168154</td>\n",
       "      <td>1287</td>\n",
       "    </tr>\n",
       "    <tr>\n",
       "      <td>151</td>\n",
       "      <td>167445</td>\n",
       "      <td>1065</td>\n",
       "    </tr>\n",
       "    <tr>\n",
       "      <td>183</td>\n",
       "      <td>167653</td>\n",
       "      <td>1055</td>\n",
       "    </tr>\n",
       "    <tr>\n",
       "      <td>209</td>\n",
       "      <td>167888</td>\n",
       "      <td>963</td>\n",
       "    </tr>\n",
       "  </tbody>\n",
       "</table>\n",
       "</div>"
      ],
      "text/plain": [
       "     user_id  calls_count\n",
       "175   167626        23382\n",
       "283   168361        17997\n",
       "270   168252         6498\n",
       "4     166405         5520\n",
       "22    166582         4829\n",
       "263   168187         2407\n",
       "98    167071         2256\n",
       "182   167650         2033\n",
       "163   167521         1863\n",
       "126   167189         1549\n",
       "184   167654         1508\n",
       "259   168154         1287\n",
       "151   167445         1065\n",
       "183   167653         1055\n",
       "209   167888          963"
      ]
     },
     "metadata": {},
     "output_type": "display_data"
    }
   ],
   "source": [
    "print('Топ-15 колл-центров с пропущенными вызовами')\n",
    "display(data_calls_without_op_id.groupby('user_id')['calls_count'].\\\n",
    "        sum().reset_index().sort_values(by = 'calls_count', ascending=False).head(15))"
   ]
  },
  {
   "cell_type": "markdown",
   "metadata": {},
   "source": [
    "### Проверка гипотез"
   ]
  },
  {
   "cell_type": "markdown",
   "metadata": {},
   "source": [
    "**Нулевая гипотеза: статистически значимых отличий в ожидании ответа на различных тарифах нет**<a id='step_17'></a>"
   ]
  },
  {
   "cell_type": "code",
   "execution_count": 83,
   "metadata": {},
   "outputs": [
    {
     "data": {
      "text/html": [
       "<div>\n",
       "<style scoped>\n",
       "    .dataframe tbody tr th:only-of-type {\n",
       "        vertical-align: middle;\n",
       "    }\n",
       "\n",
       "    .dataframe tbody tr th {\n",
       "        vertical-align: top;\n",
       "    }\n",
       "\n",
       "    .dataframe thead th {\n",
       "        text-align: right;\n",
       "    }\n",
       "</style>\n",
       "<table border=\"1\" class=\"dataframe\">\n",
       "  <thead>\n",
       "    <tr style=\"text-align: right;\">\n",
       "      <th></th>\n",
       "      <th>user_id</th>\n",
       "      <th>date</th>\n",
       "      <th>direction</th>\n",
       "      <th>internal</th>\n",
       "      <th>operator_id</th>\n",
       "      <th>is_missed_call</th>\n",
       "      <th>calls_count</th>\n",
       "      <th>call_duration</th>\n",
       "      <th>total_call_duration</th>\n",
       "      <th>weekday</th>\n",
       "      <th>month</th>\n",
       "      <th>week_num</th>\n",
       "      <th>expectation</th>\n",
       "      <th>tariff_plan</th>\n",
       "      <th>date_start</th>\n",
       "      <th>mean_expectation</th>\n",
       "    </tr>\n",
       "  </thead>\n",
       "  <tbody>\n",
       "    <tr>\n",
       "      <td>63</td>\n",
       "      <td>166377</td>\n",
       "      <td>2019-08-21</td>\n",
       "      <td>in</td>\n",
       "      <td>False</td>\n",
       "      <td>880020.0</td>\n",
       "      <td>False</td>\n",
       "      <td>1</td>\n",
       "      <td>33</td>\n",
       "      <td>49</td>\n",
       "      <td>2</td>\n",
       "      <td>8</td>\n",
       "      <td>34</td>\n",
       "      <td>16</td>\n",
       "      <td>B</td>\n",
       "      <td>2019-08-01</td>\n",
       "      <td>16.0</td>\n",
       "    </tr>\n",
       "    <tr>\n",
       "      <td>64</td>\n",
       "      <td>166377</td>\n",
       "      <td>2019-08-22</td>\n",
       "      <td>in</td>\n",
       "      <td>False</td>\n",
       "      <td>880026.0</td>\n",
       "      <td>False</td>\n",
       "      <td>1</td>\n",
       "      <td>45</td>\n",
       "      <td>52</td>\n",
       "      <td>3</td>\n",
       "      <td>8</td>\n",
       "      <td>34</td>\n",
       "      <td>7</td>\n",
       "      <td>B</td>\n",
       "      <td>2019-08-01</td>\n",
       "      <td>7.0</td>\n",
       "    </tr>\n",
       "    <tr>\n",
       "      <td>66</td>\n",
       "      <td>166377</td>\n",
       "      <td>2019-08-22</td>\n",
       "      <td>in</td>\n",
       "      <td>False</td>\n",
       "      <td>880028.0</td>\n",
       "      <td>False</td>\n",
       "      <td>1</td>\n",
       "      <td>41</td>\n",
       "      <td>54</td>\n",
       "      <td>3</td>\n",
       "      <td>8</td>\n",
       "      <td>34</td>\n",
       "      <td>13</td>\n",
       "      <td>B</td>\n",
       "      <td>2019-08-01</td>\n",
       "      <td>13.0</td>\n",
       "    </tr>\n",
       "    <tr>\n",
       "      <td>71</td>\n",
       "      <td>166377</td>\n",
       "      <td>2019-08-25</td>\n",
       "      <td>in</td>\n",
       "      <td>False</td>\n",
       "      <td>880028.0</td>\n",
       "      <td>False</td>\n",
       "      <td>2</td>\n",
       "      <td>285</td>\n",
       "      <td>302</td>\n",
       "      <td>6</td>\n",
       "      <td>8</td>\n",
       "      <td>34</td>\n",
       "      <td>17</td>\n",
       "      <td>B</td>\n",
       "      <td>2019-08-01</td>\n",
       "      <td>8.5</td>\n",
       "    </tr>\n",
       "    <tr>\n",
       "      <td>86</td>\n",
       "      <td>166377</td>\n",
       "      <td>2019-08-28</td>\n",
       "      <td>in</td>\n",
       "      <td>False</td>\n",
       "      <td>880026.0</td>\n",
       "      <td>False</td>\n",
       "      <td>1</td>\n",
       "      <td>48</td>\n",
       "      <td>52</td>\n",
       "      <td>2</td>\n",
       "      <td>8</td>\n",
       "      <td>35</td>\n",
       "      <td>4</td>\n",
       "      <td>B</td>\n",
       "      <td>2019-08-01</td>\n",
       "      <td>4.0</td>\n",
       "    </tr>\n",
       "  </tbody>\n",
       "</table>\n",
       "</div>"
      ],
      "text/plain": [
       "    user_id       date direction  internal  operator_id  is_missed_call  \\\n",
       "63   166377 2019-08-21        in     False     880020.0           False   \n",
       "64   166377 2019-08-22        in     False     880026.0           False   \n",
       "66   166377 2019-08-22        in     False     880028.0           False   \n",
       "71   166377 2019-08-25        in     False     880028.0           False   \n",
       "86   166377 2019-08-28        in     False     880026.0           False   \n",
       "\n",
       "    calls_count  call_duration  total_call_duration  weekday  month  week_num  \\\n",
       "63            1             33                   49        2      8        34   \n",
       "64            1             45                   52        3      8        34   \n",
       "66            1             41                   54        3      8        34   \n",
       "71            2            285                  302        6      8        34   \n",
       "86            1             48                   52        2      8        35   \n",
       "\n",
       "    expectation tariff_plan date_start  mean_expectation  \n",
       "63           16           B 2019-08-01              16.0  \n",
       "64            7           B 2019-08-01               7.0  \n",
       "66           13           B 2019-08-01              13.0  \n",
       "71           17           B 2019-08-01               8.5  \n",
       "86            4           B 2019-08-01               4.0  "
      ]
     },
     "execution_count": 83,
     "metadata": {},
     "output_type": "execute_result"
    }
   ],
   "source": [
    "# подготовка данных к проверке гипотез\n",
    "data['mean_expectation'] = data['expectation'] / data['calls_count']\n",
    "data_hipot = data.query('direction == \"in\"')\n",
    "data_hipot.head()"
   ]
  },
  {
   "cell_type": "code",
   "execution_count": 84,
   "metadata": {},
   "outputs": [],
   "source": [
    "# разбиение по тарифам\n",
    "calls_A = data_hipot[data_hipot['tariff_plan'] == 'A']['mean_expectation']\n",
    "calls_B = data_hipot[data_hipot['tariff_plan'] == 'B']['mean_expectation']\n",
    "calls_C = data_hipot[data_hipot['tariff_plan'] == 'C']['mean_expectation']"
   ]
  },
  {
   "cell_type": "markdown",
   "metadata": {},
   "source": [
    "Примененим Дисперсионный анализ (ANOVA), так как у нас три независимых образца. "
   ]
  },
  {
   "cell_type": "code",
   "execution_count": 85,
   "metadata": {},
   "outputs": [
    {
     "name": "stdout",
     "output_type": "stream",
     "text": [
      "0.010034676414012858\n",
      "Отвергаем нулевую гипотезу, статистически значимые различия между ожиданием на различных тарифах есть\n",
      "Средние значения: \n",
      " A - 14.920091645473615 \n",
      " B - 15.923138478973232 \n",
      " C - 15.988900409714256\n"
     ]
    }
   ],
   "source": [
    "p_value = stats.f_oneway(calls_A, calls_B, calls_C)[1]\n",
    "print(p_value)\n",
    "if p_value < 0.05:\n",
    "    print('Отвергаем нулевую гипотезу, статистически значимые различия между ожиданием на различных тарифах есть')\n",
    "else:\n",
    "    print('Не отвергаем нулевую гипотезу о том, что статистически значимых различий в ожидании на различных тарифах нет')\n",
    "print('Средние значения:','\\n',\"A -\", calls_A.mean(),'\\n',\"B -\", calls_B.mean(),'\\n',\"C -\", calls_C.mean())          \n"
   ]
  },
  {
   "cell_type": "markdown",
   "metadata": {},
   "source": [
    "**Нулевая гипотеза: статистически значимых отличий в длительности звонков внутренних и внешних нет**<a id='step_18'></a>"
   ]
  },
  {
   "cell_type": "code",
   "execution_count": 86,
   "metadata": {},
   "outputs": [],
   "source": [
    "# подготовка дщанных к проверке гипотез\n",
    "data['mean_duration'] = data['call_duration'] / data['calls_count']"
   ]
  },
  {
   "cell_type": "code",
   "execution_count": 87,
   "metadata": {},
   "outputs": [],
   "source": [
    "calls_in = data[data['internal'] == True]['mean_duration']\n",
    "calls_out = data[data['internal'] == False]['mean_duration']\n"
   ]
  },
  {
   "cell_type": "markdown",
   "metadata": {},
   "source": [
    "Воспользуемся непараметрической статистической проверкой гипотез Манна-Уитни. Проверим, равны ли распределения двух независимых выборок или нет."
   ]
  },
  {
   "cell_type": "code",
   "execution_count": 88,
   "metadata": {},
   "outputs": [
    {
     "name": "stdout",
     "output_type": "stream",
     "text": [
      "1.6984149507050672e-88\n",
      "Отвергаем нулевую гипотезу, статистически значимые различия между длительностями внутренних и внешних звонков есть\n",
      "Средние значения: \n",
      " Внутренние - 61.14151498746446 \n",
      " Внешние - 91.9377357626941\n"
     ]
    }
   ],
   "source": [
    "p_value_2 = stats.mannwhitneyu(calls_in, calls_out)[1]\n",
    "print(p_value_2)\n",
    "if p_value_2 < 0.05:\n",
    "    print('Отвергаем нулевую гипотезу, статистически значимые различия между длительностями внутренних и внешних звонков есть')\n",
    "else:\n",
    "    print('Не отвергаем нулевую гипотезу о том, что статистически значимых различий между длительностями внутренних и внешних звонков нет')\n",
    "          \n",
    "print('Средние значения:','\\n',\"Внутренние -\", calls_in.mean(),'\\n',\"Внешние -\", calls_out.mean())   "
   ]
  },
  {
   "cell_type": "markdown",
   "metadata": {},
   "source": [
    "### Выводы и рекомендации"
   ]
  },
  {
   "cell_type": "markdown",
   "metadata": {},
   "source": [
    "**В ходе работы были проделаны следующие этапы:**<a id='step_19'></a>\n",
    "\n",
    "    - проанализировали данные;\n",
    "    - подготовили их к дальнейшим исследованиям, а именно: удалили дубликаты, преобразовали к нужным типам, обработали пропуски, провели дополнительные расчёты;\n",
    "    - почистили данные от выбросов;\n",
    "    - определили колл-центры, работающие на обзвонить клиентов и на входящие звонки;\n",
    "    - исследовали среднее количество входящих и исходящих звонков для различного типа колл-центров;\n",
    "    - проанализировали длительности звонков  и ожидания по типам;\n",
    "    - определили среднее количество пропущенных оператором вызовов;\n",
    "    - проанализировали количество звонков по дням недели;\n",
    "    - написали функцию для определения неэффективных операторов для различных колл-центров;\n",
    "    - проверили зависит ли ожидание ответа оператора от тарифа;\n",
    "    - проверили зависит ли длительность звонков от того внутренние они или внешние."
   ]
  },
  {
   "cell_type": "markdown",
   "metadata": {},
   "source": [
    "**Рекомендации:**\n",
    "\n",
    "    - сообщить колл-центрам с большим количеством пропущенных вызовов об этом, возможно есть какая-то ошибка при передаче данных;\n",
    "    - сообщить о дубликатах в данных;\n",
    "    - в колл-центрах поддержки больше внутренних звонков, возможно, можно сменить тарифы в соответствии с этим;\n",
    "    - колл-центрам с большим количеством неэффективных сотрудников предложить обучение операторов;\n",
    "    - организовывать для клиентов вебинары, на которых рассказывать как улучшить эффективность и предлагать продукты и тарифы, которые этому способствуют;\n",
    "    - проанализировать количество операторов клиентов и нагрузку по дням недели;\n",
    "    - предложить услугу \"Тайный звонящий\";\n",
    "    Для клиентов:\n",
    "        - для обзванивающих колл-центров предложить регламентировать время ожидания ответа абонентом;\n",
    "        - на основании анализа данных определить KPI для операторов;\n",
    "        - создание системы обратной связи от абонента;\n",
    "        - определить постоянных клиентов и направвлять их на более опытных операторов.\n",
    "    "
   ]
  },
  {
   "cell_type": "code",
   "execution_count": 89,
   "metadata": {},
   "outputs": [],
   "source": [
    "#data.to_csv('data_dash.csv', index=False)"
   ]
  },
  {
   "cell_type": "code",
   "execution_count": 90,
   "metadata": {},
   "outputs": [],
   "source": [
    "#data_calls_without_op_id.to_csv('data_missed.csv', index=False)"
   ]
  },
  {
   "cell_type": "code",
   "execution_count": null,
   "metadata": {},
   "outputs": [],
   "source": []
  },
  {
   "cell_type": "code",
   "execution_count": null,
   "metadata": {},
   "outputs": [],
   "source": []
  }
 ],
 "metadata": {
  "ExecuteTimeLog": [
   {
    "duration": 753,
    "start_time": "2021-06-29T09:25:32.453Z"
   },
   {
    "duration": 1929,
    "start_time": "2021-06-29T09:25:34.886Z"
   },
   {
    "duration": 1847,
    "start_time": "2021-06-29T09:26:45.632Z"
   },
   {
    "duration": 1794,
    "start_time": "2021-06-29T09:28:46.918Z"
   },
   {
    "duration": 1839,
    "start_time": "2021-06-29T09:57:44.085Z"
   },
   {
    "duration": 336,
    "start_time": "2021-06-29T09:57:51.485Z"
   },
   {
    "duration": 325,
    "start_time": "2021-06-29T09:58:04.208Z"
   },
   {
    "duration": 241,
    "start_time": "2021-06-29T09:58:18.991Z"
   },
   {
    "duration": 18,
    "start_time": "2021-06-29T09:58:29.427Z"
   },
   {
    "duration": 21,
    "start_time": "2021-06-29T09:59:43.069Z"
   },
   {
    "duration": 8,
    "start_time": "2021-06-29T10:00:02.804Z"
   },
   {
    "duration": 14,
    "start_time": "2021-06-29T10:00:11.273Z"
   },
   {
    "duration": 4,
    "start_time": "2021-06-29T10:21:49.119Z"
   },
   {
    "duration": 32,
    "start_time": "2021-06-29T10:24:32.060Z"
   },
   {
    "duration": 27,
    "start_time": "2021-06-29T10:24:38.422Z"
   },
   {
    "duration": 11,
    "start_time": "2021-06-29T10:31:24.042Z"
   },
   {
    "duration": 18,
    "start_time": "2021-06-29T10:31:33.149Z"
   },
   {
    "duration": 8,
    "start_time": "2021-06-29T10:31:43.651Z"
   },
   {
    "duration": 6,
    "start_time": "2021-06-29T10:37:43.789Z"
   },
   {
    "duration": 14,
    "start_time": "2021-06-29T10:38:04.239Z"
   },
   {
    "duration": 4,
    "start_time": "2021-06-29T10:40:09.313Z"
   },
   {
    "duration": 12,
    "start_time": "2021-06-29T10:40:12.791Z"
   },
   {
    "duration": 341,
    "start_time": "2021-06-29T10:40:57.332Z"
   },
   {
    "duration": 244,
    "start_time": "2021-06-29T10:41:29.049Z"
   },
   {
    "duration": 5,
    "start_time": "2021-06-29T10:41:44.650Z"
   },
   {
    "duration": 13,
    "start_time": "2021-06-29T10:41:47.983Z"
   },
   {
    "duration": 9,
    "start_time": "2021-06-29T10:42:20.618Z"
   },
   {
    "duration": 23,
    "start_time": "2021-06-29T11:55:24.591Z"
   },
   {
    "duration": 240,
    "start_time": "2021-06-29T11:56:57.535Z"
   },
   {
    "duration": 21,
    "start_time": "2021-06-29T11:58:19.601Z"
   },
   {
    "duration": 23,
    "start_time": "2021-06-29T11:58:28.937Z"
   },
   {
    "duration": 37,
    "start_time": "2021-06-29T11:58:59.772Z"
   },
   {
    "duration": 25,
    "start_time": "2021-06-29T11:59:26.066Z"
   },
   {
    "duration": 752,
    "start_time": "2021-06-29T12:02:26.524Z"
   },
   {
    "duration": 301,
    "start_time": "2021-06-29T12:03:12.766Z"
   },
   {
    "duration": 297,
    "start_time": "2021-06-29T12:03:40.172Z"
   },
   {
    "duration": 343,
    "start_time": "2021-06-29T12:03:50.535Z"
   },
   {
    "duration": 264,
    "start_time": "2021-06-29T12:04:24.613Z"
   },
   {
    "duration": 281,
    "start_time": "2021-06-29T12:04:48.654Z"
   },
   {
    "duration": 29,
    "start_time": "2021-06-29T12:05:55.099Z"
   },
   {
    "duration": 30,
    "start_time": "2021-06-29T12:06:24.724Z"
   },
   {
    "duration": 49,
    "start_time": "2021-06-29T12:06:32.701Z"
   },
   {
    "duration": 27,
    "start_time": "2021-06-29T12:07:45.664Z"
   },
   {
    "duration": 31,
    "start_time": "2021-06-29T12:07:50.185Z"
   },
   {
    "duration": 30,
    "start_time": "2021-06-29T12:08:36.586Z"
   },
   {
    "duration": 32,
    "start_time": "2021-06-29T12:08:48.076Z"
   },
   {
    "duration": 33,
    "start_time": "2021-06-29T12:09:00.983Z"
   },
   {
    "duration": 20,
    "start_time": "2021-06-29T12:11:55.509Z"
   },
   {
    "duration": 18,
    "start_time": "2021-06-29T12:12:06.969Z"
   },
   {
    "duration": 5,
    "start_time": "2021-06-29T12:12:20.097Z"
   },
   {
    "duration": 20,
    "start_time": "2021-06-29T12:13:17.548Z"
   },
   {
    "duration": 26,
    "start_time": "2021-06-29T12:19:18.253Z"
   },
   {
    "duration": 19,
    "start_time": "2021-06-29T12:19:31.200Z"
   },
   {
    "duration": 10,
    "start_time": "2021-06-29T12:24:06.628Z"
   },
   {
    "duration": 3,
    "start_time": "2021-06-29T12:26:07.204Z"
   },
   {
    "duration": 425,
    "start_time": "2021-06-29T12:26:07.209Z"
   },
   {
    "duration": 17,
    "start_time": "2021-06-29T12:26:07.637Z"
   },
   {
    "duration": 15,
    "start_time": "2021-06-29T12:26:13.749Z"
   },
   {
    "duration": 243,
    "start_time": "2021-06-29T12:27:22.825Z"
   },
   {
    "duration": 25,
    "start_time": "2021-06-29T12:30:11.665Z"
   },
   {
    "duration": 737,
    "start_time": "2021-06-29T13:04:16.962Z"
   },
   {
    "duration": 433,
    "start_time": "2021-06-29T13:04:17.703Z"
   },
   {
    "duration": 19,
    "start_time": "2021-06-29T13:04:18.140Z"
   },
   {
    "duration": 24,
    "start_time": "2021-06-29T13:04:18.162Z"
   },
   {
    "duration": 24,
    "start_time": "2021-06-29T13:04:18.189Z"
   },
   {
    "duration": 43,
    "start_time": "2021-06-29T13:04:18.215Z"
   },
   {
    "duration": 17,
    "start_time": "2021-06-29T13:04:18.260Z"
   },
   {
    "duration": 4,
    "start_time": "2021-06-29T13:04:18.282Z"
   },
   {
    "duration": 27,
    "start_time": "2021-06-29T13:04:18.289Z"
   },
   {
    "duration": 37,
    "start_time": "2021-06-29T13:04:18.319Z"
   },
   {
    "duration": 16,
    "start_time": "2021-06-29T13:04:18.359Z"
   },
   {
    "duration": 7,
    "start_time": "2021-06-29T13:04:18.378Z"
   },
   {
    "duration": 25,
    "start_time": "2021-06-29T13:04:18.388Z"
   },
   {
    "duration": 53,
    "start_time": "2021-06-29T13:04:18.416Z"
   },
   {
    "duration": 38,
    "start_time": "2021-06-29T13:04:18.471Z"
   },
   {
    "duration": 50,
    "start_time": "2021-06-29T13:04:18.512Z"
   },
   {
    "duration": 20,
    "start_time": "2021-06-29T13:04:18.565Z"
   },
   {
    "duration": 13,
    "start_time": "2021-06-29T13:04:18.588Z"
   },
   {
    "duration": 337,
    "start_time": "2021-06-29T13:04:18.604Z"
   },
   {
    "duration": 38,
    "start_time": "2021-06-29T13:10:13.791Z"
   },
   {
    "duration": 250,
    "start_time": "2021-06-29T13:10:54.224Z"
   },
   {
    "duration": 23,
    "start_time": "2021-06-29T13:11:12.381Z"
   },
   {
    "duration": 12,
    "start_time": "2021-06-29T13:12:03.832Z"
   },
   {
    "duration": 23,
    "start_time": "2021-06-29T13:12:45.636Z"
   },
   {
    "duration": 22,
    "start_time": "2021-06-29T13:13:27.932Z"
   },
   {
    "duration": 83,
    "start_time": "2021-06-29T13:15:13.993Z"
   },
   {
    "duration": 90,
    "start_time": "2021-06-29T13:15:22.695Z"
   },
   {
    "duration": 82,
    "start_time": "2021-06-29T13:15:28.601Z"
   },
   {
    "duration": 21,
    "start_time": "2021-06-29T13:15:33.939Z"
   },
   {
    "duration": 22,
    "start_time": "2021-06-29T13:15:48.553Z"
   },
   {
    "duration": 139,
    "start_time": "2021-06-29T13:17:15.813Z"
   },
   {
    "duration": 23,
    "start_time": "2021-06-29T13:17:22.256Z"
   },
   {
    "duration": 19,
    "start_time": "2021-06-29T13:18:01.035Z"
   },
   {
    "duration": 23,
    "start_time": "2021-06-29T13:18:04.126Z"
   },
   {
    "duration": 22,
    "start_time": "2021-06-29T13:18:08.383Z"
   },
   {
    "duration": 12,
    "start_time": "2021-06-29T13:23:48.702Z"
   },
   {
    "duration": 77,
    "start_time": "2021-06-29T13:27:38.717Z"
   },
   {
    "duration": 6,
    "start_time": "2021-06-29T13:29:31.245Z"
   },
   {
    "duration": 276,
    "start_time": "2021-06-29T13:36:11.458Z"
   },
   {
    "duration": 15,
    "start_time": "2021-06-29T13:36:25.635Z"
   },
   {
    "duration": 19,
    "start_time": "2021-06-29T13:36:51.241Z"
   },
   {
    "duration": 26,
    "start_time": "2021-06-29T13:38:18.655Z"
   },
   {
    "duration": 13,
    "start_time": "2021-06-29T13:45:16.476Z"
   },
   {
    "duration": 263,
    "start_time": "2021-06-29T13:45:22.694Z"
   },
   {
    "duration": 14,
    "start_time": "2021-06-29T13:45:25.808Z"
   },
   {
    "duration": 10,
    "start_time": "2021-06-29T13:50:28.512Z"
   },
   {
    "duration": 6,
    "start_time": "2021-06-29T14:10:47.959Z"
   },
   {
    "duration": 758,
    "start_time": "2021-06-30T07:16:32.839Z"
   },
   {
    "duration": 421,
    "start_time": "2021-06-30T07:16:33.600Z"
   },
   {
    "duration": 19,
    "start_time": "2021-06-30T07:16:34.024Z"
   },
   {
    "duration": 24,
    "start_time": "2021-06-30T07:16:34.045Z"
   },
   {
    "duration": 25,
    "start_time": "2021-06-30T07:16:34.071Z"
   },
   {
    "duration": 8,
    "start_time": "2021-06-30T07:16:34.098Z"
   },
   {
    "duration": 16,
    "start_time": "2021-06-30T07:16:34.108Z"
   },
   {
    "duration": 41,
    "start_time": "2021-06-30T07:16:34.128Z"
   },
   {
    "duration": 32,
    "start_time": "2021-06-30T07:16:34.172Z"
   },
   {
    "duration": 6,
    "start_time": "2021-06-30T07:16:34.207Z"
   },
   {
    "duration": 16,
    "start_time": "2021-06-30T07:16:34.215Z"
   },
   {
    "duration": 35,
    "start_time": "2021-06-30T07:16:34.233Z"
   },
   {
    "duration": 25,
    "start_time": "2021-06-30T07:16:34.271Z"
   },
   {
    "duration": 21,
    "start_time": "2021-06-30T07:16:34.299Z"
   },
   {
    "duration": 73,
    "start_time": "2021-06-30T07:16:34.323Z"
   },
   {
    "duration": 26,
    "start_time": "2021-06-30T07:16:34.399Z"
   },
   {
    "duration": 50,
    "start_time": "2021-06-30T07:16:34.427Z"
   },
   {
    "duration": 10,
    "start_time": "2021-06-30T07:16:34.479Z"
   },
   {
    "duration": 23,
    "start_time": "2021-06-30T07:16:34.491Z"
   },
   {
    "duration": 50,
    "start_time": "2021-06-30T07:16:34.516Z"
   },
   {
    "duration": 7,
    "start_time": "2021-06-30T07:16:34.569Z"
   },
   {
    "duration": 21,
    "start_time": "2021-06-30T07:16:34.579Z"
   },
   {
    "duration": 9,
    "start_time": "2021-06-30T07:16:34.605Z"
   },
   {
    "duration": 6,
    "start_time": "2021-06-30T07:16:34.616Z"
   },
   {
    "duration": 450,
    "start_time": "2021-06-30T07:34:31.518Z"
   },
   {
    "duration": 5353,
    "start_time": "2021-06-30T07:34:53.905Z"
   },
   {
    "duration": 1149,
    "start_time": "2021-06-30T07:36:30.912Z"
   },
   {
    "duration": 13,
    "start_time": "2021-06-30T07:38:28.386Z"
   },
   {
    "duration": 98,
    "start_time": "2021-06-30T07:39:21.281Z"
   },
   {
    "duration": 488,
    "start_time": "2021-06-30T07:39:25.094Z"
   },
   {
    "duration": 344,
    "start_time": "2021-06-30T07:39:40.974Z"
   },
   {
    "duration": 315,
    "start_time": "2021-06-30T07:39:45.206Z"
   },
   {
    "duration": 46,
    "start_time": "2021-06-30T07:40:15.266Z"
   },
   {
    "duration": 331,
    "start_time": "2021-06-30T07:49:12.414Z"
   },
   {
    "duration": 321,
    "start_time": "2021-06-30T07:49:57.187Z"
   },
   {
    "duration": 239,
    "start_time": "2021-06-30T07:50:16.416Z"
   },
   {
    "duration": 20,
    "start_time": "2021-06-30T07:50:58.426Z"
   },
   {
    "duration": 313,
    "start_time": "2021-06-30T07:51:27.477Z"
   },
   {
    "duration": 22,
    "start_time": "2021-06-30T07:51:47.135Z"
   },
   {
    "duration": 9528,
    "start_time": "2021-06-30T07:51:59.224Z"
   },
   {
    "duration": 7,
    "start_time": "2021-06-30T07:54:18.953Z"
   },
   {
    "duration": 5,
    "start_time": "2021-06-30T07:55:50.186Z"
   },
   {
    "duration": 7,
    "start_time": "2021-06-30T07:57:34.767Z"
   },
   {
    "duration": 4,
    "start_time": "2021-06-30T07:58:29.519Z"
   },
   {
    "duration": 393,
    "start_time": "2021-06-30T07:58:29.527Z"
   },
   {
    "duration": 17,
    "start_time": "2021-06-30T07:58:29.923Z"
   },
   {
    "duration": 15,
    "start_time": "2021-06-30T07:58:29.943Z"
   },
   {
    "duration": 24,
    "start_time": "2021-06-30T07:58:29.961Z"
   },
   {
    "duration": 6,
    "start_time": "2021-06-30T07:59:00.756Z"
   },
   {
    "duration": 104,
    "start_time": "2021-06-30T08:05:37.719Z"
   },
   {
    "duration": 8,
    "start_time": "2021-06-30T08:07:47.940Z"
   },
   {
    "duration": 12,
    "start_time": "2021-06-30T08:09:57.840Z"
   },
   {
    "duration": 11,
    "start_time": "2021-06-30T08:10:25.306Z"
   },
   {
    "duration": 11,
    "start_time": "2021-06-30T08:10:32.668Z"
   },
   {
    "duration": 21,
    "start_time": "2021-06-30T08:12:14.847Z"
   },
   {
    "duration": 6,
    "start_time": "2021-06-30T08:13:56.478Z"
   },
   {
    "duration": 114,
    "start_time": "2021-06-30T08:14:56.249Z"
   },
   {
    "duration": 120,
    "start_time": "2021-06-30T08:15:42.916Z"
   },
   {
    "duration": 118,
    "start_time": "2021-06-30T08:15:47.485Z"
   },
   {
    "duration": 290,
    "start_time": "2021-06-30T08:16:00.216Z"
   },
   {
    "duration": 324,
    "start_time": "2021-06-30T08:16:10.540Z"
   },
   {
    "duration": 383,
    "start_time": "2021-06-30T08:16:28.387Z"
   },
   {
    "duration": 338,
    "start_time": "2021-06-30T08:17:50.956Z"
   },
   {
    "duration": 4,
    "start_time": "2021-06-30T08:17:59.358Z"
   },
   {
    "duration": 5,
    "start_time": "2021-06-30T08:18:03.651Z"
   },
   {
    "duration": 28,
    "start_time": "2021-06-30T08:18:09.715Z"
   },
   {
    "duration": 3,
    "start_time": "2021-06-30T08:18:20.583Z"
   },
   {
    "duration": 349,
    "start_time": "2021-06-30T08:18:34.382Z"
   },
   {
    "duration": 854,
    "start_time": "2021-06-30T08:18:54.907Z"
   },
   {
    "duration": 25,
    "start_time": "2021-06-30T08:19:54.744Z"
   },
   {
    "duration": 32,
    "start_time": "2021-06-30T08:20:25.259Z"
   },
   {
    "duration": 28,
    "start_time": "2021-06-30T08:21:30.807Z"
   },
   {
    "duration": 6,
    "start_time": "2021-06-30T08:56:40.139Z"
   },
   {
    "duration": 32,
    "start_time": "2021-06-30T08:58:28.897Z"
   },
   {
    "duration": 8,
    "start_time": "2021-06-30T09:01:18.448Z"
   },
   {
    "duration": 42,
    "start_time": "2021-06-30T09:01:21.145Z"
   },
   {
    "duration": 41,
    "start_time": "2021-06-30T09:01:29.275Z"
   },
   {
    "duration": 8,
    "start_time": "2021-06-30T09:02:12.341Z"
   },
   {
    "duration": 28,
    "start_time": "2021-06-30T09:02:14.150Z"
   },
   {
    "duration": 31,
    "start_time": "2021-06-30T09:02:17.399Z"
   },
   {
    "duration": 604,
    "start_time": "2021-06-30T09:04:06.287Z"
   },
   {
    "duration": 2833,
    "start_time": "2021-06-30T09:04:18.708Z"
   },
   {
    "duration": 383,
    "start_time": "2021-06-30T09:04:21.544Z"
   },
   {
    "duration": 19,
    "start_time": "2021-06-30T09:04:21.930Z"
   },
   {
    "duration": 29,
    "start_time": "2021-06-30T09:04:21.952Z"
   },
   {
    "duration": 23,
    "start_time": "2021-06-30T09:04:21.984Z"
   },
   {
    "duration": 6,
    "start_time": "2021-06-30T09:04:22.009Z"
   },
   {
    "duration": 12,
    "start_time": "2021-06-30T09:04:22.017Z"
   },
   {
    "duration": 48,
    "start_time": "2021-06-30T09:04:22.032Z"
   },
   {
    "duration": 5,
    "start_time": "2021-06-30T09:04:22.083Z"
   },
   {
    "duration": 36,
    "start_time": "2021-06-30T09:04:22.090Z"
   },
   {
    "duration": 5,
    "start_time": "2021-06-30T09:04:22.129Z"
   },
   {
    "duration": 38,
    "start_time": "2021-06-30T09:04:22.136Z"
   },
   {
    "duration": 10,
    "start_time": "2021-06-30T09:04:22.177Z"
   },
   {
    "duration": 29,
    "start_time": "2021-06-30T09:04:22.189Z"
   },
   {
    "duration": 17,
    "start_time": "2021-06-30T09:04:22.220Z"
   },
   {
    "duration": 56,
    "start_time": "2021-06-30T09:04:22.239Z"
   },
   {
    "duration": 23,
    "start_time": "2021-06-30T09:04:22.297Z"
   },
   {
    "duration": 44,
    "start_time": "2021-06-30T09:04:22.323Z"
   },
   {
    "duration": 12,
    "start_time": "2021-06-30T09:04:22.376Z"
   },
   {
    "duration": 22,
    "start_time": "2021-06-30T09:04:22.390Z"
   },
   {
    "duration": 22,
    "start_time": "2021-06-30T09:04:22.414Z"
   },
   {
    "duration": 38,
    "start_time": "2021-06-30T09:04:22.439Z"
   },
   {
    "duration": 22,
    "start_time": "2021-06-30T09:04:22.483Z"
   },
   {
    "duration": 6,
    "start_time": "2021-06-30T09:04:22.508Z"
   },
   {
    "duration": 15,
    "start_time": "2021-06-30T09:04:22.517Z"
   },
   {
    "duration": 41,
    "start_time": "2021-06-30T09:04:22.534Z"
   },
   {
    "duration": 11,
    "start_time": "2021-06-30T09:04:22.580Z"
   },
   {
    "duration": 8,
    "start_time": "2021-06-30T09:04:22.594Z"
   },
   {
    "duration": 20,
    "start_time": "2021-06-30T09:04:22.604Z"
   },
   {
    "duration": 55,
    "start_time": "2021-06-30T09:04:22.626Z"
   },
   {
    "duration": 27,
    "start_time": "2021-06-30T09:04:22.684Z"
   },
   {
    "duration": 6,
    "start_time": "2021-06-30T09:04:22.713Z"
   },
   {
    "duration": 54,
    "start_time": "2021-06-30T09:04:22.721Z"
   },
   {
    "duration": 26,
    "start_time": "2021-06-30T09:04:22.777Z"
   },
   {
    "duration": 25,
    "start_time": "2021-06-30T09:04:22.805Z"
   },
   {
    "duration": 601,
    "start_time": "2021-06-30T09:29:48.513Z"
   },
   {
    "duration": 132,
    "start_time": "2021-06-30T09:31:03.410Z"
   },
   {
    "duration": 113,
    "start_time": "2021-06-30T09:31:57.141Z"
   },
   {
    "duration": 25,
    "start_time": "2021-06-30T09:33:17.695Z"
   },
   {
    "duration": 11,
    "start_time": "2021-06-30T09:33:25.394Z"
   },
   {
    "duration": 115,
    "start_time": "2021-06-30T09:34:26.325Z"
   },
   {
    "duration": 117,
    "start_time": "2021-06-30T09:34:45.797Z"
   },
   {
    "duration": 63,
    "start_time": "2021-06-30T09:35:25.110Z"
   },
   {
    "duration": 11,
    "start_time": "2021-06-30T09:35:27.499Z"
   },
   {
    "duration": 68,
    "start_time": "2021-06-30T09:37:26.477Z"
   },
   {
    "duration": 12,
    "start_time": "2021-06-30T09:37:28.642Z"
   },
   {
    "duration": 63,
    "start_time": "2021-06-30T09:37:43.440Z"
   },
   {
    "duration": 12,
    "start_time": "2021-06-30T09:37:47.037Z"
   },
   {
    "duration": 48,
    "start_time": "2021-06-30T09:49:29.575Z"
   },
   {
    "duration": 102,
    "start_time": "2021-06-30T09:50:40.165Z"
   },
   {
    "duration": 36,
    "start_time": "2021-06-30T09:50:51.076Z"
   },
   {
    "duration": 114,
    "start_time": "2021-06-30T09:51:14.524Z"
   },
   {
    "duration": 57,
    "start_time": "2021-06-30T09:51:36.621Z"
   },
   {
    "duration": 11,
    "start_time": "2021-06-30T09:51:38.917Z"
   },
   {
    "duration": 20,
    "start_time": "2021-06-30T09:52:05.079Z"
   },
   {
    "duration": 8,
    "start_time": "2021-06-30T09:56:23.638Z"
   },
   {
    "duration": 12,
    "start_time": "2021-06-30T09:56:26.274Z"
   },
   {
    "duration": 9,
    "start_time": "2021-06-30T09:58:31.825Z"
   },
   {
    "duration": 669,
    "start_time": "2021-06-30T09:59:13.344Z"
   },
   {
    "duration": 7,
    "start_time": "2021-06-30T10:00:37.319Z"
   },
   {
    "duration": 661,
    "start_time": "2021-06-30T10:00:41.767Z"
   },
   {
    "duration": 6,
    "start_time": "2021-06-30T10:00:52.568Z"
   },
   {
    "duration": 6,
    "start_time": "2021-06-30T10:00:55.336Z"
   },
   {
    "duration": 6,
    "start_time": "2021-06-30T10:02:14.995Z"
   },
   {
    "duration": 6,
    "start_time": "2021-06-30T10:02:18.253Z"
   },
   {
    "duration": 9,
    "start_time": "2021-06-30T10:02:34.693Z"
   },
   {
    "duration": 60,
    "start_time": "2021-06-30T10:02:37.377Z"
   },
   {
    "duration": 8,
    "start_time": "2021-06-30T10:02:51.828Z"
   },
   {
    "duration": 65,
    "start_time": "2021-06-30T10:02:54.291Z"
   },
   {
    "duration": 7,
    "start_time": "2021-06-30T10:03:15.855Z"
   },
   {
    "duration": 64,
    "start_time": "2021-06-30T10:03:18.137Z"
   },
   {
    "duration": 6,
    "start_time": "2021-06-30T12:24:42.899Z"
   },
   {
    "duration": 101,
    "start_time": "2021-06-30T12:25:50.040Z"
   },
   {
    "duration": 72,
    "start_time": "2021-06-30T12:27:36.511Z"
   },
   {
    "duration": 614,
    "start_time": "2021-06-30T12:29:20.591Z"
   },
   {
    "duration": 7,
    "start_time": "2021-06-30T12:33:59.293Z"
   },
   {
    "duration": 53,
    "start_time": "2021-06-30T12:34:36.760Z"
   },
   {
    "duration": 11,
    "start_time": "2021-06-30T12:49:18.825Z"
   },
   {
    "duration": 9617,
    "start_time": "2021-06-30T12:49:25.860Z"
   },
   {
    "duration": 8,
    "start_time": "2021-06-30T12:52:33.528Z"
   },
   {
    "duration": 8397,
    "start_time": "2021-06-30T12:52:51.218Z"
   },
   {
    "duration": 7574,
    "start_time": "2021-06-30T12:55:39.145Z"
   },
   {
    "duration": 7532,
    "start_time": "2021-06-30T12:55:51.665Z"
   },
   {
    "duration": 6,
    "start_time": "2021-06-30T14:18:29.120Z"
   },
   {
    "duration": 671,
    "start_time": "2021-06-30T14:18:37.284Z"
   },
   {
    "duration": 294,
    "start_time": "2021-06-30T14:19:37.260Z"
   },
   {
    "duration": 14,
    "start_time": "2021-06-30T14:19:43.284Z"
   },
   {
    "duration": 13,
    "start_time": "2021-06-30T14:19:58.279Z"
   },
   {
    "duration": 381,
    "start_time": "2021-06-30T14:21:05.481Z"
   },
   {
    "duration": 7,
    "start_time": "2021-06-30T14:22:22.711Z"
   },
   {
    "duration": 15,
    "start_time": "2021-06-30T14:22:30.637Z"
   },
   {
    "duration": 2106,
    "start_time": "2021-06-30T14:27:34.288Z"
   },
   {
    "duration": 60,
    "start_time": "2021-06-30T14:27:57.094Z"
   },
   {
    "duration": 296,
    "start_time": "2021-06-30T14:29:14.869Z"
   },
   {
    "duration": 30,
    "start_time": "2021-06-30T14:29:30.938Z"
   },
   {
    "duration": 30,
    "start_time": "2021-06-30T14:29:34.936Z"
   },
   {
    "duration": 37,
    "start_time": "2021-06-30T14:30:10.823Z"
   },
   {
    "duration": 31,
    "start_time": "2021-06-30T14:30:14.070Z"
   },
   {
    "duration": 33,
    "start_time": "2021-06-30T14:30:37.041Z"
   },
   {
    "duration": 21,
    "start_time": "2021-06-30T14:30:39.389Z"
   },
   {
    "duration": 20,
    "start_time": "2021-06-30T15:01:37.983Z"
   },
   {
    "duration": 45,
    "start_time": "2021-06-30T15:01:41.806Z"
   },
   {
    "duration": 29,
    "start_time": "2021-06-30T15:02:39.807Z"
   },
   {
    "duration": 32,
    "start_time": "2021-06-30T15:03:34.510Z"
   },
   {
    "duration": 16,
    "start_time": "2021-06-30T15:04:04.604Z"
   },
   {
    "duration": 351,
    "start_time": "2021-06-30T15:09:21.792Z"
   },
   {
    "duration": 450,
    "start_time": "2021-06-30T15:09:40.852Z"
   },
   {
    "duration": 17,
    "start_time": "2021-06-30T15:10:12.848Z"
   },
   {
    "duration": 4720,
    "start_time": "2021-06-30T15:10:26.985Z"
   },
   {
    "duration": 10,
    "start_time": "2021-06-30T15:10:58.362Z"
   },
   {
    "duration": 988,
    "start_time": "2021-06-30T15:11:14.972Z"
   },
   {
    "duration": 341,
    "start_time": "2021-06-30T15:11:37.840Z"
   },
   {
    "duration": 305,
    "start_time": "2021-06-30T15:12:37.380Z"
   },
   {
    "duration": 902,
    "start_time": "2021-06-30T15:12:52.567Z"
   },
   {
    "duration": 2102,
    "start_time": "2021-07-01T12:44:06.486Z"
   },
   {
    "duration": 369,
    "start_time": "2021-07-01T12:44:08.591Z"
   },
   {
    "duration": 20,
    "start_time": "2021-07-01T12:44:08.964Z"
   },
   {
    "duration": 28,
    "start_time": "2021-07-01T12:44:08.987Z"
   },
   {
    "duration": 26,
    "start_time": "2021-07-01T12:44:09.018Z"
   },
   {
    "duration": 7,
    "start_time": "2021-07-01T12:44:09.047Z"
   },
   {
    "duration": 18,
    "start_time": "2021-07-01T12:44:09.056Z"
   },
   {
    "duration": 13,
    "start_time": "2021-07-01T12:44:09.078Z"
   },
   {
    "duration": 4,
    "start_time": "2021-07-01T12:44:09.125Z"
   },
   {
    "duration": 29,
    "start_time": "2021-07-01T12:44:09.132Z"
   },
   {
    "duration": 8,
    "start_time": "2021-07-01T12:44:09.163Z"
   },
   {
    "duration": 27,
    "start_time": "2021-07-01T12:44:09.173Z"
   },
   {
    "duration": 26,
    "start_time": "2021-07-01T12:44:09.203Z"
   },
   {
    "duration": 31,
    "start_time": "2021-07-01T12:44:09.232Z"
   },
   {
    "duration": 18,
    "start_time": "2021-07-01T12:44:09.266Z"
   },
   {
    "duration": 68,
    "start_time": "2021-07-01T12:44:09.287Z"
   },
   {
    "duration": 24,
    "start_time": "2021-07-01T12:44:09.358Z"
   },
   {
    "duration": 40,
    "start_time": "2021-07-01T12:44:09.384Z"
   },
   {
    "duration": 12,
    "start_time": "2021-07-01T12:44:09.427Z"
   },
   {
    "duration": 42,
    "start_time": "2021-07-01T12:44:09.441Z"
   },
   {
    "duration": 30,
    "start_time": "2021-07-01T12:44:09.485Z"
   },
   {
    "duration": 10,
    "start_time": "2021-07-01T12:44:09.517Z"
   },
   {
    "duration": 35,
    "start_time": "2021-07-01T12:44:09.533Z"
   },
   {
    "duration": 17,
    "start_time": "2021-07-01T12:44:09.572Z"
   },
   {
    "duration": 14,
    "start_time": "2021-07-01T12:44:09.593Z"
   },
   {
    "duration": 10,
    "start_time": "2021-07-01T12:44:09.625Z"
   },
   {
    "duration": 11,
    "start_time": "2021-07-01T12:44:09.638Z"
   },
   {
    "duration": 46,
    "start_time": "2021-07-01T12:44:09.653Z"
   },
   {
    "duration": 27,
    "start_time": "2021-07-01T12:44:09.701Z"
   },
   {
    "duration": 52,
    "start_time": "2021-07-01T12:44:09.731Z"
   },
   {
    "duration": 512,
    "start_time": "2021-07-01T12:44:09.785Z"
   },
   {
    "duration": -1206,
    "start_time": "2021-07-01T12:44:11.505Z"
   },
   {
    "duration": -1213,
    "start_time": "2021-07-01T12:44:11.514Z"
   },
   {
    "duration": -1214,
    "start_time": "2021-07-01T12:44:11.516Z"
   },
   {
    "duration": -1214,
    "start_time": "2021-07-01T12:44:11.518Z"
   },
   {
    "duration": -1215,
    "start_time": "2021-07-01T12:44:11.520Z"
   },
   {
    "duration": -1214,
    "start_time": "2021-07-01T12:44:11.521Z"
   },
   {
    "duration": -1215,
    "start_time": "2021-07-01T12:44:11.523Z"
   },
   {
    "duration": 272,
    "start_time": "2021-07-01T12:44:34.969Z"
   },
   {
    "duration": 327,
    "start_time": "2021-07-01T12:46:18.645Z"
   },
   {
    "duration": 241,
    "start_time": "2021-07-01T12:47:12.326Z"
   },
   {
    "duration": 803,
    "start_time": "2021-07-01T12:52:43.172Z"
   },
   {
    "duration": 13,
    "start_time": "2021-07-01T12:53:04.149Z"
   },
   {
    "duration": 17,
    "start_time": "2021-07-01T12:53:38.005Z"
   },
   {
    "duration": 315,
    "start_time": "2021-07-01T12:54:25.041Z"
   },
   {
    "duration": 19,
    "start_time": "2021-07-01T12:54:31.513Z"
   },
   {
    "duration": 14,
    "start_time": "2021-07-01T12:55:35.452Z"
   },
   {
    "duration": 48,
    "start_time": "2021-07-01T12:56:39.838Z"
   },
   {
    "duration": 76,
    "start_time": "2021-07-01T12:57:58.154Z"
   },
   {
    "duration": 49,
    "start_time": "2021-07-01T12:58:11.699Z"
   },
   {
    "duration": 44,
    "start_time": "2021-07-01T12:58:35.612Z"
   },
   {
    "duration": 85,
    "start_time": "2021-07-01T13:01:36.961Z"
   },
   {
    "duration": 87,
    "start_time": "2021-07-01T13:01:54.661Z"
   },
   {
    "duration": 809,
    "start_time": "2021-07-01T13:08:17.866Z"
   },
   {
    "duration": 702,
    "start_time": "2021-07-01T13:08:28.276Z"
   },
   {
    "duration": 167,
    "start_time": "2021-07-01T13:08:57.658Z"
   },
   {
    "duration": 95,
    "start_time": "2021-07-01T13:11:05.397Z"
   },
   {
    "duration": 19,
    "start_time": "2021-07-01T13:11:25.673Z"
   },
   {
    "duration": 99,
    "start_time": "2021-07-01T13:11:37.414Z"
   },
   {
    "duration": 21,
    "start_time": "2021-07-01T13:12:08.457Z"
   },
   {
    "duration": 160,
    "start_time": "2021-07-01T13:12:40.630Z"
   },
   {
    "duration": 22,
    "start_time": "2021-07-01T13:13:20.122Z"
   },
   {
    "duration": 19,
    "start_time": "2021-07-01T13:13:36.361Z"
   },
   {
    "duration": 17,
    "start_time": "2021-07-01T13:13:47.377Z"
   },
   {
    "duration": 49,
    "start_time": "2021-07-01T13:14:49.008Z"
   },
   {
    "duration": 282,
    "start_time": "2021-07-01T13:49:57.098Z"
   },
   {
    "duration": 289,
    "start_time": "2021-07-01T13:50:01.057Z"
   },
   {
    "duration": 302,
    "start_time": "2021-07-01T13:55:26.470Z"
   },
   {
    "duration": 272,
    "start_time": "2021-07-01T13:55:56.640Z"
   },
   {
    "duration": 320,
    "start_time": "2021-07-01T13:56:22.101Z"
   },
   {
    "duration": 6,
    "start_time": "2021-07-01T13:56:38.774Z"
   },
   {
    "duration": 6,
    "start_time": "2021-07-01T13:56:42.133Z"
   },
   {
    "duration": 8,
    "start_time": "2021-07-01T13:56:47.356Z"
   },
   {
    "duration": 38,
    "start_time": "2021-07-01T13:56:53.471Z"
   },
   {
    "duration": 28,
    "start_time": "2021-07-01T13:57:16.340Z"
   },
   {
    "duration": 60,
    "start_time": "2021-07-01T13:57:43.630Z"
   },
   {
    "duration": 283,
    "start_time": "2021-07-01T13:58:19.838Z"
   },
   {
    "duration": 267,
    "start_time": "2021-07-01T13:59:37.018Z"
   },
   {
    "duration": 289,
    "start_time": "2021-07-01T14:02:18.496Z"
   },
   {
    "duration": 320,
    "start_time": "2021-07-01T14:19:11.116Z"
   },
   {
    "duration": 90,
    "start_time": "2021-07-01T14:20:25.573Z"
   },
   {
    "duration": 287,
    "start_time": "2021-07-01T14:20:40.365Z"
   },
   {
    "duration": -1167,
    "start_time": "2021-07-01T14:25:37.897Z"
   },
   {
    "duration": -1176,
    "start_time": "2021-07-01T14:25:37.908Z"
   },
   {
    "duration": 32,
    "start_time": "2021-07-01T14:25:40.734Z"
   },
   {
    "duration": 16,
    "start_time": "2021-07-01T14:26:04.511Z"
   },
   {
    "duration": 2880,
    "start_time": "2021-07-01T14:26:15.570Z"
   },
   {
    "duration": 2987,
    "start_time": "2021-07-01T14:32:13.626Z"
   },
   {
    "duration": 86,
    "start_time": "2021-07-01T14:34:45.667Z"
   },
   {
    "duration": 274,
    "start_time": "2021-07-01T14:35:24.551Z"
   },
   {
    "duration": 2265,
    "start_time": "2021-07-01T14:36:05.406Z"
   },
   {
    "duration": 2377,
    "start_time": "2021-07-01T14:36:15.750Z"
   },
   {
    "duration": 2674,
    "start_time": "2021-07-01T14:36:38.899Z"
   },
   {
    "duration": 2275,
    "start_time": "2021-07-01T14:37:14.950Z"
   },
   {
    "duration": 5,
    "start_time": "2021-07-01T14:37:47.278Z"
   },
   {
    "duration": 2287,
    "start_time": "2021-07-01T14:42:19.536Z"
   },
   {
    "duration": 14,
    "start_time": "2021-07-01T14:52:28.700Z"
   },
   {
    "duration": 42,
    "start_time": "2021-07-01T14:52:34.006Z"
   },
   {
    "duration": 15,
    "start_time": "2021-07-01T14:53:14.721Z"
   },
   {
    "duration": 251,
    "start_time": "2021-07-01T14:53:53.302Z"
   },
   {
    "duration": 588,
    "start_time": "2021-07-01T14:54:23.859Z"
   },
   {
    "duration": 281,
    "start_time": "2021-07-01T14:54:41.198Z"
   },
   {
    "duration": 335,
    "start_time": "2021-07-01T14:55:01.461Z"
   },
   {
    "duration": 2652,
    "start_time": "2021-07-01T14:55:50.445Z"
   },
   {
    "duration": 303,
    "start_time": "2021-07-01T14:56:14.826Z"
   },
   {
    "duration": 309,
    "start_time": "2021-07-01T14:56:31.197Z"
   },
   {
    "duration": 529,
    "start_time": "2021-07-01T14:56:40.098Z"
   },
   {
    "duration": 802,
    "start_time": "2021-07-01T15:07:10.081Z"
   },
   {
    "duration": 45784,
    "start_time": "2021-07-01T15:07:19.787Z"
   },
   {
    "duration": 1028,
    "start_time": "2021-07-01T15:19:57.957Z"
   },
   {
    "duration": 550,
    "start_time": "2021-07-01T15:20:14.652Z"
   },
   {
    "duration": 693,
    "start_time": "2021-07-01T15:20:44.070Z"
   },
   {
    "duration": 230,
    "start_time": "2021-07-01T15:21:33.532Z"
   },
   {
    "duration": 4,
    "start_time": "2021-07-01T15:23:53.141Z"
   },
   {
    "duration": 212,
    "start_time": "2021-07-01T15:24:22.031Z"
   },
   {
    "duration": 4,
    "start_time": "2021-07-01T15:25:13.284Z"
   },
   {
    "duration": 4,
    "start_time": "2021-07-01T15:25:46.109Z"
   },
   {
    "duration": 318,
    "start_time": "2021-07-01T15:25:48.367Z"
   },
   {
    "duration": 4,
    "start_time": "2021-07-01T15:27:45.640Z"
   },
   {
    "duration": 233,
    "start_time": "2021-07-01T15:27:48.660Z"
   },
   {
    "duration": 5,
    "start_time": "2021-07-01T15:27:59.340Z"
   },
   {
    "duration": 227,
    "start_time": "2021-07-01T15:28:02.183Z"
   },
   {
    "duration": 354,
    "start_time": "2021-07-01T15:36:00.013Z"
   },
   {
    "duration": 33,
    "start_time": "2021-07-01T15:37:04.569Z"
   },
   {
    "duration": 1360,
    "start_time": "2021-07-02T10:40:17.613Z"
   },
   {
    "duration": 234,
    "start_time": "2021-07-02T10:40:18.974Z"
   },
   {
    "duration": 15,
    "start_time": "2021-07-02T10:40:19.210Z"
   },
   {
    "duration": 14,
    "start_time": "2021-07-02T10:40:19.227Z"
   },
   {
    "duration": 17,
    "start_time": "2021-07-02T10:40:19.243Z"
   },
   {
    "duration": 5,
    "start_time": "2021-07-02T10:40:19.262Z"
   },
   {
    "duration": 19,
    "start_time": "2021-07-02T10:40:19.269Z"
   },
   {
    "duration": 11,
    "start_time": "2021-07-02T10:40:19.292Z"
   },
   {
    "duration": 5,
    "start_time": "2021-07-02T10:40:19.305Z"
   },
   {
    "duration": 20,
    "start_time": "2021-07-02T10:40:19.311Z"
   },
   {
    "duration": 4,
    "start_time": "2021-07-02T10:40:19.333Z"
   },
   {
    "duration": 13,
    "start_time": "2021-07-02T10:40:19.339Z"
   },
   {
    "duration": 6,
    "start_time": "2021-07-02T10:40:19.385Z"
   },
   {
    "duration": 18,
    "start_time": "2021-07-02T10:40:19.393Z"
   },
   {
    "duration": 13,
    "start_time": "2021-07-02T10:40:19.412Z"
   },
   {
    "duration": 23,
    "start_time": "2021-07-02T10:40:19.426Z"
   },
   {
    "duration": 44,
    "start_time": "2021-07-02T10:40:19.451Z"
   },
   {
    "duration": 16,
    "start_time": "2021-07-02T10:40:19.497Z"
   },
   {
    "duration": 10,
    "start_time": "2021-07-02T10:40:19.516Z"
   },
   {
    "duration": 19,
    "start_time": "2021-07-02T10:40:19.528Z"
   },
   {
    "duration": 49,
    "start_time": "2021-07-02T10:40:19.549Z"
   },
   {
    "duration": 5,
    "start_time": "2021-07-02T10:40:19.600Z"
   },
   {
    "duration": 13,
    "start_time": "2021-07-02T10:40:19.610Z"
   },
   {
    "duration": 5,
    "start_time": "2021-07-02T10:40:19.626Z"
   },
   {
    "duration": 9,
    "start_time": "2021-07-02T10:40:19.633Z"
   },
   {
    "duration": 8,
    "start_time": "2021-07-02T10:40:19.684Z"
   },
   {
    "duration": 7,
    "start_time": "2021-07-02T10:40:19.694Z"
   },
   {
    "duration": 25,
    "start_time": "2021-07-02T10:40:19.703Z"
   },
   {
    "duration": 5,
    "start_time": "2021-07-02T10:40:19.730Z"
   },
   {
    "duration": 66,
    "start_time": "2021-07-02T10:40:19.736Z"
   },
   {
    "duration": 4,
    "start_time": "2021-07-02T10:40:19.804Z"
   },
   {
    "duration": 1359,
    "start_time": "2021-07-02T10:40:19.810Z"
   },
   {
    "duration": 22,
    "start_time": "2021-07-02T10:40:21.171Z"
   },
   {
    "duration": 4,
    "start_time": "2021-07-02T10:40:21.195Z"
   },
   {
    "duration": 168,
    "start_time": "2021-07-02T10:40:21.201Z"
   },
   {
    "duration": 179,
    "start_time": "2021-07-02T10:40:21.370Z"
   },
   {
    "duration": 20,
    "start_time": "2021-07-02T10:40:21.551Z"
   },
   {
    "duration": 377,
    "start_time": "2021-07-02T10:40:21.573Z"
   },
   {
    "duration": 300,
    "start_time": "2021-07-02T10:40:21.952Z"
   },
   {
    "duration": -1502,
    "start_time": "2021-07-02T10:40:23.756Z"
   },
   {
    "duration": -1503,
    "start_time": "2021-07-02T10:40:23.758Z"
   },
   {
    "duration": -1510,
    "start_time": "2021-07-02T10:40:23.766Z"
   },
   {
    "duration": -1516,
    "start_time": "2021-07-02T10:40:23.773Z"
   },
   {
    "duration": -1528,
    "start_time": "2021-07-02T10:40:23.786Z"
   },
   {
    "duration": -1531,
    "start_time": "2021-07-02T10:40:23.790Z"
   },
   {
    "duration": 203,
    "start_time": "2021-07-02T10:41:41.506Z"
   },
   {
    "duration": 146,
    "start_time": "2021-07-02T10:42:05.458Z"
   },
   {
    "duration": 226,
    "start_time": "2021-07-02T10:42:23.771Z"
   },
   {
    "duration": 4,
    "start_time": "2021-07-02T10:43:36.863Z"
   },
   {
    "duration": 369,
    "start_time": "2021-07-02T10:43:40.919Z"
   },
   {
    "duration": 3,
    "start_time": "2021-07-02T10:43:48.523Z"
   },
   {
    "duration": 157,
    "start_time": "2021-07-02T10:43:50.894Z"
   },
   {
    "duration": 194,
    "start_time": "2021-07-02T10:45:05.315Z"
   },
   {
    "duration": 4,
    "start_time": "2021-07-02T10:45:07.616Z"
   },
   {
    "duration": 157,
    "start_time": "2021-07-02T10:45:09.460Z"
   },
   {
    "duration": 161,
    "start_time": "2021-07-02T10:45:58.673Z"
   },
   {
    "duration": 164,
    "start_time": "2021-07-02T10:46:13.287Z"
   },
   {
    "duration": 155,
    "start_time": "2021-07-02T10:52:47.033Z"
   },
   {
    "duration": 173,
    "start_time": "2021-07-02T10:53:19.343Z"
   },
   {
    "duration": 178,
    "start_time": "2021-07-02T11:11:42.992Z"
   },
   {
    "duration": 191,
    "start_time": "2021-07-02T11:11:56.057Z"
   },
   {
    "duration": 207,
    "start_time": "2021-07-02T11:12:18.264Z"
   },
   {
    "duration": 186,
    "start_time": "2021-07-02T11:13:29.648Z"
   },
   {
    "duration": 185,
    "start_time": "2021-07-02T11:13:34.262Z"
   },
   {
    "duration": 197,
    "start_time": "2021-07-02T11:18:22.329Z"
   },
   {
    "duration": 183,
    "start_time": "2021-07-02T11:18:32.942Z"
   },
   {
    "duration": 9,
    "start_time": "2021-07-02T11:25:37.616Z"
   },
   {
    "duration": 166,
    "start_time": "2021-07-02T12:08:16.902Z"
   },
   {
    "duration": 172,
    "start_time": "2021-07-02T12:08:47.313Z"
   },
   {
    "duration": 263,
    "start_time": "2021-07-02T12:09:01.462Z"
   },
   {
    "duration": 62,
    "start_time": "2021-07-02T12:10:31.199Z"
   },
   {
    "duration": 168,
    "start_time": "2021-07-02T12:17:18.874Z"
   },
   {
    "duration": 152,
    "start_time": "2021-07-02T12:17:48.814Z"
   },
   {
    "duration": 168,
    "start_time": "2021-07-02T12:30:00.528Z"
   },
   {
    "duration": 150,
    "start_time": "2021-07-02T12:31:32.314Z"
   },
   {
    "duration": 151,
    "start_time": "2021-07-02T12:32:07.925Z"
   },
   {
    "duration": 147,
    "start_time": "2021-07-02T12:32:24.939Z"
   },
   {
    "duration": 152,
    "start_time": "2021-07-02T12:33:05.715Z"
   },
   {
    "duration": 150,
    "start_time": "2021-07-02T12:33:35.741Z"
   },
   {
    "duration": 266,
    "start_time": "2021-07-02T12:37:29.912Z"
   },
   {
    "duration": 227,
    "start_time": "2021-07-02T12:38:10.028Z"
   },
   {
    "duration": 179,
    "start_time": "2021-07-02T12:38:24.945Z"
   },
   {
    "duration": 153,
    "start_time": "2021-07-02T12:38:58.778Z"
   },
   {
    "duration": 181,
    "start_time": "2021-07-02T12:39:25.243Z"
   },
   {
    "duration": 162,
    "start_time": "2021-07-02T12:39:40.563Z"
   },
   {
    "duration": 353,
    "start_time": "2021-07-02T12:40:54.709Z"
   },
   {
    "duration": 258,
    "start_time": "2021-07-02T12:41:17.671Z"
   },
   {
    "duration": 166,
    "start_time": "2021-07-02T12:41:29.603Z"
   },
   {
    "duration": 180,
    "start_time": "2021-07-02T12:42:10.810Z"
   },
   {
    "duration": 181,
    "start_time": "2021-07-02T12:43:15.980Z"
   },
   {
    "duration": 166,
    "start_time": "2021-07-02T12:43:19.192Z"
   },
   {
    "duration": 8,
    "start_time": "2021-07-02T12:50:23.728Z"
   },
   {
    "duration": 7,
    "start_time": "2021-07-02T12:50:49.146Z"
   },
   {
    "duration": 7,
    "start_time": "2021-07-02T12:51:14.191Z"
   },
   {
    "duration": 5,
    "start_time": "2021-07-02T12:55:47.162Z"
   },
   {
    "duration": 4,
    "start_time": "2021-07-02T13:01:51.575Z"
   },
   {
    "duration": 30,
    "start_time": "2021-07-02T13:01:55.998Z"
   },
   {
    "duration": 8,
    "start_time": "2021-07-02T13:02:01.809Z"
   },
   {
    "duration": 9,
    "start_time": "2021-07-02T13:04:36.263Z"
   },
   {
    "duration": 164,
    "start_time": "2021-07-02T13:06:40.543Z"
   },
   {
    "duration": 179,
    "start_time": "2021-07-02T13:07:13.136Z"
   },
   {
    "duration": 152,
    "start_time": "2021-07-02T13:07:50.619Z"
   },
   {
    "duration": 9,
    "start_time": "2021-07-02T13:18:51.461Z"
   },
   {
    "duration": 9,
    "start_time": "2021-07-02T13:19:10.239Z"
   },
   {
    "duration": 8,
    "start_time": "2021-07-02T13:19:27.137Z"
   },
   {
    "duration": 9,
    "start_time": "2021-07-02T13:19:44.051Z"
   },
   {
    "duration": 10,
    "start_time": "2021-07-02T13:20:01.820Z"
   },
   {
    "duration": 2689,
    "start_time": "2021-07-04T18:12:19.963Z"
   },
   {
    "duration": 473,
    "start_time": "2021-07-04T18:12:22.656Z"
   },
   {
    "duration": 27,
    "start_time": "2021-07-04T18:12:23.133Z"
   },
   {
    "duration": 27,
    "start_time": "2021-07-04T18:12:23.164Z"
   },
   {
    "duration": 35,
    "start_time": "2021-07-04T18:12:23.195Z"
   },
   {
    "duration": 7,
    "start_time": "2021-07-04T18:12:23.263Z"
   },
   {
    "duration": 12,
    "start_time": "2021-07-04T18:12:23.274Z"
   },
   {
    "duration": 30,
    "start_time": "2021-07-04T18:12:23.292Z"
   },
   {
    "duration": 39,
    "start_time": "2021-07-04T18:12:23.326Z"
   },
   {
    "duration": 47,
    "start_time": "2021-07-04T18:12:23.368Z"
   },
   {
    "duration": 8,
    "start_time": "2021-07-04T18:12:23.418Z"
   },
   {
    "duration": 46,
    "start_time": "2021-07-04T18:12:23.429Z"
   },
   {
    "duration": 12,
    "start_time": "2021-07-04T18:12:23.478Z"
   },
   {
    "duration": 32,
    "start_time": "2021-07-04T18:12:23.493Z"
   },
   {
    "duration": 55,
    "start_time": "2021-07-04T18:12:23.528Z"
   },
   {
    "duration": 49,
    "start_time": "2021-07-04T18:12:23.586Z"
   },
   {
    "duration": 52,
    "start_time": "2021-07-04T18:12:23.638Z"
   },
   {
    "duration": 27,
    "start_time": "2021-07-04T18:12:23.693Z"
   },
   {
    "duration": 41,
    "start_time": "2021-07-04T18:12:23.723Z"
   },
   {
    "duration": 24,
    "start_time": "2021-07-04T18:12:23.767Z"
   },
   {
    "duration": 22,
    "start_time": "2021-07-04T18:12:23.794Z"
   },
   {
    "duration": 43,
    "start_time": "2021-07-04T18:12:23.819Z"
   },
   {
    "duration": 18,
    "start_time": "2021-07-04T18:12:23.869Z"
   },
   {
    "duration": 7,
    "start_time": "2021-07-04T18:12:23.890Z"
   },
   {
    "duration": 15,
    "start_time": "2021-07-04T18:12:23.899Z"
   },
   {
    "duration": 51,
    "start_time": "2021-07-04T18:12:23.917Z"
   },
   {
    "duration": 7,
    "start_time": "2021-07-04T18:12:23.970Z"
   },
   {
    "duration": 37,
    "start_time": "2021-07-04T18:12:23.979Z"
   },
   {
    "duration": 45,
    "start_time": "2021-07-04T18:12:24.019Z"
   },
   {
    "duration": 59,
    "start_time": "2021-07-04T18:12:24.067Z"
   },
   {
    "duration": 37,
    "start_time": "2021-07-04T18:12:24.129Z"
   },
   {
    "duration": 2543,
    "start_time": "2021-07-04T18:12:24.168Z"
   },
   {
    "duration": 17,
    "start_time": "2021-07-04T18:12:26.713Z"
   },
   {
    "duration": 5,
    "start_time": "2021-07-04T18:12:26.732Z"
   },
   {
    "duration": 280,
    "start_time": "2021-07-04T18:12:26.762Z"
   },
   {
    "duration": 258,
    "start_time": "2021-07-04T18:12:27.045Z"
   },
   {
    "duration": 381,
    "start_time": "2021-07-04T18:12:27.305Z"
   },
   {
    "duration": 273,
    "start_time": "2021-07-04T18:12:27.689Z"
   },
   {
    "duration": 282,
    "start_time": "2021-07-04T18:12:27.964Z"
   },
   {
    "duration": 270,
    "start_time": "2021-07-04T18:12:28.261Z"
   },
   {
    "duration": 369,
    "start_time": "2021-07-04T18:12:28.534Z"
   },
   {
    "duration": 265,
    "start_time": "2021-07-04T18:12:28.906Z"
   },
   {
    "duration": 270,
    "start_time": "2021-07-04T18:12:29.173Z"
   },
   {
    "duration": 278,
    "start_time": "2021-07-04T18:12:29.445Z"
   },
   {
    "duration": 269,
    "start_time": "2021-07-04T18:12:29.725Z"
   },
   {
    "duration": 264,
    "start_time": "2021-07-04T18:12:29.997Z"
   },
   {
    "duration": 305,
    "start_time": "2021-07-04T18:12:30.264Z"
   },
   {
    "duration": 286,
    "start_time": "2021-07-04T18:12:30.572Z"
   },
   {
    "duration": 13,
    "start_time": "2021-07-04T18:12:30.862Z"
   },
   {
    "duration": 22,
    "start_time": "2021-07-04T18:12:30.878Z"
   },
   {
    "duration": 286,
    "start_time": "2021-07-04T18:12:30.903Z"
   },
   {
    "duration": 272,
    "start_time": "2021-07-04T18:12:31.192Z"
   },
   {
    "duration": 7,
    "start_time": "2021-07-04T18:12:31.467Z"
   },
   {
    "duration": 51,
    "start_time": "2021-07-04T18:12:31.477Z"
   },
   {
    "duration": 40,
    "start_time": "2021-07-04T18:12:31.530Z"
   },
   {
    "duration": 16,
    "start_time": "2021-07-04T18:12:31.573Z"
   },
   {
    "duration": 7,
    "start_time": "2021-07-04T18:12:31.592Z"
   },
   {
    "duration": 117,
    "start_time": "2021-07-04T18:12:31.602Z"
   },
   {
    "duration": -593,
    "start_time": "2021-07-04T18:12:32.315Z"
   },
   {
    "duration": -595,
    "start_time": "2021-07-04T18:12:32.318Z"
   },
   {
    "duration": -595,
    "start_time": "2021-07-04T18:12:32.319Z"
   },
   {
    "duration": -595,
    "start_time": "2021-07-04T18:12:32.321Z"
   },
   {
    "duration": 17,
    "start_time": "2021-07-04T18:18:14.812Z"
   },
   {
    "duration": 5,
    "start_time": "2021-07-04T18:18:26.999Z"
   },
   {
    "duration": 41,
    "start_time": "2021-07-04T18:18:27.007Z"
   },
   {
    "duration": 15,
    "start_time": "2021-07-04T18:18:27.051Z"
   },
   {
    "duration": 103,
    "start_time": "2021-07-04T18:18:27.070Z"
   },
   {
    "duration": 6,
    "start_time": "2021-07-04T18:18:27.177Z"
   },
   {
    "duration": 2484,
    "start_time": "2021-07-04T18:18:27.186Z"
   },
   {
    "duration": 15,
    "start_time": "2021-07-04T18:18:29.673Z"
   },
   {
    "duration": 5,
    "start_time": "2021-07-04T18:18:29.692Z"
   },
   {
    "duration": 302,
    "start_time": "2021-07-04T18:18:29.702Z"
   },
   {
    "duration": 376,
    "start_time": "2021-07-04T18:18:30.009Z"
   },
   {
    "duration": 374,
    "start_time": "2021-07-04T18:18:30.387Z"
   },
   {
    "duration": 271,
    "start_time": "2021-07-04T18:18:30.765Z"
   },
   {
    "duration": 307,
    "start_time": "2021-07-04T18:18:31.038Z"
   },
   {
    "duration": 398,
    "start_time": "2021-07-04T18:18:31.347Z"
   },
   {
    "duration": 267,
    "start_time": "2021-07-04T18:18:31.747Z"
   },
   {
    "duration": 272,
    "start_time": "2021-07-04T18:18:32.016Z"
   },
   {
    "duration": 304,
    "start_time": "2021-07-04T18:18:32.291Z"
   },
   {
    "duration": 277,
    "start_time": "2021-07-04T18:18:32.598Z"
   },
   {
    "duration": 258,
    "start_time": "2021-07-04T18:18:32.877Z"
   },
   {
    "duration": 432,
    "start_time": "2021-07-04T18:18:33.139Z"
   },
   {
    "duration": 438,
    "start_time": "2021-07-04T18:18:33.574Z"
   },
   {
    "duration": 308,
    "start_time": "2021-07-04T18:18:34.015Z"
   },
   {
    "duration": 11,
    "start_time": "2021-07-04T18:18:34.326Z"
   },
   {
    "duration": 29,
    "start_time": "2021-07-04T18:18:34.339Z"
   },
   {
    "duration": 397,
    "start_time": "2021-07-04T18:18:34.370Z"
   },
   {
    "duration": 303,
    "start_time": "2021-07-04T18:18:34.771Z"
   },
   {
    "duration": 7,
    "start_time": "2021-07-04T18:18:35.083Z"
   },
   {
    "duration": 77,
    "start_time": "2021-07-04T18:18:35.093Z"
   },
   {
    "duration": 12,
    "start_time": "2021-07-04T18:18:35.172Z"
   },
   {
    "duration": 21,
    "start_time": "2021-07-04T18:18:35.187Z"
   },
   {
    "duration": 101,
    "start_time": "2021-07-04T18:18:35.211Z"
   },
   {
    "duration": -575,
    "start_time": "2021-07-04T18:18:35.890Z"
   },
   {
    "duration": -575,
    "start_time": "2021-07-04T18:18:35.892Z"
   },
   {
    "duration": -575,
    "start_time": "2021-07-04T18:18:35.894Z"
   },
   {
    "duration": -597,
    "start_time": "2021-07-04T18:18:35.918Z"
   },
   {
    "duration": -597,
    "start_time": "2021-07-04T18:18:35.920Z"
   },
   {
    "duration": -596,
    "start_time": "2021-07-04T18:18:35.922Z"
   },
   {
    "duration": 108,
    "start_time": "2021-07-04T18:26:27.059Z"
   },
   {
    "duration": 557,
    "start_time": "2021-07-04T18:26:47.620Z"
   },
   {
    "duration": 16,
    "start_time": "2021-07-04T18:27:06.627Z"
   },
   {
    "duration": 26,
    "start_time": "2021-07-04T18:27:20.923Z"
   },
   {
    "duration": 51,
    "start_time": "2021-07-04T18:27:44.550Z"
   },
   {
    "duration": 26,
    "start_time": "2021-07-04T18:28:00.685Z"
   },
   {
    "duration": 45,
    "start_time": "2021-07-04T18:28:35.788Z"
   },
   {
    "duration": 7,
    "start_time": "2021-07-04T18:30:27.763Z"
   },
   {
    "duration": 318,
    "start_time": "2021-07-04T18:30:41.464Z"
   },
   {
    "duration": 8,
    "start_time": "2021-07-04T18:30:47.693Z"
   },
   {
    "duration": 4,
    "start_time": "2021-07-04T18:31:03.005Z"
   },
   {
    "duration": 6,
    "start_time": "2021-07-04T18:31:07.123Z"
   },
   {
    "duration": 39,
    "start_time": "2021-07-04T18:31:13.798Z"
   },
   {
    "duration": 60,
    "start_time": "2021-07-04T18:32:01.116Z"
   },
   {
    "duration": 45,
    "start_time": "2021-07-04T18:33:17.955Z"
   },
   {
    "duration": 36,
    "start_time": "2021-07-04T18:33:50.082Z"
   },
   {
    "duration": 55,
    "start_time": "2021-07-04T18:33:53.946Z"
   },
   {
    "duration": 329,
    "start_time": "2021-07-04T18:34:16.381Z"
   },
   {
    "duration": 298,
    "start_time": "2021-07-04T18:34:53.936Z"
   },
   {
    "duration": 292,
    "start_time": "2021-07-04T18:34:58.679Z"
   },
   {
    "duration": 70,
    "start_time": "2021-07-04T18:39:58.398Z"
   },
   {
    "duration": 77,
    "start_time": "2021-07-04T18:41:27.478Z"
   },
   {
    "duration": 5,
    "start_time": "2021-07-04T18:44:01.598Z"
   },
   {
    "duration": 13,
    "start_time": "2021-07-04T18:44:08.039Z"
   },
   {
    "duration": 29,
    "start_time": "2021-07-04T18:46:02.488Z"
   },
   {
    "duration": 36,
    "start_time": "2021-07-04T18:47:16.965Z"
   },
   {
    "duration": 99,
    "start_time": "2021-07-04T18:47:57.045Z"
   },
   {
    "duration": 105,
    "start_time": "2021-07-04T18:48:10.156Z"
   },
   {
    "duration": 38,
    "start_time": "2021-07-04T18:48:17.766Z"
   },
   {
    "duration": 312,
    "start_time": "2021-07-04T18:49:14.659Z"
   },
   {
    "duration": 39,
    "start_time": "2021-07-04T18:49:32.585Z"
   },
   {
    "duration": 6,
    "start_time": "2021-07-04T18:52:16.088Z"
   },
   {
    "duration": 24,
    "start_time": "2021-07-04T18:52:25.296Z"
   },
   {
    "duration": 13,
    "start_time": "2021-07-04T18:54:02.471Z"
   },
   {
    "duration": 343,
    "start_time": "2021-07-04T18:54:14.104Z"
   },
   {
    "duration": 16,
    "start_time": "2021-07-04T18:54:52.245Z"
   },
   {
    "duration": 309,
    "start_time": "2021-07-04T18:55:29.391Z"
   },
   {
    "duration": 19,
    "start_time": "2021-07-04T18:56:03.243Z"
   },
   {
    "duration": 15,
    "start_time": "2021-07-04T18:59:18.689Z"
   },
   {
    "duration": 355,
    "start_time": "2021-07-04T18:59:26.295Z"
   },
   {
    "duration": 14,
    "start_time": "2021-07-04T18:59:40.440Z"
   },
   {
    "duration": 14,
    "start_time": "2021-07-04T19:05:49.388Z"
   },
   {
    "duration": 14,
    "start_time": "2021-07-04T19:06:12.908Z"
   },
   {
    "duration": 13,
    "start_time": "2021-07-04T19:14:41.313Z"
   },
   {
    "duration": 464,
    "start_time": "2021-07-04T19:16:10.120Z"
   },
   {
    "duration": 21,
    "start_time": "2021-07-04T19:16:41.487Z"
   },
   {
    "duration": 24,
    "start_time": "2021-07-04T19:18:15.834Z"
   },
   {
    "duration": 329,
    "start_time": "2021-07-04T19:18:43.810Z"
   },
   {
    "duration": 331,
    "start_time": "2021-07-04T19:19:18.533Z"
   },
   {
    "duration": 15,
    "start_time": "2021-07-04T19:20:09.003Z"
   },
   {
    "duration": 25,
    "start_time": "2021-07-04T19:22:14.544Z"
   },
   {
    "duration": 23,
    "start_time": "2021-07-04T19:22:19.833Z"
   },
   {
    "duration": 17,
    "start_time": "2021-07-04T19:22:25.379Z"
   },
   {
    "duration": 25,
    "start_time": "2021-07-04T19:24:50.944Z"
   },
   {
    "duration": 27,
    "start_time": "2021-07-04T19:25:02.295Z"
   },
   {
    "duration": 19,
    "start_time": "2021-07-04T19:26:51.367Z"
   },
   {
    "duration": 14,
    "start_time": "2021-07-04T19:27:39.491Z"
   },
   {
    "duration": 13,
    "start_time": "2021-07-04T19:32:07.548Z"
   },
   {
    "duration": 346,
    "start_time": "2021-07-04T19:36:10.269Z"
   },
   {
    "duration": 349,
    "start_time": "2021-07-04T19:36:30.314Z"
   },
   {
    "duration": 2148,
    "start_time": "2021-07-04T19:36:35.803Z"
   },
   {
    "duration": 317,
    "start_time": "2021-07-04T19:37:22.450Z"
   },
   {
    "duration": 116,
    "start_time": "2021-07-04T19:39:33.382Z"
   },
   {
    "duration": 106,
    "start_time": "2021-07-04T19:39:54.526Z"
   },
   {
    "duration": 348,
    "start_time": "2021-07-04T19:45:19.686Z"
   },
   {
    "duration": 6,
    "start_time": "2021-07-04T19:45:38.546Z"
   },
   {
    "duration": 331,
    "start_time": "2021-07-04T19:46:28.211Z"
   },
   {
    "duration": 537,
    "start_time": "2021-07-04T19:51:00.040Z"
   },
   {
    "duration": 425,
    "start_time": "2021-07-04T19:51:22.070Z"
   },
   {
    "duration": 134,
    "start_time": "2021-07-04T19:53:00.380Z"
   },
   {
    "duration": 144,
    "start_time": "2021-07-04T19:53:51.298Z"
   },
   {
    "duration": 7710,
    "start_time": "2021-07-04T19:55:21.903Z"
   },
   {
    "duration": 7834,
    "start_time": "2021-07-04T19:55:31.559Z"
   },
   {
    "duration": 334,
    "start_time": "2021-07-04T19:56:05.457Z"
   },
   {
    "duration": 1878,
    "start_time": "2021-07-05T08:41:44.492Z"
   },
   {
    "duration": 379,
    "start_time": "2021-07-05T08:41:46.373Z"
   },
   {
    "duration": 17,
    "start_time": "2021-07-05T08:41:46.755Z"
   },
   {
    "duration": 21,
    "start_time": "2021-07-05T08:41:46.775Z"
   },
   {
    "duration": 23,
    "start_time": "2021-07-05T08:41:46.799Z"
   },
   {
    "duration": 32,
    "start_time": "2021-07-05T08:41:46.824Z"
   },
   {
    "duration": 28,
    "start_time": "2021-07-05T08:41:46.858Z"
   },
   {
    "duration": 25,
    "start_time": "2021-07-05T08:41:46.890Z"
   },
   {
    "duration": 14,
    "start_time": "2021-07-05T08:41:46.917Z"
   },
   {
    "duration": 53,
    "start_time": "2021-07-05T08:41:46.933Z"
   },
   {
    "duration": 6,
    "start_time": "2021-07-05T08:41:46.990Z"
   },
   {
    "duration": 20,
    "start_time": "2021-07-05T08:41:46.998Z"
   },
   {
    "duration": 7,
    "start_time": "2021-07-05T08:41:47.021Z"
   },
   {
    "duration": 38,
    "start_time": "2021-07-05T08:41:47.031Z"
   },
   {
    "duration": 19,
    "start_time": "2021-07-05T08:41:47.071Z"
   },
   {
    "duration": 61,
    "start_time": "2021-07-05T08:41:47.093Z"
   },
   {
    "duration": 22,
    "start_time": "2021-07-05T08:41:47.157Z"
   },
   {
    "duration": 18,
    "start_time": "2021-07-05T08:41:47.182Z"
   },
   {
    "duration": 19,
    "start_time": "2021-07-05T08:41:47.203Z"
   },
   {
    "duration": 46,
    "start_time": "2021-07-05T08:41:47.224Z"
   },
   {
    "duration": 21,
    "start_time": "2021-07-05T08:41:47.272Z"
   },
   {
    "duration": 10,
    "start_time": "2021-07-05T08:41:47.295Z"
   },
   {
    "duration": 29,
    "start_time": "2021-07-05T08:41:47.311Z"
   },
   {
    "duration": 12,
    "start_time": "2021-07-05T08:41:47.356Z"
   },
   {
    "duration": 22,
    "start_time": "2021-07-05T08:41:47.371Z"
   },
   {
    "duration": 29,
    "start_time": "2021-07-05T08:41:47.396Z"
   },
   {
    "duration": 6,
    "start_time": "2021-07-05T08:41:47.427Z"
   },
   {
    "duration": 55,
    "start_time": "2021-07-05T08:41:47.435Z"
   },
   {
    "duration": 6,
    "start_time": "2021-07-05T08:41:47.492Z"
   },
   {
    "duration": 73,
    "start_time": "2021-07-05T08:41:47.501Z"
   },
   {
    "duration": 4,
    "start_time": "2021-07-05T08:41:47.577Z"
   },
   {
    "duration": 2268,
    "start_time": "2021-07-05T08:41:47.583Z"
   },
   {
    "duration": 31,
    "start_time": "2021-07-05T08:41:49.855Z"
   },
   {
    "duration": 6,
    "start_time": "2021-07-05T08:41:49.889Z"
   },
   {
    "duration": 379,
    "start_time": "2021-07-05T08:41:49.898Z"
   },
   {
    "duration": 345,
    "start_time": "2021-07-05T08:41:50.280Z"
   },
   {
    "duration": 345,
    "start_time": "2021-07-05T08:41:50.628Z"
   },
   {
    "duration": 267,
    "start_time": "2021-07-05T08:41:50.976Z"
   },
   {
    "duration": 273,
    "start_time": "2021-07-05T08:41:51.255Z"
   },
   {
    "duration": 311,
    "start_time": "2021-07-05T08:41:51.531Z"
   },
   {
    "duration": 342,
    "start_time": "2021-07-05T08:41:51.855Z"
   },
   {
    "duration": 344,
    "start_time": "2021-07-05T08:41:52.200Z"
   },
   {
    "duration": 359,
    "start_time": "2021-07-05T08:41:52.555Z"
   },
   {
    "duration": 258,
    "start_time": "2021-07-05T08:41:52.917Z"
   },
   {
    "duration": 265,
    "start_time": "2021-07-05T08:41:53.177Z"
   },
   {
    "duration": 245,
    "start_time": "2021-07-05T08:41:53.454Z"
   },
   {
    "duration": 290,
    "start_time": "2021-07-05T08:41:53.702Z"
   },
   {
    "duration": 380,
    "start_time": "2021-07-05T08:41:53.994Z"
   },
   {
    "duration": 13,
    "start_time": "2021-07-05T08:41:54.377Z"
   },
   {
    "duration": 12,
    "start_time": "2021-07-05T08:41:54.393Z"
   },
   {
    "duration": 353,
    "start_time": "2021-07-05T08:41:54.408Z"
   },
   {
    "duration": 256,
    "start_time": "2021-07-05T08:41:54.764Z"
   },
   {
    "duration": 6,
    "start_time": "2021-07-05T08:41:55.022Z"
   },
   {
    "duration": 62,
    "start_time": "2021-07-05T08:41:55.031Z"
   },
   {
    "duration": 12,
    "start_time": "2021-07-05T08:41:55.096Z"
   },
   {
    "duration": 14,
    "start_time": "2021-07-05T08:41:55.110Z"
   },
   {
    "duration": 86,
    "start_time": "2021-07-05T08:41:55.126Z"
   },
   {
    "duration": -604,
    "start_time": "2021-07-05T08:41:55.819Z"
   },
   {
    "duration": -605,
    "start_time": "2021-07-05T08:41:55.821Z"
   },
   {
    "duration": -607,
    "start_time": "2021-07-05T08:41:55.824Z"
   },
   {
    "duration": -606,
    "start_time": "2021-07-05T08:41:55.825Z"
   },
   {
    "duration": -606,
    "start_time": "2021-07-05T08:41:55.827Z"
   },
   {
    "duration": -605,
    "start_time": "2021-07-05T08:41:55.828Z"
   },
   {
    "duration": -607,
    "start_time": "2021-07-05T08:41:55.831Z"
   },
   {
    "duration": -609,
    "start_time": "2021-07-05T08:41:55.834Z"
   },
   {
    "duration": -609,
    "start_time": "2021-07-05T08:41:55.836Z"
   },
   {
    "duration": -609,
    "start_time": "2021-07-05T08:41:55.837Z"
   },
   {
    "duration": -610,
    "start_time": "2021-07-05T08:41:55.839Z"
   },
   {
    "duration": -609,
    "start_time": "2021-07-05T08:41:55.840Z"
   },
   {
    "duration": -609,
    "start_time": "2021-07-05T08:41:55.842Z"
   },
   {
    "duration": -615,
    "start_time": "2021-07-05T08:41:55.850Z"
   },
   {
    "duration": -616,
    "start_time": "2021-07-05T08:41:55.853Z"
   },
   {
    "duration": 99,
    "start_time": "2021-07-05T08:42:26.920Z"
   },
   {
    "duration": -600,
    "start_time": "2021-07-05T08:42:27.622Z"
   },
   {
    "duration": -602,
    "start_time": "2021-07-05T08:42:27.625Z"
   },
   {
    "duration": -605,
    "start_time": "2021-07-05T08:42:27.630Z"
   },
   {
    "duration": -606,
    "start_time": "2021-07-05T08:42:27.632Z"
   },
   {
    "duration": -605,
    "start_time": "2021-07-05T08:42:27.633Z"
   },
   {
    "duration": -605,
    "start_time": "2021-07-05T08:42:27.634Z"
   },
   {
    "duration": -611,
    "start_time": "2021-07-05T08:42:27.641Z"
   },
   {
    "duration": -613,
    "start_time": "2021-07-05T08:42:27.644Z"
   },
   {
    "duration": -614,
    "start_time": "2021-07-05T08:42:27.646Z"
   },
   {
    "duration": -614,
    "start_time": "2021-07-05T08:42:27.648Z"
   },
   {
    "duration": -616,
    "start_time": "2021-07-05T08:42:27.651Z"
   },
   {
    "duration": -616,
    "start_time": "2021-07-05T08:42:27.652Z"
   },
   {
    "duration": -617,
    "start_time": "2021-07-05T08:42:27.654Z"
   },
   {
    "duration": -617,
    "start_time": "2021-07-05T08:42:27.655Z"
   },
   {
    "duration": -617,
    "start_time": "2021-07-05T08:42:27.657Z"
   },
   {
    "duration": 32,
    "start_time": "2021-07-05T08:42:38.222Z"
   },
   {
    "duration": 37,
    "start_time": "2021-07-05T08:42:43.422Z"
   },
   {
    "duration": 25,
    "start_time": "2021-07-05T08:42:45.841Z"
   },
   {
    "duration": 14,
    "start_time": "2021-07-05T08:42:48.720Z"
   },
   {
    "duration": 14,
    "start_time": "2021-07-05T08:42:51.312Z"
   },
   {
    "duration": 16,
    "start_time": "2021-07-05T08:42:53.609Z"
   },
   {
    "duration": 16,
    "start_time": "2021-07-05T08:43:04.843Z"
   },
   {
    "duration": 17,
    "start_time": "2021-07-05T08:45:12.799Z"
   },
   {
    "duration": 18,
    "start_time": "2021-07-05T08:45:22.640Z"
   },
   {
    "duration": 16,
    "start_time": "2021-07-05T08:45:26.285Z"
   },
   {
    "duration": 5,
    "start_time": "2021-07-05T08:46:22.423Z"
   },
   {
    "duration": 468,
    "start_time": "2021-07-05T08:46:38.164Z"
   },
   {
    "duration": 439,
    "start_time": "2021-07-05T08:48:23.559Z"
   },
   {
    "duration": 453,
    "start_time": "2021-07-05T08:48:48.169Z"
   },
   {
    "duration": 499,
    "start_time": "2021-07-05T08:48:55.607Z"
   },
   {
    "duration": 428,
    "start_time": "2021-07-05T08:49:37.263Z"
   },
   {
    "duration": 547,
    "start_time": "2021-07-05T08:49:45.552Z"
   },
   {
    "duration": 26264,
    "start_time": "2021-07-05T08:49:57.711Z"
   },
   {
    "duration": 10715,
    "start_time": "2021-07-05T08:51:09.678Z"
   },
   {
    "duration": 308,
    "start_time": "2021-07-05T08:52:38.358Z"
   },
   {
    "duration": 370,
    "start_time": "2021-07-05T08:53:02.994Z"
   },
   {
    "duration": 11694,
    "start_time": "2021-07-05T08:55:19.322Z"
   },
   {
    "duration": 7494,
    "start_time": "2021-07-05T08:55:39.260Z"
   },
   {
    "duration": 9,
    "start_time": "2021-07-05T08:56:19.484Z"
   },
   {
    "duration": 7557,
    "start_time": "2021-07-05T08:56:53.240Z"
   },
   {
    "duration": 10,
    "start_time": "2021-07-05T08:57:00.799Z"
   },
   {
    "duration": 24,
    "start_time": "2021-07-05T09:01:32.191Z"
   },
   {
    "duration": 8,
    "start_time": "2021-07-05T09:12:48.787Z"
   },
   {
    "duration": 7,
    "start_time": "2021-07-05T09:13:44.332Z"
   },
   {
    "duration": 7,
    "start_time": "2021-07-05T09:14:10.086Z"
   },
   {
    "duration": 7083,
    "start_time": "2021-07-05T09:14:13.170Z"
   },
   {
    "duration": 23,
    "start_time": "2021-07-05T09:16:28.800Z"
   },
   {
    "duration": 6,
    "start_time": "2021-07-05T09:17:32.335Z"
   },
   {
    "duration": 7348,
    "start_time": "2021-07-05T09:17:35.492Z"
   },
   {
    "duration": 13,
    "start_time": "2021-07-05T09:19:40.605Z"
   },
   {
    "duration": 416,
    "start_time": "2021-07-05T09:19:43.757Z"
   },
   {
    "duration": 420,
    "start_time": "2021-07-05T09:20:29.544Z"
   },
   {
    "duration": 7,
    "start_time": "2021-07-05T09:22:11.294Z"
   },
   {
    "duration": 7,
    "start_time": "2021-07-05T09:23:37.907Z"
   },
   {
    "duration": 407,
    "start_time": "2021-07-05T09:23:40.047Z"
   },
   {
    "duration": 7,
    "start_time": "2021-07-05T09:24:13.491Z"
   },
   {
    "duration": 1107,
    "start_time": "2021-07-05T09:24:17.513Z"
   },
   {
    "duration": 9,
    "start_time": "2021-07-05T09:24:28.239Z"
   },
   {
    "duration": 414,
    "start_time": "2021-07-05T09:24:31.399Z"
   },
   {
    "duration": 431,
    "start_time": "2021-07-05T09:24:35.058Z"
   },
   {
    "duration": 414,
    "start_time": "2021-07-05T09:24:51.012Z"
   },
   {
    "duration": 7,
    "start_time": "2021-07-05T09:25:09.287Z"
   },
   {
    "duration": 403,
    "start_time": "2021-07-05T09:25:12.001Z"
   },
   {
    "duration": 398,
    "start_time": "2021-07-05T09:25:19.147Z"
   },
   {
    "duration": 8,
    "start_time": "2021-07-05T09:29:45.158Z"
   },
   {
    "duration": 427,
    "start_time": "2021-07-05T09:29:51.085Z"
   },
   {
    "duration": 7,
    "start_time": "2021-07-05T09:30:13.019Z"
   },
   {
    "duration": 425,
    "start_time": "2021-07-05T09:30:15.106Z"
   },
   {
    "duration": 8,
    "start_time": "2021-07-05T09:30:59.288Z"
   },
   {
    "duration": 428,
    "start_time": "2021-07-05T09:31:03.039Z"
   },
   {
    "duration": 6,
    "start_time": "2021-07-05T09:31:11.696Z"
   },
   {
    "duration": 8,
    "start_time": "2021-07-05T09:32:16.165Z"
   },
   {
    "duration": 415,
    "start_time": "2021-07-05T09:32:19.606Z"
   },
   {
    "duration": 8,
    "start_time": "2021-07-05T09:32:54.001Z"
   },
   {
    "duration": 602,
    "start_time": "2021-07-05T09:32:58.091Z"
   },
   {
    "duration": 7,
    "start_time": "2021-07-05T09:33:27.893Z"
   },
   {
    "duration": 7,
    "start_time": "2021-07-05T09:33:34.007Z"
   },
   {
    "duration": 414,
    "start_time": "2021-07-05T09:33:36.667Z"
   },
   {
    "duration": 7,
    "start_time": "2021-07-05T09:33:58.594Z"
   },
   {
    "duration": 560,
    "start_time": "2021-07-05T09:34:00.276Z"
   },
   {
    "duration": 8,
    "start_time": "2021-07-05T09:34:14.208Z"
   },
   {
    "duration": 422,
    "start_time": "2021-07-05T09:34:15.937Z"
   },
   {
    "duration": 7,
    "start_time": "2021-07-05T09:35:32.899Z"
   },
   {
    "duration": 405,
    "start_time": "2021-07-05T09:35:35.601Z"
   },
   {
    "duration": 7,
    "start_time": "2021-07-05T09:37:38.534Z"
   },
   {
    "duration": 428,
    "start_time": "2021-07-05T09:37:42.061Z"
   },
   {
    "duration": 7,
    "start_time": "2021-07-05T09:38:00.098Z"
   },
   {
    "duration": 949,
    "start_time": "2021-07-05T09:38:02.941Z"
   },
   {
    "duration": 7,
    "start_time": "2021-07-05T09:38:10.990Z"
   },
   {
    "duration": 7,
    "start_time": "2021-07-05T09:38:16.203Z"
   },
   {
    "duration": 421,
    "start_time": "2021-07-05T09:38:18.799Z"
   },
   {
    "duration": 8,
    "start_time": "2021-07-05T09:38:56.828Z"
   },
   {
    "duration": 424,
    "start_time": "2021-07-05T09:38:59.048Z"
   },
   {
    "duration": 7,
    "start_time": "2021-07-05T09:40:56.289Z"
   },
   {
    "duration": 928,
    "start_time": "2021-07-05T09:40:58.582Z"
   },
   {
    "duration": 274,
    "start_time": "2021-07-05T09:44:05.789Z"
   },
   {
    "duration": 273,
    "start_time": "2021-07-05T09:44:16.063Z"
   },
   {
    "duration": 389,
    "start_time": "2021-07-05T09:45:19.547Z"
   },
   {
    "duration": 5,
    "start_time": "2021-07-05T09:45:28.663Z"
   },
   {
    "duration": 8,
    "start_time": "2021-07-05T09:45:34.097Z"
   },
   {
    "duration": 20,
    "start_time": "2021-07-05T09:45:41.574Z"
   },
   {
    "duration": 343,
    "start_time": "2021-07-05T09:46:41.371Z"
   },
   {
    "duration": 271,
    "start_time": "2021-07-05T09:46:54.595Z"
   },
   {
    "duration": 282,
    "start_time": "2021-07-05T09:49:04.152Z"
   },
   {
    "duration": 256,
    "start_time": "2021-07-05T09:50:54.778Z"
   },
   {
    "duration": 270,
    "start_time": "2021-07-05T09:50:58.264Z"
   },
   {
    "duration": 11,
    "start_time": "2021-07-05T09:54:58.752Z"
   },
   {
    "duration": 19,
    "start_time": "2021-07-05T09:55:12.399Z"
   },
   {
    "duration": 292,
    "start_time": "2021-07-05T09:56:38.728Z"
   },
   {
    "duration": 284,
    "start_time": "2021-07-05T09:56:53.172Z"
   },
   {
    "duration": 135,
    "start_time": "2021-07-05T09:57:23.435Z"
   },
   {
    "duration": 312,
    "start_time": "2021-07-05T09:57:31.293Z"
   },
   {
    "duration": 37,
    "start_time": "2021-07-05T09:59:52.787Z"
   },
   {
    "duration": 265,
    "start_time": "2021-07-05T10:00:01.626Z"
   },
   {
    "duration": 10,
    "start_time": "2021-07-05T10:00:04.770Z"
   },
   {
    "duration": 11,
    "start_time": "2021-07-05T10:00:10.716Z"
   },
   {
    "duration": 90,
    "start_time": "2021-07-05T10:00:44.522Z"
   },
   {
    "duration": 153,
    "start_time": "2021-07-05T10:00:50.072Z"
   },
   {
    "duration": 132,
    "start_time": "2021-07-05T10:00:57.282Z"
   },
   {
    "duration": 146,
    "start_time": "2021-07-05T10:01:09.146Z"
   },
   {
    "duration": 185,
    "start_time": "2021-07-05T10:01:34.560Z"
   },
   {
    "duration": 9,
    "start_time": "2021-07-05T10:02:04.855Z"
   },
   {
    "duration": 409,
    "start_time": "2021-07-05T10:02:07.892Z"
   },
   {
    "duration": 37,
    "start_time": "2021-07-05T10:12:14.506Z"
   },
   {
    "duration": 30,
    "start_time": "2021-07-05T10:12:53.899Z"
   },
   {
    "duration": 46,
    "start_time": "2021-07-05T10:15:05.621Z"
   },
   {
    "duration": 24,
    "start_time": "2021-07-05T10:15:17.043Z"
   },
   {
    "duration": 7505,
    "start_time": "2021-07-05T10:17:18.063Z"
   },
   {
    "duration": 18,
    "start_time": "2021-07-05T10:17:33.404Z"
   },
   {
    "duration": 38,
    "start_time": "2021-07-05T10:17:41.633Z"
   },
   {
    "duration": 18,
    "start_time": "2021-07-05T10:18:34.549Z"
   },
   {
    "duration": 13,
    "start_time": "2021-07-05T10:19:02.420Z"
   },
   {
    "duration": 18,
    "start_time": "2021-07-05T10:21:21.854Z"
   },
   {
    "duration": 49,
    "start_time": "2021-07-05T10:34:49.758Z"
   },
   {
    "duration": 7,
    "start_time": "2021-07-05T10:35:53.874Z"
   },
   {
    "duration": 255,
    "start_time": "2021-07-05T10:36:29.643Z"
   },
   {
    "duration": 585,
    "start_time": "2021-07-05T10:36:45.451Z"
   },
   {
    "duration": 7,
    "start_time": "2021-07-05T10:37:55.268Z"
   },
   {
    "duration": 620,
    "start_time": "2021-07-05T10:37:56.958Z"
   },
   {
    "duration": 8,
    "start_time": "2021-07-05T10:38:12.708Z"
   },
   {
    "duration": 578,
    "start_time": "2021-07-05T10:38:15.499Z"
   },
   {
    "duration": 18,
    "start_time": "2021-07-05T10:38:29.987Z"
   },
   {
    "duration": 8,
    "start_time": "2021-07-05T10:38:31.709Z"
   },
   {
    "duration": 59,
    "start_time": "2021-07-05T10:38:34.534Z"
   },
   {
    "duration": 8,
    "start_time": "2021-07-05T10:39:09.303Z"
   },
   {
    "duration": 60,
    "start_time": "2021-07-05T10:39:11.828Z"
   },
   {
    "duration": 2102,
    "start_time": "2021-07-06T07:00:04.388Z"
   },
   {
    "duration": 888,
    "start_time": "2021-07-06T07:00:06.493Z"
   },
   {
    "duration": 20,
    "start_time": "2021-07-06T07:00:07.384Z"
   },
   {
    "duration": 43,
    "start_time": "2021-07-06T07:00:07.407Z"
   },
   {
    "duration": 40,
    "start_time": "2021-07-06T07:00:07.452Z"
   },
   {
    "duration": 16,
    "start_time": "2021-07-06T07:00:07.494Z"
   },
   {
    "duration": 14,
    "start_time": "2021-07-06T07:00:07.512Z"
   },
   {
    "duration": 19,
    "start_time": "2021-07-06T07:00:07.530Z"
   },
   {
    "duration": 6,
    "start_time": "2021-07-06T07:00:07.552Z"
   },
   {
    "duration": 52,
    "start_time": "2021-07-06T07:00:07.560Z"
   },
   {
    "duration": 6,
    "start_time": "2021-07-06T07:00:07.615Z"
   },
   {
    "duration": 19,
    "start_time": "2021-07-06T07:00:07.623Z"
   },
   {
    "duration": 9,
    "start_time": "2021-07-06T07:00:07.644Z"
   },
   {
    "duration": 56,
    "start_time": "2021-07-06T07:00:07.655Z"
   },
   {
    "duration": 19,
    "start_time": "2021-07-06T07:00:07.713Z"
   },
   {
    "duration": 40,
    "start_time": "2021-07-06T07:00:07.734Z"
   },
   {
    "duration": 44,
    "start_time": "2021-07-06T07:00:07.777Z"
   },
   {
    "duration": 30,
    "start_time": "2021-07-06T07:00:07.824Z"
   },
   {
    "duration": 14,
    "start_time": "2021-07-06T07:00:07.856Z"
   },
   {
    "duration": 50,
    "start_time": "2021-07-06T07:00:07.873Z"
   },
   {
    "duration": 27,
    "start_time": "2021-07-06T07:00:07.926Z"
   },
   {
    "duration": 11,
    "start_time": "2021-07-06T07:00:07.956Z"
   },
   {
    "duration": 20,
    "start_time": "2021-07-06T07:00:08.011Z"
   },
   {
    "duration": 8,
    "start_time": "2021-07-06T07:00:08.036Z"
   },
   {
    "duration": 21,
    "start_time": "2021-07-06T07:00:08.047Z"
   },
   {
    "duration": 50,
    "start_time": "2021-07-06T07:00:08.071Z"
   },
   {
    "duration": 8,
    "start_time": "2021-07-06T07:00:08.124Z"
   },
   {
    "duration": 54,
    "start_time": "2021-07-06T07:00:08.135Z"
   },
   {
    "duration": 21,
    "start_time": "2021-07-06T07:00:08.192Z"
   },
   {
    "duration": 77,
    "start_time": "2021-07-06T07:00:08.217Z"
   },
   {
    "duration": 14,
    "start_time": "2021-07-06T07:00:08.297Z"
   },
   {
    "duration": 2377,
    "start_time": "2021-07-06T07:00:08.313Z"
   },
   {
    "duration": 26,
    "start_time": "2021-07-06T07:00:10.693Z"
   },
   {
    "duration": 6,
    "start_time": "2021-07-06T07:00:10.721Z"
   },
   {
    "duration": 298,
    "start_time": "2021-07-06T07:00:10.730Z"
   },
   {
    "duration": 258,
    "start_time": "2021-07-06T07:00:11.030Z"
   },
   {
    "duration": 259,
    "start_time": "2021-07-06T07:00:11.290Z"
   },
   {
    "duration": 271,
    "start_time": "2021-07-06T07:00:11.552Z"
   },
   {
    "duration": 291,
    "start_time": "2021-07-06T07:00:11.825Z"
   },
   {
    "duration": 269,
    "start_time": "2021-07-06T07:00:12.119Z"
   },
   {
    "duration": 374,
    "start_time": "2021-07-06T07:00:12.391Z"
   },
   {
    "duration": 261,
    "start_time": "2021-07-06T07:00:12.767Z"
   },
   {
    "duration": 264,
    "start_time": "2021-07-06T07:00:13.030Z"
   },
   {
    "duration": 272,
    "start_time": "2021-07-06T07:00:13.297Z"
   },
   {
    "duration": 265,
    "start_time": "2021-07-06T07:00:13.572Z"
   },
   {
    "duration": 255,
    "start_time": "2021-07-06T07:00:13.839Z"
   },
   {
    "duration": 301,
    "start_time": "2021-07-06T07:00:14.097Z"
   },
   {
    "duration": 282,
    "start_time": "2021-07-06T07:00:14.400Z"
   },
   {
    "duration": 11,
    "start_time": "2021-07-06T07:00:14.684Z"
   },
   {
    "duration": 20,
    "start_time": "2021-07-06T07:00:14.697Z"
   },
   {
    "duration": 274,
    "start_time": "2021-07-06T07:00:14.719Z"
   },
   {
    "duration": 261,
    "start_time": "2021-07-06T07:00:14.996Z"
   },
   {
    "duration": 6,
    "start_time": "2021-07-06T07:00:15.261Z"
   },
   {
    "duration": 73,
    "start_time": "2021-07-06T07:00:15.269Z"
   },
   {
    "duration": 14,
    "start_time": "2021-07-06T07:00:15.345Z"
   },
   {
    "duration": 22,
    "start_time": "2021-07-06T07:00:15.362Z"
   },
   {
    "duration": 133,
    "start_time": "2021-07-06T07:00:15.408Z"
   },
   {
    "duration": -603,
    "start_time": "2021-07-06T07:00:16.148Z"
   },
   {
    "duration": -619,
    "start_time": "2021-07-06T07:00:16.166Z"
   },
   {
    "duration": -619,
    "start_time": "2021-07-06T07:00:16.168Z"
   },
   {
    "duration": -617,
    "start_time": "2021-07-06T07:00:16.169Z"
   },
   {
    "duration": -617,
    "start_time": "2021-07-06T07:00:16.171Z"
   },
   {
    "duration": -615,
    "start_time": "2021-07-06T07:00:16.172Z"
   },
   {
    "duration": -615,
    "start_time": "2021-07-06T07:00:16.174Z"
   },
   {
    "duration": -615,
    "start_time": "2021-07-06T07:00:16.176Z"
   },
   {
    "duration": -614,
    "start_time": "2021-07-06T07:00:16.177Z"
   },
   {
    "duration": -614,
    "start_time": "2021-07-06T07:00:16.179Z"
   },
   {
    "duration": -612,
    "start_time": "2021-07-06T07:00:16.180Z"
   },
   {
    "duration": -617,
    "start_time": "2021-07-06T07:00:16.187Z"
   },
   {
    "duration": -618,
    "start_time": "2021-07-06T07:00:16.190Z"
   },
   {
    "duration": -618,
    "start_time": "2021-07-06T07:00:16.192Z"
   },
   {
    "duration": -619,
    "start_time": "2021-07-06T07:00:16.195Z"
   },
   {
    "duration": -617,
    "start_time": "2021-07-06T07:00:16.196Z"
   },
   {
    "duration": -625,
    "start_time": "2021-07-06T07:00:16.206Z"
   },
   {
    "duration": -601,
    "start_time": "2021-07-06T07:00:16.209Z"
   },
   {
    "duration": -601,
    "start_time": "2021-07-06T07:00:16.211Z"
   },
   {
    "duration": -599,
    "start_time": "2021-07-06T07:00:16.212Z"
   },
   {
    "duration": -599,
    "start_time": "2021-07-06T07:00:16.214Z"
   },
   {
    "duration": 33,
    "start_time": "2021-07-06T07:00:53.169Z"
   },
   {
    "duration": 37,
    "start_time": "2021-07-06T07:00:56.020Z"
   },
   {
    "duration": 25,
    "start_time": "2021-07-06T07:00:58.814Z"
   },
   {
    "duration": 13,
    "start_time": "2021-07-06T07:01:01.394Z"
   },
   {
    "duration": 14,
    "start_time": "2021-07-06T07:01:04.006Z"
   },
   {
    "duration": 19,
    "start_time": "2021-07-06T07:01:06.760Z"
   },
   {
    "duration": 116,
    "start_time": "2021-07-06T07:01:09.132Z"
   },
   {
    "duration": 8,
    "start_time": "2021-07-06T07:01:11.363Z"
   },
   {
    "duration": 422,
    "start_time": "2021-07-06T07:01:14.101Z"
   },
   {
    "duration": 36,
    "start_time": "2021-07-06T07:01:19.266Z"
   },
   {
    "duration": 14,
    "start_time": "2021-07-06T07:01:22.410Z"
   },
   {
    "duration": 14,
    "start_time": "2021-07-06T07:01:24.220Z"
   },
   {
    "duration": 17,
    "start_time": "2021-07-06T07:01:26.756Z"
   },
   {
    "duration": 44,
    "start_time": "2021-07-06T07:01:29.102Z"
   },
   {
    "duration": 8,
    "start_time": "2021-07-06T07:01:31.116Z"
   },
   {
    "duration": 61,
    "start_time": "2021-07-06T07:01:34.003Z"
   },
   {
    "duration": 102,
    "start_time": "2021-07-06T07:01:35.199Z"
   },
   {
    "duration": 30,
    "start_time": "2021-07-06T07:19:00.196Z"
   },
   {
    "duration": 32,
    "start_time": "2021-07-06T07:19:58.717Z"
   },
   {
    "duration": 6,
    "start_time": "2021-07-06T07:32:16.856Z"
   },
   {
    "duration": 41,
    "start_time": "2021-07-06T07:36:14.768Z"
   },
   {
    "duration": 41,
    "start_time": "2021-07-06T07:36:23.780Z"
   },
   {
    "duration": 5,
    "start_time": "2021-07-06T07:38:01.157Z"
   },
   {
    "duration": 2023,
    "start_time": "2021-07-06T07:38:11.150Z"
   },
   {
    "duration": 384,
    "start_time": "2021-07-06T07:38:13.175Z"
   },
   {
    "duration": 17,
    "start_time": "2021-07-06T07:38:13.562Z"
   },
   {
    "duration": 21,
    "start_time": "2021-07-06T07:38:13.582Z"
   },
   {
    "duration": 25,
    "start_time": "2021-07-06T07:38:13.605Z"
   },
   {
    "duration": 14,
    "start_time": "2021-07-06T07:38:13.633Z"
   },
   {
    "duration": 13,
    "start_time": "2021-07-06T07:38:13.649Z"
   },
   {
    "duration": 27,
    "start_time": "2021-07-06T07:38:13.665Z"
   },
   {
    "duration": 4,
    "start_time": "2021-07-06T07:38:13.709Z"
   },
   {
    "duration": 34,
    "start_time": "2021-07-06T07:38:13.717Z"
   },
   {
    "duration": 6,
    "start_time": "2021-07-06T07:38:13.753Z"
   },
   {
    "duration": 17,
    "start_time": "2021-07-06T07:38:13.762Z"
   },
   {
    "duration": 36,
    "start_time": "2021-07-06T07:38:13.782Z"
   },
   {
    "duration": 30,
    "start_time": "2021-07-06T07:38:13.821Z"
   },
   {
    "duration": 28,
    "start_time": "2021-07-06T07:38:13.854Z"
   },
   {
    "duration": 55,
    "start_time": "2021-07-06T07:38:13.885Z"
   },
   {
    "duration": 23,
    "start_time": "2021-07-06T07:38:13.943Z"
   },
   {
    "duration": 44,
    "start_time": "2021-07-06T07:38:13.968Z"
   },
   {
    "duration": 11,
    "start_time": "2021-07-06T07:38:14.014Z"
   },
   {
    "duration": 21,
    "start_time": "2021-07-06T07:38:14.028Z"
   },
   {
    "duration": 22,
    "start_time": "2021-07-06T07:38:14.051Z"
   },
   {
    "duration": 7,
    "start_time": "2021-07-06T07:38:14.109Z"
   },
   {
    "duration": 24,
    "start_time": "2021-07-06T07:38:14.118Z"
   },
   {
    "duration": 6,
    "start_time": "2021-07-06T07:38:14.144Z"
   },
   {
    "duration": 15,
    "start_time": "2021-07-06T07:38:14.152Z"
   },
   {
    "duration": 49,
    "start_time": "2021-07-06T07:38:14.169Z"
   },
   {
    "duration": 6,
    "start_time": "2021-07-06T07:38:14.225Z"
   },
   {
    "duration": 41,
    "start_time": "2021-07-06T07:38:14.234Z"
   },
   {
    "duration": 6,
    "start_time": "2021-07-06T07:38:14.277Z"
   },
   {
    "duration": 56,
    "start_time": "2021-07-06T07:38:14.310Z"
   },
   {
    "duration": 4,
    "start_time": "2021-07-06T07:38:14.369Z"
   },
   {
    "duration": 2394,
    "start_time": "2021-07-06T07:38:14.375Z"
   },
   {
    "duration": 14,
    "start_time": "2021-07-06T07:38:16.772Z"
   },
   {
    "duration": 21,
    "start_time": "2021-07-06T07:38:16.789Z"
   },
   {
    "duration": 280,
    "start_time": "2021-07-06T07:38:16.813Z"
   },
   {
    "duration": 300,
    "start_time": "2021-07-06T07:38:17.095Z"
   },
   {
    "duration": 255,
    "start_time": "2021-07-06T07:38:17.397Z"
   },
   {
    "duration": 274,
    "start_time": "2021-07-06T07:38:17.654Z"
   },
   {
    "duration": 282,
    "start_time": "2021-07-06T07:38:17.931Z"
   },
   {
    "duration": 280,
    "start_time": "2021-07-06T07:38:18.215Z"
   },
   {
    "duration": 363,
    "start_time": "2021-07-06T07:38:18.498Z"
   },
   {
    "duration": 251,
    "start_time": "2021-07-06T07:38:18.864Z"
   },
   {
    "duration": 271,
    "start_time": "2021-07-06T07:38:19.118Z"
   },
   {
    "duration": 272,
    "start_time": "2021-07-06T07:38:19.392Z"
   },
   {
    "duration": 265,
    "start_time": "2021-07-06T07:38:19.666Z"
   },
   {
    "duration": 260,
    "start_time": "2021-07-06T07:38:19.934Z"
   },
   {
    "duration": 307,
    "start_time": "2021-07-06T07:38:20.197Z"
   },
   {
    "duration": 290,
    "start_time": "2021-07-06T07:38:20.506Z"
   },
   {
    "duration": 15,
    "start_time": "2021-07-06T07:38:20.798Z"
   },
   {
    "duration": 8,
    "start_time": "2021-07-06T07:38:20.815Z"
   },
   {
    "duration": 297,
    "start_time": "2021-07-06T07:38:20.826Z"
   },
   {
    "duration": 255,
    "start_time": "2021-07-06T07:38:21.126Z"
   },
   {
    "duration": 4,
    "start_time": "2021-07-06T07:38:21.384Z"
   },
   {
    "duration": 61,
    "start_time": "2021-07-06T07:38:21.390Z"
   },
   {
    "duration": 12,
    "start_time": "2021-07-06T07:38:21.454Z"
   },
   {
    "duration": 40,
    "start_time": "2021-07-06T07:38:21.469Z"
   },
   {
    "duration": 34,
    "start_time": "2021-07-06T07:38:21.512Z"
   },
   {
    "duration": 36,
    "start_time": "2021-07-06T07:38:21.548Z"
   },
   {
    "duration": 25,
    "start_time": "2021-07-06T07:38:21.610Z"
   },
   {
    "duration": 13,
    "start_time": "2021-07-06T07:38:21.637Z"
   },
   {
    "duration": 14,
    "start_time": "2021-07-06T07:38:21.653Z"
   },
   {
    "duration": 53,
    "start_time": "2021-07-06T07:38:21.669Z"
   },
   {
    "duration": 151,
    "start_time": "2021-07-06T07:38:21.724Z"
   },
   {
    "duration": 8,
    "start_time": "2021-07-06T07:38:21.877Z"
   },
   {
    "duration": 461,
    "start_time": "2021-07-06T07:38:21.888Z"
   },
   {
    "duration": 57,
    "start_time": "2021-07-06T07:38:22.352Z"
   },
   {
    "duration": 18,
    "start_time": "2021-07-06T07:38:22.411Z"
   },
   {
    "duration": 16,
    "start_time": "2021-07-06T07:38:22.432Z"
   },
   {
    "duration": 58,
    "start_time": "2021-07-06T07:38:22.451Z"
   },
   {
    "duration": 48,
    "start_time": "2021-07-06T07:38:22.512Z"
   },
   {
    "duration": 8,
    "start_time": "2021-07-06T07:38:22.563Z"
   },
   {
    "duration": 86,
    "start_time": "2021-07-06T07:38:22.573Z"
   },
   {
    "duration": 53,
    "start_time": "2021-07-06T07:38:22.662Z"
   },
   {
    "duration": 103,
    "start_time": "2021-07-06T07:38:22.718Z"
   },
   {
    "duration": -583,
    "start_time": "2021-07-06T07:38:23.407Z"
   },
   {
    "duration": -584,
    "start_time": "2021-07-06T07:38:23.410Z"
   },
   {
    "duration": -583,
    "start_time": "2021-07-06T07:38:23.412Z"
   },
   {
    "duration": -582,
    "start_time": "2021-07-06T07:38:23.413Z"
   },
   {
    "duration": 43,
    "start_time": "2021-07-06T07:40:46.328Z"
   },
   {
    "duration": 43,
    "start_time": "2021-07-06T07:40:55.624Z"
   },
   {
    "duration": 13,
    "start_time": "2021-07-06T07:41:19.966Z"
   },
   {
    "duration": 46,
    "start_time": "2021-07-06T07:41:30.328Z"
   },
   {
    "duration": 44,
    "start_time": "2021-07-06T07:41:48.090Z"
   },
   {
    "duration": 42,
    "start_time": "2021-07-06T07:44:51.290Z"
   },
   {
    "duration": 12,
    "start_time": "2021-07-06T08:05:45.078Z"
   },
   {
    "duration": 43,
    "start_time": "2021-07-06T08:06:02.860Z"
   },
   {
    "duration": 8,
    "start_time": "2021-07-06T08:08:06.089Z"
   },
   {
    "duration": 10,
    "start_time": "2021-07-06T08:08:10.507Z"
   },
   {
    "duration": 18,
    "start_time": "2021-07-06T08:08:20.763Z"
   },
   {
    "duration": 506,
    "start_time": "2021-07-06T08:08:34.503Z"
   },
   {
    "duration": 13,
    "start_time": "2021-07-06T08:08:44.606Z"
   },
   {
    "duration": 20,
    "start_time": "2021-07-06T08:09:21.375Z"
   },
   {
    "duration": 17,
    "start_time": "2021-07-06T08:09:27.255Z"
   },
   {
    "duration": 6,
    "start_time": "2021-07-06T08:11:50.082Z"
   },
   {
    "duration": 130,
    "start_time": "2021-07-06T08:14:15.784Z"
   },
   {
    "duration": 367,
    "start_time": "2021-07-06T08:14:20.883Z"
   },
   {
    "duration": 16,
    "start_time": "2021-07-06T08:18:05.724Z"
   },
   {
    "duration": 24,
    "start_time": "2021-07-06T08:18:12.147Z"
   },
   {
    "duration": 21,
    "start_time": "2021-07-06T08:18:24.152Z"
   },
   {
    "duration": 378,
    "start_time": "2021-07-06T08:18:43.877Z"
   },
   {
    "duration": 27,
    "start_time": "2021-07-06T08:18:54.064Z"
   },
   {
    "duration": 14,
    "start_time": "2021-07-06T08:19:22.652Z"
   },
   {
    "duration": 409,
    "start_time": "2021-07-06T08:19:29.115Z"
   },
   {
    "duration": 7,
    "start_time": "2021-07-06T08:19:53.367Z"
   },
   {
    "duration": 14,
    "start_time": "2021-07-06T08:20:16.903Z"
   },
   {
    "duration": 6,
    "start_time": "2021-07-06T08:20:19.013Z"
   },
   {
    "duration": 7,
    "start_time": "2021-07-06T08:20:33.963Z"
   },
   {
    "duration": 10,
    "start_time": "2021-07-06T08:21:47.605Z"
   },
   {
    "duration": 167,
    "start_time": "2021-07-06T08:31:31.940Z"
   },
   {
    "duration": 6,
    "start_time": "2021-07-06T08:45:31.358Z"
   },
   {
    "duration": 17,
    "start_time": "2021-07-06T08:48:45.171Z"
   },
   {
    "duration": 25,
    "start_time": "2021-07-06T08:49:45.742Z"
   },
   {
    "duration": 17,
    "start_time": "2021-07-06T08:49:56.596Z"
   },
   {
    "duration": 18,
    "start_time": "2021-07-06T08:50:15.149Z"
   },
   {
    "duration": 15,
    "start_time": "2021-07-06T08:50:53.343Z"
   },
   {
    "duration": 17,
    "start_time": "2021-07-06T08:51:19.092Z"
   },
   {
    "duration": 444,
    "start_time": "2021-07-06T09:04:53.257Z"
   },
   {
    "duration": 317,
    "start_time": "2021-07-06T09:05:05.546Z"
   },
   {
    "duration": 1484,
    "start_time": "2021-07-06T09:05:45.270Z"
   },
   {
    "duration": 351,
    "start_time": "2021-07-06T09:06:03.388Z"
   },
   {
    "duration": 336,
    "start_time": "2021-07-06T09:06:16.183Z"
   },
   {
    "duration": 391,
    "start_time": "2021-07-06T09:06:42.291Z"
   },
   {
    "duration": 229,
    "start_time": "2021-07-06T09:06:53.284Z"
   },
   {
    "duration": 252,
    "start_time": "2021-07-06T09:07:19.231Z"
   },
   {
    "duration": 364,
    "start_time": "2021-07-06T09:07:49.597Z"
   },
   {
    "duration": 411,
    "start_time": "2021-07-06T09:09:20.755Z"
   },
   {
    "duration": 327,
    "start_time": "2021-07-06T09:11:37.702Z"
   },
   {
    "duration": 412,
    "start_time": "2021-07-06T09:12:54.187Z"
   },
   {
    "duration": 659,
    "start_time": "2021-07-06T09:13:29.860Z"
   },
   {
    "duration": 156,
    "start_time": "2021-07-06T09:14:02.471Z"
   },
   {
    "duration": 1465,
    "start_time": "2021-07-06T09:44:33.111Z"
   },
   {
    "duration": 437,
    "start_time": "2021-07-06T09:44:47.261Z"
   },
   {
    "duration": 407,
    "start_time": "2021-07-06T09:44:51.174Z"
   },
   {
    "duration": 403,
    "start_time": "2021-07-06T09:44:58.734Z"
   },
   {
    "duration": 674,
    "start_time": "2021-07-06T09:45:49.873Z"
   },
   {
    "duration": 68,
    "start_time": "2021-07-06T09:46:09.212Z"
   },
   {
    "duration": 450,
    "start_time": "2021-07-06T09:46:34.833Z"
   },
   {
    "duration": 382,
    "start_time": "2021-07-06T09:46:40.212Z"
   },
   {
    "duration": 56,
    "start_time": "2021-07-06T09:47:37.002Z"
   },
   {
    "duration": 149,
    "start_time": "2021-07-06T09:47:55.432Z"
   },
   {
    "duration": 374,
    "start_time": "2021-07-06T09:48:29.262Z"
   },
   {
    "duration": 477,
    "start_time": "2021-07-06T09:50:51.349Z"
   },
   {
    "duration": 479,
    "start_time": "2021-07-06T09:50:57.216Z"
   },
   {
    "duration": 536,
    "start_time": "2021-07-06T09:53:50.246Z"
   },
   {
    "duration": 5583,
    "start_time": "2021-07-06T09:53:57.820Z"
   },
   {
    "duration": 487,
    "start_time": "2021-07-06T09:54:16.340Z"
   },
   {
    "duration": 4254,
    "start_time": "2021-07-06T09:54:38.250Z"
   },
   {
    "duration": 108,
    "start_time": "2021-07-06T09:54:49.977Z"
   },
   {
    "duration": 59,
    "start_time": "2021-07-06T09:56:05.785Z"
   },
   {
    "duration": 60,
    "start_time": "2021-07-06T09:56:15.527Z"
   },
   {
    "duration": 55,
    "start_time": "2021-07-06T09:56:26.456Z"
   },
   {
    "duration": 107,
    "start_time": "2021-07-06T09:56:39.477Z"
   },
   {
    "duration": 55,
    "start_time": "2021-07-06T09:56:43.248Z"
   },
   {
    "duration": 446,
    "start_time": "2021-07-06T09:57:10.248Z"
   },
   {
    "duration": 232,
    "start_time": "2021-07-06T09:57:38.535Z"
   },
   {
    "duration": 263,
    "start_time": "2021-07-06T09:58:51.513Z"
   },
   {
    "duration": 370,
    "start_time": "2021-07-06T09:59:11.641Z"
   },
   {
    "duration": 1611,
    "start_time": "2021-07-06T10:00:18.939Z"
   },
   {
    "duration": 1396,
    "start_time": "2021-07-06T10:00:37.617Z"
   },
   {
    "duration": 1042,
    "start_time": "2021-07-06T10:00:45.791Z"
   },
   {
    "duration": 1080,
    "start_time": "2021-07-06T10:03:21.511Z"
   },
   {
    "duration": 1186,
    "start_time": "2021-07-06T10:03:36.336Z"
   },
   {
    "duration": 6,
    "start_time": "2021-07-06T10:24:44.370Z"
   },
   {
    "duration": 37,
    "start_time": "2021-07-06T10:25:10.809Z"
   },
   {
    "duration": 16,
    "start_time": "2021-07-06T10:25:40.557Z"
   },
   {
    "duration": 2154,
    "start_time": "2021-07-06T10:42:52.558Z"
   },
   {
    "duration": 460,
    "start_time": "2021-07-06T10:42:54.716Z"
   },
   {
    "duration": 20,
    "start_time": "2021-07-06T10:42:55.179Z"
   },
   {
    "duration": 41,
    "start_time": "2021-07-06T10:42:55.202Z"
   },
   {
    "duration": 18,
    "start_time": "2021-07-06T10:42:55.246Z"
   },
   {
    "duration": 32,
    "start_time": "2021-07-06T10:42:55.267Z"
   },
   {
    "duration": 25,
    "start_time": "2021-07-06T10:42:55.301Z"
   },
   {
    "duration": 31,
    "start_time": "2021-07-06T10:42:55.331Z"
   },
   {
    "duration": 8,
    "start_time": "2021-07-06T10:42:55.367Z"
   },
   {
    "duration": 54,
    "start_time": "2021-07-06T10:42:55.378Z"
   },
   {
    "duration": 6,
    "start_time": "2021-07-06T10:42:55.435Z"
   },
   {
    "duration": 28,
    "start_time": "2021-07-06T10:42:55.444Z"
   },
   {
    "duration": 11,
    "start_time": "2021-07-06T10:42:55.476Z"
   },
   {
    "duration": 50,
    "start_time": "2021-07-06T10:42:55.490Z"
   },
   {
    "duration": 27,
    "start_time": "2021-07-06T10:42:55.543Z"
   },
   {
    "duration": 79,
    "start_time": "2021-07-06T10:42:55.573Z"
   },
   {
    "duration": 33,
    "start_time": "2021-07-06T10:42:55.655Z"
   },
   {
    "duration": 45,
    "start_time": "2021-07-06T10:42:55.691Z"
   },
   {
    "duration": 14,
    "start_time": "2021-07-06T10:42:55.738Z"
   },
   {
    "duration": 55,
    "start_time": "2021-07-06T10:42:55.754Z"
   },
   {
    "duration": 30,
    "start_time": "2021-07-06T10:42:55.813Z"
   },
   {
    "duration": 6,
    "start_time": "2021-07-06T10:42:55.846Z"
   },
   {
    "duration": 18,
    "start_time": "2021-07-06T10:42:55.859Z"
   },
   {
    "duration": 7,
    "start_time": "2021-07-06T10:42:55.912Z"
   },
   {
    "duration": 24,
    "start_time": "2021-07-06T10:42:55.922Z"
   },
   {
    "duration": 16,
    "start_time": "2021-07-06T10:42:55.948Z"
   },
   {
    "duration": 5,
    "start_time": "2021-07-06T10:42:55.966Z"
   },
   {
    "duration": 75,
    "start_time": "2021-07-06T10:42:55.973Z"
   },
   {
    "duration": 6,
    "start_time": "2021-07-06T10:42:56.050Z"
   },
   {
    "duration": 86,
    "start_time": "2021-07-06T10:42:56.058Z"
   },
   {
    "duration": 5,
    "start_time": "2021-07-06T10:42:56.146Z"
   },
   {
    "duration": 2609,
    "start_time": "2021-07-06T10:42:56.153Z"
   },
   {
    "duration": 15,
    "start_time": "2021-07-06T10:42:58.764Z"
   },
   {
    "duration": 9,
    "start_time": "2021-07-06T10:42:58.782Z"
   },
   {
    "duration": 333,
    "start_time": "2021-07-06T10:42:58.811Z"
   },
   {
    "duration": 276,
    "start_time": "2021-07-06T10:42:59.146Z"
   },
   {
    "duration": 276,
    "start_time": "2021-07-06T10:42:59.425Z"
   },
   {
    "duration": 283,
    "start_time": "2021-07-06T10:42:59.708Z"
   },
   {
    "duration": 315,
    "start_time": "2021-07-06T10:42:59.994Z"
   },
   {
    "duration": 302,
    "start_time": "2021-07-06T10:43:00.312Z"
   },
   {
    "duration": 512,
    "start_time": "2021-07-06T10:43:00.617Z"
   },
   {
    "duration": 359,
    "start_time": "2021-07-06T10:43:01.133Z"
   },
   {
    "duration": 314,
    "start_time": "2021-07-06T10:43:01.495Z"
   },
   {
    "duration": 280,
    "start_time": "2021-07-06T10:43:01.812Z"
   },
   {
    "duration": 334,
    "start_time": "2021-07-06T10:43:02.096Z"
   },
   {
    "duration": 265,
    "start_time": "2021-07-06T10:43:02.432Z"
   },
   {
    "duration": 329,
    "start_time": "2021-07-06T10:43:02.699Z"
   },
   {
    "duration": 300,
    "start_time": "2021-07-06T10:43:03.031Z"
   },
   {
    "duration": 12,
    "start_time": "2021-07-06T10:43:03.334Z"
   },
   {
    "duration": 45,
    "start_time": "2021-07-06T10:43:03.349Z"
   },
   {
    "duration": 278,
    "start_time": "2021-07-06T10:43:03.396Z"
   },
   {
    "duration": 278,
    "start_time": "2021-07-06T10:43:03.678Z"
   },
   {
    "duration": 4,
    "start_time": "2021-07-06T10:43:03.959Z"
   },
   {
    "duration": 69,
    "start_time": "2021-07-06T10:43:03.965Z"
   },
   {
    "duration": 13,
    "start_time": "2021-07-06T10:43:04.037Z"
   },
   {
    "duration": 28,
    "start_time": "2021-07-06T10:43:04.053Z"
   },
   {
    "duration": 54,
    "start_time": "2021-07-06T10:43:04.084Z"
   },
   {
    "duration": 37,
    "start_time": "2021-07-06T10:43:04.141Z"
   },
   {
    "duration": 52,
    "start_time": "2021-07-06T10:43:04.181Z"
   },
   {
    "duration": 14,
    "start_time": "2021-07-06T10:43:04.236Z"
   },
   {
    "duration": 13,
    "start_time": "2021-07-06T10:43:04.253Z"
   },
   {
    "duration": 53,
    "start_time": "2021-07-06T10:43:04.268Z"
   },
   {
    "duration": 134,
    "start_time": "2021-07-06T10:43:04.323Z"
   },
   {
    "duration": 8,
    "start_time": "2021-07-06T10:43:04.459Z"
   },
   {
    "duration": 458,
    "start_time": "2021-07-06T10:43:04.469Z"
   },
   {
    "duration": 1145,
    "start_time": "2021-07-06T10:43:04.930Z"
   },
   {
    "duration": 57,
    "start_time": "2021-07-06T10:43:06.077Z"
   },
   {
    "duration": 14,
    "start_time": "2021-07-06T10:43:06.142Z"
   },
   {
    "duration": 21,
    "start_time": "2021-07-06T10:43:06.159Z"
   },
   {
    "duration": 43,
    "start_time": "2021-07-06T10:43:06.183Z"
   },
   {
    "duration": 47,
    "start_time": "2021-07-06T10:43:06.228Z"
   },
   {
    "duration": 8,
    "start_time": "2021-07-06T10:43:06.278Z"
   },
   {
    "duration": 63,
    "start_time": "2021-07-06T10:43:06.309Z"
   },
   {
    "duration": 290,
    "start_time": "2021-07-06T10:43:06.375Z"
   },
   {
    "duration": 67,
    "start_time": "2021-07-06T10:43:06.668Z"
   },
   {
    "duration": 13,
    "start_time": "2021-07-06T10:43:06.737Z"
   },
   {
    "duration": 15,
    "start_time": "2021-07-06T10:43:06.753Z"
   },
   {
    "duration": 11,
    "start_time": "2021-07-06T10:43:06.770Z"
   },
   {
    "duration": 46,
    "start_time": "2021-07-06T10:43:06.784Z"
   },
   {
    "duration": 19,
    "start_time": "2021-07-06T10:43:06.833Z"
   },
   {
    "duration": 27,
    "start_time": "2021-07-06T10:51:02.340Z"
   },
   {
    "duration": 17,
    "start_time": "2021-07-06T10:52:02.815Z"
   },
   {
    "duration": 552,
    "start_time": "2021-07-06T10:52:24.402Z"
   },
   {
    "duration": 18,
    "start_time": "2021-07-06T10:52:34.510Z"
   },
   {
    "duration": 17,
    "start_time": "2021-07-06T10:52:45.941Z"
   },
   {
    "duration": 15,
    "start_time": "2021-07-06T10:53:09.279Z"
   },
   {
    "duration": 403,
    "start_time": "2021-07-06T10:55:01.880Z"
   },
   {
    "duration": 265,
    "start_time": "2021-07-06T10:55:16.266Z"
   },
   {
    "duration": 291,
    "start_time": "2021-07-06T10:57:40.695Z"
   },
   {
    "duration": 1552,
    "start_time": "2021-07-06T10:59:36.360Z"
   },
   {
    "duration": 1451,
    "start_time": "2021-07-06T10:59:39.307Z"
   },
   {
    "duration": 1459,
    "start_time": "2021-07-06T10:59:42.829Z"
   },
   {
    "duration": 1092,
    "start_time": "2021-07-06T10:59:57.430Z"
   },
   {
    "duration": 971,
    "start_time": "2021-07-06T11:01:06.302Z"
   },
   {
    "duration": 1507,
    "start_time": "2021-07-06T11:04:17.809Z"
   },
   {
    "duration": 355,
    "start_time": "2021-07-06T11:04:29.624Z"
   },
   {
    "duration": 117,
    "start_time": "2021-07-06T11:04:43.275Z"
   },
   {
    "duration": 12,
    "start_time": "2021-07-06T11:04:49.743Z"
   },
   {
    "duration": 13,
    "start_time": "2021-07-06T11:04:58.841Z"
   },
   {
    "duration": 20,
    "start_time": "2021-07-06T11:05:07.311Z"
   },
   {
    "duration": 313,
    "start_time": "2021-07-06T11:06:20.035Z"
   },
   {
    "duration": 303,
    "start_time": "2021-07-06T11:06:32.077Z"
   },
   {
    "duration": 318,
    "start_time": "2021-07-06T11:08:08.775Z"
   },
   {
    "duration": 200,
    "start_time": "2021-07-06T11:08:41.827Z"
   },
   {
    "duration": 18,
    "start_time": "2021-07-06T11:09:46.499Z"
   },
   {
    "duration": 4,
    "start_time": "2021-07-06T11:37:33.251Z"
   },
   {
    "duration": 5,
    "start_time": "2021-07-06T11:37:56.084Z"
   },
   {
    "duration": 274,
    "start_time": "2021-07-06T11:38:00.508Z"
   },
   {
    "duration": 247,
    "start_time": "2021-07-06T11:38:14.151Z"
   },
   {
    "duration": 263,
    "start_time": "2021-07-06T11:38:28.811Z"
   },
   {
    "duration": 268,
    "start_time": "2021-07-06T11:38:37.667Z"
   },
   {
    "duration": 258,
    "start_time": "2021-07-06T11:39:02.828Z"
   },
   {
    "duration": 376,
    "start_time": "2021-07-06T11:40:20.729Z"
   },
   {
    "duration": 4,
    "start_time": "2021-07-06T11:40:55.094Z"
   },
   {
    "duration": 257,
    "start_time": "2021-07-06T11:41:05.768Z"
   },
   {
    "duration": 244,
    "start_time": "2021-07-06T11:41:13.701Z"
   },
   {
    "duration": 3,
    "start_time": "2021-07-06T11:42:02.747Z"
   },
   {
    "duration": 272,
    "start_time": "2021-07-06T11:42:09.137Z"
   },
   {
    "duration": 395,
    "start_time": "2021-07-06T11:42:53.342Z"
   },
   {
    "duration": 4,
    "start_time": "2021-07-06T11:43:23.017Z"
   },
   {
    "duration": 246,
    "start_time": "2021-07-06T11:43:24.855Z"
   },
   {
    "duration": 259,
    "start_time": "2021-07-06T11:43:48.342Z"
   },
   {
    "duration": 264,
    "start_time": "2021-07-06T11:44:22.066Z"
   },
   {
    "duration": 3,
    "start_time": "2021-07-06T11:45:13.141Z"
   },
   {
    "duration": 248,
    "start_time": "2021-07-06T11:45:30.327Z"
   },
   {
    "duration": 247,
    "start_time": "2021-07-06T11:45:42.393Z"
   },
   {
    "duration": 422,
    "start_time": "2021-07-06T11:49:29.649Z"
   },
   {
    "duration": 390,
    "start_time": "2021-07-06T11:49:59.204Z"
   },
   {
    "duration": 5,
    "start_time": "2021-07-06T11:50:14.880Z"
   },
   {
    "duration": 5,
    "start_time": "2021-07-06T11:50:20.673Z"
   },
   {
    "duration": 5,
    "start_time": "2021-07-06T11:50:29.075Z"
   },
   {
    "duration": 3,
    "start_time": "2021-07-06T11:50:58.300Z"
   },
   {
    "duration": 372,
    "start_time": "2021-07-06T11:51:04.936Z"
   },
   {
    "duration": 353,
    "start_time": "2021-07-06T11:51:26.331Z"
   },
   {
    "duration": 344,
    "start_time": "2021-07-06T11:51:38.226Z"
   },
   {
    "duration": 358,
    "start_time": "2021-07-06T11:52:26.574Z"
   },
   {
    "duration": 322,
    "start_time": "2021-07-06T11:53:52.912Z"
   },
   {
    "duration": 364,
    "start_time": "2021-07-06T11:54:02.305Z"
   },
   {
    "duration": 4,
    "start_time": "2021-07-06T11:54:32.035Z"
   },
   {
    "duration": 3,
    "start_time": "2021-07-06T11:54:40.225Z"
   },
   {
    "duration": 810,
    "start_time": "2021-07-06T11:55:53.508Z"
   },
   {
    "duration": 4,
    "start_time": "2021-07-06T11:56:06.409Z"
   },
   {
    "duration": 263,
    "start_time": "2021-07-06T11:56:34.158Z"
   },
   {
    "duration": 6,
    "start_time": "2021-07-06T11:56:45.968Z"
   },
   {
    "duration": 4,
    "start_time": "2021-07-06T11:56:54.678Z"
   },
   {
    "duration": 252,
    "start_time": "2021-07-06T11:57:16.032Z"
   },
   {
    "duration": 241,
    "start_time": "2021-07-06T11:57:19.891Z"
   },
   {
    "duration": 239,
    "start_time": "2021-07-06T11:57:23.119Z"
   },
   {
    "duration": 251,
    "start_time": "2021-07-06T11:57:26.327Z"
   },
   {
    "duration": 259,
    "start_time": "2021-07-06T11:57:32.615Z"
   },
   {
    "duration": 344,
    "start_time": "2021-07-06T11:57:37.124Z"
   },
   {
    "duration": 260,
    "start_time": "2021-07-06T11:57:43.649Z"
   },
   {
    "duration": 246,
    "start_time": "2021-07-06T11:57:52.836Z"
   },
   {
    "duration": 426,
    "start_time": "2021-07-06T11:57:56.190Z"
   },
   {
    "duration": 4,
    "start_time": "2021-07-06T11:59:13.419Z"
   },
   {
    "duration": 445,
    "start_time": "2021-07-06T12:00:00.247Z"
   },
   {
    "duration": 270,
    "start_time": "2021-07-06T12:00:46.344Z"
   },
   {
    "duration": 417,
    "start_time": "2021-07-06T12:00:57.866Z"
   },
   {
    "duration": 6,
    "start_time": "2021-07-06T12:01:18.286Z"
   },
   {
    "duration": 4,
    "start_time": "2021-07-06T12:01:36.976Z"
   },
   {
    "duration": 261,
    "start_time": "2021-07-06T12:01:40.355Z"
   },
   {
    "duration": 255,
    "start_time": "2021-07-06T12:02:11.047Z"
   },
   {
    "duration": 373,
    "start_time": "2021-07-06T12:02:20.036Z"
   },
   {
    "duration": 3,
    "start_time": "2021-07-06T12:02:37.074Z"
   },
   {
    "duration": 275,
    "start_time": "2021-07-06T12:02:39.964Z"
   },
   {
    "duration": 253,
    "start_time": "2021-07-06T12:02:43.563Z"
   },
   {
    "duration": 21,
    "start_time": "2021-07-06T12:02:47.641Z"
   },
   {
    "duration": 2235,
    "start_time": "2021-07-06T12:03:26.671Z"
   },
   {
    "duration": 510,
    "start_time": "2021-07-06T12:03:28.910Z"
   },
   {
    "duration": 20,
    "start_time": "2021-07-06T12:03:29.424Z"
   },
   {
    "duration": 27,
    "start_time": "2021-07-06T12:03:29.447Z"
   },
   {
    "duration": 48,
    "start_time": "2021-07-06T12:03:29.477Z"
   },
   {
    "duration": 5,
    "start_time": "2021-07-06T12:03:29.528Z"
   },
   {
    "duration": 17,
    "start_time": "2021-07-06T12:03:29.536Z"
   },
   {
    "duration": 19,
    "start_time": "2021-07-06T12:03:29.557Z"
   },
   {
    "duration": 12,
    "start_time": "2021-07-06T12:03:29.579Z"
   },
   {
    "duration": 33,
    "start_time": "2021-07-06T12:03:29.613Z"
   },
   {
    "duration": 6,
    "start_time": "2021-07-06T12:03:29.649Z"
   },
   {
    "duration": 26,
    "start_time": "2021-07-06T12:03:29.658Z"
   },
   {
    "duration": 9,
    "start_time": "2021-07-06T12:03:29.709Z"
   },
   {
    "duration": 32,
    "start_time": "2021-07-06T12:03:29.720Z"
   },
   {
    "duration": 20,
    "start_time": "2021-07-06T12:03:29.754Z"
   },
   {
    "duration": 70,
    "start_time": "2021-07-06T12:03:29.776Z"
   },
   {
    "duration": 23,
    "start_time": "2021-07-06T12:03:29.849Z"
   },
   {
    "duration": 55,
    "start_time": "2021-07-06T12:03:29.874Z"
   },
   {
    "duration": 12,
    "start_time": "2021-07-06T12:03:29.931Z"
   },
   {
    "duration": 22,
    "start_time": "2021-07-06T12:03:29.946Z"
   },
   {
    "duration": 60,
    "start_time": "2021-07-06T12:03:29.971Z"
   },
   {
    "duration": 10,
    "start_time": "2021-07-06T12:03:30.034Z"
   },
   {
    "duration": 25,
    "start_time": "2021-07-06T12:03:30.050Z"
   },
   {
    "duration": 29,
    "start_time": "2021-07-06T12:03:30.079Z"
   },
   {
    "duration": 12,
    "start_time": "2021-07-06T12:03:30.112Z"
   },
   {
    "duration": 46,
    "start_time": "2021-07-06T12:03:30.133Z"
   },
   {
    "duration": 6,
    "start_time": "2021-07-06T12:03:30.181Z"
   },
   {
    "duration": 51,
    "start_time": "2021-07-06T12:03:30.190Z"
   },
   {
    "duration": 7,
    "start_time": "2021-07-06T12:03:30.243Z"
   },
   {
    "duration": 100,
    "start_time": "2021-07-06T12:03:30.252Z"
   },
   {
    "duration": 6,
    "start_time": "2021-07-06T12:03:30.354Z"
   },
   {
    "duration": 2539,
    "start_time": "2021-07-06T12:03:30.363Z"
   },
   {
    "duration": 17,
    "start_time": "2021-07-06T12:03:32.912Z"
   },
   {
    "duration": 4,
    "start_time": "2021-07-06T12:03:32.933Z"
   },
   {
    "duration": 7,
    "start_time": "2021-07-06T12:03:32.941Z"
   },
   {
    "duration": 318,
    "start_time": "2021-07-06T12:03:32.951Z"
   },
   {
    "duration": 260,
    "start_time": "2021-07-06T12:03:33.272Z"
   },
   {
    "duration": 260,
    "start_time": "2021-07-06T12:03:33.535Z"
   },
   {
    "duration": 280,
    "start_time": "2021-07-06T12:03:33.798Z"
   },
   {
    "duration": 299,
    "start_time": "2021-07-06T12:03:34.080Z"
   },
   {
    "duration": 277,
    "start_time": "2021-07-06T12:03:34.381Z"
   },
   {
    "duration": 3,
    "start_time": "2021-07-06T12:03:34.661Z"
   },
   {
    "duration": 408,
    "start_time": "2021-07-06T12:03:34.666Z"
   },
   {
    "duration": 3,
    "start_time": "2021-07-06T12:03:35.077Z"
   },
   {
    "duration": 287,
    "start_time": "2021-07-06T12:03:35.083Z"
   },
   {
    "duration": 279,
    "start_time": "2021-07-06T12:03:35.373Z"
   },
   {
    "duration": 281,
    "start_time": "2021-07-06T12:03:35.655Z"
   },
   {
    "duration": 4,
    "start_time": "2021-07-06T12:03:35.938Z"
   },
   {
    "duration": 284,
    "start_time": "2021-07-06T12:03:35.944Z"
   },
   {
    "duration": 280,
    "start_time": "2021-07-06T12:03:36.231Z"
   },
   {
    "duration": 324,
    "start_time": "2021-07-06T12:03:36.514Z"
   },
   {
    "duration": 299,
    "start_time": "2021-07-06T12:03:36.841Z"
   },
   {
    "duration": 10,
    "start_time": "2021-07-06T12:03:37.143Z"
   },
   {
    "duration": 12,
    "start_time": "2021-07-06T12:03:37.156Z"
   },
   {
    "duration": 714,
    "start_time": "2021-07-06T12:03:37.171Z"
   },
   {
    "duration": -693,
    "start_time": "2021-07-06T12:03:38.582Z"
   },
   {
    "duration": -696,
    "start_time": "2021-07-06T12:03:38.586Z"
   },
   {
    "duration": -696,
    "start_time": "2021-07-06T12:03:38.588Z"
   },
   {
    "duration": -696,
    "start_time": "2021-07-06T12:03:38.591Z"
   },
   {
    "duration": -695,
    "start_time": "2021-07-06T12:03:38.592Z"
   },
   {
    "duration": -696,
    "start_time": "2021-07-06T12:03:38.594Z"
   },
   {
    "duration": -696,
    "start_time": "2021-07-06T12:03:38.596Z"
   },
   {
    "duration": -697,
    "start_time": "2021-07-06T12:03:38.598Z"
   },
   {
    "duration": -697,
    "start_time": "2021-07-06T12:03:38.600Z"
   },
   {
    "duration": -697,
    "start_time": "2021-07-06T12:03:38.602Z"
   },
   {
    "duration": -698,
    "start_time": "2021-07-06T12:03:38.604Z"
   },
   {
    "duration": -698,
    "start_time": "2021-07-06T12:03:38.606Z"
   },
   {
    "duration": -698,
    "start_time": "2021-07-06T12:03:38.608Z"
   },
   {
    "duration": -698,
    "start_time": "2021-07-06T12:03:38.610Z"
   },
   {
    "duration": -699,
    "start_time": "2021-07-06T12:03:38.612Z"
   },
   {
    "duration": -700,
    "start_time": "2021-07-06T12:03:38.614Z"
   },
   {
    "duration": -700,
    "start_time": "2021-07-06T12:03:38.616Z"
   },
   {
    "duration": -702,
    "start_time": "2021-07-06T12:03:38.619Z"
   },
   {
    "duration": -703,
    "start_time": "2021-07-06T12:03:38.621Z"
   },
   {
    "duration": -704,
    "start_time": "2021-07-06T12:03:38.623Z"
   },
   {
    "duration": -703,
    "start_time": "2021-07-06T12:03:38.624Z"
   },
   {
    "duration": -714,
    "start_time": "2021-07-06T12:03:38.636Z"
   },
   {
    "duration": -716,
    "start_time": "2021-07-06T12:03:38.639Z"
   },
   {
    "duration": -717,
    "start_time": "2021-07-06T12:03:38.641Z"
   },
   {
    "duration": -719,
    "start_time": "2021-07-06T12:03:38.644Z"
   },
   {
    "duration": -718,
    "start_time": "2021-07-06T12:03:38.645Z"
   },
   {
    "duration": -719,
    "start_time": "2021-07-06T12:03:38.647Z"
   },
   {
    "duration": -720,
    "start_time": "2021-07-06T12:03:38.649Z"
   },
   {
    "duration": -720,
    "start_time": "2021-07-06T12:03:38.650Z"
   },
   {
    "duration": -720,
    "start_time": "2021-07-06T12:03:38.652Z"
   },
   {
    "duration": -720,
    "start_time": "2021-07-06T12:03:38.654Z"
   },
   {
    "duration": -719,
    "start_time": "2021-07-06T12:03:38.655Z"
   },
   {
    "duration": -719,
    "start_time": "2021-07-06T12:03:38.657Z"
   },
   {
    "duration": -719,
    "start_time": "2021-07-06T12:03:38.659Z"
   },
   {
    "duration": 2083,
    "start_time": "2021-07-06T12:04:48.588Z"
   },
   {
    "duration": 548,
    "start_time": "2021-07-06T12:04:50.673Z"
   },
   {
    "duration": 31,
    "start_time": "2021-07-06T12:04:51.225Z"
   },
   {
    "duration": 32,
    "start_time": "2021-07-06T12:04:51.260Z"
   },
   {
    "duration": 38,
    "start_time": "2021-07-06T12:04:51.295Z"
   },
   {
    "duration": 5,
    "start_time": "2021-07-06T12:04:51.336Z"
   },
   {
    "duration": 12,
    "start_time": "2021-07-06T12:04:51.344Z"
   },
   {
    "duration": 66,
    "start_time": "2021-07-06T12:04:51.360Z"
   },
   {
    "duration": 5,
    "start_time": "2021-07-06T12:04:51.431Z"
   },
   {
    "duration": 31,
    "start_time": "2021-07-06T12:04:51.440Z"
   },
   {
    "duration": 6,
    "start_time": "2021-07-06T12:04:51.474Z"
   },
   {
    "duration": 44,
    "start_time": "2021-07-06T12:04:51.483Z"
   },
   {
    "duration": 8,
    "start_time": "2021-07-06T12:04:51.530Z"
   },
   {
    "duration": 67,
    "start_time": "2021-07-06T12:04:51.540Z"
   },
   {
    "duration": 24,
    "start_time": "2021-07-06T12:04:51.618Z"
   },
   {
    "duration": 41,
    "start_time": "2021-07-06T12:04:51.645Z"
   },
   {
    "duration": 53,
    "start_time": "2021-07-06T12:04:51.690Z"
   },
   {
    "duration": 27,
    "start_time": "2021-07-06T12:04:51.747Z"
   },
   {
    "duration": 39,
    "start_time": "2021-07-06T12:04:51.777Z"
   },
   {
    "duration": 23,
    "start_time": "2021-07-06T12:04:51.819Z"
   },
   {
    "duration": 35,
    "start_time": "2021-07-06T12:04:51.845Z"
   },
   {
    "duration": 45,
    "start_time": "2021-07-06T12:04:51.883Z"
   },
   {
    "duration": 18,
    "start_time": "2021-07-06T12:04:51.935Z"
   },
   {
    "duration": 6,
    "start_time": "2021-07-06T12:04:51.958Z"
   },
   {
    "duration": 23,
    "start_time": "2021-07-06T12:04:51.967Z"
   },
   {
    "duration": 19,
    "start_time": "2021-07-06T12:04:52.011Z"
   },
   {
    "duration": 7,
    "start_time": "2021-07-06T12:04:52.033Z"
   },
   {
    "duration": 73,
    "start_time": "2021-07-06T12:04:52.043Z"
   },
   {
    "duration": 8,
    "start_time": "2021-07-06T12:04:52.119Z"
   },
   {
    "duration": 99,
    "start_time": "2021-07-06T12:04:52.130Z"
   },
   {
    "duration": 5,
    "start_time": "2021-07-06T12:04:52.232Z"
   },
   {
    "duration": 2534,
    "start_time": "2021-07-06T12:04:52.240Z"
   },
   {
    "duration": 15,
    "start_time": "2021-07-06T12:04:54.776Z"
   },
   {
    "duration": 10,
    "start_time": "2021-07-06T12:04:54.809Z"
   },
   {
    "duration": 21,
    "start_time": "2021-07-06T12:04:54.822Z"
   },
   {
    "duration": 292,
    "start_time": "2021-07-06T12:04:54.845Z"
   },
   {
    "duration": 270,
    "start_time": "2021-07-06T12:04:55.140Z"
   },
   {
    "duration": 260,
    "start_time": "2021-07-06T12:04:55.413Z"
   },
   {
    "duration": 273,
    "start_time": "2021-07-06T12:04:55.676Z"
   },
   {
    "duration": 285,
    "start_time": "2021-07-06T12:04:55.951Z"
   },
   {
    "duration": 428,
    "start_time": "2021-07-06T12:04:56.239Z"
   },
   {
    "duration": 4,
    "start_time": "2021-07-06T12:04:56.671Z"
   },
   {
    "duration": 378,
    "start_time": "2021-07-06T12:04:56.678Z"
   },
   {
    "duration": 4,
    "start_time": "2021-07-06T12:04:57.058Z"
   },
   {
    "duration": 319,
    "start_time": "2021-07-06T12:04:57.064Z"
   },
   {
    "duration": 281,
    "start_time": "2021-07-06T12:04:57.386Z"
   },
   {
    "duration": 275,
    "start_time": "2021-07-06T12:04:57.670Z"
   },
   {
    "duration": 4,
    "start_time": "2021-07-06T12:04:57.947Z"
   },
   {
    "duration": 371,
    "start_time": "2021-07-06T12:04:57.953Z"
   },
   {
    "duration": 267,
    "start_time": "2021-07-06T12:04:58.326Z"
   },
   {
    "duration": 303,
    "start_time": "2021-07-06T12:04:58.595Z"
   },
   {
    "duration": 285,
    "start_time": "2021-07-06T12:04:58.901Z"
   },
   {
    "duration": 20,
    "start_time": "2021-07-06T12:04:59.188Z"
   },
   {
    "duration": 18,
    "start_time": "2021-07-06T12:04:59.211Z"
   },
   {
    "duration": 286,
    "start_time": "2021-07-06T12:04:59.231Z"
   },
   {
    "duration": 270,
    "start_time": "2021-07-06T12:04:59.520Z"
   },
   {
    "duration": 4,
    "start_time": "2021-07-06T12:04:59.793Z"
   },
   {
    "duration": 74,
    "start_time": "2021-07-06T12:04:59.799Z"
   },
   {
    "duration": 13,
    "start_time": "2021-07-06T12:04:59.875Z"
   },
   {
    "duration": 21,
    "start_time": "2021-07-06T12:04:59.891Z"
   },
   {
    "duration": 5,
    "start_time": "2021-07-06T12:04:59.914Z"
   },
   {
    "duration": 21,
    "start_time": "2021-07-06T12:04:59.922Z"
   },
   {
    "duration": 28,
    "start_time": "2021-07-06T12:04:59.945Z"
   },
   {
    "duration": 51,
    "start_time": "2021-07-06T12:04:59.975Z"
   },
   {
    "duration": 36,
    "start_time": "2021-07-06T12:05:00.028Z"
   },
   {
    "duration": 56,
    "start_time": "2021-07-06T12:05:00.066Z"
   },
   {
    "duration": 14,
    "start_time": "2021-07-06T12:05:00.124Z"
   },
   {
    "duration": 100,
    "start_time": "2021-07-06T12:05:00.146Z"
   },
   {
    "duration": 57,
    "start_time": "2021-07-06T12:05:00.248Z"
   },
   {
    "duration": 224,
    "start_time": "2021-07-06T12:05:00.308Z"
   },
   {
    "duration": 8,
    "start_time": "2021-07-06T12:05:00.534Z"
   },
   {
    "duration": 500,
    "start_time": "2021-07-06T12:05:00.544Z"
   },
   {
    "duration": 1065,
    "start_time": "2021-07-06T12:05:01.048Z"
   },
   {
    "duration": 215,
    "start_time": "2021-07-06T12:05:02.116Z"
   },
   {
    "duration": 15,
    "start_time": "2021-07-06T12:05:02.333Z"
   },
   {
    "duration": 78,
    "start_time": "2021-07-06T12:05:02.351Z"
   },
   {
    "duration": 17,
    "start_time": "2021-07-06T12:05:02.431Z"
   },
   {
    "duration": 56,
    "start_time": "2021-07-06T12:05:02.450Z"
   },
   {
    "duration": 41,
    "start_time": "2021-07-06T12:05:02.509Z"
   },
   {
    "duration": 110,
    "start_time": "2021-07-06T12:05:02.553Z"
   },
   {
    "duration": 8,
    "start_time": "2021-07-06T12:05:02.666Z"
   },
   {
    "duration": 105,
    "start_time": "2021-07-06T12:05:02.677Z"
   },
   {
    "duration": 266,
    "start_time": "2021-07-06T12:05:02.784Z"
   },
   {
    "duration": 73,
    "start_time": "2021-07-06T12:05:03.053Z"
   },
   {
    "duration": 15,
    "start_time": "2021-07-06T12:05:03.128Z"
   },
   {
    "duration": 141,
    "start_time": "2021-07-06T12:05:03.145Z"
   },
   {
    "duration": 24,
    "start_time": "2021-07-06T12:05:03.288Z"
   },
   {
    "duration": 37,
    "start_time": "2021-07-06T12:05:03.315Z"
   },
   {
    "duration": 37,
    "start_time": "2021-07-06T12:05:03.355Z"
   },
   {
    "duration": 116,
    "start_time": "2021-07-06T13:21:13.655Z"
   },
   {
    "duration": 46,
    "start_time": "2021-07-06T13:21:19.944Z"
   },
   {
    "duration": 218,
    "start_time": "2021-07-06T13:25:53.008Z"
   },
   {
    "duration": 7,
    "start_time": "2021-07-06T13:25:59.346Z"
   },
   {
    "duration": 8,
    "start_time": "2021-07-06T13:26:14.625Z"
   },
   {
    "duration": 11,
    "start_time": "2021-07-06T13:26:42.037Z"
   },
   {
    "duration": 994,
    "start_time": "2021-07-06T13:26:51.218Z"
   },
   {
    "duration": 5,
    "start_time": "2021-07-06T13:27:08.269Z"
   },
   {
    "duration": 452,
    "start_time": "2021-07-06T13:27:19.177Z"
   },
   {
    "duration": 1146,
    "start_time": "2021-07-06T13:27:41.154Z"
   },
   {
    "duration": 202,
    "start_time": "2021-07-06T13:28:39.342Z"
   },
   {
    "duration": 2210,
    "start_time": "2021-07-06T13:29:21.127Z"
   },
   {
    "duration": 1172,
    "start_time": "2021-07-06T13:29:27.054Z"
   },
   {
    "duration": 16,
    "start_time": "2021-07-06T13:30:00.172Z"
   },
   {
    "duration": 16,
    "start_time": "2021-07-06T13:31:05.843Z"
   },
   {
    "duration": 8,
    "start_time": "2021-07-06T13:38:05.782Z"
   },
   {
    "duration": 63,
    "start_time": "2021-07-06T13:38:09.980Z"
   },
   {
    "duration": 720,
    "start_time": "2021-07-06T13:41:19.114Z"
   },
   {
    "duration": 471,
    "start_time": "2021-07-06T13:42:13.408Z"
   },
   {
    "duration": 453,
    "start_time": "2021-07-06T13:42:42.139Z"
   },
   {
    "duration": 10,
    "start_time": "2021-07-06T13:50:33.379Z"
   },
   {
    "duration": 10,
    "start_time": "2021-07-06T13:54:51.013Z"
   },
   {
    "duration": 12,
    "start_time": "2021-07-06T13:55:13.810Z"
   },
   {
    "duration": 13,
    "start_time": "2021-07-06T13:55:26.405Z"
   },
   {
    "duration": 18,
    "start_time": "2021-07-06T13:56:50.586Z"
   },
   {
    "duration": 313,
    "start_time": "2021-07-06T15:10:17.237Z"
   },
   {
    "duration": 6,
    "start_time": "2021-07-06T15:10:21.571Z"
   },
   {
    "duration": 56,
    "start_time": "2021-07-06T15:12:18.817Z"
   },
   {
    "duration": 34,
    "start_time": "2021-07-06T15:12:23.616Z"
   },
   {
    "duration": 376,
    "start_time": "2021-07-06T15:14:20.810Z"
   },
   {
    "duration": 356,
    "start_time": "2021-07-06T15:14:27.719Z"
   },
   {
    "duration": 36,
    "start_time": "2021-07-06T15:14:54.156Z"
   },
   {
    "duration": 362,
    "start_time": "2021-07-06T15:19:26.775Z"
   },
   {
    "duration": 382,
    "start_time": "2021-07-06T15:20:35.175Z"
   },
   {
    "duration": 38,
    "start_time": "2021-07-06T15:20:46.353Z"
   },
   {
    "duration": 13,
    "start_time": "2021-07-06T15:22:36.079Z"
   },
   {
    "duration": 356,
    "start_time": "2021-07-06T15:23:03.945Z"
   },
   {
    "duration": 352,
    "start_time": "2021-07-06T15:24:15.410Z"
   },
   {
    "duration": 381,
    "start_time": "2021-07-06T15:24:21.141Z"
   },
   {
    "duration": 19,
    "start_time": "2021-07-06T15:24:37.288Z"
   },
   {
    "duration": 19,
    "start_time": "2021-07-06T15:24:40.250Z"
   },
   {
    "duration": 1914,
    "start_time": "2021-07-06T17:31:16.254Z"
   },
   {
    "duration": 445,
    "start_time": "2021-07-06T17:31:18.171Z"
   },
   {
    "duration": 20,
    "start_time": "2021-07-06T17:31:18.620Z"
   },
   {
    "duration": 36,
    "start_time": "2021-07-06T17:31:18.644Z"
   },
   {
    "duration": 22,
    "start_time": "2021-07-06T17:31:18.683Z"
   },
   {
    "duration": 5,
    "start_time": "2021-07-06T17:31:18.708Z"
   },
   {
    "duration": 41,
    "start_time": "2021-07-06T17:31:18.716Z"
   },
   {
    "duration": 14,
    "start_time": "2021-07-06T17:31:18.761Z"
   },
   {
    "duration": 4,
    "start_time": "2021-07-06T17:31:18.779Z"
   },
   {
    "duration": 26,
    "start_time": "2021-07-06T17:31:18.787Z"
   },
   {
    "duration": 45,
    "start_time": "2021-07-06T17:31:18.815Z"
   },
   {
    "duration": 15,
    "start_time": "2021-07-06T17:31:18.862Z"
   },
   {
    "duration": 9,
    "start_time": "2021-07-06T17:31:18.880Z"
   },
   {
    "duration": 26,
    "start_time": "2021-07-06T17:31:18.891Z"
   },
   {
    "duration": 18,
    "start_time": "2021-07-06T17:31:18.957Z"
   },
   {
    "duration": 32,
    "start_time": "2021-07-06T17:31:18.978Z"
   },
   {
    "duration": 53,
    "start_time": "2021-07-06T17:31:19.013Z"
   },
   {
    "duration": 19,
    "start_time": "2021-07-06T17:31:19.069Z"
   },
   {
    "duration": 12,
    "start_time": "2021-07-06T17:31:19.091Z"
   },
   {
    "duration": 62,
    "start_time": "2021-07-06T17:31:19.105Z"
   },
   {
    "duration": 22,
    "start_time": "2021-07-06T17:31:19.169Z"
   },
   {
    "duration": 5,
    "start_time": "2021-07-06T17:31:19.193Z"
   },
   {
    "duration": 55,
    "start_time": "2021-07-06T17:31:19.205Z"
   },
   {
    "duration": 6,
    "start_time": "2021-07-06T17:31:19.264Z"
   },
   {
    "duration": 12,
    "start_time": "2021-07-06T17:31:19.273Z"
   },
   {
    "duration": 17,
    "start_time": "2021-07-06T17:31:19.287Z"
   },
   {
    "duration": 5,
    "start_time": "2021-07-06T17:31:19.306Z"
   },
   {
    "duration": 77,
    "start_time": "2021-07-06T17:31:19.314Z"
   },
   {
    "duration": 7,
    "start_time": "2021-07-06T17:31:19.393Z"
   },
   {
    "duration": 101,
    "start_time": "2021-07-06T17:31:19.402Z"
   },
   {
    "duration": 6,
    "start_time": "2021-07-06T17:31:19.506Z"
   },
   {
    "duration": 2351,
    "start_time": "2021-07-06T17:31:19.515Z"
   },
   {
    "duration": 14,
    "start_time": "2021-07-06T17:31:21.868Z"
   },
   {
    "duration": 4,
    "start_time": "2021-07-06T17:31:21.885Z"
   },
   {
    "duration": 7,
    "start_time": "2021-07-06T17:31:21.892Z"
   },
   {
    "duration": 382,
    "start_time": "2021-07-06T17:31:21.901Z"
   },
   {
    "duration": 329,
    "start_time": "2021-07-06T17:31:22.286Z"
   },
   {
    "duration": 347,
    "start_time": "2021-07-06T17:31:22.618Z"
   },
   {
    "duration": 247,
    "start_time": "2021-07-06T17:31:22.968Z"
   },
   {
    "duration": 271,
    "start_time": "2021-07-06T17:31:23.218Z"
   },
   {
    "duration": 266,
    "start_time": "2021-07-06T17:31:23.492Z"
   },
   {
    "duration": 346,
    "start_time": "2021-07-06T17:31:23.761Z"
   },
   {
    "duration": 4,
    "start_time": "2021-07-06T17:31:24.109Z"
   },
   {
    "duration": 255,
    "start_time": "2021-07-06T17:31:24.115Z"
   },
   {
    "duration": 347,
    "start_time": "2021-07-06T17:31:24.372Z"
   },
   {
    "duration": 261,
    "start_time": "2021-07-06T17:31:24.722Z"
   },
   {
    "duration": 103,
    "start_time": "2021-07-06T17:31:24.985Z"
   },
   {
    "duration": -495,
    "start_time": "2021-07-06T17:31:25.587Z"
   },
   {
    "duration": -496,
    "start_time": "2021-07-06T17:31:25.589Z"
   },
   {
    "duration": -497,
    "start_time": "2021-07-06T17:31:25.591Z"
   },
   {
    "duration": -497,
    "start_time": "2021-07-06T17:31:25.593Z"
   },
   {
    "duration": -497,
    "start_time": "2021-07-06T17:31:25.594Z"
   },
   {
    "duration": -498,
    "start_time": "2021-07-06T17:31:25.596Z"
   },
   {
    "duration": -498,
    "start_time": "2021-07-06T17:31:25.598Z"
   },
   {
    "duration": -499,
    "start_time": "2021-07-06T17:31:25.600Z"
   },
   {
    "duration": -500,
    "start_time": "2021-07-06T17:31:25.603Z"
   },
   {
    "duration": -501,
    "start_time": "2021-07-06T17:31:25.605Z"
   },
   {
    "duration": -501,
    "start_time": "2021-07-06T17:31:25.607Z"
   },
   {
    "duration": -509,
    "start_time": "2021-07-06T17:31:25.616Z"
   },
   {
    "duration": -511,
    "start_time": "2021-07-06T17:31:25.619Z"
   },
   {
    "duration": -512,
    "start_time": "2021-07-06T17:31:25.621Z"
   },
   {
    "duration": -513,
    "start_time": "2021-07-06T17:31:25.623Z"
   },
   {
    "duration": -513,
    "start_time": "2021-07-06T17:31:25.625Z"
   },
   {
    "duration": -514,
    "start_time": "2021-07-06T17:31:25.627Z"
   },
   {
    "duration": -514,
    "start_time": "2021-07-06T17:31:25.628Z"
   },
   {
    "duration": -515,
    "start_time": "2021-07-06T17:31:25.630Z"
   },
   {
    "duration": -516,
    "start_time": "2021-07-06T17:31:25.632Z"
   },
   {
    "duration": -517,
    "start_time": "2021-07-06T17:31:25.634Z"
   },
   {
    "duration": -516,
    "start_time": "2021-07-06T17:31:25.635Z"
   },
   {
    "duration": -524,
    "start_time": "2021-07-06T17:31:25.644Z"
   },
   {
    "duration": -526,
    "start_time": "2021-07-06T17:31:25.647Z"
   },
   {
    "duration": -527,
    "start_time": "2021-07-06T17:31:25.649Z"
   },
   {
    "duration": -527,
    "start_time": "2021-07-06T17:31:25.650Z"
   },
   {
    "duration": -529,
    "start_time": "2021-07-06T17:31:25.653Z"
   },
   {
    "duration": -530,
    "start_time": "2021-07-06T17:31:25.655Z"
   },
   {
    "duration": -531,
    "start_time": "2021-07-06T17:31:25.657Z"
   },
   {
    "duration": -531,
    "start_time": "2021-07-06T17:31:25.659Z"
   },
   {
    "duration": -531,
    "start_time": "2021-07-06T17:31:25.660Z"
   },
   {
    "duration": -532,
    "start_time": "2021-07-06T17:31:25.662Z"
   },
   {
    "duration": -533,
    "start_time": "2021-07-06T17:31:25.664Z"
   },
   {
    "duration": -517,
    "start_time": "2021-07-06T17:31:25.673Z"
   },
   {
    "duration": -519,
    "start_time": "2021-07-06T17:31:25.676Z"
   },
   {
    "duration": -519,
    "start_time": "2021-07-06T17:31:25.678Z"
   },
   {
    "duration": -519,
    "start_time": "2021-07-06T17:31:25.680Z"
   },
   {
    "duration": 2098,
    "start_time": "2021-07-06T17:34:10.394Z"
   },
   {
    "duration": 483,
    "start_time": "2021-07-06T20:08:44.951Z"
   },
   {
    "duration": 2094,
    "start_time": "2021-07-07T09:30:38.254Z"
   },
   {
    "duration": 427,
    "start_time": "2021-07-07T09:30:40.351Z"
   },
   {
    "duration": 19,
    "start_time": "2021-07-07T09:30:40.781Z"
   },
   {
    "duration": 35,
    "start_time": "2021-07-07T09:30:40.802Z"
   },
   {
    "duration": 17,
    "start_time": "2021-07-07T09:30:40.839Z"
   },
   {
    "duration": 26,
    "start_time": "2021-07-07T09:30:40.859Z"
   },
   {
    "duration": 17,
    "start_time": "2021-07-07T09:30:40.888Z"
   },
   {
    "duration": 24,
    "start_time": "2021-07-07T09:30:40.908Z"
   },
   {
    "duration": 14,
    "start_time": "2021-07-07T09:30:40.936Z"
   },
   {
    "duration": 32,
    "start_time": "2021-07-07T09:30:40.953Z"
   },
   {
    "duration": 6,
    "start_time": "2021-07-07T09:30:40.987Z"
   },
   {
    "duration": 15,
    "start_time": "2021-07-07T09:30:40.995Z"
   },
   {
    "duration": 10,
    "start_time": "2021-07-07T09:30:41.012Z"
   },
   {
    "duration": 24,
    "start_time": "2021-07-07T09:30:41.024Z"
   },
   {
    "duration": 49,
    "start_time": "2021-07-07T09:30:41.050Z"
   },
   {
    "duration": 33,
    "start_time": "2021-07-07T09:30:41.102Z"
   },
   {
    "duration": 52,
    "start_time": "2021-07-07T09:30:41.138Z"
   },
   {
    "duration": 20,
    "start_time": "2021-07-07T09:30:41.192Z"
   },
   {
    "duration": 10,
    "start_time": "2021-07-07T09:30:41.214Z"
   },
   {
    "duration": 19,
    "start_time": "2021-07-07T09:30:41.227Z"
   },
   {
    "duration": 56,
    "start_time": "2021-07-07T09:30:41.249Z"
   },
   {
    "duration": 6,
    "start_time": "2021-07-07T09:30:41.307Z"
   },
   {
    "duration": 26,
    "start_time": "2021-07-07T09:30:41.316Z"
   },
   {
    "duration": 6,
    "start_time": "2021-07-07T09:30:41.344Z"
   },
   {
    "duration": 43,
    "start_time": "2021-07-07T09:30:41.352Z"
   },
   {
    "duration": 21,
    "start_time": "2021-07-07T09:30:41.397Z"
   },
   {
    "duration": 6,
    "start_time": "2021-07-07T09:30:41.425Z"
   },
   {
    "duration": 66,
    "start_time": "2021-07-07T09:30:41.435Z"
   },
   {
    "duration": 6,
    "start_time": "2021-07-07T09:30:41.504Z"
   },
   {
    "duration": 78,
    "start_time": "2021-07-07T09:30:41.512Z"
   },
   {
    "duration": 6,
    "start_time": "2021-07-07T09:30:41.593Z"
   },
   {
    "duration": 2270,
    "start_time": "2021-07-07T09:30:41.602Z"
   },
   {
    "duration": 21,
    "start_time": "2021-07-07T09:30:43.875Z"
   },
   {
    "duration": 7,
    "start_time": "2021-07-07T09:30:43.899Z"
   },
   {
    "duration": 19,
    "start_time": "2021-07-07T09:30:43.908Z"
   },
   {
    "duration": 279,
    "start_time": "2021-07-07T09:30:43.930Z"
   },
   {
    "duration": 239,
    "start_time": "2021-07-07T09:30:44.212Z"
   },
   {
    "duration": 265,
    "start_time": "2021-07-07T09:30:44.454Z"
   },
   {
    "duration": 251,
    "start_time": "2021-07-07T09:30:44.723Z"
   },
   {
    "duration": 280,
    "start_time": "2021-07-07T09:30:44.978Z"
   },
   {
    "duration": 260,
    "start_time": "2021-07-07T09:30:45.261Z"
   },
   {
    "duration": 341,
    "start_time": "2021-07-07T09:30:45.523Z"
   },
   {
    "duration": 4,
    "start_time": "2021-07-07T09:30:45.866Z"
   },
   {
    "duration": 259,
    "start_time": "2021-07-07T09:30:45.872Z"
   },
   {
    "duration": 261,
    "start_time": "2021-07-07T09:30:46.134Z"
   },
   {
    "duration": 261,
    "start_time": "2021-07-07T09:30:46.397Z"
   },
   {
    "duration": 254,
    "start_time": "2021-07-07T09:30:46.661Z"
   },
   {
    "duration": 251,
    "start_time": "2021-07-07T09:30:46.918Z"
   },
   {
    "duration": 295,
    "start_time": "2021-07-07T09:30:47.172Z"
   },
   {
    "duration": 283,
    "start_time": "2021-07-07T09:30:47.470Z"
   },
   {
    "duration": 10,
    "start_time": "2021-07-07T09:30:47.756Z"
   },
   {
    "duration": 8,
    "start_time": "2021-07-07T09:30:47.785Z"
   },
   {
    "duration": 265,
    "start_time": "2021-07-07T09:30:47.796Z"
   },
   {
    "duration": 351,
    "start_time": "2021-07-07T09:30:48.063Z"
   },
   {
    "duration": 3,
    "start_time": "2021-07-07T09:30:48.417Z"
   },
   {
    "duration": 29,
    "start_time": "2021-07-07T09:30:48.423Z"
   },
   {
    "duration": 63,
    "start_time": "2021-07-07T09:30:48.454Z"
   },
   {
    "duration": 4,
    "start_time": "2021-07-07T09:30:48.519Z"
   },
   {
    "duration": 16,
    "start_time": "2021-07-07T09:30:48.526Z"
   },
   {
    "duration": 13,
    "start_time": "2021-07-07T09:30:48.544Z"
   },
   {
    "duration": 19,
    "start_time": "2021-07-07T09:30:48.586Z"
   },
   {
    "duration": 151,
    "start_time": "2021-07-07T09:30:48.608Z"
   },
   {
    "duration": 8,
    "start_time": "2021-07-07T09:30:48.762Z"
   },
   {
    "duration": 468,
    "start_time": "2021-07-07T09:30:48.772Z"
   },
   {
    "duration": 992,
    "start_time": "2021-07-07T09:30:49.243Z"
   },
   {
    "duration": 425,
    "start_time": "2021-07-07T09:30:50.238Z"
   },
   {
    "duration": 43,
    "start_time": "2021-07-07T09:30:50.665Z"
   },
   {
    "duration": 14,
    "start_time": "2021-07-07T09:30:50.711Z"
   },
   {
    "duration": 15,
    "start_time": "2021-07-07T09:30:50.727Z"
   },
   {
    "duration": 44,
    "start_time": "2021-07-07T09:30:50.745Z"
   },
   {
    "duration": 45,
    "start_time": "2021-07-07T09:30:50.792Z"
   },
   {
    "duration": 7,
    "start_time": "2021-07-07T09:30:50.840Z"
   },
   {
    "duration": 88,
    "start_time": "2021-07-07T09:30:50.849Z"
   },
   {
    "duration": 254,
    "start_time": "2021-07-07T09:30:50.939Z"
   },
   {
    "duration": 196,
    "start_time": "2021-07-07T09:30:51.195Z"
   },
   {
    "duration": 18,
    "start_time": "2021-07-07T09:30:51.395Z"
   },
   {
    "duration": 82,
    "start_time": "2021-07-07T09:30:51.417Z"
   },
   {
    "duration": 15,
    "start_time": "2021-07-07T09:30:51.503Z"
   },
   {
    "duration": 10,
    "start_time": "2021-07-07T09:30:51.521Z"
   },
   {
    "duration": 5,
    "start_time": "2021-07-07T09:30:51.533Z"
   },
   {
    "duration": 16,
    "start_time": "2021-07-07T09:30:51.584Z"
   },
   {
    "duration": 17,
    "start_time": "2021-07-07T09:30:51.602Z"
   },
   {
    "duration": 3,
    "start_time": "2021-07-07T09:30:51.621Z"
   },
   {
    "duration": 7,
    "start_time": "2021-07-07T09:30:51.626Z"
   },
   {
    "duration": 2179,
    "start_time": "2021-07-07T11:35:21.733Z"
   },
   {
    "duration": 671,
    "start_time": "2021-07-07T11:35:23.916Z"
   },
   {
    "duration": 20,
    "start_time": "2021-07-07T11:35:24.590Z"
   },
   {
    "duration": 27,
    "start_time": "2021-07-07T11:35:24.613Z"
   },
   {
    "duration": 45,
    "start_time": "2021-07-07T11:35:24.642Z"
   },
   {
    "duration": 6,
    "start_time": "2021-07-07T11:35:24.689Z"
   },
   {
    "duration": 12,
    "start_time": "2021-07-07T11:35:24.697Z"
   },
   {
    "duration": 18,
    "start_time": "2021-07-07T11:35:24.711Z"
   },
   {
    "duration": 5,
    "start_time": "2021-07-07T11:35:24.733Z"
   },
   {
    "duration": 68,
    "start_time": "2021-07-07T11:35:24.741Z"
   },
   {
    "duration": 6,
    "start_time": "2021-07-07T11:35:24.811Z"
   },
   {
    "duration": 26,
    "start_time": "2021-07-07T11:35:24.820Z"
   },
   {
    "duration": 8,
    "start_time": "2021-07-07T11:35:24.849Z"
   },
   {
    "duration": 51,
    "start_time": "2021-07-07T11:35:24.859Z"
   },
   {
    "duration": 18,
    "start_time": "2021-07-07T11:35:24.912Z"
   },
   {
    "duration": 55,
    "start_time": "2021-07-07T11:35:24.932Z"
   },
   {
    "duration": 25,
    "start_time": "2021-07-07T11:35:24.990Z"
   },
   {
    "duration": 21,
    "start_time": "2021-07-07T11:35:25.018Z"
   },
   {
    "duration": 43,
    "start_time": "2021-07-07T11:35:25.042Z"
   },
   {
    "duration": 24,
    "start_time": "2021-07-07T11:35:25.088Z"
   },
   {
    "duration": 24,
    "start_time": "2021-07-07T11:35:25.114Z"
   },
   {
    "duration": 49,
    "start_time": "2021-07-07T11:35:25.141Z"
   },
   {
    "duration": 20,
    "start_time": "2021-07-07T11:35:25.193Z"
   },
   {
    "duration": 6,
    "start_time": "2021-07-07T11:35:25.215Z"
   },
   {
    "duration": 17,
    "start_time": "2021-07-07T11:35:25.224Z"
   },
   {
    "duration": 50,
    "start_time": "2021-07-07T11:35:25.244Z"
   },
   {
    "duration": 6,
    "start_time": "2021-07-07T11:35:25.302Z"
   },
   {
    "duration": 42,
    "start_time": "2021-07-07T11:35:25.312Z"
   },
   {
    "duration": 30,
    "start_time": "2021-07-07T11:35:25.357Z"
   },
   {
    "duration": 59,
    "start_time": "2021-07-07T11:35:25.390Z"
   },
   {
    "duration": 4,
    "start_time": "2021-07-07T11:35:25.451Z"
   },
   {
    "duration": 2371,
    "start_time": "2021-07-07T11:35:25.485Z"
   },
   {
    "duration": 26,
    "start_time": "2021-07-07T11:35:27.859Z"
   },
   {
    "duration": 4,
    "start_time": "2021-07-07T11:35:27.888Z"
   },
   {
    "duration": 10,
    "start_time": "2021-07-07T11:35:27.894Z"
   },
   {
    "duration": 278,
    "start_time": "2021-07-07T11:35:27.907Z"
   },
   {
    "duration": 258,
    "start_time": "2021-07-07T11:35:28.187Z"
   },
   {
    "duration": 379,
    "start_time": "2021-07-07T11:35:28.448Z"
   },
   {
    "duration": 254,
    "start_time": "2021-07-07T11:35:28.830Z"
   },
   {
    "duration": 276,
    "start_time": "2021-07-07T11:35:29.087Z"
   },
   {
    "duration": 276,
    "start_time": "2021-07-07T11:35:29.365Z"
   },
   {
    "duration": 357,
    "start_time": "2021-07-07T11:35:29.644Z"
   },
   {
    "duration": 4,
    "start_time": "2021-07-07T11:35:30.004Z"
   },
   {
    "duration": 267,
    "start_time": "2021-07-07T11:35:30.011Z"
   },
   {
    "duration": 268,
    "start_time": "2021-07-07T11:35:30.280Z"
   },
   {
    "duration": 269,
    "start_time": "2021-07-07T11:35:30.550Z"
   },
   {
    "duration": 264,
    "start_time": "2021-07-07T11:35:30.822Z"
   },
   {
    "duration": 259,
    "start_time": "2021-07-07T11:35:31.089Z"
   },
   {
    "duration": 309,
    "start_time": "2021-07-07T11:35:31.350Z"
   },
   {
    "duration": 383,
    "start_time": "2021-07-07T11:35:31.661Z"
   },
   {
    "duration": 9,
    "start_time": "2021-07-07T11:35:32.046Z"
   },
   {
    "duration": 29,
    "start_time": "2021-07-07T11:35:32.058Z"
   },
   {
    "duration": 257,
    "start_time": "2021-07-07T11:35:32.090Z"
   },
   {
    "duration": 253,
    "start_time": "2021-07-07T11:35:32.349Z"
   },
   {
    "duration": 4,
    "start_time": "2021-07-07T11:35:32.604Z"
   },
   {
    "duration": 32,
    "start_time": "2021-07-07T11:35:32.610Z"
   },
   {
    "duration": 61,
    "start_time": "2021-07-07T11:35:32.644Z"
   },
   {
    "duration": 5,
    "start_time": "2021-07-07T11:35:32.707Z"
   },
   {
    "duration": 22,
    "start_time": "2021-07-07T11:35:32.715Z"
   },
   {
    "duration": 15,
    "start_time": "2021-07-07T11:35:32.740Z"
   },
   {
    "duration": 44,
    "start_time": "2021-07-07T11:35:32.758Z"
   },
   {
    "duration": 158,
    "start_time": "2021-07-07T11:35:32.805Z"
   },
   {
    "duration": 8,
    "start_time": "2021-07-07T11:35:32.966Z"
   },
   {
    "duration": 463,
    "start_time": "2021-07-07T11:35:32.986Z"
   },
   {
    "duration": 1175,
    "start_time": "2021-07-07T11:35:33.452Z"
   },
   {
    "duration": 442,
    "start_time": "2021-07-07T11:35:34.630Z"
   },
   {
    "duration": 44,
    "start_time": "2021-07-07T11:35:35.075Z"
   },
   {
    "duration": 18,
    "start_time": "2021-07-07T11:35:35.122Z"
   },
   {
    "duration": 47,
    "start_time": "2021-07-07T11:35:35.142Z"
   },
   {
    "duration": 18,
    "start_time": "2021-07-07T11:35:35.192Z"
   },
   {
    "duration": 48,
    "start_time": "2021-07-07T11:35:35.213Z"
   },
   {
    "duration": 30,
    "start_time": "2021-07-07T11:35:35.263Z"
   },
   {
    "duration": 66,
    "start_time": "2021-07-07T11:35:35.296Z"
   },
   {
    "duration": 245,
    "start_time": "2021-07-07T11:35:35.385Z"
   },
   {
    "duration": 213,
    "start_time": "2021-07-07T11:35:35.633Z"
   },
   {
    "duration": 36,
    "start_time": "2021-07-07T11:35:35.849Z"
   },
   {
    "duration": 49,
    "start_time": "2021-07-07T11:35:35.888Z"
   },
   {
    "duration": 13,
    "start_time": "2021-07-07T11:35:35.939Z"
   },
   {
    "duration": 35,
    "start_time": "2021-07-07T11:35:35.954Z"
   },
   {
    "duration": 7,
    "start_time": "2021-07-07T11:35:35.992Z"
   },
   {
    "duration": 17,
    "start_time": "2021-07-07T11:35:36.009Z"
   },
   {
    "duration": 56,
    "start_time": "2021-07-07T11:35:36.029Z"
   },
   {
    "duration": 3,
    "start_time": "2021-07-07T11:35:36.088Z"
   },
   {
    "duration": 9,
    "start_time": "2021-07-07T11:35:36.093Z"
   },
   {
    "duration": 1154,
    "start_time": "2021-07-07T18:53:36.785Z"
   },
   {
    "duration": 1355,
    "start_time": "2021-07-07T18:53:37.941Z"
   },
   {
    "duration": -1584,
    "start_time": "2021-07-07T18:53:40.886Z"
   },
   {
    "duration": -1604,
    "start_time": "2021-07-07T18:53:40.907Z"
   },
   {
    "duration": -1620,
    "start_time": "2021-07-07T18:53:40.924Z"
   },
   {
    "duration": -1642,
    "start_time": "2021-07-07T18:53:40.948Z"
   },
   {
    "duration": -1656,
    "start_time": "2021-07-07T18:53:40.963Z"
   },
   {
    "duration": -1669,
    "start_time": "2021-07-07T18:53:40.978Z"
   },
   {
    "duration": -1685,
    "start_time": "2021-07-07T18:53:40.995Z"
   },
   {
    "duration": -1693,
    "start_time": "2021-07-07T18:53:41.005Z"
   },
   {
    "duration": -1705,
    "start_time": "2021-07-07T18:53:41.018Z"
   },
   {
    "duration": -1726,
    "start_time": "2021-07-07T18:53:41.040Z"
   },
   {
    "duration": -1744,
    "start_time": "2021-07-07T18:53:41.060Z"
   },
   {
    "duration": -1763,
    "start_time": "2021-07-07T18:53:41.080Z"
   },
   {
    "duration": -1776,
    "start_time": "2021-07-07T18:53:41.095Z"
   },
   {
    "duration": -1787,
    "start_time": "2021-07-07T18:53:41.107Z"
   },
   {
    "duration": -1798,
    "start_time": "2021-07-07T18:53:41.120Z"
   },
   {
    "duration": -1810,
    "start_time": "2021-07-07T18:53:41.133Z"
   },
   {
    "duration": -1811,
    "start_time": "2021-07-07T18:53:41.135Z"
   },
   {
    "duration": -1811,
    "start_time": "2021-07-07T18:53:41.137Z"
   },
   {
    "duration": -1812,
    "start_time": "2021-07-07T18:53:41.139Z"
   },
   {
    "duration": -1815,
    "start_time": "2021-07-07T18:53:41.144Z"
   },
   {
    "duration": -1829,
    "start_time": "2021-07-07T18:53:41.159Z"
   },
   {
    "duration": -1834,
    "start_time": "2021-07-07T18:53:41.165Z"
   },
   {
    "duration": -1835,
    "start_time": "2021-07-07T18:53:41.168Z"
   },
   {
    "duration": -1836,
    "start_time": "2021-07-07T18:53:41.170Z"
   },
   {
    "duration": -1836,
    "start_time": "2021-07-07T18:53:41.172Z"
   },
   {
    "duration": -1837,
    "start_time": "2021-07-07T18:53:41.174Z"
   },
   {
    "duration": -1803,
    "start_time": "2021-07-07T18:53:41.187Z"
   },
   {
    "duration": -1809,
    "start_time": "2021-07-07T18:53:41.194Z"
   },
   {
    "duration": -1816,
    "start_time": "2021-07-07T18:53:41.202Z"
   },
   {
    "duration": -1818,
    "start_time": "2021-07-07T18:53:41.205Z"
   },
   {
    "duration": -1819,
    "start_time": "2021-07-07T18:53:41.207Z"
   },
   {
    "duration": -1823,
    "start_time": "2021-07-07T18:53:41.212Z"
   },
   {
    "duration": -1830,
    "start_time": "2021-07-07T18:53:41.221Z"
   },
   {
    "duration": -1840,
    "start_time": "2021-07-07T18:53:41.232Z"
   },
   {
    "duration": -1841,
    "start_time": "2021-07-07T18:53:41.234Z"
   },
   {
    "duration": -1843,
    "start_time": "2021-07-07T18:53:41.236Z"
   },
   {
    "duration": -1845,
    "start_time": "2021-07-07T18:53:41.239Z"
   },
   {
    "duration": -1846,
    "start_time": "2021-07-07T18:53:41.241Z"
   },
   {
    "duration": -1855,
    "start_time": "2021-07-07T18:53:41.251Z"
   },
   {
    "duration": -1859,
    "start_time": "2021-07-07T18:53:41.256Z"
   },
   {
    "duration": -1860,
    "start_time": "2021-07-07T18:53:41.259Z"
   },
   {
    "duration": -1862,
    "start_time": "2021-07-07T18:53:41.261Z"
   },
   {
    "duration": -1862,
    "start_time": "2021-07-07T18:53:41.263Z"
   },
   {
    "duration": -1864,
    "start_time": "2021-07-07T18:53:41.265Z"
   },
   {
    "duration": -1865,
    "start_time": "2021-07-07T18:53:41.267Z"
   },
   {
    "duration": -1866,
    "start_time": "2021-07-07T18:53:41.269Z"
   },
   {
    "duration": -1867,
    "start_time": "2021-07-07T18:53:41.271Z"
   },
   {
    "duration": -1868,
    "start_time": "2021-07-07T18:53:41.273Z"
   },
   {
    "duration": -1869,
    "start_time": "2021-07-07T18:53:41.275Z"
   },
   {
    "duration": -1873,
    "start_time": "2021-07-07T18:53:41.280Z"
   },
   {
    "duration": -1878,
    "start_time": "2021-07-07T18:53:41.286Z"
   },
   {
    "duration": -1879,
    "start_time": "2021-07-07T18:53:41.288Z"
   },
   {
    "duration": -1915,
    "start_time": "2021-07-07T18:53:41.325Z"
   },
   {
    "duration": -1916,
    "start_time": "2021-07-07T18:53:41.327Z"
   },
   {
    "duration": -1917,
    "start_time": "2021-07-07T18:53:41.329Z"
   },
   {
    "duration": -1918,
    "start_time": "2021-07-07T18:53:41.331Z"
   },
   {
    "duration": -1918,
    "start_time": "2021-07-07T18:53:41.332Z"
   },
   {
    "duration": -1920,
    "start_time": "2021-07-07T18:53:41.335Z"
   },
   {
    "duration": -1938,
    "start_time": "2021-07-07T18:53:41.354Z"
   },
   {
    "duration": -1941,
    "start_time": "2021-07-07T18:53:41.358Z"
   },
   {
    "duration": -1949,
    "start_time": "2021-07-07T18:53:41.367Z"
   },
   {
    "duration": -1959,
    "start_time": "2021-07-07T18:53:41.378Z"
   },
   {
    "duration": -1968,
    "start_time": "2021-07-07T18:53:41.388Z"
   },
   {
    "duration": -1971,
    "start_time": "2021-07-07T18:53:41.392Z"
   },
   {
    "duration": -1981,
    "start_time": "2021-07-07T18:53:41.403Z"
   },
   {
    "duration": -1991,
    "start_time": "2021-07-07T18:53:41.414Z"
   },
   {
    "duration": -1999,
    "start_time": "2021-07-07T18:53:41.423Z"
   },
   {
    "duration": -2007,
    "start_time": "2021-07-07T18:53:41.432Z"
   },
   {
    "duration": -2019,
    "start_time": "2021-07-07T18:53:41.444Z"
   },
   {
    "duration": -2030,
    "start_time": "2021-07-07T18:53:41.456Z"
   },
   {
    "duration": -2032,
    "start_time": "2021-07-07T18:53:41.459Z"
   },
   {
    "duration": -2046,
    "start_time": "2021-07-07T18:53:41.473Z"
   },
   {
    "duration": -2059,
    "start_time": "2021-07-07T18:53:41.487Z"
   },
   {
    "duration": -2016,
    "start_time": "2021-07-07T18:53:41.505Z"
   },
   {
    "duration": -2024,
    "start_time": "2021-07-07T18:53:41.515Z"
   },
   {
    "duration": -2026,
    "start_time": "2021-07-07T18:53:41.518Z"
   },
   {
    "duration": -2026,
    "start_time": "2021-07-07T18:53:41.520Z"
   },
   {
    "duration": -2030,
    "start_time": "2021-07-07T18:53:41.525Z"
   },
   {
    "duration": -2048,
    "start_time": "2021-07-07T18:53:41.544Z"
   },
   {
    "duration": -2071,
    "start_time": "2021-07-07T18:53:41.568Z"
   },
   {
    "duration": -2088,
    "start_time": "2021-07-07T18:53:41.586Z"
   },
   {
    "duration": -2109,
    "start_time": "2021-07-07T18:53:41.608Z"
   },
   {
    "duration": 1135,
    "start_time": "2021-07-07T19:02:23.636Z"
   },
   {
    "duration": 1377,
    "start_time": "2021-07-07T19:02:24.773Z"
   },
   {
    "duration": -1564,
    "start_time": "2021-07-07T19:02:27.718Z"
   },
   {
    "duration": -1565,
    "start_time": "2021-07-07T19:02:27.720Z"
   },
   {
    "duration": -1566,
    "start_time": "2021-07-07T19:02:27.722Z"
   },
   {
    "duration": -1567,
    "start_time": "2021-07-07T19:02:27.724Z"
   },
   {
    "duration": -1568,
    "start_time": "2021-07-07T19:02:27.726Z"
   },
   {
    "duration": -1570,
    "start_time": "2021-07-07T19:02:27.729Z"
   },
   {
    "duration": -1572,
    "start_time": "2021-07-07T19:02:27.732Z"
   },
   {
    "duration": -1574,
    "start_time": "2021-07-07T19:02:27.735Z"
   },
   {
    "duration": -1574,
    "start_time": "2021-07-07T19:02:27.736Z"
   },
   {
    "duration": -1575,
    "start_time": "2021-07-07T19:02:27.738Z"
   },
   {
    "duration": -1576,
    "start_time": "2021-07-07T19:02:27.740Z"
   },
   {
    "duration": -1576,
    "start_time": "2021-07-07T19:02:27.742Z"
   },
   {
    "duration": -1577,
    "start_time": "2021-07-07T19:02:27.744Z"
   },
   {
    "duration": -1578,
    "start_time": "2021-07-07T19:02:27.746Z"
   },
   {
    "duration": -1581,
    "start_time": "2021-07-07T19:02:27.750Z"
   },
   {
    "duration": -1584,
    "start_time": "2021-07-07T19:02:27.754Z"
   },
   {
    "duration": -1585,
    "start_time": "2021-07-07T19:02:27.756Z"
   },
   {
    "duration": -1585,
    "start_time": "2021-07-07T19:02:27.758Z"
   },
   {
    "duration": -1586,
    "start_time": "2021-07-07T19:02:27.760Z"
   },
   {
    "duration": -1587,
    "start_time": "2021-07-07T19:02:27.762Z"
   },
   {
    "duration": -1588,
    "start_time": "2021-07-07T19:02:27.764Z"
   },
   {
    "duration": -1590,
    "start_time": "2021-07-07T19:02:27.767Z"
   },
   {
    "duration": -1591,
    "start_time": "2021-07-07T19:02:27.769Z"
   },
   {
    "duration": -1591,
    "start_time": "2021-07-07T19:02:27.771Z"
   },
   {
    "duration": -1592,
    "start_time": "2021-07-07T19:02:27.773Z"
   },
   {
    "duration": -1593,
    "start_time": "2021-07-07T19:02:27.775Z"
   },
   {
    "duration": -1594,
    "start_time": "2021-07-07T19:02:27.777Z"
   },
   {
    "duration": -1593,
    "start_time": "2021-07-07T19:02:27.778Z"
   },
   {
    "duration": -1594,
    "start_time": "2021-07-07T19:02:27.780Z"
   },
   {
    "duration": -1599,
    "start_time": "2021-07-07T19:02:27.785Z"
   },
   {
    "duration": -1599,
    "start_time": "2021-07-07T19:02:27.787Z"
   },
   {
    "duration": -1600,
    "start_time": "2021-07-07T19:02:27.789Z"
   },
   {
    "duration": -1600,
    "start_time": "2021-07-07T19:02:27.790Z"
   },
   {
    "duration": -1601,
    "start_time": "2021-07-07T19:02:27.792Z"
   },
   {
    "duration": -1602,
    "start_time": "2021-07-07T19:02:27.794Z"
   },
   {
    "duration": -1604,
    "start_time": "2021-07-07T19:02:27.797Z"
   },
   {
    "duration": -1608,
    "start_time": "2021-07-07T19:02:27.802Z"
   },
   {
    "duration": -1610,
    "start_time": "2021-07-07T19:02:27.805Z"
   },
   {
    "duration": -1611,
    "start_time": "2021-07-07T19:02:27.807Z"
   },
   {
    "duration": -1612,
    "start_time": "2021-07-07T19:02:27.809Z"
   },
   {
    "duration": -1614,
    "start_time": "2021-07-07T19:02:27.812Z"
   },
   {
    "duration": -1619,
    "start_time": "2021-07-07T19:02:27.818Z"
   },
   {
    "duration": -1620,
    "start_time": "2021-07-07T19:02:27.820Z"
   },
   {
    "duration": -1621,
    "start_time": "2021-07-07T19:02:27.822Z"
   },
   {
    "duration": -1622,
    "start_time": "2021-07-07T19:02:27.824Z"
   },
   {
    "duration": -1622,
    "start_time": "2021-07-07T19:02:27.826Z"
   },
   {
    "duration": -1623,
    "start_time": "2021-07-07T19:02:27.828Z"
   },
   {
    "duration": -1624,
    "start_time": "2021-07-07T19:02:27.830Z"
   },
   {
    "duration": -1625,
    "start_time": "2021-07-07T19:02:27.832Z"
   },
   {
    "duration": -1626,
    "start_time": "2021-07-07T19:02:27.834Z"
   },
   {
    "duration": -1628,
    "start_time": "2021-07-07T19:02:27.836Z"
   },
   {
    "duration": -1630,
    "start_time": "2021-07-07T19:02:27.839Z"
   },
   {
    "duration": -1629,
    "start_time": "2021-07-07T19:02:27.840Z"
   },
   {
    "duration": -1630,
    "start_time": "2021-07-07T19:02:27.842Z"
   },
   {
    "duration": -1630,
    "start_time": "2021-07-07T19:02:27.844Z"
   },
   {
    "duration": -1631,
    "start_time": "2021-07-07T19:02:27.846Z"
   },
   {
    "duration": -1632,
    "start_time": "2021-07-07T19:02:27.848Z"
   },
   {
    "duration": -1634,
    "start_time": "2021-07-07T19:02:27.851Z"
   },
   {
    "duration": -1634,
    "start_time": "2021-07-07T19:02:27.852Z"
   },
   {
    "duration": -1635,
    "start_time": "2021-07-07T19:02:27.854Z"
   },
   {
    "duration": -1636,
    "start_time": "2021-07-07T19:02:27.856Z"
   },
   {
    "duration": -1637,
    "start_time": "2021-07-07T19:02:27.858Z"
   },
   {
    "duration": -1638,
    "start_time": "2021-07-07T19:02:27.860Z"
   },
   {
    "duration": -1639,
    "start_time": "2021-07-07T19:02:27.862Z"
   },
   {
    "duration": -1640,
    "start_time": "2021-07-07T19:02:27.864Z"
   },
   {
    "duration": -1643,
    "start_time": "2021-07-07T19:02:27.868Z"
   },
   {
    "duration": -1586,
    "start_time": "2021-07-07T19:02:27.870Z"
   },
   {
    "duration": -1587,
    "start_time": "2021-07-07T19:02:27.873Z"
   },
   {
    "duration": -1588,
    "start_time": "2021-07-07T19:02:27.875Z"
   },
   {
    "duration": -1591,
    "start_time": "2021-07-07T19:02:27.879Z"
   },
   {
    "duration": -1595,
    "start_time": "2021-07-07T19:02:27.884Z"
   },
   {
    "duration": -1597,
    "start_time": "2021-07-07T19:02:27.887Z"
   },
   {
    "duration": -1599,
    "start_time": "2021-07-07T19:02:27.889Z"
   },
   {
    "duration": -1600,
    "start_time": "2021-07-07T19:02:27.891Z"
   },
   {
    "duration": -1601,
    "start_time": "2021-07-07T19:02:27.893Z"
   },
   {
    "duration": -1602,
    "start_time": "2021-07-07T19:02:27.894Z"
   },
   {
    "duration": -1603,
    "start_time": "2021-07-07T19:02:27.896Z"
   },
   {
    "duration": -1610,
    "start_time": "2021-07-07T19:02:27.904Z"
   },
   {
    "duration": -1613,
    "start_time": "2021-07-07T19:02:27.908Z"
   },
   {
    "duration": -1614,
    "start_time": "2021-07-07T19:02:27.910Z"
   },
   {
    "duration": -1615,
    "start_time": "2021-07-07T19:02:27.912Z"
   },
   {
    "duration": -1615,
    "start_time": "2021-07-07T19:02:27.913Z"
   },
   {
    "duration": -1617,
    "start_time": "2021-07-07T19:02:27.916Z"
   },
   {
    "duration": 4,
    "start_time": "2021-07-07T19:02:49.374Z"
   },
   {
    "duration": 91,
    "start_time": "2021-07-07T19:02:52.948Z"
   },
   {
    "duration": 64,
    "start_time": "2021-07-07T19:02:53.781Z"
   },
   {
    "duration": 90,
    "start_time": "2021-07-07T19:02:57.492Z"
   },
   {
    "duration": 20,
    "start_time": "2021-07-07T19:02:57.964Z"
   },
   {
    "duration": 12,
    "start_time": "2021-07-07T19:02:58.614Z"
   },
   {
    "duration": 4,
    "start_time": "2021-07-07T19:02:59.008Z"
   },
   {
    "duration": 6,
    "start_time": "2021-07-07T19:02:59.582Z"
   },
   {
    "duration": 10,
    "start_time": "2021-07-07T19:02:59.967Z"
   },
   {
    "duration": 4,
    "start_time": "2021-07-07T19:03:01.091Z"
   },
   {
    "duration": 18,
    "start_time": "2021-07-07T19:03:01.285Z"
   },
   {
    "duration": 4,
    "start_time": "2021-07-07T19:03:01.467Z"
   },
   {
    "duration": 10,
    "start_time": "2021-07-07T19:03:01.668Z"
   },
   {
    "duration": 6,
    "start_time": "2021-07-07T19:03:01.843Z"
   },
   {
    "duration": 15,
    "start_time": "2021-07-07T19:03:02.220Z"
   },
   {
    "duration": 13,
    "start_time": "2021-07-07T19:03:02.372Z"
   },
   {
    "duration": 25,
    "start_time": "2021-07-07T19:03:02.538Z"
   },
   {
    "duration": 26,
    "start_time": "2021-07-07T19:03:02.858Z"
   },
   {
    "duration": 20,
    "start_time": "2021-07-07T19:03:03.043Z"
   },
   {
    "duration": 8,
    "start_time": "2021-07-07T19:03:03.517Z"
   },
   {
    "duration": 13,
    "start_time": "2021-07-07T19:03:03.701Z"
   },
   {
    "duration": 15,
    "start_time": "2021-07-07T19:03:03.875Z"
   },
   {
    "duration": 5,
    "start_time": "2021-07-07T19:03:04.040Z"
   },
   {
    "duration": 13,
    "start_time": "2021-07-07T19:03:04.369Z"
   },
   {
    "duration": 5,
    "start_time": "2021-07-07T19:03:04.546Z"
   },
   {
    "duration": 9,
    "start_time": "2021-07-07T19:03:04.899Z"
   },
   {
    "duration": 12,
    "start_time": "2021-07-07T19:03:05.267Z"
   },
   {
    "duration": 5,
    "start_time": "2021-07-07T19:03:05.420Z"
   },
   {
    "duration": 24,
    "start_time": "2021-07-07T19:03:05.947Z"
   },
   {
    "duration": 5,
    "start_time": "2021-07-07T19:03:06.125Z"
   },
   {
    "duration": 41,
    "start_time": "2021-07-07T19:03:06.515Z"
   },
   {
    "duration": 4,
    "start_time": "2021-07-07T19:03:06.711Z"
   },
   {
    "duration": 1317,
    "start_time": "2021-07-07T19:03:06.860Z"
   },
   {
    "duration": 15,
    "start_time": "2021-07-07T19:03:08.179Z"
   },
   {
    "duration": 3,
    "start_time": "2021-07-07T19:03:08.196Z"
   },
   {
    "duration": 5,
    "start_time": "2021-07-07T19:03:08.201Z"
   },
   {
    "duration": 204,
    "start_time": "2021-07-07T19:03:08.207Z"
   },
   {
    "duration": 150,
    "start_time": "2021-07-07T19:03:08.414Z"
   },
   {
    "duration": 158,
    "start_time": "2021-07-07T19:03:08.720Z"
   },
   {
    "duration": 150,
    "start_time": "2021-07-07T19:03:08.884Z"
   },
   {
    "duration": 167,
    "start_time": "2021-07-07T19:03:09.358Z"
   },
   {
    "duration": 212,
    "start_time": "2021-07-07T19:03:09.664Z"
   },
   {
    "duration": 149,
    "start_time": "2021-07-07T19:03:10.267Z"
   },
   {
    "duration": 2,
    "start_time": "2021-07-07T19:03:10.476Z"
   },
   {
    "duration": 151,
    "start_time": "2021-07-07T19:03:10.665Z"
   },
   {
    "duration": 152,
    "start_time": "2021-07-07T19:03:10.995Z"
   },
   {
    "duration": 169,
    "start_time": "2021-07-07T19:03:11.151Z"
   },
   {
    "duration": 172,
    "start_time": "2021-07-07T19:03:11.682Z"
   },
   {
    "duration": 150,
    "start_time": "2021-07-07T19:03:12.044Z"
   },
   {
    "duration": 177,
    "start_time": "2021-07-07T19:03:12.546Z"
   },
   {
    "duration": 174,
    "start_time": "2021-07-07T19:03:12.725Z"
   },
   {
    "duration": 8,
    "start_time": "2021-07-07T19:03:13.061Z"
   },
   {
    "duration": 6,
    "start_time": "2021-07-07T19:03:13.235Z"
   },
   {
    "duration": 151,
    "start_time": "2021-07-07T19:03:13.394Z"
   },
   {
    "duration": 145,
    "start_time": "2021-07-07T19:03:13.571Z"
   },
   {
    "duration": 2,
    "start_time": "2021-07-07T19:03:13.906Z"
   },
   {
    "duration": 16,
    "start_time": "2021-07-07T19:03:14.093Z"
   },
   {
    "duration": 27,
    "start_time": "2021-07-07T19:03:14.835Z"
   },
   {
    "duration": 4,
    "start_time": "2021-07-07T19:03:15.060Z"
   },
   {
    "duration": 11,
    "start_time": "2021-07-07T19:03:15.219Z"
   },
   {
    "duration": 10,
    "start_time": "2021-07-07T19:03:15.416Z"
   },
   {
    "duration": 13,
    "start_time": "2021-07-07T19:03:15.738Z"
   },
   {
    "duration": 63,
    "start_time": "2021-07-07T19:03:15.923Z"
   },
   {
    "duration": 6,
    "start_time": "2021-07-07T19:03:16.106Z"
   },
   {
    "duration": 243,
    "start_time": "2021-07-07T19:03:16.285Z"
   },
   {
    "duration": 568,
    "start_time": "2021-07-07T19:03:16.529Z"
   },
   {
    "duration": 317,
    "start_time": "2021-07-07T19:03:17.099Z"
   },
   {
    "duration": 24,
    "start_time": "2021-07-07T19:03:17.418Z"
   },
   {
    "duration": 10,
    "start_time": "2021-07-07T19:03:17.443Z"
   },
   {
    "duration": 9,
    "start_time": "2021-07-07T19:03:17.454Z"
   },
   {
    "duration": 12,
    "start_time": "2021-07-07T19:03:17.723Z"
   },
   {
    "duration": 27,
    "start_time": "2021-07-07T19:03:17.906Z"
   },
   {
    "duration": 6,
    "start_time": "2021-07-07T19:03:18.106Z"
   },
   {
    "duration": 36,
    "start_time": "2021-07-07T19:03:18.298Z"
   },
   {
    "duration": 144,
    "start_time": "2021-07-07T19:03:18.487Z"
   },
   {
    "duration": 122,
    "start_time": "2021-07-07T19:03:18.889Z"
   },
   {
    "duration": 12,
    "start_time": "2021-07-07T19:03:19.042Z"
   },
   {
    "duration": 27,
    "start_time": "2021-07-07T19:03:19.608Z"
   },
   {
    "duration": 10,
    "start_time": "2021-07-07T19:03:19.846Z"
   },
   {
    "duration": 7,
    "start_time": "2021-07-07T19:03:20.190Z"
   },
   {
    "duration": 4,
    "start_time": "2021-07-07T19:03:20.554Z"
   },
   {
    "duration": 11,
    "start_time": "2021-07-07T19:03:20.762Z"
   },
   {
    "duration": 14,
    "start_time": "2021-07-07T19:03:21.130Z"
   },
   {
    "duration": 2,
    "start_time": "2021-07-07T19:03:21.914Z"
   },
   {
    "duration": 2,
    "start_time": "2021-07-07T19:03:22.672Z"
   },
   {
    "duration": 5,
    "start_time": "2021-07-07T19:17:05.889Z"
   },
   {
    "duration": 11,
    "start_time": "2021-07-07T19:17:12.507Z"
   },
   {
    "duration": 15,
    "start_time": "2021-07-07T19:17:24.035Z"
   },
   {
    "duration": 10,
    "start_time": "2021-07-07T19:17:28.801Z"
   },
   {
    "duration": 215,
    "start_time": "2021-07-07T19:17:33.186Z"
   },
   {
    "duration": 168,
    "start_time": "2021-07-07T19:17:41.248Z"
   },
   {
    "duration": 11,
    "start_time": "2021-07-07T19:17:52.999Z"
   },
   {
    "duration": 275,
    "start_time": "2021-07-07T19:18:14.241Z"
   },
   {
    "duration": 22,
    "start_time": "2021-07-07T19:27:36.930Z"
   },
   {
    "duration": 1185,
    "start_time": "2021-07-07T19:57:48.364Z"
   },
   {
    "duration": 1444,
    "start_time": "2021-07-07T19:57:49.551Z"
   },
   {
    "duration": -1758,
    "start_time": "2021-07-07T19:57:52.759Z"
   },
   {
    "duration": -1759,
    "start_time": "2021-07-07T19:57:52.761Z"
   },
   {
    "duration": -1760,
    "start_time": "2021-07-07T19:57:52.763Z"
   },
   {
    "duration": -1761,
    "start_time": "2021-07-07T19:57:52.766Z"
   },
   {
    "duration": -1762,
    "start_time": "2021-07-07T19:57:52.768Z"
   },
   {
    "duration": -1763,
    "start_time": "2021-07-07T19:57:52.770Z"
   },
   {
    "duration": -1763,
    "start_time": "2021-07-07T19:57:52.772Z"
   },
   {
    "duration": -1764,
    "start_time": "2021-07-07T19:57:52.774Z"
   },
   {
    "duration": -1765,
    "start_time": "2021-07-07T19:57:52.777Z"
   },
   {
    "duration": -1766,
    "start_time": "2021-07-07T19:57:52.779Z"
   },
   {
    "duration": -1766,
    "start_time": "2021-07-07T19:57:52.781Z"
   },
   {
    "duration": -1767,
    "start_time": "2021-07-07T19:57:52.783Z"
   },
   {
    "duration": -1767,
    "start_time": "2021-07-07T19:57:52.785Z"
   },
   {
    "duration": -1769,
    "start_time": "2021-07-07T19:57:52.788Z"
   },
   {
    "duration": -1769,
    "start_time": "2021-07-07T19:57:52.790Z"
   },
   {
    "duration": -1770,
    "start_time": "2021-07-07T19:57:52.792Z"
   },
   {
    "duration": -1771,
    "start_time": "2021-07-07T19:57:52.794Z"
   },
   {
    "duration": -1771,
    "start_time": "2021-07-07T19:57:52.796Z"
   },
   {
    "duration": -1772,
    "start_time": "2021-07-07T19:57:52.798Z"
   },
   {
    "duration": -1773,
    "start_time": "2021-07-07T19:57:52.801Z"
   },
   {
    "duration": -1807,
    "start_time": "2021-07-07T19:57:52.836Z"
   },
   {
    "duration": -1808,
    "start_time": "2021-07-07T19:57:52.839Z"
   },
   {
    "duration": -1809,
    "start_time": "2021-07-07T19:57:52.841Z"
   },
   {
    "duration": -1809,
    "start_time": "2021-07-07T19:57:52.843Z"
   },
   {
    "duration": -1810,
    "start_time": "2021-07-07T19:57:52.845Z"
   },
   {
    "duration": -1810,
    "start_time": "2021-07-07T19:57:52.847Z"
   },
   {
    "duration": -1811,
    "start_time": "2021-07-07T19:57:52.849Z"
   },
   {
    "duration": -1767,
    "start_time": "2021-07-07T19:57:52.852Z"
   },
   {
    "duration": -1768,
    "start_time": "2021-07-07T19:57:52.854Z"
   },
   {
    "duration": -1768,
    "start_time": "2021-07-07T19:57:52.856Z"
   },
   {
    "duration": -1768,
    "start_time": "2021-07-07T19:57:52.858Z"
   },
   {
    "duration": -1769,
    "start_time": "2021-07-07T19:57:52.860Z"
   },
   {
    "duration": -1770,
    "start_time": "2021-07-07T19:57:52.862Z"
   },
   {
    "duration": -1771,
    "start_time": "2021-07-07T19:57:52.865Z"
   },
   {
    "duration": -1772,
    "start_time": "2021-07-07T19:57:52.867Z"
   },
   {
    "duration": -1774,
    "start_time": "2021-07-07T19:57:52.870Z"
   },
   {
    "duration": -1774,
    "start_time": "2021-07-07T19:57:52.872Z"
   },
   {
    "duration": -1776,
    "start_time": "2021-07-07T19:57:52.875Z"
   },
   {
    "duration": -1777,
    "start_time": "2021-07-07T19:57:52.877Z"
   },
   {
    "duration": -1777,
    "start_time": "2021-07-07T19:57:52.879Z"
   },
   {
    "duration": -1778,
    "start_time": "2021-07-07T19:57:52.881Z"
   },
   {
    "duration": -1779,
    "start_time": "2021-07-07T19:57:52.883Z"
   },
   {
    "duration": -1778,
    "start_time": "2021-07-07T19:57:52.884Z"
   },
   {
    "duration": -1778,
    "start_time": "2021-07-07T19:57:52.886Z"
   },
   {
    "duration": -1779,
    "start_time": "2021-07-07T19:57:52.888Z"
   },
   {
    "duration": -1780,
    "start_time": "2021-07-07T19:57:52.890Z"
   },
   {
    "duration": -1824,
    "start_time": "2021-07-07T19:57:52.936Z"
   },
   {
    "duration": -1826,
    "start_time": "2021-07-07T19:57:52.939Z"
   },
   {
    "duration": -1827,
    "start_time": "2021-07-07T19:57:52.941Z"
   },
   {
    "duration": -1829,
    "start_time": "2021-07-07T19:57:52.944Z"
   },
   {
    "duration": -1832,
    "start_time": "2021-07-07T19:57:52.948Z"
   },
   {
    "duration": -1834,
    "start_time": "2021-07-07T19:57:52.951Z"
   },
   {
    "duration": -1836,
    "start_time": "2021-07-07T19:57:52.954Z"
   },
   {
    "duration": -1837,
    "start_time": "2021-07-07T19:57:52.956Z"
   },
   {
    "duration": -1840,
    "start_time": "2021-07-07T19:57:52.960Z"
   },
   {
    "duration": -1841,
    "start_time": "2021-07-07T19:57:52.962Z"
   },
   {
    "duration": -1843,
    "start_time": "2021-07-07T19:57:52.964Z"
   },
   {
    "duration": -1844,
    "start_time": "2021-07-07T19:57:52.966Z"
   },
   {
    "duration": -1845,
    "start_time": "2021-07-07T19:57:52.968Z"
   },
   {
    "duration": -1846,
    "start_time": "2021-07-07T19:57:52.970Z"
   },
   {
    "duration": -1787,
    "start_time": "2021-07-07T19:57:52.972Z"
   },
   {
    "duration": -1788,
    "start_time": "2021-07-07T19:57:52.974Z"
   },
   {
    "duration": -1789,
    "start_time": "2021-07-07T19:57:52.976Z"
   },
   {
    "duration": -1790,
    "start_time": "2021-07-07T19:57:52.979Z"
   },
   {
    "duration": -1791,
    "start_time": "2021-07-07T19:57:52.981Z"
   },
   {
    "duration": -1792,
    "start_time": "2021-07-07T19:57:52.983Z"
   },
   {
    "duration": -1793,
    "start_time": "2021-07-07T19:57:52.985Z"
   },
   {
    "duration": -1794,
    "start_time": "2021-07-07T19:57:52.987Z"
   },
   {
    "duration": -1795,
    "start_time": "2021-07-07T19:57:52.989Z"
   },
   {
    "duration": -1797,
    "start_time": "2021-07-07T19:57:52.992Z"
   },
   {
    "duration": -1798,
    "start_time": "2021-07-07T19:57:52.994Z"
   },
   {
    "duration": -1798,
    "start_time": "2021-07-07T19:57:52.996Z"
   },
   {
    "duration": -1799,
    "start_time": "2021-07-07T19:57:52.998Z"
   },
   {
    "duration": -1800,
    "start_time": "2021-07-07T19:57:53.000Z"
   },
   {
    "duration": -1801,
    "start_time": "2021-07-07T19:57:53.002Z"
   },
   {
    "duration": -1802,
    "start_time": "2021-07-07T19:57:53.004Z"
   },
   {
    "duration": -1804,
    "start_time": "2021-07-07T19:57:53.007Z"
   },
   {
    "duration": -1805,
    "start_time": "2021-07-07T19:57:53.009Z"
   },
   {
    "duration": -1805,
    "start_time": "2021-07-07T19:57:53.010Z"
   },
   {
    "duration": -1806,
    "start_time": "2021-07-07T19:57:53.012Z"
   },
   {
    "duration": -1806,
    "start_time": "2021-07-07T19:57:53.014Z"
   },
   {
    "duration": -1807,
    "start_time": "2021-07-07T19:57:53.016Z"
   },
   {
    "duration": 1981,
    "start_time": "2021-07-08T13:43:09.824Z"
   },
   {
    "duration": 511,
    "start_time": "2021-07-08T13:43:11.807Z"
   },
   {
    "duration": 392,
    "start_time": "2021-07-08T13:43:12.321Z"
   },
   {
    "duration": 28,
    "start_time": "2021-07-08T13:43:12.716Z"
   },
   {
    "duration": 17,
    "start_time": "2021-07-08T13:43:12.746Z"
   },
   {
    "duration": 7,
    "start_time": "2021-07-08T13:43:12.768Z"
   },
   {
    "duration": 15,
    "start_time": "2021-07-08T13:43:12.778Z"
   },
   {
    "duration": 39,
    "start_time": "2021-07-08T13:43:12.796Z"
   },
   {
    "duration": 5,
    "start_time": "2021-07-08T13:43:12.838Z"
   },
   {
    "duration": 44,
    "start_time": "2021-07-08T13:43:12.846Z"
   },
   {
    "duration": 5,
    "start_time": "2021-07-08T13:43:12.892Z"
   },
   {
    "duration": 31,
    "start_time": "2021-07-08T13:43:12.900Z"
   },
   {
    "duration": 8,
    "start_time": "2021-07-08T13:43:12.935Z"
   },
   {
    "duration": 38,
    "start_time": "2021-07-08T13:43:12.946Z"
   },
   {
    "duration": 18,
    "start_time": "2021-07-08T13:43:12.987Z"
   },
   {
    "duration": 33,
    "start_time": "2021-07-08T13:43:13.008Z"
   },
   {
    "duration": 21,
    "start_time": "2021-07-08T13:43:13.067Z"
   },
   {
    "duration": 18,
    "start_time": "2021-07-08T13:43:13.090Z"
   },
   {
    "duration": 10,
    "start_time": "2021-07-08T13:43:13.110Z"
   },
   {
    "duration": 56,
    "start_time": "2021-07-08T13:43:13.122Z"
   },
   {
    "duration": 21,
    "start_time": "2021-07-08T13:43:13.181Z"
   },
   {
    "duration": 6,
    "start_time": "2021-07-08T13:43:13.204Z"
   },
   {
    "duration": 17,
    "start_time": "2021-07-08T13:43:13.216Z"
   },
   {
    "duration": 36,
    "start_time": "2021-07-08T13:43:13.236Z"
   },
   {
    "duration": 12,
    "start_time": "2021-07-08T13:43:13.274Z"
   },
   {
    "duration": 27,
    "start_time": "2021-07-08T13:43:13.288Z"
   },
   {
    "duration": 6,
    "start_time": "2021-07-08T13:43:13.317Z"
   },
   {
    "duration": 71,
    "start_time": "2021-07-08T13:43:13.326Z"
   },
   {
    "duration": 6,
    "start_time": "2021-07-08T13:43:13.400Z"
   },
   {
    "duration": 78,
    "start_time": "2021-07-08T13:43:13.408Z"
   },
   {
    "duration": 5,
    "start_time": "2021-07-08T13:43:13.488Z"
   },
   {
    "duration": 2403,
    "start_time": "2021-07-08T13:43:13.495Z"
   },
   {
    "duration": 12,
    "start_time": "2021-07-08T13:43:15.901Z"
   },
   {
    "duration": 10,
    "start_time": "2021-07-08T13:43:15.916Z"
   },
   {
    "duration": 22,
    "start_time": "2021-07-08T13:43:15.928Z"
   },
   {
    "duration": 272,
    "start_time": "2021-07-08T13:43:15.953Z"
   },
   {
    "duration": 242,
    "start_time": "2021-07-08T13:43:16.229Z"
   },
   {
    "duration": 263,
    "start_time": "2021-07-08T13:43:16.473Z"
   },
   {
    "duration": 240,
    "start_time": "2021-07-08T13:43:16.739Z"
   },
   {
    "duration": 268,
    "start_time": "2021-07-08T13:43:16.981Z"
   },
   {
    "duration": 263,
    "start_time": "2021-07-08T13:43:17.251Z"
   },
   {
    "duration": 334,
    "start_time": "2021-07-08T13:43:17.516Z"
   },
   {
    "duration": 3,
    "start_time": "2021-07-08T13:43:17.853Z"
   },
   {
    "duration": 259,
    "start_time": "2021-07-08T13:43:17.858Z"
   },
   {
    "duration": 263,
    "start_time": "2021-07-08T13:43:18.119Z"
   },
   {
    "duration": 265,
    "start_time": "2021-07-08T13:43:18.384Z"
   },
   {
    "duration": 261,
    "start_time": "2021-07-08T13:43:18.652Z"
   },
   {
    "duration": 241,
    "start_time": "2021-07-08T13:43:18.916Z"
   },
   {
    "duration": 294,
    "start_time": "2021-07-08T13:43:19.166Z"
   },
   {
    "duration": 286,
    "start_time": "2021-07-08T13:43:19.462Z"
   },
   {
    "duration": 18,
    "start_time": "2021-07-08T13:43:19.751Z"
   },
   {
    "duration": 9,
    "start_time": "2021-07-08T13:43:19.772Z"
   },
   {
    "duration": 278,
    "start_time": "2021-07-08T13:43:19.784Z"
   },
   {
    "duration": 253,
    "start_time": "2021-07-08T13:43:20.065Z"
   },
   {
    "duration": 4,
    "start_time": "2021-07-08T13:43:20.320Z"
   },
   {
    "duration": 43,
    "start_time": "2021-07-08T13:43:20.326Z"
   },
   {
    "duration": 36,
    "start_time": "2021-07-08T13:43:20.372Z"
   },
   {
    "duration": 5,
    "start_time": "2021-07-08T13:43:20.410Z"
   },
   {
    "duration": 16,
    "start_time": "2021-07-08T13:43:20.417Z"
   },
   {
    "duration": 41,
    "start_time": "2021-07-08T13:43:20.436Z"
   },
   {
    "duration": 16,
    "start_time": "2021-07-08T13:43:20.480Z"
   },
   {
    "duration": 150,
    "start_time": "2021-07-08T13:43:20.499Z"
   },
   {
    "duration": 7,
    "start_time": "2021-07-08T13:43:20.651Z"
   },
   {
    "duration": 566,
    "start_time": "2021-07-08T13:43:20.661Z"
   },
   {
    "duration": 989,
    "start_time": "2021-07-08T13:43:21.229Z"
   },
   {
    "duration": 429,
    "start_time": "2021-07-08T13:43:22.221Z"
   },
   {
    "duration": 43,
    "start_time": "2021-07-08T13:43:22.653Z"
   },
   {
    "duration": 14,
    "start_time": "2021-07-08T13:43:22.704Z"
   },
   {
    "duration": 16,
    "start_time": "2021-07-08T13:43:22.721Z"
   },
   {
    "duration": 43,
    "start_time": "2021-07-08T13:43:22.740Z"
   },
   {
    "duration": 46,
    "start_time": "2021-07-08T13:43:22.785Z"
   },
   {
    "duration": 8,
    "start_time": "2021-07-08T13:43:22.834Z"
   },
   {
    "duration": 62,
    "start_time": "2021-07-08T13:43:22.868Z"
   },
   {
    "duration": 278,
    "start_time": "2021-07-08T13:43:22.932Z"
   },
   {
    "duration": 201,
    "start_time": "2021-07-08T13:43:23.212Z"
   },
   {
    "duration": 17,
    "start_time": "2021-07-08T13:43:23.416Z"
   },
   {
    "duration": 62,
    "start_time": "2021-07-08T13:43:23.436Z"
   },
   {
    "duration": 13,
    "start_time": "2021-07-08T13:43:23.500Z"
   },
   {
    "duration": 9,
    "start_time": "2021-07-08T13:43:23.516Z"
   },
   {
    "duration": 39,
    "start_time": "2021-07-08T13:43:23.528Z"
   },
   {
    "duration": 15,
    "start_time": "2021-07-08T13:43:23.569Z"
   },
   {
    "duration": 25,
    "start_time": "2021-07-08T13:43:23.586Z"
   },
   {
    "duration": 2,
    "start_time": "2021-07-08T13:43:23.613Z"
   },
   {
    "duration": 26,
    "start_time": "2021-07-08T13:43:23.617Z"
   },
   {
    "duration": 1959,
    "start_time": "2021-07-08T14:02:25.533Z"
   },
   {
    "duration": 419,
    "start_time": "2021-07-08T14:02:27.494Z"
   },
   {
    "duration": 108,
    "start_time": "2021-07-08T14:02:27.915Z"
   },
   {
    "duration": 26,
    "start_time": "2021-07-08T14:02:28.026Z"
   },
   {
    "duration": 29,
    "start_time": "2021-07-08T14:02:28.054Z"
   },
   {
    "duration": 6,
    "start_time": "2021-07-08T14:02:28.085Z"
   },
   {
    "duration": 13,
    "start_time": "2021-07-08T14:02:28.094Z"
   },
   {
    "duration": 12,
    "start_time": "2021-07-08T14:02:28.111Z"
   },
   {
    "duration": 5,
    "start_time": "2021-07-08T14:02:28.126Z"
   },
   {
    "duration": 63,
    "start_time": "2021-07-08T14:02:28.133Z"
   },
   {
    "duration": 5,
    "start_time": "2021-07-08T14:02:28.199Z"
   },
   {
    "duration": 17,
    "start_time": "2021-07-08T14:02:28.206Z"
   },
   {
    "duration": 8,
    "start_time": "2021-07-08T14:02:28.225Z"
   },
   {
    "duration": 48,
    "start_time": "2021-07-08T14:02:28.235Z"
   },
   {
    "duration": 18,
    "start_time": "2021-07-08T14:02:28.285Z"
   },
   {
    "duration": 32,
    "start_time": "2021-07-08T14:02:28.306Z"
   },
   {
    "duration": 46,
    "start_time": "2021-07-08T14:02:28.340Z"
   },
   {
    "duration": 19,
    "start_time": "2021-07-08T14:02:28.388Z"
   },
   {
    "duration": 11,
    "start_time": "2021-07-08T14:02:28.409Z"
   },
   {
    "duration": 58,
    "start_time": "2021-07-08T14:02:28.422Z"
   },
   {
    "duration": 24,
    "start_time": "2021-07-08T14:02:28.483Z"
   },
   {
    "duration": 6,
    "start_time": "2021-07-08T14:02:28.509Z"
   },
   {
    "duration": 47,
    "start_time": "2021-07-08T14:02:28.521Z"
   },
   {
    "duration": 7,
    "start_time": "2021-07-08T14:02:28.572Z"
   },
   {
    "duration": 14,
    "start_time": "2021-07-08T14:02:28.581Z"
   },
   {
    "duration": 18,
    "start_time": "2021-07-08T14:02:28.597Z"
   },
   {
    "duration": 5,
    "start_time": "2021-07-08T14:02:28.618Z"
   },
   {
    "duration": 74,
    "start_time": "2021-07-08T14:02:28.625Z"
   },
   {
    "duration": 6,
    "start_time": "2021-07-08T14:02:28.701Z"
   },
   {
    "duration": 77,
    "start_time": "2021-07-08T14:02:28.710Z"
   },
   {
    "duration": 4,
    "start_time": "2021-07-08T14:02:28.789Z"
   },
   {
    "duration": 2322,
    "start_time": "2021-07-08T14:02:28.795Z"
   },
   {
    "duration": 15,
    "start_time": "2021-07-08T14:02:31.120Z"
   },
   {
    "duration": 4,
    "start_time": "2021-07-08T14:02:31.137Z"
   },
   {
    "duration": 5,
    "start_time": "2021-07-08T14:02:31.167Z"
   },
   {
    "duration": 270,
    "start_time": "2021-07-08T14:02:31.175Z"
   },
   {
    "duration": 275,
    "start_time": "2021-07-08T14:02:31.448Z"
   },
   {
    "duration": 396,
    "start_time": "2021-07-08T14:02:31.726Z"
   },
   {
    "duration": 247,
    "start_time": "2021-07-08T14:02:32.124Z"
   },
   {
    "duration": 277,
    "start_time": "2021-07-08T14:02:32.373Z"
   },
   {
    "duration": 259,
    "start_time": "2021-07-08T14:02:32.653Z"
   },
   {
    "duration": 351,
    "start_time": "2021-07-08T14:02:32.915Z"
   },
   {
    "duration": 4,
    "start_time": "2021-07-08T14:02:33.268Z"
   },
   {
    "duration": 262,
    "start_time": "2021-07-08T14:02:33.275Z"
   },
   {
    "duration": 257,
    "start_time": "2021-07-08T14:02:33.540Z"
   },
   {
    "duration": 277,
    "start_time": "2021-07-08T14:02:33.799Z"
   },
   {
    "duration": 260,
    "start_time": "2021-07-08T14:02:34.078Z"
   },
   {
    "duration": 258,
    "start_time": "2021-07-08T14:02:34.340Z"
   },
   {
    "duration": 401,
    "start_time": "2021-07-08T14:02:34.600Z"
   },
   {
    "duration": 381,
    "start_time": "2021-07-08T14:02:35.004Z"
   },
   {
    "duration": 10,
    "start_time": "2021-07-08T14:02:35.388Z"
   },
   {
    "duration": 9,
    "start_time": "2021-07-08T14:02:35.400Z"
   },
   {
    "duration": 282,
    "start_time": "2021-07-08T14:02:35.411Z"
   },
   {
    "duration": 251,
    "start_time": "2021-07-08T14:02:35.696Z"
   },
   {
    "duration": 3,
    "start_time": "2021-07-08T14:02:35.950Z"
   },
   {
    "duration": 23,
    "start_time": "2021-07-08T14:02:35.968Z"
   },
   {
    "duration": 40,
    "start_time": "2021-07-08T14:02:35.993Z"
   },
   {
    "duration": 32,
    "start_time": "2021-07-08T14:02:36.035Z"
   },
   {
    "duration": 38,
    "start_time": "2021-07-08T14:02:36.070Z"
   },
   {
    "duration": 17,
    "start_time": "2021-07-08T14:02:36.110Z"
   },
   {
    "duration": 18,
    "start_time": "2021-07-08T14:02:36.129Z"
   },
   {
    "duration": 129,
    "start_time": "2021-07-08T14:02:36.149Z"
   },
   {
    "duration": 8,
    "start_time": "2021-07-08T14:02:36.280Z"
   },
   {
    "duration": 455,
    "start_time": "2021-07-08T14:02:36.290Z"
   },
   {
    "duration": 992,
    "start_time": "2021-07-08T14:02:36.748Z"
   },
   {
    "duration": 425,
    "start_time": "2021-07-08T14:02:37.743Z"
   },
   {
    "duration": 35,
    "start_time": "2021-07-08T14:02:38.171Z"
   },
   {
    "duration": 15,
    "start_time": "2021-07-08T14:02:38.214Z"
   },
   {
    "duration": 42,
    "start_time": "2021-07-08T14:02:38.231Z"
   },
   {
    "duration": 16,
    "start_time": "2021-07-08T14:02:38.275Z"
   },
   {
    "duration": 47,
    "start_time": "2021-07-08T14:02:38.293Z"
   },
   {
    "duration": 7,
    "start_time": "2021-07-08T14:02:38.368Z"
   },
   {
    "duration": 65,
    "start_time": "2021-07-08T14:02:38.377Z"
   },
   {
    "duration": 271,
    "start_time": "2021-07-08T14:02:38.444Z"
   },
   {
    "duration": 201,
    "start_time": "2021-07-08T14:02:38.717Z"
   },
   {
    "duration": 17,
    "start_time": "2021-07-08T14:02:38.920Z"
   },
   {
    "duration": 63,
    "start_time": "2021-07-08T14:02:38.940Z"
   },
   {
    "duration": 12,
    "start_time": "2021-07-08T14:02:39.005Z"
   },
   {
    "duration": 9,
    "start_time": "2021-07-08T14:02:39.020Z"
   },
   {
    "duration": 37,
    "start_time": "2021-07-08T14:02:39.031Z"
   },
   {
    "duration": 14,
    "start_time": "2021-07-08T14:02:39.071Z"
   },
   {
    "duration": 17,
    "start_time": "2021-07-08T14:02:39.088Z"
   },
   {
    "duration": 3,
    "start_time": "2021-07-08T14:02:39.107Z"
   },
   {
    "duration": 7,
    "start_time": "2021-07-08T14:02:39.112Z"
   },
   {
    "duration": 6,
    "start_time": "2021-07-08T14:36:41.656Z"
   },
   {
    "duration": 594,
    "start_time": "2021-07-08T14:37:08.669Z"
   },
   {
    "duration": 23,
    "start_time": "2021-07-08T14:43:34.567Z"
   },
   {
    "duration": 46,
    "start_time": "2021-07-08T14:43:42.937Z"
   },
   {
    "duration": 22,
    "start_time": "2021-07-08T14:44:49.527Z"
   },
   {
    "duration": 306,
    "start_time": "2021-07-08T15:08:06.587Z"
   },
   {
    "duration": 522,
    "start_time": "2021-07-08T15:08:15.864Z"
   },
   {
    "duration": 374,
    "start_time": "2021-07-08T15:09:10.869Z"
   },
   {
    "duration": 233,
    "start_time": "2021-07-08T15:09:38.173Z"
   },
   {
    "duration": 378,
    "start_time": "2021-07-08T15:20:09.049Z"
   },
   {
    "duration": 15,
    "start_time": "2021-07-08T15:20:32.108Z"
   },
   {
    "duration": 17,
    "start_time": "2021-07-08T15:20:55.912Z"
   },
   {
    "duration": 14,
    "start_time": "2021-07-08T15:24:20.258Z"
   },
   {
    "duration": 15,
    "start_time": "2021-07-08T15:24:33.583Z"
   },
   {
    "duration": 15,
    "start_time": "2021-07-08T15:25:12.580Z"
   },
   {
    "duration": 16,
    "start_time": "2021-07-08T15:27:02.242Z"
   },
   {
    "duration": 382,
    "start_time": "2021-07-08T15:29:07.026Z"
   },
   {
    "duration": 26,
    "start_time": "2021-07-08T15:29:18.309Z"
   },
   {
    "duration": 24,
    "start_time": "2021-07-08T15:29:43.090Z"
   },
   {
    "duration": 25,
    "start_time": "2021-07-08T15:29:55.627Z"
   },
   {
    "duration": 28,
    "start_time": "2021-07-08T15:29:57.470Z"
   },
   {
    "duration": 114,
    "start_time": "2021-07-08T15:51:46.183Z"
   },
   {
    "duration": 7,
    "start_time": "2021-07-08T15:52:04.637Z"
   },
   {
    "duration": 9472,
    "start_time": "2021-07-08T15:52:55.931Z"
   },
   {
    "duration": 8,
    "start_time": "2021-07-08T15:54:00.962Z"
   },
   {
    "duration": 778,
    "start_time": "2021-07-08T15:54:05.260Z"
   },
   {
    "duration": 8,
    "start_time": "2021-07-08T15:57:21.137Z"
   },
   {
    "duration": 79,
    "start_time": "2021-07-08T15:57:25.732Z"
   },
   {
    "duration": 329,
    "start_time": "2021-07-08T15:57:53.349Z"
   },
   {
    "duration": 73,
    "start_time": "2021-07-08T15:58:01.321Z"
   },
   {
    "duration": 11,
    "start_time": "2021-07-08T15:58:14.982Z"
   },
   {
    "duration": 45,
    "start_time": "2021-07-08T15:59:04.783Z"
   },
   {
    "duration": 11,
    "start_time": "2021-07-08T15:59:10.790Z"
   },
   {
    "duration": 8,
    "start_time": "2021-07-08T16:20:24.542Z"
   },
   {
    "duration": 220,
    "start_time": "2021-07-08T16:20:28.211Z"
   },
   {
    "duration": 13,
    "start_time": "2021-07-08T16:22:03.707Z"
   },
   {
    "duration": 11,
    "start_time": "2021-07-08T16:22:12.318Z"
   },
   {
    "duration": 7,
    "start_time": "2021-07-08T16:22:42.374Z"
   },
   {
    "duration": 11,
    "start_time": "2021-07-08T16:22:42.385Z"
   },
   {
    "duration": 443,
    "start_time": "2021-07-08T16:22:42.400Z"
   },
   {
    "duration": 19,
    "start_time": "2021-07-08T16:22:42.846Z"
   },
   {
    "duration": 29,
    "start_time": "2021-07-08T16:22:42.868Z"
   },
   {
    "duration": 7,
    "start_time": "2021-07-08T16:22:42.900Z"
   },
   {
    "duration": 9,
    "start_time": "2021-07-08T16:22:42.910Z"
   },
   {
    "duration": 60,
    "start_time": "2021-07-08T16:22:42.922Z"
   },
   {
    "duration": 7,
    "start_time": "2021-07-08T16:22:42.989Z"
   },
   {
    "duration": 32,
    "start_time": "2021-07-08T16:22:43.000Z"
   },
   {
    "duration": 6,
    "start_time": "2021-07-08T16:22:43.034Z"
   },
   {
    "duration": 49,
    "start_time": "2021-07-08T16:22:43.042Z"
   },
   {
    "duration": 11,
    "start_time": "2021-07-08T16:22:43.094Z"
   },
   {
    "duration": 24,
    "start_time": "2021-07-08T16:22:43.108Z"
   },
   {
    "duration": 58,
    "start_time": "2021-07-08T16:22:43.134Z"
   },
   {
    "duration": 33,
    "start_time": "2021-07-08T16:22:43.196Z"
   },
   {
    "duration": 64,
    "start_time": "2021-07-08T16:22:43.231Z"
   },
   {
    "duration": 20,
    "start_time": "2021-07-08T16:22:43.298Z"
   },
   {
    "duration": 11,
    "start_time": "2021-07-08T16:22:43.321Z"
   },
   {
    "duration": 47,
    "start_time": "2021-07-08T16:22:43.334Z"
   },
   {
    "duration": 32,
    "start_time": "2021-07-08T16:22:43.383Z"
   },
   {
    "duration": 6,
    "start_time": "2021-07-08T16:22:43.418Z"
   },
   {
    "duration": 56,
    "start_time": "2021-07-08T16:22:43.427Z"
   },
   {
    "duration": 8,
    "start_time": "2021-07-08T16:22:43.486Z"
   },
   {
    "duration": 21,
    "start_time": "2021-07-08T16:22:43.496Z"
   },
   {
    "duration": 48,
    "start_time": "2021-07-08T16:22:43.519Z"
   },
   {
    "duration": 7,
    "start_time": "2021-07-08T16:22:43.576Z"
   },
   {
    "duration": 43,
    "start_time": "2021-07-08T16:22:43.586Z"
   },
   {
    "duration": 7,
    "start_time": "2021-07-08T16:22:43.631Z"
   },
   {
    "duration": 35,
    "start_time": "2021-07-08T16:22:43.640Z"
   },
   {
    "duration": 37,
    "start_time": "2021-07-08T16:22:53.116Z"
   },
   {
    "duration": 231,
    "start_time": "2021-07-08T16:22:58.827Z"
   },
   {
    "duration": 16,
    "start_time": "2021-07-08T16:23:00.678Z"
   },
   {
    "duration": 6,
    "start_time": "2021-07-08T16:23:41.861Z"
   },
   {
    "duration": 6,
    "start_time": "2021-07-08T16:23:41.871Z"
   },
   {
    "duration": 568,
    "start_time": "2021-07-08T16:23:41.882Z"
   },
   {
    "duration": 26,
    "start_time": "2021-07-08T16:23:42.453Z"
   },
   {
    "duration": 27,
    "start_time": "2021-07-08T16:23:42.483Z"
   },
   {
    "duration": 6,
    "start_time": "2021-07-08T16:23:42.513Z"
   },
   {
    "duration": 9,
    "start_time": "2021-07-08T16:23:42.521Z"
   },
   {
    "duration": 19,
    "start_time": "2021-07-08T16:23:42.574Z"
   },
   {
    "duration": 6,
    "start_time": "2021-07-08T16:23:42.601Z"
   },
   {
    "duration": 29,
    "start_time": "2021-07-08T16:23:42.611Z"
   },
   {
    "duration": 8,
    "start_time": "2021-07-08T16:23:42.667Z"
   },
   {
    "duration": 25,
    "start_time": "2021-07-08T16:23:42.679Z"
   },
   {
    "duration": 9,
    "start_time": "2021-07-08T16:23:42.710Z"
   },
   {
    "duration": 61,
    "start_time": "2021-07-08T16:23:42.722Z"
   },
   {
    "duration": 30,
    "start_time": "2021-07-08T16:23:42.785Z"
   },
   {
    "duration": 51,
    "start_time": "2021-07-08T16:23:42.818Z"
   },
   {
    "duration": 29,
    "start_time": "2021-07-08T16:23:42.872Z"
   },
   {
    "duration": 24,
    "start_time": "2021-07-08T16:23:42.903Z"
   },
   {
    "duration": 41,
    "start_time": "2021-07-08T16:23:42.931Z"
   },
   {
    "duration": 35,
    "start_time": "2021-07-08T16:23:42.977Z"
   },
   {
    "duration": 59,
    "start_time": "2021-07-08T16:23:43.015Z"
   },
   {
    "duration": 10,
    "start_time": "2021-07-08T16:23:43.077Z"
   },
   {
    "duration": 31,
    "start_time": "2021-07-08T16:23:43.091Z"
   },
   {
    "duration": 7,
    "start_time": "2021-07-08T16:23:43.125Z"
   },
   {
    "duration": 49,
    "start_time": "2021-07-08T16:23:43.134Z"
   },
   {
    "duration": 29,
    "start_time": "2021-07-08T16:23:43.191Z"
   },
   {
    "duration": 6,
    "start_time": "2021-07-08T16:23:43.226Z"
   },
   {
    "duration": 82,
    "start_time": "2021-07-08T16:23:43.234Z"
   },
   {
    "duration": 7,
    "start_time": "2021-07-08T16:23:43.318Z"
   },
   {
    "duration": 8,
    "start_time": "2021-07-08T16:23:43.328Z"
   },
   {
    "duration": 83,
    "start_time": "2021-07-08T16:23:43.339Z"
   },
   {
    "duration": 107,
    "start_time": "2021-07-08T16:23:49.720Z"
   },
   {
    "duration": 21,
    "start_time": "2021-07-08T16:23:53.128Z"
   },
   {
    "duration": 35,
    "start_time": "2021-07-08T16:23:58.836Z"
   },
   {
    "duration": 63,
    "start_time": "2021-07-08T16:25:11.290Z"
   },
   {
    "duration": 34,
    "start_time": "2021-07-08T16:25:14.529Z"
   },
   {
    "duration": 187,
    "start_time": "2021-07-08T16:26:42.495Z"
   },
   {
    "duration": 6,
    "start_time": "2021-07-08T16:26:49.729Z"
   },
   {
    "duration": 17,
    "start_time": "2021-07-08T16:26:58.375Z"
   },
   {
    "duration": 4,
    "start_time": "2021-07-08T16:26:58.395Z"
   },
   {
    "duration": 360,
    "start_time": "2021-07-08T16:26:58.402Z"
   },
   {
    "duration": 27,
    "start_time": "2021-07-08T16:26:58.765Z"
   },
   {
    "duration": 20,
    "start_time": "2021-07-08T16:26:58.797Z"
   },
   {
    "duration": 5,
    "start_time": "2021-07-08T16:26:58.819Z"
   },
   {
    "duration": 50,
    "start_time": "2021-07-08T16:26:58.827Z"
   },
   {
    "duration": 18,
    "start_time": "2021-07-08T16:26:58.880Z"
   },
   {
    "duration": 4,
    "start_time": "2021-07-08T16:26:58.903Z"
   },
   {
    "duration": 59,
    "start_time": "2021-07-08T16:26:58.910Z"
   },
   {
    "duration": 9,
    "start_time": "2021-07-08T16:26:58.973Z"
   },
   {
    "duration": 20,
    "start_time": "2021-07-08T16:26:58.984Z"
   },
   {
    "duration": 8,
    "start_time": "2021-07-08T16:26:59.006Z"
   },
   {
    "duration": 63,
    "start_time": "2021-07-08T16:26:59.016Z"
   },
   {
    "duration": 26,
    "start_time": "2021-07-08T16:26:59.082Z"
   },
   {
    "duration": 31,
    "start_time": "2021-07-08T16:26:59.111Z"
   },
   {
    "duration": 38,
    "start_time": "2021-07-08T16:26:59.170Z"
   },
   {
    "duration": 18,
    "start_time": "2021-07-08T16:26:59.210Z"
   },
   {
    "duration": 38,
    "start_time": "2021-07-08T16:26:59.231Z"
   },
   {
    "duration": 28,
    "start_time": "2021-07-08T16:26:59.272Z"
   },
   {
    "duration": 25,
    "start_time": "2021-07-08T16:26:59.302Z"
   },
   {
    "duration": 40,
    "start_time": "2021-07-08T16:26:59.329Z"
   },
   {
    "duration": 31,
    "start_time": "2021-07-08T16:26:59.372Z"
   },
   {
    "duration": 7,
    "start_time": "2021-07-08T16:26:59.405Z"
   },
   {
    "duration": 17,
    "start_time": "2021-07-08T16:26:59.414Z"
   },
   {
    "duration": 32,
    "start_time": "2021-07-08T16:26:59.469Z"
   },
   {
    "duration": 6,
    "start_time": "2021-07-08T16:26:59.505Z"
   },
   {
    "duration": 67,
    "start_time": "2021-07-08T16:26:59.514Z"
   },
   {
    "duration": 9,
    "start_time": "2021-07-08T16:26:59.584Z"
   },
   {
    "duration": 8,
    "start_time": "2021-07-08T16:26:59.596Z"
   },
   {
    "duration": 75,
    "start_time": "2021-07-08T16:26:59.606Z"
   },
   {
    "duration": 144,
    "start_time": "2021-07-08T16:27:20.087Z"
   },
   {
    "duration": 36,
    "start_time": "2021-07-08T16:27:28.783Z"
   },
   {
    "duration": 7,
    "start_time": "2021-07-08T16:28:42.468Z"
   },
   {
    "duration": 7,
    "start_time": "2021-07-08T16:28:42.479Z"
   },
   {
    "duration": 353,
    "start_time": "2021-07-08T16:28:42.491Z"
   },
   {
    "duration": 18,
    "start_time": "2021-07-08T16:28:42.847Z"
   },
   {
    "duration": 27,
    "start_time": "2021-07-08T16:28:42.871Z"
   },
   {
    "duration": 6,
    "start_time": "2021-07-08T16:28:42.902Z"
   },
   {
    "duration": 11,
    "start_time": "2021-07-08T16:28:42.911Z"
   },
   {
    "duration": 52,
    "start_time": "2021-07-08T16:28:42.924Z"
   },
   {
    "duration": 28,
    "start_time": "2021-07-08T16:28:42.982Z"
   },
   {
    "duration": 46,
    "start_time": "2021-07-08T16:28:43.013Z"
   },
   {
    "duration": 13,
    "start_time": "2021-07-08T16:28:43.061Z"
   },
   {
    "duration": 22,
    "start_time": "2021-07-08T16:28:43.078Z"
   },
   {
    "duration": 9,
    "start_time": "2021-07-08T16:28:43.102Z"
   },
   {
    "duration": 25,
    "start_time": "2021-07-08T16:28:43.113Z"
   },
   {
    "duration": 53,
    "start_time": "2021-07-08T16:28:43.141Z"
   },
   {
    "duration": 33,
    "start_time": "2021-07-08T16:28:43.197Z"
   },
   {
    "duration": 57,
    "start_time": "2021-07-08T16:28:43.232Z"
   },
   {
    "duration": 19,
    "start_time": "2021-07-08T16:28:43.293Z"
   },
   {
    "duration": 10,
    "start_time": "2021-07-08T16:28:43.315Z"
   },
   {
    "duration": 55,
    "start_time": "2021-07-08T16:28:43.328Z"
   },
   {
    "duration": 26,
    "start_time": "2021-07-08T16:28:43.386Z"
   },
   {
    "duration": 7,
    "start_time": "2021-07-08T16:28:43.415Z"
   },
   {
    "duration": 52,
    "start_time": "2021-07-08T16:28:43.424Z"
   },
   {
    "duration": 9,
    "start_time": "2021-07-08T16:28:43.479Z"
   },
   {
    "duration": 13,
    "start_time": "2021-07-08T16:28:43.491Z"
   },
   {
    "duration": 64,
    "start_time": "2021-07-08T16:28:43.507Z"
   },
   {
    "duration": 9,
    "start_time": "2021-07-08T16:28:43.581Z"
   },
   {
    "duration": 38,
    "start_time": "2021-07-08T16:28:43.593Z"
   },
   {
    "duration": 33,
    "start_time": "2021-07-08T16:28:43.634Z"
   },
   {
    "duration": 7,
    "start_time": "2021-07-08T16:28:48.506Z"
   },
   {
    "duration": 295,
    "start_time": "2021-07-08T16:28:53.277Z"
   },
   {
    "duration": 36,
    "start_time": "2021-07-08T16:29:04.698Z"
   },
   {
    "duration": 6,
    "start_time": "2021-07-08T16:30:37.304Z"
   },
   {
    "duration": 6,
    "start_time": "2021-07-08T16:30:37.313Z"
   },
   {
    "duration": 287,
    "start_time": "2021-07-08T16:30:37.322Z"
   },
   {
    "duration": 18,
    "start_time": "2021-07-08T16:30:37.611Z"
   },
   {
    "duration": 40,
    "start_time": "2021-07-08T16:30:37.632Z"
   },
   {
    "duration": 7,
    "start_time": "2021-07-08T16:30:37.676Z"
   },
   {
    "duration": 31,
    "start_time": "2021-07-08T16:30:37.686Z"
   },
   {
    "duration": 14,
    "start_time": "2021-07-08T16:30:37.719Z"
   },
   {
    "duration": 9,
    "start_time": "2021-07-08T16:30:37.737Z"
   },
   {
    "duration": 61,
    "start_time": "2021-07-08T16:30:37.749Z"
   },
   {
    "duration": 8,
    "start_time": "2021-07-08T16:30:37.813Z"
   },
   {
    "duration": 47,
    "start_time": "2021-07-08T16:30:37.824Z"
   },
   {
    "duration": 12,
    "start_time": "2021-07-08T16:30:37.874Z"
   },
   {
    "duration": 37,
    "start_time": "2021-07-08T16:30:37.894Z"
   },
   {
    "duration": 41,
    "start_time": "2021-07-08T16:30:37.934Z"
   },
   {
    "duration": 42,
    "start_time": "2021-07-08T16:30:37.978Z"
   },
   {
    "duration": 59,
    "start_time": "2021-07-08T16:30:38.023Z"
   },
   {
    "duration": 26,
    "start_time": "2021-07-08T16:30:38.086Z"
   },
   {
    "duration": 11,
    "start_time": "2021-07-08T16:30:38.115Z"
   },
   {
    "duration": 62,
    "start_time": "2021-07-08T16:30:38.129Z"
   },
   {
    "duration": 22,
    "start_time": "2021-07-08T16:30:38.195Z"
   },
   {
    "duration": 6,
    "start_time": "2021-07-08T16:30:38.220Z"
   },
   {
    "duration": 44,
    "start_time": "2021-07-08T16:30:38.229Z"
   },
   {
    "duration": 11,
    "start_time": "2021-07-08T16:30:38.276Z"
   },
   {
    "duration": 15,
    "start_time": "2021-07-08T16:30:38.290Z"
   },
   {
    "duration": 68,
    "start_time": "2021-07-08T16:30:38.308Z"
   },
   {
    "duration": 14,
    "start_time": "2021-07-08T16:30:38.381Z"
   },
   {
    "duration": 42,
    "start_time": "2021-07-08T16:30:38.400Z"
   },
   {
    "duration": 26,
    "start_time": "2021-07-08T16:30:38.445Z"
   },
   {
    "duration": 14,
    "start_time": "2021-07-08T16:30:38.475Z"
   },
   {
    "duration": 42,
    "start_time": "2021-07-08T16:30:38.492Z"
   },
   {
    "duration": 304,
    "start_time": "2021-07-08T16:30:59.449Z"
   },
   {
    "duration": 47,
    "start_time": "2021-07-08T16:31:03.358Z"
   },
   {
    "duration": 666,
    "start_time": "2021-07-08T16:33:25.302Z"
   },
   {
    "duration": 6,
    "start_time": "2021-07-08T16:33:29.326Z"
   },
   {
    "duration": 4,
    "start_time": "2021-07-08T16:34:06.101Z"
   },
   {
    "duration": 6,
    "start_time": "2021-07-08T16:34:20.174Z"
   },
   {
    "duration": 46,
    "start_time": "2021-07-08T16:35:24.705Z"
   },
   {
    "duration": 7,
    "start_time": "2021-07-08T16:37:11.874Z"
   },
   {
    "duration": 2174,
    "start_time": "2021-07-08T16:37:16.394Z"
   },
   {
    "duration": 13,
    "start_time": "2021-07-08T16:37:32.784Z"
   },
   {
    "duration": 4,
    "start_time": "2021-07-08T16:37:35.898Z"
   },
   {
    "duration": 7,
    "start_time": "2021-07-08T16:37:37.902Z"
   },
   {
    "duration": 284,
    "start_time": "2021-07-08T16:37:40.671Z"
   },
   {
    "duration": 331,
    "start_time": "2021-07-08T16:37:46.004Z"
   },
   {
    "duration": 275,
    "start_time": "2021-07-08T16:37:49.688Z"
   },
   {
    "duration": 253,
    "start_time": "2021-07-08T16:37:55.598Z"
   },
   {
    "duration": 252,
    "start_time": "2021-07-08T16:38:03.179Z"
   },
   {
    "duration": 2123,
    "start_time": "2021-07-08T16:38:16.342Z"
   },
   {
    "duration": 6,
    "start_time": "2021-07-08T16:38:18.469Z"
   },
   {
    "duration": 351,
    "start_time": "2021-07-08T16:38:18.480Z"
   },
   {
    "duration": 25,
    "start_time": "2021-07-08T16:38:18.834Z"
   },
   {
    "duration": 29,
    "start_time": "2021-07-08T16:38:18.861Z"
   },
   {
    "duration": 6,
    "start_time": "2021-07-08T16:38:18.892Z"
   },
   {
    "duration": 12,
    "start_time": "2021-07-08T16:38:18.901Z"
   },
   {
    "duration": 13,
    "start_time": "2021-07-08T16:38:18.918Z"
   },
   {
    "duration": 8,
    "start_time": "2021-07-08T16:38:18.969Z"
   },
   {
    "duration": 30,
    "start_time": "2021-07-08T16:38:18.981Z"
   },
   {
    "duration": 13,
    "start_time": "2021-07-08T16:38:19.013Z"
   },
   {
    "duration": 41,
    "start_time": "2021-07-08T16:38:19.029Z"
   },
   {
    "duration": 12,
    "start_time": "2021-07-08T16:38:19.074Z"
   },
   {
    "duration": 23,
    "start_time": "2021-07-08T16:38:19.089Z"
   },
   {
    "duration": 52,
    "start_time": "2021-07-08T16:38:19.115Z"
   },
   {
    "duration": 39,
    "start_time": "2021-07-08T16:38:19.169Z"
   },
   {
    "duration": 24,
    "start_time": "2021-07-08T16:38:19.211Z"
   },
   {
    "duration": 47,
    "start_time": "2021-07-08T16:38:19.237Z"
   },
   {
    "duration": 14,
    "start_time": "2021-07-08T16:38:19.290Z"
   },
   {
    "duration": 23,
    "start_time": "2021-07-08T16:38:19.307Z"
   },
   {
    "duration": 25,
    "start_time": "2021-07-08T16:38:19.369Z"
   },
   {
    "duration": 7,
    "start_time": "2021-07-08T16:38:19.396Z"
   },
   {
    "duration": 18,
    "start_time": "2021-07-08T16:38:19.409Z"
   },
   {
    "duration": 41,
    "start_time": "2021-07-08T16:38:19.431Z"
   },
   {
    "duration": 15,
    "start_time": "2021-07-08T16:38:19.475Z"
   },
   {
    "duration": 24,
    "start_time": "2021-07-08T16:38:19.493Z"
   },
   {
    "duration": 5,
    "start_time": "2021-07-08T16:38:19.520Z"
   },
   {
    "duration": 78,
    "start_time": "2021-07-08T16:38:19.528Z"
   },
   {
    "duration": 6,
    "start_time": "2021-07-08T16:38:19.608Z"
   },
   {
    "duration": 17,
    "start_time": "2021-07-08T16:38:19.616Z"
   },
   {
    "duration": 35,
    "start_time": "2021-07-08T16:38:19.635Z"
   },
   {
    "duration": 302,
    "start_time": "2021-07-08T16:38:19.674Z"
   },
   {
    "duration": 5,
    "start_time": "2021-07-08T16:38:19.979Z"
   },
   {
    "duration": 47,
    "start_time": "2021-07-08T16:38:19.987Z"
   },
   {
    "duration": 5,
    "start_time": "2021-07-08T16:38:20.037Z"
   },
   {
    "duration": 2088,
    "start_time": "2021-07-08T16:38:20.044Z"
   },
   {
    "duration": 12,
    "start_time": "2021-07-08T16:38:22.134Z"
   },
   {
    "duration": 22,
    "start_time": "2021-07-08T16:38:22.148Z"
   },
   {
    "duration": 8,
    "start_time": "2021-07-08T16:38:22.172Z"
   },
   {
    "duration": 315,
    "start_time": "2021-07-08T16:38:22.183Z"
   },
   {
    "duration": 266,
    "start_time": "2021-07-08T16:38:22.500Z"
   },
   {
    "duration": 283,
    "start_time": "2021-07-08T16:38:22.770Z"
   },
   {
    "duration": 276,
    "start_time": "2021-07-08T16:38:23.056Z"
   },
   {
    "duration": 259,
    "start_time": "2021-07-08T16:38:23.334Z"
   },
   {
    "duration": 295,
    "start_time": "2021-07-08T16:38:23.595Z"
   },
   {
    "duration": 381,
    "start_time": "2021-07-08T16:38:23.893Z"
   },
   {
    "duration": 4,
    "start_time": "2021-07-08T16:38:24.277Z"
   },
   {
    "duration": 400,
    "start_time": "2021-07-08T16:38:24.285Z"
   },
   {
    "duration": 285,
    "start_time": "2021-07-08T16:38:24.688Z"
   },
   {
    "duration": 278,
    "start_time": "2021-07-08T16:38:24.978Z"
   },
   {
    "duration": 289,
    "start_time": "2021-07-08T16:38:25.258Z"
   },
   {
    "duration": 285,
    "start_time": "2021-07-08T16:38:25.550Z"
   },
   {
    "duration": 323,
    "start_time": "2021-07-08T16:38:25.838Z"
   },
   {
    "duration": 327,
    "start_time": "2021-07-08T16:38:26.168Z"
   },
   {
    "duration": 8,
    "start_time": "2021-07-08T16:38:26.498Z"
   },
   {
    "duration": 17,
    "start_time": "2021-07-08T16:38:26.509Z"
   },
   {
    "duration": 298,
    "start_time": "2021-07-08T16:38:26.529Z"
   },
   {
    "duration": 292,
    "start_time": "2021-07-08T16:38:26.830Z"
   },
   {
    "duration": 3,
    "start_time": "2021-07-08T16:38:27.124Z"
   },
   {
    "duration": 42,
    "start_time": "2021-07-08T16:38:27.130Z"
   },
   {
    "duration": 32,
    "start_time": "2021-07-08T16:38:27.176Z"
   },
   {
    "duration": 4,
    "start_time": "2021-07-08T16:38:27.211Z"
   },
   {
    "duration": 17,
    "start_time": "2021-07-08T16:38:27.217Z"
   },
   {
    "duration": 50,
    "start_time": "2021-07-08T16:38:27.237Z"
   },
   {
    "duration": 29,
    "start_time": "2021-07-08T16:38:27.290Z"
   },
   {
    "duration": 165,
    "start_time": "2021-07-08T16:38:27.321Z"
   },
   {
    "duration": 8,
    "start_time": "2021-07-08T16:38:27.489Z"
   },
   {
    "duration": 451,
    "start_time": "2021-07-08T16:38:27.505Z"
   },
   {
    "duration": 939,
    "start_time": "2021-07-08T16:38:27.960Z"
   },
   {
    "duration": 406,
    "start_time": "2021-07-08T16:38:28.902Z"
   },
   {
    "duration": 34,
    "start_time": "2021-07-08T16:38:29.311Z"
   },
   {
    "duration": 20,
    "start_time": "2021-07-08T16:38:29.369Z"
   },
   {
    "duration": 16,
    "start_time": "2021-07-08T16:38:29.392Z"
   },
   {
    "duration": 22,
    "start_time": "2021-07-08T16:38:29.410Z"
   },
   {
    "duration": 53,
    "start_time": "2021-07-08T16:38:29.435Z"
   },
   {
    "duration": 8,
    "start_time": "2021-07-08T16:38:29.491Z"
   },
   {
    "duration": 52,
    "start_time": "2021-07-08T16:38:29.501Z"
   },
   {
    "duration": 212,
    "start_time": "2021-07-08T16:38:29.555Z"
   },
   {
    "duration": 253,
    "start_time": "2021-07-08T16:38:29.770Z"
   },
   {
    "duration": 41,
    "start_time": "2021-07-08T16:38:30.026Z"
   },
   {
    "duration": 52,
    "start_time": "2021-07-08T16:38:30.070Z"
   },
   {
    "duration": 10,
    "start_time": "2021-07-08T16:38:30.124Z"
   },
   {
    "duration": 39,
    "start_time": "2021-07-08T16:38:30.137Z"
   },
   {
    "duration": 29,
    "start_time": "2021-07-08T16:38:30.179Z"
   },
   {
    "duration": 23,
    "start_time": "2021-07-08T16:38:30.210Z"
   },
   {
    "duration": 630,
    "start_time": "2021-07-08T16:38:30.236Z"
   },
   {
    "duration": -463,
    "start_time": "2021-07-08T16:38:31.333Z"
   },
   {
    "duration": -465,
    "start_time": "2021-07-08T16:38:31.336Z"
   },
   {
    "duration": 2152,
    "start_time": "2021-07-08T16:40:44.384Z"
   },
   {
    "duration": 3,
    "start_time": "2021-07-08T16:40:46.539Z"
   },
   {
    "duration": 390,
    "start_time": "2021-07-08T16:40:46.545Z"
   },
   {
    "duration": 24,
    "start_time": "2021-07-08T16:40:46.938Z"
   },
   {
    "duration": 29,
    "start_time": "2021-07-08T16:40:46.964Z"
   },
   {
    "duration": 11,
    "start_time": "2021-07-08T16:40:46.996Z"
   },
   {
    "duration": 15,
    "start_time": "2021-07-08T16:40:47.010Z"
   },
   {
    "duration": 45,
    "start_time": "2021-07-08T16:40:47.029Z"
   },
   {
    "duration": 9,
    "start_time": "2021-07-08T16:40:47.078Z"
   },
   {
    "duration": 38,
    "start_time": "2021-07-08T16:40:47.090Z"
   },
   {
    "duration": 6,
    "start_time": "2021-07-08T16:40:47.131Z"
   },
   {
    "duration": 34,
    "start_time": "2021-07-08T16:40:47.140Z"
   },
   {
    "duration": 10,
    "start_time": "2021-07-08T16:40:47.177Z"
   },
   {
    "duration": 29,
    "start_time": "2021-07-08T16:40:47.190Z"
   },
   {
    "duration": 57,
    "start_time": "2021-07-08T16:40:47.222Z"
   },
   {
    "duration": 39,
    "start_time": "2021-07-08T16:40:47.283Z"
   },
   {
    "duration": 54,
    "start_time": "2021-07-08T16:40:47.325Z"
   },
   {
    "duration": 26,
    "start_time": "2021-07-08T16:40:47.382Z"
   },
   {
    "duration": 12,
    "start_time": "2021-07-08T16:40:47.410Z"
   },
   {
    "duration": 54,
    "start_time": "2021-07-08T16:40:47.424Z"
   },
   {
    "duration": 30,
    "start_time": "2021-07-08T16:40:47.482Z"
   },
   {
    "duration": 6,
    "start_time": "2021-07-08T16:40:47.514Z"
   },
   {
    "duration": 53,
    "start_time": "2021-07-08T16:40:47.526Z"
   },
   {
    "duration": 9,
    "start_time": "2021-07-08T16:40:47.583Z"
   },
   {
    "duration": 11,
    "start_time": "2021-07-08T16:40:47.601Z"
   },
   {
    "duration": 30,
    "start_time": "2021-07-08T16:40:47.614Z"
   },
   {
    "duration": 28,
    "start_time": "2021-07-08T16:40:47.647Z"
   },
   {
    "duration": 57,
    "start_time": "2021-07-08T16:40:47.677Z"
   },
   {
    "duration": 7,
    "start_time": "2021-07-08T16:40:47.736Z"
   },
   {
    "duration": 29,
    "start_time": "2021-07-08T16:40:47.745Z"
   },
   {
    "duration": 11,
    "start_time": "2021-07-08T16:40:47.777Z"
   },
   {
    "duration": 1131,
    "start_time": "2021-07-08T16:40:47.791Z"
   },
   {
    "duration": -513,
    "start_time": "2021-07-08T16:40:49.438Z"
   },
   {
    "duration": -537,
    "start_time": "2021-07-08T16:40:49.463Z"
   },
   {
    "duration": -538,
    "start_time": "2021-07-08T16:40:49.466Z"
   },
   {
    "duration": -540,
    "start_time": "2021-07-08T16:40:49.469Z"
   },
   {
    "duration": -542,
    "start_time": "2021-07-08T16:40:49.472Z"
   },
   {
    "duration": -556,
    "start_time": "2021-07-08T16:40:49.488Z"
   },
   {
    "duration": -571,
    "start_time": "2021-07-08T16:40:49.504Z"
   },
   {
    "duration": -587,
    "start_time": "2021-07-08T16:40:49.522Z"
   },
   {
    "duration": -602,
    "start_time": "2021-07-08T16:40:49.538Z"
   },
   {
    "duration": -617,
    "start_time": "2021-07-08T16:40:49.555Z"
   },
   {
    "duration": -634,
    "start_time": "2021-07-08T16:40:49.573Z"
   },
   {
    "duration": -649,
    "start_time": "2021-07-08T16:40:49.590Z"
   },
   {
    "duration": -666,
    "start_time": "2021-07-08T16:40:49.608Z"
   },
   {
    "duration": -681,
    "start_time": "2021-07-08T16:40:49.625Z"
   },
   {
    "duration": -695,
    "start_time": "2021-07-08T16:40:49.640Z"
   },
   {
    "duration": -710,
    "start_time": "2021-07-08T16:40:49.656Z"
   },
   {
    "duration": -725,
    "start_time": "2021-07-08T16:40:49.672Z"
   },
   {
    "duration": -739,
    "start_time": "2021-07-08T16:40:49.688Z"
   },
   {
    "duration": -754,
    "start_time": "2021-07-08T16:40:49.704Z"
   },
   {
    "duration": -770,
    "start_time": "2021-07-08T16:40:49.721Z"
   },
   {
    "duration": -784,
    "start_time": "2021-07-08T16:40:49.737Z"
   },
   {
    "duration": -786,
    "start_time": "2021-07-08T16:40:49.740Z"
   },
   {
    "duration": -788,
    "start_time": "2021-07-08T16:40:49.755Z"
   },
   {
    "duration": -802,
    "start_time": "2021-07-08T16:40:49.771Z"
   },
   {
    "duration": -816,
    "start_time": "2021-07-08T16:40:49.786Z"
   },
   {
    "duration": -818,
    "start_time": "2021-07-08T16:40:49.789Z"
   },
   {
    "duration": -833,
    "start_time": "2021-07-08T16:40:49.805Z"
   },
   {
    "duration": -844,
    "start_time": "2021-07-08T16:40:49.820Z"
   },
   {
    "duration": -846,
    "start_time": "2021-07-08T16:40:49.823Z"
   },
   {
    "duration": -860,
    "start_time": "2021-07-08T16:40:49.839Z"
   },
   {
    "duration": -874,
    "start_time": "2021-07-08T16:40:49.855Z"
   },
   {
    "duration": -879,
    "start_time": "2021-07-08T16:40:49.863Z"
   },
   {
    "duration": -969,
    "start_time": "2021-07-08T16:40:49.956Z"
   },
   {
    "duration": -971,
    "start_time": "2021-07-08T16:40:49.959Z"
   },
   {
    "duration": -971,
    "start_time": "2021-07-08T16:40:49.961Z"
   },
   {
    "duration": -972,
    "start_time": "2021-07-08T16:40:49.964Z"
   },
   {
    "duration": -972,
    "start_time": "2021-07-08T16:40:49.966Z"
   },
   {
    "duration": -973,
    "start_time": "2021-07-08T16:40:49.969Z"
   },
   {
    "duration": -974,
    "start_time": "2021-07-08T16:40:49.972Z"
   },
   {
    "duration": -975,
    "start_time": "2021-07-08T16:40:49.975Z"
   },
   {
    "duration": -975,
    "start_time": "2021-07-08T16:40:49.977Z"
   },
   {
    "duration": -975,
    "start_time": "2021-07-08T16:40:49.979Z"
   },
   {
    "duration": -978,
    "start_time": "2021-07-08T16:40:49.984Z"
   },
   {
    "duration": -981,
    "start_time": "2021-07-08T16:40:49.988Z"
   },
   {
    "duration": -987,
    "start_time": "2021-07-08T16:40:49.996Z"
   },
   {
    "duration": -935,
    "start_time": "2021-07-08T16:40:50.002Z"
   },
   {
    "duration": -937,
    "start_time": "2021-07-08T16:40:50.006Z"
   },
   {
    "duration": -939,
    "start_time": "2021-07-08T16:40:50.010Z"
   },
   {
    "duration": -941,
    "start_time": "2021-07-08T16:40:50.014Z"
   },
   {
    "duration": -943,
    "start_time": "2021-07-08T16:40:50.017Z"
   },
   {
    "duration": -945,
    "start_time": "2021-07-08T16:40:50.020Z"
   },
   {
    "duration": -947,
    "start_time": "2021-07-08T16:40:50.024Z"
   },
   {
    "duration": -948,
    "start_time": "2021-07-08T16:40:50.026Z"
   },
   {
    "duration": -949,
    "start_time": "2021-07-08T16:40:50.028Z"
   },
   {
    "duration": -950,
    "start_time": "2021-07-08T16:40:50.030Z"
   },
   {
    "duration": -950,
    "start_time": "2021-07-08T16:40:50.032Z"
   },
   {
    "duration": 2179,
    "start_time": "2021-07-08T16:41:46.576Z"
   },
   {
    "duration": 3,
    "start_time": "2021-07-08T16:41:48.758Z"
   },
   {
    "duration": 2134,
    "start_time": "2021-07-08T16:41:48.764Z"
   },
   {
    "duration": 23,
    "start_time": "2021-07-08T16:41:50.901Z"
   },
   {
    "duration": 16,
    "start_time": "2021-07-08T16:41:50.927Z"
   },
   {
    "duration": 6,
    "start_time": "2021-07-08T16:41:50.945Z"
   },
   {
    "duration": 20,
    "start_time": "2021-07-08T16:41:50.953Z"
   },
   {
    "duration": 21,
    "start_time": "2021-07-08T16:41:50.980Z"
   },
   {
    "duration": 8,
    "start_time": "2021-07-08T16:41:51.005Z"
   },
   {
    "duration": 53,
    "start_time": "2021-07-08T16:41:51.016Z"
   },
   {
    "duration": 10,
    "start_time": "2021-07-08T16:41:51.075Z"
   },
   {
    "duration": 18,
    "start_time": "2021-07-08T16:41:51.088Z"
   },
   {
    "duration": 8,
    "start_time": "2021-07-08T16:41:51.108Z"
   },
   {
    "duration": 54,
    "start_time": "2021-07-08T16:41:51.119Z"
   },
   {
    "duration": 29,
    "start_time": "2021-07-08T16:41:51.177Z"
   },
   {
    "duration": 61,
    "start_time": "2021-07-08T16:41:51.211Z"
   },
   {
    "duration": 29,
    "start_time": "2021-07-08T16:41:51.275Z"
   },
   {
    "duration": 23,
    "start_time": "2021-07-08T16:41:51.307Z"
   },
   {
    "duration": 47,
    "start_time": "2021-07-08T16:41:51.333Z"
   },
   {
    "duration": 24,
    "start_time": "2021-07-08T16:41:51.383Z"
   },
   {
    "duration": 56,
    "start_time": "2021-07-08T16:41:51.410Z"
   },
   {
    "duration": 8,
    "start_time": "2021-07-08T16:41:51.470Z"
   },
   {
    "duration": 28,
    "start_time": "2021-07-08T16:41:51.482Z"
   },
   {
    "duration": 8,
    "start_time": "2021-07-08T16:41:51.513Z"
   },
   {
    "duration": 48,
    "start_time": "2021-07-08T16:41:51.524Z"
   },
   {
    "duration": 26,
    "start_time": "2021-07-08T16:41:51.575Z"
   },
   {
    "duration": 6,
    "start_time": "2021-07-08T16:41:51.608Z"
   },
   {
    "duration": 76,
    "start_time": "2021-07-08T16:41:51.618Z"
   },
   {
    "duration": 6,
    "start_time": "2021-07-08T16:41:51.697Z"
   },
   {
    "duration": 12,
    "start_time": "2021-07-08T16:41:51.706Z"
   },
   {
    "duration": 12,
    "start_time": "2021-07-08T16:41:51.721Z"
   },
   {
    "duration": 416,
    "start_time": "2021-07-08T16:41:51.736Z"
   },
   {
    "duration": 6,
    "start_time": "2021-07-08T16:41:52.167Z"
   },
   {
    "duration": 59,
    "start_time": "2021-07-08T16:41:52.176Z"
   },
   {
    "duration": 5,
    "start_time": "2021-07-08T16:41:52.237Z"
   },
   {
    "duration": 2505,
    "start_time": "2021-07-08T16:41:52.268Z"
   },
   {
    "duration": 18,
    "start_time": "2021-07-08T16:41:54.776Z"
   },
   {
    "duration": 5,
    "start_time": "2021-07-08T16:41:54.797Z"
   },
   {
    "duration": 8,
    "start_time": "2021-07-08T16:41:54.805Z"
   },
   {
    "duration": 311,
    "start_time": "2021-07-08T16:41:54.815Z"
   },
   {
    "duration": 306,
    "start_time": "2021-07-08T16:41:55.128Z"
   },
   {
    "duration": 277,
    "start_time": "2021-07-08T16:41:55.437Z"
   },
   {
    "duration": 299,
    "start_time": "2021-07-08T16:41:55.717Z"
   },
   {
    "duration": 270,
    "start_time": "2021-07-08T16:41:56.018Z"
   },
   {
    "duration": 263,
    "start_time": "2021-07-08T16:41:56.291Z"
   },
   {
    "duration": 373,
    "start_time": "2021-07-08T16:41:56.556Z"
   },
   {
    "duration": 4,
    "start_time": "2021-07-08T16:41:56.932Z"
   },
   {
    "duration": 292,
    "start_time": "2021-07-08T16:41:56.938Z"
   },
   {
    "duration": 281,
    "start_time": "2021-07-08T16:41:57.233Z"
   },
   {
    "duration": 298,
    "start_time": "2021-07-08T16:41:57.517Z"
   },
   {
    "duration": 284,
    "start_time": "2021-07-08T16:41:57.817Z"
   },
   {
    "duration": 282,
    "start_time": "2021-07-08T16:41:58.103Z"
   },
   {
    "duration": 338,
    "start_time": "2021-07-08T16:41:58.388Z"
   },
   {
    "duration": 326,
    "start_time": "2021-07-08T16:41:58.728Z"
   },
   {
    "duration": 19,
    "start_time": "2021-07-08T16:41:59.057Z"
   },
   {
    "duration": 12,
    "start_time": "2021-07-08T16:41:59.079Z"
   },
   {
    "duration": 296,
    "start_time": "2021-07-08T16:41:59.094Z"
   },
   {
    "duration": 279,
    "start_time": "2021-07-08T16:41:59.393Z"
   },
   {
    "duration": 6,
    "start_time": "2021-07-08T16:41:59.676Z"
   },
   {
    "duration": 34,
    "start_time": "2021-07-08T16:41:59.685Z"
   },
   {
    "duration": 55,
    "start_time": "2021-07-08T16:41:59.721Z"
   },
   {
    "duration": 5,
    "start_time": "2021-07-08T16:41:59.778Z"
   },
   {
    "duration": 19,
    "start_time": "2021-07-08T16:41:59.786Z"
   },
   {
    "duration": 14,
    "start_time": "2021-07-08T16:41:59.808Z"
   },
   {
    "duration": 52,
    "start_time": "2021-07-08T16:41:59.825Z"
   },
   {
    "duration": 102,
    "start_time": "2021-07-08T16:41:59.880Z"
   },
   {
    "duration": 8,
    "start_time": "2021-07-08T16:41:59.986Z"
   },
   {
    "duration": 298,
    "start_time": "2021-07-08T16:41:59.997Z"
   },
   {
    "duration": 682,
    "start_time": "2021-07-08T16:42:00.298Z"
   },
   {
    "duration": 259,
    "start_time": "2021-07-08T16:42:00.983Z"
   },
   {
    "duration": 54,
    "start_time": "2021-07-08T16:42:01.244Z"
   },
   {
    "duration": 15,
    "start_time": "2021-07-08T16:42:01.300Z"
   },
   {
    "duration": 34,
    "start_time": "2021-07-08T16:42:01.317Z"
   },
   {
    "duration": 61,
    "start_time": "2021-07-08T16:42:01.354Z"
   },
   {
    "duration": 110,
    "start_time": "2021-07-08T16:42:01.417Z"
   },
   {
    "duration": 9,
    "start_time": "2021-07-08T16:42:01.529Z"
   },
   {
    "duration": 76,
    "start_time": "2021-07-08T16:42:01.540Z"
   },
   {
    "duration": 213,
    "start_time": "2021-07-08T16:42:01.620Z"
   },
   {
    "duration": 222,
    "start_time": "2021-07-08T16:42:01.836Z"
   },
   {
    "duration": 26,
    "start_time": "2021-07-08T16:42:02.061Z"
   },
   {
    "duration": 45,
    "start_time": "2021-07-08T16:42:02.099Z"
   },
   {
    "duration": 19,
    "start_time": "2021-07-08T16:42:02.168Z"
   },
   {
    "duration": 27,
    "start_time": "2021-07-08T16:42:02.191Z"
   },
   {
    "duration": 16,
    "start_time": "2021-07-08T16:42:02.220Z"
   },
   {
    "duration": 45,
    "start_time": "2021-07-08T16:42:02.239Z"
   },
   {
    "duration": 35,
    "start_time": "2021-07-08T16:42:02.286Z"
   },
   {
    "duration": 23,
    "start_time": "2021-07-08T16:42:02.324Z"
   },
   {
    "duration": 28,
    "start_time": "2021-07-08T16:42:02.349Z"
   },
   {
    "duration": 957,
    "start_time": "2021-07-08T16:57:30.904Z"
   },
   {
    "duration": 402,
    "start_time": "2021-07-08T16:59:24.773Z"
   },
   {
    "duration": 2412,
    "start_time": "2021-07-08T16:59:42.445Z"
   },
   {
    "duration": 2104,
    "start_time": "2021-07-08T17:01:46.143Z"
   },
   {
    "duration": 4,
    "start_time": "2021-07-08T17:01:48.250Z"
   },
   {
    "duration": 450,
    "start_time": "2021-07-08T17:01:48.257Z"
   },
   {
    "duration": 24,
    "start_time": "2021-07-08T17:01:48.710Z"
   },
   {
    "duration": 21,
    "start_time": "2021-07-08T17:01:48.736Z"
   },
   {
    "duration": 6,
    "start_time": "2021-07-08T17:01:48.759Z"
   },
   {
    "duration": 10,
    "start_time": "2021-07-08T17:01:48.771Z"
   },
   {
    "duration": 14,
    "start_time": "2021-07-08T17:01:48.786Z"
   },
   {
    "duration": 6,
    "start_time": "2021-07-08T17:01:48.804Z"
   },
   {
    "duration": 70,
    "start_time": "2021-07-08T17:01:48.813Z"
   },
   {
    "duration": 7,
    "start_time": "2021-07-08T17:01:48.885Z"
   },
   {
    "duration": 16,
    "start_time": "2021-07-08T17:01:48.895Z"
   },
   {
    "duration": 8,
    "start_time": "2021-07-08T17:01:48.914Z"
   },
   {
    "duration": 69,
    "start_time": "2021-07-08T17:01:48.925Z"
   },
   {
    "duration": 27,
    "start_time": "2021-07-08T17:01:48.997Z"
   },
   {
    "duration": 75,
    "start_time": "2021-07-08T17:01:49.027Z"
   },
   {
    "duration": 32,
    "start_time": "2021-07-08T17:01:49.105Z"
   },
   {
    "duration": 49,
    "start_time": "2021-07-08T17:01:49.141Z"
   },
   {
    "duration": 16,
    "start_time": "2021-07-08T17:01:49.193Z"
   },
   {
    "duration": 21,
    "start_time": "2021-07-08T17:01:49.212Z"
   },
   {
    "duration": 62,
    "start_time": "2021-07-08T17:01:49.236Z"
   },
   {
    "duration": 7,
    "start_time": "2021-07-08T17:01:49.300Z"
   },
   {
    "duration": 20,
    "start_time": "2021-07-08T17:01:49.313Z"
   },
   {
    "duration": 31,
    "start_time": "2021-07-08T17:01:49.337Z"
   },
   {
    "duration": 18,
    "start_time": "2021-07-08T17:01:49.371Z"
   },
   {
    "duration": 25,
    "start_time": "2021-07-08T17:01:49.391Z"
   },
   {
    "duration": 5,
    "start_time": "2021-07-08T17:01:49.419Z"
   },
   {
    "duration": 82,
    "start_time": "2021-07-08T17:01:49.427Z"
   },
   {
    "duration": 8,
    "start_time": "2021-07-08T17:01:49.512Z"
   },
   {
    "duration": 10,
    "start_time": "2021-07-08T17:01:49.522Z"
   },
   {
    "duration": 15,
    "start_time": "2021-07-08T17:01:49.534Z"
   },
   {
    "duration": 128,
    "start_time": "2021-07-08T17:01:49.567Z"
   },
   {
    "duration": 5,
    "start_time": "2021-07-08T17:01:49.698Z"
   },
   {
    "duration": 73,
    "start_time": "2021-07-08T17:01:49.705Z"
   },
   {
    "duration": 5,
    "start_time": "2021-07-08T17:01:49.781Z"
   },
   {
    "duration": 2461,
    "start_time": "2021-07-08T17:01:49.789Z"
   },
   {
    "duration": 22,
    "start_time": "2021-07-08T17:01:52.252Z"
   },
   {
    "duration": 5,
    "start_time": "2021-07-08T17:01:52.278Z"
   },
   {
    "duration": 6,
    "start_time": "2021-07-08T17:01:52.285Z"
   },
   {
    "duration": 288,
    "start_time": "2021-07-08T17:01:52.293Z"
   },
   {
    "duration": 270,
    "start_time": "2021-07-08T17:01:52.587Z"
   },
   {
    "duration": 257,
    "start_time": "2021-07-08T17:01:52.867Z"
   },
   {
    "duration": 276,
    "start_time": "2021-07-08T17:01:53.127Z"
   },
   {
    "duration": 259,
    "start_time": "2021-07-08T17:01:53.406Z"
   },
   {
    "duration": 260,
    "start_time": "2021-07-08T17:01:53.670Z"
   },
   {
    "duration": 374,
    "start_time": "2021-07-08T17:01:53.933Z"
   },
   {
    "duration": 3,
    "start_time": "2021-07-08T17:01:54.310Z"
   },
   {
    "duration": 298,
    "start_time": "2021-07-08T17:01:54.315Z"
   },
   {
    "duration": 273,
    "start_time": "2021-07-08T17:01:54.615Z"
   },
   {
    "duration": 273,
    "start_time": "2021-07-08T17:01:54.890Z"
   },
   {
    "duration": 269,
    "start_time": "2021-07-08T17:01:55.165Z"
   },
   {
    "duration": 279,
    "start_time": "2021-07-08T17:01:55.438Z"
   },
   {
    "duration": 312,
    "start_time": "2021-07-08T17:01:55.719Z"
   },
   {
    "duration": 303,
    "start_time": "2021-07-08T17:01:56.034Z"
   },
   {
    "duration": 9,
    "start_time": "2021-07-08T17:01:56.339Z"
   },
   {
    "duration": 25,
    "start_time": "2021-07-08T17:01:56.350Z"
   },
   {
    "duration": 256,
    "start_time": "2021-07-08T17:01:56.378Z"
   },
   {
    "duration": 263,
    "start_time": "2021-07-08T17:01:56.637Z"
   },
   {
    "duration": 3,
    "start_time": "2021-07-08T17:01:56.903Z"
   },
   {
    "duration": 31,
    "start_time": "2021-07-08T17:01:56.909Z"
   },
   {
    "duration": 58,
    "start_time": "2021-07-08T17:01:56.942Z"
   },
   {
    "duration": 6,
    "start_time": "2021-07-08T17:01:57.002Z"
   },
   {
    "duration": 20,
    "start_time": "2021-07-08T17:01:57.010Z"
   },
   {
    "duration": 41,
    "start_time": "2021-07-08T17:01:57.033Z"
   },
   {
    "duration": 19,
    "start_time": "2021-07-08T17:01:57.078Z"
   },
   {
    "duration": 102,
    "start_time": "2021-07-08T17:01:57.100Z"
   },
   {
    "duration": 8,
    "start_time": "2021-07-08T17:01:57.204Z"
   },
   {
    "duration": 263,
    "start_time": "2021-07-08T17:01:57.220Z"
   },
   {
    "duration": 632,
    "start_time": "2021-07-08T17:01:57.487Z"
   },
   {
    "duration": 252,
    "start_time": "2021-07-08T17:01:58.123Z"
   },
   {
    "duration": 37,
    "start_time": "2021-07-08T17:01:58.378Z"
   },
   {
    "duration": 14,
    "start_time": "2021-07-08T17:01:58.417Z"
   },
   {
    "duration": 39,
    "start_time": "2021-07-08T17:01:58.433Z"
   },
   {
    "duration": 20,
    "start_time": "2021-07-08T17:01:58.476Z"
   },
   {
    "duration": 117,
    "start_time": "2021-07-08T17:01:58.499Z"
   },
   {
    "duration": 7,
    "start_time": "2021-07-08T17:01:58.618Z"
   },
   {
    "duration": 70,
    "start_time": "2021-07-08T17:01:58.627Z"
   },
   {
    "duration": 190,
    "start_time": "2021-07-08T17:01:58.700Z"
   },
   {
    "duration": 203,
    "start_time": "2021-07-08T17:01:58.893Z"
   },
   {
    "duration": 17,
    "start_time": "2021-07-08T17:01:59.098Z"
   },
   {
    "duration": 77,
    "start_time": "2021-07-08T17:01:59.117Z"
   },
   {
    "duration": 13,
    "start_time": "2021-07-08T17:01:59.196Z"
   },
   {
    "duration": 10,
    "start_time": "2021-07-08T17:01:59.211Z"
   },
   {
    "duration": 5,
    "start_time": "2021-07-08T17:01:59.224Z"
   },
   {
    "duration": 13,
    "start_time": "2021-07-08T17:01:59.267Z"
   },
   {
    "duration": 13,
    "start_time": "2021-07-08T17:01:59.282Z"
   },
   {
    "duration": 4,
    "start_time": "2021-07-08T17:01:59.298Z"
   },
   {
    "duration": 6,
    "start_time": "2021-07-08T17:01:59.305Z"
   },
   {
    "duration": 4758,
    "start_time": "2021-07-08T17:09:18.071Z"
   },
   {
    "duration": 8,
    "start_time": "2021-07-08T17:09:33.579Z"
   },
   {
    "duration": 4,
    "start_time": "2021-07-08T17:09:33.593Z"
   },
   {
    "duration": 417,
    "start_time": "2021-07-08T17:09:33.601Z"
   },
   {
    "duration": 28,
    "start_time": "2021-07-08T17:09:34.023Z"
   },
   {
    "duration": 24,
    "start_time": "2021-07-08T17:09:34.053Z"
   },
   {
    "duration": 10,
    "start_time": "2021-07-08T17:09:34.083Z"
   },
   {
    "duration": 10,
    "start_time": "2021-07-08T17:09:34.098Z"
   },
   {
    "duration": 12,
    "start_time": "2021-07-08T17:09:34.111Z"
   },
   {
    "duration": 5,
    "start_time": "2021-07-08T17:09:34.130Z"
   },
   {
    "duration": 40,
    "start_time": "2021-07-08T17:09:34.180Z"
   },
   {
    "duration": 8,
    "start_time": "2021-07-08T17:09:34.223Z"
   },
   {
    "duration": 45,
    "start_time": "2021-07-08T17:09:34.234Z"
   },
   {
    "duration": 14,
    "start_time": "2021-07-08T17:09:34.284Z"
   },
   {
    "duration": 23,
    "start_time": "2021-07-08T17:09:34.300Z"
   },
   {
    "duration": 19,
    "start_time": "2021-07-08T17:09:34.326Z"
   },
   {
    "duration": 51,
    "start_time": "2021-07-08T17:09:34.373Z"
   },
   {
    "duration": 48,
    "start_time": "2021-07-08T17:09:34.426Z"
   },
   {
    "duration": 26,
    "start_time": "2021-07-08T17:09:34.476Z"
   },
   {
    "duration": 16,
    "start_time": "2021-07-08T17:09:34.509Z"
   },
   {
    "duration": 67,
    "start_time": "2021-07-08T17:09:34.528Z"
   },
   {
    "duration": 25,
    "start_time": "2021-07-08T17:09:34.599Z"
   },
   {
    "duration": 44,
    "start_time": "2021-07-08T17:09:34.627Z"
   },
   {
    "duration": 37,
    "start_time": "2021-07-08T17:09:34.674Z"
   },
   {
    "duration": 9,
    "start_time": "2021-07-08T17:09:34.715Z"
   },
   {
    "duration": 57,
    "start_time": "2021-07-08T17:09:34.727Z"
   },
   {
    "duration": 28,
    "start_time": "2021-07-08T17:09:34.788Z"
   },
   {
    "duration": 6,
    "start_time": "2021-07-08T17:09:34.821Z"
   },
   {
    "duration": 43,
    "start_time": "2021-07-08T17:09:34.830Z"
   },
   {
    "duration": 9,
    "start_time": "2021-07-08T17:09:34.879Z"
   },
   {
    "duration": 13,
    "start_time": "2021-07-08T17:09:34.891Z"
   },
   {
    "duration": 4,
    "start_time": "2021-07-08T17:09:34.908Z"
   },
   {
    "duration": 158,
    "start_time": "2021-07-08T17:09:34.915Z"
   },
   {
    "duration": 6,
    "start_time": "2021-07-08T17:09:35.076Z"
   },
   {
    "duration": 54,
    "start_time": "2021-07-08T17:09:35.085Z"
   },
   {
    "duration": 5,
    "start_time": "2021-07-08T17:09:35.144Z"
   },
   {
    "duration": 5073,
    "start_time": "2021-07-08T17:09:35.152Z"
   },
   {
    "duration": 2092,
    "start_time": "2021-07-08T17:09:48.599Z"
   },
   {
    "duration": 6,
    "start_time": "2021-07-08T17:09:50.699Z"
   },
   {
    "duration": 356,
    "start_time": "2021-07-08T17:09:50.708Z"
   },
   {
    "duration": 34,
    "start_time": "2021-07-08T17:09:51.067Z"
   },
   {
    "duration": 20,
    "start_time": "2021-07-08T17:09:51.103Z"
   },
   {
    "duration": 12,
    "start_time": "2021-07-08T17:09:51.127Z"
   },
   {
    "duration": 26,
    "start_time": "2021-07-08T17:09:51.170Z"
   },
   {
    "duration": 26,
    "start_time": "2021-07-08T17:09:51.200Z"
   },
   {
    "duration": 14,
    "start_time": "2021-07-08T17:09:51.230Z"
   },
   {
    "duration": 43,
    "start_time": "2021-07-08T17:09:51.247Z"
   },
   {
    "duration": 10,
    "start_time": "2021-07-08T17:09:51.293Z"
   },
   {
    "duration": 18,
    "start_time": "2021-07-08T17:09:51.305Z"
   },
   {
    "duration": 9,
    "start_time": "2021-07-08T17:09:51.326Z"
   },
   {
    "duration": 51,
    "start_time": "2021-07-08T17:09:51.338Z"
   },
   {
    "duration": 22,
    "start_time": "2021-07-08T17:09:51.395Z"
   },
   {
    "duration": 52,
    "start_time": "2021-07-08T17:09:51.419Z"
   },
   {
    "duration": 30,
    "start_time": "2021-07-08T17:09:51.473Z"
   },
   {
    "duration": 20,
    "start_time": "2021-07-08T17:09:51.505Z"
   },
   {
    "duration": 57,
    "start_time": "2021-07-08T17:09:51.528Z"
   },
   {
    "duration": 33,
    "start_time": "2021-07-08T17:09:51.589Z"
   },
   {
    "duration": 24,
    "start_time": "2021-07-08T17:09:51.625Z"
   },
   {
    "duration": 25,
    "start_time": "2021-07-08T17:09:51.652Z"
   },
   {
    "duration": 19,
    "start_time": "2021-07-08T17:09:51.700Z"
   },
   {
    "duration": 6,
    "start_time": "2021-07-08T17:09:51.722Z"
   },
   {
    "duration": 11,
    "start_time": "2021-07-08T17:09:51.731Z"
   },
   {
    "duration": 52,
    "start_time": "2021-07-08T17:09:51.745Z"
   },
   {
    "duration": 8,
    "start_time": "2021-07-08T17:09:51.800Z"
   },
   {
    "duration": 88,
    "start_time": "2021-07-08T17:09:51.812Z"
   },
   {
    "duration": 8,
    "start_time": "2021-07-08T17:09:51.904Z"
   },
   {
    "duration": 13,
    "start_time": "2021-07-08T17:09:51.916Z"
   },
   {
    "duration": 16,
    "start_time": "2021-07-08T17:09:51.932Z"
   },
   {
    "duration": 183,
    "start_time": "2021-07-08T17:09:51.968Z"
   },
   {
    "duration": 20,
    "start_time": "2021-07-08T17:09:52.154Z"
   },
   {
    "duration": 51,
    "start_time": "2021-07-08T17:09:52.182Z"
   },
   {
    "duration": 5,
    "start_time": "2021-07-08T17:09:52.235Z"
   },
   {
    "duration": 3912,
    "start_time": "2021-07-08T17:09:52.242Z"
   },
   {
    "duration": 22,
    "start_time": "2021-07-08T17:09:56.158Z"
   },
   {
    "duration": 6,
    "start_time": "2021-07-08T17:09:56.183Z"
   },
   {
    "duration": 7,
    "start_time": "2021-07-08T17:09:56.192Z"
   },
   {
    "duration": 438,
    "start_time": "2021-07-08T17:09:56.205Z"
   },
   {
    "duration": 391,
    "start_time": "2021-07-08T17:09:56.646Z"
   },
   {
    "duration": 266,
    "start_time": "2021-07-08T17:09:57.040Z"
   },
   {
    "duration": 363,
    "start_time": "2021-07-08T17:09:57.308Z"
   },
   {
    "duration": 397,
    "start_time": "2021-07-08T17:09:57.673Z"
   },
   {
    "duration": 395,
    "start_time": "2021-07-08T17:09:58.078Z"
   },
   {
    "duration": 553,
    "start_time": "2021-07-08T17:09:58.478Z"
   },
   {
    "duration": 4,
    "start_time": "2021-07-08T17:09:59.035Z"
   },
   {
    "duration": 422,
    "start_time": "2021-07-08T17:09:59.042Z"
   },
   {
    "duration": 394,
    "start_time": "2021-07-08T17:09:59.468Z"
   },
   {
    "duration": 273,
    "start_time": "2021-07-08T17:09:59.872Z"
   },
   {
    "duration": 278,
    "start_time": "2021-07-08T17:10:00.148Z"
   },
   {
    "duration": 378,
    "start_time": "2021-07-08T17:10:00.428Z"
   },
   {
    "duration": 312,
    "start_time": "2021-07-08T17:10:00.809Z"
   },
   {
    "duration": 302,
    "start_time": "2021-07-08T17:10:01.124Z"
   },
   {
    "duration": 9,
    "start_time": "2021-07-08T17:10:01.429Z"
   },
   {
    "duration": 39,
    "start_time": "2021-07-08T17:10:01.440Z"
   },
   {
    "duration": 285,
    "start_time": "2021-07-08T17:10:01.482Z"
   },
   {
    "duration": 271,
    "start_time": "2021-07-08T17:10:01.769Z"
   },
   {
    "duration": 4,
    "start_time": "2021-07-08T17:10:02.042Z"
   },
   {
    "duration": 60,
    "start_time": "2021-07-08T17:10:02.048Z"
   },
   {
    "duration": 34,
    "start_time": "2021-07-08T17:10:02.111Z"
   },
   {
    "duration": 5,
    "start_time": "2021-07-08T17:10:02.147Z"
   },
   {
    "duration": 19,
    "start_time": "2021-07-08T17:10:02.171Z"
   },
   {
    "duration": 22,
    "start_time": "2021-07-08T17:10:02.192Z"
   },
   {
    "duration": 17,
    "start_time": "2021-07-08T17:10:02.217Z"
   },
   {
    "duration": 102,
    "start_time": "2021-07-08T17:10:02.237Z"
   },
   {
    "duration": 8,
    "start_time": "2021-07-08T17:10:02.341Z"
   },
   {
    "duration": 271,
    "start_time": "2021-07-08T17:10:02.380Z"
   },
   {
    "duration": 1022,
    "start_time": "2021-07-08T17:10:02.654Z"
   },
   {
    "duration": 412,
    "start_time": "2021-07-08T17:10:03.681Z"
   },
   {
    "duration": 39,
    "start_time": "2021-07-08T17:10:04.095Z"
   },
   {
    "duration": 41,
    "start_time": "2021-07-08T17:10:04.136Z"
   },
   {
    "duration": 22,
    "start_time": "2021-07-08T17:10:04.181Z"
   },
   {
    "duration": 16,
    "start_time": "2021-07-08T17:10:04.206Z"
   },
   {
    "duration": 112,
    "start_time": "2021-07-08T17:10:04.225Z"
   },
   {
    "duration": 8,
    "start_time": "2021-07-08T17:10:04.339Z"
   },
   {
    "duration": 60,
    "start_time": "2021-07-08T17:10:04.349Z"
   },
   {
    "duration": 202,
    "start_time": "2021-07-08T17:10:04.412Z"
   },
   {
    "duration": 223,
    "start_time": "2021-07-08T17:10:04.617Z"
   },
   {
    "duration": 36,
    "start_time": "2021-07-08T17:10:04.844Z"
   },
   {
    "duration": 66,
    "start_time": "2021-07-08T17:10:04.883Z"
   },
   {
    "duration": 21,
    "start_time": "2021-07-08T17:10:04.971Z"
   },
   {
    "duration": 11,
    "start_time": "2021-07-08T17:10:04.995Z"
   },
   {
    "duration": 8,
    "start_time": "2021-07-08T17:10:05.008Z"
   },
   {
    "duration": 23,
    "start_time": "2021-07-08T17:10:05.018Z"
   },
   {
    "duration": 34,
    "start_time": "2021-07-08T17:10:05.043Z"
   },
   {
    "duration": 10,
    "start_time": "2021-07-08T17:10:05.080Z"
   },
   {
    "duration": 3,
    "start_time": "2021-07-08T17:10:05.093Z"
   },
   {
    "duration": 3389,
    "start_time": "2021-07-08T17:11:44.953Z"
   },
   {
    "duration": 2048,
    "start_time": "2021-07-08T17:11:56.205Z"
   },
   {
    "duration": 3,
    "start_time": "2021-07-08T17:11:58.255Z"
   },
   {
    "duration": 353,
    "start_time": "2021-07-08T17:11:58.264Z"
   },
   {
    "duration": 23,
    "start_time": "2021-07-08T17:11:58.619Z"
   },
   {
    "duration": 19,
    "start_time": "2021-07-08T17:11:58.644Z"
   },
   {
    "duration": 11,
    "start_time": "2021-07-08T17:11:58.666Z"
   },
   {
    "duration": 14,
    "start_time": "2021-07-08T17:11:58.682Z"
   },
   {
    "duration": 13,
    "start_time": "2021-07-08T17:11:58.699Z"
   },
   {
    "duration": 5,
    "start_time": "2021-07-08T17:11:58.715Z"
   },
   {
    "duration": 66,
    "start_time": "2021-07-08T17:11:58.723Z"
   },
   {
    "duration": 9,
    "start_time": "2021-07-08T17:11:58.791Z"
   },
   {
    "duration": 13,
    "start_time": "2021-07-08T17:11:58.803Z"
   },
   {
    "duration": 8,
    "start_time": "2021-07-08T17:11:58.818Z"
   },
   {
    "duration": 74,
    "start_time": "2021-07-08T17:11:58.828Z"
   },
   {
    "duration": 20,
    "start_time": "2021-07-08T17:11:58.904Z"
   },
   {
    "duration": 72,
    "start_time": "2021-07-08T17:11:58.926Z"
   },
   {
    "duration": 23,
    "start_time": "2021-07-08T17:11:59.000Z"
   },
   {
    "duration": 18,
    "start_time": "2021-07-08T17:11:59.025Z"
   },
   {
    "duration": 36,
    "start_time": "2021-07-08T17:11:59.045Z"
   },
   {
    "duration": 26,
    "start_time": "2021-07-08T17:11:59.087Z"
   },
   {
    "duration": 22,
    "start_time": "2021-07-08T17:11:59.116Z"
   },
   {
    "duration": 33,
    "start_time": "2021-07-08T17:11:59.144Z"
   },
   {
    "duration": 23,
    "start_time": "2021-07-08T17:11:59.181Z"
   },
   {
    "duration": 7,
    "start_time": "2021-07-08T17:11:59.206Z"
   },
   {
    "duration": 24,
    "start_time": "2021-07-08T17:11:59.215Z"
   },
   {
    "duration": 57,
    "start_time": "2021-07-08T17:11:59.242Z"
   },
   {
    "duration": 6,
    "start_time": "2021-07-08T17:11:59.301Z"
   },
   {
    "duration": 53,
    "start_time": "2021-07-08T17:11:59.310Z"
   },
   {
    "duration": 8,
    "start_time": "2021-07-08T17:11:59.369Z"
   },
   {
    "duration": 28,
    "start_time": "2021-07-08T17:11:59.380Z"
   },
   {
    "duration": 16,
    "start_time": "2021-07-08T17:11:59.411Z"
   },
   {
    "duration": 172,
    "start_time": "2021-07-08T17:11:59.429Z"
   },
   {
    "duration": 5,
    "start_time": "2021-07-08T17:11:59.604Z"
   },
   {
    "duration": 77,
    "start_time": "2021-07-08T17:11:59.612Z"
   },
   {
    "duration": 5,
    "start_time": "2021-07-08T17:11:59.692Z"
   },
   {
    "duration": 3445,
    "start_time": "2021-07-08T17:11:59.700Z"
   },
   {
    "duration": 26,
    "start_time": "2021-07-08T17:12:03.147Z"
   },
   {
    "duration": 6,
    "start_time": "2021-07-08T17:12:03.178Z"
   },
   {
    "duration": 19,
    "start_time": "2021-07-08T17:12:03.186Z"
   },
   {
    "duration": 287,
    "start_time": "2021-07-08T17:12:03.208Z"
   },
   {
    "duration": 292,
    "start_time": "2021-07-08T17:12:03.498Z"
   },
   {
    "duration": 263,
    "start_time": "2021-07-08T17:12:03.792Z"
   },
   {
    "duration": 283,
    "start_time": "2021-07-08T17:12:04.057Z"
   },
   {
    "duration": 374,
    "start_time": "2021-07-08T17:12:04.343Z"
   },
   {
    "duration": 279,
    "start_time": "2021-07-08T17:12:04.719Z"
   },
   {
    "duration": 381,
    "start_time": "2021-07-08T17:12:05.000Z"
   },
   {
    "duration": 5,
    "start_time": "2021-07-08T17:12:05.387Z"
   },
   {
    "duration": 291,
    "start_time": "2021-07-08T17:12:05.396Z"
   },
   {
    "duration": 268,
    "start_time": "2021-07-08T17:12:05.690Z"
   },
   {
    "duration": 282,
    "start_time": "2021-07-08T17:12:05.961Z"
   },
   {
    "duration": 291,
    "start_time": "2021-07-08T17:12:06.245Z"
   },
   {
    "duration": 276,
    "start_time": "2021-07-08T17:12:06.539Z"
   },
   {
    "duration": 317,
    "start_time": "2021-07-08T17:12:06.818Z"
   },
   {
    "duration": 310,
    "start_time": "2021-07-08T17:12:07.138Z"
   },
   {
    "duration": 19,
    "start_time": "2021-07-08T17:12:07.450Z"
   },
   {
    "duration": 16,
    "start_time": "2021-07-08T17:12:07.472Z"
   },
   {
    "duration": 277,
    "start_time": "2021-07-08T17:12:07.490Z"
   },
   {
    "duration": 272,
    "start_time": "2021-07-08T17:12:07.769Z"
   },
   {
    "duration": 4,
    "start_time": "2021-07-08T17:12:08.045Z"
   },
   {
    "duration": 59,
    "start_time": "2021-07-08T17:12:08.052Z"
   },
   {
    "duration": 33,
    "start_time": "2021-07-08T17:12:08.114Z"
   },
   {
    "duration": 5,
    "start_time": "2021-07-08T17:12:08.149Z"
   },
   {
    "duration": 18,
    "start_time": "2021-07-08T17:12:08.175Z"
   },
   {
    "duration": 16,
    "start_time": "2021-07-08T17:12:08.201Z"
   },
   {
    "duration": 18,
    "start_time": "2021-07-08T17:12:08.219Z"
   },
   {
    "duration": 130,
    "start_time": "2021-07-08T17:12:08.239Z"
   },
   {
    "duration": 9,
    "start_time": "2021-07-08T17:12:08.378Z"
   },
   {
    "duration": 250,
    "start_time": "2021-07-08T17:12:08.390Z"
   },
   {
    "duration": 626,
    "start_time": "2021-07-08T17:12:08.643Z"
   },
   {
    "duration": 275,
    "start_time": "2021-07-08T17:12:09.272Z"
   },
   {
    "duration": 52,
    "start_time": "2021-07-08T17:12:09.549Z"
   },
   {
    "duration": 17,
    "start_time": "2021-07-08T17:12:09.604Z"
   },
   {
    "duration": 44,
    "start_time": "2021-07-08T17:12:09.624Z"
   },
   {
    "duration": 27,
    "start_time": "2021-07-08T17:12:09.671Z"
   },
   {
    "duration": 103,
    "start_time": "2021-07-08T17:12:09.703Z"
   },
   {
    "duration": 7,
    "start_time": "2021-07-08T17:12:09.809Z"
   },
   {
    "duration": 62,
    "start_time": "2021-07-08T17:12:09.819Z"
   },
   {
    "duration": 207,
    "start_time": "2021-07-08T17:12:09.884Z"
   },
   {
    "duration": 220,
    "start_time": "2021-07-08T17:12:10.093Z"
   },
   {
    "duration": 20,
    "start_time": "2021-07-08T17:12:10.316Z"
   },
   {
    "duration": 75,
    "start_time": "2021-07-08T17:12:10.339Z"
   },
   {
    "duration": 12,
    "start_time": "2021-07-08T17:12:10.416Z"
   },
   {
    "duration": 16,
    "start_time": "2021-07-08T17:12:10.431Z"
   },
   {
    "duration": 31,
    "start_time": "2021-07-08T17:12:10.449Z"
   },
   {
    "duration": 14,
    "start_time": "2021-07-08T17:12:10.483Z"
   },
   {
    "duration": 10,
    "start_time": "2021-07-08T17:12:10.506Z"
   },
   {
    "duration": 4,
    "start_time": "2021-07-08T17:12:10.518Z"
   },
   {
    "duration": 8,
    "start_time": "2021-07-08T17:12:10.524Z"
   },
   {
    "duration": 2170,
    "start_time": "2021-07-08T17:13:28.560Z"
   },
   {
    "duration": 3,
    "start_time": "2021-07-08T17:13:30.733Z"
   },
   {
    "duration": 400,
    "start_time": "2021-07-08T17:13:30.739Z"
   },
   {
    "duration": 28,
    "start_time": "2021-07-08T17:13:31.143Z"
   },
   {
    "duration": 27,
    "start_time": "2021-07-08T17:13:31.174Z"
   },
   {
    "duration": 11,
    "start_time": "2021-07-08T17:13:31.206Z"
   },
   {
    "duration": 19,
    "start_time": "2021-07-08T17:13:31.219Z"
   },
   {
    "duration": 35,
    "start_time": "2021-07-08T17:13:31.242Z"
   },
   {
    "duration": 8,
    "start_time": "2021-07-08T17:13:31.284Z"
   },
   {
    "duration": 39,
    "start_time": "2021-07-08T17:13:31.294Z"
   },
   {
    "duration": 6,
    "start_time": "2021-07-08T17:13:31.335Z"
   },
   {
    "duration": 32,
    "start_time": "2021-07-08T17:13:31.343Z"
   },
   {
    "duration": 24,
    "start_time": "2021-07-08T17:13:31.381Z"
   },
   {
    "duration": 26,
    "start_time": "2021-07-08T17:13:31.408Z"
   },
   {
    "duration": 18,
    "start_time": "2021-07-08T17:13:31.437Z"
   },
   {
    "duration": 49,
    "start_time": "2021-07-08T17:13:31.469Z"
   },
   {
    "duration": 23,
    "start_time": "2021-07-08T17:13:31.520Z"
   },
   {
    "duration": 42,
    "start_time": "2021-07-08T17:13:31.546Z"
   },
   {
    "duration": 20,
    "start_time": "2021-07-08T17:13:31.590Z"
   },
   {
    "duration": 23,
    "start_time": "2021-07-08T17:13:31.614Z"
   },
   {
    "duration": 59,
    "start_time": "2021-07-08T17:13:31.639Z"
   },
   {
    "duration": 16,
    "start_time": "2021-07-08T17:13:31.703Z"
   },
   {
    "duration": 21,
    "start_time": "2021-07-08T17:13:31.729Z"
   },
   {
    "duration": 25,
    "start_time": "2021-07-08T17:13:31.754Z"
   },
   {
    "duration": 18,
    "start_time": "2021-07-08T17:13:31.785Z"
   },
   {
    "duration": 28,
    "start_time": "2021-07-08T17:13:31.808Z"
   },
   {
    "duration": 7,
    "start_time": "2021-07-08T17:13:31.839Z"
   },
   {
    "duration": 53,
    "start_time": "2021-07-08T17:13:31.868Z"
   },
   {
    "duration": 7,
    "start_time": "2021-07-08T17:13:31.923Z"
   },
   {
    "duration": 6,
    "start_time": "2021-07-08T17:13:31.932Z"
   },
   {
    "duration": 31,
    "start_time": "2021-07-08T17:13:31.940Z"
   },
   {
    "duration": 141,
    "start_time": "2021-07-08T17:13:31.975Z"
   },
   {
    "duration": 4,
    "start_time": "2021-07-08T17:13:32.119Z"
   },
   {
    "duration": 78,
    "start_time": "2021-07-08T17:13:32.125Z"
   },
   {
    "duration": 5,
    "start_time": "2021-07-08T17:13:32.207Z"
   },
   {
    "duration": 3675,
    "start_time": "2021-07-08T17:13:32.214Z"
   },
   {
    "duration": 13,
    "start_time": "2021-07-08T17:13:35.891Z"
   },
   {
    "duration": 6,
    "start_time": "2021-07-08T17:13:35.907Z"
   },
   {
    "duration": 11,
    "start_time": "2021-07-08T17:13:35.916Z"
   },
   {
    "duration": 1334,
    "start_time": "2021-07-08T17:13:35.930Z"
   },
   {
    "duration": -416,
    "start_time": "2021-07-08T17:13:37.688Z"
   },
   {
    "duration": -417,
    "start_time": "2021-07-08T17:13:37.691Z"
   },
   {
    "duration": -416,
    "start_time": "2021-07-08T17:13:37.692Z"
   },
   {
    "duration": -418,
    "start_time": "2021-07-08T17:13:37.696Z"
   },
   {
    "duration": -419,
    "start_time": "2021-07-08T17:13:37.698Z"
   },
   {
    "duration": -421,
    "start_time": "2021-07-08T17:13:37.702Z"
   },
   {
    "duration": -425,
    "start_time": "2021-07-08T17:13:37.708Z"
   },
   {
    "duration": -425,
    "start_time": "2021-07-08T17:13:37.710Z"
   },
   {
    "duration": -424,
    "start_time": "2021-07-08T17:13:37.712Z"
   },
   {
    "duration": -431,
    "start_time": "2021-07-08T17:13:37.721Z"
   },
   {
    "duration": -433,
    "start_time": "2021-07-08T17:13:37.725Z"
   },
   {
    "duration": -433,
    "start_time": "2021-07-08T17:13:37.727Z"
   },
   {
    "duration": -433,
    "start_time": "2021-07-08T17:13:37.729Z"
   },
   {
    "duration": -434,
    "start_time": "2021-07-08T17:13:37.732Z"
   },
   {
    "duration": -433,
    "start_time": "2021-07-08T17:13:37.733Z"
   },
   {
    "duration": -433,
    "start_time": "2021-07-08T17:13:37.735Z"
   },
   {
    "duration": -479,
    "start_time": "2021-07-08T17:13:37.782Z"
   },
   {
    "duration": -480,
    "start_time": "2021-07-08T17:13:37.785Z"
   },
   {
    "duration": -480,
    "start_time": "2021-07-08T17:13:37.788Z"
   },
   {
    "duration": -481,
    "start_time": "2021-07-08T17:13:37.790Z"
   },
   {
    "duration": -480,
    "start_time": "2021-07-08T17:13:37.792Z"
   },
   {
    "duration": -481,
    "start_time": "2021-07-08T17:13:37.794Z"
   },
   {
    "duration": -481,
    "start_time": "2021-07-08T17:13:37.796Z"
   },
   {
    "duration": -481,
    "start_time": "2021-07-08T17:13:37.798Z"
   },
   {
    "duration": -431,
    "start_time": "2021-07-08T17:13:37.800Z"
   },
   {
    "duration": -431,
    "start_time": "2021-07-08T17:13:37.802Z"
   },
   {
    "duration": -432,
    "start_time": "2021-07-08T17:13:37.804Z"
   },
   {
    "duration": -429,
    "start_time": "2021-07-08T17:13:37.806Z"
   },
   {
    "duration": -430,
    "start_time": "2021-07-08T17:13:37.808Z"
   },
   {
    "duration": -430,
    "start_time": "2021-07-08T17:13:37.810Z"
   },
   {
    "duration": -429,
    "start_time": "2021-07-08T17:13:37.811Z"
   },
   {
    "duration": -443,
    "start_time": "2021-07-08T17:13:37.827Z"
   },
   {
    "duration": -449,
    "start_time": "2021-07-08T17:13:37.835Z"
   },
   {
    "duration": -449,
    "start_time": "2021-07-08T17:13:37.837Z"
   },
   {
    "duration": -457,
    "start_time": "2021-07-08T17:13:37.847Z"
   },
   {
    "duration": -457,
    "start_time": "2021-07-08T17:13:37.849Z"
   },
   {
    "duration": -510,
    "start_time": "2021-07-08T17:13:37.904Z"
   },
   {
    "duration": -510,
    "start_time": "2021-07-08T17:13:37.906Z"
   },
   {
    "duration": -543,
    "start_time": "2021-07-08T17:13:37.941Z"
   },
   {
    "duration": -547,
    "start_time": "2021-07-08T17:13:37.947Z"
   },
   {
    "duration": -546,
    "start_time": "2021-07-08T17:13:37.948Z"
   },
   {
    "duration": -548,
    "start_time": "2021-07-08T17:13:37.952Z"
   },
   {
    "duration": -550,
    "start_time": "2021-07-08T17:13:37.956Z"
   },
   {
    "duration": -550,
    "start_time": "2021-07-08T17:13:37.958Z"
   },
   {
    "duration": -550,
    "start_time": "2021-07-08T17:13:37.960Z"
   },
   {
    "duration": -550,
    "start_time": "2021-07-08T17:13:37.962Z"
   },
   {
    "duration": -550,
    "start_time": "2021-07-08T17:13:37.964Z"
   },
   {
    "duration": -550,
    "start_time": "2021-07-08T17:13:37.966Z"
   },
   {
    "duration": 6,
    "start_time": "2021-07-08T17:14:25.531Z"
   },
   {
    "duration": 9193,
    "start_time": "2021-07-08T17:14:27.328Z"
   },
   {
    "duration": 12,
    "start_time": "2021-07-08T17:15:14.360Z"
   },
   {
    "duration": 5,
    "start_time": "2021-07-08T17:15:32.359Z"
   },
   {
    "duration": 3587,
    "start_time": "2021-07-08T17:15:36.095Z"
   },
   {
    "duration": 6,
    "start_time": "2021-07-08T17:16:17.994Z"
   },
   {
    "duration": 37,
    "start_time": "2021-07-08T17:16:20.557Z"
   },
   {
    "duration": 2249,
    "start_time": "2021-07-08T17:16:31.851Z"
   },
   {
    "duration": 7,
    "start_time": "2021-07-08T17:16:34.103Z"
   },
   {
    "duration": 355,
    "start_time": "2021-07-08T17:16:34.115Z"
   },
   {
    "duration": 30,
    "start_time": "2021-07-08T17:16:34.477Z"
   },
   {
    "duration": 18,
    "start_time": "2021-07-08T17:16:34.511Z"
   },
   {
    "duration": 5,
    "start_time": "2021-07-08T17:16:34.532Z"
   },
   {
    "duration": 26,
    "start_time": "2021-07-08T17:16:34.567Z"
   },
   {
    "duration": 19,
    "start_time": "2021-07-08T17:16:34.602Z"
   },
   {
    "duration": 7,
    "start_time": "2021-07-08T17:16:34.624Z"
   },
   {
    "duration": 61,
    "start_time": "2021-07-08T17:16:34.634Z"
   },
   {
    "duration": 9,
    "start_time": "2021-07-08T17:16:34.704Z"
   },
   {
    "duration": 25,
    "start_time": "2021-07-08T17:16:34.716Z"
   },
   {
    "duration": 33,
    "start_time": "2021-07-08T17:16:34.744Z"
   },
   {
    "duration": 31,
    "start_time": "2021-07-08T17:16:34.779Z"
   },
   {
    "duration": 18,
    "start_time": "2021-07-08T17:16:34.813Z"
   },
   {
    "duration": 86,
    "start_time": "2021-07-08T17:16:34.833Z"
   },
   {
    "duration": 25,
    "start_time": "2021-07-08T17:16:34.923Z"
   },
   {
    "duration": 33,
    "start_time": "2021-07-08T17:16:34.951Z"
   },
   {
    "duration": 21,
    "start_time": "2021-07-08T17:16:34.986Z"
   },
   {
    "duration": 33,
    "start_time": "2021-07-08T17:16:35.010Z"
   },
   {
    "duration": 32,
    "start_time": "2021-07-08T17:16:35.069Z"
   },
   {
    "duration": 8,
    "start_time": "2021-07-08T17:16:35.106Z"
   },
   {
    "duration": 18,
    "start_time": "2021-07-08T17:16:35.121Z"
   },
   {
    "duration": 42,
    "start_time": "2021-07-08T17:16:35.145Z"
   },
   {
    "duration": 17,
    "start_time": "2021-07-08T17:16:35.190Z"
   },
   {
    "duration": 34,
    "start_time": "2021-07-08T17:16:35.211Z"
   },
   {
    "duration": 34,
    "start_time": "2021-07-08T17:16:35.248Z"
   },
   {
    "duration": 63,
    "start_time": "2021-07-08T17:16:35.284Z"
   },
   {
    "duration": 18,
    "start_time": "2021-07-08T17:16:35.351Z"
   },
   {
    "duration": 17,
    "start_time": "2021-07-08T17:16:35.372Z"
   },
   {
    "duration": 16,
    "start_time": "2021-07-08T17:16:35.393Z"
   },
   {
    "duration": 216,
    "start_time": "2021-07-08T17:16:35.413Z"
   },
   {
    "duration": 5,
    "start_time": "2021-07-08T17:16:35.632Z"
   },
   {
    "duration": 90,
    "start_time": "2021-07-08T17:16:35.639Z"
   },
   {
    "duration": 6,
    "start_time": "2021-07-08T17:16:35.732Z"
   },
   {
    "duration": 3733,
    "start_time": "2021-07-08T17:16:35.741Z"
   },
   {
    "duration": 16,
    "start_time": "2021-07-08T17:16:39.477Z"
   },
   {
    "duration": 5,
    "start_time": "2021-07-08T17:16:39.500Z"
   },
   {
    "duration": 23,
    "start_time": "2021-07-08T17:16:39.507Z"
   },
   {
    "duration": 46,
    "start_time": "2021-07-08T17:16:39.533Z"
   },
   {
    "duration": 30,
    "start_time": "2021-07-08T17:16:39.581Z"
   },
   {
    "duration": 25,
    "start_time": "2021-07-08T17:16:39.614Z"
   },
   {
    "duration": 59,
    "start_time": "2021-07-08T17:16:39.642Z"
   },
   {
    "duration": 24,
    "start_time": "2021-07-08T17:16:39.703Z"
   },
   {
    "duration": 47,
    "start_time": "2021-07-08T17:16:39.730Z"
   },
   {
    "duration": 28,
    "start_time": "2021-07-08T17:16:39.784Z"
   },
   {
    "duration": 4,
    "start_time": "2021-07-08T17:16:39.814Z"
   },
   {
    "duration": 26,
    "start_time": "2021-07-08T17:16:39.820Z"
   },
   {
    "duration": 52,
    "start_time": "2021-07-08T17:16:39.849Z"
   },
   {
    "duration": 25,
    "start_time": "2021-07-08T17:16:39.903Z"
   },
   {
    "duration": 60,
    "start_time": "2021-07-08T17:16:39.931Z"
   },
   {
    "duration": 22,
    "start_time": "2021-07-08T17:16:39.994Z"
   },
   {
    "duration": 338,
    "start_time": "2021-07-08T17:16:40.019Z"
   },
   {
    "duration": 309,
    "start_time": "2021-07-08T17:16:40.377Z"
   },
   {
    "duration": 14,
    "start_time": "2021-07-08T17:16:40.689Z"
   },
   {
    "duration": 11,
    "start_time": "2021-07-08T17:16:40.706Z"
   },
   {
    "duration": 63,
    "start_time": "2021-07-08T17:16:40.720Z"
   },
   {
    "duration": 26,
    "start_time": "2021-07-08T17:16:40.790Z"
   },
   {
    "duration": 3,
    "start_time": "2021-07-08T17:16:40.819Z"
   },
   {
    "duration": 24,
    "start_time": "2021-07-08T17:16:40.825Z"
   },
   {
    "duration": 43,
    "start_time": "2021-07-08T17:16:40.868Z"
   },
   {
    "duration": 5,
    "start_time": "2021-07-08T17:16:40.913Z"
   },
   {
    "duration": 19,
    "start_time": "2021-07-08T17:16:40.927Z"
   },
   {
    "duration": 54,
    "start_time": "2021-07-08T17:16:40.949Z"
   },
   {
    "duration": 27,
    "start_time": "2021-07-08T17:16:41.006Z"
   },
   {
    "duration": 147,
    "start_time": "2021-07-08T17:16:41.037Z"
   },
   {
    "duration": 11,
    "start_time": "2021-07-08T17:16:41.190Z"
   },
   {
    "duration": 260,
    "start_time": "2021-07-08T17:16:41.210Z"
   },
   {
    "duration": 610,
    "start_time": "2021-07-08T17:16:41.476Z"
   },
   {
    "duration": 239,
    "start_time": "2021-07-08T17:16:42.089Z"
   },
   {
    "duration": 59,
    "start_time": "2021-07-08T17:16:42.330Z"
   },
   {
    "duration": 18,
    "start_time": "2021-07-08T17:16:42.393Z"
   },
   {
    "duration": 15,
    "start_time": "2021-07-08T17:16:42.414Z"
   },
   {
    "duration": 49,
    "start_time": "2021-07-08T17:16:42.432Z"
   },
   {
    "duration": 120,
    "start_time": "2021-07-08T17:16:42.489Z"
   },
   {
    "duration": 7,
    "start_time": "2021-07-08T17:16:42.611Z"
   },
   {
    "duration": 86,
    "start_time": "2021-07-08T17:16:42.620Z"
   },
   {
    "duration": 218,
    "start_time": "2021-07-08T17:16:42.709Z"
   },
   {
    "duration": 226,
    "start_time": "2021-07-08T17:16:42.930Z"
   },
   {
    "duration": 26,
    "start_time": "2021-07-08T17:16:43.160Z"
   },
   {
    "duration": 53,
    "start_time": "2021-07-08T17:16:43.193Z"
   },
   {
    "duration": 37,
    "start_time": "2021-07-08T17:16:43.249Z"
   },
   {
    "duration": 13,
    "start_time": "2021-07-08T17:16:43.290Z"
   },
   {
    "duration": 6,
    "start_time": "2021-07-08T17:16:43.306Z"
   },
   {
    "duration": 14,
    "start_time": "2021-07-08T17:16:43.315Z"
   },
   {
    "duration": 59,
    "start_time": "2021-07-08T17:16:43.331Z"
   },
   {
    "duration": 4,
    "start_time": "2021-07-08T17:16:43.395Z"
   },
   {
    "duration": 5,
    "start_time": "2021-07-08T17:16:43.401Z"
   },
   {
    "duration": 34,
    "start_time": "2021-07-08T17:19:37.757Z"
   },
   {
    "duration": 25,
    "start_time": "2021-07-08T17:19:58.139Z"
   },
   {
    "duration": 2535,
    "start_time": "2021-07-08T17:20:24.384Z"
   },
   {
    "duration": 4,
    "start_time": "2021-07-08T17:20:26.923Z"
   },
   {
    "duration": 354,
    "start_time": "2021-07-08T17:20:26.931Z"
   },
   {
    "duration": 36,
    "start_time": "2021-07-08T17:20:27.289Z"
   },
   {
    "duration": 19,
    "start_time": "2021-07-08T17:20:27.328Z"
   },
   {
    "duration": 35,
    "start_time": "2021-07-08T17:20:27.351Z"
   },
   {
    "duration": 17,
    "start_time": "2021-07-08T17:20:27.391Z"
   },
   {
    "duration": 14,
    "start_time": "2021-07-08T17:20:27.413Z"
   },
   {
    "duration": 6,
    "start_time": "2021-07-08T17:20:27.431Z"
   },
   {
    "duration": 63,
    "start_time": "2021-07-08T17:20:27.440Z"
   },
   {
    "duration": 6,
    "start_time": "2021-07-08T17:20:27.505Z"
   },
   {
    "duration": 60,
    "start_time": "2021-07-08T17:20:27.515Z"
   },
   {
    "duration": 14,
    "start_time": "2021-07-08T17:20:27.578Z"
   },
   {
    "duration": 35,
    "start_time": "2021-07-08T17:20:27.595Z"
   },
   {
    "duration": 49,
    "start_time": "2021-07-08T17:20:27.634Z"
   },
   {
    "duration": 48,
    "start_time": "2021-07-08T17:20:27.686Z"
   },
   {
    "duration": 46,
    "start_time": "2021-07-08T17:20:27.737Z"
   },
   {
    "duration": 27,
    "start_time": "2021-07-08T17:20:27.785Z"
   },
   {
    "duration": 18,
    "start_time": "2021-07-08T17:20:27.815Z"
   },
   {
    "duration": 70,
    "start_time": "2021-07-08T17:20:27.836Z"
   },
   {
    "duration": 33,
    "start_time": "2021-07-08T17:20:27.909Z"
   },
   {
    "duration": 27,
    "start_time": "2021-07-08T17:20:27.945Z"
   },
   {
    "duration": 27,
    "start_time": "2021-07-08T17:20:27.988Z"
   },
   {
    "duration": 11,
    "start_time": "2021-07-08T17:20:28.021Z"
   },
   {
    "duration": 45,
    "start_time": "2021-07-08T17:20:28.036Z"
   },
   {
    "duration": 32,
    "start_time": "2021-07-08T17:20:28.083Z"
   },
   {
    "duration": 8,
    "start_time": "2021-07-08T17:20:28.117Z"
   },
   {
    "duration": 75,
    "start_time": "2021-07-08T17:20:28.129Z"
   },
   {
    "duration": 11,
    "start_time": "2021-07-08T17:20:28.207Z"
   },
   {
    "duration": 7,
    "start_time": "2021-07-08T17:20:28.221Z"
   },
   {
    "duration": 35,
    "start_time": "2021-07-08T17:20:28.231Z"
   },
   {
    "duration": 127,
    "start_time": "2021-07-08T17:20:28.270Z"
   },
   {
    "duration": 5,
    "start_time": "2021-07-08T17:20:28.399Z"
   },
   {
    "duration": 83,
    "start_time": "2021-07-08T17:20:28.407Z"
   },
   {
    "duration": 6,
    "start_time": "2021-07-08T17:20:28.493Z"
   },
   {
    "duration": 4488,
    "start_time": "2021-07-08T17:20:28.502Z"
   },
   {
    "duration": 18,
    "start_time": "2021-07-08T17:20:32.993Z"
   },
   {
    "duration": 7,
    "start_time": "2021-07-08T17:20:33.015Z"
   },
   {
    "duration": 6,
    "start_time": "2021-07-08T17:20:33.026Z"
   },
   {
    "duration": 77,
    "start_time": "2021-07-08T17:20:33.036Z"
   },
   {
    "duration": 39,
    "start_time": "2021-07-08T17:20:33.116Z"
   },
   {
    "duration": 808,
    "start_time": "2021-07-08T17:20:33.158Z"
   },
   {
    "duration": -466,
    "start_time": "2021-07-08T17:20:34.448Z"
   },
   {
    "duration": -461,
    "start_time": "2021-07-08T17:20:34.454Z"
   },
   {
    "duration": -501,
    "start_time": "2021-07-08T17:20:34.500Z"
   },
   {
    "duration": -507,
    "start_time": "2021-07-08T17:20:34.512Z"
   },
   {
    "duration": -505,
    "start_time": "2021-07-08T17:20:34.515Z"
   },
   {
    "duration": -505,
    "start_time": "2021-07-08T17:20:34.519Z"
   },
   {
    "duration": -506,
    "start_time": "2021-07-08T17:20:34.522Z"
   },
   {
    "duration": -504,
    "start_time": "2021-07-08T17:20:34.525Z"
   },
   {
    "duration": -502,
    "start_time": "2021-07-08T17:20:34.526Z"
   },
   {
    "duration": -501,
    "start_time": "2021-07-08T17:20:34.528Z"
   },
   {
    "duration": -502,
    "start_time": "2021-07-08T17:20:34.530Z"
   },
   {
    "duration": -501,
    "start_time": "2021-07-08T17:20:34.532Z"
   },
   {
    "duration": -502,
    "start_time": "2021-07-08T17:20:34.534Z"
   },
   {
    "duration": -501,
    "start_time": "2021-07-08T17:20:34.536Z"
   },
   {
    "duration": -502,
    "start_time": "2021-07-08T17:20:34.538Z"
   },
   {
    "duration": -502,
    "start_time": "2021-07-08T17:20:34.540Z"
   },
   {
    "duration": -503,
    "start_time": "2021-07-08T17:20:34.543Z"
   },
   {
    "duration": -504,
    "start_time": "2021-07-08T17:20:34.546Z"
   },
   {
    "duration": -504,
    "start_time": "2021-07-08T17:20:34.548Z"
   },
   {
    "duration": -504,
    "start_time": "2021-07-08T17:20:34.550Z"
   },
   {
    "duration": -502,
    "start_time": "2021-07-08T17:20:34.552Z"
   },
   {
    "duration": -478,
    "start_time": "2021-07-08T17:20:34.554Z"
   },
   {
    "duration": -479,
    "start_time": "2021-07-08T17:20:34.557Z"
   },
   {
    "duration": -482,
    "start_time": "2021-07-08T17:20:34.563Z"
   },
   {
    "duration": -479,
    "start_time": "2021-07-08T17:20:34.565Z"
   },
   {
    "duration": -477,
    "start_time": "2021-07-08T17:20:34.567Z"
   },
   {
    "duration": -476,
    "start_time": "2021-07-08T17:20:34.569Z"
   },
   {
    "duration": -475,
    "start_time": "2021-07-08T17:20:34.571Z"
   },
   {
    "duration": -472,
    "start_time": "2021-07-08T17:20:34.573Z"
   },
   {
    "duration": -471,
    "start_time": "2021-07-08T17:20:34.575Z"
   },
   {
    "duration": -468,
    "start_time": "2021-07-08T17:20:34.577Z"
   },
   {
    "duration": -467,
    "start_time": "2021-07-08T17:20:34.579Z"
   },
   {
    "duration": -466,
    "start_time": "2021-07-08T17:20:34.581Z"
   },
   {
    "duration": -466,
    "start_time": "2021-07-08T17:20:34.583Z"
   },
   {
    "duration": -477,
    "start_time": "2021-07-08T17:20:34.597Z"
   },
   {
    "duration": -477,
    "start_time": "2021-07-08T17:20:34.604Z"
   },
   {
    "duration": -442,
    "start_time": "2021-07-08T17:20:34.610Z"
   },
   {
    "duration": -501,
    "start_time": "2021-07-08T17:20:34.673Z"
   },
   {
    "duration": -502,
    "start_time": "2021-07-08T17:20:34.676Z"
   },
   {
    "duration": -502,
    "start_time": "2021-07-08T17:20:34.678Z"
   },
   {
    "duration": -501,
    "start_time": "2021-07-08T17:20:34.680Z"
   },
   {
    "duration": -499,
    "start_time": "2021-07-08T17:20:34.682Z"
   },
   {
    "duration": -497,
    "start_time": "2021-07-08T17:20:34.684Z"
   },
   {
    "duration": -496,
    "start_time": "2021-07-08T17:20:34.686Z"
   },
   {
    "duration": -495,
    "start_time": "2021-07-08T17:20:34.688Z"
   },
   {
    "duration": -495,
    "start_time": "2021-07-08T17:20:34.690Z"
   },
   {
    "duration": 2481,
    "start_time": "2021-07-08T17:21:29.917Z"
   },
   {
    "duration": 4,
    "start_time": "2021-07-08T17:21:32.403Z"
   },
   {
    "duration": 302,
    "start_time": "2021-07-08T17:21:32.411Z"
   },
   {
    "duration": 28,
    "start_time": "2021-07-08T17:21:32.716Z"
   },
   {
    "duration": 42,
    "start_time": "2021-07-08T17:21:32.746Z"
   },
   {
    "duration": 14,
    "start_time": "2021-07-08T17:21:32.791Z"
   },
   {
    "duration": 13,
    "start_time": "2021-07-08T17:21:32.809Z"
   },
   {
    "duration": 24,
    "start_time": "2021-07-08T17:21:32.828Z"
   },
   {
    "duration": 13,
    "start_time": "2021-07-08T17:21:32.872Z"
   },
   {
    "duration": 41,
    "start_time": "2021-07-08T17:21:32.888Z"
   },
   {
    "duration": 7,
    "start_time": "2021-07-08T17:21:32.932Z"
   },
   {
    "duration": 34,
    "start_time": "2021-07-08T17:21:32.944Z"
   },
   {
    "duration": 15,
    "start_time": "2021-07-08T17:21:32.980Z"
   },
   {
    "duration": 28,
    "start_time": "2021-07-08T17:21:32.998Z"
   },
   {
    "duration": 47,
    "start_time": "2021-07-08T17:21:33.029Z"
   },
   {
    "duration": 42,
    "start_time": "2021-07-08T17:21:33.078Z"
   },
   {
    "duration": 49,
    "start_time": "2021-07-08T17:21:33.123Z"
   },
   {
    "duration": 28,
    "start_time": "2021-07-08T17:21:33.175Z"
   },
   {
    "duration": 14,
    "start_time": "2021-07-08T17:21:33.208Z"
   },
   {
    "duration": 59,
    "start_time": "2021-07-08T17:21:33.225Z"
   },
   {
    "duration": 28,
    "start_time": "2021-07-08T17:21:33.289Z"
   },
   {
    "duration": 7,
    "start_time": "2021-07-08T17:21:33.320Z"
   },
   {
    "duration": 37,
    "start_time": "2021-07-08T17:21:33.335Z"
   },
   {
    "duration": 12,
    "start_time": "2021-07-08T17:21:33.376Z"
   },
   {
    "duration": 15,
    "start_time": "2021-07-08T17:21:33.391Z"
   },
   {
    "duration": 26,
    "start_time": "2021-07-08T17:21:33.412Z"
   },
   {
    "duration": 33,
    "start_time": "2021-07-08T17:21:33.440Z"
   },
   {
    "duration": 60,
    "start_time": "2021-07-08T17:21:33.484Z"
   },
   {
    "duration": 23,
    "start_time": "2021-07-08T17:21:33.547Z"
   },
   {
    "duration": 16,
    "start_time": "2021-07-08T17:21:33.575Z"
   },
   {
    "duration": 16,
    "start_time": "2021-07-08T17:21:33.594Z"
   },
   {
    "duration": 139,
    "start_time": "2021-07-08T17:21:33.613Z"
   },
   {
    "duration": 15,
    "start_time": "2021-07-08T17:21:33.754Z"
   },
   {
    "duration": 71,
    "start_time": "2021-07-08T17:21:33.772Z"
   },
   {
    "duration": 28,
    "start_time": "2021-07-08T17:21:33.846Z"
   },
   {
    "duration": 4744,
    "start_time": "2021-07-08T17:21:33.877Z"
   },
   {
    "duration": 14,
    "start_time": "2021-07-08T17:21:38.624Z"
   },
   {
    "duration": 34,
    "start_time": "2021-07-08T17:21:38.641Z"
   },
   {
    "duration": 8,
    "start_time": "2021-07-08T17:21:38.681Z"
   },
   {
    "duration": 36,
    "start_time": "2021-07-08T17:21:38.693Z"
   },
   {
    "duration": 61,
    "start_time": "2021-07-08T17:21:38.731Z"
   },
   {
    "duration": 30,
    "start_time": "2021-07-08T17:21:38.795Z"
   },
   {
    "duration": 51,
    "start_time": "2021-07-08T17:21:38.829Z"
   },
   {
    "duration": 26,
    "start_time": "2021-07-08T17:21:38.884Z"
   },
   {
    "duration": 26,
    "start_time": "2021-07-08T17:21:38.913Z"
   },
   {
    "duration": 49,
    "start_time": "2021-07-08T17:21:38.942Z"
   },
   {
    "duration": 9,
    "start_time": "2021-07-08T17:21:39.000Z"
   },
   {
    "duration": 30,
    "start_time": "2021-07-08T17:21:39.016Z"
   },
   {
    "duration": 35,
    "start_time": "2021-07-08T17:21:39.066Z"
   },
   {
    "duration": 25,
    "start_time": "2021-07-08T17:21:39.104Z"
   },
   {
    "duration": 55,
    "start_time": "2021-07-08T17:21:39.131Z"
   },
   {
    "duration": 29,
    "start_time": "2021-07-08T17:21:39.189Z"
   },
   {
    "duration": 415,
    "start_time": "2021-07-08T17:21:39.223Z"
   },
   {
    "duration": 418,
    "start_time": "2021-07-08T17:21:39.641Z"
   },
   {
    "duration": 16,
    "start_time": "2021-07-08T17:21:40.062Z"
   },
   {
    "duration": 18,
    "start_time": "2021-07-08T17:21:40.081Z"
   },
   {
    "duration": 26,
    "start_time": "2021-07-08T17:21:40.101Z"
   },
   {
    "duration": 62,
    "start_time": "2021-07-08T17:21:40.129Z"
   },
   {
    "duration": 5,
    "start_time": "2021-07-08T17:21:40.199Z"
   },
   {
    "duration": 29,
    "start_time": "2021-07-08T17:21:40.207Z"
   },
   {
    "duration": 64,
    "start_time": "2021-07-08T17:21:40.239Z"
   },
   {
    "duration": 7,
    "start_time": "2021-07-08T17:21:40.307Z"
   },
   {
    "duration": 24,
    "start_time": "2021-07-08T17:21:40.317Z"
   },
   {
    "duration": 49,
    "start_time": "2021-07-08T17:21:40.344Z"
   },
   {
    "duration": 19,
    "start_time": "2021-07-08T17:21:40.397Z"
   },
   {
    "duration": 104,
    "start_time": "2021-07-08T17:21:40.419Z"
   },
   {
    "duration": 7,
    "start_time": "2021-07-08T17:21:40.526Z"
   },
   {
    "duration": 249,
    "start_time": "2021-07-08T17:21:40.542Z"
   },
   {
    "duration": 663,
    "start_time": "2021-07-08T17:21:40.795Z"
   },
   {
    "duration": 259,
    "start_time": "2021-07-08T17:21:41.468Z"
   },
   {
    "duration": 82,
    "start_time": "2021-07-08T17:21:41.730Z"
   },
   {
    "duration": 23,
    "start_time": "2021-07-08T17:21:41.815Z"
   },
   {
    "duration": 31,
    "start_time": "2021-07-08T17:21:41.842Z"
   },
   {
    "duration": 33,
    "start_time": "2021-07-08T17:21:41.882Z"
   },
   {
    "duration": 103,
    "start_time": "2021-07-08T17:21:41.918Z"
   },
   {
    "duration": 9,
    "start_time": "2021-07-08T17:21:42.024Z"
   },
   {
    "duration": 75,
    "start_time": "2021-07-08T17:21:42.037Z"
   },
   {
    "duration": 314,
    "start_time": "2021-07-08T17:21:42.115Z"
   },
   {
    "duration": 305,
    "start_time": "2021-07-08T17:21:42.432Z"
   },
   {
    "duration": 38,
    "start_time": "2021-07-08T17:21:42.740Z"
   },
   {
    "duration": 47,
    "start_time": "2021-07-08T17:21:42.780Z"
   },
   {
    "duration": 41,
    "start_time": "2021-07-08T17:21:42.829Z"
   },
   {
    "duration": 14,
    "start_time": "2021-07-08T17:21:42.873Z"
   },
   {
    "duration": 9,
    "start_time": "2021-07-08T17:21:42.892Z"
   },
   {
    "duration": 12,
    "start_time": "2021-07-08T17:21:42.904Z"
   },
   {
    "duration": 13,
    "start_time": "2021-07-08T17:21:42.918Z"
   },
   {
    "duration": 43,
    "start_time": "2021-07-08T17:21:42.934Z"
   },
   {
    "duration": 4,
    "start_time": "2021-07-08T17:21:42.979Z"
   },
   {
    "duration": 2098,
    "start_time": "2021-07-08T17:26:35.191Z"
   },
   {
    "duration": 4,
    "start_time": "2021-07-08T17:26:37.296Z"
   },
   {
    "duration": 393,
    "start_time": "2021-07-08T17:26:37.303Z"
   },
   {
    "duration": 27,
    "start_time": "2021-07-08T17:26:37.699Z"
   },
   {
    "duration": 20,
    "start_time": "2021-07-08T17:26:37.728Z"
   },
   {
    "duration": 6,
    "start_time": "2021-07-08T17:26:37.751Z"
   },
   {
    "duration": 24,
    "start_time": "2021-07-08T17:26:37.759Z"
   },
   {
    "duration": 20,
    "start_time": "2021-07-08T17:26:37.789Z"
   },
   {
    "duration": 5,
    "start_time": "2021-07-08T17:26:37.812Z"
   },
   {
    "duration": 70,
    "start_time": "2021-07-08T17:26:37.820Z"
   },
   {
    "duration": 7,
    "start_time": "2021-07-08T17:26:37.893Z"
   },
   {
    "duration": 16,
    "start_time": "2021-07-08T17:26:37.904Z"
   },
   {
    "duration": 9,
    "start_time": "2021-07-08T17:26:37.923Z"
   },
   {
    "duration": 65,
    "start_time": "2021-07-08T17:26:37.935Z"
   },
   {
    "duration": 20,
    "start_time": "2021-07-08T17:26:38.007Z"
   },
   {
    "duration": 59,
    "start_time": "2021-07-08T17:26:38.030Z"
   },
   {
    "duration": 26,
    "start_time": "2021-07-08T17:26:38.091Z"
   },
   {
    "duration": 18,
    "start_time": "2021-07-08T17:26:38.120Z"
   },
   {
    "duration": 45,
    "start_time": "2021-07-08T17:26:38.141Z"
   },
   {
    "duration": 59,
    "start_time": "2021-07-08T17:26:38.188Z"
   },
   {
    "duration": 30,
    "start_time": "2021-07-08T17:26:38.249Z"
   },
   {
    "duration": 13,
    "start_time": "2021-07-08T17:26:38.287Z"
   },
   {
    "duration": 38,
    "start_time": "2021-07-08T17:26:38.308Z"
   },
   {
    "duration": 8,
    "start_time": "2021-07-08T17:26:38.352Z"
   },
   {
    "duration": 44,
    "start_time": "2021-07-08T17:26:38.367Z"
   },
   {
    "duration": 28,
    "start_time": "2021-07-08T17:26:38.414Z"
   },
   {
    "duration": 6,
    "start_time": "2021-07-08T17:26:38.444Z"
   },
   {
    "duration": 52,
    "start_time": "2021-07-08T17:26:38.453Z"
   },
   {
    "duration": 8,
    "start_time": "2021-07-08T17:26:38.508Z"
   },
   {
    "duration": 7,
    "start_time": "2021-07-08T17:26:38.519Z"
   },
   {
    "duration": 13,
    "start_time": "2021-07-08T17:26:38.529Z"
   },
   {
    "duration": 190,
    "start_time": "2021-07-08T17:26:38.544Z"
   },
   {
    "duration": 5,
    "start_time": "2021-07-08T17:26:38.736Z"
   },
   {
    "duration": 75,
    "start_time": "2021-07-08T17:26:38.744Z"
   },
   {
    "duration": 5,
    "start_time": "2021-07-08T17:26:38.821Z"
   },
   {
    "duration": 3653,
    "start_time": "2021-07-08T17:26:38.828Z"
   },
   {
    "duration": 19,
    "start_time": "2021-07-08T17:26:42.484Z"
   },
   {
    "duration": 8,
    "start_time": "2021-07-08T17:26:42.505Z"
   },
   {
    "duration": 9,
    "start_time": "2021-07-08T17:26:42.516Z"
   },
   {
    "duration": 52,
    "start_time": "2021-07-08T17:26:42.528Z"
   },
   {
    "duration": 30,
    "start_time": "2021-07-08T17:26:42.585Z"
   },
   {
    "duration": 55,
    "start_time": "2021-07-08T17:26:42.618Z"
   },
   {
    "duration": 32,
    "start_time": "2021-07-08T17:26:42.675Z"
   },
   {
    "duration": 24,
    "start_time": "2021-07-08T17:26:42.709Z"
   },
   {
    "duration": 70,
    "start_time": "2021-07-08T17:26:42.735Z"
   },
   {
    "duration": 23,
    "start_time": "2021-07-08T17:26:42.809Z"
   },
   {
    "duration": 3,
    "start_time": "2021-07-08T17:26:42.834Z"
   },
   {
    "duration": 49,
    "start_time": "2021-07-08T17:26:42.840Z"
   },
   {
    "duration": 29,
    "start_time": "2021-07-08T17:26:42.894Z"
   },
   {
    "duration": 63,
    "start_time": "2021-07-08T17:26:42.926Z"
   },
   {
    "duration": 23,
    "start_time": "2021-07-08T17:26:42.992Z"
   },
   {
    "duration": 26,
    "start_time": "2021-07-08T17:26:43.018Z"
   },
   {
    "duration": 358,
    "start_time": "2021-07-08T17:26:43.046Z"
   },
   {
    "duration": 303,
    "start_time": "2021-07-08T17:26:43.407Z"
   },
   {
    "duration": 11,
    "start_time": "2021-07-08T17:26:43.716Z"
   },
   {
    "duration": 13,
    "start_time": "2021-07-08T17:26:43.731Z"
   },
   {
    "duration": 28,
    "start_time": "2021-07-08T17:26:43.772Z"
   },
   {
    "duration": 23,
    "start_time": "2021-07-08T17:26:43.803Z"
   },
   {
    "duration": 25,
    "start_time": "2021-07-08T17:26:43.829Z"
   },
   {
    "duration": 39,
    "start_time": "2021-07-08T17:26:43.857Z"
   },
   {
    "duration": 33,
    "start_time": "2021-07-08T17:26:43.898Z"
   },
   {
    "duration": 36,
    "start_time": "2021-07-08T17:26:43.934Z"
   },
   {
    "duration": 25,
    "start_time": "2021-07-08T17:26:43.972Z"
   },
   {
    "duration": 19,
    "start_time": "2021-07-08T17:26:44.001Z"
   },
   {
    "duration": 19,
    "start_time": "2021-07-08T17:26:44.023Z"
   },
   {
    "duration": 102,
    "start_time": "2021-07-08T17:26:44.044Z"
   },
   {
    "duration": 19,
    "start_time": "2021-07-08T17:26:44.148Z"
   },
   {
    "duration": 253,
    "start_time": "2021-07-08T17:26:44.177Z"
   },
   {
    "duration": 640,
    "start_time": "2021-07-08T17:26:44.432Z"
   },
   {
    "duration": 374,
    "start_time": "2021-07-08T17:26:45.075Z"
   },
   {
    "duration": 51,
    "start_time": "2021-07-08T17:26:45.453Z"
   },
   {
    "duration": 16,
    "start_time": "2021-07-08T17:26:45.506Z"
   },
   {
    "duration": 55,
    "start_time": "2021-07-08T17:26:45.525Z"
   },
   {
    "duration": 35,
    "start_time": "2021-07-08T17:26:45.583Z"
   },
   {
    "duration": 89,
    "start_time": "2021-07-08T17:26:45.621Z"
   },
   {
    "duration": 8,
    "start_time": "2021-07-08T17:26:45.712Z"
   },
   {
    "duration": 86,
    "start_time": "2021-07-08T17:26:45.723Z"
   },
   {
    "duration": 217,
    "start_time": "2021-07-08T17:26:45.812Z"
   },
   {
    "duration": 301,
    "start_time": "2021-07-08T17:26:46.032Z"
   },
   {
    "duration": 39,
    "start_time": "2021-07-08T17:26:46.337Z"
   },
   {
    "duration": 68,
    "start_time": "2021-07-08T17:26:46.382Z"
   },
   {
    "duration": 35,
    "start_time": "2021-07-08T17:26:46.453Z"
   },
   {
    "duration": 15,
    "start_time": "2021-07-08T17:26:46.493Z"
   },
   {
    "duration": 8,
    "start_time": "2021-07-08T17:26:46.511Z"
   },
   {
    "duration": 23,
    "start_time": "2021-07-08T17:26:46.523Z"
   },
   {
    "duration": 30,
    "start_time": "2021-07-08T17:26:46.549Z"
   },
   {
    "duration": 9,
    "start_time": "2021-07-08T17:26:46.582Z"
   },
   {
    "duration": 13,
    "start_time": "2021-07-08T17:26:46.595Z"
   },
   {
    "duration": 2618,
    "start_time": "2021-07-08T17:30:00.272Z"
   },
   {
    "duration": 2,
    "start_time": "2021-07-08T17:30:02.896Z"
   },
   {
    "duration": 376,
    "start_time": "2021-07-08T17:30:02.901Z"
   },
   {
    "duration": 31,
    "start_time": "2021-07-08T17:30:03.280Z"
   },
   {
    "duration": 24,
    "start_time": "2021-07-08T17:30:03.314Z"
   },
   {
    "duration": 39,
    "start_time": "2021-07-08T17:30:03.341Z"
   },
   {
    "duration": 19,
    "start_time": "2021-07-08T17:30:03.387Z"
   },
   {
    "duration": 17,
    "start_time": "2021-07-08T17:30:03.413Z"
   },
   {
    "duration": 13,
    "start_time": "2021-07-08T17:30:03.434Z"
   },
   {
    "duration": 59,
    "start_time": "2021-07-08T17:30:03.450Z"
   },
   {
    "duration": 7,
    "start_time": "2021-07-08T17:30:03.512Z"
   },
   {
    "duration": 17,
    "start_time": "2021-07-08T17:30:03.522Z"
   },
   {
    "duration": 42,
    "start_time": "2021-07-08T17:30:03.541Z"
   },
   {
    "duration": 36,
    "start_time": "2021-07-08T17:30:03.587Z"
   },
   {
    "duration": 19,
    "start_time": "2021-07-08T17:30:03.626Z"
   },
   {
    "duration": 49,
    "start_time": "2021-07-08T17:30:03.670Z"
   },
   {
    "duration": 25,
    "start_time": "2021-07-08T17:30:03.722Z"
   },
   {
    "duration": 32,
    "start_time": "2021-07-08T17:30:03.776Z"
   },
   {
    "duration": 13,
    "start_time": "2021-07-08T17:30:03.810Z"
   },
   {
    "duration": 48,
    "start_time": "2021-07-08T17:30:03.825Z"
   },
   {
    "duration": 34,
    "start_time": "2021-07-08T17:30:03.881Z"
   },
   {
    "duration": 8,
    "start_time": "2021-07-08T17:30:03.919Z"
   },
   {
    "duration": 66,
    "start_time": "2021-07-08T17:30:03.936Z"
   },
   {
    "duration": 8,
    "start_time": "2021-07-08T17:30:04.007Z"
   },
   {
    "duration": 14,
    "start_time": "2021-07-08T17:30:04.018Z"
   },
   {
    "duration": 47,
    "start_time": "2021-07-08T17:30:04.035Z"
   },
   {
    "duration": 10,
    "start_time": "2021-07-08T17:30:04.085Z"
   },
   {
    "duration": 45,
    "start_time": "2021-07-08T17:30:04.098Z"
   },
   {
    "duration": 24,
    "start_time": "2021-07-08T17:30:04.146Z"
   },
   {
    "duration": 18,
    "start_time": "2021-07-08T17:30:04.174Z"
   },
   {
    "duration": 12,
    "start_time": "2021-07-08T17:30:04.199Z"
   },
   {
    "duration": 136,
    "start_time": "2021-07-08T17:30:04.214Z"
   },
   {
    "duration": 5,
    "start_time": "2021-07-08T17:30:04.353Z"
   },
   {
    "duration": 64,
    "start_time": "2021-07-08T17:30:04.361Z"
   },
   {
    "duration": 6,
    "start_time": "2021-07-08T17:30:04.428Z"
   },
   {
    "duration": 3605,
    "start_time": "2021-07-08T17:30:04.436Z"
   },
   {
    "duration": 30,
    "start_time": "2021-07-08T17:30:08.044Z"
   },
   {
    "duration": 5,
    "start_time": "2021-07-08T17:30:08.078Z"
   },
   {
    "duration": 24,
    "start_time": "2021-07-08T17:30:08.085Z"
   },
   {
    "duration": 1024,
    "start_time": "2021-07-08T17:30:08.112Z"
   },
   {
    "duration": -549,
    "start_time": "2021-07-08T17:30:09.690Z"
   },
   {
    "duration": -567,
    "start_time": "2021-07-08T17:30:09.710Z"
   },
   {
    "duration": -584,
    "start_time": "2021-07-08T17:30:09.730Z"
   },
   {
    "duration": -591,
    "start_time": "2021-07-08T17:30:09.739Z"
   },
   {
    "duration": -592,
    "start_time": "2021-07-08T17:30:09.742Z"
   },
   {
    "duration": -600,
    "start_time": "2021-07-08T17:30:09.752Z"
   },
   {
    "duration": -601,
    "start_time": "2021-07-08T17:30:09.755Z"
   },
   {
    "duration": -603,
    "start_time": "2021-07-08T17:30:09.759Z"
   },
   {
    "duration": -609,
    "start_time": "2021-07-08T17:30:09.767Z"
   },
   {
    "duration": -610,
    "start_time": "2021-07-08T17:30:09.770Z"
   },
   {
    "duration": -610,
    "start_time": "2021-07-08T17:30:09.772Z"
   },
   {
    "duration": -611,
    "start_time": "2021-07-08T17:30:09.775Z"
   },
   {
    "duration": -617,
    "start_time": "2021-07-08T17:30:09.783Z"
   },
   {
    "duration": -618,
    "start_time": "2021-07-08T17:30:09.786Z"
   },
   {
    "duration": -619,
    "start_time": "2021-07-08T17:30:09.788Z"
   },
   {
    "duration": -620,
    "start_time": "2021-07-08T17:30:09.791Z"
   },
   {
    "duration": -626,
    "start_time": "2021-07-08T17:30:09.799Z"
   },
   {
    "duration": -627,
    "start_time": "2021-07-08T17:30:09.802Z"
   },
   {
    "duration": -629,
    "start_time": "2021-07-08T17:30:09.805Z"
   },
   {
    "duration": -629,
    "start_time": "2021-07-08T17:30:09.807Z"
   },
   {
    "duration": -634,
    "start_time": "2021-07-08T17:30:09.815Z"
   },
   {
    "duration": -629,
    "start_time": "2021-07-08T17:30:09.821Z"
   },
   {
    "duration": -630,
    "start_time": "2021-07-08T17:30:09.823Z"
   },
   {
    "duration": -630,
    "start_time": "2021-07-08T17:30:09.825Z"
   },
   {
    "duration": -635,
    "start_time": "2021-07-08T17:30:09.833Z"
   },
   {
    "duration": -637,
    "start_time": "2021-07-08T17:30:09.837Z"
   },
   {
    "duration": -636,
    "start_time": "2021-07-08T17:30:09.839Z"
   },
   {
    "duration": -636,
    "start_time": "2021-07-08T17:30:09.841Z"
   },
   {
    "duration": -637,
    "start_time": "2021-07-08T17:30:09.845Z"
   },
   {
    "duration": -638,
    "start_time": "2021-07-08T17:30:09.848Z"
   },
   {
    "duration": -664,
    "start_time": "2021-07-08T17:30:09.876Z"
   },
   {
    "duration": -664,
    "start_time": "2021-07-08T17:30:09.879Z"
   },
   {
    "duration": -664,
    "start_time": "2021-07-08T17:30:09.881Z"
   },
   {
    "duration": -664,
    "start_time": "2021-07-08T17:30:09.883Z"
   },
   {
    "duration": -619,
    "start_time": "2021-07-08T17:30:09.885Z"
   },
   {
    "duration": -618,
    "start_time": "2021-07-08T17:30:09.887Z"
   },
   {
    "duration": -617,
    "start_time": "2021-07-08T17:30:09.889Z"
   },
   {
    "duration": -617,
    "start_time": "2021-07-08T17:30:09.891Z"
   },
   {
    "duration": -616,
    "start_time": "2021-07-08T17:30:09.893Z"
   },
   {
    "duration": -616,
    "start_time": "2021-07-08T17:30:09.895Z"
   },
   {
    "duration": -614,
    "start_time": "2021-07-08T17:30:09.897Z"
   },
   {
    "duration": -613,
    "start_time": "2021-07-08T17:30:09.899Z"
   },
   {
    "duration": -613,
    "start_time": "2021-07-08T17:30:09.901Z"
   },
   {
    "duration": -636,
    "start_time": "2021-07-08T17:30:09.927Z"
   },
   {
    "duration": -636,
    "start_time": "2021-07-08T17:30:09.929Z"
   },
   {
    "duration": -637,
    "start_time": "2021-07-08T17:30:09.933Z"
   },
   {
    "duration": -661,
    "start_time": "2021-07-08T17:30:09.959Z"
   },
   {
    "duration": -663,
    "start_time": "2021-07-08T17:30:09.963Z"
   },
   {
    "duration": 2863,
    "start_time": "2021-07-08T17:30:53.069Z"
   },
   {
    "duration": 3,
    "start_time": "2021-07-08T17:30:55.935Z"
   },
   {
    "duration": 421,
    "start_time": "2021-07-08T17:30:55.941Z"
   },
   {
    "duration": 34,
    "start_time": "2021-07-08T17:30:56.365Z"
   },
   {
    "duration": 33,
    "start_time": "2021-07-08T17:30:56.403Z"
   },
   {
    "duration": 6,
    "start_time": "2021-07-08T17:30:56.438Z"
   },
   {
    "duration": 21,
    "start_time": "2021-07-08T17:30:56.447Z"
   },
   {
    "duration": 20,
    "start_time": "2021-07-08T17:30:56.473Z"
   },
   {
    "duration": 8,
    "start_time": "2021-07-08T17:30:56.497Z"
   },
   {
    "duration": 67,
    "start_time": "2021-07-08T17:30:56.508Z"
   },
   {
    "duration": 7,
    "start_time": "2021-07-08T17:30:56.577Z"
   },
   {
    "duration": 39,
    "start_time": "2021-07-08T17:30:56.587Z"
   },
   {
    "duration": 8,
    "start_time": "2021-07-08T17:30:56.629Z"
   },
   {
    "duration": 43,
    "start_time": "2021-07-08T17:30:56.640Z"
   },
   {
    "duration": 29,
    "start_time": "2021-07-08T17:30:56.685Z"
   },
   {
    "duration": 58,
    "start_time": "2021-07-08T17:30:56.717Z"
   },
   {
    "duration": 30,
    "start_time": "2021-07-08T17:30:56.778Z"
   },
   {
    "duration": 24,
    "start_time": "2021-07-08T17:30:56.812Z"
   },
   {
    "duration": 56,
    "start_time": "2021-07-08T17:30:56.839Z"
   },
   {
    "duration": 27,
    "start_time": "2021-07-08T17:30:56.901Z"
   },
   {
    "duration": 50,
    "start_time": "2021-07-08T17:30:56.931Z"
   },
   {
    "duration": 11,
    "start_time": "2021-07-08T17:30:56.985Z"
   },
   {
    "duration": 23,
    "start_time": "2021-07-08T17:30:57.005Z"
   },
   {
    "duration": 8,
    "start_time": "2021-07-08T17:30:57.033Z"
   },
   {
    "duration": 15,
    "start_time": "2021-07-08T17:30:57.074Z"
   },
   {
    "duration": 27,
    "start_time": "2021-07-08T17:30:57.092Z"
   },
   {
    "duration": 14,
    "start_time": "2021-07-08T17:30:57.122Z"
   },
   {
    "duration": 69,
    "start_time": "2021-07-08T17:30:57.139Z"
   },
   {
    "duration": 6,
    "start_time": "2021-07-08T17:30:57.212Z"
   },
   {
    "duration": 9,
    "start_time": "2021-07-08T17:30:57.221Z"
   },
   {
    "duration": 52,
    "start_time": "2021-07-08T17:30:57.233Z"
   },
   {
    "duration": 166,
    "start_time": "2021-07-08T17:30:57.288Z"
   },
   {
    "duration": 20,
    "start_time": "2021-07-08T17:30:57.457Z"
   },
   {
    "duration": 56,
    "start_time": "2021-07-08T17:30:57.483Z"
   },
   {
    "duration": 5,
    "start_time": "2021-07-08T17:30:57.542Z"
   },
   {
    "duration": 3743,
    "start_time": "2021-07-08T17:30:57.550Z"
   },
   {
    "duration": 11,
    "start_time": "2021-07-08T17:31:01.296Z"
   },
   {
    "duration": 13,
    "start_time": "2021-07-08T17:31:01.310Z"
   },
   {
    "duration": 18,
    "start_time": "2021-07-08T17:31:01.325Z"
   },
   {
    "duration": 42,
    "start_time": "2021-07-08T17:31:01.345Z"
   },
   {
    "duration": 28,
    "start_time": "2021-07-08T17:31:01.390Z"
   },
   {
    "duration": 22,
    "start_time": "2021-07-08T17:31:01.420Z"
   },
   {
    "duration": 43,
    "start_time": "2021-07-08T17:31:01.445Z"
   },
   {
    "duration": 36,
    "start_time": "2021-07-08T17:31:01.490Z"
   },
   {
    "duration": 29,
    "start_time": "2021-07-08T17:31:01.528Z"
   },
   {
    "duration": 43,
    "start_time": "2021-07-08T17:31:01.559Z"
   },
   {
    "duration": 20,
    "start_time": "2021-07-08T17:31:01.604Z"
   },
   {
    "duration": 36,
    "start_time": "2021-07-08T17:31:01.627Z"
   },
   {
    "duration": 43,
    "start_time": "2021-07-08T17:31:01.666Z"
   },
   {
    "duration": 24,
    "start_time": "2021-07-08T17:31:01.713Z"
   },
   {
    "duration": 19,
    "start_time": "2021-07-08T17:31:01.740Z"
   },
   {
    "duration": 26,
    "start_time": "2021-07-08T17:31:01.762Z"
   },
   {
    "duration": 321,
    "start_time": "2021-07-08T17:31:01.795Z"
   },
   {
    "duration": 313,
    "start_time": "2021-07-08T17:31:02.118Z"
   },
   {
    "duration": 10,
    "start_time": "2021-07-08T17:31:02.433Z"
   },
   {
    "duration": 29,
    "start_time": "2021-07-08T17:31:02.446Z"
   },
   {
    "duration": 23,
    "start_time": "2021-07-08T17:31:02.481Z"
   },
   {
    "duration": 14,
    "start_time": "2021-07-08T17:31:02.507Z"
   },
   {
    "duration": 7,
    "start_time": "2021-07-08T17:31:02.524Z"
   },
   {
    "duration": 67,
    "start_time": "2021-07-08T17:31:02.533Z"
   },
   {
    "duration": 36,
    "start_time": "2021-07-08T17:31:02.603Z"
   },
   {
    "duration": 30,
    "start_time": "2021-07-08T17:31:02.643Z"
   },
   {
    "duration": 28,
    "start_time": "2021-07-08T17:31:02.682Z"
   },
   {
    "duration": 18,
    "start_time": "2021-07-08T17:31:02.713Z"
   },
   {
    "duration": 67,
    "start_time": "2021-07-08T17:31:02.734Z"
   },
   {
    "duration": 102,
    "start_time": "2021-07-08T17:31:02.805Z"
   },
   {
    "duration": 10,
    "start_time": "2021-07-08T17:31:02.910Z"
   },
   {
    "duration": 391,
    "start_time": "2021-07-08T17:31:02.928Z"
   },
   {
    "duration": 945,
    "start_time": "2021-07-08T17:31:03.323Z"
   },
   {
    "duration": 252,
    "start_time": "2021-07-08T17:31:04.271Z"
   },
   {
    "duration": 66,
    "start_time": "2021-07-08T17:31:04.526Z"
   },
   {
    "duration": 16,
    "start_time": "2021-07-08T17:31:04.596Z"
   },
   {
    "duration": 23,
    "start_time": "2021-07-08T17:31:04.615Z"
   },
   {
    "duration": 47,
    "start_time": "2021-07-08T17:31:04.641Z"
   },
   {
    "duration": 97,
    "start_time": "2021-07-08T17:31:04.692Z"
   },
   {
    "duration": 13,
    "start_time": "2021-07-08T17:31:04.791Z"
   },
   {
    "duration": 52,
    "start_time": "2021-07-08T17:31:04.806Z"
   },
   {
    "duration": 202,
    "start_time": "2021-07-08T17:31:04.877Z"
   },
   {
    "duration": 232,
    "start_time": "2021-07-08T17:31:05.081Z"
   },
   {
    "duration": 24,
    "start_time": "2021-07-08T17:31:05.316Z"
   },
   {
    "duration": 54,
    "start_time": "2021-07-08T17:31:05.366Z"
   },
   {
    "duration": 14,
    "start_time": "2021-07-08T17:31:05.424Z"
   },
   {
    "duration": 38,
    "start_time": "2021-07-08T17:31:05.441Z"
   },
   {
    "duration": 6,
    "start_time": "2021-07-08T17:31:05.488Z"
   },
   {
    "duration": 19,
    "start_time": "2021-07-08T17:31:05.497Z"
   },
   {
    "duration": 15,
    "start_time": "2021-07-08T17:31:05.520Z"
   },
   {
    "duration": 42,
    "start_time": "2021-07-08T17:31:05.539Z"
   },
   {
    "duration": 8,
    "start_time": "2021-07-08T17:31:05.584Z"
   },
   {
    "duration": 2035,
    "start_time": "2021-07-08T19:31:08.887Z"
   },
   {
    "duration": 3,
    "start_time": "2021-07-08T19:31:10.925Z"
   },
   {
    "duration": 384,
    "start_time": "2021-07-08T19:31:10.932Z"
   },
   {
    "duration": 24,
    "start_time": "2021-07-08T19:31:11.319Z"
   },
   {
    "duration": 18,
    "start_time": "2021-07-08T19:31:11.346Z"
   },
   {
    "duration": 6,
    "start_time": "2021-07-08T19:31:11.366Z"
   },
   {
    "duration": 13,
    "start_time": "2021-07-08T19:31:11.374Z"
   },
   {
    "duration": 20,
    "start_time": "2021-07-08T19:31:11.390Z"
   },
   {
    "duration": 6,
    "start_time": "2021-07-08T19:31:11.412Z"
   },
   {
    "duration": 64,
    "start_time": "2021-07-08T19:31:11.420Z"
   },
   {
    "duration": 5,
    "start_time": "2021-07-08T19:31:11.487Z"
   },
   {
    "duration": 15,
    "start_time": "2021-07-08T19:31:11.495Z"
   },
   {
    "duration": 8,
    "start_time": "2021-07-08T19:31:11.513Z"
   },
   {
    "duration": 63,
    "start_time": "2021-07-08T19:31:11.524Z"
   },
   {
    "duration": 19,
    "start_time": "2021-07-08T19:31:11.590Z"
   },
   {
    "duration": 79,
    "start_time": "2021-07-08T19:31:11.611Z"
   },
   {
    "duration": 23,
    "start_time": "2021-07-08T19:31:11.693Z"
   },
   {
    "duration": 18,
    "start_time": "2021-07-08T19:31:11.719Z"
   },
   {
    "duration": 33,
    "start_time": "2021-07-08T19:31:11.740Z"
   },
   {
    "duration": 21,
    "start_time": "2021-07-08T19:31:11.776Z"
   },
   {
    "duration": 24,
    "start_time": "2021-07-08T19:31:11.799Z"
   },
   {
    "duration": 43,
    "start_time": "2021-07-08T19:31:11.825Z"
   },
   {
    "duration": 18,
    "start_time": "2021-07-08T19:31:11.875Z"
   },
   {
    "duration": 6,
    "start_time": "2021-07-08T19:31:11.897Z"
   },
   {
    "duration": 15,
    "start_time": "2021-07-08T19:31:11.905Z"
   },
   {
    "duration": 67,
    "start_time": "2021-07-08T19:31:11.922Z"
   },
   {
    "duration": 6,
    "start_time": "2021-07-08T19:31:11.991Z"
   },
   {
    "duration": 70,
    "start_time": "2021-07-08T19:31:12.000Z"
   },
   {
    "duration": 7,
    "start_time": "2021-07-08T19:31:12.073Z"
   },
   {
    "duration": 15,
    "start_time": "2021-07-08T19:31:12.082Z"
   },
   {
    "duration": 11,
    "start_time": "2021-07-08T19:31:12.099Z"
   },
   {
    "duration": 144,
    "start_time": "2021-07-08T19:31:12.112Z"
   },
   {
    "duration": 4,
    "start_time": "2021-07-08T19:31:12.258Z"
   },
   {
    "duration": 53,
    "start_time": "2021-07-08T19:31:12.268Z"
   },
   {
    "duration": 4,
    "start_time": "2021-07-08T19:31:12.323Z"
   },
   {
    "duration": 3221,
    "start_time": "2021-07-08T19:31:12.330Z"
   },
   {
    "duration": 22,
    "start_time": "2021-07-08T19:31:15.553Z"
   },
   {
    "duration": 4,
    "start_time": "2021-07-08T19:31:15.577Z"
   },
   {
    "duration": 6,
    "start_time": "2021-07-08T19:31:15.583Z"
   },
   {
    "duration": 22,
    "start_time": "2021-07-08T19:31:15.591Z"
   },
   {
    "duration": 55,
    "start_time": "2021-07-08T19:31:15.616Z"
   },
   {
    "duration": 14,
    "start_time": "2021-07-08T19:31:15.674Z"
   },
   {
    "duration": 15,
    "start_time": "2021-07-08T19:31:15.691Z"
   },
   {
    "duration": 60,
    "start_time": "2021-07-08T19:31:15.708Z"
   },
   {
    "duration": 16,
    "start_time": "2021-07-08T19:31:15.771Z"
   },
   {
    "duration": 15,
    "start_time": "2021-07-08T19:31:15.789Z"
   },
   {
    "duration": 4,
    "start_time": "2021-07-08T19:31:15.806Z"
   },
   {
    "duration": 58,
    "start_time": "2021-07-08T19:31:15.812Z"
   },
   {
    "duration": 16,
    "start_time": "2021-07-08T19:31:15.872Z"
   },
   {
    "duration": 19,
    "start_time": "2021-07-08T19:31:15.890Z"
   },
   {
    "duration": 18,
    "start_time": "2021-07-08T19:31:15.911Z"
   },
   {
    "duration": 45,
    "start_time": "2021-07-08T19:31:15.932Z"
   },
   {
    "duration": 306,
    "start_time": "2021-07-08T19:31:15.980Z"
   },
   {
    "duration": 287,
    "start_time": "2021-07-08T19:31:16.288Z"
   },
   {
    "duration": 12,
    "start_time": "2021-07-08T19:31:16.578Z"
   },
   {
    "duration": 12,
    "start_time": "2021-07-08T19:31:16.592Z"
   },
   {
    "duration": 18,
    "start_time": "2021-07-08T19:31:16.607Z"
   },
   {
    "duration": 54,
    "start_time": "2021-07-08T19:31:16.628Z"
   },
   {
    "duration": 18,
    "start_time": "2021-07-08T19:31:16.685Z"
   },
   {
    "duration": 40,
    "start_time": "2021-07-08T19:31:16.706Z"
   },
   {
    "duration": 44,
    "start_time": "2021-07-08T19:31:16.748Z"
   },
   {
    "duration": 5,
    "start_time": "2021-07-08T19:31:16.795Z"
   },
   {
    "duration": 17,
    "start_time": "2021-07-08T19:31:16.803Z"
   },
   {
    "duration": 46,
    "start_time": "2021-07-08T19:31:16.823Z"
   },
   {
    "duration": 19,
    "start_time": "2021-07-08T19:31:16.871Z"
   },
   {
    "duration": 98,
    "start_time": "2021-07-08T19:31:16.892Z"
   },
   {
    "duration": 9,
    "start_time": "2021-07-08T19:31:16.992Z"
   },
   {
    "duration": 256,
    "start_time": "2021-07-08T19:31:17.011Z"
   },
   {
    "duration": 587,
    "start_time": "2021-07-08T19:31:17.270Z"
   },
   {
    "duration": 241,
    "start_time": "2021-07-08T19:31:17.860Z"
   },
   {
    "duration": 36,
    "start_time": "2021-07-08T19:31:18.103Z"
   },
   {
    "duration": 32,
    "start_time": "2021-07-08T19:31:18.142Z"
   },
   {
    "duration": 14,
    "start_time": "2021-07-08T19:31:18.176Z"
   },
   {
    "duration": 22,
    "start_time": "2021-07-08T19:31:18.192Z"
   },
   {
    "duration": 97,
    "start_time": "2021-07-08T19:31:18.217Z"
   },
   {
    "duration": 8,
    "start_time": "2021-07-08T19:31:18.316Z"
   },
   {
    "duration": 70,
    "start_time": "2021-07-08T19:31:18.326Z"
   },
   {
    "duration": 284,
    "start_time": "2021-07-08T19:31:18.398Z"
   },
   {
    "duration": 298,
    "start_time": "2021-07-08T19:31:18.685Z"
   },
   {
    "duration": 22,
    "start_time": "2021-07-08T19:31:18.986Z"
   },
   {
    "duration": 93,
    "start_time": "2021-07-08T19:31:19.011Z"
   },
   {
    "duration": 16,
    "start_time": "2021-07-08T19:31:19.107Z"
   },
   {
    "duration": 12,
    "start_time": "2021-07-08T19:31:19.125Z"
   },
   {
    "duration": 32,
    "start_time": "2021-07-08T19:31:19.139Z"
   },
   {
    "duration": 15,
    "start_time": "2021-07-08T19:31:19.174Z"
   },
   {
    "duration": 14,
    "start_time": "2021-07-08T19:31:19.192Z"
   },
   {
    "duration": 3,
    "start_time": "2021-07-08T19:31:19.208Z"
   },
   {
    "duration": 6,
    "start_time": "2021-07-08T19:31:19.214Z"
   },
   {
    "duration": 5,
    "start_time": "2021-07-08T19:46:18.380Z"
   },
   {
    "duration": 23,
    "start_time": "2021-07-08T19:46:21.032Z"
   },
   {
    "duration": 21,
    "start_time": "2021-07-08T19:46:39.768Z"
   },
   {
    "duration": 25,
    "start_time": "2021-07-08T19:48:39.592Z"
   },
   {
    "duration": 22,
    "start_time": "2021-07-08T19:48:44.361Z"
   },
   {
    "duration": 598,
    "start_time": "2021-07-08T19:50:27.451Z"
   },
   {
    "duration": 270,
    "start_time": "2021-07-08T19:51:10.404Z"
   },
   {
    "duration": 9903,
    "start_time": "2021-07-08T19:52:07.788Z"
   },
   {
    "duration": 266,
    "start_time": "2021-07-08T19:54:13.616Z"
   },
   {
    "duration": 110,
    "start_time": "2021-07-08T19:54:41.025Z"
   },
   {
    "duration": 506,
    "start_time": "2021-07-08T19:54:48.546Z"
   },
   {
    "duration": 267,
    "start_time": "2021-07-08T19:55:32.294Z"
   },
   {
    "duration": 290,
    "start_time": "2021-07-08T19:55:34.430Z"
   },
   {
    "duration": 11,
    "start_time": "2021-07-08T19:57:03.530Z"
   },
   {
    "duration": 11,
    "start_time": "2021-07-08T19:57:32.104Z"
   },
   {
    "duration": 22,
    "start_time": "2021-07-08T19:57:45.640Z"
   },
   {
    "duration": 21,
    "start_time": "2021-07-08T19:57:50.000Z"
   },
   {
    "duration": 674,
    "start_time": "2021-07-08T19:59:27.472Z"
   },
   {
    "duration": 559,
    "start_time": "2021-07-08T19:59:40.687Z"
   },
   {
    "duration": 2030,
    "start_time": "2021-07-08T20:07:07.869Z"
   },
   {
    "duration": 3,
    "start_time": "2021-07-08T20:07:09.901Z"
   },
   {
    "duration": 441,
    "start_time": "2021-07-08T20:07:09.907Z"
   },
   {
    "duration": 23,
    "start_time": "2021-07-08T20:07:10.351Z"
   },
   {
    "duration": 23,
    "start_time": "2021-07-08T20:07:10.376Z"
   },
   {
    "duration": 10,
    "start_time": "2021-07-08T20:07:10.401Z"
   },
   {
    "duration": 10,
    "start_time": "2021-07-08T20:07:10.414Z"
   },
   {
    "duration": 12,
    "start_time": "2021-07-08T20:07:10.428Z"
   },
   {
    "duration": 5,
    "start_time": "2021-07-08T20:07:10.468Z"
   },
   {
    "duration": 29,
    "start_time": "2021-07-08T20:07:10.475Z"
   },
   {
    "duration": 6,
    "start_time": "2021-07-08T20:07:10.506Z"
   },
   {
    "duration": 30,
    "start_time": "2021-07-08T20:07:10.514Z"
   },
   {
    "duration": 22,
    "start_time": "2021-07-08T20:07:10.546Z"
   },
   {
    "duration": 33,
    "start_time": "2021-07-08T20:07:10.571Z"
   },
   {
    "duration": 19,
    "start_time": "2021-07-08T20:07:10.606Z"
   },
   {
    "duration": 66,
    "start_time": "2021-07-08T20:07:10.627Z"
   },
   {
    "duration": 23,
    "start_time": "2021-07-08T20:07:10.695Z"
   },
   {
    "duration": 19,
    "start_time": "2021-07-08T20:07:10.720Z"
   },
   {
    "duration": 12,
    "start_time": "2021-07-08T20:07:10.767Z"
   },
   {
    "duration": 22,
    "start_time": "2021-07-08T20:07:10.781Z"
   },
   {
    "duration": 23,
    "start_time": "2021-07-08T20:07:10.805Z"
   },
   {
    "duration": 42,
    "start_time": "2021-07-08T20:07:10.830Z"
   },
   {
    "duration": 27,
    "start_time": "2021-07-08T20:07:10.878Z"
   },
   {
    "duration": 6,
    "start_time": "2021-07-08T20:07:10.909Z"
   },
   {
    "duration": 15,
    "start_time": "2021-07-08T20:07:10.918Z"
   },
   {
    "duration": 52,
    "start_time": "2021-07-08T20:07:10.935Z"
   },
   {
    "duration": 6,
    "start_time": "2021-07-08T20:07:10.990Z"
   },
   {
    "duration": 50,
    "start_time": "2021-07-08T20:07:10.998Z"
   },
   {
    "duration": 7,
    "start_time": "2021-07-08T20:07:11.067Z"
   },
   {
    "duration": 8,
    "start_time": "2021-07-08T20:07:11.076Z"
   },
   {
    "duration": 14,
    "start_time": "2021-07-08T20:07:11.086Z"
   },
   {
    "duration": 132,
    "start_time": "2021-07-08T20:07:11.103Z"
   },
   {
    "duration": 4,
    "start_time": "2021-07-08T20:07:11.238Z"
   },
   {
    "duration": 23,
    "start_time": "2021-07-08T20:07:11.244Z"
   },
   {
    "duration": 3298,
    "start_time": "2021-07-08T20:07:11.269Z"
   },
   {
    "duration": 11,
    "start_time": "2021-07-08T20:07:14.569Z"
   },
   {
    "duration": 4,
    "start_time": "2021-07-08T20:07:14.583Z"
   },
   {
    "duration": 7,
    "start_time": "2021-07-08T20:07:14.589Z"
   },
   {
    "duration": 25,
    "start_time": "2021-07-08T20:07:14.598Z"
   },
   {
    "duration": 57,
    "start_time": "2021-07-08T20:07:14.626Z"
   },
   {
    "duration": 21,
    "start_time": "2021-07-08T20:07:14.685Z"
   },
   {
    "duration": 22,
    "start_time": "2021-07-08T20:07:14.709Z"
   },
   {
    "duration": 27,
    "start_time": "2021-07-08T20:07:14.768Z"
   },
   {
    "duration": 23,
    "start_time": "2021-07-08T20:07:14.798Z"
   },
   {
    "duration": 60,
    "start_time": "2021-07-08T20:07:14.823Z"
   },
   {
    "duration": 4,
    "start_time": "2021-07-08T20:07:14.887Z"
   },
   {
    "duration": 25,
    "start_time": "2021-07-08T20:07:14.894Z"
   },
   {
    "duration": 59,
    "start_time": "2021-07-08T20:07:14.922Z"
   },
   {
    "duration": 25,
    "start_time": "2021-07-08T20:07:14.983Z"
   },
   {
    "duration": 30,
    "start_time": "2021-07-08T20:07:15.010Z"
   },
   {
    "duration": 42,
    "start_time": "2021-07-08T20:07:15.043Z"
   },
   {
    "duration": 305,
    "start_time": "2021-07-08T20:07:15.089Z"
   },
   {
    "duration": 310,
    "start_time": "2021-07-08T20:07:15.396Z"
   },
   {
    "duration": 13,
    "start_time": "2021-07-08T20:07:15.708Z"
   },
   {
    "duration": 12,
    "start_time": "2021-07-08T20:07:15.723Z"
   },
   {
    "duration": 48,
    "start_time": "2021-07-08T20:07:15.738Z"
   },
   {
    "duration": 23,
    "start_time": "2021-07-08T20:07:15.788Z"
   },
   {
    "duration": 3,
    "start_time": "2021-07-08T20:07:15.813Z"
   },
   {
    "duration": 69,
    "start_time": "2021-07-08T20:07:15.818Z"
   },
   {
    "duration": 45,
    "start_time": "2021-07-08T20:07:15.890Z"
   },
   {
    "duration": 29,
    "start_time": "2021-07-08T20:07:15.938Z"
   },
   {
    "duration": 17,
    "start_time": "2021-07-08T20:07:15.969Z"
   },
   {
    "duration": 14,
    "start_time": "2021-07-08T20:07:15.989Z"
   },
   {
    "duration": 20,
    "start_time": "2021-07-08T20:07:16.005Z"
   },
   {
    "duration": 142,
    "start_time": "2021-07-08T20:07:16.027Z"
   },
   {
    "duration": 7,
    "start_time": "2021-07-08T20:07:16.171Z"
   },
   {
    "duration": 235,
    "start_time": "2021-07-08T20:07:16.181Z"
   },
   {
    "duration": 663,
    "start_time": "2021-07-08T20:07:16.423Z"
   },
   {
    "duration": 234,
    "start_time": "2021-07-08T20:07:17.089Z"
   },
   {
    "duration": 556,
    "start_time": "2021-07-08T20:07:17.326Z"
   },
   {
    "duration": 36,
    "start_time": "2021-07-08T20:07:17.884Z"
   },
   {
    "duration": 14,
    "start_time": "2021-07-08T20:07:17.923Z"
   },
   {
    "duration": 38,
    "start_time": "2021-07-08T20:07:17.940Z"
   },
   {
    "duration": 17,
    "start_time": "2021-07-08T20:07:17.981Z"
   },
   {
    "duration": 104,
    "start_time": "2021-07-08T20:07:18.000Z"
   },
   {
    "duration": 8,
    "start_time": "2021-07-08T20:07:18.106Z"
   },
   {
    "duration": 72,
    "start_time": "2021-07-08T20:07:18.116Z"
   },
   {
    "duration": 205,
    "start_time": "2021-07-08T20:07:18.191Z"
   },
   {
    "duration": 298,
    "start_time": "2021-07-08T20:07:18.398Z"
   },
   {
    "duration": 16,
    "start_time": "2021-07-08T20:07:18.698Z"
   },
   {
    "duration": 66,
    "start_time": "2021-07-08T20:07:18.716Z"
   },
   {
    "duration": 11,
    "start_time": "2021-07-08T20:07:18.785Z"
   },
   {
    "duration": 13,
    "start_time": "2021-07-08T20:07:18.798Z"
   },
   {
    "duration": 6,
    "start_time": "2021-07-08T20:07:18.814Z"
   },
   {
    "duration": 16,
    "start_time": "2021-07-08T20:07:18.822Z"
   },
   {
    "duration": 11,
    "start_time": "2021-07-08T20:07:18.867Z"
   },
   {
    "duration": 3,
    "start_time": "2021-07-08T20:07:18.881Z"
   },
   {
    "duration": 6,
    "start_time": "2021-07-08T20:07:18.887Z"
   },
   {
    "duration": 5,
    "start_time": "2021-07-08T20:11:50.738Z"
   },
   {
    "duration": 288,
    "start_time": "2021-07-08T20:11:52.750Z"
   },
   {
    "duration": 5,
    "start_time": "2021-07-08T20:12:23.017Z"
   },
   {
    "duration": 324,
    "start_time": "2021-07-08T20:12:25.247Z"
   },
   {
    "duration": 1531,
    "start_time": "2021-07-09T06:30:32.376Z"
   },
   {
    "duration": 3,
    "start_time": "2021-07-09T06:30:33.909Z"
   },
   {
    "duration": 399,
    "start_time": "2021-07-09T06:30:33.914Z"
   },
   {
    "duration": 15,
    "start_time": "2021-07-09T06:30:34.315Z"
   },
   {
    "duration": 17,
    "start_time": "2021-07-09T06:30:34.332Z"
   },
   {
    "duration": 5,
    "start_time": "2021-07-09T06:30:34.351Z"
   },
   {
    "duration": 10,
    "start_time": "2021-07-09T06:30:34.357Z"
   },
   {
    "duration": 9,
    "start_time": "2021-07-09T06:30:34.369Z"
   },
   {
    "duration": 7,
    "start_time": "2021-07-09T06:30:34.380Z"
   },
   {
    "duration": 25,
    "start_time": "2021-07-09T06:30:34.389Z"
   },
   {
    "duration": 4,
    "start_time": "2021-07-09T06:30:34.416Z"
   },
   {
    "duration": 23,
    "start_time": "2021-07-09T06:30:34.422Z"
   },
   {
    "duration": 20,
    "start_time": "2021-07-09T06:30:34.446Z"
   },
   {
    "duration": 24,
    "start_time": "2021-07-09T06:30:34.468Z"
   },
   {
    "duration": 21,
    "start_time": "2021-07-09T06:30:34.493Z"
   },
   {
    "duration": 26,
    "start_time": "2021-07-09T06:30:34.515Z"
   },
   {
    "duration": 15,
    "start_time": "2021-07-09T06:30:34.543Z"
   },
   {
    "duration": 13,
    "start_time": "2021-07-09T06:30:34.559Z"
   },
   {
    "duration": 7,
    "start_time": "2021-07-09T06:30:34.573Z"
   },
   {
    "duration": 16,
    "start_time": "2021-07-09T06:30:34.582Z"
   },
   {
    "duration": 16,
    "start_time": "2021-07-09T06:30:34.600Z"
   },
   {
    "duration": 5,
    "start_time": "2021-07-09T06:30:34.641Z"
   },
   {
    "duration": 17,
    "start_time": "2021-07-09T06:30:34.649Z"
   },
   {
    "duration": 11,
    "start_time": "2021-07-09T06:30:34.669Z"
   },
   {
    "duration": 18,
    "start_time": "2021-07-09T06:30:34.682Z"
   },
   {
    "duration": 26,
    "start_time": "2021-07-09T06:30:34.702Z"
   },
   {
    "duration": 4,
    "start_time": "2021-07-09T06:30:34.730Z"
   },
   {
    "duration": 49,
    "start_time": "2021-07-09T06:30:34.736Z"
   },
   {
    "duration": 4,
    "start_time": "2021-07-09T06:30:34.786Z"
   },
   {
    "duration": 16,
    "start_time": "2021-07-09T06:30:34.792Z"
   },
   {
    "duration": 29,
    "start_time": "2021-07-09T06:30:34.810Z"
   },
   {
    "duration": 83,
    "start_time": "2021-07-09T06:30:34.841Z"
   },
   {
    "duration": 3,
    "start_time": "2021-07-09T06:30:34.925Z"
   },
   {
    "duration": 17,
    "start_time": "2021-07-09T06:30:34.929Z"
   },
   {
    "duration": 1753,
    "start_time": "2021-07-09T06:30:34.948Z"
   },
   {
    "duration": 6,
    "start_time": "2021-07-09T06:30:36.703Z"
   },
   {
    "duration": 6,
    "start_time": "2021-07-09T06:30:36.711Z"
   },
   {
    "duration": 13,
    "start_time": "2021-07-09T06:30:36.719Z"
   },
   {
    "duration": 195,
    "start_time": "2021-07-09T06:30:36.733Z"
   },
   {
    "duration": 195,
    "start_time": "2021-07-09T06:30:36.930Z"
   },
   {
    "duration": 204,
    "start_time": "2021-07-09T06:30:37.127Z"
   },
   {
    "duration": 198,
    "start_time": "2021-07-09T06:30:37.332Z"
   },
   {
    "duration": 182,
    "start_time": "2021-07-09T06:30:37.532Z"
   },
   {
    "duration": 281,
    "start_time": "2021-07-09T06:30:37.715Z"
   },
   {
    "duration": 194,
    "start_time": "2021-07-09T06:30:37.997Z"
   },
   {
    "duration": 2,
    "start_time": "2021-07-09T06:30:38.193Z"
   },
   {
    "duration": 145,
    "start_time": "2021-07-09T06:30:38.197Z"
   },
   {
    "duration": 198,
    "start_time": "2021-07-09T06:30:38.344Z"
   },
   {
    "duration": 171,
    "start_time": "2021-07-09T06:30:38.543Z"
   },
   {
    "duration": 147,
    "start_time": "2021-07-09T06:30:38.716Z"
   },
   {
    "duration": 181,
    "start_time": "2021-07-09T06:30:38.865Z"
   },
   {
    "duration": 158,
    "start_time": "2021-07-09T06:30:39.047Z"
   },
   {
    "duration": 171,
    "start_time": "2021-07-09T06:30:39.207Z"
   },
   {
    "duration": 9,
    "start_time": "2021-07-09T06:30:39.379Z"
   },
   {
    "duration": 14,
    "start_time": "2021-07-09T06:30:39.389Z"
   },
   {
    "duration": 201,
    "start_time": "2021-07-09T06:30:39.405Z"
   },
   {
    "duration": 206,
    "start_time": "2021-07-09T06:30:39.608Z"
   },
   {
    "duration": 2,
    "start_time": "2021-07-09T06:30:39.816Z"
   },
   {
    "duration": 33,
    "start_time": "2021-07-09T06:30:39.820Z"
   },
   {
    "duration": 31,
    "start_time": "2021-07-09T06:30:39.854Z"
   },
   {
    "duration": 4,
    "start_time": "2021-07-09T06:30:39.887Z"
   },
   {
    "duration": 14,
    "start_time": "2021-07-09T06:30:39.893Z"
   },
   {
    "duration": 9,
    "start_time": "2021-07-09T06:30:39.909Z"
   },
   {
    "duration": 27,
    "start_time": "2021-07-09T06:30:39.919Z"
   },
   {
    "duration": 37,
    "start_time": "2021-07-09T06:30:39.948Z"
   },
   {
    "duration": 5,
    "start_time": "2021-07-09T06:30:39.986Z"
   },
   {
    "duration": 153,
    "start_time": "2021-07-09T06:30:39.992Z"
   },
   {
    "duration": 325,
    "start_time": "2021-07-09T06:30:40.150Z"
   },
   {
    "duration": 131,
    "start_time": "2021-07-09T06:30:40.476Z"
   },
   {
    "duration": 406,
    "start_time": "2021-07-09T06:30:40.609Z"
   },
   {
    "duration": 30,
    "start_time": "2021-07-09T06:30:41.017Z"
   },
   {
    "duration": 9,
    "start_time": "2021-07-09T06:30:41.049Z"
   },
   {
    "duration": 14,
    "start_time": "2021-07-09T06:30:41.060Z"
   },
   {
    "duration": 15,
    "start_time": "2021-07-09T06:30:41.075Z"
   },
   {
    "duration": 58,
    "start_time": "2021-07-09T06:30:41.092Z"
   },
   {
    "duration": 4,
    "start_time": "2021-07-09T06:30:41.152Z"
   },
   {
    "duration": 39,
    "start_time": "2021-07-09T06:30:41.158Z"
   },
   {
    "duration": 110,
    "start_time": "2021-07-09T06:30:41.199Z"
   },
   {
    "duration": 119,
    "start_time": "2021-07-09T06:30:41.311Z"
   },
   {
    "duration": 14,
    "start_time": "2021-07-09T06:30:41.432Z"
   },
   {
    "duration": 25,
    "start_time": "2021-07-09T06:30:41.448Z"
   },
   {
    "duration": 7,
    "start_time": "2021-07-09T06:30:41.474Z"
   },
   {
    "duration": 17,
    "start_time": "2021-07-09T06:30:41.483Z"
   },
   {
    "duration": 10,
    "start_time": "2021-07-09T06:30:41.501Z"
   },
   {
    "duration": 18,
    "start_time": "2021-07-09T06:30:41.513Z"
   },
   {
    "duration": 10,
    "start_time": "2021-07-09T06:30:41.532Z"
   },
   {
    "duration": 2,
    "start_time": "2021-07-09T06:30:41.544Z"
   },
   {
    "duration": 9,
    "start_time": "2021-07-09T06:30:41.548Z"
   },
   {
    "duration": 1486,
    "start_time": "2021-07-09T06:32:44.555Z"
   },
   {
    "duration": 2,
    "start_time": "2021-07-09T06:32:46.043Z"
   },
   {
    "duration": 360,
    "start_time": "2021-07-09T06:32:46.046Z"
   },
   {
    "duration": 14,
    "start_time": "2021-07-09T06:32:46.408Z"
   },
   {
    "duration": 13,
    "start_time": "2021-07-09T06:32:46.424Z"
   },
   {
    "duration": 3,
    "start_time": "2021-07-09T06:32:46.439Z"
   },
   {
    "duration": 7,
    "start_time": "2021-07-09T06:32:46.443Z"
   },
   {
    "duration": 11,
    "start_time": "2021-07-09T06:32:46.452Z"
   },
   {
    "duration": 4,
    "start_time": "2021-07-09T06:32:46.465Z"
   },
   {
    "duration": 20,
    "start_time": "2021-07-09T06:32:46.470Z"
   },
   {
    "duration": 4,
    "start_time": "2021-07-09T06:32:46.491Z"
   },
   {
    "duration": 11,
    "start_time": "2021-07-09T06:32:46.497Z"
   },
   {
    "duration": 33,
    "start_time": "2021-07-09T06:32:46.509Z"
   },
   {
    "duration": 18,
    "start_time": "2021-07-09T06:32:46.544Z"
   },
   {
    "duration": 12,
    "start_time": "2021-07-09T06:32:46.564Z"
   },
   {
    "duration": 21,
    "start_time": "2021-07-09T06:32:46.577Z"
   },
   {
    "duration": 41,
    "start_time": "2021-07-09T06:32:46.600Z"
   },
   {
    "duration": 12,
    "start_time": "2021-07-09T06:32:46.643Z"
   },
   {
    "duration": 7,
    "start_time": "2021-07-09T06:32:46.656Z"
   },
   {
    "duration": 12,
    "start_time": "2021-07-09T06:32:46.664Z"
   },
   {
    "duration": 12,
    "start_time": "2021-07-09T06:32:46.678Z"
   },
   {
    "duration": 4,
    "start_time": "2021-07-09T06:32:46.692Z"
   },
   {
    "duration": 44,
    "start_time": "2021-07-09T06:32:46.699Z"
   },
   {
    "duration": 5,
    "start_time": "2021-07-09T06:32:46.745Z"
   },
   {
    "duration": 16,
    "start_time": "2021-07-09T06:32:46.751Z"
   },
   {
    "duration": 19,
    "start_time": "2021-07-09T06:32:46.768Z"
   },
   {
    "duration": 4,
    "start_time": "2021-07-09T06:32:46.788Z"
   },
   {
    "duration": 25,
    "start_time": "2021-07-09T06:32:46.793Z"
   },
   {
    "duration": 23,
    "start_time": "2021-07-09T06:32:46.820Z"
   },
   {
    "duration": 6,
    "start_time": "2021-07-09T06:32:46.845Z"
   },
   {
    "duration": 8,
    "start_time": "2021-07-09T06:32:46.853Z"
   },
   {
    "duration": 85,
    "start_time": "2021-07-09T06:32:46.863Z"
   },
   {
    "duration": 3,
    "start_time": "2021-07-09T06:32:46.950Z"
   },
   {
    "duration": 6,
    "start_time": "2021-07-09T06:32:46.955Z"
   },
   {
    "duration": 1879,
    "start_time": "2021-07-09T06:32:46.962Z"
   },
   {
    "duration": 7,
    "start_time": "2021-07-09T06:32:48.843Z"
   },
   {
    "duration": 5,
    "start_time": "2021-07-09T06:32:48.851Z"
   },
   {
    "duration": 11,
    "start_time": "2021-07-09T06:32:48.857Z"
   },
   {
    "duration": 207,
    "start_time": "2021-07-09T06:32:48.869Z"
   },
   {
    "duration": 205,
    "start_time": "2021-07-09T06:32:49.078Z"
   },
   {
    "duration": 206,
    "start_time": "2021-07-09T06:32:49.285Z"
   },
   {
    "duration": 200,
    "start_time": "2021-07-09T06:32:49.493Z"
   },
   {
    "duration": 189,
    "start_time": "2021-07-09T06:32:49.695Z"
   },
   {
    "duration": 298,
    "start_time": "2021-07-09T06:32:49.886Z"
   },
   {
    "duration": 193,
    "start_time": "2021-07-09T06:32:50.186Z"
   },
   {
    "duration": 2,
    "start_time": "2021-07-09T06:32:50.381Z"
   },
   {
    "duration": 151,
    "start_time": "2021-07-09T06:32:50.385Z"
   },
   {
    "duration": 209,
    "start_time": "2021-07-09T06:32:50.541Z"
   },
   {
    "duration": 184,
    "start_time": "2021-07-09T06:32:50.752Z"
   },
   {
    "duration": 147,
    "start_time": "2021-07-09T06:32:50.938Z"
   },
   {
    "duration": 194,
    "start_time": "2021-07-09T06:32:51.087Z"
   },
   {
    "duration": 167,
    "start_time": "2021-07-09T06:32:51.283Z"
   },
   {
    "duration": 192,
    "start_time": "2021-07-09T06:32:51.452Z"
   },
   {
    "duration": 8,
    "start_time": "2021-07-09T06:32:51.645Z"
   },
   {
    "duration": 9,
    "start_time": "2021-07-09T06:32:51.654Z"
   },
   {
    "duration": 209,
    "start_time": "2021-07-09T06:32:51.665Z"
   },
   {
    "duration": 215,
    "start_time": "2021-07-09T06:32:51.875Z"
   },
   {
    "duration": 3,
    "start_time": "2021-07-09T06:32:52.091Z"
   },
   {
    "duration": 20,
    "start_time": "2021-07-09T06:32:52.096Z"
   },
   {
    "duration": 32,
    "start_time": "2021-07-09T06:32:52.118Z"
   },
   {
    "duration": 4,
    "start_time": "2021-07-09T06:32:52.152Z"
   },
   {
    "duration": 19,
    "start_time": "2021-07-09T06:32:52.157Z"
   },
   {
    "duration": 12,
    "start_time": "2021-07-09T06:32:52.177Z"
   },
   {
    "duration": 14,
    "start_time": "2021-07-09T06:32:52.191Z"
   },
   {
    "duration": 50,
    "start_time": "2021-07-09T06:32:52.207Z"
   },
   {
    "duration": 6,
    "start_time": "2021-07-09T06:32:52.259Z"
   },
   {
    "duration": 743,
    "start_time": "2021-07-09T06:32:52.267Z"
   },
   {
    "duration": -447,
    "start_time": "2021-07-09T06:32:53.459Z"
   },
   {
    "duration": -448,
    "start_time": "2021-07-09T06:32:53.461Z"
   },
   {
    "duration": -450,
    "start_time": "2021-07-09T06:32:53.464Z"
   },
   {
    "duration": -451,
    "start_time": "2021-07-09T06:32:53.466Z"
   },
   {
    "duration": -452,
    "start_time": "2021-07-09T06:32:53.468Z"
   },
   {
    "duration": -453,
    "start_time": "2021-07-09T06:32:53.470Z"
   },
   {
    "duration": -455,
    "start_time": "2021-07-09T06:32:53.472Z"
   },
   {
    "duration": -456,
    "start_time": "2021-07-09T06:32:53.474Z"
   },
   {
    "duration": -457,
    "start_time": "2021-07-09T06:32:53.476Z"
   },
   {
    "duration": -458,
    "start_time": "2021-07-09T06:32:53.478Z"
   },
   {
    "duration": -459,
    "start_time": "2021-07-09T06:32:53.480Z"
   },
   {
    "duration": -460,
    "start_time": "2021-07-09T06:32:53.482Z"
   },
   {
    "duration": -461,
    "start_time": "2021-07-09T06:32:53.484Z"
   },
   {
    "duration": -463,
    "start_time": "2021-07-09T06:32:53.486Z"
   },
   {
    "duration": -464,
    "start_time": "2021-07-09T06:32:53.488Z"
   },
   {
    "duration": -465,
    "start_time": "2021-07-09T06:32:53.490Z"
   },
   {
    "duration": -466,
    "start_time": "2021-07-09T06:32:53.492Z"
   },
   {
    "duration": -471,
    "start_time": "2021-07-09T06:32:53.498Z"
   },
   {
    "duration": -472,
    "start_time": "2021-07-09T06:32:53.500Z"
   },
   {
    "duration": -474,
    "start_time": "2021-07-09T06:32:53.502Z"
   },
   {
    "duration": -475,
    "start_time": "2021-07-09T06:32:53.504Z"
   },
   {
    "duration": 1435,
    "start_time": "2021-07-09T06:34:11.268Z"
   },
   {
    "duration": 2,
    "start_time": "2021-07-09T06:34:12.705Z"
   },
   {
    "duration": 288,
    "start_time": "2021-07-09T06:34:12.708Z"
   },
   {
    "duration": 15,
    "start_time": "2021-07-09T06:34:12.998Z"
   },
   {
    "duration": 16,
    "start_time": "2021-07-09T06:34:13.015Z"
   },
   {
    "duration": 5,
    "start_time": "2021-07-09T06:34:13.033Z"
   },
   {
    "duration": 16,
    "start_time": "2021-07-09T06:34:13.039Z"
   },
   {
    "duration": 8,
    "start_time": "2021-07-09T06:34:13.058Z"
   },
   {
    "duration": 9,
    "start_time": "2021-07-09T06:34:13.068Z"
   },
   {
    "duration": 36,
    "start_time": "2021-07-09T06:34:13.078Z"
   },
   {
    "duration": 5,
    "start_time": "2021-07-09T06:34:13.116Z"
   },
   {
    "duration": 16,
    "start_time": "2021-07-09T06:34:13.123Z"
   },
   {
    "duration": 6,
    "start_time": "2021-07-09T06:34:13.141Z"
   },
   {
    "duration": 17,
    "start_time": "2021-07-09T06:34:13.149Z"
   },
   {
    "duration": 14,
    "start_time": "2021-07-09T06:34:13.168Z"
   },
   {
    "duration": 24,
    "start_time": "2021-07-09T06:34:13.183Z"
   },
   {
    "duration": 41,
    "start_time": "2021-07-09T06:34:13.209Z"
   },
   {
    "duration": 14,
    "start_time": "2021-07-09T06:34:13.252Z"
   },
   {
    "duration": 7,
    "start_time": "2021-07-09T06:34:13.268Z"
   },
   {
    "duration": 15,
    "start_time": "2021-07-09T06:34:13.277Z"
   },
   {
    "duration": 16,
    "start_time": "2021-07-09T06:34:13.293Z"
   },
   {
    "duration": 33,
    "start_time": "2021-07-09T06:34:13.310Z"
   },
   {
    "duration": 17,
    "start_time": "2021-07-09T06:34:13.346Z"
   },
   {
    "duration": 4,
    "start_time": "2021-07-09T06:34:13.366Z"
   },
   {
    "duration": 17,
    "start_time": "2021-07-09T06:34:13.372Z"
   },
   {
    "duration": 23,
    "start_time": "2021-07-09T06:34:13.391Z"
   },
   {
    "duration": 4,
    "start_time": "2021-07-09T06:34:13.416Z"
   },
   {
    "duration": 34,
    "start_time": "2021-07-09T06:34:13.422Z"
   },
   {
    "duration": 4,
    "start_time": "2021-07-09T06:34:13.458Z"
   },
   {
    "duration": 23,
    "start_time": "2021-07-09T06:34:13.464Z"
   },
   {
    "duration": 21,
    "start_time": "2021-07-09T06:34:13.488Z"
   },
   {
    "duration": 74,
    "start_time": "2021-07-09T06:34:13.511Z"
   },
   {
    "duration": 3,
    "start_time": "2021-07-09T06:34:13.586Z"
   },
   {
    "duration": 11,
    "start_time": "2021-07-09T06:34:13.590Z"
   },
   {
    "duration": 1977,
    "start_time": "2021-07-09T06:34:13.603Z"
   },
   {
    "duration": 62,
    "start_time": "2021-07-09T06:34:15.582Z"
   },
   {
    "duration": 4,
    "start_time": "2021-07-09T06:34:15.646Z"
   },
   {
    "duration": 19,
    "start_time": "2021-07-09T06:34:15.652Z"
   },
   {
    "duration": 428,
    "start_time": "2021-07-09T06:34:15.673Z"
   },
   {
    "duration": 241,
    "start_time": "2021-07-09T06:34:16.102Z"
   },
   {
    "duration": 222,
    "start_time": "2021-07-09T06:34:16.344Z"
   },
   {
    "duration": 201,
    "start_time": "2021-07-09T06:34:16.568Z"
   },
   {
    "duration": 183,
    "start_time": "2021-07-09T06:34:16.770Z"
   },
   {
    "duration": 289,
    "start_time": "2021-07-09T06:34:16.955Z"
   },
   {
    "duration": 195,
    "start_time": "2021-07-09T06:34:17.246Z"
   },
   {
    "duration": 2,
    "start_time": "2021-07-09T06:34:17.442Z"
   },
   {
    "duration": 150,
    "start_time": "2021-07-09T06:34:17.446Z"
   },
   {
    "duration": 195,
    "start_time": "2021-07-09T06:34:17.597Z"
   },
   {
    "duration": 180,
    "start_time": "2021-07-09T06:34:17.794Z"
   },
   {
    "duration": 144,
    "start_time": "2021-07-09T06:34:17.975Z"
   },
   {
    "duration": 178,
    "start_time": "2021-07-09T06:34:18.121Z"
   },
   {
    "duration": 158,
    "start_time": "2021-07-09T06:34:18.301Z"
   },
   {
    "duration": 173,
    "start_time": "2021-07-09T06:34:18.461Z"
   },
   {
    "duration": 10,
    "start_time": "2021-07-09T06:34:18.635Z"
   },
   {
    "duration": 7,
    "start_time": "2021-07-09T06:34:18.647Z"
   },
   {
    "duration": 216,
    "start_time": "2021-07-09T06:34:18.655Z"
   },
   {
    "duration": 315,
    "start_time": "2021-07-09T06:34:18.872Z"
   },
   {
    "duration": 2,
    "start_time": "2021-07-09T06:34:19.189Z"
   },
   {
    "duration": 28,
    "start_time": "2021-07-09T06:34:19.193Z"
   },
   {
    "duration": 28,
    "start_time": "2021-07-09T06:34:19.223Z"
   },
   {
    "duration": 3,
    "start_time": "2021-07-09T06:34:19.253Z"
   },
   {
    "duration": 15,
    "start_time": "2021-07-09T06:34:19.259Z"
   },
   {
    "duration": 10,
    "start_time": "2021-07-09T06:34:19.275Z"
   },
   {
    "duration": 493,
    "start_time": "2021-07-09T06:34:19.286Z"
   },
   {
    "duration": -441,
    "start_time": "2021-07-09T06:34:20.223Z"
   },
   {
    "duration": -443,
    "start_time": "2021-07-09T06:34:20.226Z"
   },
   {
    "duration": -444,
    "start_time": "2021-07-09T06:34:20.228Z"
   },
   {
    "duration": -445,
    "start_time": "2021-07-09T06:34:20.231Z"
   },
   {
    "duration": -446,
    "start_time": "2021-07-09T06:34:20.233Z"
   },
   {
    "duration": -447,
    "start_time": "2021-07-09T06:34:20.235Z"
   },
   {
    "duration": -448,
    "start_time": "2021-07-09T06:34:20.238Z"
   },
   {
    "duration": -450,
    "start_time": "2021-07-09T06:34:20.241Z"
   },
   {
    "duration": -453,
    "start_time": "2021-07-09T06:34:20.246Z"
   },
   {
    "duration": -454,
    "start_time": "2021-07-09T06:34:20.248Z"
   },
   {
    "duration": -462,
    "start_time": "2021-07-09T06:34:20.258Z"
   },
   {
    "duration": -464,
    "start_time": "2021-07-09T06:34:20.261Z"
   },
   {
    "duration": -465,
    "start_time": "2021-07-09T06:34:20.263Z"
   },
   {
    "duration": -464,
    "start_time": "2021-07-09T06:34:20.265Z"
   },
   {
    "duration": -466,
    "start_time": "2021-07-09T06:34:20.268Z"
   },
   {
    "duration": -467,
    "start_time": "2021-07-09T06:34:20.270Z"
   },
   {
    "duration": -467,
    "start_time": "2021-07-09T06:34:20.272Z"
   },
   {
    "duration": -467,
    "start_time": "2021-07-09T06:34:20.273Z"
   },
   {
    "duration": -467,
    "start_time": "2021-07-09T06:34:20.275Z"
   },
   {
    "duration": -468,
    "start_time": "2021-07-09T06:34:20.277Z"
   },
   {
    "duration": -469,
    "start_time": "2021-07-09T06:34:20.279Z"
   },
   {
    "duration": -469,
    "start_time": "2021-07-09T06:34:20.281Z"
   },
   {
    "duration": -471,
    "start_time": "2021-07-09T06:34:20.284Z"
   },
   {
    "duration": -471,
    "start_time": "2021-07-09T06:34:20.285Z"
   },
   {
    "duration": 12,
    "start_time": "2021-07-09T06:34:57.864Z"
   },
   {
    "duration": 38,
    "start_time": "2021-07-09T06:35:01.811Z"
   },
   {
    "duration": 7,
    "start_time": "2021-07-09T06:35:03.877Z"
   },
   {
    "duration": 158,
    "start_time": "2021-07-09T06:35:08.247Z"
   },
   {
    "duration": 384,
    "start_time": "2021-07-09T06:35:15.807Z"
   },
   {
    "duration": 3,
    "start_time": "2021-07-09T06:37:21.934Z"
   },
   {
    "duration": 318,
    "start_time": "2021-07-09T06:37:24.147Z"
   },
   {
    "duration": 191,
    "start_time": "2021-07-09T06:37:35.606Z"
   },
   {
    "duration": 229,
    "start_time": "2021-07-09T06:38:07.915Z"
   },
   {
    "duration": 204,
    "start_time": "2021-07-09T06:38:11.762Z"
   },
   {
    "duration": 161,
    "start_time": "2021-07-09T06:38:20.902Z"
   },
   {
    "duration": 208,
    "start_time": "2021-07-09T06:38:28.434Z"
   },
   {
    "duration": 5,
    "start_time": "2021-07-09T06:39:09.140Z"
   },
   {
    "duration": 221,
    "start_time": "2021-07-09T06:39:11.938Z"
   },
   {
    "duration": 595,
    "start_time": "2021-07-09T06:42:56.964Z"
   },
   {
    "duration": 386,
    "start_time": "2021-07-09T06:43:06.169Z"
   },
   {
    "duration": 444,
    "start_time": "2021-07-09T06:44:03.501Z"
   },
   {
    "duration": 471,
    "start_time": "2021-07-09T06:44:34.067Z"
   },
   {
    "duration": 1445,
    "start_time": "2021-07-09T06:46:37.426Z"
   },
   {
    "duration": 2,
    "start_time": "2021-07-09T06:46:38.873Z"
   },
   {
    "duration": 286,
    "start_time": "2021-07-09T06:46:38.877Z"
   },
   {
    "duration": 16,
    "start_time": "2021-07-09T06:46:39.165Z"
   },
   {
    "duration": 12,
    "start_time": "2021-07-09T06:46:39.183Z"
   },
   {
    "duration": 4,
    "start_time": "2021-07-09T06:46:39.197Z"
   },
   {
    "duration": 8,
    "start_time": "2021-07-09T06:46:39.202Z"
   },
   {
    "duration": 10,
    "start_time": "2021-07-09T06:46:39.212Z"
   },
   {
    "duration": 4,
    "start_time": "2021-07-09T06:46:39.224Z"
   },
   {
    "duration": 17,
    "start_time": "2021-07-09T06:46:39.241Z"
   },
   {
    "duration": 4,
    "start_time": "2021-07-09T06:46:39.260Z"
   },
   {
    "duration": 12,
    "start_time": "2021-07-09T06:46:39.265Z"
   },
   {
    "duration": 6,
    "start_time": "2021-07-09T06:46:39.278Z"
   },
   {
    "duration": 22,
    "start_time": "2021-07-09T06:46:39.286Z"
   },
   {
    "duration": 33,
    "start_time": "2021-07-09T06:46:39.310Z"
   },
   {
    "duration": 22,
    "start_time": "2021-07-09T06:46:39.345Z"
   },
   {
    "duration": 15,
    "start_time": "2021-07-09T06:46:39.369Z"
   },
   {
    "duration": 13,
    "start_time": "2021-07-09T06:46:39.385Z"
   },
   {
    "duration": 7,
    "start_time": "2021-07-09T06:46:39.400Z"
   },
   {
    "duration": 39,
    "start_time": "2021-07-09T06:46:39.409Z"
   },
   {
    "duration": 19,
    "start_time": "2021-07-09T06:46:39.450Z"
   },
   {
    "duration": 7,
    "start_time": "2021-07-09T06:46:39.470Z"
   },
   {
    "duration": 15,
    "start_time": "2021-07-09T06:46:39.481Z"
   },
   {
    "duration": 10,
    "start_time": "2021-07-09T06:46:39.498Z"
   },
   {
    "duration": 13,
    "start_time": "2021-07-09T06:46:39.510Z"
   },
   {
    "duration": 15,
    "start_time": "2021-07-09T06:46:39.541Z"
   },
   {
    "duration": 5,
    "start_time": "2021-07-09T06:46:39.558Z"
   },
   {
    "duration": 34,
    "start_time": "2021-07-09T06:46:39.564Z"
   },
   {
    "duration": 5,
    "start_time": "2021-07-09T06:46:39.600Z"
   },
   {
    "duration": 21,
    "start_time": "2021-07-09T06:46:39.606Z"
   },
   {
    "duration": 23,
    "start_time": "2021-07-09T06:46:39.629Z"
   },
   {
    "duration": 92,
    "start_time": "2021-07-09T06:46:39.654Z"
   },
   {
    "duration": 3,
    "start_time": "2021-07-09T06:46:39.748Z"
   },
   {
    "duration": 17,
    "start_time": "2021-07-09T06:46:39.753Z"
   },
   {
    "duration": 1822,
    "start_time": "2021-07-09T06:46:39.772Z"
   },
   {
    "duration": 8,
    "start_time": "2021-07-09T06:46:41.596Z"
   },
   {
    "duration": 4,
    "start_time": "2021-07-09T06:46:41.605Z"
   },
   {
    "duration": 6,
    "start_time": "2021-07-09T06:46:41.611Z"
   },
   {
    "duration": 252,
    "start_time": "2021-07-09T06:46:41.618Z"
   },
   {
    "duration": 225,
    "start_time": "2021-07-09T06:46:41.872Z"
   },
   {
    "duration": 233,
    "start_time": "2021-07-09T06:46:42.099Z"
   },
   {
    "duration": 227,
    "start_time": "2021-07-09T06:46:42.333Z"
   },
   {
    "duration": 220,
    "start_time": "2021-07-09T06:46:42.562Z"
   },
   {
    "duration": 316,
    "start_time": "2021-07-09T06:46:42.783Z"
   },
   {
    "duration": 225,
    "start_time": "2021-07-09T06:46:43.100Z"
   },
   {
    "duration": 3,
    "start_time": "2021-07-09T06:46:43.327Z"
   },
   {
    "duration": 172,
    "start_time": "2021-07-09T06:46:43.340Z"
   },
   {
    "duration": 231,
    "start_time": "2021-07-09T06:46:43.514Z"
   },
   {
    "duration": 210,
    "start_time": "2021-07-09T06:46:43.746Z"
   },
   {
    "duration": 172,
    "start_time": "2021-07-09T06:46:43.958Z"
   },
   {
    "duration": 218,
    "start_time": "2021-07-09T06:46:44.132Z"
   },
   {
    "duration": 159,
    "start_time": "2021-07-09T06:46:44.352Z"
   },
   {
    "duration": 173,
    "start_time": "2021-07-09T06:46:44.513Z"
   },
   {
    "duration": 8,
    "start_time": "2021-07-09T06:46:44.689Z"
   },
   {
    "duration": 20,
    "start_time": "2021-07-09T06:46:44.699Z"
   },
   {
    "duration": 227,
    "start_time": "2021-07-09T06:46:44.721Z"
   },
   {
    "duration": 243,
    "start_time": "2021-07-09T06:46:44.949Z"
   },
   {
    "duration": 2,
    "start_time": "2021-07-09T06:46:45.194Z"
   },
   {
    "duration": 15,
    "start_time": "2021-07-09T06:46:45.198Z"
   },
   {
    "duration": 33,
    "start_time": "2021-07-09T06:46:45.215Z"
   },
   {
    "duration": 3,
    "start_time": "2021-07-09T06:46:45.249Z"
   },
   {
    "duration": 112,
    "start_time": "2021-07-09T06:46:45.254Z"
   },
   {
    "duration": 13,
    "start_time": "2021-07-09T06:46:45.368Z"
   },
   {
    "duration": 13,
    "start_time": "2021-07-09T06:46:45.383Z"
   },
   {
    "duration": 77,
    "start_time": "2021-07-09T06:46:45.398Z"
   },
   {
    "duration": 5,
    "start_time": "2021-07-09T06:46:45.476Z"
   },
   {
    "duration": 158,
    "start_time": "2021-07-09T06:46:45.482Z"
   },
   {
    "duration": 459,
    "start_time": "2021-07-09T06:46:45.644Z"
   },
   {
    "duration": 147,
    "start_time": "2021-07-09T06:46:46.105Z"
   },
   {
    "duration": 324,
    "start_time": "2021-07-09T06:46:46.254Z"
   },
   {
    "duration": 22,
    "start_time": "2021-07-09T06:46:46.579Z"
   },
   {
    "duration": 9,
    "start_time": "2021-07-09T06:46:46.602Z"
   },
   {
    "duration": 29,
    "start_time": "2021-07-09T06:46:46.613Z"
   },
   {
    "duration": 18,
    "start_time": "2021-07-09T06:46:46.644Z"
   },
   {
    "duration": 39,
    "start_time": "2021-07-09T06:46:46.664Z"
   },
   {
    "duration": 5,
    "start_time": "2021-07-09T06:46:46.704Z"
   },
   {
    "duration": 614,
    "start_time": "2021-07-09T06:46:46.710Z"
   },
   {
    "duration": -531,
    "start_time": "2021-07-09T06:46:47.857Z"
   },
   {
    "duration": -534,
    "start_time": "2021-07-09T06:46:47.860Z"
   },
   {
    "duration": -535,
    "start_time": "2021-07-09T06:46:47.863Z"
   },
   {
    "duration": -536,
    "start_time": "2021-07-09T06:46:47.865Z"
   },
   {
    "duration": -538,
    "start_time": "2021-07-09T06:46:47.867Z"
   },
   {
    "duration": -539,
    "start_time": "2021-07-09T06:46:47.869Z"
   },
   {
    "duration": -543,
    "start_time": "2021-07-09T06:46:47.874Z"
   },
   {
    "duration": -544,
    "start_time": "2021-07-09T06:46:47.876Z"
   },
   {
    "duration": -545,
    "start_time": "2021-07-09T06:46:47.878Z"
   },
   {
    "duration": -551,
    "start_time": "2021-07-09T06:46:47.885Z"
   },
   {
    "duration": -554,
    "start_time": "2021-07-09T06:46:47.889Z"
   },
   {
    "duration": 1378,
    "start_time": "2021-07-09T06:56:44.287Z"
   },
   {
    "duration": 2,
    "start_time": "2021-07-09T06:56:45.666Z"
   },
   {
    "duration": 321,
    "start_time": "2021-07-09T06:56:45.670Z"
   },
   {
    "duration": 13,
    "start_time": "2021-07-09T06:56:45.993Z"
   },
   {
    "duration": 19,
    "start_time": "2021-07-09T06:56:46.008Z"
   },
   {
    "duration": 4,
    "start_time": "2021-07-09T06:56:46.028Z"
   },
   {
    "duration": 14,
    "start_time": "2021-07-09T06:56:46.033Z"
   },
   {
    "duration": 8,
    "start_time": "2021-07-09T06:56:46.050Z"
   },
   {
    "duration": 4,
    "start_time": "2021-07-09T06:56:46.060Z"
   },
   {
    "duration": 19,
    "start_time": "2021-07-09T06:56:46.066Z"
   },
   {
    "duration": 4,
    "start_time": "2021-07-09T06:56:46.086Z"
   },
   {
    "duration": 11,
    "start_time": "2021-07-09T06:56:46.092Z"
   },
   {
    "duration": 6,
    "start_time": "2021-07-09T06:56:46.104Z"
   },
   {
    "duration": 40,
    "start_time": "2021-07-09T06:56:46.112Z"
   },
   {
    "duration": 13,
    "start_time": "2021-07-09T06:56:46.154Z"
   },
   {
    "duration": 23,
    "start_time": "2021-07-09T06:56:46.169Z"
   },
   {
    "duration": 16,
    "start_time": "2021-07-09T06:56:46.194Z"
   },
   {
    "duration": 42,
    "start_time": "2021-07-09T06:56:46.211Z"
   },
   {
    "duration": 11,
    "start_time": "2021-07-09T06:56:46.255Z"
   },
   {
    "duration": 13,
    "start_time": "2021-07-09T06:56:46.268Z"
   },
   {
    "duration": 13,
    "start_time": "2021-07-09T06:56:46.283Z"
   },
   {
    "duration": 5,
    "start_time": "2021-07-09T06:56:46.298Z"
   },
   {
    "duration": 13,
    "start_time": "2021-07-09T06:56:46.340Z"
   },
   {
    "duration": 5,
    "start_time": "2021-07-09T06:56:46.356Z"
   },
   {
    "duration": 9,
    "start_time": "2021-07-09T06:56:46.363Z"
   },
   {
    "duration": 14,
    "start_time": "2021-07-09T06:56:46.374Z"
   },
   {
    "duration": 3,
    "start_time": "2021-07-09T06:56:46.390Z"
   },
   {
    "duration": 59,
    "start_time": "2021-07-09T06:56:46.395Z"
   },
   {
    "duration": 4,
    "start_time": "2021-07-09T06:56:46.456Z"
   },
   {
    "duration": 6,
    "start_time": "2021-07-09T06:56:46.461Z"
   },
   {
    "duration": 8,
    "start_time": "2021-07-09T06:56:46.469Z"
   },
   {
    "duration": 87,
    "start_time": "2021-07-09T06:56:46.479Z"
   },
   {
    "duration": 2,
    "start_time": "2021-07-09T06:56:46.568Z"
   },
   {
    "duration": 6,
    "start_time": "2021-07-09T06:56:46.572Z"
   },
   {
    "duration": 1756,
    "start_time": "2021-07-09T06:56:46.579Z"
   },
   {
    "duration": 7,
    "start_time": "2021-07-09T06:56:48.340Z"
   },
   {
    "duration": 4,
    "start_time": "2021-07-09T06:56:48.348Z"
   },
   {
    "duration": 6,
    "start_time": "2021-07-09T06:56:48.354Z"
   },
   {
    "duration": 228,
    "start_time": "2021-07-09T06:56:48.361Z"
   },
   {
    "duration": 227,
    "start_time": "2021-07-09T06:56:48.590Z"
   },
   {
    "duration": 238,
    "start_time": "2021-07-09T06:56:48.819Z"
   },
   {
    "duration": 247,
    "start_time": "2021-07-09T06:56:49.059Z"
   },
   {
    "duration": 227,
    "start_time": "2021-07-09T06:56:49.308Z"
   },
   {
    "duration": 322,
    "start_time": "2021-07-09T06:56:49.537Z"
   },
   {
    "duration": 239,
    "start_time": "2021-07-09T06:56:49.861Z"
   },
   {
    "duration": 2,
    "start_time": "2021-07-09T06:56:50.102Z"
   },
   {
    "duration": 184,
    "start_time": "2021-07-09T06:56:50.106Z"
   },
   {
    "duration": 234,
    "start_time": "2021-07-09T06:56:50.292Z"
   },
   {
    "duration": 214,
    "start_time": "2021-07-09T06:56:50.527Z"
   },
   {
    "duration": 172,
    "start_time": "2021-07-09T06:56:50.742Z"
   },
   {
    "duration": 228,
    "start_time": "2021-07-09T06:56:50.915Z"
   },
   {
    "duration": 167,
    "start_time": "2021-07-09T06:56:51.144Z"
   },
   {
    "duration": 179,
    "start_time": "2021-07-09T06:56:51.313Z"
   },
   {
    "duration": 9,
    "start_time": "2021-07-09T06:56:51.494Z"
   },
   {
    "duration": 11,
    "start_time": "2021-07-09T06:56:51.504Z"
   },
   {
    "duration": 237,
    "start_time": "2021-07-09T06:56:51.517Z"
   },
   {
    "duration": 238,
    "start_time": "2021-07-09T06:56:51.756Z"
   },
   {
    "duration": 2,
    "start_time": "2021-07-09T06:56:51.996Z"
   },
   {
    "duration": 33,
    "start_time": "2021-07-09T06:56:52.000Z"
   },
   {
    "duration": 30,
    "start_time": "2021-07-09T06:56:52.034Z"
   },
   {
    "duration": 3,
    "start_time": "2021-07-09T06:56:52.066Z"
   },
   {
    "duration": 118,
    "start_time": "2021-07-09T06:56:52.070Z"
   },
   {
    "duration": 14,
    "start_time": "2021-07-09T06:56:52.189Z"
   },
   {
    "duration": 11,
    "start_time": "2021-07-09T06:56:52.205Z"
   },
   {
    "duration": 52,
    "start_time": "2021-07-09T06:56:52.217Z"
   },
   {
    "duration": 5,
    "start_time": "2021-07-09T06:56:52.270Z"
   },
   {
    "duration": 154,
    "start_time": "2021-07-09T06:56:52.277Z"
   },
   {
    "duration": 481,
    "start_time": "2021-07-09T06:56:52.440Z"
   },
   {
    "duration": 154,
    "start_time": "2021-07-09T06:56:52.923Z"
   },
   {
    "duration": 327,
    "start_time": "2021-07-09T06:56:53.078Z"
   },
   {
    "duration": 23,
    "start_time": "2021-07-09T06:56:53.407Z"
   },
   {
    "duration": 9,
    "start_time": "2021-07-09T06:56:53.440Z"
   },
   {
    "duration": 8,
    "start_time": "2021-07-09T06:56:53.450Z"
   },
   {
    "duration": 22,
    "start_time": "2021-07-09T06:56:53.459Z"
   },
   {
    "duration": 44,
    "start_time": "2021-07-09T06:56:53.482Z"
   },
   {
    "duration": 14,
    "start_time": "2021-07-09T06:56:53.527Z"
   },
   {
    "duration": 39,
    "start_time": "2021-07-09T06:56:53.543Z"
   },
   {
    "duration": 108,
    "start_time": "2021-07-09T06:56:53.584Z"
   },
   {
    "duration": 114,
    "start_time": "2021-07-09T06:56:53.694Z"
   },
   {
    "duration": 9,
    "start_time": "2021-07-09T06:56:53.810Z"
   },
   {
    "duration": 40,
    "start_time": "2021-07-09T06:56:53.821Z"
   },
   {
    "duration": 7,
    "start_time": "2021-07-09T06:56:53.863Z"
   },
   {
    "duration": 19,
    "start_time": "2021-07-09T06:56:53.872Z"
   },
   {
    "duration": 31,
    "start_time": "2021-07-09T06:56:53.892Z"
   },
   {
    "duration": 24,
    "start_time": "2021-07-09T06:56:53.924Z"
   },
   {
    "duration": 30,
    "start_time": "2021-07-09T06:56:53.949Z"
   },
   {
    "duration": 19,
    "start_time": "2021-07-09T06:56:53.981Z"
   },
   {
    "duration": 29,
    "start_time": "2021-07-09T06:56:54.001Z"
   },
   {
    "duration": 9,
    "start_time": "2021-07-09T07:10:21.429Z"
   },
   {
    "duration": 1372,
    "start_time": "2021-07-09T07:12:22.793Z"
   },
   {
    "duration": 2,
    "start_time": "2021-07-09T07:12:24.167Z"
   },
   {
    "duration": 396,
    "start_time": "2021-07-09T07:12:24.171Z"
   },
   {
    "duration": 14,
    "start_time": "2021-07-09T07:12:24.569Z"
   },
   {
    "duration": 18,
    "start_time": "2021-07-09T07:12:24.584Z"
   },
   {
    "duration": 15,
    "start_time": "2021-07-09T07:12:24.603Z"
   },
   {
    "duration": 11,
    "start_time": "2021-07-09T07:12:24.620Z"
   },
   {
    "duration": 16,
    "start_time": "2021-07-09T07:12:24.633Z"
   },
   {
    "duration": 18,
    "start_time": "2021-07-09T07:12:24.651Z"
   },
   {
    "duration": 31,
    "start_time": "2021-07-09T07:12:24.670Z"
   },
   {
    "duration": 3,
    "start_time": "2021-07-09T07:12:24.703Z"
   },
   {
    "duration": 17,
    "start_time": "2021-07-09T07:12:24.708Z"
   },
   {
    "duration": 6,
    "start_time": "2021-07-09T07:12:24.726Z"
   },
   {
    "duration": 22,
    "start_time": "2021-07-09T07:12:24.733Z"
   },
   {
    "duration": 14,
    "start_time": "2021-07-09T07:12:24.756Z"
   },
   {
    "duration": 23,
    "start_time": "2021-07-09T07:12:24.771Z"
   },
   {
    "duration": 14,
    "start_time": "2021-07-09T07:12:24.796Z"
   },
   {
    "duration": 32,
    "start_time": "2021-07-09T07:12:24.812Z"
   },
   {
    "duration": 7,
    "start_time": "2021-07-09T07:12:24.846Z"
   },
   {
    "duration": 12,
    "start_time": "2021-07-09T07:12:24.855Z"
   },
   {
    "duration": 12,
    "start_time": "2021-07-09T07:12:24.869Z"
   },
   {
    "duration": 6,
    "start_time": "2021-07-09T07:12:24.883Z"
   },
   {
    "duration": 15,
    "start_time": "2021-07-09T07:12:24.893Z"
   },
   {
    "duration": 32,
    "start_time": "2021-07-09T07:12:24.911Z"
   },
   {
    "duration": 11,
    "start_time": "2021-07-09T07:12:24.944Z"
   },
   {
    "duration": 33,
    "start_time": "2021-07-09T07:12:24.956Z"
   },
   {
    "duration": 4,
    "start_time": "2021-07-09T07:12:24.991Z"
   },
   {
    "duration": 38,
    "start_time": "2021-07-09T07:12:24.997Z"
   },
   {
    "duration": 4,
    "start_time": "2021-07-09T07:12:25.036Z"
   },
   {
    "duration": 14,
    "start_time": "2021-07-09T07:12:25.042Z"
   },
   {
    "duration": 15,
    "start_time": "2021-07-09T07:12:25.058Z"
   },
   {
    "duration": 86,
    "start_time": "2021-07-09T07:12:25.075Z"
   },
   {
    "duration": 3,
    "start_time": "2021-07-09T07:12:25.162Z"
   },
   {
    "duration": 12,
    "start_time": "2021-07-09T07:12:25.167Z"
   },
   {
    "duration": 1784,
    "start_time": "2021-07-09T07:12:25.180Z"
   },
   {
    "duration": 7,
    "start_time": "2021-07-09T07:12:26.966Z"
   },
   {
    "duration": 11,
    "start_time": "2021-07-09T07:12:26.974Z"
   },
   {
    "duration": 19,
    "start_time": "2021-07-09T07:12:26.987Z"
   },
   {
    "duration": 240,
    "start_time": "2021-07-09T07:12:27.007Z"
   },
   {
    "duration": 227,
    "start_time": "2021-07-09T07:12:27.249Z"
   },
   {
    "duration": 239,
    "start_time": "2021-07-09T07:12:27.477Z"
   },
   {
    "duration": 237,
    "start_time": "2021-07-09T07:12:27.718Z"
   },
   {
    "duration": 231,
    "start_time": "2021-07-09T07:12:27.956Z"
   },
   {
    "duration": 317,
    "start_time": "2021-07-09T07:12:28.188Z"
   },
   {
    "duration": 249,
    "start_time": "2021-07-09T07:12:28.507Z"
   },
   {
    "duration": 3,
    "start_time": "2021-07-09T07:12:28.757Z"
   },
   {
    "duration": 184,
    "start_time": "2021-07-09T07:12:28.761Z"
   },
   {
    "duration": 234,
    "start_time": "2021-07-09T07:12:28.946Z"
   },
   {
    "duration": 210,
    "start_time": "2021-07-09T07:12:29.181Z"
   },
   {
    "duration": 164,
    "start_time": "2021-07-09T07:12:29.392Z"
   },
   {
    "duration": 216,
    "start_time": "2021-07-09T07:12:29.558Z"
   },
   {
    "duration": 164,
    "start_time": "2021-07-09T07:12:29.776Z"
   },
   {
    "duration": 171,
    "start_time": "2021-07-09T07:12:29.942Z"
   },
   {
    "duration": 9,
    "start_time": "2021-07-09T07:12:30.115Z"
   },
   {
    "duration": 17,
    "start_time": "2021-07-09T07:12:30.126Z"
   },
   {
    "duration": 240,
    "start_time": "2021-07-09T07:12:30.144Z"
   },
   {
    "duration": 263,
    "start_time": "2021-07-09T07:12:30.386Z"
   },
   {
    "duration": 3,
    "start_time": "2021-07-09T07:12:30.650Z"
   },
   {
    "duration": 36,
    "start_time": "2021-07-09T07:12:30.654Z"
   },
   {
    "duration": 48,
    "start_time": "2021-07-09T07:12:30.691Z"
   },
   {
    "duration": 11,
    "start_time": "2021-07-09T07:12:30.741Z"
   },
   {
    "duration": 126,
    "start_time": "2021-07-09T07:12:30.754Z"
   },
   {
    "duration": 30,
    "start_time": "2021-07-09T07:12:30.882Z"
   },
   {
    "duration": 20,
    "start_time": "2021-07-09T07:12:30.914Z"
   },
   {
    "duration": 50,
    "start_time": "2021-07-09T07:12:30.935Z"
   },
   {
    "duration": 6,
    "start_time": "2021-07-09T07:12:30.987Z"
   },
   {
    "duration": 182,
    "start_time": "2021-07-09T07:12:30.994Z"
   },
   {
    "duration": 470,
    "start_time": "2021-07-09T07:12:31.181Z"
   },
   {
    "duration": 155,
    "start_time": "2021-07-09T07:12:31.653Z"
   },
   {
    "duration": 433,
    "start_time": "2021-07-09T07:12:31.809Z"
   },
   {
    "duration": 22,
    "start_time": "2021-07-09T07:12:32.244Z"
   },
   {
    "duration": 9,
    "start_time": "2021-07-09T07:12:32.267Z"
   },
   {
    "duration": 18,
    "start_time": "2021-07-09T07:12:32.277Z"
   },
   {
    "duration": 22,
    "start_time": "2021-07-09T07:12:32.296Z"
   },
   {
    "duration": 60,
    "start_time": "2021-07-09T07:12:32.320Z"
   },
   {
    "duration": 4,
    "start_time": "2021-07-09T07:12:32.382Z"
   },
   {
    "duration": 52,
    "start_time": "2021-07-09T07:12:32.388Z"
   },
   {
    "duration": 112,
    "start_time": "2021-07-09T07:12:32.442Z"
   },
   {
    "duration": 116,
    "start_time": "2021-07-09T07:12:32.555Z"
   },
   {
    "duration": 11,
    "start_time": "2021-07-09T07:12:32.672Z"
   },
   {
    "duration": 27,
    "start_time": "2021-07-09T07:12:32.684Z"
   },
   {
    "duration": 28,
    "start_time": "2021-07-09T07:12:32.713Z"
   },
   {
    "duration": 6,
    "start_time": "2021-07-09T07:12:32.742Z"
   },
   {
    "duration": 18,
    "start_time": "2021-07-09T07:12:32.750Z"
   },
   {
    "duration": 27,
    "start_time": "2021-07-09T07:12:32.769Z"
   },
   {
    "duration": 32,
    "start_time": "2021-07-09T07:12:32.798Z"
   },
   {
    "duration": 9,
    "start_time": "2021-07-09T07:12:32.831Z"
   },
   {
    "duration": 16,
    "start_time": "2021-07-09T07:12:32.841Z"
   },
   {
    "duration": 4,
    "start_time": "2021-07-09T07:15:20.797Z"
   },
   {
    "duration": 4,
    "start_time": "2021-07-09T07:15:33.929Z"
   },
   {
    "duration": 7794,
    "start_time": "2021-07-09T07:15:36.051Z"
   },
   {
    "duration": 12,
    "start_time": "2021-07-09T07:17:31.557Z"
   },
   {
    "duration": 11,
    "start_time": "2021-07-09T07:17:53.623Z"
   },
   {
    "duration": 358,
    "start_time": "2021-07-09T07:18:08.039Z"
   },
   {
    "duration": 277,
    "start_time": "2021-07-09T07:18:33.666Z"
   },
   {
    "duration": 7253,
    "start_time": "2021-07-09T07:19:00.608Z"
   },
   {
    "duration": 340,
    "start_time": "2021-07-09T07:19:24.222Z"
   },
   {
    "duration": 4,
    "start_time": "2021-07-09T07:23:54.145Z"
   },
   {
    "duration": 226,
    "start_time": "2021-07-09T07:23:57.812Z"
   },
   {
    "duration": 4,
    "start_time": "2021-07-09T07:25:38.149Z"
   },
   {
    "duration": 521,
    "start_time": "2021-07-09T07:25:41.153Z"
   },
   {
    "duration": 4,
    "start_time": "2021-07-09T07:31:59.912Z"
   },
   {
    "duration": 515,
    "start_time": "2021-07-09T07:32:06.809Z"
   },
   {
    "duration": 2011,
    "start_time": "2021-07-09T09:55:59.995Z"
   },
   {
    "duration": 3,
    "start_time": "2021-07-09T09:56:02.009Z"
   },
   {
    "duration": 459,
    "start_time": "2021-07-09T09:56:02.015Z"
   },
   {
    "duration": 22,
    "start_time": "2021-07-09T09:56:02.477Z"
   },
   {
    "duration": 19,
    "start_time": "2021-07-09T09:56:02.502Z"
   },
   {
    "duration": 13,
    "start_time": "2021-07-09T09:56:02.523Z"
   },
   {
    "duration": 24,
    "start_time": "2021-07-09T09:56:02.539Z"
   },
   {
    "duration": 15,
    "start_time": "2021-07-09T09:56:02.567Z"
   },
   {
    "duration": 13,
    "start_time": "2021-07-09T09:56:02.585Z"
   },
   {
    "duration": 55,
    "start_time": "2021-07-09T09:56:02.601Z"
   },
   {
    "duration": 9,
    "start_time": "2021-07-09T09:56:02.659Z"
   },
   {
    "duration": 19,
    "start_time": "2021-07-09T09:56:02.671Z"
   },
   {
    "duration": 11,
    "start_time": "2021-07-09T09:56:02.693Z"
   },
   {
    "duration": 64,
    "start_time": "2021-07-09T09:56:02.707Z"
   },
   {
    "duration": 25,
    "start_time": "2021-07-09T09:56:02.775Z"
   },
   {
    "duration": 67,
    "start_time": "2021-07-09T09:56:02.803Z"
   },
   {
    "duration": 31,
    "start_time": "2021-07-09T09:56:02.873Z"
   },
   {
    "duration": 25,
    "start_time": "2021-07-09T09:56:02.908Z"
   },
   {
    "duration": 40,
    "start_time": "2021-07-09T09:56:02.936Z"
   },
   {
    "duration": 27,
    "start_time": "2021-07-09T09:56:02.979Z"
   },
   {
    "duration": 59,
    "start_time": "2021-07-09T09:56:03.009Z"
   },
   {
    "duration": 9,
    "start_time": "2021-07-09T09:56:03.071Z"
   },
   {
    "duration": 24,
    "start_time": "2021-07-09T09:56:03.089Z"
   },
   {
    "duration": 45,
    "start_time": "2021-07-09T09:56:03.119Z"
   },
   {
    "duration": 12,
    "start_time": "2021-07-09T09:56:03.167Z"
   },
   {
    "duration": 24,
    "start_time": "2021-07-09T09:56:03.182Z"
   },
   {
    "duration": 6,
    "start_time": "2021-07-09T09:56:03.208Z"
   },
   {
    "duration": 79,
    "start_time": "2021-07-09T09:56:03.217Z"
   },
   {
    "duration": 7,
    "start_time": "2021-07-09T09:56:03.298Z"
   },
   {
    "duration": 7,
    "start_time": "2021-07-09T09:56:03.307Z"
   },
   {
    "duration": 46,
    "start_time": "2021-07-09T09:56:03.317Z"
   },
   {
    "duration": 122,
    "start_time": "2021-07-09T09:56:03.366Z"
   },
   {
    "duration": 5,
    "start_time": "2021-07-09T09:56:03.490Z"
   },
   {
    "duration": 14,
    "start_time": "2021-07-09T09:56:03.498Z"
   },
   {
    "duration": 3259,
    "start_time": "2021-07-09T09:56:03.515Z"
   },
   {
    "duration": 10,
    "start_time": "2021-07-09T09:56:06.777Z"
   },
   {
    "duration": 5,
    "start_time": "2021-07-09T09:56:06.789Z"
   },
   {
    "duration": 6,
    "start_time": "2021-07-09T09:56:06.796Z"
   },
   {
    "duration": 510,
    "start_time": "2021-07-09T09:56:06.804Z"
   },
   {
    "duration": -397,
    "start_time": "2021-07-09T09:56:07.714Z"
   },
   {
    "duration": -397,
    "start_time": "2021-07-09T09:56:07.716Z"
   },
   {
    "duration": -401,
    "start_time": "2021-07-09T09:56:07.721Z"
   },
   {
    "duration": -402,
    "start_time": "2021-07-09T09:56:07.723Z"
   },
   {
    "duration": -404,
    "start_time": "2021-07-09T09:56:07.726Z"
   },
   {
    "duration": -404,
    "start_time": "2021-07-09T09:56:07.728Z"
   },
   {
    "duration": -405,
    "start_time": "2021-07-09T09:56:07.730Z"
   },
   {
    "duration": -406,
    "start_time": "2021-07-09T09:56:07.732Z"
   },
   {
    "duration": -407,
    "start_time": "2021-07-09T09:56:07.734Z"
   },
   {
    "duration": -408,
    "start_time": "2021-07-09T09:56:07.736Z"
   },
   {
    "duration": -409,
    "start_time": "2021-07-09T09:56:07.738Z"
   },
   {
    "duration": -409,
    "start_time": "2021-07-09T09:56:07.740Z"
   },
   {
    "duration": -410,
    "start_time": "2021-07-09T09:56:07.742Z"
   },
   {
    "duration": -412,
    "start_time": "2021-07-09T09:56:07.745Z"
   },
   {
    "duration": -416,
    "start_time": "2021-07-09T09:56:07.750Z"
   },
   {
    "duration": -418,
    "start_time": "2021-07-09T09:56:07.754Z"
   },
   {
    "duration": -419,
    "start_time": "2021-07-09T09:56:07.756Z"
   },
   {
    "duration": -420,
    "start_time": "2021-07-09T09:56:07.758Z"
   },
   {
    "duration": -421,
    "start_time": "2021-07-09T09:56:07.760Z"
   },
   {
    "duration": -422,
    "start_time": "2021-07-09T09:56:07.762Z"
   },
   {
    "duration": -422,
    "start_time": "2021-07-09T09:56:07.763Z"
   },
   {
    "duration": -422,
    "start_time": "2021-07-09T09:56:07.765Z"
   },
   {
    "duration": -424,
    "start_time": "2021-07-09T09:56:07.768Z"
   },
   {
    "duration": -425,
    "start_time": "2021-07-09T09:56:07.770Z"
   },
   {
    "duration": -426,
    "start_time": "2021-07-09T09:56:07.772Z"
   },
   {
    "duration": -427,
    "start_time": "2021-07-09T09:56:07.774Z"
   },
   {
    "duration": -427,
    "start_time": "2021-07-09T09:56:07.776Z"
   },
   {
    "duration": -428,
    "start_time": "2021-07-09T09:56:07.778Z"
   },
   {
    "duration": -444,
    "start_time": "2021-07-09T09:56:07.795Z"
   },
   {
    "duration": -445,
    "start_time": "2021-07-09T09:56:07.797Z"
   },
   {
    "duration": -445,
    "start_time": "2021-07-09T09:56:07.799Z"
   },
   {
    "duration": -440,
    "start_time": "2021-07-09T09:56:07.801Z"
   },
   {
    "duration": -441,
    "start_time": "2021-07-09T09:56:07.804Z"
   },
   {
    "duration": -442,
    "start_time": "2021-07-09T09:56:07.806Z"
   },
   {
    "duration": -442,
    "start_time": "2021-07-09T09:56:07.808Z"
   },
   {
    "duration": -443,
    "start_time": "2021-07-09T09:56:07.810Z"
   },
   {
    "duration": -462,
    "start_time": "2021-07-09T09:56:07.830Z"
   },
   {
    "duration": -464,
    "start_time": "2021-07-09T09:56:07.833Z"
   },
   {
    "duration": -465,
    "start_time": "2021-07-09T09:56:07.835Z"
   },
   {
    "duration": -490,
    "start_time": "2021-07-09T09:56:07.862Z"
   },
   {
    "duration": -497,
    "start_time": "2021-07-09T09:56:07.870Z"
   },
   {
    "duration": -512,
    "start_time": "2021-07-09T09:56:07.886Z"
   },
   {
    "duration": -525,
    "start_time": "2021-07-09T09:56:07.901Z"
   },
   {
    "duration": -540,
    "start_time": "2021-07-09T09:56:07.917Z"
   },
   {
    "duration": -556,
    "start_time": "2021-07-09T09:56:07.934Z"
   },
   {
    "duration": -573,
    "start_time": "2021-07-09T09:56:07.952Z"
   },
   {
    "duration": -585,
    "start_time": "2021-07-09T09:56:07.966Z"
   },
   {
    "duration": -598,
    "start_time": "2021-07-09T09:56:07.981Z"
   },
   {
    "duration": -616,
    "start_time": "2021-07-09T09:56:08.000Z"
   },
   {
    "duration": -629,
    "start_time": "2021-07-09T09:56:08.014Z"
   },
   {
    "duration": 1955,
    "start_time": "2021-07-09T09:57:18.375Z"
   },
   {
    "duration": 3,
    "start_time": "2021-07-09T09:57:20.333Z"
   },
   {
    "duration": 367,
    "start_time": "2021-07-09T09:57:20.338Z"
   },
   {
    "duration": 23,
    "start_time": "2021-07-09T09:57:20.708Z"
   },
   {
    "duration": 19,
    "start_time": "2021-07-09T09:57:20.734Z"
   },
   {
    "duration": 6,
    "start_time": "2021-07-09T09:57:20.755Z"
   },
   {
    "duration": 13,
    "start_time": "2021-07-09T09:57:20.763Z"
   },
   {
    "duration": 15,
    "start_time": "2021-07-09T09:57:20.780Z"
   },
   {
    "duration": 5,
    "start_time": "2021-07-09T09:57:20.798Z"
   },
   {
    "duration": 28,
    "start_time": "2021-07-09T09:57:20.806Z"
   },
   {
    "duration": 27,
    "start_time": "2021-07-09T09:57:20.837Z"
   },
   {
    "duration": 17,
    "start_time": "2021-07-09T09:57:20.867Z"
   },
   {
    "duration": 8,
    "start_time": "2021-07-09T09:57:20.886Z"
   },
   {
    "duration": 29,
    "start_time": "2021-07-09T09:57:20.897Z"
   },
   {
    "duration": 48,
    "start_time": "2021-07-09T09:57:20.929Z"
   },
   {
    "duration": 33,
    "start_time": "2021-07-09T09:57:20.980Z"
   },
   {
    "duration": 51,
    "start_time": "2021-07-09T09:57:21.015Z"
   },
   {
    "duration": 19,
    "start_time": "2021-07-09T09:57:21.069Z"
   },
   {
    "duration": 12,
    "start_time": "2021-07-09T09:57:21.090Z"
   },
   {
    "duration": 60,
    "start_time": "2021-07-09T09:57:21.104Z"
   },
   {
    "duration": 23,
    "start_time": "2021-07-09T09:57:21.166Z"
   },
   {
    "duration": 6,
    "start_time": "2021-07-09T09:57:21.192Z"
   },
   {
    "duration": 60,
    "start_time": "2021-07-09T09:57:21.206Z"
   },
   {
    "duration": 7,
    "start_time": "2021-07-09T09:57:21.270Z"
   },
   {
    "duration": 18,
    "start_time": "2021-07-09T09:57:21.279Z"
   },
   {
    "duration": 24,
    "start_time": "2021-07-09T09:57:21.299Z"
   },
   {
    "duration": 36,
    "start_time": "2021-07-09T09:57:21.326Z"
   },
   {
    "duration": 39,
    "start_time": "2021-07-09T09:57:21.364Z"
   },
   {
    "duration": 7,
    "start_time": "2021-07-09T09:57:21.406Z"
   },
   {
    "duration": 9,
    "start_time": "2021-07-09T09:57:21.416Z"
   },
   {
    "duration": 49,
    "start_time": "2021-07-09T09:57:21.428Z"
   },
   {
    "duration": 166,
    "start_time": "2021-07-09T09:57:21.481Z"
   },
   {
    "duration": 14,
    "start_time": "2021-07-09T09:57:21.650Z"
   },
   {
    "duration": 15,
    "start_time": "2021-07-09T09:57:21.667Z"
   },
   {
    "duration": 4872,
    "start_time": "2021-07-09T09:57:21.685Z"
   },
   {
    "duration": 14,
    "start_time": "2021-07-09T09:57:26.563Z"
   },
   {
    "duration": 5,
    "start_time": "2021-07-09T09:57:26.580Z"
   },
   {
    "duration": 11,
    "start_time": "2021-07-09T09:57:26.588Z"
   },
   {
    "duration": 901,
    "start_time": "2021-07-09T09:57:26.602Z"
   },
   {
    "duration": -408,
    "start_time": "2021-07-09T09:57:27.916Z"
   },
   {
    "duration": -410,
    "start_time": "2021-07-09T09:57:27.920Z"
   },
   {
    "duration": -410,
    "start_time": "2021-07-09T09:57:27.922Z"
   },
   {
    "duration": -411,
    "start_time": "2021-07-09T09:57:27.925Z"
   },
   {
    "duration": -410,
    "start_time": "2021-07-09T09:57:27.927Z"
   },
   {
    "duration": -410,
    "start_time": "2021-07-09T09:57:27.929Z"
   },
   {
    "duration": -413,
    "start_time": "2021-07-09T09:57:27.934Z"
   },
   {
    "duration": -416,
    "start_time": "2021-07-09T09:57:27.939Z"
   },
   {
    "duration": -416,
    "start_time": "2021-07-09T09:57:27.941Z"
   },
   {
    "duration": -416,
    "start_time": "2021-07-09T09:57:27.943Z"
   },
   {
    "duration": -416,
    "start_time": "2021-07-09T09:57:27.945Z"
   },
   {
    "duration": -424,
    "start_time": "2021-07-09T09:57:27.954Z"
   },
   {
    "duration": -424,
    "start_time": "2021-07-09T09:57:27.957Z"
   },
   {
    "duration": -425,
    "start_time": "2021-07-09T09:57:27.960Z"
   },
   {
    "duration": -425,
    "start_time": "2021-07-09T09:57:27.962Z"
   },
   {
    "duration": -425,
    "start_time": "2021-07-09T09:57:27.964Z"
   },
   {
    "duration": -425,
    "start_time": "2021-07-09T09:57:27.966Z"
   },
   {
    "duration": -426,
    "start_time": "2021-07-09T09:57:27.969Z"
   },
   {
    "duration": -429,
    "start_time": "2021-07-09T09:57:27.974Z"
   },
   {
    "duration": -418,
    "start_time": "2021-07-09T09:57:27.980Z"
   },
   {
    "duration": -419,
    "start_time": "2021-07-09T09:57:27.983Z"
   },
   {
    "duration": -420,
    "start_time": "2021-07-09T09:57:27.986Z"
   },
   {
    "duration": -421,
    "start_time": "2021-07-09T09:57:27.990Z"
   },
   {
    "duration": -434,
    "start_time": "2021-07-09T09:57:28.005Z"
   },
   {
    "duration": -435,
    "start_time": "2021-07-09T09:57:28.008Z"
   },
   {
    "duration": -436,
    "start_time": "2021-07-09T09:57:28.011Z"
   },
   {
    "duration": -468,
    "start_time": "2021-07-09T09:57:28.045Z"
   },
   {
    "duration": -519,
    "start_time": "2021-07-09T09:57:28.098Z"
   },
   {
    "duration": -535,
    "start_time": "2021-07-09T09:57:28.117Z"
   },
   {
    "duration": -536,
    "start_time": "2021-07-09T09:57:28.120Z"
   },
   {
    "duration": -535,
    "start_time": "2021-07-09T09:57:28.121Z"
   },
   {
    "duration": -536,
    "start_time": "2021-07-09T09:57:28.124Z"
   },
   {
    "duration": -536,
    "start_time": "2021-07-09T09:57:28.126Z"
   },
   {
    "duration": -536,
    "start_time": "2021-07-09T09:57:28.128Z"
   },
   {
    "duration": -536,
    "start_time": "2021-07-09T09:57:28.130Z"
   },
   {
    "duration": -536,
    "start_time": "2021-07-09T09:57:28.132Z"
   },
   {
    "duration": -536,
    "start_time": "2021-07-09T09:57:28.134Z"
   },
   {
    "duration": -536,
    "start_time": "2021-07-09T09:57:28.136Z"
   },
   {
    "duration": -475,
    "start_time": "2021-07-09T09:57:28.138Z"
   },
   {
    "duration": -475,
    "start_time": "2021-07-09T09:57:28.140Z"
   },
   {
    "duration": -510,
    "start_time": "2021-07-09T09:57:28.177Z"
   },
   {
    "duration": -515,
    "start_time": "2021-07-09T09:57:28.184Z"
   },
   {
    "duration": -515,
    "start_time": "2021-07-09T09:57:28.186Z"
   },
   {
    "duration": -515,
    "start_time": "2021-07-09T09:57:28.188Z"
   },
   {
    "duration": -518,
    "start_time": "2021-07-09T09:57:28.194Z"
   },
   {
    "duration": -527,
    "start_time": "2021-07-09T09:57:28.205Z"
   },
   {
    "duration": -527,
    "start_time": "2021-07-09T09:57:28.208Z"
   },
   {
    "duration": -527,
    "start_time": "2021-07-09T09:57:28.210Z"
   },
   {
    "duration": -527,
    "start_time": "2021-07-09T09:57:28.212Z"
   },
   {
    "duration": 6,
    "start_time": "2021-07-09T10:00:36.471Z"
   },
   {
    "duration": 15698,
    "start_time": "2021-07-09T10:00:38.773Z"
   },
   {
    "duration": 6,
    "start_time": "2021-07-09T10:01:01.786Z"
   },
   {
    "duration": 694,
    "start_time": "2021-07-09T10:01:03.975Z"
   },
   {
    "duration": 6,
    "start_time": "2021-07-09T10:03:00.424Z"
   },
   {
    "duration": 761,
    "start_time": "2021-07-09T10:03:02.084Z"
   },
   {
    "duration": 5,
    "start_time": "2021-07-09T10:03:14.324Z"
   },
   {
    "duration": 757,
    "start_time": "2021-07-09T10:03:15.811Z"
   },
   {
    "duration": 6,
    "start_time": "2021-07-09T10:05:06.737Z"
   },
   {
    "duration": 689,
    "start_time": "2021-07-09T10:05:09.004Z"
   },
   {
    "duration": 6,
    "start_time": "2021-07-09T10:05:55.549Z"
   },
   {
    "duration": 689,
    "start_time": "2021-07-09T10:05:58.921Z"
   },
   {
    "duration": 6,
    "start_time": "2021-07-09T11:11:22.580Z"
   },
   {
    "duration": 740,
    "start_time": "2021-07-09T11:11:25.867Z"
   },
   {
    "duration": 6,
    "start_time": "2021-07-09T11:12:40.418Z"
   },
   {
    "duration": 285,
    "start_time": "2021-07-09T11:12:42.569Z"
   },
   {
    "duration": 8,
    "start_time": "2021-07-09T11:13:04.470Z"
   },
   {
    "duration": 7630,
    "start_time": "2021-07-09T11:13:07.078Z"
   },
   {
    "duration": 6,
    "start_time": "2021-07-09T11:14:39.929Z"
   },
   {
    "duration": 724,
    "start_time": "2021-07-09T11:14:41.634Z"
   },
   {
    "duration": 6,
    "start_time": "2021-07-09T11:51:27.096Z"
   },
   {
    "duration": 716,
    "start_time": "2021-07-09T11:51:29.196Z"
   },
   {
    "duration": 203,
    "start_time": "2021-07-09T11:51:39.275Z"
   },
   {
    "duration": 729,
    "start_time": "2021-07-09T11:51:42.318Z"
   },
   {
    "duration": 19,
    "start_time": "2021-07-09T11:51:57.787Z"
   },
   {
    "duration": 670,
    "start_time": "2021-07-09T11:51:59.797Z"
   },
   {
    "duration": 5,
    "start_time": "2021-07-09T11:52:22.662Z"
   },
   {
    "duration": 68,
    "start_time": "2021-07-09T11:52:24.206Z"
   },
   {
    "duration": 6,
    "start_time": "2021-07-09T11:53:26.034Z"
   },
   {
    "duration": 68,
    "start_time": "2021-07-09T11:53:28.329Z"
   },
   {
    "duration": 6,
    "start_time": "2021-07-09T11:55:20.489Z"
   },
   {
    "duration": 73,
    "start_time": "2021-07-09T11:55:21.973Z"
   },
   {
    "duration": 9,
    "start_time": "2021-07-09T11:55:53.882Z"
   },
   {
    "duration": 691,
    "start_time": "2021-07-09T11:55:55.388Z"
   },
   {
    "duration": 6,
    "start_time": "2021-07-09T11:56:39.281Z"
   },
   {
    "duration": 67,
    "start_time": "2021-07-09T11:56:41.929Z"
   },
   {
    "duration": 6,
    "start_time": "2021-07-09T11:57:42.939Z"
   },
   {
    "duration": 79,
    "start_time": "2021-07-09T11:57:44.562Z"
   },
   {
    "duration": 5,
    "start_time": "2021-07-09T11:58:09.716Z"
   },
   {
    "duration": 71,
    "start_time": "2021-07-09T11:58:15.722Z"
   },
   {
    "duration": 6,
    "start_time": "2021-07-09T11:58:33.339Z"
   },
   {
    "duration": 452,
    "start_time": "2021-07-09T11:58:34.745Z"
   },
   {
    "duration": 7,
    "start_time": "2021-07-09T11:58:56.273Z"
   },
   {
    "duration": 8263,
    "start_time": "2021-07-09T11:58:57.936Z"
   },
   {
    "duration": 7,
    "start_time": "2021-07-09T11:59:36.758Z"
   },
   {
    "duration": 68,
    "start_time": "2021-07-09T11:59:39.703Z"
   },
   {
    "duration": 7,
    "start_time": "2021-07-09T12:00:15.601Z"
   },
   {
    "duration": 8560,
    "start_time": "2021-07-09T12:00:17.133Z"
   },
   {
    "duration": 6,
    "start_time": "2021-07-09T12:01:01.644Z"
   },
   {
    "duration": 77,
    "start_time": "2021-07-09T12:01:04.237Z"
   },
   {
    "duration": 5,
    "start_time": "2021-07-09T12:01:47.471Z"
   },
   {
    "duration": 57,
    "start_time": "2021-07-09T12:01:49.127Z"
   },
   {
    "duration": 6,
    "start_time": "2021-07-09T12:02:01.969Z"
   },
   {
    "duration": 56,
    "start_time": "2021-07-09T12:02:04.265Z"
   },
   {
    "duration": 6,
    "start_time": "2021-07-09T12:02:13.779Z"
   },
   {
    "duration": 650,
    "start_time": "2021-07-09T12:02:16.844Z"
   },
   {
    "duration": 7,
    "start_time": "2021-07-09T12:02:39.366Z"
   },
   {
    "duration": 382,
    "start_time": "2021-07-09T12:02:41.299Z"
   },
   {
    "duration": 6,
    "start_time": "2021-07-09T12:03:26.374Z"
   },
   {
    "duration": 495,
    "start_time": "2021-07-09T12:03:28.042Z"
   },
   {
    "duration": 6,
    "start_time": "2021-07-09T12:05:21.319Z"
   },
   {
    "duration": 391,
    "start_time": "2021-07-09T12:05:22.823Z"
   },
   {
    "duration": 8,
    "start_time": "2021-07-09T12:05:54.556Z"
   },
   {
    "duration": 617,
    "start_time": "2021-07-09T12:05:56.234Z"
   },
   {
    "duration": 597,
    "start_time": "2021-07-09T12:06:23.413Z"
   },
   {
    "duration": 399,
    "start_time": "2021-07-09T12:07:24.844Z"
   },
   {
    "duration": 440,
    "start_time": "2021-07-09T12:08:12.430Z"
   },
   {
    "duration": 419,
    "start_time": "2021-07-09T12:08:16.538Z"
   },
   {
    "duration": 1915,
    "start_time": "2021-07-09T12:10:15.675Z"
   },
   {
    "duration": 3,
    "start_time": "2021-07-09T12:10:17.593Z"
   },
   {
    "duration": 406,
    "start_time": "2021-07-09T12:10:17.599Z"
   },
   {
    "duration": 24,
    "start_time": "2021-07-09T12:10:18.008Z"
   },
   {
    "duration": 25,
    "start_time": "2021-07-09T12:10:18.035Z"
   },
   {
    "duration": 8,
    "start_time": "2021-07-09T12:10:18.062Z"
   },
   {
    "duration": 20,
    "start_time": "2021-07-09T12:10:18.073Z"
   },
   {
    "duration": 15,
    "start_time": "2021-07-09T12:10:18.099Z"
   },
   {
    "duration": 8,
    "start_time": "2021-07-09T12:10:18.118Z"
   },
   {
    "duration": 55,
    "start_time": "2021-07-09T12:10:18.129Z"
   },
   {
    "duration": 7,
    "start_time": "2021-07-09T12:10:18.187Z"
   },
   {
    "duration": 21,
    "start_time": "2021-07-09T12:10:18.197Z"
   },
   {
    "duration": 27,
    "start_time": "2021-07-09T12:10:18.220Z"
   },
   {
    "duration": 49,
    "start_time": "2021-07-09T12:10:18.250Z"
   },
   {
    "duration": 25,
    "start_time": "2021-07-09T12:10:18.302Z"
   },
   {
    "duration": 71,
    "start_time": "2021-07-09T12:10:18.330Z"
   },
   {
    "duration": 30,
    "start_time": "2021-07-09T12:10:18.404Z"
   },
   {
    "duration": 44,
    "start_time": "2021-07-09T12:10:18.437Z"
   },
   {
    "duration": 14,
    "start_time": "2021-07-09T12:10:18.484Z"
   },
   {
    "duration": 34,
    "start_time": "2021-07-09T12:10:18.501Z"
   },
   {
    "duration": 50,
    "start_time": "2021-07-09T12:10:18.538Z"
   },
   {
    "duration": 8,
    "start_time": "2021-07-09T12:10:18.591Z"
   },
   {
    "duration": 56,
    "start_time": "2021-07-09T12:10:18.608Z"
   },
   {
    "duration": 7,
    "start_time": "2021-07-09T12:10:18.669Z"
   },
   {
    "duration": 19,
    "start_time": "2021-07-09T12:10:18.680Z"
   },
   {
    "duration": 30,
    "start_time": "2021-07-09T12:10:18.702Z"
   },
   {
    "duration": 8,
    "start_time": "2021-07-09T12:10:18.762Z"
   },
   {
    "duration": 57,
    "start_time": "2021-07-09T12:10:18.773Z"
   },
   {
    "duration": 8,
    "start_time": "2021-07-09T12:10:18.833Z"
   },
   {
    "duration": 8,
    "start_time": "2021-07-09T12:10:18.863Z"
   },
   {
    "duration": 11,
    "start_time": "2021-07-09T12:10:18.874Z"
   },
   {
    "duration": 188,
    "start_time": "2021-07-09T12:10:18.888Z"
   },
   {
    "duration": 5,
    "start_time": "2021-07-09T12:10:19.079Z"
   },
   {
    "duration": 38,
    "start_time": "2021-07-09T12:10:19.087Z"
   },
   {
    "duration": 4775,
    "start_time": "2021-07-09T12:10:19.128Z"
   },
   {
    "duration": 15,
    "start_time": "2021-07-09T12:10:23.906Z"
   },
   {
    "duration": 5,
    "start_time": "2021-07-09T12:10:23.924Z"
   },
   {
    "duration": 33,
    "start_time": "2021-07-09T12:10:23.932Z"
   },
   {
    "duration": 426,
    "start_time": "2021-07-09T12:10:23.968Z"
   },
   {
    "duration": 427,
    "start_time": "2021-07-09T12:10:24.397Z"
   },
   {
    "duration": 453,
    "start_time": "2021-07-09T12:10:24.827Z"
   },
   {
    "duration": 540,
    "start_time": "2021-07-09T12:10:25.282Z"
   },
   {
    "duration": 437,
    "start_time": "2021-07-09T12:10:25.824Z"
   },
   {
    "duration": 554,
    "start_time": "2021-07-09T12:10:26.264Z"
   },
   {
    "duration": 414,
    "start_time": "2021-07-09T12:10:26.821Z"
   },
   {
    "duration": 3,
    "start_time": "2021-07-09T12:10:27.238Z"
   },
   {
    "duration": 352,
    "start_time": "2021-07-09T12:10:27.243Z"
   },
   {
    "duration": 431,
    "start_time": "2021-07-09T12:10:27.598Z"
   },
   {
    "duration": 394,
    "start_time": "2021-07-09T12:10:28.032Z"
   },
   {
    "duration": 323,
    "start_time": "2021-07-09T12:10:28.429Z"
   },
   {
    "duration": 380,
    "start_time": "2021-07-09T12:10:28.762Z"
   },
   {
    "duration": 277,
    "start_time": "2021-07-09T12:10:29.145Z"
   },
   {
    "duration": 312,
    "start_time": "2021-07-09T12:10:29.424Z"
   },
   {
    "duration": 28,
    "start_time": "2021-07-09T12:10:29.739Z"
   },
   {
    "duration": 11,
    "start_time": "2021-07-09T12:10:29.769Z"
   },
   {
    "duration": 436,
    "start_time": "2021-07-09T12:10:29.783Z"
   },
   {
    "duration": 452,
    "start_time": "2021-07-09T12:10:30.221Z"
   },
   {
    "duration": 3,
    "start_time": "2021-07-09T12:10:30.677Z"
   },
   {
    "duration": 56,
    "start_time": "2021-07-09T12:10:30.683Z"
   },
   {
    "duration": 55,
    "start_time": "2021-07-09T12:10:30.741Z"
   },
   {
    "duration": 36,
    "start_time": "2021-07-09T12:10:30.798Z"
   },
   {
    "duration": 148,
    "start_time": "2021-07-09T12:10:30.836Z"
   },
   {
    "duration": 28,
    "start_time": "2021-07-09T12:10:30.988Z"
   },
   {
    "duration": 19,
    "start_time": "2021-07-09T12:10:31.018Z"
   },
   {
    "duration": 90,
    "start_time": "2021-07-09T12:10:31.039Z"
   },
   {
    "duration": 7,
    "start_time": "2021-07-09T12:10:31.132Z"
   },
   {
    "duration": 327,
    "start_time": "2021-07-09T12:10:31.161Z"
   },
   {
    "duration": 903,
    "start_time": "2021-07-09T12:10:31.495Z"
   },
   {
    "duration": 295,
    "start_time": "2021-07-09T12:10:32.401Z"
   },
   {
    "duration": 628,
    "start_time": "2021-07-09T12:10:32.698Z"
   },
   {
    "duration": 49,
    "start_time": "2021-07-09T12:10:33.329Z"
   },
   {
    "duration": 14,
    "start_time": "2021-07-09T12:10:33.381Z"
   },
   {
    "duration": 14,
    "start_time": "2021-07-09T12:10:33.398Z"
   },
   {
    "duration": 52,
    "start_time": "2021-07-09T12:10:33.414Z"
   },
   {
    "duration": 101,
    "start_time": "2021-07-09T12:10:33.469Z"
   },
   {
    "duration": 7,
    "start_time": "2021-07-09T12:10:33.573Z"
   },
   {
    "duration": 81,
    "start_time": "2021-07-09T12:10:33.582Z"
   },
   {
    "duration": 183,
    "start_time": "2021-07-09T12:10:33.666Z"
   },
   {
    "duration": 199,
    "start_time": "2021-07-09T12:10:33.852Z"
   },
   {
    "duration": 22,
    "start_time": "2021-07-09T12:10:34.053Z"
   },
   {
    "duration": 43,
    "start_time": "2021-07-09T12:10:34.078Z"
   },
   {
    "duration": 43,
    "start_time": "2021-07-09T12:10:34.124Z"
   },
   {
    "duration": 18,
    "start_time": "2021-07-09T12:10:34.171Z"
   },
   {
    "duration": 11,
    "start_time": "2021-07-09T12:10:34.191Z"
   },
   {
    "duration": 19,
    "start_time": "2021-07-09T12:10:34.205Z"
   },
   {
    "duration": 18,
    "start_time": "2021-07-09T12:10:34.227Z"
   },
   {
    "duration": 16,
    "start_time": "2021-07-09T12:10:34.248Z"
   },
   {
    "duration": 11,
    "start_time": "2021-07-09T12:10:34.267Z"
   },
   {
    "duration": 9,
    "start_time": "2021-07-09T12:17:15.788Z"
   },
   {
    "duration": 612,
    "start_time": "2021-07-09T12:17:18.039Z"
   },
   {
    "duration": 13,
    "start_time": "2021-07-09T12:20:09.076Z"
   },
   {
    "duration": 12,
    "start_time": "2021-07-09T12:20:12.710Z"
   },
   {
    "duration": 11,
    "start_time": "2021-07-09T12:20:37.912Z"
   },
   {
    "duration": 11,
    "start_time": "2021-07-09T12:20:39.773Z"
   },
   {
    "duration": 6,
    "start_time": "2021-07-09T12:24:08.394Z"
   },
   {
    "duration": 1958,
    "start_time": "2021-07-09T12:24:14.853Z"
   },
   {
    "duration": 3,
    "start_time": "2021-07-09T12:24:16.814Z"
   },
   {
    "duration": 430,
    "start_time": "2021-07-09T12:24:16.819Z"
   },
   {
    "duration": 23,
    "start_time": "2021-07-09T12:24:17.252Z"
   },
   {
    "duration": 17,
    "start_time": "2021-07-09T12:24:17.278Z"
   },
   {
    "duration": 5,
    "start_time": "2021-07-09T12:24:17.298Z"
   },
   {
    "duration": 10,
    "start_time": "2021-07-09T12:24:17.305Z"
   },
   {
    "duration": 53,
    "start_time": "2021-07-09T12:24:17.319Z"
   },
   {
    "duration": 8,
    "start_time": "2021-07-09T12:24:17.375Z"
   },
   {
    "duration": 33,
    "start_time": "2021-07-09T12:24:17.385Z"
   },
   {
    "duration": 6,
    "start_time": "2021-07-09T12:24:17.420Z"
   },
   {
    "duration": 45,
    "start_time": "2021-07-09T12:24:17.429Z"
   },
   {
    "duration": 9,
    "start_time": "2021-07-09T12:24:17.476Z"
   },
   {
    "duration": 39,
    "start_time": "2021-07-09T12:24:17.487Z"
   },
   {
    "duration": 35,
    "start_time": "2021-07-09T12:24:17.528Z"
   },
   {
    "duration": 34,
    "start_time": "2021-07-09T12:24:17.566Z"
   },
   {
    "duration": 25,
    "start_time": "2021-07-09T12:24:17.603Z"
   },
   {
    "duration": 51,
    "start_time": "2021-07-09T12:24:17.631Z"
   },
   {
    "duration": 14,
    "start_time": "2021-07-09T12:24:17.685Z"
   },
   {
    "duration": 27,
    "start_time": "2021-07-09T12:24:17.702Z"
   },
   {
    "duration": 53,
    "start_time": "2021-07-09T12:24:17.731Z"
   },
   {
    "duration": 8,
    "start_time": "2021-07-09T12:24:17.788Z"
   },
   {
    "duration": 20,
    "start_time": "2021-07-09T12:24:17.803Z"
   },
   {
    "duration": 6,
    "start_time": "2021-07-09T12:24:17.866Z"
   },
   {
    "duration": 18,
    "start_time": "2021-07-09T12:24:17.874Z"
   },
   {
    "duration": 26,
    "start_time": "2021-07-09T12:24:17.895Z"
   },
   {
    "duration": 45,
    "start_time": "2021-07-09T12:24:17.923Z"
   },
   {
    "duration": 42,
    "start_time": "2021-07-09T12:24:17.971Z"
   },
   {
    "duration": 8,
    "start_time": "2021-07-09T12:24:18.016Z"
   },
   {
    "duration": 37,
    "start_time": "2021-07-09T12:24:18.027Z"
   },
   {
    "duration": 9,
    "start_time": "2021-07-09T12:24:18.067Z"
   },
   {
    "duration": 138,
    "start_time": "2021-07-09T12:24:18.079Z"
   },
   {
    "duration": 6,
    "start_time": "2021-07-09T12:24:18.220Z"
   },
   {
    "duration": 8,
    "start_time": "2021-07-09T12:24:18.229Z"
   },
   {
    "duration": 3209,
    "start_time": "2021-07-09T12:24:18.263Z"
   },
   {
    "duration": 12,
    "start_time": "2021-07-09T12:24:21.475Z"
   },
   {
    "duration": 5,
    "start_time": "2021-07-09T12:24:21.489Z"
   },
   {
    "duration": 21,
    "start_time": "2021-07-09T12:24:21.496Z"
   },
   {
    "duration": 462,
    "start_time": "2021-07-09T12:24:21.520Z"
   },
   {
    "duration": 426,
    "start_time": "2021-07-09T12:24:21.984Z"
   },
   {
    "duration": 457,
    "start_time": "2021-07-09T12:24:22.413Z"
   },
   {
    "duration": 431,
    "start_time": "2021-07-09T12:24:22.873Z"
   },
   {
    "duration": 441,
    "start_time": "2021-07-09T12:24:23.307Z"
   },
   {
    "duration": 553,
    "start_time": "2021-07-09T12:24:23.751Z"
   },
   {
    "duration": 550,
    "start_time": "2021-07-09T12:24:24.307Z"
   },
   {
    "duration": 4,
    "start_time": "2021-07-09T12:24:24.861Z"
   },
   {
    "duration": 335,
    "start_time": "2021-07-09T12:24:24.867Z"
   },
   {
    "duration": 436,
    "start_time": "2021-07-09T12:24:25.204Z"
   },
   {
    "duration": 398,
    "start_time": "2021-07-09T12:24:25.643Z"
   },
   {
    "duration": 326,
    "start_time": "2021-07-09T12:24:26.044Z"
   },
   {
    "duration": 398,
    "start_time": "2021-07-09T12:24:26.372Z"
   },
   {
    "duration": 292,
    "start_time": "2021-07-09T12:24:26.773Z"
   },
   {
    "duration": 317,
    "start_time": "2021-07-09T12:24:27.068Z"
   },
   {
    "duration": 14,
    "start_time": "2021-07-09T12:24:27.388Z"
   },
   {
    "duration": 14,
    "start_time": "2021-07-09T12:24:27.406Z"
   },
   {
    "duration": 429,
    "start_time": "2021-07-09T12:24:27.440Z"
   },
   {
    "duration": 449,
    "start_time": "2021-07-09T12:24:27.871Z"
   },
   {
    "duration": 3,
    "start_time": "2021-07-09T12:24:28.323Z"
   },
   {
    "duration": 46,
    "start_time": "2021-07-09T12:24:28.329Z"
   },
   {
    "duration": 32,
    "start_time": "2021-07-09T12:24:28.377Z"
   },
   {
    "duration": 5,
    "start_time": "2021-07-09T12:24:28.411Z"
   },
   {
    "duration": 175,
    "start_time": "2021-07-09T12:24:28.418Z"
   },
   {
    "duration": 13,
    "start_time": "2021-07-09T12:24:28.596Z"
   },
   {
    "duration": 19,
    "start_time": "2021-07-09T12:24:28.611Z"
   },
   {
    "duration": 102,
    "start_time": "2021-07-09T12:24:28.633Z"
   },
   {
    "duration": 28,
    "start_time": "2021-07-09T12:24:28.738Z"
   },
   {
    "duration": 304,
    "start_time": "2021-07-09T12:24:28.770Z"
   },
   {
    "duration": 917,
    "start_time": "2021-07-09T12:24:29.084Z"
   },
   {
    "duration": 288,
    "start_time": "2021-07-09T12:24:30.004Z"
   },
   {
    "duration": 630,
    "start_time": "2021-07-09T12:24:30.294Z"
   },
   {
    "duration": 50,
    "start_time": "2021-07-09T12:24:30.927Z"
   },
   {
    "duration": 15,
    "start_time": "2021-07-09T12:24:30.979Z"
   },
   {
    "duration": 22,
    "start_time": "2021-07-09T12:24:30.997Z"
   },
   {
    "duration": 32,
    "start_time": "2021-07-09T12:24:31.021Z"
   },
   {
    "duration": 72,
    "start_time": "2021-07-09T12:24:31.063Z"
   },
   {
    "duration": 25,
    "start_time": "2021-07-09T12:24:31.138Z"
   },
   {
    "duration": 92,
    "start_time": "2021-07-09T12:24:31.165Z"
   },
   {
    "duration": 189,
    "start_time": "2021-07-09T12:24:31.259Z"
   },
   {
    "duration": 200,
    "start_time": "2021-07-09T12:24:31.450Z"
   },
   {
    "duration": 25,
    "start_time": "2021-07-09T12:24:31.652Z"
   },
   {
    "duration": 60,
    "start_time": "2021-07-09T12:24:31.680Z"
   },
   {
    "duration": 26,
    "start_time": "2021-07-09T12:24:31.743Z"
   },
   {
    "duration": 33,
    "start_time": "2021-07-09T12:24:31.772Z"
   },
   {
    "duration": 28,
    "start_time": "2021-07-09T12:24:31.808Z"
   },
   {
    "duration": 29,
    "start_time": "2021-07-09T12:24:31.838Z"
   },
   {
    "duration": 32,
    "start_time": "2021-07-09T12:24:31.869Z"
   },
   {
    "duration": 22,
    "start_time": "2021-07-09T12:24:31.904Z"
   },
   {
    "duration": 17,
    "start_time": "2021-07-09T12:24:31.929Z"
   },
   {
    "duration": 1936,
    "start_time": "2021-07-09T12:27:10.452Z"
   },
   {
    "duration": 3,
    "start_time": "2021-07-09T12:27:12.391Z"
   },
   {
    "duration": 432,
    "start_time": "2021-07-09T12:27:12.396Z"
   },
   {
    "duration": 24,
    "start_time": "2021-07-09T12:27:12.832Z"
   },
   {
    "duration": 21,
    "start_time": "2021-07-09T12:27:12.859Z"
   },
   {
    "duration": 8,
    "start_time": "2021-07-09T12:27:12.882Z"
   },
   {
    "duration": 12,
    "start_time": "2021-07-09T12:27:12.893Z"
   },
   {
    "duration": 21,
    "start_time": "2021-07-09T12:27:12.909Z"
   },
   {
    "duration": 29,
    "start_time": "2021-07-09T12:27:12.933Z"
   },
   {
    "duration": 27,
    "start_time": "2021-07-09T12:27:12.965Z"
   },
   {
    "duration": 6,
    "start_time": "2021-07-09T12:27:12.994Z"
   },
   {
    "duration": 21,
    "start_time": "2021-07-09T12:27:13.003Z"
   },
   {
    "duration": 34,
    "start_time": "2021-07-09T12:27:13.027Z"
   },
   {
    "duration": 24,
    "start_time": "2021-07-09T12:27:13.063Z"
   },
   {
    "duration": 19,
    "start_time": "2021-07-09T12:27:13.089Z"
   },
   {
    "duration": 66,
    "start_time": "2021-07-09T12:27:13.111Z"
   },
   {
    "duration": 23,
    "start_time": "2021-07-09T12:27:13.180Z"
   },
   {
    "duration": 22,
    "start_time": "2021-07-09T12:27:13.206Z"
   },
   {
    "duration": 41,
    "start_time": "2021-07-09T12:27:13.230Z"
   },
   {
    "duration": 21,
    "start_time": "2021-07-09T12:27:13.273Z"
   },
   {
    "duration": 22,
    "start_time": "2021-07-09T12:27:13.297Z"
   },
   {
    "duration": 41,
    "start_time": "2021-07-09T12:27:13.321Z"
   },
   {
    "duration": 26,
    "start_time": "2021-07-09T12:27:13.369Z"
   },
   {
    "duration": 7,
    "start_time": "2021-07-09T12:27:13.400Z"
   },
   {
    "duration": 14,
    "start_time": "2021-07-09T12:27:13.410Z"
   },
   {
    "duration": 31,
    "start_time": "2021-07-09T12:27:13.463Z"
   },
   {
    "duration": 8,
    "start_time": "2021-07-09T12:27:13.497Z"
   },
   {
    "duration": 80,
    "start_time": "2021-07-09T12:27:13.508Z"
   },
   {
    "duration": 8,
    "start_time": "2021-07-09T12:27:13.592Z"
   },
   {
    "duration": 18,
    "start_time": "2021-07-09T12:27:13.602Z"
   },
   {
    "duration": 11,
    "start_time": "2021-07-09T12:27:13.623Z"
   },
   {
    "duration": 140,
    "start_time": "2021-07-09T12:27:13.637Z"
   },
   {
    "duration": 5,
    "start_time": "2021-07-09T12:27:13.779Z"
   },
   {
    "duration": 10,
    "start_time": "2021-07-09T12:27:13.787Z"
   },
   {
    "duration": 3462,
    "start_time": "2021-07-09T12:27:13.800Z"
   },
   {
    "duration": 11,
    "start_time": "2021-07-09T12:27:17.265Z"
   },
   {
    "duration": 5,
    "start_time": "2021-07-09T12:27:17.278Z"
   },
   {
    "duration": 12,
    "start_time": "2021-07-09T12:27:17.286Z"
   },
   {
    "duration": 451,
    "start_time": "2021-07-09T12:27:17.300Z"
   },
   {
    "duration": 426,
    "start_time": "2021-07-09T12:27:17.754Z"
   },
   {
    "duration": 471,
    "start_time": "2021-07-09T12:27:18.183Z"
   },
   {
    "duration": 425,
    "start_time": "2021-07-09T12:27:18.660Z"
   },
   {
    "duration": 440,
    "start_time": "2021-07-09T12:27:19.088Z"
   },
   {
    "duration": 541,
    "start_time": "2021-07-09T12:27:19.531Z"
   },
   {
    "duration": 421,
    "start_time": "2021-07-09T12:27:20.075Z"
   },
   {
    "duration": 4,
    "start_time": "2021-07-09T12:27:20.498Z"
   },
   {
    "duration": 329,
    "start_time": "2021-07-09T12:27:20.504Z"
   },
   {
    "duration": 443,
    "start_time": "2021-07-09T12:27:20.836Z"
   },
   {
    "duration": 384,
    "start_time": "2021-07-09T12:27:21.282Z"
   },
   {
    "duration": 323,
    "start_time": "2021-07-09T12:27:21.668Z"
   },
   {
    "duration": 384,
    "start_time": "2021-07-09T12:27:21.993Z"
   },
   {
    "duration": 274,
    "start_time": "2021-07-09T12:27:22.380Z"
   },
   {
    "duration": 302,
    "start_time": "2021-07-09T12:27:22.656Z"
   },
   {
    "duration": 10,
    "start_time": "2021-07-09T12:27:22.962Z"
   },
   {
    "duration": 10,
    "start_time": "2021-07-09T12:27:22.974Z"
   },
   {
    "duration": 456,
    "start_time": "2021-07-09T12:27:22.986Z"
   },
   {
    "duration": 456,
    "start_time": "2021-07-09T12:27:23.444Z"
   },
   {
    "duration": 4,
    "start_time": "2021-07-09T12:27:23.902Z"
   },
   {
    "duration": 27,
    "start_time": "2021-07-09T12:27:23.909Z"
   },
   {
    "duration": 34,
    "start_time": "2021-07-09T12:27:23.962Z"
   },
   {
    "duration": 5,
    "start_time": "2021-07-09T12:27:23.999Z"
   },
   {
    "duration": 155,
    "start_time": "2021-07-09T12:27:24.006Z"
   },
   {
    "duration": 14,
    "start_time": "2021-07-09T12:27:24.164Z"
   },
   {
    "duration": 18,
    "start_time": "2021-07-09T12:27:24.180Z"
   },
   {
    "duration": 113,
    "start_time": "2021-07-09T12:27:24.201Z"
   },
   {
    "duration": 8,
    "start_time": "2021-07-09T12:27:24.316Z"
   },
   {
    "duration": 487,
    "start_time": "2021-07-09T12:27:24.327Z"
   },
   {
    "duration": 1386,
    "start_time": "2021-07-09T12:27:24.827Z"
   },
   {
    "duration": 318,
    "start_time": "2021-07-09T12:27:26.217Z"
   },
   {
    "duration": 611,
    "start_time": "2021-07-09T12:27:26.539Z"
   },
   {
    "duration": 42,
    "start_time": "2021-07-09T12:27:27.153Z"
   },
   {
    "duration": 15,
    "start_time": "2021-07-09T12:27:27.197Z"
   },
   {
    "duration": 49,
    "start_time": "2021-07-09T12:27:27.214Z"
   },
   {
    "duration": 22,
    "start_time": "2021-07-09T12:27:27.266Z"
   },
   {
    "duration": 82,
    "start_time": "2021-07-09T12:27:27.291Z"
   },
   {
    "duration": 8,
    "start_time": "2021-07-09T12:27:27.375Z"
   },
   {
    "duration": 74,
    "start_time": "2021-07-09T12:27:27.386Z"
   },
   {
    "duration": 187,
    "start_time": "2021-07-09T12:27:27.463Z"
   },
   {
    "duration": 204,
    "start_time": "2021-07-09T12:27:27.652Z"
   },
   {
    "duration": 19,
    "start_time": "2021-07-09T12:27:27.861Z"
   },
   {
    "duration": 52,
    "start_time": "2021-07-09T12:27:27.882Z"
   },
   {
    "duration": 36,
    "start_time": "2021-07-09T12:27:27.937Z"
   },
   {
    "duration": 14,
    "start_time": "2021-07-09T12:27:27.976Z"
   },
   {
    "duration": 18,
    "start_time": "2021-07-09T12:27:27.993Z"
   },
   {
    "duration": 29,
    "start_time": "2021-07-09T12:27:28.014Z"
   },
   {
    "duration": 24,
    "start_time": "2021-07-09T12:27:28.046Z"
   },
   {
    "duration": 10,
    "start_time": "2021-07-09T12:27:28.073Z"
   },
   {
    "duration": 8,
    "start_time": "2021-07-09T12:27:28.085Z"
   },
   {
    "duration": 23,
    "start_time": "2021-07-09T12:38:04.056Z"
   },
   {
    "duration": 19,
    "start_time": "2021-07-09T12:39:06.468Z"
   },
   {
    "duration": 19,
    "start_time": "2021-07-09T12:39:15.447Z"
   },
   {
    "duration": 29,
    "start_time": "2021-07-09T12:46:14.242Z"
   },
   {
    "duration": 25,
    "start_time": "2021-07-09T12:47:00.706Z"
   },
   {
    "duration": 20,
    "start_time": "2021-07-09T12:48:00.703Z"
   },
   {
    "duration": 13,
    "start_time": "2021-07-09T13:04:43.202Z"
   },
   {
    "duration": 10,
    "start_time": "2021-07-09T13:05:13.289Z"
   },
   {
    "duration": 21,
    "start_time": "2021-07-09T13:05:33.962Z"
   },
   {
    "duration": 15,
    "start_time": "2021-07-09T13:06:27.128Z"
   },
   {
    "duration": 577,
    "start_time": "2021-07-09T13:06:31.804Z"
   },
   {
    "duration": 15,
    "start_time": "2021-07-09T13:06:49.331Z"
   },
   {
    "duration": 13,
    "start_time": "2021-07-09T13:08:23.086Z"
   },
   {
    "duration": 14,
    "start_time": "2021-07-09T13:08:55.039Z"
   },
   {
    "duration": 18,
    "start_time": "2021-07-09T13:09:44.373Z"
   },
   {
    "duration": 78,
    "start_time": "2021-07-09T13:09:49.980Z"
   },
   {
    "duration": 7,
    "start_time": "2021-07-09T13:09:55.079Z"
   },
   {
    "duration": 325,
    "start_time": "2021-07-09T13:09:58.922Z"
   },
   {
    "duration": 1016,
    "start_time": "2021-07-09T13:10:26.970Z"
   },
   {
    "duration": 992,
    "start_time": "2021-07-09T13:11:55.815Z"
   },
   {
    "duration": 657,
    "start_time": "2021-07-09T13:14:29.470Z"
   },
   {
    "duration": 18,
    "start_time": "2021-07-09T13:14:54.244Z"
   },
   {
    "duration": 17,
    "start_time": "2021-07-09T13:16:39.328Z"
   },
   {
    "duration": 252,
    "start_time": "2021-07-09T13:16:40.959Z"
   },
   {
    "duration": 18,
    "start_time": "2021-07-09T13:16:51.778Z"
   },
   {
    "duration": 21,
    "start_time": "2021-07-09T13:18:43.247Z"
   },
   {
    "duration": 83,
    "start_time": "2021-07-09T13:18:47.407Z"
   },
   {
    "duration": 7,
    "start_time": "2021-07-09T13:18:49.478Z"
   },
   {
    "duration": 48,
    "start_time": "2021-07-09T13:18:52.691Z"
   },
   {
    "duration": 124,
    "start_time": "2021-07-09T13:19:30.066Z"
   },
   {
    "duration": 320,
    "start_time": "2021-07-09T13:19:58.327Z"
   },
   {
    "duration": 8,
    "start_time": "2021-07-09T13:21:12.287Z"
   },
   {
    "duration": 62,
    "start_time": "2021-07-09T13:21:14.104Z"
   },
   {
    "duration": 347,
    "start_time": "2021-07-09T13:21:16.593Z"
   },
   {
    "duration": 10,
    "start_time": "2021-07-09T13:21:54.477Z"
   },
   {
    "duration": 59,
    "start_time": "2021-07-09T13:21:56.407Z"
   },
   {
    "duration": 349,
    "start_time": "2021-07-09T13:21:58.588Z"
   },
   {
    "duration": 20,
    "start_time": "2021-07-09T13:22:34.785Z"
   },
   {
    "duration": 50,
    "start_time": "2021-07-09T13:22:40.257Z"
   },
   {
    "duration": 20,
    "start_time": "2021-07-09T13:23:23.357Z"
   },
   {
    "duration": 62,
    "start_time": "2021-07-09T13:23:26.657Z"
   },
   {
    "duration": 396,
    "start_time": "2021-07-09T13:23:33.203Z"
   },
   {
    "duration": 7,
    "start_time": "2021-07-09T13:24:00.565Z"
   },
   {
    "duration": 51,
    "start_time": "2021-07-09T13:24:04.081Z"
   },
   {
    "duration": 370,
    "start_time": "2021-07-09T13:33:27.396Z"
   },
   {
    "duration": 55,
    "start_time": "2021-07-09T13:33:36.628Z"
   },
   {
    "duration": 455,
    "start_time": "2021-07-09T13:33:46.091Z"
   },
   {
    "duration": 381,
    "start_time": "2021-07-09T13:34:38.984Z"
   },
   {
    "duration": 327,
    "start_time": "2021-07-09T13:35:28.492Z"
   },
   {
    "duration": 346,
    "start_time": "2021-07-09T13:35:42.335Z"
   },
   {
    "duration": 364,
    "start_time": "2021-07-09T13:35:51.912Z"
   },
   {
    "duration": 314,
    "start_time": "2021-07-09T13:39:19.649Z"
   },
   {
    "duration": 115,
    "start_time": "2021-07-09T13:39:43.086Z"
   },
   {
    "duration": 307,
    "start_time": "2021-07-09T13:39:48.346Z"
   },
   {
    "duration": 634,
    "start_time": "2021-07-09T13:41:19.168Z"
   },
   {
    "duration": 99,
    "start_time": "2021-07-09T13:44:09.709Z"
   },
   {
    "duration": 108,
    "start_time": "2021-07-09T13:44:16.903Z"
   },
   {
    "duration": 334,
    "start_time": "2021-07-09T13:45:25.419Z"
   },
   {
    "duration": 348,
    "start_time": "2021-07-09T13:46:32.743Z"
   },
   {
    "duration": 993,
    "start_time": "2021-07-09T13:47:03.956Z"
   },
   {
    "duration": 305,
    "start_time": "2021-07-09T13:47:30.471Z"
   },
   {
    "duration": 299,
    "start_time": "2021-07-09T13:48:53.034Z"
   },
   {
    "duration": 240,
    "start_time": "2021-07-09T13:49:10.994Z"
   },
   {
    "duration": 248,
    "start_time": "2021-07-09T13:49:22.025Z"
   },
   {
    "duration": 27816,
    "start_time": "2021-07-09T13:51:20.339Z"
   },
   {
    "duration": 281,
    "start_time": "2021-07-09T13:55:40.126Z"
   },
   {
    "duration": 107,
    "start_time": "2021-07-09T13:56:47.463Z"
   },
   {
    "duration": 384,
    "start_time": "2021-07-09T13:56:54.480Z"
   },
   {
    "duration": 316,
    "start_time": "2021-07-09T13:57:18.425Z"
   },
   {
    "duration": 373,
    "start_time": "2021-07-09T13:59:08.332Z"
   },
   {
    "duration": 403,
    "start_time": "2021-07-09T14:06:24.987Z"
   },
   {
    "duration": 328,
    "start_time": "2021-07-09T14:06:35.667Z"
   },
   {
    "duration": 310,
    "start_time": "2021-07-09T14:06:43.448Z"
   },
   {
    "duration": 332,
    "start_time": "2021-07-09T14:14:53.659Z"
   },
   {
    "duration": 324,
    "start_time": "2021-07-09T14:16:42.113Z"
   },
   {
    "duration": 1382,
    "start_time": "2021-07-09T14:17:17.458Z"
   },
   {
    "duration": 866,
    "start_time": "2021-07-09T14:20:18.982Z"
   },
   {
    "duration": 308,
    "start_time": "2021-07-09T14:24:18.251Z"
   },
   {
    "duration": 1167,
    "start_time": "2021-07-09T14:24:35.995Z"
   },
   {
    "duration": 853,
    "start_time": "2021-07-09T14:25:00.300Z"
   },
   {
    "duration": 818,
    "start_time": "2021-07-09T14:27:12.788Z"
   },
   {
    "duration": 835,
    "start_time": "2021-07-09T14:27:23.771Z"
   },
   {
    "duration": 829,
    "start_time": "2021-07-09T14:27:53.975Z"
   },
   {
    "duration": 1050,
    "start_time": "2021-07-09T14:28:38.100Z"
   },
   {
    "duration": 1126,
    "start_time": "2021-07-09T14:28:55.285Z"
   },
   {
    "duration": 1252,
    "start_time": "2021-07-09T14:29:34.925Z"
   },
   {
    "duration": 1971,
    "start_time": "2021-07-09T14:32:34.675Z"
   },
   {
    "duration": 335,
    "start_time": "2021-07-09T14:38:43.748Z"
   },
   {
    "duration": 77,
    "start_time": "2021-07-09T14:39:43.525Z"
   },
   {
    "duration": 523,
    "start_time": "2021-07-09T14:39:45.546Z"
   },
   {
    "duration": 620,
    "start_time": "2021-07-09T14:40:27.510Z"
   },
   {
    "duration": 12,
    "start_time": "2021-07-09T14:41:29.071Z"
   },
   {
    "duration": 343,
    "start_time": "2021-07-09T14:43:31.192Z"
   },
   {
    "duration": 7,
    "start_time": "2021-07-09T14:43:36.996Z"
   },
   {
    "duration": 109,
    "start_time": "2021-07-09T14:44:19.210Z"
   },
   {
    "duration": 7,
    "start_time": "2021-07-09T14:44:23.180Z"
   },
   {
    "duration": 295,
    "start_time": "2021-07-09T14:44:43.131Z"
   },
   {
    "duration": 9,
    "start_time": "2021-07-09T14:44:48.501Z"
   },
   {
    "duration": 321,
    "start_time": "2021-07-09T14:47:53.854Z"
   },
   {
    "duration": 75,
    "start_time": "2021-07-09T14:48:01.027Z"
   },
   {
    "duration": 493,
    "start_time": "2021-07-09T14:48:03.108Z"
   },
   {
    "duration": 6,
    "start_time": "2021-07-09T14:49:44.159Z"
   },
   {
    "duration": 6,
    "start_time": "2021-07-09T14:50:21.704Z"
   },
   {
    "duration": 5,
    "start_time": "2021-07-09T14:51:25.287Z"
   },
   {
    "duration": 1967,
    "start_time": "2021-07-09T17:30:23.491Z"
   },
   {
    "duration": 3,
    "start_time": "2021-07-09T17:30:25.461Z"
   },
   {
    "duration": 465,
    "start_time": "2021-07-09T17:30:25.466Z"
   },
   {
    "duration": 23,
    "start_time": "2021-07-09T17:30:25.934Z"
   },
   {
    "duration": 19,
    "start_time": "2021-07-09T17:30:25.959Z"
   },
   {
    "duration": 6,
    "start_time": "2021-07-09T17:30:25.980Z"
   },
   {
    "duration": 9,
    "start_time": "2021-07-09T17:30:25.989Z"
   },
   {
    "duration": 12,
    "start_time": "2021-07-09T17:30:26.002Z"
   },
   {
    "duration": 4,
    "start_time": "2021-07-09T17:30:26.017Z"
   },
   {
    "duration": 26,
    "start_time": "2021-07-09T17:30:26.067Z"
   },
   {
    "duration": 5,
    "start_time": "2021-07-09T17:30:26.096Z"
   },
   {
    "duration": 19,
    "start_time": "2021-07-09T17:30:26.104Z"
   },
   {
    "duration": 10,
    "start_time": "2021-07-09T17:30:26.126Z"
   },
   {
    "duration": 52,
    "start_time": "2021-07-09T17:30:26.138Z"
   },
   {
    "duration": 19,
    "start_time": "2021-07-09T17:30:26.192Z"
   },
   {
    "duration": 74,
    "start_time": "2021-07-09T17:30:26.213Z"
   },
   {
    "duration": 22,
    "start_time": "2021-07-09T17:30:26.289Z"
   },
   {
    "duration": 18,
    "start_time": "2021-07-09T17:30:26.314Z"
   },
   {
    "duration": 38,
    "start_time": "2021-07-09T17:30:26.335Z"
   },
   {
    "duration": 23,
    "start_time": "2021-07-09T17:30:26.375Z"
   },
   {
    "duration": 22,
    "start_time": "2021-07-09T17:30:26.401Z"
   },
   {
    "duration": 44,
    "start_time": "2021-07-09T17:30:26.426Z"
   },
   {
    "duration": 18,
    "start_time": "2021-07-09T17:30:26.476Z"
   },
   {
    "duration": 7,
    "start_time": "2021-07-09T17:30:26.498Z"
   },
   {
    "duration": 14,
    "start_time": "2021-07-09T17:30:26.507Z"
   },
   {
    "duration": 57,
    "start_time": "2021-07-09T17:30:26.523Z"
   },
   {
    "duration": 5,
    "start_time": "2021-07-09T17:30:26.582Z"
   },
   {
    "duration": 39,
    "start_time": "2021-07-09T17:30:26.590Z"
   },
   {
    "duration": 36,
    "start_time": "2021-07-09T17:30:26.631Z"
   },
   {
    "duration": 6,
    "start_time": "2021-07-09T17:30:26.670Z"
   },
   {
    "duration": 11,
    "start_time": "2021-07-09T17:30:26.678Z"
   },
   {
    "duration": 142,
    "start_time": "2021-07-09T17:30:26.691Z"
   },
   {
    "duration": 4,
    "start_time": "2021-07-09T17:30:26.836Z"
   },
   {
    "duration": 24,
    "start_time": "2021-07-09T17:30:26.843Z"
   },
   {
    "duration": 3223,
    "start_time": "2021-07-09T17:30:26.870Z"
   },
   {
    "duration": 11,
    "start_time": "2021-07-09T17:30:30.096Z"
   },
   {
    "duration": 20,
    "start_time": "2021-07-09T17:30:30.109Z"
   },
   {
    "duration": 46,
    "start_time": "2021-07-09T17:30:30.131Z"
   },
   {
    "duration": 455,
    "start_time": "2021-07-09T17:30:30.179Z"
   },
   {
    "duration": 411,
    "start_time": "2021-07-09T17:30:30.636Z"
   },
   {
    "duration": 471,
    "start_time": "2021-07-09T17:30:31.049Z"
   },
   {
    "duration": 504,
    "start_time": "2021-07-09T17:30:31.522Z"
   },
   {
    "duration": 556,
    "start_time": "2021-07-09T17:30:32.029Z"
   },
   {
    "duration": 552,
    "start_time": "2021-07-09T17:30:32.587Z"
   },
   {
    "duration": 427,
    "start_time": "2021-07-09T17:30:33.141Z"
   },
   {
    "duration": 4,
    "start_time": "2021-07-09T17:30:33.570Z"
   },
   {
    "duration": 351,
    "start_time": "2021-07-09T17:30:33.577Z"
   },
   {
    "duration": 456,
    "start_time": "2021-07-09T17:30:33.931Z"
   },
   {
    "duration": 421,
    "start_time": "2021-07-09T17:30:34.390Z"
   },
   {
    "duration": 330,
    "start_time": "2021-07-09T17:30:34.814Z"
   },
   {
    "duration": 424,
    "start_time": "2021-07-09T17:30:35.146Z"
   },
   {
    "duration": 297,
    "start_time": "2021-07-09T17:30:35.573Z"
   },
   {
    "duration": 318,
    "start_time": "2021-07-09T17:30:35.873Z"
   },
   {
    "duration": 25,
    "start_time": "2021-07-09T17:30:36.194Z"
   },
   {
    "duration": 51,
    "start_time": "2021-07-09T17:30:36.222Z"
   },
   {
    "duration": 4,
    "start_time": "2021-07-09T17:30:36.275Z"
   },
   {
    "duration": 26,
    "start_time": "2021-07-09T17:30:36.282Z"
   },
   {
    "duration": 60,
    "start_time": "2021-07-09T17:30:36.310Z"
   },
   {
    "duration": 5,
    "start_time": "2021-07-09T17:30:36.372Z"
   },
   {
    "duration": 17,
    "start_time": "2021-07-09T17:30:36.380Z"
   },
   {
    "duration": 14,
    "start_time": "2021-07-09T17:30:36.400Z"
   },
   {
    "duration": 54,
    "start_time": "2021-07-09T17:30:36.417Z"
   },
   {
    "duration": 93,
    "start_time": "2021-07-09T17:30:36.474Z"
   },
   {
    "duration": 8,
    "start_time": "2021-07-09T17:30:36.570Z"
   },
   {
    "duration": 352,
    "start_time": "2021-07-09T17:30:36.580Z"
   },
   {
    "duration": 1004,
    "start_time": "2021-07-09T17:30:36.934Z"
   },
   {
    "duration": 627,
    "start_time": "2021-07-09T17:30:37.940Z"
   },
   {
    "duration": 1251,
    "start_time": "2021-07-09T17:30:38.575Z"
   },
   {
    "duration": 20,
    "start_time": "2021-07-09T17:30:39.829Z"
   },
   {
    "duration": 29,
    "start_time": "2021-07-09T17:30:39.851Z"
   },
   {
    "duration": 17,
    "start_time": "2021-07-09T17:30:39.882Z"
   },
   {
    "duration": 25,
    "start_time": "2021-07-09T17:30:39.901Z"
   },
   {
    "duration": 138,
    "start_time": "2021-07-09T17:30:39.929Z"
   },
   {
    "duration": 8,
    "start_time": "2021-07-09T17:30:40.070Z"
   },
   {
    "duration": 183,
    "start_time": "2021-07-09T17:30:40.080Z"
   },
   {
    "duration": 443,
    "start_time": "2021-07-09T17:30:40.265Z"
   },
   {
    "duration": 92,
    "start_time": "2021-07-09T17:30:40.710Z"
   },
   {
    "duration": 605,
    "start_time": "2021-07-09T17:30:40.804Z"
   },
   {
    "duration": 632,
    "start_time": "2021-07-09T17:30:40.780Z"
   },
   {
    "duration": 631,
    "start_time": "2021-07-09T17:30:40.783Z"
   },
   {
    "duration": 629,
    "start_time": "2021-07-09T17:30:40.786Z"
   },
   {
    "duration": 628,
    "start_time": "2021-07-09T17:30:40.789Z"
   },
   {
    "duration": 626,
    "start_time": "2021-07-09T17:30:40.792Z"
   },
   {
    "duration": 624,
    "start_time": "2021-07-09T17:30:40.796Z"
   },
   {
    "duration": 622,
    "start_time": "2021-07-09T17:30:40.799Z"
   },
   {
    "duration": 621,
    "start_time": "2021-07-09T17:30:40.801Z"
   },
   {
    "duration": 619,
    "start_time": "2021-07-09T17:30:40.805Z"
   },
   {
    "duration": 618,
    "start_time": "2021-07-09T17:30:40.807Z"
   },
   {
    "duration": 616,
    "start_time": "2021-07-09T17:30:40.810Z"
   },
   {
    "duration": 528,
    "start_time": "2021-07-09T17:32:31.244Z"
   },
   {
    "duration": 373,
    "start_time": "2021-07-09T17:32:45.597Z"
   },
   {
    "duration": 5,
    "start_time": "2021-07-09T17:32:50.436Z"
   },
   {
    "duration": 1996,
    "start_time": "2021-07-09T17:33:08.295Z"
   },
   {
    "duration": 4,
    "start_time": "2021-07-09T17:33:10.294Z"
   },
   {
    "duration": 309,
    "start_time": "2021-07-09T17:33:10.302Z"
   },
   {
    "duration": 25,
    "start_time": "2021-07-09T17:33:10.614Z"
   },
   {
    "duration": 18,
    "start_time": "2021-07-09T17:33:10.641Z"
   },
   {
    "duration": 5,
    "start_time": "2021-07-09T17:33:10.662Z"
   },
   {
    "duration": 10,
    "start_time": "2021-07-09T17:33:10.669Z"
   },
   {
    "duration": 19,
    "start_time": "2021-07-09T17:33:10.681Z"
   },
   {
    "duration": 5,
    "start_time": "2021-07-09T17:33:10.703Z"
   },
   {
    "duration": 56,
    "start_time": "2021-07-09T17:33:10.711Z"
   },
   {
    "duration": 6,
    "start_time": "2021-07-09T17:33:10.770Z"
   },
   {
    "duration": 18,
    "start_time": "2021-07-09T17:33:10.778Z"
   },
   {
    "duration": 8,
    "start_time": "2021-07-09T17:33:10.798Z"
   },
   {
    "duration": 25,
    "start_time": "2021-07-09T17:33:10.808Z"
   },
   {
    "duration": 18,
    "start_time": "2021-07-09T17:33:10.867Z"
   },
   {
    "duration": 33,
    "start_time": "2021-07-09T17:33:10.888Z"
   },
   {
    "duration": 55,
    "start_time": "2021-07-09T17:33:10.923Z"
   },
   {
    "duration": 20,
    "start_time": "2021-07-09T17:33:10.980Z"
   },
   {
    "duration": 11,
    "start_time": "2021-07-09T17:33:11.002Z"
   },
   {
    "duration": 52,
    "start_time": "2021-07-09T17:33:11.015Z"
   },
   {
    "duration": 22,
    "start_time": "2021-07-09T17:33:11.070Z"
   },
   {
    "duration": 6,
    "start_time": "2021-07-09T17:33:11.094Z"
   },
   {
    "duration": 19,
    "start_time": "2021-07-09T17:33:11.103Z"
   },
   {
    "duration": 6,
    "start_time": "2021-07-09T17:33:11.125Z"
   },
   {
    "duration": 11,
    "start_time": "2021-07-09T17:33:11.168Z"
   },
   {
    "duration": 24,
    "start_time": "2021-07-09T17:33:11.182Z"
   },
   {
    "duration": 5,
    "start_time": "2021-07-09T17:33:11.213Z"
   },
   {
    "duration": 74,
    "start_time": "2021-07-09T17:33:11.222Z"
   },
   {
    "duration": 6,
    "start_time": "2021-07-09T17:33:11.298Z"
   },
   {
    "duration": 7,
    "start_time": "2021-07-09T17:33:11.306Z"
   },
   {
    "duration": 9,
    "start_time": "2021-07-09T17:33:11.315Z"
   },
   {
    "duration": 144,
    "start_time": "2021-07-09T17:33:11.327Z"
   },
   {
    "duration": 4,
    "start_time": "2021-07-09T17:33:11.474Z"
   },
   {
    "duration": 8,
    "start_time": "2021-07-09T17:33:11.481Z"
   },
   {
    "duration": 3438,
    "start_time": "2021-07-09T17:33:11.491Z"
   },
   {
    "duration": 10,
    "start_time": "2021-07-09T17:33:14.932Z"
   },
   {
    "duration": 4,
    "start_time": "2021-07-09T17:33:14.945Z"
   },
   {
    "duration": 6,
    "start_time": "2021-07-09T17:33:14.968Z"
   },
   {
    "duration": 427,
    "start_time": "2021-07-09T17:33:14.976Z"
   },
   {
    "duration": 528,
    "start_time": "2021-07-09T17:33:15.405Z"
   },
   {
    "duration": 452,
    "start_time": "2021-07-09T17:33:15.936Z"
   },
   {
    "duration": 468,
    "start_time": "2021-07-09T17:33:16.390Z"
   },
   {
    "duration": 443,
    "start_time": "2021-07-09T17:33:16.861Z"
   },
   {
    "duration": 560,
    "start_time": "2021-07-09T17:33:17.307Z"
   },
   {
    "duration": 416,
    "start_time": "2021-07-09T17:33:17.869Z"
   },
   {
    "duration": 3,
    "start_time": "2021-07-09T17:33:18.288Z"
   },
   {
    "duration": 347,
    "start_time": "2021-07-09T17:33:18.293Z"
   },
   {
    "duration": 435,
    "start_time": "2021-07-09T17:33:18.643Z"
   },
   {
    "duration": 404,
    "start_time": "2021-07-09T17:33:19.081Z"
   },
   {
    "duration": 315,
    "start_time": "2021-07-09T17:33:19.487Z"
   },
   {
    "duration": 399,
    "start_time": "2021-07-09T17:33:19.804Z"
   },
   {
    "duration": 305,
    "start_time": "2021-07-09T17:33:20.207Z"
   },
   {
    "duration": 315,
    "start_time": "2021-07-09T17:33:20.515Z"
   },
   {
    "duration": 38,
    "start_time": "2021-07-09T17:33:20.833Z"
   },
   {
    "duration": 24,
    "start_time": "2021-07-09T17:33:20.874Z"
   },
   {
    "duration": 5,
    "start_time": "2021-07-09T17:33:20.900Z"
   },
   {
    "duration": 59,
    "start_time": "2021-07-09T17:33:20.908Z"
   },
   {
    "duration": 30,
    "start_time": "2021-07-09T17:33:20.970Z"
   },
   {
    "duration": 5,
    "start_time": "2021-07-09T17:33:21.003Z"
   },
   {
    "duration": 23,
    "start_time": "2021-07-09T17:33:21.010Z"
   },
   {
    "duration": 40,
    "start_time": "2021-07-09T17:33:21.036Z"
   },
   {
    "duration": 17,
    "start_time": "2021-07-09T17:33:21.079Z"
   },
   {
    "duration": 94,
    "start_time": "2021-07-09T17:33:21.098Z"
   },
   {
    "duration": 8,
    "start_time": "2021-07-09T17:33:21.195Z"
   },
   {
    "duration": 351,
    "start_time": "2021-07-09T17:33:21.206Z"
   },
   {
    "duration": 1000,
    "start_time": "2021-07-09T17:33:21.567Z"
   },
   {
    "duration": 622,
    "start_time": "2021-07-09T17:33:22.569Z"
   },
   {
    "duration": 1330,
    "start_time": "2021-07-09T17:33:23.193Z"
   },
   {
    "duration": 19,
    "start_time": "2021-07-09T17:33:24.525Z"
   },
   {
    "duration": 31,
    "start_time": "2021-07-09T17:33:24.547Z"
   },
   {
    "duration": 18,
    "start_time": "2021-07-09T17:33:24.580Z"
   },
   {
    "duration": 20,
    "start_time": "2021-07-09T17:33:24.600Z"
   },
   {
    "duration": 102,
    "start_time": "2021-07-09T17:33:24.623Z"
   },
   {
    "duration": 7,
    "start_time": "2021-07-09T17:33:24.727Z"
   },
   {
    "duration": 60,
    "start_time": "2021-07-09T17:33:24.737Z"
   },
   {
    "duration": 361,
    "start_time": "2021-07-09T17:33:24.800Z"
   },
   {
    "duration": 77,
    "start_time": "2021-07-09T17:33:25.163Z"
   },
   {
    "duration": 526,
    "start_time": "2021-07-09T17:33:25.243Z"
   },
   {
    "duration": 401,
    "start_time": "2021-07-09T17:33:25.772Z"
   },
   {
    "duration": 7,
    "start_time": "2021-07-09T17:33:26.176Z"
   },
   {
    "duration": 17,
    "start_time": "2021-07-09T17:33:26.192Z"
   },
   {
    "duration": 76,
    "start_time": "2021-07-09T17:33:26.212Z"
   },
   {
    "duration": 12,
    "start_time": "2021-07-09T17:33:26.291Z"
   },
   {
    "duration": 10,
    "start_time": "2021-07-09T17:33:26.305Z"
   },
   {
    "duration": 8,
    "start_time": "2021-07-09T17:33:26.317Z"
   },
   {
    "duration": 44,
    "start_time": "2021-07-09T17:33:26.328Z"
   },
   {
    "duration": 11,
    "start_time": "2021-07-09T17:33:26.374Z"
   },
   {
    "duration": 3,
    "start_time": "2021-07-09T17:33:26.387Z"
   },
   {
    "duration": 6,
    "start_time": "2021-07-09T17:33:26.393Z"
   },
   {
    "duration": 2041,
    "start_time": "2021-07-09T18:19:48.685Z"
   },
   {
    "duration": 4,
    "start_time": "2021-07-09T18:19:50.729Z"
   },
   {
    "duration": 439,
    "start_time": "2021-07-09T18:19:50.736Z"
   },
   {
    "duration": 34,
    "start_time": "2021-07-09T18:19:51.178Z"
   },
   {
    "duration": 17,
    "start_time": "2021-07-09T18:19:51.215Z"
   },
   {
    "duration": 34,
    "start_time": "2021-07-09T18:19:51.234Z"
   },
   {
    "duration": 9,
    "start_time": "2021-07-09T18:19:51.270Z"
   },
   {
    "duration": 14,
    "start_time": "2021-07-09T18:19:51.283Z"
   },
   {
    "duration": 9,
    "start_time": "2021-07-09T18:19:51.300Z"
   },
   {
    "duration": 59,
    "start_time": "2021-07-09T18:19:51.312Z"
   },
   {
    "duration": 8,
    "start_time": "2021-07-09T18:19:51.374Z"
   },
   {
    "duration": 23,
    "start_time": "2021-07-09T18:19:51.385Z"
   },
   {
    "duration": 11,
    "start_time": "2021-07-09T18:19:51.411Z"
   },
   {
    "duration": 68,
    "start_time": "2021-07-09T18:19:51.425Z"
   },
   {
    "duration": 20,
    "start_time": "2021-07-09T18:19:51.496Z"
   },
   {
    "duration": 67,
    "start_time": "2021-07-09T18:19:51.518Z"
   },
   {
    "duration": 22,
    "start_time": "2021-07-09T18:19:51.587Z"
   },
   {
    "duration": 22,
    "start_time": "2021-07-09T18:19:51.611Z"
   },
   {
    "duration": 43,
    "start_time": "2021-07-09T18:19:51.636Z"
   },
   {
    "duration": 30,
    "start_time": "2021-07-09T18:19:51.682Z"
   },
   {
    "duration": 54,
    "start_time": "2021-07-09T18:19:51.715Z"
   },
   {
    "duration": 8,
    "start_time": "2021-07-09T18:19:51.772Z"
   },
   {
    "duration": 19,
    "start_time": "2021-07-09T18:19:51.791Z"
   },
   {
    "duration": 6,
    "start_time": "2021-07-09T18:19:51.814Z"
   },
   {
    "duration": 52,
    "start_time": "2021-07-09T18:19:51.823Z"
   },
   {
    "duration": 23,
    "start_time": "2021-07-09T18:19:51.877Z"
   },
   {
    "duration": 6,
    "start_time": "2021-07-09T18:19:51.903Z"
   },
   {
    "duration": 74,
    "start_time": "2021-07-09T18:19:51.911Z"
   },
   {
    "duration": 7,
    "start_time": "2021-07-09T18:19:51.988Z"
   },
   {
    "duration": 17,
    "start_time": "2021-07-09T18:19:51.997Z"
   },
   {
    "duration": 15,
    "start_time": "2021-07-09T18:19:52.016Z"
   },
   {
    "duration": 136,
    "start_time": "2021-07-09T18:19:52.034Z"
   },
   {
    "duration": 10,
    "start_time": "2021-07-09T18:19:52.173Z"
   },
   {
    "duration": 10,
    "start_time": "2021-07-09T18:19:52.186Z"
   },
   {
    "duration": 10,
    "start_time": "2021-07-09T18:19:52.199Z"
   },
   {
    "duration": 1244,
    "start_time": "2021-07-09T18:19:52.212Z"
   },
   {
    "duration": 15,
    "start_time": "2021-07-09T18:19:53.458Z"
   },
   {
    "duration": 8,
    "start_time": "2021-07-09T18:19:53.476Z"
   },
   {
    "duration": 9,
    "start_time": "2021-07-09T18:19:53.486Z"
   },
   {
    "duration": 369,
    "start_time": "2021-07-09T18:19:53.498Z"
   },
   {
    "duration": 325,
    "start_time": "2021-07-09T18:19:53.869Z"
   },
   {
    "duration": 432,
    "start_time": "2021-07-09T18:19:54.197Z"
   },
   {
    "duration": 320,
    "start_time": "2021-07-09T18:19:54.631Z"
   },
   {
    "duration": 323,
    "start_time": "2021-07-09T18:19:54.954Z"
   },
   {
    "duration": 341,
    "start_time": "2021-07-09T18:19:55.280Z"
   },
   {
    "duration": 432,
    "start_time": "2021-07-09T18:19:55.623Z"
   },
   {
    "duration": 9,
    "start_time": "2021-07-09T18:19:56.058Z"
   },
   {
    "duration": 862,
    "start_time": "2021-07-09T18:19:56.069Z"
   },
   {
    "duration": 639,
    "start_time": "2021-07-09T18:19:56.296Z"
   },
   {
    "duration": 637,
    "start_time": "2021-07-09T18:19:56.299Z"
   },
   {
    "duration": 636,
    "start_time": "2021-07-09T18:19:56.302Z"
   },
   {
    "duration": 634,
    "start_time": "2021-07-09T18:19:56.305Z"
   },
   {
    "duration": 634,
    "start_time": "2021-07-09T18:19:56.307Z"
   },
   {
    "duration": 632,
    "start_time": "2021-07-09T18:19:56.310Z"
   },
   {
    "duration": 631,
    "start_time": "2021-07-09T18:19:56.313Z"
   },
   {
    "duration": 627,
    "start_time": "2021-07-09T18:19:56.318Z"
   },
   {
    "duration": 625,
    "start_time": "2021-07-09T18:19:56.322Z"
   },
   {
    "duration": 624,
    "start_time": "2021-07-09T18:19:56.324Z"
   },
   {
    "duration": 623,
    "start_time": "2021-07-09T18:19:56.327Z"
   },
   {
    "duration": 615,
    "start_time": "2021-07-09T18:19:56.336Z"
   },
   {
    "duration": 612,
    "start_time": "2021-07-09T18:19:56.340Z"
   },
   {
    "duration": 611,
    "start_time": "2021-07-09T18:19:56.343Z"
   },
   {
    "duration": 608,
    "start_time": "2021-07-09T18:19:56.347Z"
   },
   {
    "duration": 607,
    "start_time": "2021-07-09T18:19:56.350Z"
   },
   {
    "duration": 606,
    "start_time": "2021-07-09T18:19:56.353Z"
   },
   {
    "duration": 604,
    "start_time": "2021-07-09T18:19:56.356Z"
   },
   {
    "duration": 603,
    "start_time": "2021-07-09T18:19:56.358Z"
   },
   {
    "duration": 602,
    "start_time": "2021-07-09T18:19:56.361Z"
   },
   {
    "duration": 600,
    "start_time": "2021-07-09T18:19:56.364Z"
   },
   {
    "duration": 599,
    "start_time": "2021-07-09T18:19:56.367Z"
   },
   {
    "duration": 598,
    "start_time": "2021-07-09T18:19:56.370Z"
   },
   {
    "duration": 597,
    "start_time": "2021-07-09T18:19:56.372Z"
   },
   {
    "duration": 595,
    "start_time": "2021-07-09T18:19:56.375Z"
   },
   {
    "duration": 594,
    "start_time": "2021-07-09T18:19:56.378Z"
   },
   {
    "duration": 593,
    "start_time": "2021-07-09T18:19:56.380Z"
   },
   {
    "duration": 592,
    "start_time": "2021-07-09T18:19:56.383Z"
   },
   {
    "duration": 589,
    "start_time": "2021-07-09T18:19:56.387Z"
   },
   {
    "duration": 589,
    "start_time": "2021-07-09T18:19:56.389Z"
   },
   {
    "duration": 586,
    "start_time": "2021-07-09T18:19:56.393Z"
   },
   {
    "duration": 585,
    "start_time": "2021-07-09T18:19:56.396Z"
   },
   {
    "duration": 582,
    "start_time": "2021-07-09T18:19:56.400Z"
   },
   {
    "duration": 514,
    "start_time": "2021-07-09T18:19:56.470Z"
   },
   {
    "duration": 512,
    "start_time": "2021-07-09T18:19:56.473Z"
   },
   {
    "duration": 510,
    "start_time": "2021-07-09T18:19:56.477Z"
   },
   {
    "duration": 503,
    "start_time": "2021-07-09T18:19:56.485Z"
   },
   {
    "duration": 502,
    "start_time": "2021-07-09T18:19:56.488Z"
   },
   {
    "duration": 501,
    "start_time": "2021-07-09T18:19:56.491Z"
   },
   {
    "duration": 499,
    "start_time": "2021-07-09T18:19:56.494Z"
   },
   {
    "duration": 498,
    "start_time": "2021-07-09T18:19:56.497Z"
   },
   {
    "duration": 489,
    "start_time": "2021-07-09T18:19:56.508Z"
   },
   {
    "duration": 1937,
    "start_time": "2021-07-09T18:21:11.865Z"
   },
   {
    "duration": 3,
    "start_time": "2021-07-09T18:21:13.805Z"
   },
   {
    "duration": 428,
    "start_time": "2021-07-09T18:21:13.811Z"
   },
   {
    "duration": 23,
    "start_time": "2021-07-09T18:21:14.242Z"
   },
   {
    "duration": 20,
    "start_time": "2021-07-09T18:21:14.267Z"
   },
   {
    "duration": 5,
    "start_time": "2021-07-09T18:21:14.290Z"
   },
   {
    "duration": 11,
    "start_time": "2021-07-09T18:21:14.297Z"
   },
   {
    "duration": 12,
    "start_time": "2021-07-09T18:21:14.311Z"
   },
   {
    "duration": 15,
    "start_time": "2021-07-09T18:21:14.326Z"
   },
   {
    "duration": 26,
    "start_time": "2021-07-09T18:21:14.368Z"
   },
   {
    "duration": 6,
    "start_time": "2021-07-09T18:21:14.397Z"
   },
   {
    "duration": 20,
    "start_time": "2021-07-09T18:21:14.405Z"
   },
   {
    "duration": 8,
    "start_time": "2021-07-09T18:21:14.427Z"
   },
   {
    "duration": 21,
    "start_time": "2021-07-09T18:21:14.467Z"
   },
   {
    "duration": 18,
    "start_time": "2021-07-09T18:21:14.491Z"
   },
   {
    "duration": 64,
    "start_time": "2021-07-09T18:21:14.511Z"
   },
   {
    "duration": 22,
    "start_time": "2021-07-09T18:21:14.578Z"
   },
   {
    "duration": 18,
    "start_time": "2021-07-09T18:21:14.602Z"
   },
   {
    "duration": 12,
    "start_time": "2021-07-09T18:21:14.623Z"
   },
   {
    "duration": 21,
    "start_time": "2021-07-09T18:21:14.667Z"
   },
   {
    "duration": 21,
    "start_time": "2021-07-09T18:21:14.691Z"
   },
   {
    "duration": 10,
    "start_time": "2021-07-09T18:21:14.714Z"
   },
   {
    "duration": 48,
    "start_time": "2021-07-09T18:21:14.730Z"
   },
   {
    "duration": 6,
    "start_time": "2021-07-09T18:21:14.782Z"
   },
   {
    "duration": 15,
    "start_time": "2021-07-09T18:21:14.790Z"
   },
   {
    "duration": 24,
    "start_time": "2021-07-09T18:21:14.808Z"
   },
   {
    "duration": 34,
    "start_time": "2021-07-09T18:21:14.835Z"
   },
   {
    "duration": 39,
    "start_time": "2021-07-09T18:21:14.871Z"
   },
   {
    "duration": 7,
    "start_time": "2021-07-09T18:21:14.912Z"
   },
   {
    "duration": 8,
    "start_time": "2021-07-09T18:21:14.921Z"
   },
   {
    "duration": 5,
    "start_time": "2021-07-09T18:21:14.967Z"
   },
   {
    "duration": 128,
    "start_time": "2021-07-09T18:21:14.975Z"
   },
   {
    "duration": 4,
    "start_time": "2021-07-09T18:21:15.106Z"
   },
   {
    "duration": 14,
    "start_time": "2021-07-09T18:21:15.112Z"
   },
   {
    "duration": 9,
    "start_time": "2021-07-09T18:21:15.129Z"
   },
   {
    "duration": 3279,
    "start_time": "2021-07-09T18:21:15.141Z"
   },
   {
    "duration": 10,
    "start_time": "2021-07-09T18:21:18.423Z"
   },
   {
    "duration": 13,
    "start_time": "2021-07-09T18:21:18.436Z"
   },
   {
    "duration": 19,
    "start_time": "2021-07-09T18:21:18.452Z"
   },
   {
    "duration": 412,
    "start_time": "2021-07-09T18:21:18.474Z"
   },
   {
    "duration": 500,
    "start_time": "2021-07-09T18:21:18.889Z"
   },
   {
    "duration": 430,
    "start_time": "2021-07-09T18:21:19.392Z"
   },
   {
    "duration": 408,
    "start_time": "2021-07-09T18:21:19.824Z"
   },
   {
    "duration": 420,
    "start_time": "2021-07-09T18:21:20.234Z"
   },
   {
    "duration": 506,
    "start_time": "2021-07-09T18:21:20.657Z"
   },
   {
    "duration": 402,
    "start_time": "2021-07-09T18:21:21.167Z"
   },
   {
    "duration": 3,
    "start_time": "2021-07-09T18:21:21.572Z"
   },
   {
    "duration": 341,
    "start_time": "2021-07-09T18:21:21.577Z"
   },
   {
    "duration": 501,
    "start_time": "2021-07-09T18:21:21.921Z"
   },
   {
    "duration": 424,
    "start_time": "2021-07-09T18:21:22.424Z"
   },
   {
    "duration": 318,
    "start_time": "2021-07-09T18:21:22.851Z"
   },
   {
    "duration": 381,
    "start_time": "2021-07-09T18:21:23.172Z"
   },
   {
    "duration": 320,
    "start_time": "2021-07-09T18:21:23.555Z"
   },
   {
    "duration": 305,
    "start_time": "2021-07-09T18:21:23.878Z"
   },
   {
    "duration": 22,
    "start_time": "2021-07-09T18:21:24.185Z"
   },
   {
    "duration": 22,
    "start_time": "2021-07-09T18:21:24.209Z"
   },
   {
    "duration": 4,
    "start_time": "2021-07-09T18:21:24.233Z"
   },
   {
    "duration": 23,
    "start_time": "2021-07-09T18:21:24.268Z"
   },
   {
    "duration": 31,
    "start_time": "2021-07-09T18:21:24.294Z"
   },
   {
    "duration": 39,
    "start_time": "2021-07-09T18:21:24.328Z"
   },
   {
    "duration": 17,
    "start_time": "2021-07-09T18:21:24.371Z"
   },
   {
    "duration": 15,
    "start_time": "2021-07-09T18:21:24.391Z"
   },
   {
    "duration": 63,
    "start_time": "2021-07-09T18:21:24.409Z"
   },
   {
    "duration": 68,
    "start_time": "2021-07-09T18:21:24.474Z"
   },
   {
    "duration": 28,
    "start_time": "2021-07-09T18:21:24.545Z"
   },
   {
    "duration": 327,
    "start_time": "2021-07-09T18:21:24.576Z"
   },
   {
    "duration": 954,
    "start_time": "2021-07-09T18:21:24.905Z"
   },
   {
    "duration": 689,
    "start_time": "2021-07-09T18:21:25.867Z"
   },
   {
    "duration": 1274,
    "start_time": "2021-07-09T18:21:26.559Z"
   },
   {
    "duration": 17,
    "start_time": "2021-07-09T18:21:27.836Z"
   },
   {
    "duration": 24,
    "start_time": "2021-07-09T18:21:27.855Z"
   },
   {
    "duration": 18,
    "start_time": "2021-07-09T18:21:27.882Z"
   },
   {
    "duration": 65,
    "start_time": "2021-07-09T18:21:27.903Z"
   },
   {
    "duration": 75,
    "start_time": "2021-07-09T18:21:27.970Z"
   },
   {
    "duration": 24,
    "start_time": "2021-07-09T18:21:28.047Z"
   },
   {
    "duration": 169,
    "start_time": "2021-07-09T18:21:28.074Z"
   },
   {
    "duration": 321,
    "start_time": "2021-07-09T18:21:28.246Z"
   },
   {
    "duration": 67,
    "start_time": "2021-07-09T18:21:28.569Z"
   },
   {
    "duration": 490,
    "start_time": "2021-07-09T18:21:28.638Z"
   },
   {
    "duration": 379,
    "start_time": "2021-07-09T18:21:29.131Z"
   },
   {
    "duration": 5,
    "start_time": "2021-07-09T18:21:29.513Z"
   },
   {
    "duration": 18,
    "start_time": "2021-07-09T18:21:29.521Z"
   },
   {
    "duration": 71,
    "start_time": "2021-07-09T18:21:29.541Z"
   },
   {
    "duration": 11,
    "start_time": "2021-07-09T18:21:29.614Z"
   },
   {
    "duration": 9,
    "start_time": "2021-07-09T18:21:29.627Z"
   },
   {
    "duration": 31,
    "start_time": "2021-07-09T18:21:29.639Z"
   },
   {
    "duration": 13,
    "start_time": "2021-07-09T18:21:29.672Z"
   },
   {
    "duration": 13,
    "start_time": "2021-07-09T18:21:29.688Z"
   },
   {
    "duration": 3,
    "start_time": "2021-07-09T18:21:29.703Z"
   },
   {
    "duration": 7,
    "start_time": "2021-07-09T18:21:29.708Z"
   },
   {
    "duration": 1984,
    "start_time": "2021-07-09T18:47:55.439Z"
   },
   {
    "duration": 3,
    "start_time": "2021-07-09T18:47:57.426Z"
   },
   {
    "duration": 433,
    "start_time": "2021-07-09T18:47:57.431Z"
   },
   {
    "duration": 24,
    "start_time": "2021-07-09T18:47:57.866Z"
   },
   {
    "duration": 19,
    "start_time": "2021-07-09T18:47:57.892Z"
   },
   {
    "duration": 6,
    "start_time": "2021-07-09T18:47:57.913Z"
   },
   {
    "duration": 48,
    "start_time": "2021-07-09T18:47:57.922Z"
   },
   {
    "duration": 17,
    "start_time": "2021-07-09T18:47:57.973Z"
   },
   {
    "duration": 6,
    "start_time": "2021-07-09T18:47:57.994Z"
   },
   {
    "duration": 38,
    "start_time": "2021-07-09T18:47:58.003Z"
   },
   {
    "duration": 26,
    "start_time": "2021-07-09T18:47:58.044Z"
   },
   {
    "duration": 28,
    "start_time": "2021-07-09T18:47:58.073Z"
   },
   {
    "duration": 8,
    "start_time": "2021-07-09T18:47:58.104Z"
   },
   {
    "duration": 27,
    "start_time": "2021-07-09T18:47:58.115Z"
   },
   {
    "duration": 40,
    "start_time": "2021-07-09T18:47:58.145Z"
   },
   {
    "duration": 35,
    "start_time": "2021-07-09T18:47:58.187Z"
   },
   {
    "duration": 52,
    "start_time": "2021-07-09T18:47:58.225Z"
   },
   {
    "duration": 20,
    "start_time": "2021-07-09T18:47:58.280Z"
   },
   {
    "duration": 11,
    "start_time": "2021-07-09T18:47:58.302Z"
   },
   {
    "duration": 54,
    "start_time": "2021-07-09T18:47:58.315Z"
   },
   {
    "duration": 22,
    "start_time": "2021-07-09T18:47:58.372Z"
   },
   {
    "duration": 7,
    "start_time": "2021-07-09T18:47:58.397Z"
   },
   {
    "duration": 19,
    "start_time": "2021-07-09T18:47:58.406Z"
   },
   {
    "duration": 40,
    "start_time": "2021-07-09T18:47:58.428Z"
   },
   {
    "duration": 13,
    "start_time": "2021-07-09T18:47:58.471Z"
   },
   {
    "duration": 27,
    "start_time": "2021-07-09T18:47:58.487Z"
   },
   {
    "duration": 45,
    "start_time": "2021-07-09T18:47:58.522Z"
   },
   {
    "duration": 38,
    "start_time": "2021-07-09T18:47:58.572Z"
   },
   {
    "duration": 9,
    "start_time": "2021-07-09T18:47:58.613Z"
   },
   {
    "duration": 7,
    "start_time": "2021-07-09T18:47:58.624Z"
   },
   {
    "duration": 13,
    "start_time": "2021-07-09T18:47:58.668Z"
   },
   {
    "duration": 140,
    "start_time": "2021-07-09T18:47:58.683Z"
   },
   {
    "duration": 5,
    "start_time": "2021-07-09T18:47:58.826Z"
   },
   {
    "duration": 36,
    "start_time": "2021-07-09T18:47:58.834Z"
   },
   {
    "duration": 7,
    "start_time": "2021-07-09T18:47:58.872Z"
   },
   {
    "duration": 3171,
    "start_time": "2021-07-09T18:47:58.882Z"
   },
   {
    "duration": 18,
    "start_time": "2021-07-09T18:48:02.056Z"
   },
   {
    "duration": 16,
    "start_time": "2021-07-09T18:48:02.076Z"
   },
   {
    "duration": 13,
    "start_time": "2021-07-09T18:48:02.095Z"
   },
   {
    "duration": 405,
    "start_time": "2021-07-09T18:48:02.110Z"
   },
   {
    "duration": 391,
    "start_time": "2021-07-09T18:48:02.517Z"
   },
   {
    "duration": 409,
    "start_time": "2021-07-09T18:48:02.910Z"
   },
   {
    "duration": 397,
    "start_time": "2021-07-09T18:48:03.321Z"
   },
   {
    "duration": 421,
    "start_time": "2021-07-09T18:48:03.720Z"
   },
   {
    "duration": 527,
    "start_time": "2021-07-09T18:48:04.143Z"
   },
   {
    "duration": 398,
    "start_time": "2021-07-09T18:48:04.672Z"
   },
   {
    "duration": 3,
    "start_time": "2021-07-09T18:48:05.073Z"
   },
   {
    "duration": 338,
    "start_time": "2021-07-09T18:48:05.078Z"
   },
   {
    "duration": 403,
    "start_time": "2021-07-09T18:48:05.419Z"
   },
   {
    "duration": 382,
    "start_time": "2021-07-09T18:48:05.824Z"
   },
   {
    "duration": 329,
    "start_time": "2021-07-09T18:48:06.209Z"
   },
   {
    "duration": 396,
    "start_time": "2021-07-09T18:48:06.541Z"
   },
   {
    "duration": 316,
    "start_time": "2021-07-09T18:48:06.940Z"
   },
   {
    "duration": 393,
    "start_time": "2021-07-09T18:48:07.258Z"
   },
   {
    "duration": 24,
    "start_time": "2021-07-09T18:48:07.654Z"
   },
   {
    "duration": 24,
    "start_time": "2021-07-09T18:48:07.681Z"
   },
   {
    "duration": 5,
    "start_time": "2021-07-09T18:48:07.708Z"
   },
   {
    "duration": 64,
    "start_time": "2021-07-09T18:48:07.716Z"
   },
   {
    "duration": 33,
    "start_time": "2021-07-09T18:48:07.783Z"
   },
   {
    "duration": 5,
    "start_time": "2021-07-09T18:48:07.819Z"
   },
   {
    "duration": 56,
    "start_time": "2021-07-09T18:48:07.826Z"
   },
   {
    "duration": 16,
    "start_time": "2021-07-09T18:48:07.885Z"
   },
   {
    "duration": 19,
    "start_time": "2021-07-09T18:48:07.904Z"
   },
   {
    "duration": 102,
    "start_time": "2021-07-09T18:48:07.925Z"
   },
   {
    "duration": 8,
    "start_time": "2021-07-09T18:48:08.030Z"
   },
   {
    "duration": 342,
    "start_time": "2021-07-09T18:48:08.042Z"
   },
   {
    "duration": 1009,
    "start_time": "2021-07-09T18:48:08.386Z"
   },
   {
    "duration": 589,
    "start_time": "2021-07-09T18:48:09.397Z"
   },
   {
    "duration": 1278,
    "start_time": "2021-07-09T18:48:09.989Z"
   },
   {
    "duration": 22,
    "start_time": "2021-07-09T18:48:11.269Z"
   },
   {
    "duration": 16,
    "start_time": "2021-07-09T18:48:11.294Z"
   },
   {
    "duration": 59,
    "start_time": "2021-07-09T18:48:11.313Z"
   },
   {
    "duration": 30,
    "start_time": "2021-07-09T18:48:11.375Z"
   },
   {
    "duration": 152,
    "start_time": "2021-07-09T18:48:11.409Z"
   },
   {
    "duration": 10,
    "start_time": "2021-07-09T18:48:11.564Z"
   },
   {
    "duration": 46,
    "start_time": "2021-07-09T18:48:11.578Z"
   },
   {
    "duration": 335,
    "start_time": "2021-07-09T18:48:11.626Z"
   },
   {
    "duration": 128,
    "start_time": "2021-07-09T18:48:11.968Z"
   },
   {
    "duration": 772,
    "start_time": "2021-07-09T18:48:12.099Z"
   },
   {
    "duration": 517,
    "start_time": "2021-07-09T18:48:12.874Z"
   },
   {
    "duration": 5,
    "start_time": "2021-07-09T18:48:13.399Z"
   },
   {
    "duration": 19,
    "start_time": "2021-07-09T18:48:13.407Z"
   },
   {
    "duration": 56,
    "start_time": "2021-07-09T18:48:13.428Z"
   },
   {
    "duration": 11,
    "start_time": "2021-07-09T18:48:13.487Z"
   },
   {
    "duration": 10,
    "start_time": "2021-07-09T18:48:13.501Z"
   },
   {
    "duration": 8,
    "start_time": "2021-07-09T18:48:13.514Z"
   },
   {
    "duration": 44,
    "start_time": "2021-07-09T18:48:13.524Z"
   },
   {
    "duration": 11,
    "start_time": "2021-07-09T18:48:13.571Z"
   },
   {
    "duration": 4,
    "start_time": "2021-07-09T18:48:13.585Z"
   },
   {
    "duration": 6,
    "start_time": "2021-07-09T18:48:13.592Z"
   },
   {
    "duration": 2034,
    "start_time": "2021-07-09T19:01:31.566Z"
   },
   {
    "duration": 3,
    "start_time": "2021-07-09T19:01:33.603Z"
   },
   {
    "duration": 444,
    "start_time": "2021-07-09T19:01:33.610Z"
   },
   {
    "duration": 23,
    "start_time": "2021-07-09T19:01:34.056Z"
   },
   {
    "duration": 17,
    "start_time": "2021-07-09T19:01:34.081Z"
   },
   {
    "duration": 6,
    "start_time": "2021-07-09T19:01:34.100Z"
   },
   {
    "duration": 8,
    "start_time": "2021-07-09T19:01:34.109Z"
   },
   {
    "duration": 56,
    "start_time": "2021-07-09T19:01:34.121Z"
   },
   {
    "duration": 15,
    "start_time": "2021-07-09T19:01:34.180Z"
   },
   {
    "duration": 27,
    "start_time": "2021-07-09T19:01:34.198Z"
   },
   {
    "duration": 43,
    "start_time": "2021-07-09T19:01:34.227Z"
   },
   {
    "duration": 16,
    "start_time": "2021-07-09T19:01:34.272Z"
   },
   {
    "duration": 7,
    "start_time": "2021-07-09T19:01:34.290Z"
   },
   {
    "duration": 77,
    "start_time": "2021-07-09T19:01:34.300Z"
   },
   {
    "duration": 17,
    "start_time": "2021-07-09T19:01:34.380Z"
   },
   {
    "duration": 33,
    "start_time": "2021-07-09T19:01:34.400Z"
   },
   {
    "duration": 34,
    "start_time": "2021-07-09T19:01:34.436Z"
   },
   {
    "duration": 18,
    "start_time": "2021-07-09T19:01:34.472Z"
   },
   {
    "duration": 10,
    "start_time": "2021-07-09T19:01:34.493Z"
   },
   {
    "duration": 19,
    "start_time": "2021-07-09T19:01:34.506Z"
   },
   {
    "duration": 21,
    "start_time": "2021-07-09T19:01:34.528Z"
   },
   {
    "duration": 19,
    "start_time": "2021-07-09T19:01:34.552Z"
   },
   {
    "duration": 18,
    "start_time": "2021-07-09T19:01:34.577Z"
   },
   {
    "duration": 6,
    "start_time": "2021-07-09T19:01:34.598Z"
   },
   {
    "duration": 13,
    "start_time": "2021-07-09T19:01:34.607Z"
   },
   {
    "duration": 24,
    "start_time": "2021-07-09T19:01:34.622Z"
   },
   {
    "duration": 18,
    "start_time": "2021-07-09T19:01:34.649Z"
   },
   {
    "duration": 37,
    "start_time": "2021-07-09T19:01:34.669Z"
   },
   {
    "duration": 7,
    "start_time": "2021-07-09T19:01:34.708Z"
   },
   {
    "duration": 6,
    "start_time": "2021-07-09T19:01:34.717Z"
   },
   {
    "duration": 9,
    "start_time": "2021-07-09T19:01:34.726Z"
   },
   {
    "duration": 120,
    "start_time": "2021-07-09T19:01:34.737Z"
   },
   {
    "duration": 10,
    "start_time": "2021-07-09T19:01:34.859Z"
   },
   {
    "duration": 15,
    "start_time": "2021-07-09T19:01:34.871Z"
   },
   {
    "duration": 7,
    "start_time": "2021-07-09T19:01:34.889Z"
   },
   {
    "duration": 3630,
    "start_time": "2021-07-09T19:01:34.898Z"
   },
   {
    "duration": 11,
    "start_time": "2021-07-09T19:01:38.531Z"
   },
   {
    "duration": 23,
    "start_time": "2021-07-09T19:01:38.544Z"
   },
   {
    "duration": 7,
    "start_time": "2021-07-09T19:01:38.570Z"
   },
   {
    "duration": 406,
    "start_time": "2021-07-09T19:01:38.579Z"
   },
   {
    "duration": 403,
    "start_time": "2021-07-09T19:01:38.987Z"
   },
   {
    "duration": 423,
    "start_time": "2021-07-09T19:01:39.392Z"
   },
   {
    "duration": 399,
    "start_time": "2021-07-09T19:01:39.817Z"
   },
   {
    "duration": 422,
    "start_time": "2021-07-09T19:01:40.218Z"
   },
   {
    "duration": 506,
    "start_time": "2021-07-09T19:01:40.643Z"
   },
   {
    "duration": 396,
    "start_time": "2021-07-09T19:01:41.151Z"
   },
   {
    "duration": 3,
    "start_time": "2021-07-09T19:01:41.550Z"
   },
   {
    "duration": 332,
    "start_time": "2021-07-09T19:01:41.567Z"
   },
   {
    "duration": 510,
    "start_time": "2021-07-09T19:01:41.901Z"
   },
   {
    "duration": 377,
    "start_time": "2021-07-09T19:01:42.413Z"
   },
   {
    "duration": 320,
    "start_time": "2021-07-09T19:01:42.793Z"
   },
   {
    "duration": 377,
    "start_time": "2021-07-09T19:01:43.115Z"
   },
   {
    "duration": 316,
    "start_time": "2021-07-09T19:01:43.496Z"
   },
   {
    "duration": 299,
    "start_time": "2021-07-09T19:01:43.814Z"
   },
   {
    "duration": 21,
    "start_time": "2021-07-09T19:01:44.115Z"
   },
   {
    "duration": 36,
    "start_time": "2021-07-09T19:01:44.138Z"
   },
   {
    "duration": 3,
    "start_time": "2021-07-09T19:01:44.176Z"
   },
   {
    "duration": 24,
    "start_time": "2021-07-09T19:01:44.181Z"
   },
   {
    "duration": 67,
    "start_time": "2021-07-09T19:01:44.207Z"
   },
   {
    "duration": 4,
    "start_time": "2021-07-09T19:01:44.277Z"
   },
   {
    "duration": 25,
    "start_time": "2021-07-09T19:01:44.283Z"
   },
   {
    "duration": 13,
    "start_time": "2021-07-09T19:01:44.310Z"
   },
   {
    "duration": 43,
    "start_time": "2021-07-09T19:01:44.326Z"
   },
   {
    "duration": 76,
    "start_time": "2021-07-09T19:01:44.371Z"
   },
   {
    "duration": 8,
    "start_time": "2021-07-09T19:01:44.468Z"
   },
   {
    "duration": 348,
    "start_time": "2021-07-09T19:01:44.478Z"
   },
   {
    "duration": 934,
    "start_time": "2021-07-09T19:01:44.828Z"
   },
   {
    "duration": 590,
    "start_time": "2021-07-09T19:01:45.773Z"
   },
   {
    "duration": 1211,
    "start_time": "2021-07-09T19:01:46.368Z"
   },
   {
    "duration": 20,
    "start_time": "2021-07-09T19:01:47.582Z"
   },
   {
    "duration": 31,
    "start_time": "2021-07-09T19:01:47.604Z"
   },
   {
    "duration": 32,
    "start_time": "2021-07-09T19:01:47.638Z"
   },
   {
    "duration": 31,
    "start_time": "2021-07-09T19:01:47.673Z"
   },
   {
    "duration": 100,
    "start_time": "2021-07-09T19:01:47.707Z"
   },
   {
    "duration": 8,
    "start_time": "2021-07-09T19:01:47.809Z"
   },
   {
    "duration": 179,
    "start_time": "2021-07-09T19:01:47.819Z"
   },
   {
    "duration": 314,
    "start_time": "2021-07-09T19:01:48.000Z"
   },
   {
    "duration": 78,
    "start_time": "2021-07-09T19:01:48.316Z"
   },
   {
    "duration": 450,
    "start_time": "2021-07-09T19:01:48.397Z"
   },
   {
    "duration": 406,
    "start_time": "2021-07-09T19:01:48.849Z"
   },
   {
    "duration": 12,
    "start_time": "2021-07-09T19:01:49.258Z"
   },
   {
    "duration": 21,
    "start_time": "2021-07-09T19:01:49.272Z"
   },
   {
    "duration": 27,
    "start_time": "2021-07-09T19:01:49.296Z"
   },
   {
    "duration": 45,
    "start_time": "2021-07-09T19:01:49.325Z"
   },
   {
    "duration": 16,
    "start_time": "2021-07-09T19:01:49.372Z"
   },
   {
    "duration": 10,
    "start_time": "2021-07-09T19:01:49.390Z"
   },
   {
    "duration": 13,
    "start_time": "2021-07-09T19:01:49.402Z"
   },
   {
    "duration": 12,
    "start_time": "2021-07-09T19:01:49.417Z"
   },
   {
    "duration": 35,
    "start_time": "2021-07-09T19:01:49.432Z"
   },
   {
    "duration": 6,
    "start_time": "2021-07-09T19:01:49.470Z"
   },
   {
    "duration": 1624,
    "start_time": "2021-07-10T09:54:35.457Z"
   },
   {
    "duration": 4,
    "start_time": "2021-07-10T09:54:37.084Z"
   },
   {
    "duration": 307,
    "start_time": "2021-07-10T09:54:37.092Z"
   },
   {
    "duration": 24,
    "start_time": "2021-07-10T09:54:37.402Z"
   },
   {
    "duration": 20,
    "start_time": "2021-07-10T09:54:37.429Z"
   },
   {
    "duration": 5,
    "start_time": "2021-07-10T09:54:37.452Z"
   },
   {
    "duration": 9,
    "start_time": "2021-07-10T09:54:37.468Z"
   },
   {
    "duration": 12,
    "start_time": "2021-07-10T09:54:37.480Z"
   },
   {
    "duration": 5,
    "start_time": "2021-07-10T09:54:37.495Z"
   },
   {
    "duration": 27,
    "start_time": "2021-07-10T09:54:37.502Z"
   },
   {
    "duration": 71,
    "start_time": "2021-07-10T09:54:37.531Z"
   },
   {
    "duration": 16,
    "start_time": "2021-07-10T09:54:37.604Z"
   },
   {
    "duration": 8,
    "start_time": "2021-07-10T09:54:37.623Z"
   },
   {
    "duration": 31,
    "start_time": "2021-07-10T09:54:37.633Z"
   },
   {
    "duration": 22,
    "start_time": "2021-07-10T09:54:37.667Z"
   },
   {
    "duration": 40,
    "start_time": "2021-07-10T09:54:37.692Z"
   },
   {
    "duration": 44,
    "start_time": "2021-07-10T09:54:37.734Z"
   },
   {
    "duration": 20,
    "start_time": "2021-07-10T09:54:37.781Z"
   },
   {
    "duration": 11,
    "start_time": "2021-07-10T09:54:37.804Z"
   },
   {
    "duration": 54,
    "start_time": "2021-07-10T09:54:37.817Z"
   },
   {
    "duration": 22,
    "start_time": "2021-07-10T09:54:37.873Z"
   },
   {
    "duration": 6,
    "start_time": "2021-07-10T09:54:37.898Z"
   },
   {
    "duration": 17,
    "start_time": "2021-07-10T09:54:37.910Z"
   },
   {
    "duration": 39,
    "start_time": "2021-07-10T09:54:37.931Z"
   },
   {
    "duration": 10,
    "start_time": "2021-07-10T09:54:37.973Z"
   },
   {
    "duration": 23,
    "start_time": "2021-07-10T09:54:37.986Z"
   },
   {
    "duration": 5,
    "start_time": "2021-07-10T09:54:38.011Z"
   },
   {
    "duration": 85,
    "start_time": "2021-07-10T09:54:38.018Z"
   },
   {
    "duration": 5,
    "start_time": "2021-07-10T09:54:38.105Z"
   },
   {
    "duration": 8,
    "start_time": "2021-07-10T09:54:38.112Z"
   },
   {
    "duration": 20,
    "start_time": "2021-07-10T09:54:38.122Z"
   },
   {
    "duration": 145,
    "start_time": "2021-07-10T09:54:38.145Z"
   },
   {
    "duration": 5,
    "start_time": "2021-07-10T09:54:38.293Z"
   },
   {
    "duration": 14,
    "start_time": "2021-07-10T09:54:38.300Z"
   },
   {
    "duration": 5,
    "start_time": "2021-07-10T09:54:38.317Z"
   },
   {
    "duration": 3195,
    "start_time": "2021-07-10T09:54:38.324Z"
   },
   {
    "duration": 11,
    "start_time": "2021-07-10T09:54:41.521Z"
   },
   {
    "duration": 4,
    "start_time": "2021-07-10T09:54:41.534Z"
   },
   {
    "duration": 27,
    "start_time": "2021-07-10T09:54:41.540Z"
   },
   {
    "duration": 411,
    "start_time": "2021-07-10T09:54:41.570Z"
   },
   {
    "duration": 390,
    "start_time": "2021-07-10T09:54:41.983Z"
   },
   {
    "duration": 416,
    "start_time": "2021-07-10T09:54:42.375Z"
   },
   {
    "duration": 395,
    "start_time": "2021-07-10T09:54:42.794Z"
   },
   {
    "duration": 430,
    "start_time": "2021-07-10T09:54:43.191Z"
   },
   {
    "duration": 596,
    "start_time": "2021-07-10T09:54:43.623Z"
   },
   {
    "duration": 414,
    "start_time": "2021-07-10T09:54:44.221Z"
   },
   {
    "duration": 3,
    "start_time": "2021-07-10T09:54:44.638Z"
   },
   {
    "duration": 352,
    "start_time": "2021-07-10T09:54:44.644Z"
   },
   {
    "duration": 394,
    "start_time": "2021-07-10T09:54:44.999Z"
   },
   {
    "duration": 381,
    "start_time": "2021-07-10T09:54:45.396Z"
   },
   {
    "duration": 321,
    "start_time": "2021-07-10T09:54:45.780Z"
   },
   {
    "duration": 407,
    "start_time": "2021-07-10T09:54:46.104Z"
   },
   {
    "duration": 330,
    "start_time": "2021-07-10T09:54:46.513Z"
   },
   {
    "duration": 301,
    "start_time": "2021-07-10T09:54:46.846Z"
   },
   {
    "duration": 30,
    "start_time": "2021-07-10T09:54:47.149Z"
   },
   {
    "duration": 19,
    "start_time": "2021-07-10T09:54:47.181Z"
   },
   {
    "duration": 4,
    "start_time": "2021-07-10T09:54:47.202Z"
   },
   {
    "duration": 27,
    "start_time": "2021-07-10T09:54:47.208Z"
   },
   {
    "duration": 61,
    "start_time": "2021-07-10T09:54:47.237Z"
   },
   {
    "duration": 5,
    "start_time": "2021-07-10T09:54:47.300Z"
   },
   {
    "duration": 20,
    "start_time": "2021-07-10T09:54:47.308Z"
   },
   {
    "duration": 47,
    "start_time": "2021-07-10T09:54:47.331Z"
   },
   {
    "duration": 17,
    "start_time": "2021-07-10T09:54:47.380Z"
   },
   {
    "duration": 104,
    "start_time": "2021-07-10T09:54:47.400Z"
   },
   {
    "duration": 7,
    "start_time": "2021-07-10T09:54:47.507Z"
   },
   {
    "duration": 359,
    "start_time": "2021-07-10T09:54:47.517Z"
   },
   {
    "duration": 957,
    "start_time": "2021-07-10T09:54:47.878Z"
   },
   {
    "duration": 594,
    "start_time": "2021-07-10T09:54:48.844Z"
   },
   {
    "duration": 1330,
    "start_time": "2021-07-10T09:54:49.441Z"
   },
   {
    "duration": 20,
    "start_time": "2021-07-10T09:54:50.774Z"
   },
   {
    "duration": 19,
    "start_time": "2021-07-10T09:54:50.796Z"
   },
   {
    "duration": 29,
    "start_time": "2021-07-10T09:54:50.818Z"
   },
   {
    "duration": 20,
    "start_time": "2021-07-10T09:54:50.868Z"
   },
   {
    "duration": 95,
    "start_time": "2021-07-10T09:54:50.891Z"
   },
   {
    "duration": 7,
    "start_time": "2021-07-10T09:54:50.989Z"
   },
   {
    "duration": 160,
    "start_time": "2021-07-10T09:54:50.999Z"
   },
   {
    "duration": 419,
    "start_time": "2021-07-10T09:54:51.168Z"
   },
   {
    "duration": 86,
    "start_time": "2021-07-10T09:54:51.590Z"
   },
   {
    "duration": 482,
    "start_time": "2021-07-10T09:54:51.679Z"
   },
   {
    "duration": 393,
    "start_time": "2021-07-10T09:54:52.163Z"
   },
   {
    "duration": 11,
    "start_time": "2021-07-10T09:54:52.559Z"
   },
   {
    "duration": 19,
    "start_time": "2021-07-10T09:54:52.573Z"
   },
   {
    "duration": 73,
    "start_time": "2021-07-10T09:54:52.596Z"
   },
   {
    "duration": 14,
    "start_time": "2021-07-10T09:54:52.672Z"
   },
   {
    "duration": 11,
    "start_time": "2021-07-10T09:54:52.688Z"
   },
   {
    "duration": 9,
    "start_time": "2021-07-10T09:54:52.702Z"
   },
   {
    "duration": 14,
    "start_time": "2021-07-10T09:54:52.713Z"
   },
   {
    "duration": 13,
    "start_time": "2021-07-10T09:54:52.768Z"
   },
   {
    "duration": 3,
    "start_time": "2021-07-10T09:54:52.785Z"
   },
   {
    "duration": 6,
    "start_time": "2021-07-10T09:54:52.791Z"
   },
   {
    "duration": 2120,
    "start_time": "2021-08-23T07:12:44.162Z"
   },
   {
    "duration": 3,
    "start_time": "2021-08-23T07:12:46.286Z"
   },
   {
    "duration": 516,
    "start_time": "2021-08-23T07:12:46.292Z"
   },
   {
    "duration": 23,
    "start_time": "2021-08-23T07:12:46.811Z"
   },
   {
    "duration": 18,
    "start_time": "2021-08-23T07:12:46.837Z"
   },
   {
    "duration": 13,
    "start_time": "2021-08-23T07:12:46.857Z"
   },
   {
    "duration": 11,
    "start_time": "2021-08-23T07:12:46.874Z"
   },
   {
    "duration": 14,
    "start_time": "2021-08-23T07:12:46.889Z"
   },
   {
    "duration": 11,
    "start_time": "2021-08-23T07:12:46.908Z"
   },
   {
    "duration": 74,
    "start_time": "2021-08-23T07:12:46.922Z"
   },
   {
    "duration": 7,
    "start_time": "2021-08-23T07:12:46.999Z"
   },
   {
    "duration": 26,
    "start_time": "2021-08-23T07:12:47.010Z"
   },
   {
    "duration": 32,
    "start_time": "2021-08-23T07:12:47.039Z"
   },
   {
    "duration": 32,
    "start_time": "2021-08-23T07:12:47.074Z"
   },
   {
    "duration": 53,
    "start_time": "2021-08-23T07:12:47.109Z"
   },
   {
    "duration": 38,
    "start_time": "2021-08-23T07:12:47.165Z"
   },
   {
    "duration": 22,
    "start_time": "2021-08-23T07:12:47.205Z"
   },
   {
    "duration": 47,
    "start_time": "2021-08-23T07:12:47.229Z"
   },
   {
    "duration": 14,
    "start_time": "2021-08-23T07:12:47.279Z"
   },
   {
    "duration": 21,
    "start_time": "2021-08-23T07:12:47.296Z"
   },
   {
    "duration": 64,
    "start_time": "2021-08-23T07:12:47.319Z"
   },
   {
    "duration": 7,
    "start_time": "2021-08-23T07:12:47.386Z"
   },
   {
    "duration": 17,
    "start_time": "2021-08-23T07:12:47.400Z"
   },
   {
    "duration": 46,
    "start_time": "2021-08-23T07:12:47.421Z"
   },
   {
    "duration": 14,
    "start_time": "2021-08-23T07:12:47.469Z"
   },
   {
    "duration": 23,
    "start_time": "2021-08-23T07:12:47.485Z"
   },
   {
    "duration": 6,
    "start_time": "2021-08-23T07:12:47.510Z"
   },
   {
    "duration": 76,
    "start_time": "2021-08-23T07:12:47.518Z"
   },
   {
    "duration": 6,
    "start_time": "2021-08-23T07:12:47.597Z"
   },
   {
    "duration": 8,
    "start_time": "2021-08-23T07:12:47.605Z"
   },
   {
    "duration": 15,
    "start_time": "2021-08-23T07:12:47.615Z"
   },
   {
    "duration": 136,
    "start_time": "2021-08-23T07:12:47.632Z"
   },
   {
    "duration": 5,
    "start_time": "2021-08-23T07:12:47.771Z"
   },
   {
    "duration": 13,
    "start_time": "2021-08-23T07:12:47.779Z"
   },
   {
    "duration": 8,
    "start_time": "2021-08-23T07:12:47.795Z"
   },
   {
    "duration": 3339,
    "start_time": "2021-08-23T07:12:47.805Z"
   },
   {
    "duration": 24,
    "start_time": "2021-08-23T07:12:51.147Z"
   },
   {
    "duration": 7,
    "start_time": "2021-08-23T07:12:51.175Z"
   },
   {
    "duration": 8,
    "start_time": "2021-08-23T07:12:51.185Z"
   },
   {
    "duration": 449,
    "start_time": "2021-08-23T07:12:51.197Z"
   },
   {
    "duration": 401,
    "start_time": "2021-08-23T07:12:51.649Z"
   },
   {
    "duration": 426,
    "start_time": "2021-08-23T07:12:52.053Z"
   },
   {
    "duration": 418,
    "start_time": "2021-08-23T07:12:52.482Z"
   },
   {
    "duration": 440,
    "start_time": "2021-08-23T07:12:52.904Z"
   },
   {
    "duration": 530,
    "start_time": "2021-08-23T07:12:53.347Z"
   },
   {
    "duration": 408,
    "start_time": "2021-08-23T07:12:53.880Z"
   },
   {
    "duration": 3,
    "start_time": "2021-08-23T07:12:54.291Z"
   },
   {
    "duration": 359,
    "start_time": "2021-08-23T07:12:54.296Z"
   },
   {
    "duration": 520,
    "start_time": "2021-08-23T07:12:54.657Z"
   },
   {
    "duration": 394,
    "start_time": "2021-08-23T07:12:55.180Z"
   },
   {
    "duration": 332,
    "start_time": "2021-08-23T07:12:55.577Z"
   },
   {
    "duration": 357,
    "start_time": "2021-08-23T07:12:55.912Z"
   },
   {
    "duration": 299,
    "start_time": "2021-08-23T07:12:56.272Z"
   },
   {
    "duration": 296,
    "start_time": "2021-08-23T07:12:56.573Z"
   },
   {
    "duration": 23,
    "start_time": "2021-08-23T07:12:56.872Z"
   },
   {
    "duration": 22,
    "start_time": "2021-08-23T07:12:56.898Z"
   },
   {
    "duration": 3,
    "start_time": "2021-08-23T07:12:56.923Z"
   },
   {
    "duration": 26,
    "start_time": "2021-08-23T07:12:56.963Z"
   },
   {
    "duration": 33,
    "start_time": "2021-08-23T07:12:56.992Z"
   },
   {
    "duration": 35,
    "start_time": "2021-08-23T07:12:57.027Z"
   },
   {
    "duration": 20,
    "start_time": "2021-08-23T07:12:57.065Z"
   },
   {
    "duration": 20,
    "start_time": "2021-08-23T07:12:57.088Z"
   },
   {
    "duration": 17,
    "start_time": "2021-08-23T07:12:57.110Z"
   },
   {
    "duration": 112,
    "start_time": "2021-08-23T07:12:57.129Z"
   },
   {
    "duration": 26,
    "start_time": "2021-08-23T07:12:57.243Z"
   },
   {
    "duration": 391,
    "start_time": "2021-08-23T07:12:57.273Z"
   },
   {
    "duration": 961,
    "start_time": "2021-08-23T07:12:57.666Z"
   },
   {
    "duration": 746,
    "start_time": "2021-08-23T07:12:58.635Z"
   },
   {
    "duration": 1360,
    "start_time": "2021-08-23T07:12:59.384Z"
   },
   {
    "duration": 28,
    "start_time": "2021-08-23T07:13:00.746Z"
   },
   {
    "duration": 22,
    "start_time": "2021-08-23T07:13:00.776Z"
   },
   {
    "duration": 43,
    "start_time": "2021-08-23T07:13:00.801Z"
   },
   {
    "duration": 41,
    "start_time": "2021-08-23T07:13:00.846Z"
   },
   {
    "duration": 99,
    "start_time": "2021-08-23T07:13:00.890Z"
   },
   {
    "duration": 7,
    "start_time": "2021-08-23T07:13:00.991Z"
   },
   {
    "duration": 193,
    "start_time": "2021-08-23T07:13:01.000Z"
   },
   {
    "duration": 362,
    "start_time": "2021-08-23T07:13:01.195Z"
   },
   {
    "duration": 68,
    "start_time": "2021-08-23T07:13:01.563Z"
   },
   {
    "duration": 504,
    "start_time": "2021-08-23T07:13:01.633Z"
   },
   {
    "duration": 415,
    "start_time": "2021-08-23T07:13:02.140Z"
   },
   {
    "duration": 8,
    "start_time": "2021-08-23T07:13:02.557Z"
   },
   {
    "duration": 59,
    "start_time": "2021-08-23T07:13:02.568Z"
   },
   {
    "duration": 93,
    "start_time": "2021-08-23T07:13:02.630Z"
   },
   {
    "duration": 31,
    "start_time": "2021-08-23T07:13:02.726Z"
   },
   {
    "duration": 16,
    "start_time": "2021-08-23T07:13:02.760Z"
   },
   {
    "duration": 41,
    "start_time": "2021-08-23T07:13:02.779Z"
   },
   {
    "duration": 48,
    "start_time": "2021-08-23T07:13:02.823Z"
   },
   {
    "duration": 25,
    "start_time": "2021-08-23T07:13:02.874Z"
   },
   {
    "duration": 5,
    "start_time": "2021-08-23T07:13:02.902Z"
   },
   {
    "duration": 17,
    "start_time": "2021-08-23T07:13:02.910Z"
   }
  ],
  "kernelspec": {
   "display_name": "Python 3",
   "language": "python",
   "name": "python3"
  },
  "language_info": {
   "codemirror_mode": {
    "name": "ipython",
    "version": 3
   },
   "file_extension": ".py",
   "mimetype": "text/x-python",
   "name": "python",
   "nbconvert_exporter": "python",
   "pygments_lexer": "ipython3",
   "version": "3.7.8"
  },
  "toc": {
   "base_numbering": 1,
   "nav_menu": {},
   "number_sections": true,
   "sideBar": true,
   "skip_h1_title": true,
   "title_cell": "Table of Contents",
   "title_sidebar": "Contents",
   "toc_cell": false,
   "toc_position": {},
   "toc_section_display": true,
   "toc_window_display": false
  }
 },
 "nbformat": 4,
 "nbformat_minor": 2
}
