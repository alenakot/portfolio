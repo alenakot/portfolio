{
 "cells": [
  {
   "cell_type": "markdown",
   "metadata": {},
   "source": [
    "## Исследование надёжности заёмщиков\n",
    "\n",
    "Исследования для кредитного отдела банка.\n",
    "\n",
    "Необходимо определить какие параметры влияют на факт погашения кредита клиентом в срок.\n"
   ]
  },
  {
   "cell_type": "markdown",
   "metadata": {},
   "source": [
    "### Описание данных:\n",
    "    children — количество детей в семье\n",
    "    days_employed — общий трудовой стаж в днях\n",
    "    dob_years — возраст клиента в годах\n",
    "    education — уровень образования клиента\n",
    "    education_id — идентификатор уровня образования\n",
    "    family_status — семейное положение\n",
    "    family_status_id — идентификатор семейного положения\n",
    "    gender — пол клиента\n",
    "    income_type — тип занятости\n",
    "    debt — имел ли задолженность по возврату кредитов\n",
    "    total_income — ежемесячный доход\n",
    "    purpose — цель получения кредита\n"
   ]
  },
  {
   "cell_type": "markdown",
   "metadata": {},
   "source": [
    "### План выполнения проекта:\n",
    "    Шаг 1. Открыть таблицу и изучить данные\n",
    "    Шаг 2. Предобработка данных\n",
    "        2.1 определите и заполните пропущенные значения;\n",
    "        2.2 замените вещественный тип данных на целочисленный;\n",
    "        2.3 удалите дубликаты;\n",
    "        2.4 выделите леммы в значениях столбца с целями получения кредита;\n",
    "        2.5 категоризируйте данные.\n",
    "    Шаг 3. Ответить на вопросы:\n",
    "        Есть ли зависимость между наличием детей и возвратом кредита в срок?\n",
    "        Есть ли зависимость между семейным положением и возвратом кредита в срок?\n",
    "        Есть ли зависимость между уровнем дохода и возвратом кредита в срок?\n",
    "        Как разные цели кредита влияют на его возврат в срок?\n"
   ]
  },
  {
   "cell_type": "markdown",
   "metadata": {},
   "source": [
    "### Шаг 1. Откройте файл с данными и изучите общую информацию. "
   ]
  },
  {
   "cell_type": "code",
   "execution_count": 1,
   "metadata": {},
   "outputs": [],
   "source": [
    "# Импорт библиотек\n",
    "import pandas as pd\n",
    "import IPython.display\n",
    "from pymystem3 import Mystem\n",
    "from collections import Counter"
   ]
  },
  {
   "cell_type": "code",
   "execution_count": 2,
   "metadata": {},
   "outputs": [
    {
     "name": "stdout",
     "output_type": "stream",
     "text": [
      "<class 'pandas.core.frame.DataFrame'>\n",
      "RangeIndex: 21525 entries, 0 to 21524\n",
      "Data columns (total 12 columns):\n",
      "children            21525 non-null int64\n",
      "days_employed       19351 non-null float64\n",
      "dob_years           21525 non-null int64\n",
      "education           21525 non-null object\n",
      "education_id        21525 non-null int64\n",
      "family_status       21525 non-null object\n",
      "family_status_id    21525 non-null int64\n",
      "gender              21525 non-null object\n",
      "income_type         21525 non-null object\n",
      "debt                21525 non-null int64\n",
      "total_income        19351 non-null float64\n",
      "purpose             21525 non-null object\n",
      "dtypes: float64(2), int64(5), object(5)\n",
      "memory usage: 2.0+ MB\n"
     ]
    },
    {
     "data": {
      "text/plain": [
       "children               0\n",
       "days_employed       2174\n",
       "dob_years              0\n",
       "education              0\n",
       "education_id           0\n",
       "family_status          0\n",
       "family_status_id       0\n",
       "gender                 0\n",
       "income_type            0\n",
       "debt                   0\n",
       "total_income        2174\n",
       "purpose                0\n",
       "dtype: int64"
      ]
     },
     "metadata": {},
     "output_type": "display_data"
    },
    {
     "data": {
      "text/plain": [
       "54"
      ]
     },
     "metadata": {},
     "output_type": "display_data"
    },
    {
     "data": {
      "text/html": [
       "<div>\n",
       "<style scoped>\n",
       "    .dataframe tbody tr th:only-of-type {\n",
       "        vertical-align: middle;\n",
       "    }\n",
       "\n",
       "    .dataframe tbody tr th {\n",
       "        vertical-align: top;\n",
       "    }\n",
       "\n",
       "    .dataframe thead th {\n",
       "        text-align: right;\n",
       "    }\n",
       "</style>\n",
       "<table border=\"1\" class=\"dataframe\">\n",
       "  <thead>\n",
       "    <tr style=\"text-align: right;\">\n",
       "      <th></th>\n",
       "      <th>children</th>\n",
       "      <th>days_employed</th>\n",
       "      <th>dob_years</th>\n",
       "      <th>education</th>\n",
       "      <th>education_id</th>\n",
       "      <th>family_status</th>\n",
       "      <th>family_status_id</th>\n",
       "      <th>gender</th>\n",
       "      <th>income_type</th>\n",
       "      <th>debt</th>\n",
       "      <th>total_income</th>\n",
       "      <th>purpose</th>\n",
       "    </tr>\n",
       "  </thead>\n",
       "  <tbody>\n",
       "    <tr>\n",
       "      <td>0</td>\n",
       "      <td>1</td>\n",
       "      <td>-8437.673028</td>\n",
       "      <td>42</td>\n",
       "      <td>высшее</td>\n",
       "      <td>0</td>\n",
       "      <td>женат / замужем</td>\n",
       "      <td>0</td>\n",
       "      <td>F</td>\n",
       "      <td>сотрудник</td>\n",
       "      <td>0</td>\n",
       "      <td>253875.639453</td>\n",
       "      <td>покупка жилья</td>\n",
       "    </tr>\n",
       "    <tr>\n",
       "      <td>1</td>\n",
       "      <td>1</td>\n",
       "      <td>-4024.803754</td>\n",
       "      <td>36</td>\n",
       "      <td>среднее</td>\n",
       "      <td>1</td>\n",
       "      <td>женат / замужем</td>\n",
       "      <td>0</td>\n",
       "      <td>F</td>\n",
       "      <td>сотрудник</td>\n",
       "      <td>0</td>\n",
       "      <td>112080.014102</td>\n",
       "      <td>приобретение автомобиля</td>\n",
       "    </tr>\n",
       "    <tr>\n",
       "      <td>2</td>\n",
       "      <td>0</td>\n",
       "      <td>-5623.422610</td>\n",
       "      <td>33</td>\n",
       "      <td>Среднее</td>\n",
       "      <td>1</td>\n",
       "      <td>женат / замужем</td>\n",
       "      <td>0</td>\n",
       "      <td>M</td>\n",
       "      <td>сотрудник</td>\n",
       "      <td>0</td>\n",
       "      <td>145885.952297</td>\n",
       "      <td>покупка жилья</td>\n",
       "    </tr>\n",
       "    <tr>\n",
       "      <td>3</td>\n",
       "      <td>3</td>\n",
       "      <td>-4124.747207</td>\n",
       "      <td>32</td>\n",
       "      <td>среднее</td>\n",
       "      <td>1</td>\n",
       "      <td>женат / замужем</td>\n",
       "      <td>0</td>\n",
       "      <td>M</td>\n",
       "      <td>сотрудник</td>\n",
       "      <td>0</td>\n",
       "      <td>267628.550329</td>\n",
       "      <td>дополнительное образование</td>\n",
       "    </tr>\n",
       "    <tr>\n",
       "      <td>4</td>\n",
       "      <td>0</td>\n",
       "      <td>340266.072047</td>\n",
       "      <td>53</td>\n",
       "      <td>среднее</td>\n",
       "      <td>1</td>\n",
       "      <td>гражданский брак</td>\n",
       "      <td>1</td>\n",
       "      <td>F</td>\n",
       "      <td>пенсионер</td>\n",
       "      <td>0</td>\n",
       "      <td>158616.077870</td>\n",
       "      <td>сыграть свадьбу</td>\n",
       "    </tr>\n",
       "  </tbody>\n",
       "</table>\n",
       "</div>"
      ],
      "text/plain": [
       "   children  days_employed  dob_years education  education_id  \\\n",
       "0         1   -8437.673028         42    высшее             0   \n",
       "1         1   -4024.803754         36   среднее             1   \n",
       "2         0   -5623.422610         33   Среднее             1   \n",
       "3         3   -4124.747207         32   среднее             1   \n",
       "4         0  340266.072047         53   среднее             1   \n",
       "\n",
       "      family_status  family_status_id gender income_type  debt   total_income  \\\n",
       "0   женат / замужем                 0      F   сотрудник     0  253875.639453   \n",
       "1   женат / замужем                 0      F   сотрудник     0  112080.014102   \n",
       "2   женат / замужем                 0      M   сотрудник     0  145885.952297   \n",
       "3   женат / замужем                 0      M   сотрудник     0  267628.550329   \n",
       "4  гражданский брак                 1      F   пенсионер     0  158616.077870   \n",
       "\n",
       "                      purpose  \n",
       "0               покупка жилья  \n",
       "1     приобретение автомобиля  \n",
       "2               покупка жилья  \n",
       "3  дополнительное образование  \n",
       "4             сыграть свадьбу  "
      ]
     },
     "metadata": {},
     "output_type": "display_data"
    }
   ],
   "source": [
    "# Выгрузка данных и анализ\n",
    "data = pd.read_csv('**')\n",
    "data.info()\n",
    "data.columns\n",
    "display(data.isnull().sum())\n",
    "display(data.duplicated().sum())\n",
    "display(data.head()) "
   ]
  },
  {
   "cell_type": "markdown",
   "metadata": {},
   "source": [
    "### Вывод"
   ]
  },
  {
   "cell_type": "markdown",
   "metadata": {},
   "source": [
    "В качестве данных была дана таблица с 12-ю столбцами и 21525 строками. Присутствуют категориальные и количественные данные о людях. Два столбца с пропусками: 'days_employed' и 'total_income'. Присутвует 54 дубликата. "
   ]
  },
  {
   "cell_type": "markdown",
   "metadata": {},
   "source": [
    "### Шаг 2. Предобработка данных"
   ]
  },
  {
   "cell_type": "markdown",
   "metadata": {},
   "source": [
    "### Обработка пропусков"
   ]
  },
  {
   "cell_type": "code",
   "execution_count": 3,
   "metadata": {},
   "outputs": [
    {
     "name": "stdout",
     "output_type": "stream",
     "text": [
      "children               0\n",
      "days_employed       2174\n",
      "dob_years              0\n",
      "education              0\n",
      "education_id           0\n",
      "family_status          0\n",
      "family_status_id       0\n",
      "gender                 0\n",
      "income_type            0\n",
      "debt                   0\n",
      "total_income        2174\n",
      "purpose                0\n",
      "dtype: int64\n"
     ]
    }
   ],
   "source": [
    "print(data.isna().sum())\n",
    "# убираем отрицательные значения\n",
    "data['days_employed'] = data['days_employed'].apply(abs)\n",
    "data['dob_years'] = data['dob_years'].apply(abs)\n",
    "data['children'] = data['children'].apply(abs)\n",
    "data['total_income'] = data['total_income'].apply(abs)\n"
   ]
  },
  {
   "cell_type": "code",
   "execution_count": 4,
   "metadata": {},
   "outputs": [
    {
     "name": "stdout",
     "output_type": "stream",
     "text": [
      "142594.39684740017 сотрудник\n",
      "118514.48641164352 пенсионер\n",
      "172357.95096577113 компаньон\n",
      "150447.9352830068 госслужащий\n",
      "131339.7516762103 безработный\n",
      "499163.1449470857 предприниматель\n",
      "98201.62531401133 студент\n",
      "53829.13072905995 в декрете\n"
     ]
    },
    {
     "data": {
      "text/plain": [
       "children            0\n",
       "days_employed       0\n",
       "dob_years           0\n",
       "education           0\n",
       "education_id        0\n",
       "family_status       0\n",
       "family_status_id    0\n",
       "gender              0\n",
       "income_type         0\n",
       "debt                0\n",
       "total_income        0\n",
       "purpose             0\n",
       "dtype: int64"
      ]
     },
     "execution_count": 4,
     "metadata": {},
     "output_type": "execute_result"
    }
   ],
   "source": [
    "# заполняем пропуски медианными значениями\n",
    "for dob_years in data['dob_years'].unique():\n",
    "    median = data.loc[data['dob_years'] == dob_years, 'days_employed'].median()\n",
    "    #print(median, dob_years) # дополнила код выводом\n",
    "    data.loc[(data['dob_years'] == dob_years) & (data['days_employed'].isna()), 'days_employed'] = median\n",
    "\n",
    "for income_type in data['income_type'].unique():\n",
    "    median = data.loc[data['income_type'] == income_type, 'total_income'].median()\n",
    "    print(median, income_type)  # дополнила код выводом\n",
    "    data.loc[(data['income_type'] == income_type) & (data['total_income'].isna()), 'total_income'] = median\n",
    "\n",
    "data.isnull().sum()"
   ]
  },
  {
   "cell_type": "markdown",
   "metadata": {},
   "source": [
    "### Вывод"
   ]
  },
  {
   "cell_type": "markdown",
   "metadata": {},
   "source": [
    "Пропуски присутсвовали в столбцах с количественными переменными: \"общий трудовой стаж в днях\" и \"ежемесячный доход\". \n",
    "Возможные причины появления пропусков:\n",
    "- клиенты не знали(не помнили) свой трудовой стаж при заполнении документов;\n",
    "- клиенты не имели фиксированного дохода;\n",
    "- не было указано за какой срок нужен ежемесячный доход;\n",
    "- клиенты поленились посчитать рабочие дни.\n",
    "\n",
    "Перед заполнением пропусков были взяты модули всех количественных значений. Они не могут быть по природе своей отрицательными, следовательно, \"-\" - это опечатка.\n",
    "\n",
    "Заполнили пропуски в столбце days_employed с группировкой по переменной dob_years, так как, зачастую, трудовой стаж напрямую зависит от возраста клиента. \n",
    "\n",
    "Заполнили пропуски в столбце total_income с группировкой по переменной income_type, так как, ежемесячный доход в зависимости от типа занятости схож."
   ]
  },
  {
   "cell_type": "markdown",
   "metadata": {},
   "source": [
    "### Замена типа данных"
   ]
  },
  {
   "cell_type": "code",
   "execution_count": 5,
   "metadata": {},
   "outputs": [
    {
     "name": "stdout",
     "output_type": "stream",
     "text": [
      "<class 'pandas.core.frame.DataFrame'>\n",
      "RangeIndex: 21525 entries, 0 to 21524\n",
      "Data columns (total 12 columns):\n",
      "children            21525 non-null int64\n",
      "days_employed       21525 non-null int64\n",
      "dob_years           21525 non-null int64\n",
      "education           21525 non-null object\n",
      "education_id        21525 non-null int64\n",
      "family_status       21525 non-null object\n",
      "family_status_id    21525 non-null int64\n",
      "gender              21525 non-null object\n",
      "income_type         21525 non-null object\n",
      "debt                21525 non-null int64\n",
      "total_income        21525 non-null int64\n",
      "purpose             21525 non-null object\n",
      "dtypes: int64(7), object(5)\n",
      "memory usage: 2.0+ MB\n"
     ]
    }
   ],
   "source": [
    "data['days_employed'] = data['days_employed'].astype('int')\n",
    "data['total_income'] = data['total_income'].astype('int')\n",
    "data.info()"
   ]
  },
  {
   "cell_type": "markdown",
   "metadata": {},
   "source": [
    "### Вывод"
   ]
  },
  {
   "cell_type": "markdown",
   "metadata": {},
   "source": [
    "### Обработка дубликатов"
   ]
  },
  {
   "cell_type": "code",
   "execution_count": 6,
   "metadata": {},
   "outputs": [
    {
     "name": "stdout",
     "output_type": "stream",
     "text": [
      "женат / замужем          12380\n",
      "гражданский брак          4177\n",
      "Не женат / не замужем     2813\n",
      "в разводе                 1195\n",
      "вдовец / вдова             960\n",
      "Name: family_status, dtype: int64\n",
      "F      14236\n",
      "M       7288\n",
      "XNA        1\n",
      "Name: gender, dtype: int64\n",
      "сотрудник          11119\n",
      "компаньон           5085\n",
      "пенсионер           3856\n",
      "госслужащий         1459\n",
      "безработный            2\n",
      "предприниматель        2\n",
      "студент                1\n",
      "в декрете              1\n",
      "Name: income_type, dtype: int64\n",
      "среднее                13750\n",
      "высшее                  4718\n",
      "СРЕДНЕЕ                  772\n",
      "Среднее                  711\n",
      "неоконченное высшее      668\n",
      "ВЫСШЕЕ                   274\n",
      "Высшее                   268\n",
      "начальное                250\n",
      "Неоконченное высшее       47\n",
      "НЕОКОНЧЕННОЕ ВЫСШЕЕ       29\n",
      "НАЧАЛЬНОЕ                 17\n",
      "Начальное                 15\n",
      "ученая степень             4\n",
      "УЧЕНАЯ СТЕПЕНЬ             1\n",
      "Ученая степень             1\n",
      "Name: education, dtype: int64\n"
     ]
    }
   ],
   "source": [
    "print(data['family_status'].value_counts())  \n",
    "print(data['gender'].value_counts())\n",
    "print(data['income_type'].value_counts())\n",
    "print(data['education'].value_counts())  \n",
    "\n"
   ]
  },
  {
   "cell_type": "code",
   "execution_count": 7,
   "metadata": {},
   "outputs": [
    {
     "name": "stdout",
     "output_type": "stream",
     "text": [
      "Количество дубликатов до 71\n",
      "Количество дубликатов после 0\n"
     ]
    }
   ],
   "source": [
    "# приводим данные к нижнему регистру\n",
    "data['education'] = data['education'].str.lower() \n",
    "# Обрабатываем дубликаты\n",
    "print('Количество дубликатов до',data.duplicated().sum())\n",
    "data = data.drop_duplicates().reset_index(drop = True) \n",
    "print('Количество дубликатов после',data.duplicated().sum())\n",
    "\n",
    "data['children'].value_counts()\n",
    "data.loc[data['children'] == 20, 'children'] = 2\n"
   ]
  },
  {
   "cell_type": "markdown",
   "metadata": {},
   "source": [
    "### Вывод"
   ]
  },
  {
   "cell_type": "markdown",
   "metadata": {},
   "source": [
    "Дубликаты искали методом value_counts(), применяя к различным столбцам. \n",
    "\n",
    "В столбце education были найдены дубликаты с разными регистрами. Для их исключения привели весь столбец к нижнему регистру. Подобные дубликаты появляются из-за того, что недостаточно конкретизации в бланках для заполнения или из-за автозамены на телефонах.\n",
    "\n",
    "В столбце children обнаружили нестандартное значение - 20. Его заменили на 2, так как это, вероятнее всего, опечатка."
   ]
  },
  {
   "cell_type": "markdown",
   "metadata": {},
   "source": [
    "### Лемматизация"
   ]
  },
  {
   "cell_type": "code",
   "execution_count": 8,
   "metadata": {},
   "outputs": [
    {
     "name": "stdout",
     "output_type": "stream",
     "text": [
      "свадьба                                   791\n",
      "на проведение свадьбы                     768\n",
      "сыграть свадьбу                           765\n",
      "операции с недвижимостью                  675\n",
      "покупка коммерческой недвижимости         661\n",
      "операции с жильем                         652\n",
      "покупка жилья для сдачи                   651\n",
      "операции с коммерческой недвижимостью     650\n",
      "покупка жилья                             646\n",
      "жилье                                     646\n",
      "покупка жилья для семьи                   638\n",
      "строительство собственной недвижимости    635\n",
      "недвижимость                              633\n",
      "операции со своей недвижимостью           627\n",
      "строительство жилой недвижимости          624\n",
      "покупка недвижимости                      621\n",
      "покупка своего жилья                      620\n",
      "строительство недвижимости                619\n",
      "ремонт жилью                              607\n",
      "покупка жилой недвижимости                606\n",
      "на покупку своего автомобиля              505\n",
      "заняться высшим образованием              496\n",
      "автомобиль                                494\n",
      "сделка с подержанным автомобилем          486\n",
      "автомобили                                478\n",
      "свой автомобиль                           478\n",
      "на покупку подержанного автомобиля        478\n",
      "на покупку автомобиля                     471\n",
      "приобретение автомобиля                   461\n",
      "дополнительное образование                460\n",
      "сделка с автомобилем                      455\n",
      "высшее образование                        452\n",
      "образование                               447\n",
      "получение дополнительного образования     446\n",
      "получение образования                     442\n",
      "профильное образование                    436\n",
      "получение высшего образования             426\n",
      "заняться образованием                     408\n",
      "Name: purpose, dtype: int64\n"
     ]
    }
   ],
   "source": [
    "print(data['purpose'].value_counts())"
   ]
  },
  {
   "cell_type": "code",
   "execution_count": 9,
   "metadata": {},
   "outputs": [
    {
     "name": "stdout",
     "output_type": "stream",
     "text": [
      "[автомобиль, \\n]                                          972\n",
      "[свадьба, \\n]                                             791\n",
      "[на,  , проведение,  , свадьба, \\n]                       768\n",
      "[сыграть,  , свадьба, \\n]                                 765\n",
      "[операция,  , с,  , недвижимость, \\n]                     675\n",
      "[покупка,  , коммерческий,  , недвижимость, \\n]           661\n",
      "[операция,  , с,  , жилье, \\n]                            652\n",
      "[покупка,  , жилье,  , для,  , сдача, \\n]                 651\n",
      "[операция,  , с,  , коммерческий,  , недвижимость, \\n]    650\n",
      "[покупка,  , жилье, \\n]                                   646\n",
      "[жилье, \\n]                                               646\n",
      "[покупка,  , жилье,  , для,  , семья, \\n]                 638\n",
      "[строительство,  , собственный,  , недвижимость, \\n]      635\n",
      "[недвижимость, \\n]                                        633\n",
      "[операция,  , со,  , свой,  , недвижимость, \\n]           627\n",
      "[строительство,  , жилой,  , недвижимость, \\n]            624\n",
      "[покупка,  , недвижимость, \\n]                            621\n",
      "[покупка,  , свой,  , жилье, \\n]                          620\n",
      "[строительство,  , недвижимость, \\n]                      619\n",
      "[ремонт,  , жилье, \\n]                                    607\n",
      "[покупка,  , жилой,  , недвижимость, \\n]                  606\n",
      "[на,  , покупка,  , свой,  , автомобиль, \\n]              505\n",
      "[заниматься,  , высокий,  , образование, \\n]              496\n",
      "[сделка,  , с,  , подержанный,  , автомобиль, \\n]         486\n",
      "[свой,  , автомобиль, \\n]                                 478\n",
      "[на,  , покупка,  , подержать,  , автомобиль, \\n]         478\n",
      "[на,  , покупка,  , автомобиль, \\n]                       471\n",
      "[приобретение,  , автомобиль, \\n]                         461\n",
      "[дополнительный,  , образование, \\n]                      460\n",
      "[сделка,  , с,  , автомобиль, \\n]                         455\n",
      "[высокий,  , образование, \\n]                             452\n",
      "[образование, \\n]                                         447\n",
      "[получение,  , дополнительный,  , образование, \\n]        446\n",
      "[получение,  , образование, \\n]                           442\n",
      "[профильный,  , образование, \\n]                          436\n",
      "[получение,  , высокий,  , образование, \\n]               426\n",
      "[заниматься,  , образование, \\n]                          408\n",
      "Name: purpose_lemmas, dtype: int64\n"
     ]
    }
   ],
   "source": [
    "m = Mystem()\n",
    "\n",
    "data['purpose_lemmas'] = data['purpose'].apply(m.lemmatize)\n",
    "print(data['purpose_lemmas'].value_counts())    # вывод данных для анализа часто появляющихся причин кредитов\n",
    "Counter(['purpose_lemmas'])\n",
    "# создание функции, которая по смыслу классифицирует причины кредитов \n",
    "def sum_purpose (lemma):\n",
    "    if 'жилье' in lemma or 'недвижимость' in lemma:\n",
    "        return 'недвижимость'\n",
    "    if 'автомобиль' in lemma:\n",
    "        return 'автомобиль' \n",
    "    if 'образование'in lemma:\n",
    "        return 'образование' \n",
    "    if 'свадьба' in lemma:\n",
    "        return 'свадьба'\n",
    "    if 'ремонт' in lemma:\n",
    "        return 'ремонт'\n",
    "    if 'коммерческий' in lemma:\n",
    "        return 'коммерция'\n",
    "    return 'другое'"
   ]
  },
  {
   "cell_type": "code",
   "execution_count": 10,
   "metadata": {},
   "outputs": [],
   "source": [
    "data['purpose_short'] = data['purpose_lemmas'].apply(sum_purpose) "
   ]
  },
  {
   "cell_type": "markdown",
   "metadata": {},
   "source": [
    "### Вывод"
   ]
  },
  {
   "cell_type": "markdown",
   "metadata": {},
   "source": [
    "Лемматизацию проводили с использованием библиотек pymystem3 и collections. Оттуда мы применяли методы для приведения слов к словарному виду и плдсчёта одинаковых слов. \n",
    "\n",
    "Далее была написана функция, которая позволяла в соответствии с леммами разделить цели кредитов на несколько категорий: недвижимость, автомобиль, образование, свадьба, ремонт и коммерческие траты."
   ]
  },
  {
   "cell_type": "markdown",
   "metadata": {},
   "source": [
    "### Категоризация данных"
   ]
  },
  {
   "cell_type": "code",
   "execution_count": 11,
   "metadata": {},
   "outputs": [],
   "source": [
    "data_dict_edu = data[['education_id', 'education' ]]\n",
    "data_dict_edu = data_dict_edu.drop_duplicates().reset_index(drop = True)\n",
    "data_dict_stat = data[['family_status_id', 'family_status' ]]\n",
    "data_dict_stat = data_dict_stat.drop_duplicates().reset_index(drop = True)"
   ]
  },
  {
   "cell_type": "code",
   "execution_count": 12,
   "metadata": {},
   "outputs": [
    {
     "name": "stdout",
     "output_type": "stream",
     "text": [
      "взрослые      20458\n",
      "пенсионеры      895\n",
      "дети            101\n",
      "Name: age_group, dtype: int64\n"
     ]
    }
   ],
   "source": [
    "# категоризация по возрасту\n",
    "def age_group(age):\n",
    "    if age < 18:\n",
    "        return 'дети'\n",
    "    if age <= 64:\n",
    "         return 'взрослые'\n",
    "    return 'пенсионеры'\n",
    "data['age_group'] = data['dob_years'].apply(age_group)\n",
    "print(data['age_group'].value_counts())"
   ]
  },
  {
   "cell_type": "code",
   "execution_count": 13,
   "metadata": {},
   "outputs": [
    {
     "name": "stdout",
     "output_type": "stream",
     "text": [
      "39.0 сотрудник\n",
      "60.0 пенсионер\n",
      "39.0 компаньон\n",
      "40.0 госслужащий\n",
      "38.0 безработный\n",
      "42.5 предприниматель\n",
      "22.0 студент\n",
      "39.0 в декрете\n",
      "взрослые      20458\n",
      "пенсионеры      895\n",
      "дети            101\n",
      "Name: age_group, dtype: int64\n"
     ]
    }
   ],
   "source": [
    "#data.drop(data[data['age_group'] == 'дети'].index, inplace = True)  # выявление нестандартных данных и замена медианными значениями\n",
    "# заполнение пропусков в доходах клиентов медианным значением по возрастным группам\n",
    "for income_type in data['income_type'].unique():\n",
    "    median = data.loc[data['income_type'] == income_type, 'dob_years'].median()\n",
    "    print(median, income_type)  # дополнила код выводом\n",
    "    data.loc[(data['income_type'] == income_type) & (data['dob_years'] == 0), 'dob_years'] = median\n",
    "print(data['age_group'].value_counts())"
   ]
  },
  {
   "cell_type": "code",
   "execution_count": 14,
   "metadata": {},
   "outputs": [],
   "source": [
    "# категоризация по доходу\n",
    "def income_group(income):\n",
    "    if income < 50000:\n",
    "        return 'низкий доход'\n",
    "    if 50000 <= income < 800000 :\n",
    "         return 'средний доход'\n",
    "    return 'высокий доход'\n",
    "data['income_group'] = data['total_income'].apply(income_group)"
   ]
  },
  {
   "cell_type": "code",
   "execution_count": 15,
   "metadata": {},
   "outputs": [
    {
     "name": "stdout",
     "output_type": "stream",
     "text": [
      "education\n",
      "высшее                  5250\n",
      "начальное                282\n",
      "неоконченное высшее      744\n",
      "среднее                15172\n",
      "ученая степень             6\n",
      "Name: education, dtype: int64\n"
     ]
    }
   ],
   "source": [
    "print (data.groupby('education')['education'].count())"
   ]
  },
  {
   "cell_type": "markdown",
   "metadata": {},
   "source": [
    "### Вывод"
   ]
  },
  {
   "cell_type": "markdown",
   "metadata": {},
   "source": [
    "Было выделено два \"словаря\": образование и семейный статус. Они являются справочнками о том, какому id  какое название соотвествует. Такие словари позволят уменьшить размер таблицы, но не усложнят её использование.\n",
    "\n",
    "Написано две функции, которые позволяют разбить данные на категории. Первая разбивает на возрастные группы, вторая - на группы по доходам."
   ]
  },
  {
   "cell_type": "markdown",
   "metadata": {},
   "source": [
    "### Шаг 3. Ответьте на вопросы"
   ]
  },
  {
   "cell_type": "markdown",
   "metadata": {},
   "source": [
    "- Есть ли зависимость между наличием детей и возвратом кредита в срок?"
   ]
  },
  {
   "cell_type": "code",
   "execution_count": 16,
   "metadata": {},
   "outputs": [
    {
     "data": {
      "text/html": [
       "<style  type=\"text/css\" >\n",
       "</style><table id=\"T_2103346c_ccea_11eb_849d_02420a39b592\" ><thead>    <tr>        <th class=\"blank level0\" ></th>        <th class=\"col_heading level0 col0\" >no_debt</th>        <th class=\"col_heading level0 col1\" >debt</th>        <th class=\"col_heading level0 col2\" >%</th>        <th class=\"col_heading level0 col3\" >quantity</th>    </tr>    <tr>        <th class=\"index_name level0\" >children</th>        <th class=\"blank\" ></th>        <th class=\"blank\" ></th>        <th class=\"blank\" ></th>        <th class=\"blank\" ></th>    </tr></thead><tbody>\n",
       "                <tr>\n",
       "                        <th id=\"T_2103346c_ccea_11eb_849d_02420a39b592level0_row0\" class=\"row_heading level0 row0\" >0</th>\n",
       "                        <td id=\"T_2103346c_ccea_11eb_849d_02420a39b592row0_col0\" class=\"data row0 col0\" >13028</td>\n",
       "                        <td id=\"T_2103346c_ccea_11eb_849d_02420a39b592row0_col1\" class=\"data row0 col1\" >1063</td>\n",
       "                        <td id=\"T_2103346c_ccea_11eb_849d_02420a39b592row0_col2\" class=\"data row0 col2\" >7.54%</td>\n",
       "                        <td id=\"T_2103346c_ccea_11eb_849d_02420a39b592row0_col3\" class=\"data row0 col3\" >14091</td>\n",
       "            </tr>\n",
       "            <tr>\n",
       "                        <th id=\"T_2103346c_ccea_11eb_849d_02420a39b592level0_row1\" class=\"row_heading level0 row1\" >1</th>\n",
       "                        <td id=\"T_2103346c_ccea_11eb_849d_02420a39b592row1_col0\" class=\"data row1 col0\" >4410</td>\n",
       "                        <td id=\"T_2103346c_ccea_11eb_849d_02420a39b592row1_col1\" class=\"data row1 col1\" >445</td>\n",
       "                        <td id=\"T_2103346c_ccea_11eb_849d_02420a39b592row1_col2\" class=\"data row1 col2\" >9.17%</td>\n",
       "                        <td id=\"T_2103346c_ccea_11eb_849d_02420a39b592row1_col3\" class=\"data row1 col3\" >4855</td>\n",
       "            </tr>\n",
       "            <tr>\n",
       "                        <th id=\"T_2103346c_ccea_11eb_849d_02420a39b592level0_row2\" class=\"row_heading level0 row2\" >2</th>\n",
       "                        <td id=\"T_2103346c_ccea_11eb_849d_02420a39b592row2_col0\" class=\"data row2 col0\" >1926</td>\n",
       "                        <td id=\"T_2103346c_ccea_11eb_849d_02420a39b592row2_col1\" class=\"data row2 col1\" >202</td>\n",
       "                        <td id=\"T_2103346c_ccea_11eb_849d_02420a39b592row2_col2\" class=\"data row2 col2\" >9.49%</td>\n",
       "                        <td id=\"T_2103346c_ccea_11eb_849d_02420a39b592row2_col3\" class=\"data row2 col3\" >2128</td>\n",
       "            </tr>\n",
       "            <tr>\n",
       "                        <th id=\"T_2103346c_ccea_11eb_849d_02420a39b592level0_row3\" class=\"row_heading level0 row3\" >3</th>\n",
       "                        <td id=\"T_2103346c_ccea_11eb_849d_02420a39b592row3_col0\" class=\"data row3 col0\" >303</td>\n",
       "                        <td id=\"T_2103346c_ccea_11eb_849d_02420a39b592row3_col1\" class=\"data row3 col1\" >27</td>\n",
       "                        <td id=\"T_2103346c_ccea_11eb_849d_02420a39b592row3_col2\" class=\"data row3 col2\" >8.18%</td>\n",
       "                        <td id=\"T_2103346c_ccea_11eb_849d_02420a39b592row3_col3\" class=\"data row3 col3\" >330</td>\n",
       "            </tr>\n",
       "            <tr>\n",
       "                        <th id=\"T_2103346c_ccea_11eb_849d_02420a39b592level0_row4\" class=\"row_heading level0 row4\" >4</th>\n",
       "                        <td id=\"T_2103346c_ccea_11eb_849d_02420a39b592row4_col0\" class=\"data row4 col0\" >37</td>\n",
       "                        <td id=\"T_2103346c_ccea_11eb_849d_02420a39b592row4_col1\" class=\"data row4 col1\" >4</td>\n",
       "                        <td id=\"T_2103346c_ccea_11eb_849d_02420a39b592row4_col2\" class=\"data row4 col2\" >9.76%</td>\n",
       "                        <td id=\"T_2103346c_ccea_11eb_849d_02420a39b592row4_col3\" class=\"data row4 col3\" >41</td>\n",
       "            </tr>\n",
       "            <tr>\n",
       "                        <th id=\"T_2103346c_ccea_11eb_849d_02420a39b592level0_row5\" class=\"row_heading level0 row5\" >5</th>\n",
       "                        <td id=\"T_2103346c_ccea_11eb_849d_02420a39b592row5_col0\" class=\"data row5 col0\" >9</td>\n",
       "                        <td id=\"T_2103346c_ccea_11eb_849d_02420a39b592row5_col1\" class=\"data row5 col1\" >nan</td>\n",
       "                        <td id=\"T_2103346c_ccea_11eb_849d_02420a39b592row5_col2\" class=\"data row5 col2\" >nan%</td>\n",
       "                        <td id=\"T_2103346c_ccea_11eb_849d_02420a39b592row5_col3\" class=\"data row5 col3\" >9</td>\n",
       "            </tr>\n",
       "    </tbody></table>"
      ],
      "text/plain": [
       "<pandas.io.formats.style.Styler at 0x7f78e98febd0>"
      ]
     },
     "execution_count": 16,
     "metadata": {},
     "output_type": "execute_result"
    }
   ],
   "source": [
    "# создала сводную таблицу, в которой считается количество должников и их процент. Данные сгрупированы по категории 'children'\n",
    "data_pivot = data.pivot_table(index = ['children'], columns = 'debt' , values = 'total_income', aggfunc = 'count')\n",
    "data_pivot.columns = ['no_debt', 'debt']\n",
    "data_pivot['%'] = data_pivot['debt'] / (data_pivot['debt'] + data_pivot['no_debt']) #исправила вычисления\n",
    "data_pivot['quantity'] = data['children'].value_counts()\n",
    "data_pivot.style.format({'%':'{:.2%}', 'no_debt':'{:.0f}'})\n"
   ]
  },
  {
   "cell_type": "markdown",
   "metadata": {},
   "source": [
    "### Вывод"
   ]
  },
  {
   "cell_type": "markdown",
   "metadata": {},
   "source": [
    "Судя по полученным данным, нет прямой зависимости между количеством детей и возвращением кредитов в срок. Но можно заметить, что семьи, где много детей достаточно порядочные кредиторы. "
   ]
  },
  {
   "cell_type": "markdown",
   "metadata": {},
   "source": [
    "- Есть ли зависимость между семейным положением и возвратом кредита в срок?"
   ]
  },
  {
   "cell_type": "code",
   "execution_count": 17,
   "metadata": {},
   "outputs": [
    {
     "data": {
      "text/html": [
       "<style  type=\"text/css\" >\n",
       "</style><table id=\"T_2109f824_ccea_11eb_849d_02420a39b592\" ><thead>    <tr>        <th class=\"blank level0\" ></th>        <th class=\"col_heading level0 col0\" >no_debt</th>        <th class=\"col_heading level0 col1\" >debt</th>        <th class=\"col_heading level0 col2\" >%</th>        <th class=\"col_heading level0 col3\" >quantity</th>    </tr>    <tr>        <th class=\"index_name level0\" >family_status</th>        <th class=\"blank\" ></th>        <th class=\"blank\" ></th>        <th class=\"blank\" ></th>        <th class=\"blank\" ></th>    </tr></thead><tbody>\n",
       "                <tr>\n",
       "                        <th id=\"T_2109f824_ccea_11eb_849d_02420a39b592level0_row0\" class=\"row_heading level0 row0\" >Не женат / не замужем</th>\n",
       "                        <td id=\"T_2109f824_ccea_11eb_849d_02420a39b592row0_col0\" class=\"data row0 col0\" >2536</td>\n",
       "                        <td id=\"T_2109f824_ccea_11eb_849d_02420a39b592row0_col1\" class=\"data row0 col1\" >274</td>\n",
       "                        <td id=\"T_2109f824_ccea_11eb_849d_02420a39b592row0_col2\" class=\"data row0 col2\" >9.75%</td>\n",
       "                        <td id=\"T_2109f824_ccea_11eb_849d_02420a39b592row0_col3\" class=\"data row0 col3\" >2810</td>\n",
       "            </tr>\n",
       "            <tr>\n",
       "                        <th id=\"T_2109f824_ccea_11eb_849d_02420a39b592level0_row1\" class=\"row_heading level0 row1\" >в разводе</th>\n",
       "                        <td id=\"T_2109f824_ccea_11eb_849d_02420a39b592row1_col0\" class=\"data row1 col0\" >1110</td>\n",
       "                        <td id=\"T_2109f824_ccea_11eb_849d_02420a39b592row1_col1\" class=\"data row1 col1\" >85</td>\n",
       "                        <td id=\"T_2109f824_ccea_11eb_849d_02420a39b592row1_col2\" class=\"data row1 col2\" >7.11%</td>\n",
       "                        <td id=\"T_2109f824_ccea_11eb_849d_02420a39b592row1_col3\" class=\"data row1 col3\" >1195</td>\n",
       "            </tr>\n",
       "            <tr>\n",
       "                        <th id=\"T_2109f824_ccea_11eb_849d_02420a39b592level0_row2\" class=\"row_heading level0 row2\" >вдовец / вдова</th>\n",
       "                        <td id=\"T_2109f824_ccea_11eb_849d_02420a39b592row2_col0\" class=\"data row2 col0\" >896</td>\n",
       "                        <td id=\"T_2109f824_ccea_11eb_849d_02420a39b592row2_col1\" class=\"data row2 col1\" >63</td>\n",
       "                        <td id=\"T_2109f824_ccea_11eb_849d_02420a39b592row2_col2\" class=\"data row2 col2\" >6.57%</td>\n",
       "                        <td id=\"T_2109f824_ccea_11eb_849d_02420a39b592row2_col3\" class=\"data row2 col3\" >959</td>\n",
       "            </tr>\n",
       "            <tr>\n",
       "                        <th id=\"T_2109f824_ccea_11eb_849d_02420a39b592level0_row3\" class=\"row_heading level0 row3\" >гражданский брак</th>\n",
       "                        <td id=\"T_2109f824_ccea_11eb_849d_02420a39b592row3_col0\" class=\"data row3 col0\" >3763</td>\n",
       "                        <td id=\"T_2109f824_ccea_11eb_849d_02420a39b592row3_col1\" class=\"data row3 col1\" >388</td>\n",
       "                        <td id=\"T_2109f824_ccea_11eb_849d_02420a39b592row3_col2\" class=\"data row3 col2\" >9.35%</td>\n",
       "                        <td id=\"T_2109f824_ccea_11eb_849d_02420a39b592row3_col3\" class=\"data row3 col3\" >4151</td>\n",
       "            </tr>\n",
       "            <tr>\n",
       "                        <th id=\"T_2109f824_ccea_11eb_849d_02420a39b592level0_row4\" class=\"row_heading level0 row4\" >женат / замужем</th>\n",
       "                        <td id=\"T_2109f824_ccea_11eb_849d_02420a39b592row4_col0\" class=\"data row4 col0\" >11408</td>\n",
       "                        <td id=\"T_2109f824_ccea_11eb_849d_02420a39b592row4_col1\" class=\"data row4 col1\" >931</td>\n",
       "                        <td id=\"T_2109f824_ccea_11eb_849d_02420a39b592row4_col2\" class=\"data row4 col2\" >7.55%</td>\n",
       "                        <td id=\"T_2109f824_ccea_11eb_849d_02420a39b592row4_col3\" class=\"data row4 col3\" >12339</td>\n",
       "            </tr>\n",
       "    </tbody></table>"
      ],
      "text/plain": [
       "<pandas.io.formats.style.Styler at 0x7f792b761850>"
      ]
     },
     "execution_count": 17,
     "metadata": {},
     "output_type": "execute_result"
    }
   ],
   "source": [
    "# создала сводную таблицу, в которой считается количество должников и их процент. Данные сгрупированы по категории 'family_status'\n",
    "data_pivot_1 = data.pivot_table(index = ['family_status'], columns = 'debt' , values = 'total_income', aggfunc = 'count')\n",
    "data_pivot_1.columns = ['no_debt', 'debt']\n",
    "data_pivot_1['%'] = data_pivot_1['debt'] / (data_pivot_1['debt'] + data_pivot_1['no_debt']) #исправила вычисления\n",
    "data_pivot_1['quantity'] = data['family_status'].value_counts()\n",
    "data_pivot_1.style.format({'%':'{:.2%}', 'no_debt':'{:.0f}'})\n"
   ]
  },
  {
   "cell_type": "markdown",
   "metadata": {},
   "source": [
    "### Вывод"
   ]
  },
  {
   "cell_type": "markdown",
   "metadata": {},
   "source": [
    "Возраст вдовцов/вдов в среднем больше, как и их способность врзвращать кредиты. Люди, которые состоят в браке или разведены, более ответственны в плане возврата кредитов. "
   ]
  },
  {
   "cell_type": "markdown",
   "metadata": {},
   "source": [
    "- Есть ли зависимость между уровнем дохода и возвратом кредита в срок?"
   ]
  },
  {
   "cell_type": "code",
   "execution_count": 18,
   "metadata": {},
   "outputs": [
    {
     "data": {
      "text/html": [
       "<style  type=\"text/css\" >\n",
       "</style><table id=\"T_211112b2_ccea_11eb_849d_02420a39b592\" ><thead>    <tr>        <th class=\"blank level0\" ></th>        <th class=\"col_heading level0 col0\" >no_debt</th>        <th class=\"col_heading level0 col1\" >debt</th>        <th class=\"col_heading level0 col2\" >%</th>        <th class=\"col_heading level0 col3\" >quantity</th>    </tr>    <tr>        <th class=\"index_name level0\" >income_group</th>        <th class=\"blank\" ></th>        <th class=\"blank\" ></th>        <th class=\"blank\" ></th>        <th class=\"blank\" ></th>    </tr></thead><tbody>\n",
       "                <tr>\n",
       "                        <th id=\"T_211112b2_ccea_11eb_849d_02420a39b592level0_row0\" class=\"row_heading level0 row0\" >высокий доход</th>\n",
       "                        <td id=\"T_211112b2_ccea_11eb_849d_02420a39b592row0_col0\" class=\"data row0 col0\" >39</td>\n",
       "                        <td id=\"T_211112b2_ccea_11eb_849d_02420a39b592row0_col1\" class=\"data row0 col1\" >4</td>\n",
       "                        <td id=\"T_211112b2_ccea_11eb_849d_02420a39b592row0_col2\" class=\"data row0 col2\" >9.30%</td>\n",
       "                        <td id=\"T_211112b2_ccea_11eb_849d_02420a39b592row0_col3\" class=\"data row0 col3\" >43</td>\n",
       "            </tr>\n",
       "            <tr>\n",
       "                        <th id=\"T_211112b2_ccea_11eb_849d_02420a39b592level0_row1\" class=\"row_heading level0 row1\" >низкий доход</th>\n",
       "                        <td id=\"T_211112b2_ccea_11eb_849d_02420a39b592row1_col0\" class=\"data row1 col0\" >349</td>\n",
       "                        <td id=\"T_211112b2_ccea_11eb_849d_02420a39b592row1_col1\" class=\"data row1 col1\" >23</td>\n",
       "                        <td id=\"T_211112b2_ccea_11eb_849d_02420a39b592row1_col2\" class=\"data row1 col2\" >6.18%</td>\n",
       "                        <td id=\"T_211112b2_ccea_11eb_849d_02420a39b592row1_col3\" class=\"data row1 col3\" >372</td>\n",
       "            </tr>\n",
       "            <tr>\n",
       "                        <th id=\"T_211112b2_ccea_11eb_849d_02420a39b592level0_row2\" class=\"row_heading level0 row2\" >средний доход</th>\n",
       "                        <td id=\"T_211112b2_ccea_11eb_849d_02420a39b592row2_col0\" class=\"data row2 col0\" >19325</td>\n",
       "                        <td id=\"T_211112b2_ccea_11eb_849d_02420a39b592row2_col1\" class=\"data row2 col1\" >1714</td>\n",
       "                        <td id=\"T_211112b2_ccea_11eb_849d_02420a39b592row2_col2\" class=\"data row2 col2\" >8.15%</td>\n",
       "                        <td id=\"T_211112b2_ccea_11eb_849d_02420a39b592row2_col3\" class=\"data row2 col3\" >21039</td>\n",
       "            </tr>\n",
       "    </tbody></table>"
      ],
      "text/plain": [
       "<pandas.io.formats.style.Styler at 0x7f792bfb5210>"
      ]
     },
     "execution_count": 18,
     "metadata": {},
     "output_type": "execute_result"
    }
   ],
   "source": [
    "# создала сводную таблицу, в которой считается количество должников и их процент. Данные сгрупированы по категории 'income_group'\n",
    "data_pivot_2 = data.pivot_table(index = ['income_group'], columns = 'debt' , values = 'total_income', aggfunc = 'count')\n",
    "data_pivot_2.columns = ['no_debt', 'debt']\n",
    "data_pivot_2['%'] = data_pivot_2['debt'] / (data_pivot_2['debt'] + data_pivot_2['no_debt']) #исправила вычисления\n",
    "data_pivot_2['quantity'] = data['income_group'].value_counts()\n",
    "data_pivot_2.style.format({'%':'{:.2%}', 'no_debt':'{:.0f}'})"
   ]
  },
  {
   "cell_type": "markdown",
   "metadata": {},
   "source": [
    "### Вывод"
   ]
  },
  {
   "cell_type": "markdown",
   "metadata": {},
   "source": [
    "Люди с низким доходом возвращают кредиты в срок значительно лучше, чем люди с большим достатком."
   ]
  },
  {
   "cell_type": "markdown",
   "metadata": {},
   "source": [
    "<div class=\"alert alert-info\" role=\"alert\">\n",
    "  Клиентов со средний доходом чаще всего берут кредиты. Но лучше всего их вохвращают люди с  низким достатком. Возможно, они внимательнее относятся к своим финансам.\n",
    "</div>"
   ]
  },
  {
   "cell_type": "markdown",
   "metadata": {},
   "source": [
    "- Как разные цели кредита влияют на его возврат в срок?"
   ]
  },
  {
   "cell_type": "code",
   "execution_count": 19,
   "metadata": {},
   "outputs": [
    {
     "data": {
      "text/html": [
       "<style  type=\"text/css\" >\n",
       "</style><table id=\"T_21165510_ccea_11eb_849d_02420a39b592\" ><thead>    <tr>        <th class=\"blank level0\" ></th>        <th class=\"col_heading level0 col0\" >no_debt</th>        <th class=\"col_heading level0 col1\" >debt</th>        <th class=\"col_heading level0 col2\" >%</th>        <th class=\"col_heading level0 col3\" >quantity</th>    </tr>    <tr>        <th class=\"index_name level0\" >purpose_short</th>        <th class=\"blank\" ></th>        <th class=\"blank\" ></th>        <th class=\"blank\" ></th>        <th class=\"blank\" ></th>    </tr></thead><tbody>\n",
       "                <tr>\n",
       "                        <th id=\"T_21165510_ccea_11eb_849d_02420a39b592level0_row0\" class=\"row_heading level0 row0\" >автомобиль</th>\n",
       "                        <td id=\"T_21165510_ccea_11eb_849d_02420a39b592row0_col0\" class=\"data row0 col0\" >3903</td>\n",
       "                        <td id=\"T_21165510_ccea_11eb_849d_02420a39b592row0_col1\" class=\"data row0 col1\" >403</td>\n",
       "                        <td id=\"T_21165510_ccea_11eb_849d_02420a39b592row0_col2\" class=\"data row0 col2\" >9.36%</td>\n",
       "                        <td id=\"T_21165510_ccea_11eb_849d_02420a39b592row0_col3\" class=\"data row0 col3\" >4306</td>\n",
       "            </tr>\n",
       "            <tr>\n",
       "                        <th id=\"T_21165510_ccea_11eb_849d_02420a39b592level0_row1\" class=\"row_heading level0 row1\" >недвижимость</th>\n",
       "                        <td id=\"T_21165510_ccea_11eb_849d_02420a39b592row1_col0\" class=\"data row1 col0\" >10029</td>\n",
       "                        <td id=\"T_21165510_ccea_11eb_849d_02420a39b592row1_col1\" class=\"data row1 col1\" >782</td>\n",
       "                        <td id=\"T_21165510_ccea_11eb_849d_02420a39b592row1_col2\" class=\"data row1 col2\" >7.23%</td>\n",
       "                        <td id=\"T_21165510_ccea_11eb_849d_02420a39b592row1_col3\" class=\"data row1 col3\" >10811</td>\n",
       "            </tr>\n",
       "            <tr>\n",
       "                        <th id=\"T_21165510_ccea_11eb_849d_02420a39b592level0_row2\" class=\"row_heading level0 row2\" >образование</th>\n",
       "                        <td id=\"T_21165510_ccea_11eb_849d_02420a39b592row2_col0\" class=\"data row2 col0\" >3643</td>\n",
       "                        <td id=\"T_21165510_ccea_11eb_849d_02420a39b592row2_col1\" class=\"data row2 col1\" >370</td>\n",
       "                        <td id=\"T_21165510_ccea_11eb_849d_02420a39b592row2_col2\" class=\"data row2 col2\" >9.22%</td>\n",
       "                        <td id=\"T_21165510_ccea_11eb_849d_02420a39b592row2_col3\" class=\"data row2 col3\" >4013</td>\n",
       "            </tr>\n",
       "            <tr>\n",
       "                        <th id=\"T_21165510_ccea_11eb_849d_02420a39b592level0_row3\" class=\"row_heading level0 row3\" >свадьба</th>\n",
       "                        <td id=\"T_21165510_ccea_11eb_849d_02420a39b592row3_col0\" class=\"data row3 col0\" >2138</td>\n",
       "                        <td id=\"T_21165510_ccea_11eb_849d_02420a39b592row3_col1\" class=\"data row3 col1\" >186</td>\n",
       "                        <td id=\"T_21165510_ccea_11eb_849d_02420a39b592row3_col2\" class=\"data row3 col2\" >8.00%</td>\n",
       "                        <td id=\"T_21165510_ccea_11eb_849d_02420a39b592row3_col3\" class=\"data row3 col3\" >2324</td>\n",
       "            </tr>\n",
       "    </tbody></table>"
      ],
      "text/plain": [
       "<pandas.io.formats.style.Styler at 0x7f792b3eb990>"
      ]
     },
     "execution_count": 19,
     "metadata": {},
     "output_type": "execute_result"
    }
   ],
   "source": [
    "# создала сводную таблицу, в которой считается количество должников и их процент. Данные сгрупированы по категории 'purpose'\n",
    "data_pivot_3 = data.pivot_table(index = ['purpose_short'], columns = 'debt' , values = 'total_income', aggfunc = 'count')\n",
    "data_pivot_3.columns = ['no_debt', 'debt']\n",
    "data_pivot_3['%'] = data_pivot_3['debt'] / (data_pivot_3['debt'] + data_pivot_3['no_debt']) #исправила вычисления\n",
    "data_pivot_3['quantity'] = data['purpose_short'].value_counts()\n",
    "data_pivot_3.style.format({'%':'{:.2%}', 'no_debt':'{:.0f}'})"
   ]
  },
  {
   "cell_type": "markdown",
   "metadata": {},
   "source": [
    "### Вывод"
   ]
  },
  {
   "cell_type": "markdown",
   "metadata": {},
   "source": [
    "Клиенты, которые хотят купить недвижимость, лучше следят за своей кредитной историей. "
   ]
  },
  {
   "cell_type": "markdown",
   "metadata": {},
   "source": [
    "## В ходе исследования были сделаны следующие выводы: \n",
    "    - клиенты без детей являются менее ответственными заёмщиками; \n",
    "    - клиенты, состоящие в официальном браке хуже возвращают кредиты; \n",
    "    - кредиты на свадьбу вернутся, с большей вероятность, вовремя, чем кредит на недвижимость; \n",
    "    - люди со средним образованием чаще других обращаются за кредитоми в банк.\n",
    "    \n",
    "    \n",
    "    "
   ]
  }
 ],
 "metadata": {
  "ExecuteTimeLog": [
   {
    "duration": 497,
    "start_time": "2021-06-13T10:11:47.348Z"
   },
   {
    "duration": 493,
    "start_time": "2021-06-13T10:11:50.152Z"
   },
   {
    "duration": 85,
    "start_time": "2021-06-13T10:12:06.807Z"
   },
   {
    "duration": 80,
    "start_time": "2021-06-13T10:13:44.190Z"
   },
   {
    "duration": 76,
    "start_time": "2021-06-13T10:14:25.181Z"
   },
   {
    "duration": 90,
    "start_time": "2021-06-13T10:14:30.854Z"
   },
   {
    "duration": 741,
    "start_time": "2021-06-14T08:25:44.380Z"
   },
   {
    "duration": 128,
    "start_time": "2021-06-14T08:25:45.123Z"
   },
   {
    "duration": 52,
    "start_time": "2021-06-14T08:25:45.254Z"
   },
   {
    "duration": 311,
    "start_time": "2021-06-14T08:25:45.309Z"
   },
   {
    "duration": 20,
    "start_time": "2021-06-14T08:25:45.623Z"
   },
   {
    "duration": 48,
    "start_time": "2021-06-14T08:25:45.645Z"
   },
   {
    "duration": 103,
    "start_time": "2021-06-14T08:25:45.696Z"
   },
   {
    "duration": 8,
    "start_time": "2021-06-14T08:25:45.804Z"
   },
   {
    "duration": 4442,
    "start_time": "2021-06-14T08:25:45.816Z"
   },
   {
    "duration": 25,
    "start_time": "2021-06-14T08:25:50.261Z"
   },
   {
    "duration": 23,
    "start_time": "2021-06-14T08:25:50.288Z"
   },
   {
    "duration": 16,
    "start_time": "2021-06-14T08:25:50.313Z"
   },
   {
    "duration": 107,
    "start_time": "2021-06-14T08:25:50.332Z"
   },
   {
    "duration": 13,
    "start_time": "2021-06-14T08:25:50.442Z"
   },
   {
    "duration": 40,
    "start_time": "2021-06-14T08:25:50.457Z"
   },
   {
    "duration": 829,
    "start_time": "2021-06-14T08:25:50.499Z"
   },
   {
    "duration": 38,
    "start_time": "2021-06-14T08:25:51.332Z"
   },
   {
    "duration": 44,
    "start_time": "2021-06-14T08:25:51.372Z"
   },
   {
    "duration": 32,
    "start_time": "2021-06-14T08:25:51.418Z"
   }
  ],
  "kernelspec": {
   "display_name": "Python 3",
   "language": "python",
   "name": "python3"
  },
  "language_info": {
   "codemirror_mode": {
    "name": "ipython",
    "version": 3
   },
   "file_extension": ".py",
   "mimetype": "text/x-python",
   "name": "python",
   "nbconvert_exporter": "python",
   "pygments_lexer": "ipython3",
   "version": "3.7.8"
  },
  "toc": {
   "base_numbering": 1,
   "nav_menu": {},
   "number_sections": true,
   "sideBar": true,
   "skip_h1_title": false,
   "title_cell": "Table of Contents",
   "title_sidebar": "Contents",
   "toc_cell": false,
   "toc_position": {},
   "toc_section_display": true,
   "toc_window_display": false
  }
 },
 "nbformat": 4,
 "nbformat_minor": 2
}
