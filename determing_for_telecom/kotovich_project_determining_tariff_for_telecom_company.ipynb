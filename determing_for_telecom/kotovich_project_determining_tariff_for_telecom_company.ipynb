{
 "cells": [
  {
   "cell_type": "markdown",
   "metadata": {},
   "source": [
    "# Определение перспективного тарифа для телеком компании"
   ]
  },
  {
   "cell_type": "markdown",
   "metadata": {},
   "source": [
    "## Описание проекта\n",
    "\n",
    "Выполнение задачи для оператора связи. Сущесствует два тарифных плана «Смарт» и «Ультра». Необходимо выяснить, какой тариф приносит больше денег.\n",
    "\n",
    "Есть небольшая выборка клиентов и данные о них: кто они, откуда, каким тарифом пользуются, сколько звонков и сообщений каждый отправил за 2018 год. Нужно проанализировать поведение клиентов и сделать вывод — какой тариф лучше."
   ]
  },
  {
   "cell_type": "markdown",
   "metadata": {},
   "source": [
    "## Описание данных\n",
    "\n",
    "    Таблица users (информация о пользователях):\n",
    "        user_id — уникальный идентификатор пользователя\n",
    "        first_name — имя пользователя\n",
    "        last_name — фамилия пользователя\n",
    "        age — возраст пользователя (годы)\n",
    "        reg_date — дата подключения тарифа (день, месяц, год)\n",
    "        churn_date — дата прекращения пользования тарифом (если значение пропущено, то тариф ещё действовал на момент выгрузки данных)\n",
    "        city — город проживания пользователя\n",
    "        tariff — название тарифного плана\n",
    "        \n",
    "    Таблица calls (информация о звонках):\n",
    "        id — уникальный номер звонка\n",
    "        call_date — дата звонка\n",
    "        duration — длительность звонка в минутах\n",
    "        user_id — идентификатор пользователя, сделавшего звонок\n",
    "        \n",
    "    Таблица messages (информация о сообщениях):\n",
    "        id — уникальный номер сообщения\n",
    "        message_date — дата сообщения\n",
    "        user_id — идентификатор пользователя, отправившего сообщение\n",
    "        \n",
    "    Таблица internet (информация об интернет-сессиях):\n",
    "        id — уникальный номер сессии\n",
    "        mb_used — объём потраченного за сессию интернет-трафика (в мегабайтах)\n",
    "        session_date — дата интернет-сессии\n",
    "        user_id — идентификатор пользователя\n",
    "        \n",
    "    Таблица tariffs (информация о тарифах):\n",
    "        tariff_name — название тарифа\n",
    "        rub_monthly_fee — ежемесячная абонентская плата в рублях\n",
    "        minutes_included — количество минут разговора в месяц, включённых в абонентскую плату\n",
    "        messages_included — количество сообщений в месяц, включённых в абонентскую плату\n",
    "        mb_per_month_included — объём интернет-трафика, включённого в абонентскую плату (в мегабайтах)\n",
    "        rub_per_minute — стоимость минуты разговора сверх тарифного пакета (например, если в тарифе 100 минут разговора в месяц, то со 101 минуты будет взиматься плата)\n",
    "        rub_per_message — стоимость отправки сообщения сверх тарифного пакета\n",
    "        rub_per_gb — стоимость дополнительного гигабайта интернет-трафика сверх тарифного пакета (1 гигабайт = 1024 мегабайта)"
   ]
  },
  {
   "cell_type": "markdown",
   "metadata": {},
   "source": [
    "## Выполнение проекта\n",
    "\n",
    "1. [Открыли файл с данными и изучили общую информацию](#step_1)\n",
    "\n",
    "2. [Подготовка данных](#step_2)\n",
    "    - Привели данные к нужным типам;\n",
    "    - Нашли и исправьте ошибки в данных.\n",
    "3. [Посчитать и добавить требуемые данные](#step_3)   \n",
    "    - количество сделанных звонков и израсходованных минут разговора по месяцам;\n",
    "    - количество отправленных сообщений по месяцам;\n",
    "    - объем израсходованного интернет-трафика по месяцам;\n",
    "    - помесячную выручку с каждого пользователя.\n",
    "4. [Анализ данных](#step_4) \n",
    "    - анализ количества звонков, сообщений и интернет-трафика для клиентов;\n",
    "    - анализ среднего значения звонков, сообщений, интернет-трафика;\n",
    "    - анализ среднего отклонения звонков, сообщений, интернет-трафика;\n",
    "    - анализ дисперсии звонков, сообщений, интернет-трафика.\n",
    "5. [Проверка гипотез](#step_5) \n",
    "    - средняя выручка пользователей тарифов «Ультра» и «Смарт» различается;\n",
    "    - средняя выручка пользователей из Москвы отличается от выручки пользователей из других регионов.\n",
    "6. [Общий вывод](#step_6)    "
   ]
  },
  {
   "cell_type": "markdown",
   "metadata": {},
   "source": [
    "### Импортирование библиотек и выгрузка данных"
   ]
  },
  {
   "cell_type": "code",
   "execution_count": 1,
   "metadata": {},
   "outputs": [],
   "source": [
    "import pandas as pd\n",
    "import numpy as np\n",
    "from scipy import stats as st\n",
    "import matplotlib.pyplot as plt\n",
    "import math\n",
    "import seaborn as sns\n",
    "from scipy.stats import shapiro"
   ]
  },
  {
   "cell_type": "markdown",
   "metadata": {},
   "source": [
    "Выгрузка данных <a id='step_1'></a>"
   ]
  },
  {
   "cell_type": "code",
   "execution_count": 2,
   "metadata": {},
   "outputs": [],
   "source": [
    "df_calls = pd.read_csv('')\n",
    "df_internet = pd.read_csv('')\n",
    "df_messages = pd.read_csv('')\n",
    "df_tariffs = pd.read_csv('')\n",
    "df_users = pd.read_csv('')"
   ]
  },
  {
   "cell_type": "markdown",
   "metadata": {},
   "source": [
    "### Подготовка данных"
   ]
  },
  {
   "cell_type": "markdown",
   "metadata": {},
   "source": [
    "<b>Информация о звонках</b> <a id='step_2'></a>"
   ]
  },
  {
   "cell_type": "code",
   "execution_count": 3,
   "metadata": {},
   "outputs": [
    {
     "name": "stdout",
     "output_type": "stream",
     "text": [
      "<class 'pandas.core.frame.DataFrame'>\n",
      "RangeIndex: 202607 entries, 0 to 202606\n",
      "Data columns (total 4 columns):\n",
      "id           202607 non-null object\n",
      "call_date    202607 non-null object\n",
      "duration     202607 non-null float64\n",
      "user_id      202607 non-null int64\n",
      "dtypes: float64(1), int64(1), object(2)\n",
      "memory usage: 6.2+ MB\n"
     ]
    },
    {
     "data": {
      "text/html": [
       "<div>\n",
       "<style scoped>\n",
       "    .dataframe tbody tr th:only-of-type {\n",
       "        vertical-align: middle;\n",
       "    }\n",
       "\n",
       "    .dataframe tbody tr th {\n",
       "        vertical-align: top;\n",
       "    }\n",
       "\n",
       "    .dataframe thead th {\n",
       "        text-align: right;\n",
       "    }\n",
       "</style>\n",
       "<table border=\"1\" class=\"dataframe\">\n",
       "  <thead>\n",
       "    <tr style=\"text-align: right;\">\n",
       "      <th></th>\n",
       "      <th>id</th>\n",
       "      <th>call_date</th>\n",
       "      <th>duration</th>\n",
       "      <th>user_id</th>\n",
       "    </tr>\n",
       "  </thead>\n",
       "  <tbody>\n",
       "    <tr>\n",
       "      <td>0</td>\n",
       "      <td>1000_0</td>\n",
       "      <td>2018-07-25</td>\n",
       "      <td>0.00</td>\n",
       "      <td>1000</td>\n",
       "    </tr>\n",
       "    <tr>\n",
       "      <td>1</td>\n",
       "      <td>1000_1</td>\n",
       "      <td>2018-08-17</td>\n",
       "      <td>0.00</td>\n",
       "      <td>1000</td>\n",
       "    </tr>\n",
       "    <tr>\n",
       "      <td>2</td>\n",
       "      <td>1000_2</td>\n",
       "      <td>2018-06-11</td>\n",
       "      <td>2.85</td>\n",
       "      <td>1000</td>\n",
       "    </tr>\n",
       "    <tr>\n",
       "      <td>3</td>\n",
       "      <td>1000_3</td>\n",
       "      <td>2018-09-21</td>\n",
       "      <td>13.80</td>\n",
       "      <td>1000</td>\n",
       "    </tr>\n",
       "    <tr>\n",
       "      <td>4</td>\n",
       "      <td>1000_4</td>\n",
       "      <td>2018-12-15</td>\n",
       "      <td>5.18</td>\n",
       "      <td>1000</td>\n",
       "    </tr>\n",
       "  </tbody>\n",
       "</table>\n",
       "</div>"
      ],
      "text/plain": [
       "       id   call_date  duration  user_id\n",
       "0  1000_0  2018-07-25      0.00     1000\n",
       "1  1000_1  2018-08-17      0.00     1000\n",
       "2  1000_2  2018-06-11      2.85     1000\n",
       "3  1000_3  2018-09-21     13.80     1000\n",
       "4  1000_4  2018-12-15      5.18     1000"
      ]
     },
     "execution_count": 3,
     "metadata": {},
     "output_type": "execute_result"
    }
   ],
   "source": [
    "df_calls.info()\n",
    "df_calls.head()"
   ]
  },
  {
   "cell_type": "code",
   "execution_count": 4,
   "metadata": {},
   "outputs": [
    {
     "data": {
      "text/plain": [
       "id           0\n",
       "call_date    0\n",
       "duration     0\n",
       "user_id      0\n",
       "dtype: int64"
      ]
     },
     "execution_count": 4,
     "metadata": {},
     "output_type": "execute_result"
    }
   ],
   "source": [
    "df_calls['call_date'] = pd.to_datetime(df_calls['call_date'], format = '%Y-%m-%d')\n",
    "df_calls.isna().sum()"
   ]
  },
  {
   "cell_type": "markdown",
   "metadata": {},
   "source": [
    "В датафрейме с информацией о званках пользователей нет пропусков, но есть значения типа 0.0. Их предстоит заменить.\n",
    "Также есть дата и её тип был заменён на соответствующий."
   ]
  },
  {
   "cell_type": "code",
   "execution_count": 5,
   "metadata": {},
   "outputs": [
    {
     "data": {
      "text/html": [
       "<div>\n",
       "<style scoped>\n",
       "    .dataframe tbody tr th:only-of-type {\n",
       "        vertical-align: middle;\n",
       "    }\n",
       "\n",
       "    .dataframe tbody tr th {\n",
       "        vertical-align: top;\n",
       "    }\n",
       "\n",
       "    .dataframe thead th {\n",
       "        text-align: right;\n",
       "    }\n",
       "</style>\n",
       "<table border=\"1\" class=\"dataframe\">\n",
       "  <thead>\n",
       "    <tr style=\"text-align: right;\">\n",
       "      <th></th>\n",
       "      <th>id</th>\n",
       "      <th>call_date</th>\n",
       "      <th>duration</th>\n",
       "      <th>user_id</th>\n",
       "    </tr>\n",
       "  </thead>\n",
       "  <tbody>\n",
       "    <tr>\n",
       "      <td>0</td>\n",
       "      <td>1000_0</td>\n",
       "      <td>2018-07-25</td>\n",
       "      <td>1.00</td>\n",
       "      <td>1000</td>\n",
       "    </tr>\n",
       "    <tr>\n",
       "      <td>1</td>\n",
       "      <td>1000_1</td>\n",
       "      <td>2018-08-17</td>\n",
       "      <td>1.00</td>\n",
       "      <td>1000</td>\n",
       "    </tr>\n",
       "    <tr>\n",
       "      <td>2</td>\n",
       "      <td>1000_2</td>\n",
       "      <td>2018-06-11</td>\n",
       "      <td>2.85</td>\n",
       "      <td>1000</td>\n",
       "    </tr>\n",
       "    <tr>\n",
       "      <td>3</td>\n",
       "      <td>1000_3</td>\n",
       "      <td>2018-09-21</td>\n",
       "      <td>13.80</td>\n",
       "      <td>1000</td>\n",
       "    </tr>\n",
       "    <tr>\n",
       "      <td>4</td>\n",
       "      <td>1000_4</td>\n",
       "      <td>2018-12-15</td>\n",
       "      <td>5.18</td>\n",
       "      <td>1000</td>\n",
       "    </tr>\n",
       "  </tbody>\n",
       "</table>\n",
       "</div>"
      ],
      "text/plain": [
       "       id  call_date  duration  user_id\n",
       "0  1000_0 2018-07-25      1.00     1000\n",
       "1  1000_1 2018-08-17      1.00     1000\n",
       "2  1000_2 2018-06-11      2.85     1000\n",
       "3  1000_3 2018-09-21     13.80     1000\n",
       "4  1000_4 2018-12-15      5.18     1000"
      ]
     },
     "execution_count": 5,
     "metadata": {},
     "output_type": "execute_result"
    }
   ],
   "source": [
    "# замена длительности нулевых звонков на 1\n",
    "df_calls.loc[df_calls['duration'] == 0, 'duration'] = 1\n",
    "df_calls.head()"
   ]
  },
  {
   "cell_type": "markdown",
   "metadata": {},
   "source": [
    "Заменили нулевые значения на 1, так как считаем, что провайдер округляет в большую сторону."
   ]
  },
  {
   "cell_type": "markdown",
   "metadata": {},
   "source": [
    "<b>Информация об интернет-сессиях</b>"
   ]
  },
  {
   "cell_type": "code",
   "execution_count": 6,
   "metadata": {},
   "outputs": [
    {
     "name": "stdout",
     "output_type": "stream",
     "text": [
      "<class 'pandas.core.frame.DataFrame'>\n",
      "RangeIndex: 149396 entries, 0 to 149395\n",
      "Data columns (total 5 columns):\n",
      "Unnamed: 0      149396 non-null int64\n",
      "id              149396 non-null object\n",
      "mb_used         149396 non-null float64\n",
      "session_date    149396 non-null object\n",
      "user_id         149396 non-null int64\n",
      "dtypes: float64(1), int64(2), object(2)\n",
      "memory usage: 5.7+ MB\n"
     ]
    },
    {
     "data": {
      "text/html": [
       "<div>\n",
       "<style scoped>\n",
       "    .dataframe tbody tr th:only-of-type {\n",
       "        vertical-align: middle;\n",
       "    }\n",
       "\n",
       "    .dataframe tbody tr th {\n",
       "        vertical-align: top;\n",
       "    }\n",
       "\n",
       "    .dataframe thead th {\n",
       "        text-align: right;\n",
       "    }\n",
       "</style>\n",
       "<table border=\"1\" class=\"dataframe\">\n",
       "  <thead>\n",
       "    <tr style=\"text-align: right;\">\n",
       "      <th></th>\n",
       "      <th>Unnamed: 0</th>\n",
       "      <th>id</th>\n",
       "      <th>mb_used</th>\n",
       "      <th>session_date</th>\n",
       "      <th>user_id</th>\n",
       "    </tr>\n",
       "  </thead>\n",
       "  <tbody>\n",
       "    <tr>\n",
       "      <td>0</td>\n",
       "      <td>0</td>\n",
       "      <td>1000_0</td>\n",
       "      <td>112.95</td>\n",
       "      <td>2018-11-25</td>\n",
       "      <td>1000</td>\n",
       "    </tr>\n",
       "    <tr>\n",
       "      <td>1</td>\n",
       "      <td>1</td>\n",
       "      <td>1000_1</td>\n",
       "      <td>1052.81</td>\n",
       "      <td>2018-09-07</td>\n",
       "      <td>1000</td>\n",
       "    </tr>\n",
       "    <tr>\n",
       "      <td>2</td>\n",
       "      <td>2</td>\n",
       "      <td>1000_2</td>\n",
       "      <td>1197.26</td>\n",
       "      <td>2018-06-25</td>\n",
       "      <td>1000</td>\n",
       "    </tr>\n",
       "    <tr>\n",
       "      <td>3</td>\n",
       "      <td>3</td>\n",
       "      <td>1000_3</td>\n",
       "      <td>550.27</td>\n",
       "      <td>2018-08-22</td>\n",
       "      <td>1000</td>\n",
       "    </tr>\n",
       "    <tr>\n",
       "      <td>4</td>\n",
       "      <td>4</td>\n",
       "      <td>1000_4</td>\n",
       "      <td>302.56</td>\n",
       "      <td>2018-09-24</td>\n",
       "      <td>1000</td>\n",
       "    </tr>\n",
       "  </tbody>\n",
       "</table>\n",
       "</div>"
      ],
      "text/plain": [
       "   Unnamed: 0      id  mb_used session_date  user_id\n",
       "0           0  1000_0   112.95   2018-11-25     1000\n",
       "1           1  1000_1  1052.81   2018-09-07     1000\n",
       "2           2  1000_2  1197.26   2018-06-25     1000\n",
       "3           3  1000_3   550.27   2018-08-22     1000\n",
       "4           4  1000_4   302.56   2018-09-24     1000"
      ]
     },
     "execution_count": 6,
     "metadata": {},
     "output_type": "execute_result"
    }
   ],
   "source": [
    "df_internet.info()\n",
    "df_internet.head()"
   ]
  },
  {
   "cell_type": "code",
   "execution_count": 7,
   "metadata": {},
   "outputs": [
    {
     "data": {
      "text/plain": [
       "Unnamed: 0      0\n",
       "id              0\n",
       "mb_used         0\n",
       "session_date    0\n",
       "user_id         0\n",
       "dtype: int64"
      ]
     },
     "execution_count": 7,
     "metadata": {},
     "output_type": "execute_result"
    }
   ],
   "source": [
    "df_internet['session_date'] = pd.to_datetime(df_internet['session_date'], format = '%Y-%m-%d')\n",
    "df_internet.isnull().sum()\n",
    "#del df_internet[Unnamed: 0']"
   ]
  },
  {
   "cell_type": "markdown",
   "metadata": {},
   "source": [
    "В датафрейме с информацией об интернет-сессиях нет пропусков, но есть лишний столбец, который можно удалить(он дублирует номера строк). Есть столбец с датами, его преобразовали в соответствующий формат."
   ]
  },
  {
   "cell_type": "markdown",
   "metadata": {},
   "source": [
    "<b>Информация о сообщениях</b>"
   ]
  },
  {
   "cell_type": "code",
   "execution_count": 8,
   "metadata": {},
   "outputs": [
    {
     "name": "stdout",
     "output_type": "stream",
     "text": [
      "<class 'pandas.core.frame.DataFrame'>\n",
      "RangeIndex: 123036 entries, 0 to 123035\n",
      "Data columns (total 3 columns):\n",
      "id              123036 non-null object\n",
      "message_date    123036 non-null object\n",
      "user_id         123036 non-null int64\n",
      "dtypes: int64(1), object(2)\n",
      "memory usage: 2.8+ MB\n"
     ]
    },
    {
     "data": {
      "text/html": [
       "<div>\n",
       "<style scoped>\n",
       "    .dataframe tbody tr th:only-of-type {\n",
       "        vertical-align: middle;\n",
       "    }\n",
       "\n",
       "    .dataframe tbody tr th {\n",
       "        vertical-align: top;\n",
       "    }\n",
       "\n",
       "    .dataframe thead th {\n",
       "        text-align: right;\n",
       "    }\n",
       "</style>\n",
       "<table border=\"1\" class=\"dataframe\">\n",
       "  <thead>\n",
       "    <tr style=\"text-align: right;\">\n",
       "      <th></th>\n",
       "      <th>id</th>\n",
       "      <th>message_date</th>\n",
       "      <th>user_id</th>\n",
       "    </tr>\n",
       "  </thead>\n",
       "  <tbody>\n",
       "    <tr>\n",
       "      <td>0</td>\n",
       "      <td>1000_0</td>\n",
       "      <td>2018-06-27</td>\n",
       "      <td>1000</td>\n",
       "    </tr>\n",
       "    <tr>\n",
       "      <td>1</td>\n",
       "      <td>1000_1</td>\n",
       "      <td>2018-10-08</td>\n",
       "      <td>1000</td>\n",
       "    </tr>\n",
       "    <tr>\n",
       "      <td>2</td>\n",
       "      <td>1000_2</td>\n",
       "      <td>2018-08-04</td>\n",
       "      <td>1000</td>\n",
       "    </tr>\n",
       "    <tr>\n",
       "      <td>3</td>\n",
       "      <td>1000_3</td>\n",
       "      <td>2018-06-16</td>\n",
       "      <td>1000</td>\n",
       "    </tr>\n",
       "    <tr>\n",
       "      <td>4</td>\n",
       "      <td>1000_4</td>\n",
       "      <td>2018-12-05</td>\n",
       "      <td>1000</td>\n",
       "    </tr>\n",
       "  </tbody>\n",
       "</table>\n",
       "</div>"
      ],
      "text/plain": [
       "       id message_date  user_id\n",
       "0  1000_0   2018-06-27     1000\n",
       "1  1000_1   2018-10-08     1000\n",
       "2  1000_2   2018-08-04     1000\n",
       "3  1000_3   2018-06-16     1000\n",
       "4  1000_4   2018-12-05     1000"
      ]
     },
     "execution_count": 8,
     "metadata": {},
     "output_type": "execute_result"
    }
   ],
   "source": [
    "df_messages.info()\n",
    "df_messages.head()"
   ]
  },
  {
   "cell_type": "code",
   "execution_count": 9,
   "metadata": {},
   "outputs": [
    {
     "data": {
      "text/plain": [
       "id              0\n",
       "message_date    0\n",
       "user_id         0\n",
       "dtype: int64"
      ]
     },
     "execution_count": 9,
     "metadata": {},
     "output_type": "execute_result"
    }
   ],
   "source": [
    "df_messages['message_date'] = pd.to_datetime(df_messages['message_date'], format = '%Y-%m-%d')\n",
    "df_messages.isnull().sum()"
   ]
  },
  {
   "cell_type": "markdown",
   "metadata": {},
   "source": [
    "В датафрейме с информацией о сообщениях нет пропусков. Есть столбец с датами, его преобразовали в соответствующий формат."
   ]
  },
  {
   "cell_type": "markdown",
   "metadata": {},
   "source": [
    "<b>Информация о тарифах</b>"
   ]
  },
  {
   "cell_type": "code",
   "execution_count": 10,
   "metadata": {},
   "outputs": [
    {
     "name": "stdout",
     "output_type": "stream",
     "text": [
      "<class 'pandas.core.frame.DataFrame'>\n",
      "RangeIndex: 2 entries, 0 to 1\n",
      "Data columns (total 8 columns):\n",
      "messages_included        2 non-null int64\n",
      "mb_per_month_included    2 non-null int64\n",
      "minutes_included         2 non-null int64\n",
      "rub_monthly_fee          2 non-null int64\n",
      "rub_per_gb               2 non-null int64\n",
      "rub_per_message          2 non-null int64\n",
      "rub_per_minute           2 non-null int64\n",
      "tariff_name              2 non-null object\n",
      "dtypes: int64(7), object(1)\n",
      "memory usage: 256.0+ bytes\n"
     ]
    },
    {
     "data": {
      "text/html": [
       "<div>\n",
       "<style scoped>\n",
       "    .dataframe tbody tr th:only-of-type {\n",
       "        vertical-align: middle;\n",
       "    }\n",
       "\n",
       "    .dataframe tbody tr th {\n",
       "        vertical-align: top;\n",
       "    }\n",
       "\n",
       "    .dataframe thead th {\n",
       "        text-align: right;\n",
       "    }\n",
       "</style>\n",
       "<table border=\"1\" class=\"dataframe\">\n",
       "  <thead>\n",
       "    <tr style=\"text-align: right;\">\n",
       "      <th></th>\n",
       "      <th>messages_included</th>\n",
       "      <th>mb_per_month_included</th>\n",
       "      <th>minutes_included</th>\n",
       "      <th>rub_monthly_fee</th>\n",
       "      <th>rub_per_gb</th>\n",
       "      <th>rub_per_message</th>\n",
       "      <th>rub_per_minute</th>\n",
       "      <th>tariff_name</th>\n",
       "    </tr>\n",
       "  </thead>\n",
       "  <tbody>\n",
       "    <tr>\n",
       "      <td>0</td>\n",
       "      <td>50</td>\n",
       "      <td>15360</td>\n",
       "      <td>500</td>\n",
       "      <td>550</td>\n",
       "      <td>200</td>\n",
       "      <td>3</td>\n",
       "      <td>3</td>\n",
       "      <td>smart</td>\n",
       "    </tr>\n",
       "    <tr>\n",
       "      <td>1</td>\n",
       "      <td>1000</td>\n",
       "      <td>30720</td>\n",
       "      <td>3000</td>\n",
       "      <td>1950</td>\n",
       "      <td>150</td>\n",
       "      <td>1</td>\n",
       "      <td>1</td>\n",
       "      <td>ultra</td>\n",
       "    </tr>\n",
       "  </tbody>\n",
       "</table>\n",
       "</div>"
      ],
      "text/plain": [
       "   messages_included  mb_per_month_included  minutes_included  \\\n",
       "0                 50                  15360               500   \n",
       "1               1000                  30720              3000   \n",
       "\n",
       "   rub_monthly_fee  rub_per_gb  rub_per_message  rub_per_minute tariff_name  \n",
       "0              550         200                3               3       smart  \n",
       "1             1950         150                1               1       ultra  "
      ]
     },
     "execution_count": 10,
     "metadata": {},
     "output_type": "execute_result"
    }
   ],
   "source": [
    "df_tariffs.info()\n",
    "df_tariffs.head()"
   ]
  },
  {
   "cell_type": "markdown",
   "metadata": {},
   "source": [
    "В датафрейме с информацией о тарифах всё хорошо."
   ]
  },
  {
   "cell_type": "markdown",
   "metadata": {},
   "source": [
    "<b>Информация о пользователях</b>"
   ]
  },
  {
   "cell_type": "code",
   "execution_count": 11,
   "metadata": {},
   "outputs": [
    {
     "name": "stdout",
     "output_type": "stream",
     "text": [
      "<class 'pandas.core.frame.DataFrame'>\n",
      "RangeIndex: 500 entries, 0 to 499\n",
      "Data columns (total 8 columns):\n",
      "user_id       500 non-null int64\n",
      "age           500 non-null int64\n",
      "churn_date    38 non-null object\n",
      "city          500 non-null object\n",
      "first_name    500 non-null object\n",
      "last_name     500 non-null object\n",
      "reg_date      500 non-null object\n",
      "tariff        500 non-null object\n",
      "dtypes: int64(2), object(6)\n",
      "memory usage: 31.4+ KB\n"
     ]
    },
    {
     "data": {
      "text/html": [
       "<div>\n",
       "<style scoped>\n",
       "    .dataframe tbody tr th:only-of-type {\n",
       "        vertical-align: middle;\n",
       "    }\n",
       "\n",
       "    .dataframe tbody tr th {\n",
       "        vertical-align: top;\n",
       "    }\n",
       "\n",
       "    .dataframe thead th {\n",
       "        text-align: right;\n",
       "    }\n",
       "</style>\n",
       "<table border=\"1\" class=\"dataframe\">\n",
       "  <thead>\n",
       "    <tr style=\"text-align: right;\">\n",
       "      <th></th>\n",
       "      <th>user_id</th>\n",
       "      <th>age</th>\n",
       "      <th>churn_date</th>\n",
       "      <th>city</th>\n",
       "      <th>first_name</th>\n",
       "      <th>last_name</th>\n",
       "      <th>reg_date</th>\n",
       "      <th>tariff</th>\n",
       "    </tr>\n",
       "  </thead>\n",
       "  <tbody>\n",
       "    <tr>\n",
       "      <td>0</td>\n",
       "      <td>1000</td>\n",
       "      <td>52</td>\n",
       "      <td>NaN</td>\n",
       "      <td>Краснодар</td>\n",
       "      <td>Рафаил</td>\n",
       "      <td>Верещагин</td>\n",
       "      <td>2018-05-25</td>\n",
       "      <td>ultra</td>\n",
       "    </tr>\n",
       "    <tr>\n",
       "      <td>1</td>\n",
       "      <td>1001</td>\n",
       "      <td>41</td>\n",
       "      <td>NaN</td>\n",
       "      <td>Москва</td>\n",
       "      <td>Иван</td>\n",
       "      <td>Ежов</td>\n",
       "      <td>2018-11-01</td>\n",
       "      <td>smart</td>\n",
       "    </tr>\n",
       "    <tr>\n",
       "      <td>2</td>\n",
       "      <td>1002</td>\n",
       "      <td>59</td>\n",
       "      <td>NaN</td>\n",
       "      <td>Стерлитамак</td>\n",
       "      <td>Евгений</td>\n",
       "      <td>Абрамович</td>\n",
       "      <td>2018-06-17</td>\n",
       "      <td>smart</td>\n",
       "    </tr>\n",
       "    <tr>\n",
       "      <td>3</td>\n",
       "      <td>1003</td>\n",
       "      <td>23</td>\n",
       "      <td>NaN</td>\n",
       "      <td>Москва</td>\n",
       "      <td>Белла</td>\n",
       "      <td>Белякова</td>\n",
       "      <td>2018-08-17</td>\n",
       "      <td>ultra</td>\n",
       "    </tr>\n",
       "    <tr>\n",
       "      <td>4</td>\n",
       "      <td>1004</td>\n",
       "      <td>68</td>\n",
       "      <td>NaN</td>\n",
       "      <td>Новокузнецк</td>\n",
       "      <td>Татьяна</td>\n",
       "      <td>Авдеенко</td>\n",
       "      <td>2018-05-14</td>\n",
       "      <td>ultra</td>\n",
       "    </tr>\n",
       "  </tbody>\n",
       "</table>\n",
       "</div>"
      ],
      "text/plain": [
       "   user_id  age churn_date         city first_name  last_name    reg_date  \\\n",
       "0     1000   52        NaN    Краснодар     Рафаил  Верещагин  2018-05-25   \n",
       "1     1001   41        NaN       Москва       Иван       Ежов  2018-11-01   \n",
       "2     1002   59        NaN  Стерлитамак    Евгений  Абрамович  2018-06-17   \n",
       "3     1003   23        NaN       Москва      Белла   Белякова  2018-08-17   \n",
       "4     1004   68        NaN  Новокузнецк    Татьяна   Авдеенко  2018-05-14   \n",
       "\n",
       "  tariff  \n",
       "0  ultra  \n",
       "1  smart  \n",
       "2  smart  \n",
       "3  ultra  \n",
       "4  ultra  "
      ]
     },
     "execution_count": 11,
     "metadata": {},
     "output_type": "execute_result"
    }
   ],
   "source": [
    "df_users.info()\n",
    "df_users.head()"
   ]
  },
  {
   "cell_type": "code",
   "execution_count": 12,
   "metadata": {},
   "outputs": [
    {
     "data": {
      "text/plain": [
       "user_id         0\n",
       "age             0\n",
       "churn_date    462\n",
       "city            0\n",
       "first_name      0\n",
       "last_name       0\n",
       "reg_date        0\n",
       "tariff          0\n",
       "dtype: int64"
      ]
     },
     "execution_count": 12,
     "metadata": {},
     "output_type": "execute_result"
    }
   ],
   "source": [
    "df_users['reg_date'] = pd.to_datetime(df_users['reg_date'], format = '%Y-%m-%d')\n",
    "df_users.isnull().sum()"
   ]
  },
  {
   "cell_type": "markdown",
   "metadata": {},
   "source": [
    "В датафрейме с информацией о пользователях есть пропуски. Есть столбец с датами, его преобразовали в соответствующий формат.\n"
   ]
  },
  {
   "cell_type": "markdown",
   "metadata": {},
   "source": [
    "### Посчитать и добавить требуемые данные"
   ]
  },
  {
   "cell_type": "markdown",
   "metadata": {},
   "source": [
    "<b>Добавили в датасеты недостающие столбцы</b> <a id='step_3'></a>"
   ]
  },
  {
   "cell_type": "code",
   "execution_count": 13,
   "metadata": {},
   "outputs": [],
   "source": [
    "# Добавление столбца с месяцами, в которые проходили операции\n",
    "df_calls['month'] = pd.DatetimeIndex(df_calls['call_date']).month\n",
    "df_internet['month'] = pd.DatetimeIndex(df_internet['session_date']).month\n",
    "df_messages['month'] = pd.DatetimeIndex(df_messages['message_date']).month"
   ]
  },
  {
   "cell_type": "code",
   "execution_count": 14,
   "metadata": {},
   "outputs": [],
   "source": [
    "df_calls['duration'] = df_calls['duration'].apply(np.ceil)\n",
    "df_internet['mb_used'] = (df_internet['mb_used'] / 1024).apply(np.ceil)"
   ]
  },
  {
   "cell_type": "code",
   "execution_count": 15,
   "metadata": {},
   "outputs": [],
   "source": [
    "# Подсчёт звонков, сообщений и интернет-трафика по месяцам для каждого клиента\n",
    "calls_grouped = df_calls.groupby(['user_id', 'month']).agg({'duration': 'sum'}).reset_index()\n",
    "internet_grouped = df_internet.groupby(['user_id', 'month']).agg({'mb_used': 'sum'}).reset_index()\n",
    "messages_grouped = df_messages.groupby(['user_id', 'month']).agg({'id':'count'}).reset_index()"
   ]
  },
  {
   "cell_type": "code",
   "execution_count": 16,
   "metadata": {},
   "outputs": [
    {
     "data": {
      "text/html": [
       "<div>\n",
       "<style scoped>\n",
       "    .dataframe tbody tr th:only-of-type {\n",
       "        vertical-align: middle;\n",
       "    }\n",
       "\n",
       "    .dataframe tbody tr th {\n",
       "        vertical-align: top;\n",
       "    }\n",
       "\n",
       "    .dataframe thead th {\n",
       "        text-align: right;\n",
       "    }\n",
       "</style>\n",
       "<table border=\"1\" class=\"dataframe\">\n",
       "  <thead>\n",
       "    <tr style=\"text-align: right;\">\n",
       "      <th></th>\n",
       "      <th>user_id</th>\n",
       "      <th>age</th>\n",
       "      <th>churn_date</th>\n",
       "      <th>city</th>\n",
       "      <th>first_name</th>\n",
       "      <th>last_name</th>\n",
       "      <th>reg_date</th>\n",
       "      <th>tariff</th>\n",
       "      <th>messages_included</th>\n",
       "      <th>mb_per_month_included</th>\n",
       "      <th>minutes_included</th>\n",
       "      <th>rub_monthly_fee</th>\n",
       "      <th>rub_per_gb</th>\n",
       "      <th>rub_per_message</th>\n",
       "      <th>rub_per_minute</th>\n",
       "      <th>tariff_name</th>\n",
       "      <th>month</th>\n",
       "      <th>duration</th>\n",
       "      <th>mb_used</th>\n",
       "      <th>id</th>\n",
       "    </tr>\n",
       "  </thead>\n",
       "  <tbody>\n",
       "    <tr>\n",
       "      <td>0</td>\n",
       "      <td>1000</td>\n",
       "      <td>52.0</td>\n",
       "      <td>NaN</td>\n",
       "      <td>Краснодар</td>\n",
       "      <td>Рафаил</td>\n",
       "      <td>Верещагин</td>\n",
       "      <td>2018-05-25</td>\n",
       "      <td>ultra</td>\n",
       "      <td>1000.0</td>\n",
       "      <td>30720.0</td>\n",
       "      <td>3000.0</td>\n",
       "      <td>1950.0</td>\n",
       "      <td>150.0</td>\n",
       "      <td>1.0</td>\n",
       "      <td>1.0</td>\n",
       "      <td>ultra</td>\n",
       "      <td>5.0</td>\n",
       "      <td>164.0</td>\n",
       "      <td>4.0</td>\n",
       "      <td>22.0</td>\n",
       "    </tr>\n",
       "    <tr>\n",
       "      <td>1</td>\n",
       "      <td>1000</td>\n",
       "      <td>52.0</td>\n",
       "      <td>NaN</td>\n",
       "      <td>Краснодар</td>\n",
       "      <td>Рафаил</td>\n",
       "      <td>Верещагин</td>\n",
       "      <td>2018-05-25</td>\n",
       "      <td>ultra</td>\n",
       "      <td>1000.0</td>\n",
       "      <td>30720.0</td>\n",
       "      <td>3000.0</td>\n",
       "      <td>1950.0</td>\n",
       "      <td>150.0</td>\n",
       "      <td>1.0</td>\n",
       "      <td>1.0</td>\n",
       "      <td>ultra</td>\n",
       "      <td>6.0</td>\n",
       "      <td>187.0</td>\n",
       "      <td>49.0</td>\n",
       "      <td>60.0</td>\n",
       "    </tr>\n",
       "    <tr>\n",
       "      <td>2</td>\n",
       "      <td>1000</td>\n",
       "      <td>52.0</td>\n",
       "      <td>NaN</td>\n",
       "      <td>Краснодар</td>\n",
       "      <td>Рафаил</td>\n",
       "      <td>Верещагин</td>\n",
       "      <td>2018-05-25</td>\n",
       "      <td>ultra</td>\n",
       "      <td>1000.0</td>\n",
       "      <td>30720.0</td>\n",
       "      <td>3000.0</td>\n",
       "      <td>1950.0</td>\n",
       "      <td>150.0</td>\n",
       "      <td>1.0</td>\n",
       "      <td>1.0</td>\n",
       "      <td>ultra</td>\n",
       "      <td>7.0</td>\n",
       "      <td>346.0</td>\n",
       "      <td>28.0</td>\n",
       "      <td>75.0</td>\n",
       "    </tr>\n",
       "    <tr>\n",
       "      <td>3</td>\n",
       "      <td>1000</td>\n",
       "      <td>52.0</td>\n",
       "      <td>NaN</td>\n",
       "      <td>Краснодар</td>\n",
       "      <td>Рафаил</td>\n",
       "      <td>Верещагин</td>\n",
       "      <td>2018-05-25</td>\n",
       "      <td>ultra</td>\n",
       "      <td>1000.0</td>\n",
       "      <td>30720.0</td>\n",
       "      <td>3000.0</td>\n",
       "      <td>1950.0</td>\n",
       "      <td>150.0</td>\n",
       "      <td>1.0</td>\n",
       "      <td>1.0</td>\n",
       "      <td>ultra</td>\n",
       "      <td>8.0</td>\n",
       "      <td>418.0</td>\n",
       "      <td>27.0</td>\n",
       "      <td>81.0</td>\n",
       "    </tr>\n",
       "    <tr>\n",
       "      <td>4</td>\n",
       "      <td>1000</td>\n",
       "      <td>52.0</td>\n",
       "      <td>NaN</td>\n",
       "      <td>Краснодар</td>\n",
       "      <td>Рафаил</td>\n",
       "      <td>Верещагин</td>\n",
       "      <td>2018-05-25</td>\n",
       "      <td>ultra</td>\n",
       "      <td>1000.0</td>\n",
       "      <td>30720.0</td>\n",
       "      <td>3000.0</td>\n",
       "      <td>1950.0</td>\n",
       "      <td>150.0</td>\n",
       "      <td>1.0</td>\n",
       "      <td>1.0</td>\n",
       "      <td>ultra</td>\n",
       "      <td>9.0</td>\n",
       "      <td>478.0</td>\n",
       "      <td>26.0</td>\n",
       "      <td>57.0</td>\n",
       "    </tr>\n",
       "  </tbody>\n",
       "</table>\n",
       "</div>"
      ],
      "text/plain": [
       "   user_id   age churn_date       city first_name  last_name   reg_date  \\\n",
       "0     1000  52.0        NaN  Краснодар     Рафаил  Верещагин 2018-05-25   \n",
       "1     1000  52.0        NaN  Краснодар     Рафаил  Верещагин 2018-05-25   \n",
       "2     1000  52.0        NaN  Краснодар     Рафаил  Верещагин 2018-05-25   \n",
       "3     1000  52.0        NaN  Краснодар     Рафаил  Верещагин 2018-05-25   \n",
       "4     1000  52.0        NaN  Краснодар     Рафаил  Верещагин 2018-05-25   \n",
       "\n",
       "  tariff  messages_included  mb_per_month_included  minutes_included  \\\n",
       "0  ultra             1000.0                30720.0            3000.0   \n",
       "1  ultra             1000.0                30720.0            3000.0   \n",
       "2  ultra             1000.0                30720.0            3000.0   \n",
       "3  ultra             1000.0                30720.0            3000.0   \n",
       "4  ultra             1000.0                30720.0            3000.0   \n",
       "\n",
       "   rub_monthly_fee  rub_per_gb  rub_per_message  rub_per_minute tariff_name  \\\n",
       "0           1950.0       150.0              1.0             1.0       ultra   \n",
       "1           1950.0       150.0              1.0             1.0       ultra   \n",
       "2           1950.0       150.0              1.0             1.0       ultra   \n",
       "3           1950.0       150.0              1.0             1.0       ultra   \n",
       "4           1950.0       150.0              1.0             1.0       ultra   \n",
       "\n",
       "   month  duration  mb_used    id  \n",
       "0    5.0     164.0      4.0  22.0  \n",
       "1    6.0     187.0     49.0  60.0  \n",
       "2    7.0     346.0     28.0  75.0  \n",
       "3    8.0     418.0     27.0  81.0  \n",
       "4    9.0     478.0     26.0  57.0  "
      ]
     },
     "execution_count": 16,
     "metadata": {},
     "output_type": "execute_result"
    }
   ],
   "source": [
    "# Объединяем дадасеты с информацией о пользователях и тарифах\n",
    "df = df_users.merge(df_tariffs, left_on = 'tariff', right_on = 'tariff_name', how = 'outer')\n",
    "# Объединяем все остальные дадасеты \n",
    "df = df.merge(calls_grouped, on = 'user_id', how = 'outer')\n",
    "df = df.merge(internet_grouped, on = ['user_id', 'month'], how = 'outer')\n",
    "df = df.merge(messages_grouped, on = ['user_id', 'month'], how = 'outer')\n",
    "df['id'] = df['id'].fillna(0)\n",
    "df['duration'] = df['duration'].fillna(0)\n",
    "df['mb_used'] = df['mb_used'].fillna(0)\n",
    "df.head()"
   ]
  },
  {
   "cell_type": "markdown",
   "metadata": {},
   "source": [
    "Создали датасет, объединяющий все необходимые нам данные по пользователям. Теперь данные в нём сгруппированы по пользователям и месяцам, посчитаны используемые ими минуты разговоров, собщения и интернет трафик."
   ]
  },
  {
   "cell_type": "code",
   "execution_count": 17,
   "metadata": {},
   "outputs": [],
   "source": [
    "# Функция определения вырукчки с клиента\n",
    "def profit(row):\n",
    "    calls_profit = (row['duration'] - row['minutes_included']) * row['rub_per_minute']\n",
    "    if calls_profit < 0 :\n",
    "        calls_profit = 0\n",
    "    messages_profit = (row['id'] - row['messages_included']) * row['rub_per_message']\n",
    "    if messages_profit < 0 :\n",
    "        messages_profit = 0\n",
    "    internet_profit = (row['mb_used'] - (row['mb_per_month_included']/1024)) * row['rub_per_gb']\n",
    "    if internet_profit < 0 :\n",
    "        internet_profit = 0    \n",
    "    return   calls_profit + messages_profit + internet_profit + row['rub_monthly_fee']"
   ]
  },
  {
   "cell_type": "code",
   "execution_count": 18,
   "metadata": {},
   "outputs": [
    {
     "data": {
      "text/html": [
       "<div>\n",
       "<style scoped>\n",
       "    .dataframe tbody tr th:only-of-type {\n",
       "        vertical-align: middle;\n",
       "    }\n",
       "\n",
       "    .dataframe tbody tr th {\n",
       "        vertical-align: top;\n",
       "    }\n",
       "\n",
       "    .dataframe thead th {\n",
       "        text-align: right;\n",
       "    }\n",
       "</style>\n",
       "<table border=\"1\" class=\"dataframe\">\n",
       "  <thead>\n",
       "    <tr style=\"text-align: right;\">\n",
       "      <th></th>\n",
       "      <th>user_id</th>\n",
       "      <th>age</th>\n",
       "      <th>churn_date</th>\n",
       "      <th>city</th>\n",
       "      <th>first_name</th>\n",
       "      <th>last_name</th>\n",
       "      <th>reg_date</th>\n",
       "      <th>tariff</th>\n",
       "      <th>messages_included</th>\n",
       "      <th>mb_per_month_included</th>\n",
       "      <th>...</th>\n",
       "      <th>rub_monthly_fee</th>\n",
       "      <th>rub_per_gb</th>\n",
       "      <th>rub_per_message</th>\n",
       "      <th>rub_per_minute</th>\n",
       "      <th>tariff_name</th>\n",
       "      <th>month</th>\n",
       "      <th>duration</th>\n",
       "      <th>mb_used</th>\n",
       "      <th>id</th>\n",
       "      <th>profit</th>\n",
       "    </tr>\n",
       "  </thead>\n",
       "  <tbody>\n",
       "    <tr>\n",
       "      <td>0</td>\n",
       "      <td>1000</td>\n",
       "      <td>52.0</td>\n",
       "      <td>NaN</td>\n",
       "      <td>Краснодар</td>\n",
       "      <td>Рафаил</td>\n",
       "      <td>Верещагин</td>\n",
       "      <td>2018-05-25</td>\n",
       "      <td>ultra</td>\n",
       "      <td>1000.0</td>\n",
       "      <td>30720.0</td>\n",
       "      <td>...</td>\n",
       "      <td>1950.0</td>\n",
       "      <td>150.0</td>\n",
       "      <td>1.0</td>\n",
       "      <td>1.0</td>\n",
       "      <td>ultra</td>\n",
       "      <td>5.0</td>\n",
       "      <td>164.0</td>\n",
       "      <td>4.0</td>\n",
       "      <td>22.0</td>\n",
       "      <td>1950.0</td>\n",
       "    </tr>\n",
       "    <tr>\n",
       "      <td>1</td>\n",
       "      <td>1000</td>\n",
       "      <td>52.0</td>\n",
       "      <td>NaN</td>\n",
       "      <td>Краснодар</td>\n",
       "      <td>Рафаил</td>\n",
       "      <td>Верещагин</td>\n",
       "      <td>2018-05-25</td>\n",
       "      <td>ultra</td>\n",
       "      <td>1000.0</td>\n",
       "      <td>30720.0</td>\n",
       "      <td>...</td>\n",
       "      <td>1950.0</td>\n",
       "      <td>150.0</td>\n",
       "      <td>1.0</td>\n",
       "      <td>1.0</td>\n",
       "      <td>ultra</td>\n",
       "      <td>6.0</td>\n",
       "      <td>187.0</td>\n",
       "      <td>49.0</td>\n",
       "      <td>60.0</td>\n",
       "      <td>4800.0</td>\n",
       "    </tr>\n",
       "    <tr>\n",
       "      <td>2</td>\n",
       "      <td>1000</td>\n",
       "      <td>52.0</td>\n",
       "      <td>NaN</td>\n",
       "      <td>Краснодар</td>\n",
       "      <td>Рафаил</td>\n",
       "      <td>Верещагин</td>\n",
       "      <td>2018-05-25</td>\n",
       "      <td>ultra</td>\n",
       "      <td>1000.0</td>\n",
       "      <td>30720.0</td>\n",
       "      <td>...</td>\n",
       "      <td>1950.0</td>\n",
       "      <td>150.0</td>\n",
       "      <td>1.0</td>\n",
       "      <td>1.0</td>\n",
       "      <td>ultra</td>\n",
       "      <td>7.0</td>\n",
       "      <td>346.0</td>\n",
       "      <td>28.0</td>\n",
       "      <td>75.0</td>\n",
       "      <td>1950.0</td>\n",
       "    </tr>\n",
       "    <tr>\n",
       "      <td>3</td>\n",
       "      <td>1000</td>\n",
       "      <td>52.0</td>\n",
       "      <td>NaN</td>\n",
       "      <td>Краснодар</td>\n",
       "      <td>Рафаил</td>\n",
       "      <td>Верещагин</td>\n",
       "      <td>2018-05-25</td>\n",
       "      <td>ultra</td>\n",
       "      <td>1000.0</td>\n",
       "      <td>30720.0</td>\n",
       "      <td>...</td>\n",
       "      <td>1950.0</td>\n",
       "      <td>150.0</td>\n",
       "      <td>1.0</td>\n",
       "      <td>1.0</td>\n",
       "      <td>ultra</td>\n",
       "      <td>8.0</td>\n",
       "      <td>418.0</td>\n",
       "      <td>27.0</td>\n",
       "      <td>81.0</td>\n",
       "      <td>1950.0</td>\n",
       "    </tr>\n",
       "    <tr>\n",
       "      <td>4</td>\n",
       "      <td>1000</td>\n",
       "      <td>52.0</td>\n",
       "      <td>NaN</td>\n",
       "      <td>Краснодар</td>\n",
       "      <td>Рафаил</td>\n",
       "      <td>Верещагин</td>\n",
       "      <td>2018-05-25</td>\n",
       "      <td>ultra</td>\n",
       "      <td>1000.0</td>\n",
       "      <td>30720.0</td>\n",
       "      <td>...</td>\n",
       "      <td>1950.0</td>\n",
       "      <td>150.0</td>\n",
       "      <td>1.0</td>\n",
       "      <td>1.0</td>\n",
       "      <td>ultra</td>\n",
       "      <td>9.0</td>\n",
       "      <td>478.0</td>\n",
       "      <td>26.0</td>\n",
       "      <td>57.0</td>\n",
       "      <td>1950.0</td>\n",
       "    </tr>\n",
       "  </tbody>\n",
       "</table>\n",
       "<p>5 rows × 21 columns</p>\n",
       "</div>"
      ],
      "text/plain": [
       "   user_id   age churn_date       city first_name  last_name   reg_date  \\\n",
       "0     1000  52.0        NaN  Краснодар     Рафаил  Верещагин 2018-05-25   \n",
       "1     1000  52.0        NaN  Краснодар     Рафаил  Верещагин 2018-05-25   \n",
       "2     1000  52.0        NaN  Краснодар     Рафаил  Верещагин 2018-05-25   \n",
       "3     1000  52.0        NaN  Краснодар     Рафаил  Верещагин 2018-05-25   \n",
       "4     1000  52.0        NaN  Краснодар     Рафаил  Верещагин 2018-05-25   \n",
       "\n",
       "  tariff  messages_included  mb_per_month_included  ...  rub_monthly_fee  \\\n",
       "0  ultra             1000.0                30720.0  ...           1950.0   \n",
       "1  ultra             1000.0                30720.0  ...           1950.0   \n",
       "2  ultra             1000.0                30720.0  ...           1950.0   \n",
       "3  ultra             1000.0                30720.0  ...           1950.0   \n",
       "4  ultra             1000.0                30720.0  ...           1950.0   \n",
       "\n",
       "   rub_per_gb  rub_per_message  rub_per_minute  tariff_name month  duration  \\\n",
       "0       150.0              1.0             1.0        ultra   5.0     164.0   \n",
       "1       150.0              1.0             1.0        ultra   6.0     187.0   \n",
       "2       150.0              1.0             1.0        ultra   7.0     346.0   \n",
       "3       150.0              1.0             1.0        ultra   8.0     418.0   \n",
       "4       150.0              1.0             1.0        ultra   9.0     478.0   \n",
       "\n",
       "   mb_used    id  profit  \n",
       "0      4.0  22.0  1950.0  \n",
       "1     49.0  60.0  4800.0  \n",
       "2     28.0  75.0  1950.0  \n",
       "3     27.0  81.0  1950.0  \n",
       "4     26.0  57.0  1950.0  \n",
       "\n",
       "[5 rows x 21 columns]"
      ]
     },
     "execution_count": 18,
     "metadata": {},
     "output_type": "execute_result"
    }
   ],
   "source": [
    "# Добавление столбца с выручкой для каждого клиента\n",
    "df['profit'] = df.apply(profit, axis = 1)\n",
    "df.head()"
   ]
  },
  {
   "cell_type": "markdown",
   "metadata": {},
   "source": [
    "В датасет добавили столбец с выручкой с каждого клиента в месяц в соответствии с его тарифом и затратами услуг.\n"
   ]
  },
  {
   "cell_type": "markdown",
   "metadata": {},
   "source": [
    "### Анализ данных"
   ]
  },
  {
   "cell_type": "markdown",
   "metadata": {},
   "source": [
    "<b>Рассчёт статистических параметров: среднее, дисперсия, стандартное отклонение</b><a id='step_4'></a>"
   ]
  },
  {
   "cell_type": "code",
   "execution_count": 19,
   "metadata": {},
   "outputs": [
    {
     "data": {
      "text/html": [
       "<style  type=\"text/css\" >\n",
       "</style><table id=\"T_e8ad3150_e3e4_11eb_ac4b_02420a3998bb\" ><thead>    <tr>        <th class=\"blank level0\" ></th>        <th class=\"col_heading level0 col0\" >duration</th>        <th class=\"col_heading level0 col1\" >mb_used</th>        <th class=\"col_heading level0 col2\" >id</th>    </tr></thead><tbody>\n",
       "                <tr>\n",
       "                        <th id=\"T_e8ad3150_e3e4_11eb_ac4b_02420a3998bblevel0_row0\" class=\"row_heading level0 row0\" >count</th>\n",
       "                        <td id=\"T_e8ad3150_e3e4_11eb_ac4b_02420a3998bbrow0_col0\" class=\"data row0 col0\" >3222.00</td>\n",
       "                        <td id=\"T_e8ad3150_e3e4_11eb_ac4b_02420a3998bbrow0_col1\" class=\"data row0 col1\" >3222.00</td>\n",
       "                        <td id=\"T_e8ad3150_e3e4_11eb_ac4b_02420a3998bbrow0_col2\" class=\"data row0 col2\" >3222.00</td>\n",
       "            </tr>\n",
       "            <tr>\n",
       "                        <th id=\"T_e8ad3150_e3e4_11eb_ac4b_02420a3998bblevel0_row1\" class=\"row_heading level0 row1\" >mean</th>\n",
       "                        <td id=\"T_e8ad3150_e3e4_11eb_ac4b_02420a3998bbrow1_col0\" class=\"data row1 col0\" >462.42</td>\n",
       "                        <td id=\"T_e8ad3150_e3e4_11eb_ac4b_02420a3998bbrow1_col1\" class=\"data row1 col1\" >41.01</td>\n",
       "                        <td id=\"T_e8ad3150_e3e4_11eb_ac4b_02420a3998bbrow1_col2\" class=\"data row1 col2\" >38.19</td>\n",
       "            </tr>\n",
       "            <tr>\n",
       "                        <th id=\"T_e8ad3150_e3e4_11eb_ac4b_02420a3998bblevel0_row2\" class=\"row_heading level0 row2\" >std</th>\n",
       "                        <td id=\"T_e8ad3150_e3e4_11eb_ac4b_02420a3998bbrow2_col0\" class=\"data row2 col0\" >248.68</td>\n",
       "                        <td id=\"T_e8ad3150_e3e4_11eb_ac4b_02420a3998bbrow2_col1\" class=\"data row2 col1\" >16.72</td>\n",
       "                        <td id=\"T_e8ad3150_e3e4_11eb_ac4b_02420a3998bbrow2_col2\" class=\"data row2 col2\" >36.15</td>\n",
       "            </tr>\n",
       "            <tr>\n",
       "                        <th id=\"T_e8ad3150_e3e4_11eb_ac4b_02420a3998bblevel0_row3\" class=\"row_heading level0 row3\" >min</th>\n",
       "                        <td id=\"T_e8ad3150_e3e4_11eb_ac4b_02420a3998bbrow3_col0\" class=\"data row3 col0\" >0.00</td>\n",
       "                        <td id=\"T_e8ad3150_e3e4_11eb_ac4b_02420a3998bbrow3_col1\" class=\"data row3 col1\" >0.00</td>\n",
       "                        <td id=\"T_e8ad3150_e3e4_11eb_ac4b_02420a3998bbrow3_col2\" class=\"data row3 col2\" >0.00</td>\n",
       "            </tr>\n",
       "            <tr>\n",
       "                        <th id=\"T_e8ad3150_e3e4_11eb_ac4b_02420a3998bblevel0_row4\" class=\"row_heading level0 row4\" >25%</th>\n",
       "                        <td id=\"T_e8ad3150_e3e4_11eb_ac4b_02420a3998bbrow4_col0\" class=\"data row4 col0\" >289.25</td>\n",
       "                        <td id=\"T_e8ad3150_e3e4_11eb_ac4b_02420a3998bbrow4_col1\" class=\"data row4 col1\" >31.00</td>\n",
       "                        <td id=\"T_e8ad3150_e3e4_11eb_ac4b_02420a3998bbrow4_col2\" class=\"data row4 col2\" >9.00</td>\n",
       "            </tr>\n",
       "            <tr>\n",
       "                        <th id=\"T_e8ad3150_e3e4_11eb_ac4b_02420a3998bblevel0_row5\" class=\"row_heading level0 row5\" >50%</th>\n",
       "                        <td id=\"T_e8ad3150_e3e4_11eb_ac4b_02420a3998bbrow5_col0\" class=\"data row5 col0\" >455.00</td>\n",
       "                        <td id=\"T_e8ad3150_e3e4_11eb_ac4b_02420a3998bbrow5_col1\" class=\"data row5 col1\" >42.00</td>\n",
       "                        <td id=\"T_e8ad3150_e3e4_11eb_ac4b_02420a3998bbrow5_col2\" class=\"data row5 col2\" >30.00</td>\n",
       "            </tr>\n",
       "            <tr>\n",
       "                        <th id=\"T_e8ad3150_e3e4_11eb_ac4b_02420a3998bblevel0_row6\" class=\"row_heading level0 row6\" >75%</th>\n",
       "                        <td id=\"T_e8ad3150_e3e4_11eb_ac4b_02420a3998bbrow6_col0\" class=\"data row6 col0\" >605.00</td>\n",
       "                        <td id=\"T_e8ad3150_e3e4_11eb_ac4b_02420a3998bbrow6_col1\" class=\"data row6 col1\" >52.00</td>\n",
       "                        <td id=\"T_e8ad3150_e3e4_11eb_ac4b_02420a3998bbrow6_col2\" class=\"data row6 col2\" >57.00</td>\n",
       "            </tr>\n",
       "            <tr>\n",
       "                        <th id=\"T_e8ad3150_e3e4_11eb_ac4b_02420a3998bblevel0_row7\" class=\"row_heading level0 row7\" >max</th>\n",
       "                        <td id=\"T_e8ad3150_e3e4_11eb_ac4b_02420a3998bbrow7_col0\" class=\"data row7 col0\" >1727.00</td>\n",
       "                        <td id=\"T_e8ad3150_e3e4_11eb_ac4b_02420a3998bbrow7_col1\" class=\"data row7 col1\" >101.00</td>\n",
       "                        <td id=\"T_e8ad3150_e3e4_11eb_ac4b_02420a3998bbrow7_col2\" class=\"data row7 col2\" >224.00</td>\n",
       "            </tr>\n",
       "    </tbody></table>"
      ],
      "text/plain": [
       "<pandas.io.formats.style.Styler at 0x7f79194b7310>"
      ]
     },
     "execution_count": 19,
     "metadata": {},
     "output_type": "execute_result"
    }
   ],
   "source": [
    "# Статистические параметры по всему дадасету\n",
    "df[['duration','mb_used','id']].describe().style.format('{:.2f}')"
   ]
  },
  {
   "cell_type": "markdown",
   "metadata": {},
   "source": [
    "В среднем на разговоры в месяц у людей уходит около 462 минут, 41Гб. интернет-трафика, 38 смс сообщений."
   ]
  },
  {
   "cell_type": "code",
   "execution_count": 20,
   "metadata": {},
   "outputs": [
    {
     "data": {
      "text/html": [
       "<div>\n",
       "<style scoped>\n",
       "    .dataframe tbody tr th:only-of-type {\n",
       "        vertical-align: middle;\n",
       "    }\n",
       "\n",
       "    .dataframe tbody tr th {\n",
       "        vertical-align: top;\n",
       "    }\n",
       "\n",
       "    .dataframe thead tr th {\n",
       "        text-align: left;\n",
       "    }\n",
       "\n",
       "    .dataframe thead tr:last-of-type th {\n",
       "        text-align: right;\n",
       "    }\n",
       "</style>\n",
       "<table border=\"1\" class=\"dataframe\">\n",
       "  <thead>\n",
       "    <tr>\n",
       "      <th></th>\n",
       "      <th colspan=\"3\" halign=\"left\">duration</th>\n",
       "      <th colspan=\"3\" halign=\"left\">mb_used</th>\n",
       "      <th colspan=\"3\" halign=\"left\">id</th>\n",
       "    </tr>\n",
       "    <tr>\n",
       "      <th></th>\n",
       "      <th>var</th>\n",
       "      <th>std</th>\n",
       "      <th>mean</th>\n",
       "      <th>var</th>\n",
       "      <th>std</th>\n",
       "      <th>mean</th>\n",
       "      <th>var</th>\n",
       "      <th>std</th>\n",
       "      <th>mean</th>\n",
       "    </tr>\n",
       "    <tr>\n",
       "      <th>user_id</th>\n",
       "      <th></th>\n",
       "      <th></th>\n",
       "      <th></th>\n",
       "      <th></th>\n",
       "      <th></th>\n",
       "      <th></th>\n",
       "      <th></th>\n",
       "      <th></th>\n",
       "      <th></th>\n",
       "    </tr>\n",
       "  </thead>\n",
       "  <tbody>\n",
       "    <tr>\n",
       "      <td>1000</td>\n",
       "      <td>11330.696429</td>\n",
       "      <td>106.445744</td>\n",
       "      <td>330.125</td>\n",
       "      <td>153.142857</td>\n",
       "      <td>12.375090</td>\n",
       "      <td>26.000000</td>\n",
       "      <td>337.142857</td>\n",
       "      <td>18.361450</td>\n",
       "      <td>62.0</td>\n",
       "    </tr>\n",
       "    <tr>\n",
       "      <td>1001</td>\n",
       "      <td>98.000000</td>\n",
       "      <td>9.899495</td>\n",
       "      <td>437.000</td>\n",
       "      <td>72.000000</td>\n",
       "      <td>8.485281</td>\n",
       "      <td>41.000000</td>\n",
       "      <td>0.000000</td>\n",
       "      <td>0.000000</td>\n",
       "      <td>0.0</td>\n",
       "    </tr>\n",
       "    <tr>\n",
       "      <td>1002</td>\n",
       "      <td>2868.666667</td>\n",
       "      <td>53.559935</td>\n",
       "      <td>223.000</td>\n",
       "      <td>73.904762</td>\n",
       "      <td>8.596788</td>\n",
       "      <td>42.714286</td>\n",
       "      <td>20.333333</td>\n",
       "      <td>4.509250</td>\n",
       "      <td>10.0</td>\n",
       "    </tr>\n",
       "    <tr>\n",
       "      <td>1003</td>\n",
       "      <td>51965.200000</td>\n",
       "      <td>227.958768</td>\n",
       "      <td>782.800</td>\n",
       "      <td>25.700000</td>\n",
       "      <td>5.069517</td>\n",
       "      <td>21.200000</td>\n",
       "      <td>530.000000</td>\n",
       "      <td>23.021729</td>\n",
       "      <td>76.0</td>\n",
       "    </tr>\n",
       "    <tr>\n",
       "      <td>1004</td>\n",
       "      <td>1658.571429</td>\n",
       "      <td>40.725562</td>\n",
       "      <td>128.000</td>\n",
       "      <td>59.125000</td>\n",
       "      <td>7.689278</td>\n",
       "      <td>36.375000</td>\n",
       "      <td>669.142857</td>\n",
       "      <td>25.867796</td>\n",
       "      <td>149.0</td>\n",
       "    </tr>\n",
       "  </tbody>\n",
       "</table>\n",
       "</div>"
      ],
      "text/plain": [
       "             duration                          mb_used                        \\\n",
       "                  var         std     mean         var        std       mean   \n",
       "user_id                                                                        \n",
       "1000     11330.696429  106.445744  330.125  153.142857  12.375090  26.000000   \n",
       "1001        98.000000    9.899495  437.000   72.000000   8.485281  41.000000   \n",
       "1002      2868.666667   53.559935  223.000   73.904762   8.596788  42.714286   \n",
       "1003     51965.200000  227.958768  782.800   25.700000   5.069517  21.200000   \n",
       "1004      1658.571429   40.725562  128.000   59.125000   7.689278  36.375000   \n",
       "\n",
       "                 id                    \n",
       "                var        std   mean  \n",
       "user_id                                \n",
       "1000     337.142857  18.361450   62.0  \n",
       "1001       0.000000   0.000000    0.0  \n",
       "1002      20.333333   4.509250   10.0  \n",
       "1003     530.000000  23.021729   76.0  \n",
       "1004     669.142857  25.867796  149.0  "
      ]
     },
     "execution_count": 20,
     "metadata": {},
     "output_type": "execute_result"
    }
   ],
   "source": [
    "# Статистические параметры по каждому пользователю отдельно\n",
    "df_grouped = df.groupby(['user_id'])['duration','mb_used','id'].agg({'mean','var','std'})\n",
    "df_grouped.head()"
   ]
  },
  {
   "cell_type": "markdown",
   "metadata": {},
   "source": [
    "<b>Анализ средних значений</b>"
   ]
  },
  {
   "cell_type": "code",
   "execution_count": 21,
   "metadata": {},
   "outputs": [
    {
     "data": {
      "image/png": "[encoded data removed]",
      "text/plain": [
       "<Figure size 1080x720 with 4 Axes>"
      ]
     },
     "metadata": {
      "needs_background": "light"
     },
     "output_type": "display_data"
    }
   ],
   "source": [
    "# Группировка данных по пользователям и анализ среднего значения\n",
    "df_mean = df.groupby(['user_id'])['duration','mb_used','id'].mean()\n",
    "df_mean.hist(bins = 100, figsize = (15,10))\n",
    "plt.show()"
   ]
  },
  {
   "cell_type": "markdown",
   "metadata": {},
   "source": [
    "Среднее значение длительности звонков имеет распределение похожее на нормальное, немного смещено влево (чаще всего тратят около 440 минут в месяц).\n",
    "\n",
    "Среднее значение использования смс сообщений имеет распределение похожее на экспоненциальное (многие пользователи не используют смс сообщения).\n",
    "\n",
    "Среднее значение используемых мегабайт имеет нормальное распределение(чаще используют около 16 Гб в месяц)."
   ]
  },
  {
   "cell_type": "markdown",
   "metadata": {},
   "source": [
    "<b>Анализ стандартного отклонения</b>"
   ]
  },
  {
   "cell_type": "code",
   "execution_count": 22,
   "metadata": {},
   "outputs": [
    {
     "data": {
      "image/png": "[encoded data removed]",
      "text/plain": [
       "<Figure size 1080x720 with 4 Axes>"
      ]
     },
     "metadata": {
      "needs_background": "light"
     },
     "output_type": "display_data"
    }
   ],
   "source": [
    "# Группировка данных по пользователям и анализ стандарнтного отклонения\n",
    "df_std = df.groupby(['user_id'])['duration','mb_used','id'].std()\n",
    "df_std.hist(bins = 100, figsize = (15,10))\n",
    "plt.show()"
   ]
  },
  {
   "cell_type": "markdown",
   "metadata": {},
   "source": [
    "Стандартное отклонение длительности звонков имеет распределение похожее на нормальное, смещённое влево.\n",
    "\n",
    "Стандартное отклонение использования смс сообщений имеет распределение похожее на экспоненциальное.\n",
    "\n",
    "Стандартное отклонение используемых мегабайт имеет распределение похожее на нормальное, немного смещено влево."
   ]
  },
  {
   "cell_type": "markdown",
   "metadata": {},
   "source": [
    "<b>Анализ дисперсии</b>"
   ]
  },
  {
   "cell_type": "code",
   "execution_count": 23,
   "metadata": {},
   "outputs": [
    {
     "data": {
      "image/png": "[encoded data removed]",
      "text/plain": [
       "<Figure size 1080x720 with 4 Axes>"
      ]
     },
     "metadata": {
      "needs_background": "light"
     },
     "output_type": "display_data"
    }
   ],
   "source": [
    "# Группировка данных по пользователям и анализ дисперсии\n",
    "df_var = df.groupby(['user_id'])['duration','mb_used','id'].var()\n",
    "df_var.hist(bins = 100, figsize = (15,10))\n",
    "plt.show()"
   ]
  },
  {
   "cell_type": "markdown",
   "metadata": {},
   "source": [
    "Дисперсии по всем исследуемым столбцам имеют распределение, похожее на экспоненциальное.\n",
    "\n"
   ]
  },
  {
   "cell_type": "markdown",
   "metadata": {},
   "source": [
    "<b>Анализ выручки по тарифам</b>"
   ]
  },
  {
   "cell_type": "code",
   "execution_count": 24,
   "metadata": {},
   "outputs": [
    {
     "name": "stderr",
     "output_type": "stream",
     "text": [
      "/opt/conda/lib/python3.7/site-packages/seaborn/distributions.py:198: RuntimeWarning: Mean of empty slice.\n",
      "  line, = ax.plot(a.mean(), 0)\n",
      "/opt/conda/lib/python3.7/site-packages/numpy/core/_methods.py:170: RuntimeWarning: invalid value encountered in double_scalars\n",
      "  ret = ret.dtype.type(ret / rcount)\n",
      "/opt/conda/lib/python3.7/site-packages/numpy/lib/histograms.py:905: RuntimeWarning: invalid value encountered in true_divide\n",
      "  return n/db/n.sum(), bin_edges\n"
     ]
    },
    {
     "data": {
      "image/png": "[encoded data removed]",
      "text/plain": [
       "<Figure size 432x288 with 1 Axes>"
      ]
     },
     "metadata": {
      "needs_background": "light"
     },
     "output_type": "display_data"
    }
   ],
   "source": [
    "tariff_list = ['smart','ultra']\n",
    "for tariff in df['tariff'].unique():\n",
    "    current = df.query('tariff == @tariff')\n",
    "    sns.distplot(current['profit'], label = tariff)\n",
    "plt.legend()    \n",
    "plt.show()"
   ]
  },
  {
   "cell_type": "markdown",
   "metadata": {},
   "source": [
    "Из графика выше видно, что прибыль по тарифу ultra выше, чем по тарифу smart."
   ]
  },
  {
   "cell_type": "markdown",
   "metadata": {},
   "source": [
    "### Проверка гипотез"
   ]
  },
  {
   "cell_type": "markdown",
   "metadata": {},
   "source": [
    "<b>Формулирование гипотезы о пользователях различных тарифов и её проверка</b><a id='step_5'></a>"
   ]
  },
  {
   "cell_type": "code",
   "execution_count": 25,
   "metadata": {},
   "outputs": [],
   "source": [
    "# Разделили на два дадасета по тарифам и сгрупировали данные по пользователям и месяцам, выделили прибыль\n",
    "smart_profit = df.query('tariff == \"smart\"')['profit']\n",
    "ultra_profit = df.query('tariff == \"ultra\"')['profit']"
   ]
  },
  {
   "cell_type": "markdown",
   "metadata": {},
   "source": [
    "Нулевая гипоетеза: средняя выручка пользователей тарифов smart и ultra равны. \n",
    "\n",
    "Уровень значимости — допустимая для данной задачи вероятность ошибки первого рода, то есть того, что гипотеза на самом деле верна, но будет отвергнута процедурой проверки. Критический уровень статистической значимости alpha выбрали 0,05.\n",
    "\n",
    "Проверка выполняется с помошью критерия Стьюдента, так как есть две выборки, они независимы и надо сравнить средние значения выборок."
   ]
  },
  {
   "cell_type": "code",
   "execution_count": 26,
   "metadata": {},
   "outputs": [
    {
     "name": "stdout",
     "output_type": "stream",
     "text": [
      "p-значение: 4.6037233369168e-110\n",
      "Отвергаем нулевую гипотезу, выручка отличается\n"
     ]
    }
   ],
   "source": [
    "alpha = 0.05\n",
    "results = st.ttest_ind(ultra_profit, smart_profit)\n",
    "print('p-значение:',results.pvalue )\n",
    "if (results.pvalue < alpha):\n",
    "    print(\"Отвергаем нулевую гипотезу, выручка отличается\")\n",
    "else:\n",
    "    print(\"Не получилось отвергнуть нулевую гипотезу, выручка равна\")"
   ]
  },
  {
   "cell_type": "markdown",
   "metadata": {},
   "source": [
    "После применения теста Стьюдента смогли отвергнуть нулевую гипотезу о том, что средняя выручка по тарифам smart и ultra равны."
   ]
  },
  {
   "cell_type": "markdown",
   "metadata": {},
   "source": [
    "<b>Формулирование гипотезы о пользователях в москве и регионах</b>"
   ]
  },
  {
   "cell_type": "code",
   "execution_count": 27,
   "metadata": {},
   "outputs": [],
   "source": [
    "# Разделили на два дадасета по городам - москва и регионы\n",
    "moscow_profit = df.query('city == \"Москва\"')['profit']\n",
    "not_moscow_profit = df.query('city != \"Москва\"')['profit']\n",
    "moscow_profit = moscow_profit.fillna(0)\n",
    "not_moscow_profit = not_moscow_profit.fillna(0)"
   ]
  },
  {
   "cell_type": "markdown",
   "metadata": {},
   "source": [
    "Нулевая гипоетеза: средняя выручка пользователей в Москве и регионах равны. \n",
    "\n",
    "Уровень значимости — допустимая для данной задачи вероятность ошибки первого рода, то есть того, что гипотеза на самом деле верна, но будет отвергнута процедурой проверки. Критический уровень статистической значимости alpha выбрали 0,05.\n",
    "\n",
    "Проверка выполняется с помошью критерия Стьюдента, так как есть две выборки, они независимы и надо сравнить средние значения выборок."
   ]
  },
  {
   "cell_type": "code",
   "execution_count": 28,
   "metadata": {},
   "outputs": [
    {
     "name": "stdout",
     "output_type": "stream",
     "text": [
      "p-значение: 0.6486588944919734\n",
      "Не получилось отвергнуть нулевую гипотезу, выручка равна\n"
     ]
    }
   ],
   "source": [
    "alpha = 0.05\n",
    "results_2 = st.ttest_ind(moscow_profit, not_moscow_profit)\n",
    "print('p-значение:',results_2.pvalue )\n",
    "if (results_2.pvalue < alpha):\n",
    "    print(\"Отвергаем нулевую гипотезу, выручка отличается\")\n",
    "else:\n",
    "    print(\"Не получилось отвергнуть нулевую гипотезу, выручка равна\")"
   ]
  },
  {
   "cell_type": "markdown",
   "metadata": {},
   "source": [
    "После применения теста Стьюдента не была отклонена нулевая гипотеза о том, что выручка в Москве и регионах равна. \n",
    "\n"
   ]
  },
  {
   "cell_type": "code",
   "execution_count": 29,
   "metadata": {},
   "outputs": [
    {
     "name": "stdout",
     "output_type": "stream",
     "text": [
      "0.002916777835702478 1.3271293337937916e-29\n"
     ]
    },
    {
     "data": {
      "text/plain": [
       "<matplotlib.axes._subplots.AxesSubplot at 0x7f797ae8cf50>"
      ]
     },
     "execution_count": 29,
     "metadata": {},
     "output_type": "execute_result"
    },
    {
     "data": {
      "image/png": "[encoded data removed]",
      "text/plain": [
       "<Figure size 432x288 with 1 Axes>"
      ]
     },
     "metadata": {
      "needs_background": "light"
     },
     "output_type": "display_data"
    }
   ],
   "source": [
    "from scipy.stats import normaltest\n",
    "\n",
    "stat, p_1 = normaltest(smart_profit)\n",
    "stat, p_2 = normaltest(ultra_profit)\n",
    "print(p_1, p_2)\n",
    "smart_profit.hist(bins = 100)"
   ]
  },
  {
   "cell_type": "markdown",
   "metadata": {},
   "source": [
    "При уровне значимости 0,05 мы можем отклонить обе нулевые гипотезы, т.е. распрелеоения не имеет Гауссовскую форму."
   ]
  },
  {
   "cell_type": "code",
   "execution_count": 30,
   "metadata": {},
   "outputs": [
    {
     "name": "stdout",
     "output_type": "stream",
     "text": [
      "Дисперсии не равны\n",
      "Дисперсия смарт: 8447324.640398916\n",
      "Дисперсия ультра: 4666929.0309675895\n"
     ]
    }
   ],
   "source": [
    "if (smart_profit.var()) == (ultra_profit.var()):\n",
    "    print('Дисперсии равны')\n",
    "else:\n",
    "    print('Дисперсии не равны')\n",
    "print('Дисперсия смарт:', smart_profit.var())\n",
    "print('Дисперсия ультра:', ultra_profit.var())"
   ]
  },
  {
   "cell_type": "code",
   "execution_count": 31,
   "metadata": {},
   "outputs": [
    {
     "name": "stdout",
     "output_type": "stream",
     "text": [
      "p-значение: 9.132756067251366e-132\n",
      "Отвергаем нулевую гипотезу, выручка отличается\n"
     ]
    }
   ],
   "source": [
    "alpha = 0.05\n",
    "results = st.ttest_ind(ultra_profit, smart_profit, equal_var = False)\n",
    "print('p-значение:',results.pvalue )\n",
    "if (results.pvalue < alpha):\n",
    "    print(\"Отвергаем нулевую гипотезу, выручка отличается\")\n",
    "else:\n",
    "    print(\"Не получилось отвергнуть нулевую гипотезу, выручка равна\")"
   ]
  },
  {
   "cell_type": "markdown",
   "metadata": {},
   "source": [
    "Так как выборки достаточно большие, то результат t-теста с параметром equal_var = False не сильно отличается от результата без него."
   ]
  },
  {
   "cell_type": "markdown",
   "metadata": {},
   "source": [
    "### Общий вывод"
   ]
  },
  {
   "cell_type": "markdown",
   "metadata": {},
   "source": [
    "<a id='step_6'></a>"
   ]
  },
  {
   "cell_type": "markdown",
   "metadata": {},
   "source": [
    "В среднем клиенты используют 440 минут разговора, 16Гб интернет-трафика, 40 смс-сообщений.\n",
    "\n",
    "Тариф \"Смарт\" вполне перекрывает эти требования, а за издишки используемого интернета клиенты вынуждены будут заплатить.\n",
    "\n",
    "Тариф \"Ультра\" предоставляет услуг значительно больше, чем требуется клиентам. Они реже выходят за границы ограничений. "
   ]
  },
  {
   "cell_type": "markdown",
   "metadata": {},
   "source": [
    "Прибыль с клиентов в Москве и в регионах в среднем одинаковая, так что не имеет смысла разделять рекламные компании."
   ]
  },
  {
   "cell_type": "markdown",
   "metadata": {},
   "source": [
    "Прибыль с тарифа \"Ультра\" значительно выше, чем прибыль с тарифа \"Смарт\".\n",
    "\n"
   ]
  },
  {
   "cell_type": "code",
   "execution_count": null,
   "metadata": {},
   "outputs": [],
   "source": []
  }
 ],
 "metadata": {
  "ExecuteTimeLog": [
   {
    "duration": 1074,
    "start_time": "2021-07-13T14:16:23.566Z"
   },
   {
    "duration": 347,
    "start_time": "2021-07-13T14:16:24.642Z"
   },
   {
    "duration": 27,
    "start_time": "2021-07-13T14:16:24.991Z"
   },
   {
    "duration": 38,
    "start_time": "2021-07-13T14:16:25.019Z"
   },
   {
    "duration": 35,
    "start_time": "2021-07-13T14:16:25.059Z"
   },
   {
    "duration": 19,
    "start_time": "2021-07-13T14:16:25.096Z"
   },
   {
    "duration": 30,
    "start_time": "2021-07-13T14:16:25.116Z"
   },
   {
    "duration": 16,
    "start_time": "2021-07-13T14:16:25.148Z"
   },
   {
    "duration": 40,
    "start_time": "2021-07-13T14:16:25.165Z"
   },
   {
    "duration": 10,
    "start_time": "2021-07-13T14:16:25.206Z"
   },
   {
    "duration": 12,
    "start_time": "2021-07-13T14:16:25.217Z"
   },
   {
    "duration": 6,
    "start_time": "2021-07-13T14:16:25.230Z"
   },
   {
    "duration": 80,
    "start_time": "2021-07-13T14:16:25.237Z"
   },
   {
    "duration": 7,
    "start_time": "2021-07-13T14:16:25.318Z"
   },
   {
    "duration": 95,
    "start_time": "2021-07-13T14:16:25.327Z"
   },
   {
    "duration": 34,
    "start_time": "2021-07-13T14:16:25.424Z"
   },
   {
    "duration": 4,
    "start_time": "2021-07-13T14:16:25.459Z"
   },
   {
    "duration": 221,
    "start_time": "2021-07-13T14:16:25.465Z"
   },
   {
    "duration": 382,
    "start_time": "2021-07-13T14:16:25.688Z"
   },
   {
    "duration": 23,
    "start_time": "2021-07-13T14:16:26.072Z"
   },
   {
    "duration": 1009,
    "start_time": "2021-07-13T14:16:26.097Z"
   },
   {
    "duration": 891,
    "start_time": "2021-07-13T14:16:27.107Z"
   },
   {
    "duration": 976,
    "start_time": "2021-07-13T14:16:28.001Z"
   },
   {
    "duration": 264,
    "start_time": "2021-07-13T14:16:28.979Z"
   },
   {
    "duration": 8,
    "start_time": "2021-07-13T14:16:29.244Z"
   },
   {
    "duration": 7,
    "start_time": "2021-07-13T14:16:29.253Z"
   },
   {
    "duration": 10,
    "start_time": "2021-07-13T14:16:29.261Z"
   },
   {
    "duration": 19,
    "start_time": "2021-07-13T14:16:29.272Z"
   },
   {
    "duration": 312,
    "start_time": "2021-07-13T14:16:29.292Z"
   },
   {
    "duration": 4,
    "start_time": "2021-07-13T14:16:29.606Z"
   },
   {
    "duration": 6,
    "start_time": "2021-07-13T14:16:29.612Z"
   }
  ],
  "kernelspec": {
   "display_name": "Python 3",
   "language": "python",
   "name": "python3"
  },
  "language_info": {
   "codemirror_mode": {
    "name": "ipython",
    "version": 3
   },
   "file_extension": ".py",
   "mimetype": "text/x-python",
   "name": "python",
   "nbconvert_exporter": "python",
   "pygments_lexer": "ipython3",
   "version": "3.7.8"
  },
  "toc": {
   "base_numbering": 1,
   "nav_menu": {},
   "number_sections": true,
   "sideBar": true,
   "skip_h1_title": true,
   "title_cell": "Table of Contents",
   "title_sidebar": "Contents",
   "toc_cell": false,
   "toc_position": {},
   "toc_section_display": true,
   "toc_window_display": false
  }
 },
 "nbformat": 4,
 "nbformat_minor": 2
}
