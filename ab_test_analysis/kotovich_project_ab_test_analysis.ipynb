{
 "cells": [
  {
   "cell_type": "markdown",
   "metadata": {},
   "source": [
    "## Описание проекта"
   ]
  },
  {
   "cell_type": "markdown",
   "metadata": {},
   "source": [
    "Вы — аналитик крупного интернет-магазина. Вместе с отделом маркетинга вы подготовили список гипотез для увеличения выручки.\n",
    "\n",
    "Приоритизируйте гипотезы, запустите A/B-тест и проанализируйте результаты."
   ]
  },
  {
   "cell_type": "markdown",
   "metadata": {},
   "source": [
    "## Описание данных"
   ]
  },
  {
   "cell_type": "markdown",
   "metadata": {},
   "source": [
    "    Данные для первой части\n",
    "    Файл /datasets/hypothesis.csv.\n",
    "            * Hypothesis — краткое описание гипотезы;\n",
    "            * Reach — охват пользователей по 10-балльной шкале;\n",
    "            * Impact — влияние на пользователей по 10-балльной шкале;\n",
    "            * Confidence — уверенность в гипотезе по 10-балльной шкале;\n",
    "            * Efforts — затраты ресурсов на проверку гипотезы по 10-балльной шкале. Чем больше значение Efforts, тем дороже проверка гипотезы.\n",
    "            \n",
    "    Данные для второй части\n",
    "    Файл /datasets/orders.csv. Скачать датасет\n",
    "            * transactionId — идентификатор заказа;\n",
    "            * visitorId — идентификатор пользователя, совершившего заказ;\n",
    "            * date — дата, когда был совершён заказ;\n",
    "            * revenue — выручка заказа;\n",
    "            * group — группа A/B-теста, в которую попал заказ.\n",
    "    Файл /datasets/visitors.csv. Скачать датасет\n",
    "            * date — дата;\n",
    "            * group — группа A/B-теста;\n",
    "            * visitors — количество пользователей в указанную дату в указанной группе A/B-теста"
   ]
  },
  {
   "cell_type": "markdown",
   "metadata": {},
   "source": [
    "## План выполнения\n",
    "1. [Открытие и проверка данных](#step_1) \n",
    "2. [Приоритизация гипотез](#step_2) \n",
    "3. [Анализ A/B-теста]\n",
    "    - [Кумулятивная выручка по группам](#step_3)\n",
    "    - [Кумулятивный средний чек по группам](#step_4)\n",
    "    - [Относительное изменение кумулятивного среднего чека группы B к группе A](#step_5)\n",
    "    - [Кумулятивная конверсия по группам](#step_6)\n",
    "    - [Относительное изменение кумулятивной конверсии группы B к группе A](#step_7)\n",
    "    - [Количество заказов по пользователям](#step_8)\n",
    "    - [Стоимость заказов по пользователям](#step_9)\n",
    "    - [Статистическая значимость различий в конверсии между группами по «сырым» данным](#step_10)\n",
    "    - [Статистическая значимость различий в среднем чеке между группами по «сырым» данным](#step_11)\n",
    "    - [Статистическая значимость различий в конверсии между группами по «очищенным» данным](#step_12)\n",
    "    - [Статистическая значимость различий в среднем чеке между группами по «очищенным» данным](#step_13)\n",
    "4. [Общий вывод](#step_14)\n"
   ]
  },
  {
   "cell_type": "code",
   "execution_count": 1,
   "metadata": {},
   "outputs": [],
   "source": [
    "# импорт необходимых библиотек\n",
    "import pandas as pd\n",
    "import numpy as np\n",
    "import datetime as dt\n",
    "import matplotlib.pyplot as plt\n",
    "import math\n",
    "import seaborn as sns\n",
    "from scipy.stats import normaltest\n",
    "from scipy.stats import f_oneway\n",
    "import warnings\n",
    "warnings.filterwarnings('ignore')\n",
    "import scipy.stats as stats\n",
    "import scipy.stats as stats"
   ]
  },
  {
   "cell_type": "markdown",
   "metadata": {},
   "source": [
    "### Открытие и проверка данных"
   ]
  },
  {
   "cell_type": "code",
   "execution_count": 2,
   "metadata": {},
   "outputs": [],
   "source": [
    "# выгрузка данных\n",
    "hypothesis = pd.read_csv('')\n",
    "orders = pd.read_csv('')\n",
    "visitors = pd.read_csv('')"
   ]
  },
  {
   "cell_type": "markdown",
   "metadata": {},
   "source": [
    "<div class=\"alert alert-block alert-success\">\n",
    "<b>Комментарий ревьюера: </b>\n",
    "\n",
    "Спасибо за оглавление, импорты в начале и корректное чтение файлов /div>\n"
   ]
  },
  {
   "cell_type": "markdown",
   "metadata": {},
   "source": [
    "<a id='step_1'></a>"
   ]
  },
  {
   "cell_type": "code",
   "execution_count": 3,
   "metadata": {},
   "outputs": [
    {
     "data": {
      "text/html": [
       "<div>\n",
       "<style scoped>\n",
       "    .dataframe tbody tr th:only-of-type {\n",
       "        vertical-align: middle;\n",
       "    }\n",
       "\n",
       "    .dataframe tbody tr th {\n",
       "        vertical-align: top;\n",
       "    }\n",
       "\n",
       "    .dataframe thead th {\n",
       "        text-align: right;\n",
       "    }\n",
       "</style>\n",
       "<table border=\"1\" class=\"dataframe\">\n",
       "  <thead>\n",
       "    <tr style=\"text-align: right;\">\n",
       "      <th></th>\n",
       "      <th>Hypothesis</th>\n",
       "      <th>Reach</th>\n",
       "      <th>Impact</th>\n",
       "      <th>Confidence</th>\n",
       "      <th>Efforts</th>\n",
       "    </tr>\n",
       "  </thead>\n",
       "  <tbody>\n",
       "    <tr>\n",
       "      <td>0</td>\n",
       "      <td>Добавить два новых канала привлечения трафика,...</td>\n",
       "      <td>3</td>\n",
       "      <td>10</td>\n",
       "      <td>8</td>\n",
       "      <td>6</td>\n",
       "    </tr>\n",
       "    <tr>\n",
       "      <td>1</td>\n",
       "      <td>Запустить собственную службу доставки, что сок...</td>\n",
       "      <td>2</td>\n",
       "      <td>5</td>\n",
       "      <td>4</td>\n",
       "      <td>10</td>\n",
       "    </tr>\n",
       "    <tr>\n",
       "      <td>2</td>\n",
       "      <td>Добавить блоки рекомендаций товаров на сайт ин...</td>\n",
       "      <td>8</td>\n",
       "      <td>3</td>\n",
       "      <td>7</td>\n",
       "      <td>3</td>\n",
       "    </tr>\n",
       "    <tr>\n",
       "      <td>3</td>\n",
       "      <td>Изменить структура категорий, что увеличит кон...</td>\n",
       "      <td>8</td>\n",
       "      <td>3</td>\n",
       "      <td>3</td>\n",
       "      <td>8</td>\n",
       "    </tr>\n",
       "    <tr>\n",
       "      <td>4</td>\n",
       "      <td>Изменить цвет фона главной страницы, чтобы уве...</td>\n",
       "      <td>3</td>\n",
       "      <td>1</td>\n",
       "      <td>1</td>\n",
       "      <td>1</td>\n",
       "    </tr>\n",
       "  </tbody>\n",
       "</table>\n",
       "</div>"
      ],
      "text/plain": [
       "                                          Hypothesis  Reach  Impact  \\\n",
       "0  Добавить два новых канала привлечения трафика,...      3      10   \n",
       "1  Запустить собственную службу доставки, что сок...      2       5   \n",
       "2  Добавить блоки рекомендаций товаров на сайт ин...      8       3   \n",
       "3  Изменить структура категорий, что увеличит кон...      8       3   \n",
       "4  Изменить цвет фона главной страницы, чтобы уве...      3       1   \n",
       "\n",
       "   Confidence  Efforts  \n",
       "0           8        6  \n",
       "1           4       10  \n",
       "2           7        3  \n",
       "3           3        8  \n",
       "4           1        1  "
      ]
     },
     "execution_count": 3,
     "metadata": {},
     "output_type": "execute_result"
    }
   ],
   "source": [
    "hypothesis.head()"
   ]
  },
  {
   "cell_type": "code",
   "execution_count": 4,
   "metadata": {},
   "outputs": [
    {
     "name": "stdout",
     "output_type": "stream",
     "text": [
      "<class 'pandas.core.frame.DataFrame'>\n",
      "RangeIndex: 9 entries, 0 to 8\n",
      "Data columns (total 5 columns):\n",
      "Hypothesis    9 non-null object\n",
      "Reach         9 non-null int64\n",
      "Impact        9 non-null int64\n",
      "Confidence    9 non-null int64\n",
      "Efforts       9 non-null int64\n",
      "dtypes: int64(4), object(1)\n",
      "memory usage: 488.0+ bytes\n"
     ]
    }
   ],
   "source": [
    "hypothesis.info()"
   ]
  },
  {
   "cell_type": "markdown",
   "metadata": {},
   "source": [
    "Данные с гипотезами имеют 9 строк без пропусков. Все столбцы с корректными типами данных."
   ]
  },
  {
   "cell_type": "code",
   "execution_count": 5,
   "metadata": {},
   "outputs": [
    {
     "data": {
      "text/html": [
       "<div>\n",
       "<style scoped>\n",
       "    .dataframe tbody tr th:only-of-type {\n",
       "        vertical-align: middle;\n",
       "    }\n",
       "\n",
       "    .dataframe tbody tr th {\n",
       "        vertical-align: top;\n",
       "    }\n",
       "\n",
       "    .dataframe thead th {\n",
       "        text-align: right;\n",
       "    }\n",
       "</style>\n",
       "<table border=\"1\" class=\"dataframe\">\n",
       "  <thead>\n",
       "    <tr style=\"text-align: right;\">\n",
       "      <th></th>\n",
       "      <th>transactionId</th>\n",
       "      <th>visitorId</th>\n",
       "      <th>date</th>\n",
       "      <th>revenue</th>\n",
       "      <th>group</th>\n",
       "    </tr>\n",
       "  </thead>\n",
       "  <tbody>\n",
       "    <tr>\n",
       "      <td>0</td>\n",
       "      <td>3667963787</td>\n",
       "      <td>3312258926</td>\n",
       "      <td>2019-08-15</td>\n",
       "      <td>1650</td>\n",
       "      <td>B</td>\n",
       "    </tr>\n",
       "    <tr>\n",
       "      <td>1</td>\n",
       "      <td>2804400009</td>\n",
       "      <td>3642806036</td>\n",
       "      <td>2019-08-15</td>\n",
       "      <td>730</td>\n",
       "      <td>B</td>\n",
       "    </tr>\n",
       "    <tr>\n",
       "      <td>2</td>\n",
       "      <td>2961555356</td>\n",
       "      <td>4069496402</td>\n",
       "      <td>2019-08-15</td>\n",
       "      <td>400</td>\n",
       "      <td>A</td>\n",
       "    </tr>\n",
       "    <tr>\n",
       "      <td>3</td>\n",
       "      <td>3797467345</td>\n",
       "      <td>1196621759</td>\n",
       "      <td>2019-08-15</td>\n",
       "      <td>9759</td>\n",
       "      <td>B</td>\n",
       "    </tr>\n",
       "    <tr>\n",
       "      <td>4</td>\n",
       "      <td>2282983706</td>\n",
       "      <td>2322279887</td>\n",
       "      <td>2019-08-15</td>\n",
       "      <td>2308</td>\n",
       "      <td>B</td>\n",
       "    </tr>\n",
       "  </tbody>\n",
       "</table>\n",
       "</div>"
      ],
      "text/plain": [
       "   transactionId   visitorId        date  revenue group\n",
       "0     3667963787  3312258926  2019-08-15     1650     B\n",
       "1     2804400009  3642806036  2019-08-15      730     B\n",
       "2     2961555356  4069496402  2019-08-15      400     A\n",
       "3     3797467345  1196621759  2019-08-15     9759     B\n",
       "4     2282983706  2322279887  2019-08-15     2308     B"
      ]
     },
     "execution_count": 5,
     "metadata": {},
     "output_type": "execute_result"
    }
   ],
   "source": [
    "orders.head()"
   ]
  },
  {
   "cell_type": "code",
   "execution_count": 6,
   "metadata": {},
   "outputs": [
    {
     "name": "stdout",
     "output_type": "stream",
     "text": [
      "<class 'pandas.core.frame.DataFrame'>\n",
      "RangeIndex: 1197 entries, 0 to 1196\n",
      "Data columns (total 5 columns):\n",
      "transactionId    1197 non-null int64\n",
      "visitorId        1197 non-null int64\n",
      "date             1197 non-null object\n",
      "revenue          1197 non-null int64\n",
      "group            1197 non-null object\n",
      "dtypes: int64(3), object(2)\n",
      "memory usage: 46.9+ KB\n"
     ]
    }
   ],
   "source": [
    "orders.info()"
   ]
  },
  {
   "cell_type": "markdown",
   "metadata": {},
   "source": [
    "Данные о заказах имеют 1197 строк без пропусков. Все столбцы, кроме даты заказа, имеют корректный тип данных. Дату приведём к необходимому типу ниже."
   ]
  },
  {
   "cell_type": "code",
   "execution_count": 7,
   "metadata": {},
   "outputs": [],
   "source": [
    "# приведение даты к нужному типу\n",
    "orders['date'] = orders['date'].map(lambda x: dt.datetime.strptime(x, '%Y-%m-%d'))"
   ]
  },
  {
   "cell_type": "code",
   "execution_count": 8,
   "metadata": {},
   "outputs": [
    {
     "data": {
      "text/html": [
       "<div>\n",
       "<style scoped>\n",
       "    .dataframe tbody tr th:only-of-type {\n",
       "        vertical-align: middle;\n",
       "    }\n",
       "\n",
       "    .dataframe tbody tr th {\n",
       "        vertical-align: top;\n",
       "    }\n",
       "\n",
       "    .dataframe thead th {\n",
       "        text-align: right;\n",
       "    }\n",
       "</style>\n",
       "<table border=\"1\" class=\"dataframe\">\n",
       "  <thead>\n",
       "    <tr style=\"text-align: right;\">\n",
       "      <th></th>\n",
       "      <th>date</th>\n",
       "      <th>group</th>\n",
       "      <th>visitors</th>\n",
       "    </tr>\n",
       "  </thead>\n",
       "  <tbody>\n",
       "    <tr>\n",
       "      <td>0</td>\n",
       "      <td>2019-08-01</td>\n",
       "      <td>A</td>\n",
       "      <td>719</td>\n",
       "    </tr>\n",
       "    <tr>\n",
       "      <td>1</td>\n",
       "      <td>2019-08-02</td>\n",
       "      <td>A</td>\n",
       "      <td>619</td>\n",
       "    </tr>\n",
       "    <tr>\n",
       "      <td>2</td>\n",
       "      <td>2019-08-03</td>\n",
       "      <td>A</td>\n",
       "      <td>507</td>\n",
       "    </tr>\n",
       "    <tr>\n",
       "      <td>3</td>\n",
       "      <td>2019-08-04</td>\n",
       "      <td>A</td>\n",
       "      <td>717</td>\n",
       "    </tr>\n",
       "    <tr>\n",
       "      <td>4</td>\n",
       "      <td>2019-08-05</td>\n",
       "      <td>A</td>\n",
       "      <td>756</td>\n",
       "    </tr>\n",
       "  </tbody>\n",
       "</table>\n",
       "</div>"
      ],
      "text/plain": [
       "         date group  visitors\n",
       "0  2019-08-01     A       719\n",
       "1  2019-08-02     A       619\n",
       "2  2019-08-03     A       507\n",
       "3  2019-08-04     A       717\n",
       "4  2019-08-05     A       756"
      ]
     },
     "execution_count": 8,
     "metadata": {},
     "output_type": "execute_result"
    }
   ],
   "source": [
    "visitors.head()"
   ]
  },
  {
   "cell_type": "code",
   "execution_count": 9,
   "metadata": {},
   "outputs": [
    {
     "name": "stdout",
     "output_type": "stream",
     "text": [
      "<class 'pandas.core.frame.DataFrame'>\n",
      "RangeIndex: 62 entries, 0 to 61\n",
      "Data columns (total 3 columns):\n",
      "date        62 non-null object\n",
      "group       62 non-null object\n",
      "visitors    62 non-null int64\n",
      "dtypes: int64(1), object(2)\n",
      "memory usage: 1.6+ KB\n"
     ]
    }
   ],
   "source": [
    "visitors.info()"
   ]
  },
  {
   "cell_type": "markdown",
   "metadata": {},
   "source": [
    "Данные о посетителях имеют 62 строки без пропусков. Все столбцы, кроме даты, имеют корректный тип данных. Дату приведём к необходимому типу ниже."
   ]
  },
  {
   "cell_type": "code",
   "execution_count": 10,
   "metadata": {},
   "outputs": [],
   "source": [
    "# приведение даты к нужному типу\n",
    "visitors['date'] = visitors['date'].map(lambda x: dt.datetime.strptime(x, '%Y-%m-%d'))"
   ]
  },
  {
   "cell_type": "code",
   "execution_count": 11,
   "metadata": {},
   "outputs": [
    {
     "name": "stdout",
     "output_type": "stream",
     "text": [
      "Дубликатов в данных о гипотезах 0\n",
      "Дубликатов в данных о заказах 0\n",
      "Дубликатов в данных о поситителях 0\n"
     ]
    }
   ],
   "source": [
    "print('Дубликатов в данных о гипотезах',hypothesis.duplicated().sum())\n",
    "print('Дубликатов в данных о заказах',orders.duplicated().sum())\n",
    "print('Дубликатов в данных о поситителях',visitors.duplicated().sum())\n"
   ]
  },
  {
   "cell_type": "markdown",
   "metadata": {},
   "source": [
    "В данных отсуствуют полные дубликаты."
   ]
  },
  {
   "cell_type": "markdown",
   "metadata": {},
   "source": [
    "### Приоритизация гипотез"
   ]
  },
  {
   "cell_type": "markdown",
   "metadata": {},
   "source": [
    "<a id='step_2'></a>"
   ]
  },
  {
   "cell_type": "code",
   "execution_count": 12,
   "metadata": {},
   "outputs": [
    {
     "data": {
      "text/html": [
       "<div>\n",
       "<style scoped>\n",
       "    .dataframe tbody tr th:only-of-type {\n",
       "        vertical-align: middle;\n",
       "    }\n",
       "\n",
       "    .dataframe tbody tr th {\n",
       "        vertical-align: top;\n",
       "    }\n",
       "\n",
       "    .dataframe thead th {\n",
       "        text-align: right;\n",
       "    }\n",
       "</style>\n",
       "<table border=\"1\" class=\"dataframe\">\n",
       "  <thead>\n",
       "    <tr style=\"text-align: right;\">\n",
       "      <th></th>\n",
       "      <th>Hypothesis</th>\n",
       "      <th>ICE</th>\n",
       "      <th>Confidence</th>\n",
       "    </tr>\n",
       "  </thead>\n",
       "  <tbody>\n",
       "    <tr>\n",
       "      <td>8</td>\n",
       "      <td>Запустить акцию, дающую скидку на товар в день...</td>\n",
       "      <td>16.200000</td>\n",
       "      <td>9</td>\n",
       "    </tr>\n",
       "    <tr>\n",
       "      <td>0</td>\n",
       "      <td>Добавить два новых канала привлечения трафика,...</td>\n",
       "      <td>13.333333</td>\n",
       "      <td>8</td>\n",
       "    </tr>\n",
       "    <tr>\n",
       "      <td>7</td>\n",
       "      <td>Добавить форму подписки на все основные страни...</td>\n",
       "      <td>11.200000</td>\n",
       "      <td>8</td>\n",
       "    </tr>\n",
       "    <tr>\n",
       "      <td>6</td>\n",
       "      <td>Показать на главной странице баннеры с актуаль...</td>\n",
       "      <td>8.000000</td>\n",
       "      <td>8</td>\n",
       "    </tr>\n",
       "    <tr>\n",
       "      <td>2</td>\n",
       "      <td>Добавить блоки рекомендаций товаров на сайт ин...</td>\n",
       "      <td>7.000000</td>\n",
       "      <td>7</td>\n",
       "    </tr>\n",
       "    <tr>\n",
       "      <td>1</td>\n",
       "      <td>Запустить собственную службу доставки, что сок...</td>\n",
       "      <td>2.000000</td>\n",
       "      <td>4</td>\n",
       "    </tr>\n",
       "    <tr>\n",
       "      <td>5</td>\n",
       "      <td>Добавить страницу отзывов клиентов о магазине,...</td>\n",
       "      <td>1.333333</td>\n",
       "      <td>2</td>\n",
       "    </tr>\n",
       "    <tr>\n",
       "      <td>3</td>\n",
       "      <td>Изменить структура категорий, что увеличит кон...</td>\n",
       "      <td>1.125000</td>\n",
       "      <td>3</td>\n",
       "    </tr>\n",
       "    <tr>\n",
       "      <td>4</td>\n",
       "      <td>Изменить цвет фона главной страницы, чтобы уве...</td>\n",
       "      <td>1.000000</td>\n",
       "      <td>1</td>\n",
       "    </tr>\n",
       "  </tbody>\n",
       "</table>\n",
       "</div>"
      ],
      "text/plain": [
       "                                          Hypothesis        ICE  Confidence\n",
       "8  Запустить акцию, дающую скидку на товар в день...  16.200000           9\n",
       "0  Добавить два новых канала привлечения трафика,...  13.333333           8\n",
       "7  Добавить форму подписки на все основные страни...  11.200000           8\n",
       "6  Показать на главной странице баннеры с актуаль...   8.000000           8\n",
       "2  Добавить блоки рекомендаций товаров на сайт ин...   7.000000           7\n",
       "1  Запустить собственную службу доставки, что сок...   2.000000           4\n",
       "5  Добавить страницу отзывов клиентов о магазине,...   1.333333           2\n",
       "3  Изменить структура категорий, что увеличит кон...   1.125000           3\n",
       "4  Изменить цвет фона главной страницы, чтобы уве...   1.000000           1"
      ]
     },
     "execution_count": 12,
     "metadata": {},
     "output_type": "execute_result"
    }
   ],
   "source": [
    "hypothesis['ICE'] = hypothesis['Impact'] * hypothesis['Confidence'] / hypothesis['Efforts']\n",
    "hypothesis[['Hypothesis','ICE', 'Confidence']].sort_values(by = \"ICE\", ascending = False)"
   ]
  },
  {
   "cell_type": "code",
   "execution_count": 13,
   "metadata": {},
   "outputs": [
    {
     "data": {
      "text/html": [
       "<div>\n",
       "<style scoped>\n",
       "    .dataframe tbody tr th:only-of-type {\n",
       "        vertical-align: middle;\n",
       "    }\n",
       "\n",
       "    .dataframe tbody tr th {\n",
       "        vertical-align: top;\n",
       "    }\n",
       "\n",
       "    .dataframe thead th {\n",
       "        text-align: right;\n",
       "    }\n",
       "</style>\n",
       "<table border=\"1\" class=\"dataframe\">\n",
       "  <thead>\n",
       "    <tr style=\"text-align: right;\">\n",
       "      <th></th>\n",
       "      <th>Hypothesis</th>\n",
       "      <th>RICE</th>\n",
       "      <th>Reach</th>\n",
       "      <th>Confidence</th>\n",
       "    </tr>\n",
       "  </thead>\n",
       "  <tbody>\n",
       "    <tr>\n",
       "      <td>7</td>\n",
       "      <td>Добавить форму подписки на все основные страни...</td>\n",
       "      <td>112.0</td>\n",
       "      <td>10</td>\n",
       "      <td>8</td>\n",
       "    </tr>\n",
       "    <tr>\n",
       "      <td>2</td>\n",
       "      <td>Добавить блоки рекомендаций товаров на сайт ин...</td>\n",
       "      <td>56.0</td>\n",
       "      <td>8</td>\n",
       "      <td>7</td>\n",
       "    </tr>\n",
       "    <tr>\n",
       "      <td>0</td>\n",
       "      <td>Добавить два новых канала привлечения трафика,...</td>\n",
       "      <td>40.0</td>\n",
       "      <td>3</td>\n",
       "      <td>8</td>\n",
       "    </tr>\n",
       "    <tr>\n",
       "      <td>6</td>\n",
       "      <td>Показать на главной странице баннеры с актуаль...</td>\n",
       "      <td>40.0</td>\n",
       "      <td>5</td>\n",
       "      <td>8</td>\n",
       "    </tr>\n",
       "    <tr>\n",
       "      <td>8</td>\n",
       "      <td>Запустить акцию, дающую скидку на товар в день...</td>\n",
       "      <td>16.2</td>\n",
       "      <td>1</td>\n",
       "      <td>9</td>\n",
       "    </tr>\n",
       "    <tr>\n",
       "      <td>3</td>\n",
       "      <td>Изменить структура категорий, что увеличит кон...</td>\n",
       "      <td>9.0</td>\n",
       "      <td>8</td>\n",
       "      <td>3</td>\n",
       "    </tr>\n",
       "    <tr>\n",
       "      <td>1</td>\n",
       "      <td>Запустить собственную службу доставки, что сок...</td>\n",
       "      <td>4.0</td>\n",
       "      <td>2</td>\n",
       "      <td>4</td>\n",
       "    </tr>\n",
       "    <tr>\n",
       "      <td>5</td>\n",
       "      <td>Добавить страницу отзывов клиентов о магазине,...</td>\n",
       "      <td>4.0</td>\n",
       "      <td>3</td>\n",
       "      <td>2</td>\n",
       "    </tr>\n",
       "    <tr>\n",
       "      <td>4</td>\n",
       "      <td>Изменить цвет фона главной страницы, чтобы уве...</td>\n",
       "      <td>3.0</td>\n",
       "      <td>3</td>\n",
       "      <td>1</td>\n",
       "    </tr>\n",
       "  </tbody>\n",
       "</table>\n",
       "</div>"
      ],
      "text/plain": [
       "                                          Hypothesis   RICE  Reach  Confidence\n",
       "7  Добавить форму подписки на все основные страни...  112.0     10           8\n",
       "2  Добавить блоки рекомендаций товаров на сайт ин...   56.0      8           7\n",
       "0  Добавить два новых канала привлечения трафика,...   40.0      3           8\n",
       "6  Показать на главной странице баннеры с актуаль...   40.0      5           8\n",
       "8  Запустить акцию, дающую скидку на товар в день...   16.2      1           9\n",
       "3  Изменить структура категорий, что увеличит кон...    9.0      8           3\n",
       "1  Запустить собственную службу доставки, что сок...    4.0      2           4\n",
       "5  Добавить страницу отзывов клиентов о магазине,...    4.0      3           2\n",
       "4  Изменить цвет фона главной страницы, чтобы уве...    3.0      3           1"
      ]
     },
     "execution_count": 13,
     "metadata": {},
     "output_type": "execute_result"
    }
   ],
   "source": [
    "hypothesis['RICE'] = hypothesis['Impact'] * hypothesis['Confidence'] * hypothesis['Reach'] / hypothesis['Efforts']\n",
    "hypothesis[['Hypothesis','RICE','Reach', 'Confidence']].sort_values(by = \"RICE\", ascending = False)"
   ]
  },
  {
   "cell_type": "code",
   "execution_count": 14,
   "metadata": {},
   "outputs": [
    {
     "data": {
      "image/png": "[encoded data removed]",
      "text/plain": [
       "<Figure size 432x288 with 1 Axes>"
      ]
     },
     "metadata": {
      "needs_background": "light"
     },
     "output_type": "display_data"
    }
   ],
   "source": [
    "hypothesis.set_index('Hypothesis')[['ICE','RICE']].plot(kind = 'barh')\n",
    "plt.show()"
   ]
  },
  {
   "cell_type": "markdown",
   "metadata": {},
   "source": [
    "При приоритезации по методу ICE в лидерах гипотезы 8, 0, 7, 6.\n",
    "\n",
    "При приоритезации по методу RICE в лидерах гипотезы 7, 2, 0, 6.\n",
    "\n",
    "Такая разница в результаттах достигается из-за параметра Reach, который отвечает за количество пользователей, которых затронут изменения при реализации гипотезы.\n",
    "\n",
    "Самыми удачными являются гипотезы 7, 0, 6."
   ]
  },
  {
   "cell_type": "markdown",
   "metadata": {},
   "source": [
    "### Анализ A/B-теста"
   ]
  },
  {
   "cell_type": "markdown",
   "metadata": {},
   "source": [
    "**Кумулятивная выручка по группам** <a id='step_3'></a>"
   ]
  },
  {
   "cell_type": "code",
   "execution_count": 15,
   "metadata": {},
   "outputs": [],
   "source": [
    "# создаем массив уникальных пар значений дат и групп теста\n",
    "datesGroups = orders[['date','group']].drop_duplicates() "
   ]
  },
  {
   "cell_type": "code",
   "execution_count": 16,
   "metadata": {},
   "outputs": [
    {
     "data": {
      "text/html": [
       "<div>\n",
       "<style scoped>\n",
       "    .dataframe tbody tr th:only-of-type {\n",
       "        vertical-align: middle;\n",
       "    }\n",
       "\n",
       "    .dataframe tbody tr th {\n",
       "        vertical-align: top;\n",
       "    }\n",
       "\n",
       "    .dataframe thead th {\n",
       "        text-align: right;\n",
       "    }\n",
       "</style>\n",
       "<table border=\"1\" class=\"dataframe\">\n",
       "  <thead>\n",
       "    <tr style=\"text-align: right;\">\n",
       "      <th></th>\n",
       "      <th>date</th>\n",
       "      <th>group</th>\n",
       "      <th>transactionId</th>\n",
       "      <th>visitorId</th>\n",
       "      <th>revenue</th>\n",
       "    </tr>\n",
       "  </thead>\n",
       "  <tbody>\n",
       "    <tr>\n",
       "      <td>55</td>\n",
       "      <td>2019-08-01</td>\n",
       "      <td>A</td>\n",
       "      <td>24</td>\n",
       "      <td>20</td>\n",
       "      <td>148579</td>\n",
       "    </tr>\n",
       "    <tr>\n",
       "      <td>66</td>\n",
       "      <td>2019-08-01</td>\n",
       "      <td>B</td>\n",
       "      <td>21</td>\n",
       "      <td>20</td>\n",
       "      <td>101217</td>\n",
       "    </tr>\n",
       "    <tr>\n",
       "      <td>175</td>\n",
       "      <td>2019-08-02</td>\n",
       "      <td>A</td>\n",
       "      <td>44</td>\n",
       "      <td>38</td>\n",
       "      <td>242401</td>\n",
       "    </tr>\n",
       "    <tr>\n",
       "      <td>173</td>\n",
       "      <td>2019-08-02</td>\n",
       "      <td>B</td>\n",
       "      <td>45</td>\n",
       "      <td>43</td>\n",
       "      <td>266748</td>\n",
       "    </tr>\n",
       "    <tr>\n",
       "      <td>291</td>\n",
       "      <td>2019-08-03</td>\n",
       "      <td>A</td>\n",
       "      <td>68</td>\n",
       "      <td>62</td>\n",
       "      <td>354874</td>\n",
       "    </tr>\n",
       "    <tr>\n",
       "      <td>...</td>\n",
       "      <td>...</td>\n",
       "      <td>...</td>\n",
       "      <td>...</td>\n",
       "      <td>...</td>\n",
       "      <td>...</td>\n",
       "    </tr>\n",
       "    <tr>\n",
       "      <td>496</td>\n",
       "      <td>2019-08-29</td>\n",
       "      <td>B</td>\n",
       "      <td>596</td>\n",
       "      <td>544</td>\n",
       "      <td>5559398</td>\n",
       "    </tr>\n",
       "    <tr>\n",
       "      <td>730</td>\n",
       "      <td>2019-08-30</td>\n",
       "      <td>A</td>\n",
       "      <td>545</td>\n",
       "      <td>493</td>\n",
       "      <td>4022970</td>\n",
       "    </tr>\n",
       "    <tr>\n",
       "      <td>690</td>\n",
       "      <td>2019-08-30</td>\n",
       "      <td>B</td>\n",
       "      <td>620</td>\n",
       "      <td>567</td>\n",
       "      <td>5774631</td>\n",
       "    </tr>\n",
       "    <tr>\n",
       "      <td>958</td>\n",
       "      <td>2019-08-31</td>\n",
       "      <td>A</td>\n",
       "      <td>557</td>\n",
       "      <td>503</td>\n",
       "      <td>4084803</td>\n",
       "    </tr>\n",
       "    <tr>\n",
       "      <td>930</td>\n",
       "      <td>2019-08-31</td>\n",
       "      <td>B</td>\n",
       "      <td>640</td>\n",
       "      <td>586</td>\n",
       "      <td>5907760</td>\n",
       "    </tr>\n",
       "  </tbody>\n",
       "</table>\n",
       "<p>62 rows × 5 columns</p>\n",
       "</div>"
      ],
      "text/plain": [
       "          date group  transactionId  visitorId  revenue\n",
       "55  2019-08-01     A             24         20   148579\n",
       "66  2019-08-01     B             21         20   101217\n",
       "175 2019-08-02     A             44         38   242401\n",
       "173 2019-08-02     B             45         43   266748\n",
       "291 2019-08-03     A             68         62   354874\n",
       "..         ...   ...            ...        ...      ...\n",
       "496 2019-08-29     B            596        544  5559398\n",
       "730 2019-08-30     A            545        493  4022970\n",
       "690 2019-08-30     B            620        567  5774631\n",
       "958 2019-08-31     A            557        503  4084803\n",
       "930 2019-08-31     B            640        586  5907760\n",
       "\n",
       "[62 rows x 5 columns]"
      ]
     },
     "execution_count": 16,
     "metadata": {},
     "output_type": "execute_result"
    }
   ],
   "source": [
    "# Получим строки таблицы orders, дата которых меньше или равна дате элемента из datesGroups\n",
    "# Агрегируем значения. Вычислим максимальную дату\n",
    "# Применим методы к каждой строке датафрейма: apply(axis=1) и отсортируем результаты по столбцам 'date' и 'group'\n",
    "\n",
    "ordersAggregated = datesGroups.apply(lambda x: orders[np.logical_and(orders['date'] <= x['date'], orders['group'] == x['group'])]\\\n",
    ".agg({'date' : 'max', 'group' : 'max', 'transactionId' : pd.Series.nunique, \n",
    "      'visitorId' : pd.Series.nunique, 'revenue' : 'sum'}), axis=1)\\\n",
    ".sort_values(by=['date','group']) \n",
    "\n",
    "ordersAggregated"
   ]
  },
  {
   "cell_type": "code",
   "execution_count": 17,
   "metadata": {},
   "outputs": [
    {
     "data": {
      "text/html": [
       "<div>\n",
       "<style scoped>\n",
       "    .dataframe tbody tr th:only-of-type {\n",
       "        vertical-align: middle;\n",
       "    }\n",
       "\n",
       "    .dataframe tbody tr th {\n",
       "        vertical-align: top;\n",
       "    }\n",
       "\n",
       "    .dataframe thead th {\n",
       "        text-align: right;\n",
       "    }\n",
       "</style>\n",
       "<table border=\"1\" class=\"dataframe\">\n",
       "  <thead>\n",
       "    <tr style=\"text-align: right;\">\n",
       "      <th></th>\n",
       "      <th>date</th>\n",
       "      <th>group</th>\n",
       "      <th>visitors</th>\n",
       "    </tr>\n",
       "  </thead>\n",
       "  <tbody>\n",
       "    <tr>\n",
       "      <td>55</td>\n",
       "      <td>2019-08-01</td>\n",
       "      <td>A</td>\n",
       "      <td>719</td>\n",
       "    </tr>\n",
       "    <tr>\n",
       "      <td>66</td>\n",
       "      <td>2019-08-01</td>\n",
       "      <td>B</td>\n",
       "      <td>713</td>\n",
       "    </tr>\n",
       "    <tr>\n",
       "      <td>175</td>\n",
       "      <td>2019-08-02</td>\n",
       "      <td>A</td>\n",
       "      <td>1338</td>\n",
       "    </tr>\n",
       "    <tr>\n",
       "      <td>173</td>\n",
       "      <td>2019-08-02</td>\n",
       "      <td>B</td>\n",
       "      <td>1294</td>\n",
       "    </tr>\n",
       "    <tr>\n",
       "      <td>291</td>\n",
       "      <td>2019-08-03</td>\n",
       "      <td>A</td>\n",
       "      <td>1845</td>\n",
       "    </tr>\n",
       "    <tr>\n",
       "      <td>...</td>\n",
       "      <td>...</td>\n",
       "      <td>...</td>\n",
       "      <td>...</td>\n",
       "    </tr>\n",
       "    <tr>\n",
       "      <td>496</td>\n",
       "      <td>2019-08-29</td>\n",
       "      <td>B</td>\n",
       "      <td>17708</td>\n",
       "    </tr>\n",
       "    <tr>\n",
       "      <td>730</td>\n",
       "      <td>2019-08-30</td>\n",
       "      <td>A</td>\n",
       "      <td>18037</td>\n",
       "    </tr>\n",
       "    <tr>\n",
       "      <td>690</td>\n",
       "      <td>2019-08-30</td>\n",
       "      <td>B</td>\n",
       "      <td>18198</td>\n",
       "    </tr>\n",
       "    <tr>\n",
       "      <td>958</td>\n",
       "      <td>2019-08-31</td>\n",
       "      <td>A</td>\n",
       "      <td>18736</td>\n",
       "    </tr>\n",
       "    <tr>\n",
       "      <td>930</td>\n",
       "      <td>2019-08-31</td>\n",
       "      <td>B</td>\n",
       "      <td>18916</td>\n",
       "    </tr>\n",
       "  </tbody>\n",
       "</table>\n",
       "<p>62 rows × 3 columns</p>\n",
       "</div>"
      ],
      "text/plain": [
       "          date group  visitors\n",
       "55  2019-08-01     A       719\n",
       "66  2019-08-01     B       713\n",
       "175 2019-08-02     A      1338\n",
       "173 2019-08-02     B      1294\n",
       "291 2019-08-03     A      1845\n",
       "..         ...   ...       ...\n",
       "496 2019-08-29     B     17708\n",
       "730 2019-08-30     A     18037\n",
       "690 2019-08-30     B     18198\n",
       "958 2019-08-31     A     18736\n",
       "930 2019-08-31     B     18916\n",
       "\n",
       "[62 rows x 3 columns]"
      ]
     },
     "execution_count": 17,
     "metadata": {},
     "output_type": "execute_result"
    }
   ],
   "source": [
    "# Получим строки таблицы visitors, дата которых меньше или равна дате элемента из datesGroups\n",
    "# Агрегируем значения. Вычислим максимальную дату\n",
    "# Применим методы к каждой строке датафрейма: apply(axis=1) и отсортируем результаты по столбцам 'date' и 'group'\n",
    "\n",
    "visitorsAggregated = datesGroups.apply(lambda x: visitors[np.logical_and(visitors['date'] <= x['date'], visitors['group'] == x['group'])]\\\n",
    "                                       .agg({'date' : 'max', 'group' : 'max', 'visitors' : 'sum'}), axis=1)\\\n",
    "                                        .sort_values(by=['date','group']) \n",
    "visitorsAggregated"
   ]
  },
  {
   "cell_type": "code",
   "execution_count": 18,
   "metadata": {},
   "outputs": [
    {
     "data": {
      "text/html": [
       "<div>\n",
       "<style scoped>\n",
       "    .dataframe tbody tr th:only-of-type {\n",
       "        vertical-align: middle;\n",
       "    }\n",
       "\n",
       "    .dataframe tbody tr th {\n",
       "        vertical-align: top;\n",
       "    }\n",
       "\n",
       "    .dataframe thead th {\n",
       "        text-align: right;\n",
       "    }\n",
       "</style>\n",
       "<table border=\"1\" class=\"dataframe\">\n",
       "  <thead>\n",
       "    <tr style=\"text-align: right;\">\n",
       "      <th></th>\n",
       "      <th>date</th>\n",
       "      <th>group</th>\n",
       "      <th>orders</th>\n",
       "      <th>buyers</th>\n",
       "      <th>revenue</th>\n",
       "      <th>visitors</th>\n",
       "    </tr>\n",
       "  </thead>\n",
       "  <tbody>\n",
       "    <tr>\n",
       "      <td>0</td>\n",
       "      <td>2019-08-01</td>\n",
       "      <td>A</td>\n",
       "      <td>24</td>\n",
       "      <td>20</td>\n",
       "      <td>148579</td>\n",
       "      <td>719</td>\n",
       "    </tr>\n",
       "    <tr>\n",
       "      <td>1</td>\n",
       "      <td>2019-08-01</td>\n",
       "      <td>B</td>\n",
       "      <td>21</td>\n",
       "      <td>20</td>\n",
       "      <td>101217</td>\n",
       "      <td>713</td>\n",
       "    </tr>\n",
       "    <tr>\n",
       "      <td>2</td>\n",
       "      <td>2019-08-02</td>\n",
       "      <td>A</td>\n",
       "      <td>44</td>\n",
       "      <td>38</td>\n",
       "      <td>242401</td>\n",
       "      <td>1338</td>\n",
       "    </tr>\n",
       "    <tr>\n",
       "      <td>3</td>\n",
       "      <td>2019-08-02</td>\n",
       "      <td>B</td>\n",
       "      <td>45</td>\n",
       "      <td>43</td>\n",
       "      <td>266748</td>\n",
       "      <td>1294</td>\n",
       "    </tr>\n",
       "    <tr>\n",
       "      <td>4</td>\n",
       "      <td>2019-08-03</td>\n",
       "      <td>A</td>\n",
       "      <td>68</td>\n",
       "      <td>62</td>\n",
       "      <td>354874</td>\n",
       "      <td>1845</td>\n",
       "    </tr>\n",
       "    <tr>\n",
       "      <td>...</td>\n",
       "      <td>...</td>\n",
       "      <td>...</td>\n",
       "      <td>...</td>\n",
       "      <td>...</td>\n",
       "      <td>...</td>\n",
       "      <td>...</td>\n",
       "    </tr>\n",
       "    <tr>\n",
       "      <td>57</td>\n",
       "      <td>2019-08-29</td>\n",
       "      <td>B</td>\n",
       "      <td>596</td>\n",
       "      <td>544</td>\n",
       "      <td>5559398</td>\n",
       "      <td>17708</td>\n",
       "    </tr>\n",
       "    <tr>\n",
       "      <td>58</td>\n",
       "      <td>2019-08-30</td>\n",
       "      <td>A</td>\n",
       "      <td>545</td>\n",
       "      <td>493</td>\n",
       "      <td>4022970</td>\n",
       "      <td>18037</td>\n",
       "    </tr>\n",
       "    <tr>\n",
       "      <td>59</td>\n",
       "      <td>2019-08-30</td>\n",
       "      <td>B</td>\n",
       "      <td>620</td>\n",
       "      <td>567</td>\n",
       "      <td>5774631</td>\n",
       "      <td>18198</td>\n",
       "    </tr>\n",
       "    <tr>\n",
       "      <td>60</td>\n",
       "      <td>2019-08-31</td>\n",
       "      <td>A</td>\n",
       "      <td>557</td>\n",
       "      <td>503</td>\n",
       "      <td>4084803</td>\n",
       "      <td>18736</td>\n",
       "    </tr>\n",
       "    <tr>\n",
       "      <td>61</td>\n",
       "      <td>2019-08-31</td>\n",
       "      <td>B</td>\n",
       "      <td>640</td>\n",
       "      <td>586</td>\n",
       "      <td>5907760</td>\n",
       "      <td>18916</td>\n",
       "    </tr>\n",
       "  </tbody>\n",
       "</table>\n",
       "<p>62 rows × 6 columns</p>\n",
       "</div>"
      ],
      "text/plain": [
       "         date group  orders  buyers  revenue  visitors\n",
       "0  2019-08-01     A      24      20   148579       719\n",
       "1  2019-08-01     B      21      20   101217       713\n",
       "2  2019-08-02     A      44      38   242401      1338\n",
       "3  2019-08-02     B      45      43   266748      1294\n",
       "4  2019-08-03     A      68      62   354874      1845\n",
       "..        ...   ...     ...     ...      ...       ...\n",
       "57 2019-08-29     B     596     544  5559398     17708\n",
       "58 2019-08-30     A     545     493  4022970     18037\n",
       "59 2019-08-30     B     620     567  5774631     18198\n",
       "60 2019-08-31     A     557     503  4084803     18736\n",
       "61 2019-08-31     B     640     586  5907760     18916\n",
       "\n",
       "[62 rows x 6 columns]"
      ]
     },
     "execution_count": 18,
     "metadata": {},
     "output_type": "execute_result"
    }
   ],
   "source": [
    "# Объединили данные в ону таблицу и изменили названия столбцов\n",
    "cumulativeData = ordersAggregated.merge(visitorsAggregated, left_on=['date', 'group'], right_on=['date', 'group'])\n",
    "cumulativeData.columns = ['date', 'group', 'orders', 'buyers', 'revenue', 'visitors']\n",
    "cumulativeData"
   ]
  },
  {
   "cell_type": "code",
   "execution_count": 19,
   "metadata": {},
   "outputs": [],
   "source": [
    "# Разбили данные по группам для постоения графиков\n",
    "\n",
    "cumulativeRevenueA = cumulativeData[cumulativeData['group']=='A'][['date','revenue', 'orders']]\n",
    "cumulativeRevenueB = cumulativeData[cumulativeData['group']=='B'][['date','revenue', 'orders']]\n"
   ]
  },
  {
   "cell_type": "code",
   "execution_count": 20,
   "metadata": {},
   "outputs": [
    {
     "data": {
      "image/png": "[encoded data removed]",
      "text/plain": [
       "<Figure size 432x288 with 1 Axes>"
      ]
     },
     "metadata": {
      "needs_background": "light"
     },
     "output_type": "display_data"
    }
   ],
   "source": [
    "plt.plot(cumulativeRevenueA['date'], cumulativeRevenueA['revenue'], label='A')\n",
    "plt.plot(cumulativeRevenueB['date'], cumulativeRevenueB['revenue'], label='B')\n",
    "\n",
    "plt.legend() \n",
    "plt.title('График кумулятивной выручки по группам') \n",
    "plt.ylabel('revenue')\n",
    "plt.xlabel('date')\n",
    "plt.xticks(rotation='vertical')\n",
    "plt.show()"
   ]
  },
  {
   "cell_type": "markdown",
   "metadata": {},
   "source": [
    "Выручка почти равномерно увеличивается в течение всего теста.\n",
    "\n",
    "Графики выручки группы B в нескольких точках резко растут. Это может сигнализировать о всплесках числа заказов, либо о появлении очень дорогих заказов в выборке."
   ]
  },
  {
   "cell_type": "markdown",
   "metadata": {},
   "source": [
    "**Кумулятивный средний чек по группам**<a id='step_4'></a>"
   ]
  },
  {
   "cell_type": "code",
   "execution_count": 21,
   "metadata": {},
   "outputs": [
    {
     "data": {
      "image/png": "[encoded data removed]",
      "text/plain": [
       "<Figure size 432x288 with 1 Axes>"
      ]
     },
     "metadata": {
      "needs_background": "light"
     },
     "output_type": "display_data"
    }
   ],
   "source": [
    "plt.plot(cumulativeRevenueA['date'], cumulativeRevenueA['revenue']/cumulativeRevenueA['orders'], label='A')\n",
    "plt.plot(cumulativeRevenueB['date'], cumulativeRevenueB['revenue']/cumulativeRevenueB['orders'], label='B')\n",
    "plt.legend() \n",
    "plt.title('График кумулятивного среднего чека по группам') \n",
    "plt.ylabel('revenue')\n",
    "plt.xlabel('date')\n",
    "plt.xticks(rotation='vertical')\n",
    "plt.show()"
   ]
  },
  {
   "cell_type": "markdown",
   "metadata": {},
   "source": [
    "Средний чек ведёт себя менее равномерно, чем выручка для обеих групп. Присутствуют скачки. Самый большой скачок у группы B наблюдается в тот же момент, когда и на графике с кумулятивной выручкой. Возможно, в группу B попали крупные заказы (резкий всплеск на графике)."
   ]
  },
  {
   "cell_type": "markdown",
   "metadata": {},
   "source": [
    "**Относительное изменение кумулятивного среднего чека группы B к группе A**<a id='step_5'></a>"
   ]
  },
  {
   "cell_type": "code",
   "execution_count": 22,
   "metadata": {
    "scrolled": true
   },
   "outputs": [
    {
     "data": {
      "image/png": "[encoded data removed]",
      "text/plain": [
       "<Figure size 432x288 with 1 Axes>"
      ]
     },
     "metadata": {
      "needs_background": "light"
     },
     "output_type": "display_data"
    }
   ],
   "source": [
    "# собираем данные в одном датасете\n",
    "# cтроим отношение средних чеков\n",
    "mergedCumulativeRevenue = cumulativeRevenueA.merge(cumulativeRevenueB, left_on='date', right_on='date', how='left', suffixes=['A', 'B'])\n",
    "plt.plot(mergedCumulativeRevenue['date'], (mergedCumulativeRevenue['revenueB']/mergedCumulativeRevenue['ordersB'])\n",
    "         /(mergedCumulativeRevenue['revenueA']/mergedCumulativeRevenue['ordersA'])-1)\n",
    "\n",
    "plt.axhline(y=0, color='black', linestyle='--') \n",
    "plt.title('График относительного изменения кумулятивного среднего чека группы В к группе А') \n",
    "plt.ylabel('Отношение средних чеков')\n",
    "plt.xlabel('date')\n",
    "plt.xticks(rotation='vertical')\n",
    "plt.show()"
   ]
  },
  {
   "cell_type": "markdown",
   "metadata": {},
   "source": [
    "На графике видны резкие скачки, возможно там есть крупные заказы, которые искажают общу картину.\n",
    "\n",
    "Изначально средний чек группы В был меньше на 20%. Затем средний чек группы В стал увеличиваться, относительно группы А. В середине эксперимента н был в 2 раза больше за счёт аномальных заказов. К концу эксперимента средний чек группы В на 20% стал больше, чем седний чек группы А."
   ]
  },
  {
   "cell_type": "markdown",
   "metadata": {},
   "source": [
    "**Кумулятивная конверсия по группам**<a id='step_6'></a>"
   ]
  },
  {
   "cell_type": "code",
   "execution_count": 23,
   "metadata": {},
   "outputs": [],
   "source": [
    "# считаем кумулятивную конверсию\n",
    "# разделяем её по группам\n",
    "cumulativeData['conversion'] = cumulativeData['orders']/cumulativeData['visitors']\n",
    "\n",
    "cumulativeDataA = cumulativeData[cumulativeData['group']=='A']\n",
    "cumulativeDataB = cumulativeData[cumulativeData['group']=='B']"
   ]
  },
  {
   "cell_type": "code",
   "execution_count": 24,
   "metadata": {},
   "outputs": [
    {
     "data": {
      "image/png": "[encoded data removed]",
      "text/plain": [
       "<Figure size 432x288 with 1 Axes>"
      ]
     },
     "metadata": {
      "needs_background": "light"
     },
     "output_type": "display_data"
    }
   ],
   "source": [
    "plt.plot(cumulativeDataA['date'], cumulativeDataA['conversion'], label='A')\n",
    "plt.plot(cumulativeDataB['date'], cumulativeDataB['conversion'], label='B')\n",
    "\n",
    "plt.legend() \n",
    "plt.title('График кумулятивной конверсии по группам') \n",
    "plt.ylabel('conversion')\n",
    "plt.xlabel('date')\n",
    "plt.xticks(rotation='vertical')\n",
    "plt.show()\n",
    "\n"
   ]
  },
  {
   "cell_type": "markdown",
   "metadata": {},
   "source": [
    "Конверсия группы А изначально была выше, но затем значительно упала. Конверсия группы В резко выросла и пошла на медленное снижение."
   ]
  },
  {
   "cell_type": "markdown",
   "metadata": {},
   "source": [
    "**Относительное изменение кумулятивной конверсии группы B к группе A**<a id='step_7'></a>"
   ]
  },
  {
   "cell_type": "code",
   "execution_count": 25,
   "metadata": {},
   "outputs": [
    {
     "data": {
      "image/png": "[encoded data removed]",
      "text/plain": [
       "<Figure size 432x288 with 1 Axes>"
      ]
     },
     "metadata": {
      "needs_background": "light"
     },
     "output_type": "display_data"
    }
   ],
   "source": [
    "# собираем данные в одном датасете\n",
    "# cтроим отношение конверсий\n",
    "mergedCumulativeConversions = cumulativeDataA[['date','conversion']].merge(cumulativeDataB[['date','conversion']], \n",
    "                                                                           left_on='date', right_on='date', how='left', \n",
    "                                                                           suffixes=['A', 'B'])\n",
    "\n",
    "plt.plot(mergedCumulativeConversions['date'], mergedCumulativeConversions['conversionB']/mergedCumulativeConversions['conversionA']-1)\n",
    " \n",
    "plt.title('График относительного прироста конверсии группы B относительно группы A') \n",
    "plt.ylabel('отношений конверсий')\n",
    "plt.xlabel('date')\n",
    "plt.xticks(rotation='vertical')\n",
    "plt.axhline(y=0, color='black', linestyle='--')\n",
    "plt.show()\n"
   ]
  },
  {
   "cell_type": "markdown",
   "metadata": {},
   "source": [
    "В начале теста конверсия группы В была меньше, чем конверсия группы А. Но уже в остальное время теста, конверсия группы В преобладала над конверсией группы А."
   ]
  },
  {
   "cell_type": "markdown",
   "metadata": {},
   "source": [
    "**Количество заказов по пользователям**<a id='step_8'></a>"
   ]
  },
  {
   "cell_type": "code",
   "execution_count": 26,
   "metadata": {},
   "outputs": [
    {
     "data": {
      "text/html": [
       "<div>\n",
       "<style scoped>\n",
       "    .dataframe tbody tr th:only-of-type {\n",
       "        vertical-align: middle;\n",
       "    }\n",
       "\n",
       "    .dataframe tbody tr th {\n",
       "        vertical-align: top;\n",
       "    }\n",
       "\n",
       "    .dataframe thead th {\n",
       "        text-align: right;\n",
       "    }\n",
       "</style>\n",
       "<table border=\"1\" class=\"dataframe\">\n",
       "  <thead>\n",
       "    <tr style=\"text-align: right;\">\n",
       "      <th></th>\n",
       "      <th>visitorId</th>\n",
       "      <th>transactions</th>\n",
       "    </tr>\n",
       "  </thead>\n",
       "  <tbody>\n",
       "    <tr>\n",
       "      <td>0</td>\n",
       "      <td>5114589</td>\n",
       "      <td>1</td>\n",
       "    </tr>\n",
       "    <tr>\n",
       "      <td>1</td>\n",
       "      <td>6958315</td>\n",
       "      <td>1</td>\n",
       "    </tr>\n",
       "    <tr>\n",
       "      <td>2</td>\n",
       "      <td>8300375</td>\n",
       "      <td>2</td>\n",
       "    </tr>\n",
       "    <tr>\n",
       "      <td>3</td>\n",
       "      <td>11685486</td>\n",
       "      <td>1</td>\n",
       "    </tr>\n",
       "    <tr>\n",
       "      <td>4</td>\n",
       "      <td>39475350</td>\n",
       "      <td>1</td>\n",
       "    </tr>\n",
       "    <tr>\n",
       "      <td>...</td>\n",
       "      <td>...</td>\n",
       "      <td>...</td>\n",
       "    </tr>\n",
       "    <tr>\n",
       "      <td>1026</td>\n",
       "      <td>4266935830</td>\n",
       "      <td>2</td>\n",
       "    </tr>\n",
       "    <tr>\n",
       "      <td>1027</td>\n",
       "      <td>4278982564</td>\n",
       "      <td>1</td>\n",
       "    </tr>\n",
       "    <tr>\n",
       "      <td>1028</td>\n",
       "      <td>4279090005</td>\n",
       "      <td>1</td>\n",
       "    </tr>\n",
       "    <tr>\n",
       "      <td>1029</td>\n",
       "      <td>4281247801</td>\n",
       "      <td>1</td>\n",
       "    </tr>\n",
       "    <tr>\n",
       "      <td>1030</td>\n",
       "      <td>4283872382</td>\n",
       "      <td>1</td>\n",
       "    </tr>\n",
       "  </tbody>\n",
       "</table>\n",
       "<p>1031 rows × 2 columns</p>\n",
       "</div>"
      ],
      "text/plain": [
       "       visitorId  transactions\n",
       "0        5114589             1\n",
       "1        6958315             1\n",
       "2        8300375             2\n",
       "3       11685486             1\n",
       "4       39475350             1\n",
       "...          ...           ...\n",
       "1026  4266935830             2\n",
       "1027  4278982564             1\n",
       "1028  4279090005             1\n",
       "1029  4281247801             1\n",
       "1030  4283872382             1\n",
       "\n",
       "[1031 rows x 2 columns]"
      ]
     },
     "execution_count": 26,
     "metadata": {},
     "output_type": "execute_result"
    }
   ],
   "source": [
    "# количество заказов на каждого пользователя\n",
    "# избавляемся от лишних столбцов\n",
    "ordersByUsers = (orders.drop(['group', 'revenue', 'date'], axis=1).groupby('visitorId', as_index=False)\n",
    "    .agg({'transactionId': pd.Series.nunique}))\n",
    "\n",
    "ordersByUsers.columns = ['visitorId', 'transactions']\n",
    "ordersByUsers"
   ]
  },
  {
   "cell_type": "code",
   "execution_count": 27,
   "metadata": {},
   "outputs": [
    {
     "data": {
      "image/png": "[encoded data removed]",
      "text/plain": [
       "<Figure size 432x288 with 1 Axes>"
      ]
     },
     "metadata": {
      "needs_background": "light"
     },
     "output_type": "display_data"
    }
   ],
   "source": [
    "# ось x покупатели\n",
    "x_values = pd.Series(range(0,len(ordersByUsers)))\n",
    "\n",
    "plt.scatter(x_values, ordersByUsers['transactions']) \n",
    "\n",
    "plt.title('Точечный график количества заказов по пользователям') \n",
    "plt.ylabel('Количество заказов')\n",
    "plt.xlabel('Пользователи')\n",
    "plt.xticks(rotation='vertical')\n",
    "plt.show()"
   ]
  },
  {
   "cell_type": "markdown",
   "metadata": {},
   "source": [
    "Чаще всего люди делают 1-2 заказа, 3-4 уже редкость. \n",
    "\n",
    "Всё, что больше 5 заказов, скорее всего, даёт выбросы."
   ]
  },
  {
   "cell_type": "code",
   "execution_count": 28,
   "metadata": {},
   "outputs": [
    {
     "name": "stdout",
     "output_type": "stream",
     "text": [
      "95-й и 99-й перцентили количества заказов на пользователя: [2. 4.]\n"
     ]
    }
   ],
   "source": [
    "print('95-й и 99-й перцентили количества заказов на пользователя:',np.percentile(ordersByUsers['transactions'], [95, 99]))"
   ]
  },
  {
   "cell_type": "markdown",
   "metadata": {},
   "source": [
    "Меньше 1% пользователей совершают более 4-х заказов. Меньше 5% пользователей совершают более 2-х заказов. "
   ]
  },
  {
   "cell_type": "markdown",
   "metadata": {},
   "source": [
    "Пользователей, с количеством заказов больше 4-х, можно считать аномальными. "
   ]
  },
  {
   "cell_type": "markdown",
   "metadata": {},
   "source": [
    "**Стоимость заказов по пользователям**<a id='step_9'></a>"
   ]
  },
  {
   "cell_type": "code",
   "execution_count": 29,
   "metadata": {},
   "outputs": [
    {
     "data": {
      "image/png": "[encoded data removed]",
      "text/plain": [
       "<Figure size 432x288 with 1 Axes>"
      ]
     },
     "metadata": {
      "needs_background": "light"
     },
     "output_type": "display_data"
    }
   ],
   "source": [
    "x_values = pd.Series(range(0,len(orders['revenue'])))\n",
    "plt.scatter(x_values, orders['revenue'])\n",
    "\n",
    "plt.title('Точечный график стоимости заказов по пользователям') \n",
    "plt.ylabel('Стоимость')\n",
    "plt.xlabel('Заказы')\n",
    "plt.xticks(rotation='vertical')\n",
    "plt.show()"
   ]
  },
  {
   "cell_type": "markdown",
   "metadata": {},
   "source": [
    "На графике видно, что есть как минимум два выбивающихся заказа с очень высокой стоимостью."
   ]
  },
  {
   "cell_type": "code",
   "execution_count": 30,
   "metadata": {},
   "outputs": [
    {
     "name": "stdout",
     "output_type": "stream",
     "text": [
      "95-й и 99-й перцентили стоимости заказов: [28000.  58233.2]\n"
     ]
    }
   ],
   "source": [
    "print('95-й и 99-й перцентили стоимости заказов:',np.percentile(orders['revenue'], [95, 99])) "
   ]
  },
  {
   "cell_type": "markdown",
   "metadata": {},
   "source": [
    "Всего 5% заказов дороже 28000, 1% заказов дороже 58000. Заказы дороже 28000 будем считать аномальными."
   ]
  },
  {
   "cell_type": "markdown",
   "metadata": {},
   "source": [
    "**Работа с сырыми данными**"
   ]
  },
  {
   "cell_type": "code",
   "execution_count": 31,
   "metadata": {},
   "outputs": [
    {
     "data": {
      "text/html": [
       "<div>\n",
       "<style scoped>\n",
       "    .dataframe tbody tr th:only-of-type {\n",
       "        vertical-align: middle;\n",
       "    }\n",
       "\n",
       "    .dataframe tbody tr th {\n",
       "        vertical-align: top;\n",
       "    }\n",
       "\n",
       "    .dataframe thead th {\n",
       "        text-align: right;\n",
       "    }\n",
       "</style>\n",
       "<table border=\"1\" class=\"dataframe\">\n",
       "  <thead>\n",
       "    <tr style=\"text-align: right;\">\n",
       "      <th></th>\n",
       "      <th>date</th>\n",
       "      <th>visitorsPerDateA</th>\n",
       "    </tr>\n",
       "  </thead>\n",
       "  <tbody>\n",
       "    <tr>\n",
       "      <td>0</td>\n",
       "      <td>2019-08-01</td>\n",
       "      <td>719</td>\n",
       "    </tr>\n",
       "    <tr>\n",
       "      <td>1</td>\n",
       "      <td>2019-08-02</td>\n",
       "      <td>619</td>\n",
       "    </tr>\n",
       "    <tr>\n",
       "      <td>2</td>\n",
       "      <td>2019-08-03</td>\n",
       "      <td>507</td>\n",
       "    </tr>\n",
       "    <tr>\n",
       "      <td>3</td>\n",
       "      <td>2019-08-04</td>\n",
       "      <td>717</td>\n",
       "    </tr>\n",
       "    <tr>\n",
       "      <td>4</td>\n",
       "      <td>2019-08-05</td>\n",
       "      <td>756</td>\n",
       "    </tr>\n",
       "  </tbody>\n",
       "</table>\n",
       "</div>"
      ],
      "text/plain": [
       "        date  visitorsPerDateA\n",
       "0 2019-08-01               719\n",
       "1 2019-08-02               619\n",
       "2 2019-08-03               507\n",
       "3 2019-08-04               717\n",
       "4 2019-08-05               756"
      ]
     },
     "execution_count": 31,
     "metadata": {},
     "output_type": "execute_result"
    }
   ],
   "source": [
    "# Посетителей в день по группам\n",
    "visitorsADaily = visitors[visitors['group'] == 'A'][['date', 'visitors']]\n",
    "visitorsADaily.columns = ['date', 'visitorsPerDateA']\n",
    "\n",
    "visitorsBDaily = visitors[visitors['group'] == 'B'][['date', 'visitors']]\n",
    "visitorsBDaily.columns = ['date', 'visitorsPerDateB']\n",
    "\n",
    "visitorsADaily.head()"
   ]
  },
  {
   "cell_type": "code",
   "execution_count": 32,
   "metadata": {},
   "outputs": [
    {
     "data": {
      "text/html": [
       "<div>\n",
       "<style scoped>\n",
       "    .dataframe tbody tr th:only-of-type {\n",
       "        vertical-align: middle;\n",
       "    }\n",
       "\n",
       "    .dataframe tbody tr th {\n",
       "        vertical-align: top;\n",
       "    }\n",
       "\n",
       "    .dataframe thead th {\n",
       "        text-align: right;\n",
       "    }\n",
       "</style>\n",
       "<table border=\"1\" class=\"dataframe\">\n",
       "  <thead>\n",
       "    <tr style=\"text-align: right;\">\n",
       "      <th></th>\n",
       "      <th>date</th>\n",
       "      <th>visitorsCummulativeB</th>\n",
       "    </tr>\n",
       "  </thead>\n",
       "  <tbody>\n",
       "    <tr>\n",
       "      <td>31</td>\n",
       "      <td>2019-08-01</td>\n",
       "      <td>713</td>\n",
       "    </tr>\n",
       "    <tr>\n",
       "      <td>32</td>\n",
       "      <td>2019-08-02</td>\n",
       "      <td>1294</td>\n",
       "    </tr>\n",
       "    <tr>\n",
       "      <td>33</td>\n",
       "      <td>2019-08-03</td>\n",
       "      <td>1803</td>\n",
       "    </tr>\n",
       "    <tr>\n",
       "      <td>34</td>\n",
       "      <td>2019-08-04</td>\n",
       "      <td>2573</td>\n",
       "    </tr>\n",
       "    <tr>\n",
       "      <td>35</td>\n",
       "      <td>2019-08-05</td>\n",
       "      <td>3280</td>\n",
       "    </tr>\n",
       "  </tbody>\n",
       "</table>\n",
       "</div>"
      ],
      "text/plain": [
       "         date  visitorsCummulativeB\n",
       "31 2019-08-01                   713\n",
       "32 2019-08-02                  1294\n",
       "33 2019-08-03                  1803\n",
       "34 2019-08-04                  2573\n",
       "35 2019-08-05                  3280"
      ]
     },
     "execution_count": 32,
     "metadata": {},
     "output_type": "execute_result"
    }
   ],
   "source": [
    "# количество покупателей суммарное  \n",
    "visitorsACummulative = visitorsADaily.apply(lambda x: visitorsADaily[visitorsADaily['date'] <= x['date']]\n",
    "                                            .agg({'date': 'max', 'visitorsPerDateA': 'sum'}),axis=1,)\n",
    "visitorsACummulative.columns = ['date', 'visitorsCummulativeA']\n",
    "\n",
    "visitorsBCummulative = visitorsBDaily.apply(lambda x: visitorsBDaily[visitorsBDaily['date'] <= x['date']]\n",
    "                                            .agg({'date': 'max', 'visitorsPerDateB': 'sum'}),axis=1,)\n",
    "visitorsBCummulative.columns = ['date', 'visitorsCummulativeB']\n",
    "visitorsBCummulative.head()"
   ]
  },
  {
   "cell_type": "code",
   "execution_count": 33,
   "metadata": {},
   "outputs": [
    {
     "data": {
      "text/html": [
       "<div>\n",
       "<style scoped>\n",
       "    .dataframe tbody tr th:only-of-type {\n",
       "        vertical-align: middle;\n",
       "    }\n",
       "\n",
       "    .dataframe tbody tr th {\n",
       "        vertical-align: top;\n",
       "    }\n",
       "\n",
       "    .dataframe thead th {\n",
       "        text-align: right;\n",
       "    }\n",
       "</style>\n",
       "<table border=\"1\" class=\"dataframe\">\n",
       "  <thead>\n",
       "    <tr style=\"text-align: right;\">\n",
       "      <th></th>\n",
       "      <th>date</th>\n",
       "      <th>ordersPerDateB</th>\n",
       "      <th>revenuePerDateB</th>\n",
       "    </tr>\n",
       "  </thead>\n",
       "  <tbody>\n",
       "    <tr>\n",
       "      <td>0</td>\n",
       "      <td>2019-08-01</td>\n",
       "      <td>21</td>\n",
       "      <td>101217</td>\n",
       "    </tr>\n",
       "    <tr>\n",
       "      <td>1</td>\n",
       "      <td>2019-08-02</td>\n",
       "      <td>24</td>\n",
       "      <td>165531</td>\n",
       "    </tr>\n",
       "    <tr>\n",
       "      <td>2</td>\n",
       "      <td>2019-08-03</td>\n",
       "      <td>16</td>\n",
       "      <td>114248</td>\n",
       "    </tr>\n",
       "    <tr>\n",
       "      <td>3</td>\n",
       "      <td>2019-08-04</td>\n",
       "      <td>17</td>\n",
       "      <td>108571</td>\n",
       "    </tr>\n",
       "    <tr>\n",
       "      <td>4</td>\n",
       "      <td>2019-08-05</td>\n",
       "      <td>23</td>\n",
       "      <td>92428</td>\n",
       "    </tr>\n",
       "  </tbody>\n",
       "</table>\n",
       "</div>"
      ],
      "text/plain": [
       "        date  ordersPerDateB  revenuePerDateB\n",
       "0 2019-08-01              21           101217\n",
       "1 2019-08-02              24           165531\n",
       "2 2019-08-03              16           114248\n",
       "3 2019-08-04              17           108571\n",
       "4 2019-08-05              23            92428"
      ]
     },
     "execution_count": 33,
     "metadata": {},
     "output_type": "execute_result"
    }
   ],
   "source": [
    "# сумма заказов по дням по группам\n",
    "ordersADaily = (orders[orders['group'] == 'A'][['date', 'transactionId', 'visitorId', 'revenue']]\n",
    "    .groupby('date', as_index=False)\n",
    "    .agg({'transactionId': pd.Series.nunique, 'revenue': 'sum'}))\n",
    "\n",
    "ordersADaily.columns = ['date', 'ordersPerDateA', 'revenuePerDateA']\n",
    "\n",
    "ordersBDaily = (orders[orders['group'] == 'B'][['date', 'transactionId', 'visitorId', 'revenue']]\n",
    "    .groupby('date', as_index=False)\n",
    "    .agg({'transactionId': pd.Series.nunique, 'revenue': 'sum'}))\n",
    "\n",
    "ordersBDaily.columns = ['date', 'ordersPerDateB', 'revenuePerDateB']\n",
    "ordersBDaily.head()"
   ]
  },
  {
   "cell_type": "code",
   "execution_count": 34,
   "metadata": {},
   "outputs": [
    {
     "data": {
      "text/html": [
       "<div>\n",
       "<style scoped>\n",
       "    .dataframe tbody tr th:only-of-type {\n",
       "        vertical-align: middle;\n",
       "    }\n",
       "\n",
       "    .dataframe tbody tr th {\n",
       "        vertical-align: top;\n",
       "    }\n",
       "\n",
       "    .dataframe thead th {\n",
       "        text-align: right;\n",
       "    }\n",
       "</style>\n",
       "<table border=\"1\" class=\"dataframe\">\n",
       "  <thead>\n",
       "    <tr style=\"text-align: right;\">\n",
       "      <th></th>\n",
       "      <th>date</th>\n",
       "      <th>ordersCummulativeA</th>\n",
       "      <th>revenueCummulativeA</th>\n",
       "    </tr>\n",
       "  </thead>\n",
       "  <tbody>\n",
       "    <tr>\n",
       "      <td>0</td>\n",
       "      <td>2019-08-01</td>\n",
       "      <td>24</td>\n",
       "      <td>148579</td>\n",
       "    </tr>\n",
       "    <tr>\n",
       "      <td>1</td>\n",
       "      <td>2019-08-02</td>\n",
       "      <td>44</td>\n",
       "      <td>242401</td>\n",
       "    </tr>\n",
       "    <tr>\n",
       "      <td>2</td>\n",
       "      <td>2019-08-03</td>\n",
       "      <td>68</td>\n",
       "      <td>354874</td>\n",
       "    </tr>\n",
       "    <tr>\n",
       "      <td>3</td>\n",
       "      <td>2019-08-04</td>\n",
       "      <td>84</td>\n",
       "      <td>425699</td>\n",
       "    </tr>\n",
       "    <tr>\n",
       "      <td>4</td>\n",
       "      <td>2019-08-05</td>\n",
       "      <td>109</td>\n",
       "      <td>549917</td>\n",
       "    </tr>\n",
       "  </tbody>\n",
       "</table>\n",
       "</div>"
      ],
      "text/plain": [
       "        date  ordersCummulativeA  revenueCummulativeA\n",
       "0 2019-08-01                  24               148579\n",
       "1 2019-08-02                  44               242401\n",
       "2 2019-08-03                  68               354874\n",
       "3 2019-08-04                  84               425699\n",
       "4 2019-08-05                 109               549917"
      ]
     },
     "execution_count": 34,
     "metadata": {},
     "output_type": "execute_result"
    }
   ],
   "source": [
    "# количество заказов по дням суммарное(до выбранной даты)\n",
    "ordersACummulative = ordersADaily.apply(lambda x: ordersADaily[ordersADaily['date'] <= x['date']]\n",
    "                                        .agg({'date': 'max', 'ordersPerDateA': 'sum', 'revenuePerDateA': 'sum'}),axis=1,).sort_values(by=['date'])\n",
    "ordersACummulative.columns = ['date','ordersCummulativeA','revenueCummulativeA',]\n",
    "\n",
    "ordersBCummulative = ordersBDaily.apply(lambda x: ordersBDaily[ordersBDaily['date'] <= x['date']]\n",
    "                                        .agg({'date': 'max', 'ordersPerDateB': 'sum', 'revenuePerDateB': 'sum'}),axis=1,).sort_values(by=['date'])\n",
    "ordersBCummulative.columns = ['date','ordersCummulativeB','revenueCummulativeB',]\n",
    "ordersACummulative.head()"
   ]
  },
  {
   "cell_type": "code",
   "execution_count": 35,
   "metadata": {},
   "outputs": [
    {
     "data": {
      "text/html": [
       "<div>\n",
       "<style scoped>\n",
       "    .dataframe tbody tr th:only-of-type {\n",
       "        vertical-align: middle;\n",
       "    }\n",
       "\n",
       "    .dataframe tbody tr th {\n",
       "        vertical-align: top;\n",
       "    }\n",
       "\n",
       "    .dataframe thead th {\n",
       "        text-align: right;\n",
       "    }\n",
       "</style>\n",
       "<table border=\"1\" class=\"dataframe\">\n",
       "  <thead>\n",
       "    <tr style=\"text-align: right;\">\n",
       "      <th></th>\n",
       "      <th>date</th>\n",
       "      <th>ordersPerDateA</th>\n",
       "      <th>revenuePerDateA</th>\n",
       "      <th>ordersPerDateB</th>\n",
       "      <th>revenuePerDateB</th>\n",
       "      <th>ordersCummulativeA</th>\n",
       "      <th>revenueCummulativeA</th>\n",
       "      <th>ordersCummulativeB</th>\n",
       "      <th>revenueCummulativeB</th>\n",
       "      <th>visitorsPerDateA</th>\n",
       "      <th>visitorsPerDateB</th>\n",
       "      <th>visitorsCummulativeA</th>\n",
       "      <th>visitorsCummulativeB</th>\n",
       "    </tr>\n",
       "  </thead>\n",
       "  <tbody>\n",
       "    <tr>\n",
       "      <td>0</td>\n",
       "      <td>2019-08-01</td>\n",
       "      <td>24</td>\n",
       "      <td>148579</td>\n",
       "      <td>21</td>\n",
       "      <td>101217</td>\n",
       "      <td>24</td>\n",
       "      <td>148579</td>\n",
       "      <td>21</td>\n",
       "      <td>101217</td>\n",
       "      <td>719</td>\n",
       "      <td>713</td>\n",
       "      <td>719</td>\n",
       "      <td>713</td>\n",
       "    </tr>\n",
       "    <tr>\n",
       "      <td>1</td>\n",
       "      <td>2019-08-02</td>\n",
       "      <td>20</td>\n",
       "      <td>93822</td>\n",
       "      <td>24</td>\n",
       "      <td>165531</td>\n",
       "      <td>44</td>\n",
       "      <td>242401</td>\n",
       "      <td>45</td>\n",
       "      <td>266748</td>\n",
       "      <td>619</td>\n",
       "      <td>581</td>\n",
       "      <td>1338</td>\n",
       "      <td>1294</td>\n",
       "    </tr>\n",
       "    <tr>\n",
       "      <td>2</td>\n",
       "      <td>2019-08-03</td>\n",
       "      <td>24</td>\n",
       "      <td>112473</td>\n",
       "      <td>16</td>\n",
       "      <td>114248</td>\n",
       "      <td>68</td>\n",
       "      <td>354874</td>\n",
       "      <td>61</td>\n",
       "      <td>380996</td>\n",
       "      <td>507</td>\n",
       "      <td>509</td>\n",
       "      <td>1845</td>\n",
       "      <td>1803</td>\n",
       "    </tr>\n",
       "    <tr>\n",
       "      <td>3</td>\n",
       "      <td>2019-08-04</td>\n",
       "      <td>16</td>\n",
       "      <td>70825</td>\n",
       "      <td>17</td>\n",
       "      <td>108571</td>\n",
       "      <td>84</td>\n",
       "      <td>425699</td>\n",
       "      <td>78</td>\n",
       "      <td>489567</td>\n",
       "      <td>717</td>\n",
       "      <td>770</td>\n",
       "      <td>2562</td>\n",
       "      <td>2573</td>\n",
       "    </tr>\n",
       "    <tr>\n",
       "      <td>4</td>\n",
       "      <td>2019-08-05</td>\n",
       "      <td>25</td>\n",
       "      <td>124218</td>\n",
       "      <td>23</td>\n",
       "      <td>92428</td>\n",
       "      <td>109</td>\n",
       "      <td>549917</td>\n",
       "      <td>101</td>\n",
       "      <td>581995</td>\n",
       "      <td>756</td>\n",
       "      <td>707</td>\n",
       "      <td>3318</td>\n",
       "      <td>3280</td>\n",
       "    </tr>\n",
       "  </tbody>\n",
       "</table>\n",
       "</div>"
      ],
      "text/plain": [
       "        date  ordersPerDateA  revenuePerDateA  ordersPerDateB  \\\n",
       "0 2019-08-01              24           148579              21   \n",
       "1 2019-08-02              20            93822              24   \n",
       "2 2019-08-03              24           112473              16   \n",
       "3 2019-08-04              16            70825              17   \n",
       "4 2019-08-05              25           124218              23   \n",
       "\n",
       "   revenuePerDateB  ordersCummulativeA  revenueCummulativeA  \\\n",
       "0           101217                  24               148579   \n",
       "1           165531                  44               242401   \n",
       "2           114248                  68               354874   \n",
       "3           108571                  84               425699   \n",
       "4            92428                 109               549917   \n",
       "\n",
       "   ordersCummulativeB  revenueCummulativeB  visitorsPerDateA  \\\n",
       "0                  21               101217               719   \n",
       "1                  45               266748               619   \n",
       "2                  61               380996               507   \n",
       "3                  78               489567               717   \n",
       "4                 101               581995               756   \n",
       "\n",
       "   visitorsPerDateB  visitorsCummulativeA  visitorsCummulativeB  \n",
       "0               713                   719                   713  \n",
       "1               581                  1338                  1294  \n",
       "2               509                  1845                  1803  \n",
       "3               770                  2562                  2573  \n",
       "4               707                  3318                  3280  "
      ]
     },
     "execution_count": 35,
     "metadata": {},
     "output_type": "execute_result"
    }
   ],
   "source": [
    "# Объединим все эти данные в одну таблицу\n",
    "data = (\n",
    "    ordersADaily.merge(\n",
    "        ordersBDaily, left_on='date', right_on='date', how='left'\n",
    "    )\n",
    "    .merge(ordersACummulative, left_on='date', right_on='date', how='left')\n",
    "    .merge(ordersBCummulative, left_on='date', right_on='date', how='left')\n",
    "    .merge(visitorsADaily, left_on='date', right_on='date', how='left')\n",
    "    .merge(visitorsBDaily, left_on='date', right_on='date', how='left')\n",
    "    .merge(visitorsACummulative, left_on='date', right_on='date', how='left')\n",
    "    .merge(visitorsBCummulative, left_on='date', right_on='date', how='left')\n",
    ")\n",
    "\n",
    "data.head(5)"
   ]
  },
  {
   "cell_type": "markdown",
   "metadata": {},
   "source": [
    "**Статистическая значимость различий в конверсии между группами по «сырым» данным**<a id='step_10'></a>"
   ]
  },
  {
   "cell_type": "code",
   "execution_count": 36,
   "metadata": {},
   "outputs": [],
   "source": [
    "# пользователи, которые хотя бы раз совершали покупки по группам\n",
    "ordersByUsersA = (orders[orders['group'] == 'A']\n",
    "    .groupby('visitorId', as_index=False)\n",
    "    .agg({'transactionId': pd.Series.nunique}))\n",
    "\n",
    "ordersByUsersA.columns = ['visitorId', 'transactions']\n",
    "\n",
    "ordersByUsersB = (orders[orders['group'] == 'B']\n",
    "    .groupby('visitorId', as_index=False)\n",
    "    .agg({'transactionId': pd.Series.nunique}))\n",
    "\n",
    "ordersByUsersB.columns = ['visitorId', 'transactions'] "
   ]
  },
  {
   "cell_type": "code",
   "execution_count": 37,
   "metadata": {},
   "outputs": [],
   "source": [
    "# Последовательности состоящие из количества заказов пользователей, совершавших покупки,и нулей для пользователей,\n",
    "# которые не совершили ни одной покупки.\n",
    "sampleA = pd.concat([ordersByUsersA['transactions'],pd.Series(0, index=np.arange(data['visitorsPerDateA']\n",
    "                                                                           .sum() - len(ordersByUsersA['transactions'])), name='transactions')],axis=0)\n",
    "\n",
    "sampleB = pd.concat([ordersByUsersB['transactions'],pd.Series(0, index=np.arange(data['visitorsPerDateB']\n",
    "                                                                           .sum() - len(ordersByUsersB['transactions'])), name='transactions')],axis=0)\n",
    "\n"
   ]
  },
  {
   "cell_type": "markdown",
   "metadata": {},
   "source": [
    "\n",
    "Примем за нулевую гипотезу:статисчтически значимых различий между группами нет."
   ]
  },
  {
   "cell_type": "code",
   "execution_count": 38,
   "metadata": {},
   "outputs": [
    {
     "name": "stdout",
     "output_type": "stream",
     "text": [
      "0.008\n",
      "Отвергаем нулевую гипотезу, статистически значимые различия между группами есть\n",
      "Относительный выигрыш группы B: 13.8%\n"
     ]
    }
   ],
   "source": [
    "print(\"{0:.3f}\".format(stats.mannwhitneyu(sampleA, sampleB)[1]))\n",
    "p_value_raw = stats.mannwhitneyu(sampleA, sampleB)[1]\n",
    "if p_value_raw < 0.05:\n",
    "    print('Отвергаем нулевую гипотезу, статистически значимые различия между группами есть')\n",
    "else:\n",
    "    print('Не отвергаем нулевую гипотезу о том, что статистически значимых различий в конверсии между группами нет')\n",
    "          \n",
    "print('Относительный выигрыш группы B:',\"{0:.1%}\".format(sampleB.mean() / sampleA.mean() - 1))          \n",
    "          "
   ]
  },
  {
   "cell_type": "markdown",
   "metadata": {},
   "source": [
    "Различия между группами А и В есть. Это доказал критерий Манна-Уитни и отношении средней конверсии группы В к А."
   ]
  },
  {
   "cell_type": "markdown",
   "metadata": {},
   "source": [
    "**Статистическая значимость различий в среднем чеке между группами по «сырым» данным**<a id='step_11'></a>"
   ]
  },
  {
   "cell_type": "code",
   "execution_count": 39,
   "metadata": {},
   "outputs": [
    {
     "name": "stdout",
     "output_type": "stream",
     "text": [
      "0.3646454927716229\n",
      "Не отвергаем нулевую гипотезу о том, что статистически значимых различий в конверсии между группами нет\n",
      "Относительный выигрыш группы B: 25.9%\n"
     ]
    }
   ],
   "source": [
    "p_value_raw_rev = stats.mannwhitneyu(orders[orders['group']=='A']['revenue'], orders[orders['group']=='B']['revenue'])[1]\n",
    "print(p_value_raw_rev)\n",
    "if p_value_raw_rev < 0.05:\n",
    "    print('Отвергаем нулевую гипотезу, статистически значимые различия между группами есть')\n",
    "else:\n",
    "    print('Не отвергаем нулевую гипотезу о том, что статистически значимых различий в конверсии между группами нет')\n",
    "    \n",
    "print('Относительный выигрыш группы B:','{0:.1%}'.format(orders[orders['group']=='B']['revenue'].mean()/orders[orders['group']=='A']['revenue'].mean()-1))     "
   ]
  },
  {
   "cell_type": "markdown",
   "metadata": {},
   "source": [
    "По сырым данным статистически значимых различий между чеками нет. Хотя отношение средних чеков говорит об обратном: средний чек группы В значительно выше. Это мы могли видеть на графиках выше."
   ]
  },
  {
   "cell_type": "markdown",
   "metadata": {},
   "source": [
    "**Очистка данных**"
   ]
  },
  {
   "cell_type": "markdown",
   "metadata": {},
   "source": [
    "Аномальными мы посчитали пользователей, которые делают больше 4-х заказов, а аномальная стоимость заказа - более 28000."
   ]
  },
  {
   "cell_type": "code",
   "execution_count": 40,
   "metadata": {},
   "outputs": [
    {
     "name": "stdout",
     "output_type": "stream",
     "text": [
      "Количество аномальных пользователей (59,)\n"
     ]
    }
   ],
   "source": [
    "# Аномальные заказы\n",
    "\n",
    "usersWithManyOrders = pd.concat([ordersByUsersA[ordersByUsersA['transactions'] > 4]['visitorId'],\n",
    "                                 ordersByUsersB[ordersByUsersB['transactions'] > 4]['visitorId'],],axis=0,)\n",
    "\n",
    "usersWithExpensiveOrders = orders[orders['revenue'] > 28000]['visitorId']\n",
    "\n",
    "abnormalUsers = (pd.concat([usersWithManyOrders, usersWithExpensiveOrders], axis=0).drop_duplicates().sort_values())\n",
    "\n",
    "#print(abnormalUsers.head(5))\n",
    "print('Количество аномальных пользователей', abnormalUsers.shape) "
   ]
  },
  {
   "cell_type": "code",
   "execution_count": 41,
   "metadata": {},
   "outputs": [
    {
     "data": {
      "text/plain": [
       "0        1\n",
       "1        1\n",
       "2        1\n",
       "3        1\n",
       "4        1\n",
       "        ..\n",
       "18228    0\n",
       "18229    0\n",
       "18230    0\n",
       "18231    0\n",
       "18232    0\n",
       "Name: transactions, Length: 18703, dtype: int64"
      ]
     },
     "execution_count": 41,
     "metadata": {},
     "output_type": "execute_result"
    }
   ],
   "source": [
    "# Очистка данных от аномальных заказов и пользователей\n",
    "sampleAFiltered = pd.concat([ordersByUsersA[np.logical_not(ordersByUsersA['visitorId'].isin(abnormalUsers))]['transactions'],\n",
    "        pd.Series(0,index=np.arange(data['visitorsPerDateA'].sum() - len(ordersByUsersA['transactions'])),name='transactions',),],axis=0,)\n",
    "\n",
    "sampleBFiltered = pd.concat([ordersByUsersB[np.logical_not(ordersByUsersB['visitorId'].isin(abnormalUsers))]['transactions'],\n",
    "        pd.Series(0,index=np.arange(data['visitorsPerDateB'].sum() - len(ordersByUsersB['transactions'])),name='transactions',),],axis=0,)\n",
    "\n",
    "sampleAFiltered"
   ]
  },
  {
   "cell_type": "markdown",
   "metadata": {},
   "source": [
    "**Статистическая значимость различий в конверсии между группами по «очищенным» данным**<a id='step_12'></a>"
   ]
  },
  {
   "cell_type": "code",
   "execution_count": 42,
   "metadata": {},
   "outputs": [
    {
     "name": "stdout",
     "output_type": "stream",
     "text": [
      "0.009228541744275084\n",
      "Отвергаем нулевую гипотезу, статистически значимые различия между группами есть\n",
      "Относительный выигрыш группы B: 14.5%\n"
     ]
    }
   ],
   "source": [
    "p_value_filtered = stats.mannwhitneyu(sampleAFiltered, sampleBFiltered)[1]\n",
    "print(p_value_filtered)\n",
    "if p_value_filtered < 0.05:\n",
    "    print('Отвергаем нулевую гипотезу, статистически значимые различия между группами есть')\n",
    "else:\n",
    "    print('Не отвергаем нулевую гипотезу о том, что статистически значимых различий в конверсии между группами нет')\n",
    "          \n",
    "print('Относительный выигрыш группы B:',\"{0:.1%}\".format(sampleBFiltered.mean() / sampleAFiltered.mean() - 1))  "
   ]
  },
  {
   "cell_type": "markdown",
   "metadata": {},
   "source": [
    "Результаты по конверсии по очищенным и сырым данным почти не отлиаются. Различия между группами есть."
   ]
  },
  {
   "cell_type": "markdown",
   "metadata": {},
   "source": [
    "**Статистическая значимость различий в среднем чеке между группами по «очищенным» данным**<a id='step_13'></a>"
   ]
  },
  {
   "cell_type": "code",
   "execution_count": 43,
   "metadata": {},
   "outputs": [
    {
     "name": "stdout",
     "output_type": "stream",
     "text": [
      "0.48063712440904605\n",
      "Не отвергаем нулевую гипотезу о том, что статистически значимых различий в конверсии между группами нет\n",
      "Относительный выигрыш группы B: -1.4%\n"
     ]
    }
   ],
   "source": [
    "p_value_filtered_rev = stats.mannwhitneyu(orders[np.logical_and(orders['group'] == 'A',\n",
    "                                                                np.logical_not(orders['visitorId'].isin(abnormalUsers)),)]['revenue'],\n",
    "            orders[np.logical_and(orders['group'] == 'B',np.logical_not(orders['visitorId'].isin(abnormalUsers)),)]['revenue'],)[1]\n",
    "print(p_value_filtered_rev)\n",
    "if p_value_filtered_rev < 0.05:\n",
    "    print('Отвергаем нулевую гипотезу, статистически значимые различия между группами есть')\n",
    "else:\n",
    "    print('Не отвергаем нулевую гипотезу о том, что статистически значимых различий в конверсии между группами нет')\n",
    "    \n",
    "print('Относительный выигрыш группы B:',\"{0:.1%}\".format(\n",
    "        orders[\n",
    "            np.logical_and(\n",
    "                orders['group'] == 'B',\n",
    "                np.logical_not(orders['visitorId'].isin(abnormalUsers)),\n",
    "            )\n",
    "        ]['revenue'].mean()\n",
    "        / orders[\n",
    "            np.logical_and(\n",
    "                orders['group'] == 'A',\n",
    "                np.logical_not(orders['visitorId'].isin(abnormalUsers)),\n",
    "            )\n",
    "        ]['revenue'].mean()\n",
    "        - 1))     "
   ]
  },
  {
   "cell_type": "markdown",
   "metadata": {},
   "source": [
    "<div class=\"alert alert-block alert-success\">\n",
    "<b>Комментарий ревьюера: </b>\n",
    "\n",
    "Кроме того, что результат корректный, так еще и твой код восхитителен! ПОлагаю, ты давно знаешь о РЕР8, но если нет - обязательно обрати внимание ;)\n",
    "\n",
    "</div>\n"
   ]
  },
  {
   "cell_type": "markdown",
   "metadata": {},
   "source": [
    "Статистически зачимых различий между средними чеками группы А и В опять не найдено. И действительно, отношение средних чеков в очищенных данных стало значительно меньше. Отфильтрованные заказы вносили сильный шум."
   ]
  },
  {
   "cell_type": "markdown",
   "metadata": {},
   "source": [
    "### Общий выводы"
   ]
  },
  {
   "cell_type": "markdown",
   "metadata": {},
   "source": [
    "<a id='step_14'></a>"
   ]
  },
  {
   "cell_type": "markdown",
   "metadata": {},
   "source": [
    "    - Есть статистически значимые различия по конверсии между группами по «сырым» и по данным после фильтрации аномалий;\n",
    "    - Нет статистически значимого различия по среднему чеку между группами ни по «сырым», ни по данным после фильтрации аномалий; \n",
    "    - После фильтрации аномалий разница между средним чеком группы А и В сильно уменьшилась;\n",
    "    - График различия конверсии между группами сообщает, что результаты группы B лучше группы A и нет значительной тенденции к ухудшению:\n",
    "    - График различия среднего чека колеблется: он-то и позволил вам найти аномалии. \n",
    "    \n",
    "**Результат А/В теста: признать тест успешным: конверсия группы В значительно на 10-15% выше, чем конверсия группы А.**"
   ]
  },
  {
   "cell_type": "markdown",
   "metadata": {},
   "source": [
    " Результат А/В теста: признать тест успешным: конверсия группы В значительно на 10-15% выше, чем конверсия группы А. Тест можно завершить, так как график конверсии устоялся и имеет предсказуемые тенденции."
   ]
  },
  {
   "cell_type": "code",
   "execution_count": null,
   "metadata": {},
   "outputs": [],
   "source": []
  }
 ],
 "metadata": {
  "ExecuteTimeLog": [
   {
    "duration": 540,
    "start_time": "2021-08-01T12:29:36.298Z"
   },
   {
    "duration": 276,
    "start_time": "2021-08-01T12:29:36.840Z"
   },
   {
    "duration": -23,
    "start_time": "2021-08-01T12:29:37.141Z"
   },
   {
    "duration": -26,
    "start_time": "2021-08-01T12:29:37.145Z"
   },
   {
    "duration": -28,
    "start_time": "2021-08-01T12:29:37.148Z"
   },
   {
    "duration": -28,
    "start_time": "2021-08-01T12:29:37.149Z"
   },
   {
    "duration": -30,
    "start_time": "2021-08-01T12:29:37.152Z"
   },
   {
    "duration": -34,
    "start_time": "2021-08-01T12:29:37.157Z"
   },
   {
    "duration": -36,
    "start_time": "2021-08-01T12:29:37.160Z"
   },
   {
    "duration": -37,
    "start_time": "2021-08-01T12:29:37.162Z"
   },
   {
    "duration": -38,
    "start_time": "2021-08-01T12:29:37.164Z"
   },
   {
    "duration": -40,
    "start_time": "2021-08-01T12:29:37.166Z"
   },
   {
    "duration": -41,
    "start_time": "2021-08-01T12:29:37.168Z"
   },
   {
    "duration": -46,
    "start_time": "2021-08-01T12:29:37.174Z"
   },
   {
    "duration": -52,
    "start_time": "2021-08-01T12:29:37.181Z"
   },
   {
    "duration": -53,
    "start_time": "2021-08-01T12:29:37.183Z"
   },
   {
    "duration": -53,
    "start_time": "2021-08-01T12:29:37.184Z"
   },
   {
    "duration": -54,
    "start_time": "2021-08-01T12:29:37.186Z"
   },
   {
    "duration": -56,
    "start_time": "2021-08-01T12:29:37.189Z"
   },
   {
    "duration": -56,
    "start_time": "2021-08-01T12:29:37.190Z"
   },
   {
    "duration": -61,
    "start_time": "2021-08-01T12:29:37.196Z"
   },
   {
    "duration": -65,
    "start_time": "2021-08-01T12:29:37.201Z"
   },
   {
    "duration": -66,
    "start_time": "2021-08-01T12:29:37.203Z"
   },
   {
    "duration": -68,
    "start_time": "2021-08-01T12:29:37.205Z"
   },
   {
    "duration": -70,
    "start_time": "2021-08-01T12:29:37.208Z"
   },
   {
    "duration": -74,
    "start_time": "2021-08-01T12:29:37.213Z"
   },
   {
    "duration": -74,
    "start_time": "2021-08-01T12:29:37.214Z"
   },
   {
    "duration": -75,
    "start_time": "2021-08-01T12:29:37.216Z"
   },
   {
    "duration": -75,
    "start_time": "2021-08-01T12:29:37.217Z"
   },
   {
    "duration": -75,
    "start_time": "2021-08-01T12:29:37.218Z"
   },
   {
    "duration": -75,
    "start_time": "2021-08-01T12:29:37.219Z"
   },
   {
    "duration": -76,
    "start_time": "2021-08-01T12:29:37.221Z"
   },
   {
    "duration": -76,
    "start_time": "2021-08-01T12:29:37.222Z"
   },
   {
    "duration": -76,
    "start_time": "2021-08-01T12:29:37.223Z"
   },
   {
    "duration": -84,
    "start_time": "2021-08-01T12:29:37.232Z"
   },
   {
    "duration": -85,
    "start_time": "2021-08-01T12:29:37.234Z"
   },
   {
    "duration": -86,
    "start_time": "2021-08-01T12:29:37.235Z"
   },
   {
    "duration": -87,
    "start_time": "2021-08-01T12:29:37.237Z"
   },
   {
    "duration": -87,
    "start_time": "2021-08-01T12:29:37.238Z"
   },
   {
    "duration": -88,
    "start_time": "2021-08-01T12:29:37.240Z"
   },
   {
    "duration": -90,
    "start_time": "2021-08-01T12:29:37.243Z"
   },
   {
    "duration": -97,
    "start_time": "2021-08-01T12:29:37.251Z"
   },
   {
    "duration": -98,
    "start_time": "2021-08-01T12:29:37.253Z"
   },
   {
    "duration": 904,
    "start_time": "2021-08-01T12:30:22.922Z"
   },
   {
    "duration": 59,
    "start_time": "2021-08-01T12:30:23.828Z"
   },
   {
    "duration": 15,
    "start_time": "2021-08-01T12:30:23.891Z"
   },
   {
    "duration": 17,
    "start_time": "2021-08-01T12:30:23.908Z"
   },
   {
    "duration": 25,
    "start_time": "2021-08-01T12:30:23.927Z"
   },
   {
    "duration": 11,
    "start_time": "2021-08-01T12:30:23.953Z"
   },
   {
    "duration": 1086,
    "start_time": "2021-08-01T12:30:23.967Z"
   },
   {
    "duration": -41,
    "start_time": "2021-08-01T12:30:25.097Z"
   },
   {
    "duration": -42,
    "start_time": "2021-08-01T12:30:25.099Z"
   },
   {
    "duration": -45,
    "start_time": "2021-08-01T12:30:25.103Z"
   },
   {
    "duration": -47,
    "start_time": "2021-08-01T12:30:25.105Z"
   },
   {
    "duration": -47,
    "start_time": "2021-08-01T12:30:25.106Z"
   },
   {
    "duration": -48,
    "start_time": "2021-08-01T12:30:25.108Z"
   },
   {
    "duration": -49,
    "start_time": "2021-08-01T12:30:25.110Z"
   },
   {
    "duration": -50,
    "start_time": "2021-08-01T12:30:25.111Z"
   },
   {
    "duration": -52,
    "start_time": "2021-08-01T12:30:25.114Z"
   },
   {
    "duration": -55,
    "start_time": "2021-08-01T12:30:25.118Z"
   },
   {
    "duration": -55,
    "start_time": "2021-08-01T12:30:25.119Z"
   },
   {
    "duration": -57,
    "start_time": "2021-08-01T12:30:25.121Z"
   },
   {
    "duration": -58,
    "start_time": "2021-08-01T12:30:25.123Z"
   },
   {
    "duration": -59,
    "start_time": "2021-08-01T12:30:25.125Z"
   },
   {
    "duration": -60,
    "start_time": "2021-08-01T12:30:25.127Z"
   },
   {
    "duration": -61,
    "start_time": "2021-08-01T12:30:25.129Z"
   },
   {
    "duration": -62,
    "start_time": "2021-08-01T12:30:25.131Z"
   },
   {
    "duration": -62,
    "start_time": "2021-08-01T12:30:25.132Z"
   },
   {
    "duration": -63,
    "start_time": "2021-08-01T12:30:25.134Z"
   },
   {
    "duration": -64,
    "start_time": "2021-08-01T12:30:25.135Z"
   },
   {
    "duration": -65,
    "start_time": "2021-08-01T12:30:25.137Z"
   },
   {
    "duration": -65,
    "start_time": "2021-08-01T12:30:25.138Z"
   },
   {
    "duration": -65,
    "start_time": "2021-08-01T12:30:25.139Z"
   },
   {
    "duration": -66,
    "start_time": "2021-08-01T12:30:25.141Z"
   },
   {
    "duration": -67,
    "start_time": "2021-08-01T12:30:25.142Z"
   },
   {
    "duration": -67,
    "start_time": "2021-08-01T12:30:25.143Z"
   },
   {
    "duration": -67,
    "start_time": "2021-08-01T12:30:25.144Z"
   },
   {
    "duration": -68,
    "start_time": "2021-08-01T12:30:25.146Z"
   },
   {
    "duration": -68,
    "start_time": "2021-08-01T12:30:25.147Z"
   },
   {
    "duration": -69,
    "start_time": "2021-08-01T12:30:25.148Z"
   },
   {
    "duration": -78,
    "start_time": "2021-08-01T12:30:25.158Z"
   },
   {
    "duration": -79,
    "start_time": "2021-08-01T12:30:25.160Z"
   },
   {
    "duration": -79,
    "start_time": "2021-08-01T12:30:25.161Z"
   },
   {
    "duration": -80,
    "start_time": "2021-08-01T12:30:25.163Z"
   },
   {
    "duration": -80,
    "start_time": "2021-08-01T12:30:25.164Z"
   },
   {
    "duration": -81,
    "start_time": "2021-08-01T12:30:25.165Z"
   },
   {
    "duration": 3,
    "start_time": "2021-08-01T12:32:25.038Z"
   },
   {
    "duration": 883,
    "start_time": "2021-08-01T12:32:31.429Z"
   },
   {
    "duration": 58,
    "start_time": "2021-08-01T12:32:32.314Z"
   },
   {
    "duration": 12,
    "start_time": "2021-08-01T12:32:32.374Z"
   },
   {
    "duration": 8,
    "start_time": "2021-08-01T12:32:32.388Z"
   },
   {
    "duration": 10,
    "start_time": "2021-08-01T12:32:32.398Z"
   },
   {
    "duration": 7,
    "start_time": "2021-08-01T12:32:32.409Z"
   },
   {
    "duration": 1068,
    "start_time": "2021-08-01T12:32:32.418Z"
   },
   {
    "duration": -74,
    "start_time": "2021-08-01T12:32:33.562Z"
   },
   {
    "duration": -75,
    "start_time": "2021-08-01T12:32:33.565Z"
   },
   {
    "duration": -76,
    "start_time": "2021-08-01T12:32:33.567Z"
   },
   {
    "duration": -76,
    "start_time": "2021-08-01T12:32:33.568Z"
   },
   {
    "duration": -75,
    "start_time": "2021-08-01T12:32:33.569Z"
   },
   {
    "duration": -76,
    "start_time": "2021-08-01T12:32:33.571Z"
   },
   {
    "duration": -75,
    "start_time": "2021-08-01T12:32:33.572Z"
   },
   {
    "duration": -75,
    "start_time": "2021-08-01T12:32:33.573Z"
   },
   {
    "duration": -75,
    "start_time": "2021-08-01T12:32:33.575Z"
   },
   {
    "duration": -75,
    "start_time": "2021-08-01T12:32:33.576Z"
   },
   {
    "duration": -75,
    "start_time": "2021-08-01T12:32:33.578Z"
   },
   {
    "duration": -77,
    "start_time": "2021-08-01T12:32:33.581Z"
   },
   {
    "duration": -81,
    "start_time": "2021-08-01T12:32:33.586Z"
   },
   {
    "duration": -81,
    "start_time": "2021-08-01T12:32:33.587Z"
   },
   {
    "duration": -82,
    "start_time": "2021-08-01T12:32:33.589Z"
   },
   {
    "duration": -82,
    "start_time": "2021-08-01T12:32:33.590Z"
   },
   {
    "duration": -81,
    "start_time": "2021-08-01T12:32:33.591Z"
   },
   {
    "duration": -82,
    "start_time": "2021-08-01T12:32:33.593Z"
   },
   {
    "duration": -82,
    "start_time": "2021-08-01T12:32:33.594Z"
   },
   {
    "duration": -81,
    "start_time": "2021-08-01T12:32:33.595Z"
   },
   {
    "duration": -87,
    "start_time": "2021-08-01T12:32:33.602Z"
   },
   {
    "duration": -87,
    "start_time": "2021-08-01T12:32:33.603Z"
   },
   {
    "duration": -88,
    "start_time": "2021-08-01T12:32:33.605Z"
   },
   {
    "duration": -92,
    "start_time": "2021-08-01T12:32:33.609Z"
   },
   {
    "duration": -94,
    "start_time": "2021-08-01T12:32:33.613Z"
   },
   {
    "duration": -95,
    "start_time": "2021-08-01T12:32:33.614Z"
   },
   {
    "duration": -95,
    "start_time": "2021-08-01T12:32:33.615Z"
   },
   {
    "duration": -96,
    "start_time": "2021-08-01T12:32:33.617Z"
   },
   {
    "duration": -96,
    "start_time": "2021-08-01T12:32:33.618Z"
   },
   {
    "duration": -96,
    "start_time": "2021-08-01T12:32:33.619Z"
   },
   {
    "duration": -96,
    "start_time": "2021-08-01T12:32:33.620Z"
   },
   {
    "duration": -97,
    "start_time": "2021-08-01T12:32:33.622Z"
   },
   {
    "duration": -97,
    "start_time": "2021-08-01T12:32:33.623Z"
   },
   {
    "duration": -97,
    "start_time": "2021-08-01T12:32:33.624Z"
   },
   {
    "duration": -97,
    "start_time": "2021-08-01T12:32:33.625Z"
   },
   {
    "duration": -97,
    "start_time": "2021-08-01T12:32:33.626Z"
   },
   {
    "duration": 864,
    "start_time": "2021-08-01T12:53:55.308Z"
   },
   {
    "duration": 60,
    "start_time": "2021-08-01T12:53:56.174Z"
   },
   {
    "duration": 12,
    "start_time": "2021-08-01T12:53:56.236Z"
   },
   {
    "duration": 5,
    "start_time": "2021-08-01T12:53:56.250Z"
   },
   {
    "duration": 8,
    "start_time": "2021-08-01T12:53:56.256Z"
   },
   {
    "duration": 9,
    "start_time": "2021-08-01T12:53:56.266Z"
   },
   {
    "duration": 16,
    "start_time": "2021-08-01T12:53:56.276Z"
   },
   {
    "duration": 12,
    "start_time": "2021-08-01T12:53:56.294Z"
   },
   {
    "duration": 8,
    "start_time": "2021-08-01T12:53:56.308Z"
   },
   {
    "duration": 8,
    "start_time": "2021-08-01T12:53:56.318Z"
   },
   {
    "duration": 15,
    "start_time": "2021-08-01T12:53:56.328Z"
   },
   {
    "duration": 13,
    "start_time": "2021-08-01T12:53:56.345Z"
   },
   {
    "duration": 31,
    "start_time": "2021-08-01T12:53:56.360Z"
   },
   {
    "duration": 673,
    "start_time": "2021-08-01T12:53:56.393Z"
   },
   {
    "duration": -20,
    "start_time": "2021-08-01T12:53:57.089Z"
   },
   {
    "duration": -21,
    "start_time": "2021-08-01T12:53:57.091Z"
   },
   {
    "duration": -28,
    "start_time": "2021-08-01T12:53:57.098Z"
   },
   {
    "duration": -30,
    "start_time": "2021-08-01T12:53:57.101Z"
   },
   {
    "duration": -30,
    "start_time": "2021-08-01T12:53:57.102Z"
   },
   {
    "duration": -30,
    "start_time": "2021-08-01T12:53:57.103Z"
   },
   {
    "duration": -31,
    "start_time": "2021-08-01T12:53:57.105Z"
   },
   {
    "duration": -31,
    "start_time": "2021-08-01T12:53:57.106Z"
   },
   {
    "duration": -32,
    "start_time": "2021-08-01T12:53:57.107Z"
   },
   {
    "duration": -33,
    "start_time": "2021-08-01T12:53:57.109Z"
   },
   {
    "duration": -38,
    "start_time": "2021-08-01T12:53:57.115Z"
   },
   {
    "duration": -39,
    "start_time": "2021-08-01T12:53:57.117Z"
   },
   {
    "duration": -39,
    "start_time": "2021-08-01T12:53:57.118Z"
   },
   {
    "duration": -40,
    "start_time": "2021-08-01T12:53:57.119Z"
   },
   {
    "duration": -40,
    "start_time": "2021-08-01T12:53:57.120Z"
   },
   {
    "duration": -42,
    "start_time": "2021-08-01T12:53:57.122Z"
   },
   {
    "duration": -43,
    "start_time": "2021-08-01T12:53:57.124Z"
   },
   {
    "duration": -44,
    "start_time": "2021-08-01T12:53:57.125Z"
   },
   {
    "duration": -51,
    "start_time": "2021-08-01T12:53:57.133Z"
   },
   {
    "duration": -44,
    "start_time": "2021-08-01T12:53:57.135Z"
   },
   {
    "duration": -44,
    "start_time": "2021-08-01T12:53:57.136Z"
   },
   {
    "duration": -46,
    "start_time": "2021-08-01T12:53:57.138Z"
   },
   {
    "duration": -46,
    "start_time": "2021-08-01T12:53:57.139Z"
   },
   {
    "duration": -48,
    "start_time": "2021-08-01T12:53:57.142Z"
   },
   {
    "duration": -48,
    "start_time": "2021-08-01T12:53:57.143Z"
   },
   {
    "duration": -51,
    "start_time": "2021-08-01T12:53:57.147Z"
   },
   {
    "duration": -52,
    "start_time": "2021-08-01T12:53:57.149Z"
   },
   {
    "duration": -51,
    "start_time": "2021-08-01T12:53:57.150Z"
   },
   {
    "duration": -51,
    "start_time": "2021-08-01T12:53:57.151Z"
   },
   {
    "duration": 1307,
    "start_time": "2021-08-01T12:54:30.025Z"
   },
   {
    "duration": 58,
    "start_time": "2021-08-01T12:54:31.334Z"
   },
   {
    "duration": 11,
    "start_time": "2021-08-01T12:54:31.394Z"
   },
   {
    "duration": 7,
    "start_time": "2021-08-01T12:54:31.407Z"
   },
   {
    "duration": 12,
    "start_time": "2021-08-01T12:54:31.416Z"
   },
   {
    "duration": 6,
    "start_time": "2021-08-01T12:54:31.430Z"
   },
   {
    "duration": 12,
    "start_time": "2021-08-01T12:54:31.438Z"
   },
   {
    "duration": 14,
    "start_time": "2021-08-01T12:54:31.453Z"
   },
   {
    "duration": 23,
    "start_time": "2021-08-01T12:54:31.469Z"
   },
   {
    "duration": 15,
    "start_time": "2021-08-01T12:54:31.494Z"
   },
   {
    "duration": 20,
    "start_time": "2021-08-01T12:54:31.511Z"
   },
   {
    "duration": 16,
    "start_time": "2021-08-01T12:54:31.533Z"
   },
   {
    "duration": 16,
    "start_time": "2021-08-01T12:54:31.551Z"
   },
   {
    "duration": 277,
    "start_time": "2021-08-01T12:54:31.569Z"
   },
   {
    "duration": 5,
    "start_time": "2021-08-01T12:54:31.848Z"
   },
   {
    "duration": 444,
    "start_time": "2021-08-01T12:54:31.855Z"
   },
   {
    "duration": -44,
    "start_time": "2021-08-01T12:54:32.345Z"
   },
   {
    "duration": -45,
    "start_time": "2021-08-01T12:54:32.347Z"
   },
   {
    "duration": -47,
    "start_time": "2021-08-01T12:54:32.349Z"
   },
   {
    "duration": -48,
    "start_time": "2021-08-01T12:54:32.351Z"
   },
   {
    "duration": -49,
    "start_time": "2021-08-01T12:54:32.353Z"
   },
   {
    "duration": -50,
    "start_time": "2021-08-01T12:54:32.355Z"
   },
   {
    "duration": -50,
    "start_time": "2021-08-01T12:54:32.356Z"
   },
   {
    "duration": -51,
    "start_time": "2021-08-01T12:54:32.358Z"
   },
   {
    "duration": -52,
    "start_time": "2021-08-01T12:54:32.360Z"
   },
   {
    "duration": -55,
    "start_time": "2021-08-01T12:54:32.363Z"
   },
   {
    "duration": -64,
    "start_time": "2021-08-01T12:54:32.373Z"
   },
   {
    "duration": -66,
    "start_time": "2021-08-01T12:54:32.376Z"
   },
   {
    "duration": -67,
    "start_time": "2021-08-01T12:54:32.378Z"
   },
   {
    "duration": -67,
    "start_time": "2021-08-01T12:54:32.379Z"
   },
   {
    "duration": -68,
    "start_time": "2021-08-01T12:54:32.381Z"
   },
   {
    "duration": -68,
    "start_time": "2021-08-01T12:54:32.382Z"
   },
   {
    "duration": -69,
    "start_time": "2021-08-01T12:54:32.383Z"
   },
   {
    "duration": -70,
    "start_time": "2021-08-01T12:54:32.385Z"
   },
   {
    "duration": -70,
    "start_time": "2021-08-01T12:54:32.386Z"
   },
   {
    "duration": -70,
    "start_time": "2021-08-01T12:54:32.387Z"
   },
   {
    "duration": -71,
    "start_time": "2021-08-01T12:54:32.389Z"
   },
   {
    "duration": -73,
    "start_time": "2021-08-01T12:54:32.391Z"
   },
   {
    "duration": -79,
    "start_time": "2021-08-01T12:54:32.398Z"
   },
   {
    "duration": -82,
    "start_time": "2021-08-01T12:54:32.402Z"
   },
   {
    "duration": -82,
    "start_time": "2021-08-01T12:54:32.403Z"
   },
   {
    "duration": -82,
    "start_time": "2021-08-01T12:54:32.404Z"
   },
   {
    "duration": -83,
    "start_time": "2021-08-01T12:54:32.406Z"
   },
   {
    "duration": 1043,
    "start_time": "2021-08-01T12:55:08.839Z"
   },
   {
    "duration": 59,
    "start_time": "2021-08-01T12:55:09.884Z"
   },
   {
    "duration": 12,
    "start_time": "2021-08-01T12:55:09.945Z"
   },
   {
    "duration": 12,
    "start_time": "2021-08-01T12:55:09.959Z"
   },
   {
    "duration": 14,
    "start_time": "2021-08-01T12:55:09.973Z"
   },
   {
    "duration": 10,
    "start_time": "2021-08-01T12:55:09.989Z"
   },
   {
    "duration": 17,
    "start_time": "2021-08-01T12:55:10.000Z"
   },
   {
    "duration": 10,
    "start_time": "2021-08-01T12:55:10.019Z"
   },
   {
    "duration": 10,
    "start_time": "2021-08-01T12:55:10.031Z"
   },
   {
    "duration": 12,
    "start_time": "2021-08-01T12:55:10.042Z"
   },
   {
    "duration": 12,
    "start_time": "2021-08-01T12:55:10.055Z"
   },
   {
    "duration": 12,
    "start_time": "2021-08-01T12:55:10.069Z"
   },
   {
    "duration": 10,
    "start_time": "2021-08-01T12:55:10.082Z"
   },
   {
    "duration": 279,
    "start_time": "2021-08-01T12:55:10.093Z"
   },
   {
    "duration": 5,
    "start_time": "2021-08-01T12:55:10.374Z"
   },
   {
    "duration": 203,
    "start_time": "2021-08-01T12:55:10.381Z"
   },
   {
    "duration": 156,
    "start_time": "2021-08-01T12:55:10.590Z"
   },
   {
    "duration": 14,
    "start_time": "2021-08-01T12:55:10.747Z"
   },
   {
    "duration": 6,
    "start_time": "2021-08-01T12:55:10.763Z"
   },
   {
    "duration": 208,
    "start_time": "2021-08-01T12:55:10.771Z"
   },
   {
    "duration": 188,
    "start_time": "2021-08-01T12:55:10.981Z"
   },
   {
    "duration": 372,
    "start_time": "2021-08-01T12:55:11.171Z"
   },
   {
    "duration": 9,
    "start_time": "2021-08-01T12:55:11.547Z"
   },
   {
    "duration": 226,
    "start_time": "2021-08-01T12:55:11.558Z"
   },
   {
    "duration": 323,
    "start_time": "2021-08-01T12:55:11.786Z"
   },
   {
    "duration": 119,
    "start_time": "2021-08-01T12:55:12.110Z"
   },
   {
    "duration": 363,
    "start_time": "2021-08-01T12:55:12.231Z"
   },
   {
    "duration": 4,
    "start_time": "2021-08-01T12:55:12.595Z"
   },
   {
    "duration": 276,
    "start_time": "2021-08-01T12:55:12.600Z"
   },
   {
    "duration": 16,
    "start_time": "2021-08-01T12:55:12.878Z"
   },
   {
    "duration": 12,
    "start_time": "2021-08-01T12:55:12.896Z"
   },
   {
    "duration": 110,
    "start_time": "2021-08-01T12:55:12.910Z"
   },
   {
    "duration": 25,
    "start_time": "2021-08-01T12:55:13.022Z"
   },
   {
    "duration": 122,
    "start_time": "2021-08-01T12:55:13.048Z"
   },
   {
    "duration": 40,
    "start_time": "2021-08-01T12:55:13.171Z"
   },
   {
    "duration": 106,
    "start_time": "2021-08-01T12:55:13.213Z"
   },
   {
    "duration": 5,
    "start_time": "2021-08-01T12:55:13.321Z"
   },
   {
    "duration": 10,
    "start_time": "2021-08-01T12:55:13.328Z"
   },
   {
    "duration": 9,
    "start_time": "2021-08-01T12:55:13.339Z"
   },
   {
    "duration": 8,
    "start_time": "2021-08-01T12:55:13.349Z"
   },
   {
    "duration": 33,
    "start_time": "2021-08-01T12:55:13.359Z"
   },
   {
    "duration": 6,
    "start_time": "2021-08-01T12:55:13.394Z"
   },
   {
    "duration": 13,
    "start_time": "2021-08-01T12:55:13.402Z"
   }
  ],
  "kernelspec": {
   "display_name": "Python 3",
   "language": "python",
   "name": "python3"
  },
  "language_info": {
   "codemirror_mode": {
    "name": "ipython",
    "version": 3
   },
   "file_extension": ".py",
   "mimetype": "text/x-python",
   "name": "python",
   "nbconvert_exporter": "python",
   "pygments_lexer": "ipython3",
   "version": "3.7.8"
  },
  "toc": {
   "base_numbering": 1,
   "nav_menu": {},
   "number_sections": true,
   "sideBar": true,
   "skip_h1_title": true,
   "title_cell": "Table of Contents",
   "title_sidebar": "Contents",
   "toc_cell": false,
   "toc_position": {},
   "toc_section_display": true,
   "toc_window_display": false
  }
 },
 "nbformat": 4,
 "nbformat_minor": 2
}
